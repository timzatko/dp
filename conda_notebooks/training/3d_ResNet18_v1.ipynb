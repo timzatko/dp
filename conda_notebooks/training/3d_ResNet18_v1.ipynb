{
 "cells": [
  {
   "cell_type": "markdown",
   "metadata": {},
   "source": [
    "# 3D ResNet"
   ]
  },
  {
   "cell_type": "markdown",
   "metadata": {},
   "source": [
    "Basic"
   ]
  },
  {
   "cell_type": "code",
   "execution_count": 1,
   "metadata": {},
   "outputs": [],
   "source": [
    "%load_ext autoreload\n",
    "%autoreload 2\n",
    "\n",
    "import sys\n",
    "sys.path.append('../..')\n",
    "\n",
    "import datetime\n",
    "import os\n",
    "os.environ[\"CUDA_VISIBLE_DEVICES\"]=\"0\"\n",
    "\n",
    "import numpy as np\n",
    "\n",
    "from src.data import train_test_split, MRISequence\n",
    "from src.model import create_model, compile_model, load_checkpoint\n",
    "from src.model.training import train\n",
    "from src.model.evaluation import plot_training_history, show_simple_metrics, show_metrics"
   ]
  },
  {
   "cell_type": "code",
   "execution_count": 2,
   "metadata": {},
   "outputs": [
    {
     "name": "stdout",
     "output_type": "stream",
     "text": [
      "2.3.1\n",
      "Num GPUs Available:  1\n"
     ]
    }
   ],
   "source": [
    "import tensorflow as tf\n",
    "\n",
    "RANDOM_SEED = 792379571013149\n",
    "tf.random.set_seed(RANDOM_SEED)\n",
    "\n",
    "print(tf.version.VERSION)\n",
    "print(\"Num GPUs Available: \", len(tf.config.experimental.list_physical_devices('GPU')))"
   ]
  },
  {
   "cell_type": "markdown",
   "metadata": {},
   "source": [
    "## Setup"
   ]
  },
  {
   "cell_type": "code",
   "execution_count": 3,
   "metadata": {},
   "outputs": [
    {
     "name": "stdout",
     "output_type": "stream",
     "text": [
      "not copying files since the destination directory already exists\n",
      "initializing train_seq...\n",
      "initializing test_seq...\n",
      "val_seq = test_seq\n",
      "log_dir: ../../tmp\\logs\\20201216-005033\n",
      "Wall time: 4.93 ms\n"
     ]
    }
   ],
   "source": [
    "%%time\n",
    "\n",
    "ROOT_DIR = '../../tmp'\n",
    "DEFAULT_CHECKPOINT_DIRECTORY_LOCAL = os.path.join(ROOT_DIR, 'checkpoints')\n",
    "DEFAULT_BCKP_CHECKPOINT_DIRECTORY_LOCAL = os.path.join(ROOT_DIR, 'bckp-checkpoints')\n",
    "\n",
    "LOG_DIRECTORY = os.path.join(ROOT_DIR, 'logs')\n",
    "CHECKPOINT_DIRECTORY = DEFAULT_CHECKPOINT_DIRECTORY_LOCAL\n",
    "\n",
    "LOG_DIRECTORY_LOCAL = LOG_DIRECTORY\n",
    "CHECKPOINT_DIRECTORY_LOCAL = CHECKPOINT_DIRECTORY\n",
    "\n",
    "DATA_DIR_NAME = 'data-v3'\n",
    "DATA_DIR = os.path.join(ROOT_DIR, DATA_DIR_NAME)\n",
    "\n",
    "saliencies_and_segmentations_v2_path = os.path.join(ROOT_DIR, 'saliencies_and_segmentations_v2')\n",
    "\n",
    "if not os.path.exists(CHECKPOINT_DIRECTORY):\n",
    "    os.mkdir(CHECKPOINT_DIRECTORY)\n",
    "\n",
    "if not os.path.exists(LOG_DIRECTORY):\n",
    "    os.mkdir(LOG_DIRECTORY)\n",
    "\n",
    "val = False\n",
    "    \n",
    "class_names = ['AD', 'CN']\n",
    "\n",
    "# get paths to data\n",
    "train_dir, test_dir, val_dir = train_test_split(\n",
    "    saliencies_and_segmentations_v2_path, \n",
    "    ROOT_DIR, \n",
    "    split=(0.8, 0.15, 0.05), \n",
    "    dirname=DATA_DIR_NAME)\n",
    "\n",
    "# set the batch size for mri seq\n",
    "batch_size = 12\n",
    "input_shape = (104, 128, 104, 1) # (112, 112, 105, 1)\n",
    "resize_img = True\n",
    "crop_img = True\n",
    "\n",
    "# if y is one-hot encoded or just scalar number\n",
    "one_hot = True\n",
    "\n",
    "# class weights (see analysis notebook)\n",
    "class_weights = {0: 0.8072289156626505, 1: 1.3137254901960784}\n",
    "\n",
    "# description statistics of the dataset\n",
    "desc = {'mean': -3.6344006e-09, 'std': 1.0000092, 'min': -1.4982183, 'max': 10.744175}\n",
    "\n",
    "if 'desc' not in locals():\n",
    "    print('initializing desc...')\n",
    "    desc = get_description(MRISequence(\n",
    "        train_dir,\n",
    "        64,\n",
    "        class_names=class_names,\n",
    "        input_shape=input_shape),\n",
    "        max_samples=None)\n",
    "    print(desc)\n",
    "\n",
    "\n",
    "normalization={ 'type':'normalization', 'desc': desc }\n",
    "# normalization={'type':'standardization', 'desc':desc }\n",
    "\n",
    "augmentations = None\n",
    "augmentations_inplace = True\n",
    "# enable augmentations in mri seq (otherwise it can be enabled in dataset)\n",
    "# augmentations={ 'random_swap_hemispheres': 0.5 }\n",
    "\n",
    "# initialize sequences\n",
    "print('initializing train_seq...')\n",
    "train_seq = MRISequence(\n",
    "    train_dir,\n",
    "    batch_size,\n",
    "    class_names=class_names,\n",
    "    augmentations=augmentations,\n",
    "    augmentations_inplace=augmentations_inplace,\n",
    "    input_shape=input_shape,\n",
    "    resize_img=resize_img,\n",
    "    crop_img=crop_img,\n",
    "    one_hot=one_hot,\n",
    "    class_weights=class_weights,\n",
    "    normalization=normalization)\n",
    "\n",
    "print('initializing test_seq...')\n",
    "test_seq = MRISequence(\n",
    "    test_dir,\n",
    "    batch_size,\n",
    "    class_names=class_names,\n",
    "    input_shape=input_shape,\n",
    "    resize_img=resize_img,\n",
    "    crop_img=crop_img,\n",
    "    one_hot=one_hot,\n",
    "    normalization=normalization)\n",
    "\n",
    "if val:\n",
    "    print('initializing val_seq...')\n",
    "    val_seq = MRISequence(\n",
    "        val_dir,\n",
    "        batch_size,\n",
    "        class_names=class_names,\n",
    "        input_shape=input_shape,\n",
    "        resize_img=resize_img,\n",
    "        crop_img=crop_img,\n",
    "        one_hot=one_hot,\n",
    "        class_weights=class_weights,\n",
    "        normalization=normalization)\n",
    "else:\n",
    "    print('val_seq = test_seq')\n",
    "    val_seq = test_seq\n",
    "    \n",
    "model_key = datetime.datetime.now().strftime('%Y%m%d-%H%M%S')\n",
    "log_dir = os.path.join(LOG_DIRECTORY, model_key)\n",
    "print(f'log_dir: {log_dir}')"
   ]
  },
  {
   "cell_type": "code",
   "execution_count": 4,
   "metadata": {},
   "outputs": [],
   "source": [
    "# https://www.tensorflow.org/tutorials/structured_data/imbalanced_data#class_weights\n",
    "# pos / neg\n",
    "initial_bias = np.log([159/243, 243/159])\n",
    "\n",
    "model_type = 'ResNet18'\n",
    "model_config = {\n",
    "    'input_shape': input_shape,\n",
    "    'class_names': class_names,\n",
    "#     'l2_beta': 0.001,\n",
    "#     'l2_beta': 0.0005,\n",
    "#     'l2_beta': None,\n",
    "#     'dropout': 0.10,\n",
    "#     'dropout': None,\n",
    "    'output_bias': initial_bias,\n",
    "#     'output_bias': None,\n",
    "    # https://www.tensorflow.org/api_docs/python/tf/keras/layers/BatchNormalization\n",
    "    'batch_norm': False,\n",
    "#     'batch_norm': True,\n",
    "}\n",
    "\n",
    "compile_config = {\n",
    "    # default is 0.001\n",
    "#     'learning_rate': 0.000075,\n",
    "    'learning_rate': 0.00025,\n",
    "    'decay_steps': 25,\n",
    "    'decay_rate': 0.96,\n",
    "#     'beta_1': 0.85,\n",
    "    'beta_1': 0.90,\n",
    "#     'beta_2': 0.990,\n",
    "    'beta_2': 0.999,\n",
    "}\n",
    "\n",
    "train_config = {\n",
    "    'model_key': model_key,\n",
    "    'epochs': 200,\n",
    "    'patience': 25,\n",
    "    'tensorboard_update_freq': 'epoch',\n",
    "    'mri_tensorboard_callback': False,\n",
    "    'model_checkpoint_callback': {'monitor': 'val_auc', 'mode': 'max', 'save_best_only': True},\n",
    "    'early_stopping_monitor': {'monitor': 'val_auc', 'mode': 'max'},\n",
    "#     'augmentations': {\n",
    "#         'invert': (0.5, None),\n",
    "#         'rotate': (0.2, 5), # probability, degrees\n",
    "#         'zoom': (0.2, 0.015),\n",
    "#         'shear': (0, 2.5), # probability, degrees\n",
    "#         'blur': (0.2, 0.8),\n",
    "#         'noise': (0.2, 0.00025)\n",
    "#     },\n",
    "    'augmentations': False,\n",
    "    'batch_size': 10,\n",
    "#     'model_checkpoint_callback': False,\n",
    "}"
   ]
  },
  {
   "cell_type": "markdown",
   "metadata": {},
   "source": [
    "## Train"
   ]
  },
  {
   "cell_type": "code",
   "execution_count": 9,
   "metadata": {
    "scrolled": false
   },
   "outputs": [
    {
     "name": "stdout",
     "output_type": "stream",
     "text": [
      "q\n",
      "q\n",
      "make_basic_block_layer 2\n",
      "make_basic_block_layer 2\n",
      "make_basic_block_layer 2\n",
      "make_basic_block_layer 2\n",
      "a\n",
      "Model: \"sequential_30\"\n",
      "_________________________________________________________________\n",
      "Layer (type)                 Output Shape              Param #   \n",
      "=================================================================\n",
      "reshape_2 (Reshape)          (None, 104, 128, 104)     0         \n",
      "_________________________________________________________________\n",
      "my_res_net_3 (MyResNet)      (None, 1024)              12032960  \n",
      "_________________________________________________________________\n",
      "dense_10 (Dense)             (None, 512)               524800    \n",
      "_________________________________________________________________\n",
      "dense_11 (Dense)             (None, 256)               131328    \n",
      "_________________________________________________________________\n",
      "dense_12 (Dense)             (None, 2)                 514       \n",
      "=================================================================\n",
      "Total params: 12,689,602\n",
      "Trainable params: 12,680,002\n",
      "Non-trainable params: 9,600\n",
      "_________________________________________________________________\n"
     ]
    }
   ],
   "source": [
    "model = create_model(model_type, model_config)\n",
    "model, *_ = compile_model(model, **compile_config)\n",
    "model.build(input_shape=input_shape)\n",
    "model.summary()"
   ]
  },
  {
   "cell_type": "code",
   "execution_count": null,
   "metadata": {},
   "outputs": [],
   "source": [
    "# load_checkpoint(model, DEFAULT_CHECKPOINT_DIRECTORY_LOCAL, '20201213-182225', 'cp-0002.ckpt')"
   ]
  },
  {
   "cell_type": "code",
   "execution_count": 10,
   "metadata": {},
   "outputs": [
    {
     "name": "stdout",
     "output_type": "stream",
     "text": [
      "['/device:GPU:0']\n"
     ]
    }
   ],
   "source": [
    "from tensorflow.python.client import device_lib\n",
    "\n",
    "def get_available_gpus():\n",
    "    local_device_protos = device_lib.list_local_devices()\n",
    "    return [x.name for x in local_device_protos if x.device_type == 'GPU']\n",
    "\n",
    "print(get_available_gpus())"
   ]
  },
  {
   "cell_type": "code",
   "execution_count": 11,
   "metadata": {
    "scrolled": false
   },
   "outputs": [
    {
     "name": "stdout",
     "output_type": "stream",
     "text": [
      "model key: 20201216-005033\n",
      "checkpoint dir: ../../tmp\\checkpoints\\20201216-005033\n",
      "log dir: ../../tmp\\logs\\20201216-005033\n",
      "loading ../../tmp\\data-v3\\train_x.npy, ../../tmp\\data-v3\\train_y.npy...\n",
      "loading ../../tmp\\data-v3\\val_x.npy, ../../tmp\\data-v3\\val_y.npy...\n",
      "training...\n",
      "WARNING:tensorflow:Model failed to serialize as JSON. Ignoring... \n",
      "Epoch 1/200\n",
      "41/41 [==============================] - ETA: 0s - loss: 1.0716 - recall: 0.4801 - precision: 0.4801 - auc: 0.4884 - categorical_accuracy: 0.4801\n",
      "Epoch 00001: val_auc improved from -inf to 0.40780, saving model to ../../tmp\\checkpoints\\20201216-005033\\cp-0001.ckpt\n",
      "41/41 [==============================] - 4s 99ms/step - loss: 1.0716 - recall: 0.4801 - precision: 0.4801 - auc: 0.4884 - categorical_accuracy: 0.4801 - val_loss: 0.7620 - val_recall: 0.3800 - val_precision: 0.3800 - val_auc: 0.4078 - val_categorical_accuracy: 0.3800\n",
      "Epoch 2/200\n",
      "41/41 [==============================] - ETA: 0s - loss: 0.6539 - recall: 0.6617 - precision: 0.6617 - auc: 0.7199 - categorical_accuracy: 0.6617\n",
      "Epoch 00002: val_auc improved from 0.40780 to 0.42770, saving model to ../../tmp\\checkpoints\\20201216-005033\\cp-0002.ckpt\n",
      "41/41 [==============================] - 3s 79ms/step - loss: 0.6539 - recall: 0.6617 - precision: 0.6617 - auc: 0.7199 - categorical_accuracy: 0.6617 - val_loss: 0.7993 - val_recall: 0.3800 - val_precision: 0.3800 - val_auc: 0.4277 - val_categorical_accuracy: 0.3800\n",
      "Epoch 3/200\n",
      "41/41 [==============================] - ETA: 0s - loss: 0.6602 - recall: 0.6592 - precision: 0.6592 - auc: 0.7105 - categorical_accuracy: 0.6592\n",
      "Epoch 00003: val_auc did not improve from 0.42770\n",
      "41/41 [==============================] - 2s 57ms/step - loss: 0.6602 - recall: 0.6592 - precision: 0.6592 - auc: 0.7105 - categorical_accuracy: 0.6592 - val_loss: 0.7081 - val_recall: 0.3800 - val_precision: 0.3800 - val_auc: 0.3928 - val_categorical_accuracy: 0.3800\n",
      "Epoch 4/200\n",
      "41/41 [==============================] - ETA: 0s - loss: 0.5505 - recall: 0.7139 - precision: 0.7139 - auc: 0.8038 - categorical_accuracy: 0.7139\n",
      "Epoch 00004: val_auc improved from 0.42770 to 0.65900, saving model to ../../tmp\\checkpoints\\20201216-005033\\cp-0004.ckpt\n",
      "41/41 [==============================] - 3s 74ms/step - loss: 0.5505 - recall: 0.7139 - precision: 0.7139 - auc: 0.8038 - categorical_accuracy: 0.7139 - val_loss: 0.6867 - val_recall: 0.5600 - val_precision: 0.5600 - val_auc: 0.6590 - val_categorical_accuracy: 0.5600\n",
      "Epoch 5/200\n",
      "41/41 [==============================] - ETA: 0s - loss: 0.6148 - recall: 0.6940 - precision: 0.6940 - auc: 0.7489 - categorical_accuracy: 0.6940\n",
      "Epoch 00005: val_auc did not improve from 0.65900\n",
      "41/41 [==============================] - 2s 57ms/step - loss: 0.6148 - recall: 0.6940 - precision: 0.6940 - auc: 0.7489 - categorical_accuracy: 0.6940 - val_loss: 1.0858 - val_recall: 0.6300 - val_precision: 0.6300 - val_auc: 0.6434 - val_categorical_accuracy: 0.6300\n",
      "Epoch 6/200\n",
      "41/41 [==============================] - ETA: 0s - loss: 0.4524 - recall: 0.8085 - precision: 0.8085 - auc: 0.8746 - categorical_accuracy: 0.8085\n",
      "Epoch 00006: val_auc did not improve from 0.65900\n",
      "41/41 [==============================] - 2s 57ms/step - loss: 0.4524 - recall: 0.8085 - precision: 0.8085 - auc: 0.8746 - categorical_accuracy: 0.8085 - val_loss: 1.6239 - val_recall: 0.5900 - val_precision: 0.5900 - val_auc: 0.6364 - val_categorical_accuracy: 0.5900\n",
      "Epoch 7/200\n",
      "41/41 [==============================] - ETA: 0s - loss: 0.3009 - recall: 0.8806 - precision: 0.8806 - auc: 0.9424 - categorical_accuracy: 0.8806\n",
      "Epoch 00007: val_auc did not improve from 0.65900\n",
      "41/41 [==============================] - 2s 56ms/step - loss: 0.3009 - recall: 0.8806 - precision: 0.8806 - auc: 0.9424 - categorical_accuracy: 0.8806 - val_loss: 0.7466 - val_recall: 0.5900 - val_precision: 0.5900 - val_auc: 0.6284 - val_categorical_accuracy: 0.5900\n",
      "Epoch 8/200\n",
      "41/41 [==============================] - ETA: 0s - loss: 0.2576 - recall: 0.8955 - precision: 0.8955 - auc: 0.9573 - categorical_accuracy: 0.8955\n",
      "Epoch 00008: val_auc improved from 0.65900 to 0.69445, saving model to ../../tmp\\checkpoints\\20201216-005033\\cp-0008.ckpt\n",
      "41/41 [==============================] - 3s 74ms/step - loss: 0.2576 - recall: 0.8955 - precision: 0.8955 - auc: 0.9573 - categorical_accuracy: 0.8955 - val_loss: 0.7472 - val_recall: 0.6500 - val_precision: 0.6500 - val_auc: 0.6945 - val_categorical_accuracy: 0.6500\n",
      "Epoch 9/200\n",
      "41/41 [==============================] - ETA: 0s - loss: 0.2877 - recall: 0.8682 - precision: 0.8682 - auc: 0.9508 - categorical_accuracy: 0.8682\n",
      "Epoch 00009: val_auc improved from 0.69445 to 0.73460, saving model to ../../tmp\\checkpoints\\20201216-005033\\cp-0009.ckpt\n",
      "41/41 [==============================] - 3s 75ms/step - loss: 0.2877 - recall: 0.8682 - precision: 0.8682 - auc: 0.9508 - categorical_accuracy: 0.8682 - val_loss: 1.3994 - val_recall: 0.7000 - val_precision: 0.7000 - val_auc: 0.7346 - val_categorical_accuracy: 0.7000\n",
      "Epoch 10/200\n",
      "41/41 [==============================] - ETA: 0s - loss: 0.1870 - recall: 0.9179 - precision: 0.9179 - auc: 0.9762 - categorical_accuracy: 0.9179\n",
      "Epoch 00010: val_auc improved from 0.73460 to 0.79000, saving model to ../../tmp\\checkpoints\\20201216-005033\\cp-0010.ckpt\n",
      "41/41 [==============================] - 3s 75ms/step - loss: 0.1870 - recall: 0.9179 - precision: 0.9179 - auc: 0.9762 - categorical_accuracy: 0.9179 - val_loss: 1.0791 - val_recall: 0.7600 - val_precision: 0.7600 - val_auc: 0.7900 - val_categorical_accuracy: 0.7600\n",
      "Epoch 11/200\n",
      "41/41 [==============================] - ETA: 0s - loss: 0.0983 - recall: 0.9602 - precision: 0.9602 - auc: 0.9947 - categorical_accuracy: 0.9602\n",
      "Epoch 00011: val_auc did not improve from 0.79000\n",
      "41/41 [==============================] - 2s 57ms/step - loss: 0.0983 - recall: 0.9602 - precision: 0.9602 - auc: 0.9947 - categorical_accuracy: 0.9602 - val_loss: 1.0725 - val_recall: 0.7200 - val_precision: 0.7200 - val_auc: 0.7556 - val_categorical_accuracy: 0.7200\n",
      "Epoch 12/200\n",
      "41/41 [==============================] - ETA: 0s - loss: 0.0614 - recall: 0.9701 - precision: 0.9701 - auc: 0.9980 - categorical_accuracy: 0.9701\n",
      "Epoch 00012: val_auc did not improve from 0.79000\n",
      "41/41 [==============================] - 2s 57ms/step - loss: 0.0614 - recall: 0.9701 - precision: 0.9701 - auc: 0.9980 - categorical_accuracy: 0.9701 - val_loss: 1.6126 - val_recall: 0.6600 - val_precision: 0.6600 - val_auc: 0.7487 - val_categorical_accuracy: 0.6600\n",
      "Epoch 13/200\n",
      "41/41 [==============================] - ETA: 0s - loss: 0.0455 - recall: 0.9776 - precision: 0.9776 - auc: 0.9988 - categorical_accuracy: 0.9776\n",
      "Epoch 00013: val_auc did not improve from 0.79000\n",
      "41/41 [==============================] - 2s 57ms/step - loss: 0.0455 - recall: 0.9776 - precision: 0.9776 - auc: 0.9988 - categorical_accuracy: 0.9776 - val_loss: 1.7505 - val_recall: 0.6600 - val_precision: 0.6600 - val_auc: 0.7612 - val_categorical_accuracy: 0.6600\n",
      "Epoch 14/200\n",
      "41/41 [==============================] - ETA: 0s - loss: 0.0072 - recall: 0.9975 - precision: 0.9975 - auc: 1.0000 - categorical_accuracy: 0.9975\n",
      "Epoch 00014: val_auc did not improve from 0.79000\n",
      "41/41 [==============================] - 2s 57ms/step - loss: 0.0072 - recall: 0.9975 - precision: 0.9975 - auc: 1.0000 - categorical_accuracy: 0.9975 - val_loss: 1.9781 - val_recall: 0.7100 - val_precision: 0.7100 - val_auc: 0.7687 - val_categorical_accuracy: 0.7100\n",
      "Epoch 15/200\n",
      "41/41 [==============================] - ETA: 0s - loss: 0.0021 - recall: 1.0000 - precision: 1.0000 - auc: 1.0000 - categorical_accuracy: 1.0000\n",
      "Epoch 00015: val_auc improved from 0.79000 to 0.79380, saving model to ../../tmp\\checkpoints\\20201216-005033\\cp-0015.ckpt\n",
      "41/41 [==============================] - 3s 74ms/step - loss: 0.0021 - recall: 1.0000 - precision: 1.0000 - auc: 1.0000 - categorical_accuracy: 1.0000 - val_loss: 1.5193 - val_recall: 0.7100 - val_precision: 0.7100 - val_auc: 0.7938 - val_categorical_accuracy: 0.7100\n",
      "Epoch 16/200\n",
      "41/41 [==============================] - ETA: 0s - loss: 7.8434e-04 - recall: 1.0000 - precision: 1.0000 - auc: 1.0000 - categorical_accuracy: 1.0000\n",
      "Epoch 00016: val_auc improved from 0.79380 to 0.81000, saving model to ../../tmp\\checkpoints\\20201216-005033\\cp-0016.ckpt\n"
     ]
    },
    {
     "name": "stdout",
     "output_type": "stream",
     "text": [
      "41/41 [==============================] - 3s 75ms/step - loss: 7.8434e-04 - recall: 1.0000 - precision: 1.0000 - auc: 1.0000 - categorical_accuracy: 1.0000 - val_loss: 1.2959 - val_recall: 0.7500 - val_precision: 0.7500 - val_auc: 0.8100 - val_categorical_accuracy: 0.7500\n",
      "Epoch 17/200\n",
      "41/41 [==============================] - ETA: 0s - loss: 5.5105e-04 - recall: 1.0000 - precision: 1.0000 - auc: 1.0000 - categorical_accuracy: 1.0000\n",
      "Epoch 00017: val_auc improved from 0.81000 to 0.82510, saving model to ../../tmp\\checkpoints\\20201216-005033\\cp-0017.ckpt\n",
      "41/41 [==============================] - 3s 75ms/step - loss: 5.5105e-04 - recall: 1.0000 - precision: 1.0000 - auc: 1.0000 - categorical_accuracy: 1.0000 - val_loss: 1.1743 - val_recall: 0.7600 - val_precision: 0.7600 - val_auc: 0.8251 - val_categorical_accuracy: 0.7600\n",
      "Epoch 18/200\n",
      "41/41 [==============================] - ETA: 0s - loss: 4.3080e-04 - recall: 1.0000 - precision: 1.0000 - auc: 1.0000 - categorical_accuracy: 1.0000\n",
      "Epoch 00018: val_auc did not improve from 0.82510\n",
      "41/41 [==============================] - 2s 57ms/step - loss: 4.3080e-04 - recall: 1.0000 - precision: 1.0000 - auc: 1.0000 - categorical_accuracy: 1.0000 - val_loss: 1.1094 - val_recall: 0.7700 - val_precision: 0.7700 - val_auc: 0.8242 - val_categorical_accuracy: 0.7700\n",
      "Epoch 19/200\n",
      "41/41 [==============================] - ETA: 0s - loss: 3.5579e-04 - recall: 1.0000 - precision: 1.0000 - auc: 1.0000 - categorical_accuracy: 1.0000\n",
      "Epoch 00019: val_auc improved from 0.82510 to 0.82720, saving model to ../../tmp\\checkpoints\\20201216-005033\\cp-0019.ckpt\n",
      "41/41 [==============================] - 3s 75ms/step - loss: 3.5579e-04 - recall: 1.0000 - precision: 1.0000 - auc: 1.0000 - categorical_accuracy: 1.0000 - val_loss: 1.0852 - val_recall: 0.7800 - val_precision: 0.7800 - val_auc: 0.8272 - val_categorical_accuracy: 0.7800\n",
      "Epoch 20/200\n",
      "41/41 [==============================] - ETA: 0s - loss: 3.0384e-04 - recall: 1.0000 - precision: 1.0000 - auc: 1.0000 - categorical_accuracy: 1.0000\n",
      "Epoch 00020: val_auc improved from 0.82720 to 0.82820, saving model to ../../tmp\\checkpoints\\20201216-005033\\cp-0020.ckpt\n",
      "41/41 [==============================] - 3s 75ms/step - loss: 3.0384e-04 - recall: 1.0000 - precision: 1.0000 - auc: 1.0000 - categorical_accuracy: 1.0000 - val_loss: 1.0748 - val_recall: 0.7900 - val_precision: 0.7900 - val_auc: 0.8282 - val_categorical_accuracy: 0.7900\n",
      "Epoch 21/200\n",
      "41/41 [==============================] - ETA: 0s - loss: 2.6584e-04 - recall: 1.0000 - precision: 1.0000 - auc: 1.0000 - categorical_accuracy: 1.0000\n",
      "Epoch 00021: val_auc improved from 0.82820 to 0.82840, saving model to ../../tmp\\checkpoints\\20201216-005033\\cp-0021.ckpt\n",
      "41/41 [==============================] - 3s 81ms/step - loss: 2.6584e-04 - recall: 1.0000 - precision: 1.0000 - auc: 1.0000 - categorical_accuracy: 1.0000 - val_loss: 1.0718 - val_recall: 0.7900 - val_precision: 0.7900 - val_auc: 0.8284 - val_categorical_accuracy: 0.7900\n",
      "Epoch 22/200\n",
      "41/41 [==============================] - ETA: 0s - loss: 2.3693e-04 - recall: 1.0000 - precision: 1.0000 - auc: 1.0000 - categorical_accuracy: 1.0000\n",
      "Epoch 00022: val_auc improved from 0.82840 to 0.82890, saving model to ../../tmp\\checkpoints\\20201216-005033\\cp-0022.ckpt\n",
      "41/41 [==============================] - 3s 76ms/step - loss: 2.3693e-04 - recall: 1.0000 - precision: 1.0000 - auc: 1.0000 - categorical_accuracy: 1.0000 - val_loss: 1.0732 - val_recall: 0.7900 - val_precision: 0.7900 - val_auc: 0.8289 - val_categorical_accuracy: 0.7900\n",
      "Epoch 23/200\n",
      "41/41 [==============================] - ETA: 0s - loss: 2.1432e-04 - recall: 1.0000 - precision: 1.0000 - auc: 1.0000 - categorical_accuracy: 1.0000\n",
      "Epoch 00023: val_auc did not improve from 0.82890\n",
      "41/41 [==============================] - 2s 57ms/step - loss: 2.1432e-04 - recall: 1.0000 - precision: 1.0000 - auc: 1.0000 - categorical_accuracy: 1.0000 - val_loss: 1.0765 - val_recall: 0.7900 - val_precision: 0.7900 - val_auc: 0.8275 - val_categorical_accuracy: 0.7900\n",
      "Epoch 24/200\n",
      "41/41 [==============================] - ETA: 0s - loss: 1.9609e-04 - recall: 1.0000 - precision: 1.0000 - auc: 1.0000 - categorical_accuracy: 1.0000\n",
      "Epoch 00024: val_auc did not improve from 0.82890\n",
      "41/41 [==============================] - 2s 57ms/step - loss: 1.9609e-04 - recall: 1.0000 - precision: 1.0000 - auc: 1.0000 - categorical_accuracy: 1.0000 - val_loss: 1.0814 - val_recall: 0.7900 - val_precision: 0.7900 - val_auc: 0.8281 - val_categorical_accuracy: 0.7900\n",
      "Epoch 25/200\n",
      "41/41 [==============================] - ETA: 0s - loss: 1.8116e-04 - recall: 1.0000 - precision: 1.0000 - auc: 1.0000 - categorical_accuracy: 1.0000\n",
      "Epoch 00025: val_auc did not improve from 0.82890\n",
      "41/41 [==============================] - 2s 57ms/step - loss: 1.8116e-04 - recall: 1.0000 - precision: 1.0000 - auc: 1.0000 - categorical_accuracy: 1.0000 - val_loss: 1.0867 - val_recall: 0.7800 - val_precision: 0.7800 - val_auc: 0.8282 - val_categorical_accuracy: 0.7800\n",
      "Epoch 26/200\n",
      "41/41 [==============================] - ETA: 0s - loss: 1.6872e-04 - recall: 1.0000 - precision: 1.0000 - auc: 1.0000 - categorical_accuracy: 1.0000\n",
      "Epoch 00026: val_auc did not improve from 0.82890\n",
      "41/41 [==============================] - 2s 57ms/step - loss: 1.6872e-04 - recall: 1.0000 - precision: 1.0000 - auc: 1.0000 - categorical_accuracy: 1.0000 - val_loss: 1.0921 - val_recall: 0.7800 - val_precision: 0.7800 - val_auc: 0.8280 - val_categorical_accuracy: 0.7800\n",
      "Epoch 27/200\n",
      "41/41 [==============================] - ETA: 0s - loss: 1.5822e-04 - recall: 1.0000 - precision: 1.0000 - auc: 1.0000 - categorical_accuracy: 1.0000\n",
      "Epoch 00027: val_auc did not improve from 0.82890\n",
      "41/41 [==============================] - 2s 58ms/step - loss: 1.5822e-04 - recall: 1.0000 - precision: 1.0000 - auc: 1.0000 - categorical_accuracy: 1.0000 - val_loss: 1.0974 - val_recall: 0.7800 - val_precision: 0.7800 - val_auc: 0.8276 - val_categorical_accuracy: 0.7800\n",
      "Epoch 28/200\n",
      "41/41 [==============================] - ETA: 0s - loss: 1.4927e-04 - recall: 1.0000 - precision: 1.0000 - auc: 1.0000 - categorical_accuracy: 1.0000\n",
      "Epoch 00028: val_auc did not improve from 0.82890\n",
      "41/41 [==============================] - 2s 58ms/step - loss: 1.4927e-04 - recall: 1.0000 - precision: 1.0000 - auc: 1.0000 - categorical_accuracy: 1.0000 - val_loss: 1.1026 - val_recall: 0.7800 - val_precision: 0.7800 - val_auc: 0.8273 - val_categorical_accuracy: 0.7800\n",
      "Epoch 29/200\n",
      "41/41 [==============================] - ETA: 0s - loss: 1.4150e-04 - recall: 1.0000 - precision: 1.0000 - auc: 1.0000 - categorical_accuracy: 1.0000\n",
      "Epoch 00029: val_auc did not improve from 0.82890\n",
      "41/41 [==============================] - 2s 57ms/step - loss: 1.4150e-04 - recall: 1.0000 - precision: 1.0000 - auc: 1.0000 - categorical_accuracy: 1.0000 - val_loss: 1.1075 - val_recall: 0.7800 - val_precision: 0.7800 - val_auc: 0.8227 - val_categorical_accuracy: 0.7800\n",
      "Epoch 30/200\n",
      "41/41 [==============================] - ETA: 0s - loss: 1.3473e-04 - recall: 1.0000 - precision: 1.0000 - auc: 1.0000 - categorical_accuracy: 1.0000\n",
      "Epoch 00030: val_auc did not improve from 0.82890\n",
      "41/41 [==============================] - 2s 57ms/step - loss: 1.3473e-04 - recall: 1.0000 - precision: 1.0000 - auc: 1.0000 - categorical_accuracy: 1.0000 - val_loss: 1.1121 - val_recall: 0.7800 - val_precision: 0.7800 - val_auc: 0.8230 - val_categorical_accuracy: 0.7800\n",
      "Epoch 31/200\n",
      "41/41 [==============================] - ETA: 0s - loss: 1.2881e-04 - recall: 1.0000 - precision: 1.0000 - auc: 1.0000 - categorical_accuracy: 1.0000\n",
      "Epoch 00031: val_auc did not improve from 0.82890\n",
      "41/41 [==============================] - 2s 57ms/step - loss: 1.2881e-04 - recall: 1.0000 - precision: 1.0000 - auc: 1.0000 - categorical_accuracy: 1.0000 - val_loss: 1.1163 - val_recall: 0.7800 - val_precision: 0.7800 - val_auc: 0.8231 - val_categorical_accuracy: 0.7800\n",
      "Epoch 32/200\n",
      "41/41 [==============================] - ETA: 0s - loss: 1.2357e-04 - recall: 1.0000 - precision: 1.0000 - auc: 1.0000 - categorical_accuracy: 1.0000\n",
      "Epoch 00032: val_auc did not improve from 0.82890\n",
      "41/41 [==============================] - 2s 57ms/step - loss: 1.2357e-04 - recall: 1.0000 - precision: 1.0000 - auc: 1.0000 - categorical_accuracy: 1.0000 - val_loss: 1.1203 - val_recall: 0.7800 - val_precision: 0.7800 - val_auc: 0.8233 - val_categorical_accuracy: 0.7800\n"
     ]
    },
    {
     "name": "stdout",
     "output_type": "stream",
     "text": [
      "Epoch 33/200\n",
      "41/41 [==============================] - ETA: 0s - loss: 1.1891e-04 - recall: 1.0000 - precision: 1.0000 - auc: 1.0000 - categorical_accuracy: 1.0000\n",
      "Epoch 00033: val_auc did not improve from 0.82890\n",
      "41/41 [==============================] - 2s 57ms/step - loss: 1.1891e-04 - recall: 1.0000 - precision: 1.0000 - auc: 1.0000 - categorical_accuracy: 1.0000 - val_loss: 1.1242 - val_recall: 0.7800 - val_precision: 0.7800 - val_auc: 0.8224 - val_categorical_accuracy: 0.7800\n",
      "Epoch 34/200\n",
      "41/41 [==============================] - ETA: 0s - loss: 1.1476e-04 - recall: 1.0000 - precision: 1.0000 - auc: 1.0000 - categorical_accuracy: 1.0000\n",
      "Epoch 00034: val_auc did not improve from 0.82890\n",
      "41/41 [==============================] - 2s 57ms/step - loss: 1.1476e-04 - recall: 1.0000 - precision: 1.0000 - auc: 1.0000 - categorical_accuracy: 1.0000 - val_loss: 1.1277 - val_recall: 0.7800 - val_precision: 0.7800 - val_auc: 0.8232 - val_categorical_accuracy: 0.7800\n",
      "Epoch 35/200\n",
      "41/41 [==============================] - ETA: 0s - loss: 1.1100e-04 - recall: 1.0000 - precision: 1.0000 - auc: 1.0000 - categorical_accuracy: 1.0000\n",
      "Epoch 00035: val_auc did not improve from 0.82890\n",
      "41/41 [==============================] - 2s 57ms/step - loss: 1.1100e-04 - recall: 1.0000 - precision: 1.0000 - auc: 1.0000 - categorical_accuracy: 1.0000 - val_loss: 1.1311 - val_recall: 0.7800 - val_precision: 0.7800 - val_auc: 0.8241 - val_categorical_accuracy: 0.7800\n",
      "Epoch 36/200\n",
      "41/41 [==============================] - ETA: 0s - loss: 1.0763e-04 - recall: 1.0000 - precision: 1.0000 - auc: 1.0000 - categorical_accuracy: 1.0000\n",
      "Epoch 00036: val_auc did not improve from 0.82890\n",
      "41/41 [==============================] - 2s 58ms/step - loss: 1.0763e-04 - recall: 1.0000 - precision: 1.0000 - auc: 1.0000 - categorical_accuracy: 1.0000 - val_loss: 1.1343 - val_recall: 0.7800 - val_precision: 0.7800 - val_auc: 0.8239 - val_categorical_accuracy: 0.7800\n",
      "Epoch 37/200\n",
      "41/41 [==============================] - ETA: 0s - loss: 1.0457e-04 - recall: 1.0000 - precision: 1.0000 - auc: 1.0000 - categorical_accuracy: 1.0000\n",
      "Epoch 00037: val_auc did not improve from 0.82890\n",
      "41/41 [==============================] - 2s 57ms/step - loss: 1.0457e-04 - recall: 1.0000 - precision: 1.0000 - auc: 1.0000 - categorical_accuracy: 1.0000 - val_loss: 1.1373 - val_recall: 0.7800 - val_precision: 0.7800 - val_auc: 0.8242 - val_categorical_accuracy: 0.7800\n",
      "Epoch 38/200\n",
      "41/41 [==============================] - ETA: 0s - loss: 1.0178e-04 - recall: 1.0000 - precision: 1.0000 - auc: 1.0000 - categorical_accuracy: 1.0000\n",
      "Epoch 00038: val_auc did not improve from 0.82890\n",
      "41/41 [==============================] - 2s 57ms/step - loss: 1.0178e-04 - recall: 1.0000 - precision: 1.0000 - auc: 1.0000 - categorical_accuracy: 1.0000 - val_loss: 1.1402 - val_recall: 0.7800 - val_precision: 0.7800 - val_auc: 0.8243 - val_categorical_accuracy: 0.7800\n",
      "Epoch 39/200\n",
      "41/41 [==============================] - ETA: 0s - loss: 9.9252e-05 - recall: 1.0000 - precision: 1.0000 - auc: 1.0000 - categorical_accuracy: 1.0000\n",
      "Epoch 00039: val_auc did not improve from 0.82890\n",
      "41/41 [==============================] - 2s 58ms/step - loss: 9.9252e-05 - recall: 1.0000 - precision: 1.0000 - auc: 1.0000 - categorical_accuracy: 1.0000 - val_loss: 1.1428 - val_recall: 0.7800 - val_precision: 0.7800 - val_auc: 0.8241 - val_categorical_accuracy: 0.7800\n",
      "Epoch 40/200\n",
      "41/41 [==============================] - ETA: 0s - loss: 9.6932e-05 - recall: 1.0000 - precision: 1.0000 - auc: 1.0000 - categorical_accuracy: 1.0000\n",
      "Epoch 00040: val_auc did not improve from 0.82890\n",
      "41/41 [==============================] - 2s 57ms/step - loss: 9.6932e-05 - recall: 1.0000 - precision: 1.0000 - auc: 1.0000 - categorical_accuracy: 1.0000 - val_loss: 1.1454 - val_recall: 0.7800 - val_precision: 0.7800 - val_auc: 0.8241 - val_categorical_accuracy: 0.7800\n",
      "Epoch 41/200\n",
      "41/41 [==============================] - ETA: 0s - loss: 9.4804e-05 - recall: 1.0000 - precision: 1.0000 - auc: 1.0000 - categorical_accuracy: 1.0000\n",
      "Epoch 00041: val_auc did not improve from 0.82890\n",
      "41/41 [==============================] - 2s 58ms/step - loss: 9.4804e-05 - recall: 1.0000 - precision: 1.0000 - auc: 1.0000 - categorical_accuracy: 1.0000 - val_loss: 1.1477 - val_recall: 0.7800 - val_precision: 0.7800 - val_auc: 0.8241 - val_categorical_accuracy: 0.7800\n",
      "Epoch 42/200\n",
      "41/41 [==============================] - ETA: 0s - loss: 9.2855e-05 - recall: 1.0000 - precision: 1.0000 - auc: 1.0000 - categorical_accuracy: 1.0000\n",
      "Epoch 00042: val_auc did not improve from 0.82890\n",
      "41/41 [==============================] - 2s 58ms/step - loss: 9.2855e-05 - recall: 1.0000 - precision: 1.0000 - auc: 1.0000 - categorical_accuracy: 1.0000 - val_loss: 1.1500 - val_recall: 0.7800 - val_precision: 0.7800 - val_auc: 0.8246 - val_categorical_accuracy: 0.7800\n",
      "Epoch 43/200\n",
      "41/41 [==============================] - ETA: 0s - loss: 9.1040e-05 - recall: 1.0000 - precision: 1.0000 - auc: 1.0000 - categorical_accuracy: 1.0000\n",
      "Epoch 00043: val_auc did not improve from 0.82890\n",
      "41/41 [==============================] - 2s 56ms/step - loss: 9.1040e-05 - recall: 1.0000 - precision: 1.0000 - auc: 1.0000 - categorical_accuracy: 1.0000 - val_loss: 1.1520 - val_recall: 0.7800 - val_precision: 0.7800 - val_auc: 0.8243 - val_categorical_accuracy: 0.7800\n",
      "Epoch 44/200\n",
      "41/41 [==============================] - ETA: 0s - loss: 8.9382e-05 - recall: 1.0000 - precision: 1.0000 - auc: 1.0000 - categorical_accuracy: 1.0000\n",
      "Epoch 00044: val_auc did not improve from 0.82890\n",
      "41/41 [==============================] - 2s 57ms/step - loss: 8.9382e-05 - recall: 1.0000 - precision: 1.0000 - auc: 1.0000 - categorical_accuracy: 1.0000 - val_loss: 1.1539 - val_recall: 0.7800 - val_precision: 0.7800 - val_auc: 0.8244 - val_categorical_accuracy: 0.7800\n",
      "Epoch 45/200\n",
      "41/41 [==============================] - ETA: 0s - loss: 8.7853e-05 - recall: 1.0000 - precision: 1.0000 - auc: 1.0000 - categorical_accuracy: 1.0000\n",
      "Epoch 00045: val_auc did not improve from 0.82890\n",
      "41/41 [==============================] - 2s 58ms/step - loss: 8.7853e-05 - recall: 1.0000 - precision: 1.0000 - auc: 1.0000 - categorical_accuracy: 1.0000 - val_loss: 1.1558 - val_recall: 0.7800 - val_precision: 0.7800 - val_auc: 0.8250 - val_categorical_accuracy: 0.7800\n",
      "Epoch 46/200\n",
      "41/41 [==============================] - ETA: 0s - loss: 8.6430e-05 - recall: 1.0000 - precision: 1.0000 - auc: 1.0000 - categorical_accuracy: 1.0000\n",
      "Epoch 00046: val_auc did not improve from 0.82890\n",
      "41/41 [==============================] - 2s 58ms/step - loss: 8.6430e-05 - recall: 1.0000 - precision: 1.0000 - auc: 1.0000 - categorical_accuracy: 1.0000 - val_loss: 1.1575 - val_recall: 0.7800 - val_precision: 0.7800 - val_auc: 0.8252 - val_categorical_accuracy: 0.7800\n",
      "Epoch 47/200\n",
      "41/41 [==============================] - ETA: 0s - loss: 8.5112e-05 - recall: 1.0000 - precision: 1.0000 - auc: 1.0000 - categorical_accuracy: 1.0000\n",
      "Epoch 00047: val_auc did not improve from 0.82890\n",
      "41/41 [==============================] - 2s 58ms/step - loss: 8.5112e-05 - recall: 1.0000 - precision: 1.0000 - auc: 1.0000 - categorical_accuracy: 1.0000 - val_loss: 1.1592 - val_recall: 0.7800 - val_precision: 0.7800 - val_auc: 0.8252 - val_categorical_accuracy: 0.7800\n",
      "Wall time: 3min 2s\n"
     ]
    }
   ],
   "source": [
    "%%time\n",
    "\n",
    "model, checkpoint_dir, history = train(\n",
    "    model,\n",
    "    train_seq,\n",
    "    test_seq,\n",
    "    CHECKPOINT_DIRECTORY,\n",
    "    LOG_DIRECTORY,\n",
    "    DATA_DIR,\n",
    "    **train_config\n",
    ")"
   ]
  },
  {
   "cell_type": "markdown",
   "metadata": {},
   "source": [
    "## Evaluation"
   ]
  },
  {
   "cell_type": "code",
   "execution_count": 12,
   "metadata": {
    "scrolled": false
   },
   "outputs": [
    {
     "name": "stdout",
     "output_type": "stream",
     "text": [
      "Wall time: 136 ms\n"
     ]
    },
    {
     "data": {
      "image/png": "[encoded data removed]",
      "text/plain": [
       "<Figure size 864x1080 with 5 Axes>"
      ]
     },
     "metadata": {
      "needs_background": "light"
     },
     "output_type": "display_data"
    }
   ],
   "source": [
    "%%time\n",
    "\n",
    "plot_training_history(history)"
   ]
  },
  {
   "cell_type": "code",
   "execution_count": 13,
   "metadata": {
    "scrolled": true
   },
   "outputs": [
    {
     "name": "stdout",
     "output_type": "stream",
     "text": [
      "loss: 0.99634850025177\n",
      "recall: 0.7900000214576721\n",
      "precision: 0.7900000214576721\n",
      "auc: 0.8289000988006592\n",
      "categorical_accuracy: 0.7900000214576721\n",
      "\n",
      "Wall time: 24.3 s\n"
     ]
    }
   ],
   "source": [
    "%%time\n",
    "\n",
    "show_simple_metrics(model, test_seq)"
   ]
  },
  {
   "cell_type": "code",
   "execution_count": 14,
   "metadata": {
    "scrolled": false
   },
   "outputs": [
    {
     "name": "stdout",
     "output_type": "stream",
     "text": [
      "In binary classification, recall of the positive class is also known as “sensitivity”; recall of the negative class is “specificity”. (https://scikit-learn.org/stable/modules/generated/sklearn.metrics.classification_report.html)\n",
      "\u001b[1mAD\u001b[0m\n",
      "precision: 0.8153846153846154\n",
      "recall: 0.8548387096774194\n",
      "f1-score: 0.8346456692913387\n",
      "support: 62\n",
      "\n",
      "\n",
      "\u001b[1mCN\u001b[0m\n",
      "precision: 0.7428571428571429\n",
      "recall: 0.6842105263157895\n",
      "f1-score: 0.7123287671232877\n",
      "support: 38\n",
      "\n",
      "\n",
      "\u001b[1mmicro avg\u001b[0m\n",
      "precision: 0.79\n",
      "recall: 0.79\n",
      "f1-score: 0.79\n",
      "support: 100\n",
      "\n",
      "\n",
      "\u001b[1mmacro avg\u001b[0m\n",
      "precision: 0.7791208791208791\n",
      "recall: 0.7695246179966044\n",
      "f1-score: 0.7734872182073131\n",
      "support: 100\n",
      "\n",
      "\n",
      "\u001b[1mweighted avg\u001b[0m\n",
      "precision: 0.7878241758241757\n",
      "recall: 0.79\n",
      "f1-score: 0.7881652464674793\n",
      "support: 100\n",
      "\n",
      "\n",
      "\u001b[1msamples avg\u001b[0m\n",
      "precision: 0.79\n",
      "recall: 0.79\n",
      "f1-score: 0.79\n",
      "support: 100\n",
      "\n",
      "\n",
      "\u001b[1mF1\u001b[0m\n",
      "micro: 0.79\n",
      "macro: 0.7734872182073131\n",
      "\n",
      "\n",
      "accuracy_score: 0.79\n",
      "sensitivity_score: 0.8548387096774194\n",
      "specificity_score: 0.6842105263157895\n",
      "\n",
      "\n",
      "Wall time: 22.5 s\n"
     ]
    },
    {
     "data": {
      "image/png": "[encoded data removed]",
      "text/plain": [
       "<Figure size 576x576 with 2 Axes>"
      ]
     },
     "metadata": {
      "needs_background": "light"
     },
     "output_type": "display_data"
    }
   ],
   "source": [
    "%%time\n",
    "\n",
    "show_metrics(model, test_seq, class_names)"
   ]
  },
  {
   "cell_type": "code",
   "execution_count": null,
   "metadata": {},
   "outputs": [],
   "source": []
  }
 ],
 "metadata": {
  "kernelspec": {
   "display_name": "Python 3",
   "language": "python",
   "name": "python3"
  },
  "language_info": {
   "codemirror_mode": {
    "name": "ipython",
    "version": 3
   },
   "file_extension": ".py",
   "mimetype": "text/x-python",
   "name": "python",
   "nbconvert_exporter": "python",
   "pygments_lexer": "ipython3",
   "version": "3.7.9"
  }
 },
 "nbformat": 4,
 "nbformat_minor": 1
}

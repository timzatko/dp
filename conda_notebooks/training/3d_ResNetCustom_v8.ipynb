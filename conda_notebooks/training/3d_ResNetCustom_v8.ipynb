{
 "cells": [
  {
   "cell_type": "markdown",
   "metadata": {},
   "source": [
    "# 3D ResNet"
   ]
  },
  {
   "cell_type": "markdown",
   "metadata": {},
   "source": [
    "Basic + Augmentations (invert, rotate, zoom, blur, noise) + Dropout (0.55) + L2 (0.000005)"
   ]
  },
  {
   "cell_type": "code",
   "execution_count": 1,
   "metadata": {},
   "outputs": [],
   "source": [
    "%load_ext autoreload\n",
    "%autoreload 2\n",
    "\n",
    "import sys\n",
    "sys.path.append('../..')\n",
    "\n",
    "import datetime\n",
    "import os\n",
    "os.environ[\"CUDA_VISIBLE_DEVICES\"]=\"1\"\n",
    "\n",
    "import numpy as np\n",
    "\n",
    "from src.data import train_test_split, MRISequence\n",
    "from src.model import create_model, compile_model, load_checkpoint\n",
    "from src.model.training import train\n",
    "from src.model.evaluation import plot_training_history, show_simple_metrics, show_metrics"
   ]
  },
  {
   "cell_type": "code",
   "execution_count": 2,
   "metadata": {},
   "outputs": [
    {
     "name": "stdout",
     "output_type": "stream",
     "text": [
      "2.3.1\n",
      "Num GPUs Available:  1\n"
     ]
    }
   ],
   "source": [
    "import tensorflow as tf\n",
    "\n",
    "# RANDOM_SEED = 300785674475887\n",
    "# tf.random.set_seed(RANDOM_SEED)\n",
    "\n",
    "print(tf.version.VERSION)\n",
    "print(\"Num GPUs Available: \", len(tf.config.experimental.list_physical_devices('GPU')))"
   ]
  },
  {
   "cell_type": "code",
   "execution_count": 3,
   "metadata": {},
   "outputs": [],
   "source": [
    "# gpus = tf.config.experimental.list_physical_devices('GPU')\n",
    "# if gpus:\n",
    "#     # Restrict TensorFlow to only allocate 1GB * 2 of memory on the first GPU\n",
    "#     try:\n",
    "#         tf.config.experimental.set_virtual_device_configuration(\n",
    "#             gpus[0],\n",
    "#             [tf.config.experimental.VirtualDeviceConfiguration(memory_limit=1024 * 2)])\n",
    "#         logical_gpus = tf.config.experimental.list_logical_devices('GPU')\n",
    "#         print(len(gpus), \"Physical GPUs,\", len(logical_gpus), \"Logical GPUs\")\n",
    "#     except RuntimeError as e:\n",
    "#         # Virtual devices must be set before GPUs have been initialized\n",
    "#         print(e)"
   ]
  },
  {
   "cell_type": "markdown",
   "metadata": {},
   "source": [
    "## Setup"
   ]
  },
  {
   "cell_type": "code",
   "execution_count": 4,
   "metadata": {},
   "outputs": [
    {
     "name": "stdout",
     "output_type": "stream",
     "text": [
      "not copying files since the destination directory already exists\n",
      "initializing train_seq...\n",
      "initializing test_seq...\n",
      "val_seq = test_seq\n",
      "log_dir: ../../tmp\\logs\\20201218-122709\n",
      "Wall time: 15.6 ms\n"
     ]
    }
   ],
   "source": [
    "%%time\n",
    "\n",
    "ROOT_DIR = '../../tmp'\n",
    "DEFAULT_CHECKPOINT_DIRECTORY_LOCAL = os.path.join(ROOT_DIR, 'checkpoints')\n",
    "DEFAULT_BCKP_CHECKPOINT_DIRECTORY_LOCAL = os.path.join(ROOT_DIR, 'bckp-checkpoints')\n",
    "\n",
    "LOG_DIRECTORY = os.path.join(ROOT_DIR, 'logs')\n",
    "CHECKPOINT_DIRECTORY = DEFAULT_CHECKPOINT_DIRECTORY_LOCAL\n",
    "\n",
    "LOG_DIRECTORY_LOCAL = LOG_DIRECTORY\n",
    "CHECKPOINT_DIRECTORY_LOCAL = CHECKPOINT_DIRECTORY\n",
    "\n",
    "DATA_DIR_NAME = 'data-v3'\n",
    "DATA_DIR = os.path.join(ROOT_DIR, DATA_DIR_NAME)\n",
    "\n",
    "saliencies_and_segmentations_v2_path = os.path.join(ROOT_DIR, 'saliencies_and_segmentations_v2')\n",
    "\n",
    "if not os.path.exists(CHECKPOINT_DIRECTORY):\n",
    "    os.mkdir(CHECKPOINT_DIRECTORY)\n",
    "\n",
    "if not os.path.exists(LOG_DIRECTORY):\n",
    "    os.mkdir(LOG_DIRECTORY)\n",
    "\n",
    "val = False\n",
    "    \n",
    "class_names = ['AD', 'CN']\n",
    "\n",
    "# get paths to data\n",
    "train_dir, test_dir, val_dir = train_test_split(\n",
    "    saliencies_and_segmentations_v2_path, \n",
    "    ROOT_DIR, \n",
    "    split=(0.8, 0.15, 0.05), \n",
    "    dirname=DATA_DIR_NAME)\n",
    "\n",
    "# set the batch size for mri seq\n",
    "batch_size = 12\n",
    "input_shape = (104, 128, 104, 1) # (112, 112, 105, 1)\n",
    "resize_img = True\n",
    "crop_img = True\n",
    "\n",
    "# if y is one-hot encoded or just scalar number\n",
    "one_hot = True\n",
    "\n",
    "# class weights (see analysis notebook)\n",
    "class_weights = {0: 0.8072289156626505, 1: 1.3137254901960784}\n",
    "\n",
    "# description statistics of the dataset\n",
    "desc = {'mean': -3.6344006e-09, 'std': 1.0000092, 'min': -1.4982183, 'max': 10.744175}\n",
    "\n",
    "if 'desc' not in locals():\n",
    "    print('initializing desc...')\n",
    "    desc = get_description(MRISequence(\n",
    "        train_dir,\n",
    "        64,\n",
    "        class_names=class_names,\n",
    "        input_shape=input_shape),\n",
    "        max_samples=None)\n",
    "    print(desc)\n",
    "\n",
    "\n",
    "normalization={ 'type':'normalization', 'desc': desc }\n",
    "# normalization={'type':'standardization', 'desc':desc }\n",
    "\n",
    "augmentations = None\n",
    "augmentations_inplace = True\n",
    "# enable augmentations in mri seq (otherwise it can be enabled in dataset)\n",
    "# augmentations={ 'random_swap_hemispheres': 0.5 }\n",
    "\n",
    "# initialize sequences\n",
    "print('initializing train_seq...')\n",
    "train_seq = MRISequence(\n",
    "    train_dir,\n",
    "    batch_size,\n",
    "    class_names=class_names,\n",
    "    augmentations=augmentations,\n",
    "    augmentations_inplace=augmentations_inplace,\n",
    "    input_shape=input_shape,\n",
    "    resize_img=resize_img,\n",
    "    crop_img=crop_img,\n",
    "    one_hot=one_hot,\n",
    "    class_weights=class_weights,\n",
    "    normalization=normalization)\n",
    "\n",
    "print('initializing test_seq...')\n",
    "test_seq = MRISequence(\n",
    "    test_dir,\n",
    "    batch_size,\n",
    "    class_names=class_names,\n",
    "    input_shape=input_shape,\n",
    "    resize_img=resize_img,\n",
    "    crop_img=crop_img,\n",
    "    one_hot=one_hot,\n",
    "    normalization=normalization)\n",
    "\n",
    "if val:\n",
    "    print('initializing val_seq...')\n",
    "    val_seq = MRISequence(\n",
    "        val_dir,\n",
    "        batch_size,\n",
    "        class_names=class_names,\n",
    "        input_shape=input_shape,\n",
    "        resize_img=resize_img,\n",
    "        crop_img=crop_img,\n",
    "        one_hot=one_hot,\n",
    "        class_weights=class_weights,\n",
    "        normalization=normalization)\n",
    "else:\n",
    "    print('val_seq = test_seq')\n",
    "    val_seq = test_seq\n",
    "    \n",
    "model_key = datetime.datetime.now().strftime('%Y%m%d-%H%M%S')\n",
    "log_dir = os.path.join(LOG_DIRECTORY, model_key)\n",
    "print(f'log_dir: {log_dir}')"
   ]
  },
  {
   "cell_type": "code",
   "execution_count": 5,
   "metadata": {},
   "outputs": [],
   "source": [
    "# https://www.tensorflow.org/tutorials/structured_data/imbalanced_data#class_weights\n",
    "# pos / neg\n",
    "initial_bias = np.log([159/243, 243/159])\n",
    "\n",
    "model_type = '3DResNet18'\n",
    "model_config = {\n",
    "    'input_shape': input_shape,\n",
    "    'class_names': class_names,\n",
    "#     'l2_beta': 0.001,\n",
    "    'l2_beta': 0.000005,\n",
    "#     'l2_beta': None,\n",
    "    'dropout': 0.55,\n",
    "    'blocks': (2, 2, 2),\n",
    "    'filters': (64, 128, 256),\n",
    "#     'dropout': None,\n",
    "    'output_bias': initial_bias,\n",
    "#     'output_bias': None,\n",
    "}\n",
    "\n",
    "compile_config = {\n",
    "    # default is 0.001\n",
    "#     'learning_rate': 0.000075,\n",
    "    'learning_rate': 0.0000025,\n",
    "    'decay_steps': 10,\n",
    "    'decay_rate': 0.96,\n",
    "#     'beta_1': 0.85,\n",
    "    'beta_1': 0.90,\n",
    "#     'beta_2': 0.990,\n",
    "    'beta_2': 0.999,\n",
    "}\n",
    "\n",
    "train_config = {\n",
    "    'model_key': model_key,\n",
    "    'epochs': 200,\n",
    "    'patience': 25,\n",
    "    'tensorboard_update_freq': 'epoch',\n",
    "    'mri_tensorboard_callback': False,\n",
    "    'model_checkpoint_callback': {'monitor': 'val_auc', 'mode': 'max', 'save_best_only': True},\n",
    "    'early_stopping_monitor': {'monitor': 'val_auc', 'mode': 'max'},\n",
    "    'augmentations': {\n",
    "        'invert': (0.5, None),\n",
    "        'rotate': (0.2, 5), # probability, degrees\n",
    "        'zoom': (0.2, 0.015),\n",
    "        'shear': (0, 2.5), # probability, degrees\n",
    "        'blur': (0.2, 0.8),\n",
    "        'noise': (0.2, 0.00025)\n",
    "    },\n",
    "#     'augmentations': False,\n",
    "    'batch_size': 10,\n",
    "#     'model_checkpoint_callback': False,\n",
    "}"
   ]
  },
  {
   "cell_type": "markdown",
   "metadata": {},
   "source": [
    "## Train"
   ]
  },
  {
   "cell_type": "code",
   "execution_count": 6,
   "metadata": {
    "scrolled": false
   },
   "outputs": [
    {
     "name": "stdout",
     "output_type": "stream",
     "text": [
      "Model: \"sequential\"\n",
      "_________________________________________________________________\n",
      "Layer (type)                 Output Shape              Param #   \n",
      "=================================================================\n",
      "my_res_net (MyResNet)        (None, 256)               8323712   \n",
      "_________________________________________________________________\n",
      "dropout (Dropout)            (None, 256)               0         \n",
      "_________________________________________________________________\n",
      "dense_1 (Dense)              (None, 128)               32896     \n",
      "_________________________________________________________________\n",
      "dropout_1 (Dropout)          (None, 128)               0         \n",
      "_________________________________________________________________\n",
      "dense_2 (Dense)              (None, 2)                 258       \n",
      "=================================================================\n",
      "Total params: 8,356,866\n",
      "Trainable params: 8,352,386\n",
      "Non-trainable params: 4,480\n",
      "_________________________________________________________________\n"
     ]
    }
   ],
   "source": [
    "model = create_model(model_type, model_config)\n",
    "model, *_ = compile_model(model, **compile_config)\n",
    "model.build(input_shape=input_shape)\n",
    "model.summary()"
   ]
  },
  {
   "cell_type": "code",
   "execution_count": 7,
   "metadata": {},
   "outputs": [
    {
     "name": "stdout",
     "output_type": "stream",
     "text": [
      "loading checkpoint from ../../tmp\\bckp-checkpoints\\3d_ResNetCustom_v6\\cp-0038.ckpt...\n"
     ]
    }
   ],
   "source": [
    "load_checkpoint(model, DEFAULT_BCKP_CHECKPOINT_DIRECTORY_LOCAL, '3d_ResNetCustom_v6', 'cp-0038.ckpt')"
   ]
  },
  {
   "cell_type": "code",
   "execution_count": 8,
   "metadata": {},
   "outputs": [
    {
     "name": "stdout",
     "output_type": "stream",
     "text": [
      "['/device:GPU:0']\n"
     ]
    }
   ],
   "source": [
    "from tensorflow.python.client import device_lib\n",
    "\n",
    "def get_available_gpus():\n",
    "    local_device_protos = device_lib.list_local_devices()\n",
    "    return [x.name for x in local_device_protos if x.device_type == 'GPU']\n",
    "\n",
    "print(get_available_gpus())"
   ]
  },
  {
   "cell_type": "code",
   "execution_count": 9,
   "metadata": {
    "scrolled": false
   },
   "outputs": [
    {
     "name": "stdout",
     "output_type": "stream",
     "text": [
      "model key: 20201218-122709\n",
      "checkpoint dir: ../../tmp\\checkpoints\\20201218-122709\n",
      "log dir: ../../tmp\\logs\\20201218-122709\n",
      "loading ../../tmp\\data-v3\\train_x.npy, ../../tmp\\data-v3\\train_y.npy...\n",
      "loading ../../tmp\\data-v3\\val_x.npy, ../../tmp\\data-v3\\val_y.npy...\n",
      "training...\n",
      "WARNING:tensorflow:Model failed to serialize as JSON. Ignoring... \n",
      "Epoch 1/200\n",
      "41/41 [==============================] - ETA: 0s - loss: 0.3973 - recall: 0.8408 - precision: 0.8408 - auc: 0.9132 - categorical_accuracy: 0.8408\n",
      "Epoch 00001: val_auc improved from -inf to 0.95620, saving model to ../../tmp\\checkpoints\\20201218-122709\\cp-0001.ckpt\n",
      "41/41 [==============================] - 17s 414ms/step - loss: 0.3973 - recall: 0.8408 - precision: 0.8408 - auc: 0.9132 - categorical_accuracy: 0.8408 - val_loss: 0.2964 - val_recall: 0.9500 - val_precision: 0.9500 - val_auc: 0.9562 - val_categorical_accuracy: 0.9500\n",
      "Epoch 2/200\n",
      "41/41 [==============================] - ETA: 0s - loss: 0.4288 - recall: 0.8408 - precision: 0.8408 - auc: 0.9006 - categorical_accuracy: 0.8408\n",
      "Epoch 00002: val_auc did not improve from 0.95620\n",
      "41/41 [==============================] - 15s 367ms/step - loss: 0.4288 - recall: 0.8408 - precision: 0.8408 - auc: 0.9006 - categorical_accuracy: 0.8408 - val_loss: 0.2890 - val_recall: 0.9300 - val_precision: 0.9300 - val_auc: 0.9552 - val_categorical_accuracy: 0.9300\n",
      "Epoch 3/200\n",
      "41/41 [==============================] - ETA: 0s - loss: 0.3729 - recall: 0.8557 - precision: 0.8557 - auc: 0.9215 - categorical_accuracy: 0.8557\n",
      "Epoch 00003: val_auc did not improve from 0.95620\n",
      "41/41 [==============================] - 15s 363ms/step - loss: 0.3729 - recall: 0.8557 - precision: 0.8557 - auc: 0.9215 - categorical_accuracy: 0.8557 - val_loss: 0.2867 - val_recall: 0.9200 - val_precision: 0.9200 - val_auc: 0.9536 - val_categorical_accuracy: 0.9200\n",
      "Epoch 4/200\n",
      "41/41 [==============================] - ETA: 0s - loss: 0.4202 - recall: 0.8308 - precision: 0.8308 - auc: 0.9019 - categorical_accuracy: 0.8308\n",
      "Epoch 00004: val_auc did not improve from 0.95620\n",
      "41/41 [==============================] - 15s 364ms/step - loss: 0.4202 - recall: 0.8308 - precision: 0.8308 - auc: 0.9019 - categorical_accuracy: 0.8308 - val_loss: 0.2862 - val_recall: 0.9000 - val_precision: 0.9000 - val_auc: 0.9513 - val_categorical_accuracy: 0.9000\n",
      "Epoch 5/200\n",
      "41/41 [==============================] - ETA: 0s - loss: 0.4478 - recall: 0.8035 - precision: 0.8035 - auc: 0.8926 - categorical_accuracy: 0.8035\n",
      "Epoch 00005: val_auc did not improve from 0.95620\n",
      "41/41 [==============================] - 15s 362ms/step - loss: 0.4478 - recall: 0.8035 - precision: 0.8035 - auc: 0.8926 - categorical_accuracy: 0.8035 - val_loss: 0.2865 - val_recall: 0.9000 - val_precision: 0.9000 - val_auc: 0.9516 - val_categorical_accuracy: 0.9000\n",
      "Epoch 6/200\n",
      "41/41 [==============================] - ETA: 0s - loss: 0.4184 - recall: 0.8358 - precision: 0.8358 - auc: 0.9082 - categorical_accuracy: 0.8358\n",
      "Epoch 00006: val_auc did not improve from 0.95620\n",
      "41/41 [==============================] - 15s 362ms/step - loss: 0.4184 - recall: 0.8358 - precision: 0.8358 - auc: 0.9082 - categorical_accuracy: 0.8358 - val_loss: 0.2869 - val_recall: 0.9000 - val_precision: 0.9000 - val_auc: 0.9513 - val_categorical_accuracy: 0.9000\n",
      "Epoch 7/200\n",
      "41/41 [==============================] - ETA: 0s - loss: 0.4138 - recall: 0.8483 - precision: 0.8483 - auc: 0.9130 - categorical_accuracy: 0.8483\n",
      "Epoch 00007: val_auc did not improve from 0.95620\n",
      "41/41 [==============================] - 15s 368ms/step - loss: 0.4138 - recall: 0.8483 - precision: 0.8483 - auc: 0.9130 - categorical_accuracy: 0.8483 - val_loss: 0.2874 - val_recall: 0.9000 - val_precision: 0.9000 - val_auc: 0.9511 - val_categorical_accuracy: 0.9000\n",
      "Epoch 8/200\n",
      "41/41 [==============================] - ETA: 0s - loss: 0.4000 - recall: 0.8507 - precision: 0.8507 - auc: 0.9156 - categorical_accuracy: 0.8507\n",
      "Epoch 00008: val_auc did not improve from 0.95620\n",
      "41/41 [==============================] - 15s 369ms/step - loss: 0.4000 - recall: 0.8507 - precision: 0.8507 - auc: 0.9156 - categorical_accuracy: 0.8507 - val_loss: 0.2878 - val_recall: 0.9000 - val_precision: 0.9000 - val_auc: 0.9508 - val_categorical_accuracy: 0.9000\n",
      "Epoch 9/200\n",
      "41/41 [==============================] - ETA: 0s - loss: 0.4008 - recall: 0.8433 - precision: 0.8433 - auc: 0.9127 - categorical_accuracy: 0.8433\n",
      "Epoch 00009: val_auc did not improve from 0.95620\n",
      "41/41 [==============================] - 15s 364ms/step - loss: 0.4008 - recall: 0.8433 - precision: 0.8433 - auc: 0.9127 - categorical_accuracy: 0.8433 - val_loss: 0.2881 - val_recall: 0.9000 - val_precision: 0.9000 - val_auc: 0.9505 - val_categorical_accuracy: 0.9000\n",
      "Epoch 10/200\n",
      "41/41 [==============================] - ETA: 0s - loss: 0.4036 - recall: 0.8358 - precision: 0.8358 - auc: 0.9091 - categorical_accuracy: 0.8358\n",
      "Epoch 00010: val_auc did not improve from 0.95620\n",
      "41/41 [==============================] - 16s 378ms/step - loss: 0.4036 - recall: 0.8358 - precision: 0.8358 - auc: 0.9091 - categorical_accuracy: 0.8358 - val_loss: 0.2880 - val_recall: 0.9000 - val_precision: 0.9000 - val_auc: 0.9504 - val_categorical_accuracy: 0.9000\n",
      "Epoch 11/200\n",
      "41/41 [==============================] - ETA: 0s - loss: 0.4105 - recall: 0.8483 - precision: 0.8483 - auc: 0.9077 - categorical_accuracy: 0.8483\n",
      "Epoch 00011: val_auc did not improve from 0.95620\n",
      "41/41 [==============================] - 15s 364ms/step - loss: 0.4105 - recall: 0.8483 - precision: 0.8483 - auc: 0.9077 - categorical_accuracy: 0.8483 - val_loss: 0.2887 - val_recall: 0.9000 - val_precision: 0.9000 - val_auc: 0.9498 - val_categorical_accuracy: 0.9000\n",
      "Epoch 12/200\n",
      "41/41 [==============================] - ETA: 0s - loss: 0.4213 - recall: 0.8358 - precision: 0.8358 - auc: 0.9037 - categorical_accuracy: 0.8358\n",
      "Epoch 00012: val_auc did not improve from 0.95620\n",
      "41/41 [==============================] - 15s 366ms/step - loss: 0.4213 - recall: 0.8358 - precision: 0.8358 - auc: 0.9037 - categorical_accuracy: 0.8358 - val_loss: 0.2887 - val_recall: 0.9000 - val_precision: 0.9000 - val_auc: 0.9498 - val_categorical_accuracy: 0.9000\n",
      "Epoch 13/200\n",
      "41/41 [==============================] - ETA: 0s - loss: 0.4001 - recall: 0.8358 - precision: 0.8358 - auc: 0.9055 - categorical_accuracy: 0.8358\n",
      "Epoch 00013: val_auc did not improve from 0.95620\n",
      "41/41 [==============================] - 15s 361ms/step - loss: 0.4001 - recall: 0.8358 - precision: 0.8358 - auc: 0.9055 - categorical_accuracy: 0.8358 - val_loss: 0.2887 - val_recall: 0.9000 - val_precision: 0.9000 - val_auc: 0.9499 - val_categorical_accuracy: 0.9000\n",
      "Epoch 14/200\n",
      "41/41 [==============================] - ETA: 0s - loss: 0.4111 - recall: 0.8632 - precision: 0.8632 - auc: 0.9124 - categorical_accuracy: 0.8632\n",
      "Epoch 00014: val_auc did not improve from 0.95620\n",
      "41/41 [==============================] - 15s 363ms/step - loss: 0.4111 - recall: 0.8632 - precision: 0.8632 - auc: 0.9124 - categorical_accuracy: 0.8632 - val_loss: 0.2888 - val_recall: 0.9000 - val_precision: 0.9000 - val_auc: 0.9498 - val_categorical_accuracy: 0.9000\n",
      "Epoch 15/200\n",
      "41/41 [==============================] - ETA: 0s - loss: 0.4260 - recall: 0.8308 - precision: 0.8308 - auc: 0.8985 - categorical_accuracy: 0.8308\n",
      "Epoch 00015: val_auc did not improve from 0.95620\n",
      "41/41 [==============================] - 15s 361ms/step - loss: 0.4260 - recall: 0.8308 - precision: 0.8308 - auc: 0.8985 - categorical_accuracy: 0.8308 - val_loss: 0.2888 - val_recall: 0.9000 - val_precision: 0.9000 - val_auc: 0.9499 - val_categorical_accuracy: 0.9000\n",
      "Epoch 16/200\n",
      "41/41 [==============================] - ETA: 0s - loss: 0.4003 - recall: 0.8458 - precision: 0.8458 - auc: 0.9148 - categorical_accuracy: 0.8458\n",
      "Epoch 00016: val_auc did not improve from 0.95620\n",
      "41/41 [==============================] - 15s 369ms/step - loss: 0.4003 - recall: 0.8458 - precision: 0.8458 - auc: 0.9148 - categorical_accuracy: 0.8458 - val_loss: 0.2889 - val_recall: 0.9000 - val_precision: 0.9000 - val_auc: 0.9500 - val_categorical_accuracy: 0.9000\n",
      "Epoch 17/200\n",
      "41/41 [==============================] - ETA: 0s - loss: 0.4212 - recall: 0.8408 - precision: 0.8408 - auc: 0.9100 - categorical_accuracy: 0.8408\n",
      "Epoch 00017: val_auc did not improve from 0.95620\n",
      "41/41 [==============================] - 15s 372ms/step - loss: 0.4212 - recall: 0.8408 - precision: 0.8408 - auc: 0.9100 - categorical_accuracy: 0.8408 - val_loss: 0.2884 - val_recall: 0.9000 - val_precision: 0.9000 - val_auc: 0.9505 - val_categorical_accuracy: 0.9000\n",
      "Epoch 18/200\n",
      "41/41 [==============================] - ETA: 0s - loss: 0.3906 - recall: 0.8284 - precision: 0.8284 - auc: 0.9159 - categorical_accuracy: 0.8284\n",
      "Epoch 00018: val_auc did not improve from 0.95620\n",
      "41/41 [==============================] - 15s 363ms/step - loss: 0.3906 - recall: 0.8284 - precision: 0.8284 - auc: 0.9159 - categorical_accuracy: 0.8284 - val_loss: 0.2884 - val_recall: 0.9000 - val_precision: 0.9000 - val_auc: 0.9505 - val_categorical_accuracy: 0.9000\n",
      "Epoch 19/200\n",
      "41/41 [==============================] - ETA: 0s - loss: 0.4201 - recall: 0.8284 - precision: 0.8284 - auc: 0.9012 - categorical_accuracy: 0.8284\n",
      "Epoch 00019: val_auc did not improve from 0.95620\n",
      "41/41 [==============================] - 15s 365ms/step - loss: 0.4201 - recall: 0.8284 - precision: 0.8284 - auc: 0.9012 - categorical_accuracy: 0.8284 - val_loss: 0.2885 - val_recall: 0.9000 - val_precision: 0.9000 - val_auc: 0.9501 - val_categorical_accuracy: 0.9000\n",
      "Epoch 20/200\n",
      "41/41 [==============================] - ETA: 0s - loss: 0.3678 - recall: 0.8458 - precision: 0.8458 - auc: 0.9266 - categorical_accuracy: 0.8458\n",
      "Epoch 00020: val_auc did not improve from 0.95620\n",
      "41/41 [==============================] - 15s 374ms/step - loss: 0.3678 - recall: 0.8458 - precision: 0.8458 - auc: 0.9266 - categorical_accuracy: 0.8458 - val_loss: 0.2887 - val_recall: 0.9000 - val_precision: 0.9000 - val_auc: 0.9502 - val_categorical_accuracy: 0.9000\n",
      "Epoch 21/200\n",
      "41/41 [==============================] - ETA: 0s - loss: 0.4144 - recall: 0.8234 - precision: 0.8234 - auc: 0.9043 - categorical_accuracy: 0.8234\n",
      "Epoch 00021: val_auc did not improve from 0.95620\n",
      "41/41 [==============================] - 15s 359ms/step - loss: 0.4144 - recall: 0.8234 - precision: 0.8234 - auc: 0.9043 - categorical_accuracy: 0.8234 - val_loss: 0.2886 - val_recall: 0.9000 - val_precision: 0.9000 - val_auc: 0.9499 - val_categorical_accuracy: 0.9000\n",
      "Epoch 22/200\n",
      "41/41 [==============================] - ETA: 0s - loss: 0.4486 - recall: 0.8159 - precision: 0.8159 - auc: 0.8917 - categorical_accuracy: 0.8159\n",
      "Epoch 00022: val_auc did not improve from 0.95620\n",
      "41/41 [==============================] - 15s 370ms/step - loss: 0.4486 - recall: 0.8159 - precision: 0.8159 - auc: 0.8917 - categorical_accuracy: 0.8159 - val_loss: 0.2886 - val_recall: 0.9000 - val_precision: 0.9000 - val_auc: 0.9500 - val_categorical_accuracy: 0.9000\n",
      "Epoch 23/200\n",
      "41/41 [==============================] - ETA: 0s - loss: 0.4051 - recall: 0.8532 - precision: 0.8532 - auc: 0.9090 - categorical_accuracy: 0.8532\n",
      "Epoch 00023: val_auc did not improve from 0.95620\n",
      "41/41 [==============================] - 15s 361ms/step - loss: 0.4051 - recall: 0.8532 - precision: 0.8532 - auc: 0.9090 - categorical_accuracy: 0.8532 - val_loss: 0.2885 - val_recall: 0.9000 - val_precision: 0.9000 - val_auc: 0.9500 - val_categorical_accuracy: 0.9000\n",
      "Epoch 24/200\n",
      "41/41 [==============================] - ETA: 0s - loss: 0.4217 - recall: 0.8209 - precision: 0.8209 - auc: 0.9024 - categorical_accuracy: 0.8209\n",
      "Epoch 00024: val_auc did not improve from 0.95620\n",
      "41/41 [==============================] - 15s 365ms/step - loss: 0.4217 - recall: 0.8209 - precision: 0.8209 - auc: 0.9024 - categorical_accuracy: 0.8209 - val_loss: 0.2885 - val_recall: 0.9000 - val_precision: 0.9000 - val_auc: 0.9500 - val_categorical_accuracy: 0.9000\n",
      "Epoch 25/200\n",
      "41/41 [==============================] - ETA: 0s - loss: 0.4119 - recall: 0.8433 - precision: 0.8433 - auc: 0.9044 - categorical_accuracy: 0.8433\n",
      "Epoch 00025: val_auc did not improve from 0.95620\n",
      "41/41 [==============================] - 15s 355ms/step - loss: 0.4119 - recall: 0.8433 - precision: 0.8433 - auc: 0.9044 - categorical_accuracy: 0.8433 - val_loss: 0.2885 - val_recall: 0.9000 - val_precision: 0.9000 - val_auc: 0.9503 - val_categorical_accuracy: 0.9000\n",
      "Epoch 26/200\n",
      "41/41 [==============================] - ETA: 0s - loss: 0.4046 - recall: 0.8433 - precision: 0.8433 - auc: 0.9078 - categorical_accuracy: 0.8433\n",
      "Epoch 00026: val_auc did not improve from 0.95620\n",
      "41/41 [==============================] - 15s 356ms/step - loss: 0.4046 - recall: 0.8433 - precision: 0.8433 - auc: 0.9078 - categorical_accuracy: 0.8433 - val_loss: 0.2882 - val_recall: 0.9000 - val_precision: 0.9000 - val_auc: 0.9505 - val_categorical_accuracy: 0.9000\n",
      "Wall time: 7min 36s\n"
     ]
    }
   ],
   "source": [
    "%%time\n",
    "\n",
    "model, checkpoint_dir, history = train(\n",
    "    model,\n",
    "    train_seq,\n",
    "    test_seq,\n",
    "    CHECKPOINT_DIRECTORY,\n",
    "    LOG_DIRECTORY,\n",
    "    DATA_DIR,\n",
    "    **train_config\n",
    ")"
   ]
  },
  {
   "cell_type": "markdown",
   "metadata": {},
   "source": [
    "## Evaluation"
   ]
  },
  {
   "cell_type": "code",
   "execution_count": 10,
   "metadata": {
    "scrolled": false
   },
   "outputs": [
    {
     "name": "stdout",
     "output_type": "stream",
     "text": [
      "Wall time: 142 ms\n"
     ]
    },
    {
     "data": {
      "image/png": "[encoded data removed]",
      "text/plain": [
       "<Figure size 864x1080 with 5 Axes>"
      ]
     },
     "metadata": {
      "needs_background": "light"
     },
     "output_type": "display_data"
    }
   ],
   "source": [
    "%%time\n",
    "\n",
    "plot_training_history(history)"
   ]
  },
  {
   "cell_type": "code",
   "execution_count": 11,
   "metadata": {},
   "outputs": [],
   "source": [
    "# load_checkpoint(model, DEFAULT_CHECKPOINT_DIRECTORY_LOCAL, '20201217-233514', 'cp-0038.ckpt')"
   ]
  },
  {
   "cell_type": "code",
   "execution_count": 12,
   "metadata": {
    "scrolled": true
   },
   "outputs": [
    {
     "name": "stdout",
     "output_type": "stream",
     "text": [
      "loss: 0.2637711763381958\n",
      "recall: 0.949999988079071\n",
      "precision: 0.949999988079071\n",
      "auc: 0.9562000036239624\n",
      "categorical_accuracy: 0.949999988079071\n",
      "\n",
      "Wall time: 25.1 s\n"
     ]
    }
   ],
   "source": [
    "%%time\n",
    "\n",
    "show_simple_metrics(model, test_seq)"
   ]
  },
  {
   "cell_type": "code",
   "execution_count": 13,
   "metadata": {
    "scrolled": false
   },
   "outputs": [
    {
     "name": "stdout",
     "output_type": "stream",
     "text": [
      "In binary classification, recall of the positive class is also known as “sensitivity”; recall of the negative class is “specificity”. (https://scikit-learn.org/stable/modules/generated/sklearn.metrics.classification_report.html)\n",
      "\u001b[1mAD\u001b[0m\n",
      "precision: 0.9523809523809523\n",
      "recall: 0.967741935483871\n",
      "f1-score: 0.96\n",
      "support: 62\n",
      "\n",
      "\n",
      "\u001b[1mCN\u001b[0m\n",
      "precision: 0.9459459459459459\n",
      "recall: 0.9210526315789473\n",
      "f1-score: 0.9333333333333332\n",
      "support: 38\n",
      "\n",
      "\n",
      "\u001b[1mmicro avg\u001b[0m\n",
      "precision: 0.95\n",
      "recall: 0.95\n",
      "f1-score: 0.9500000000000001\n",
      "support: 100\n",
      "\n",
      "\n",
      "\u001b[1mmacro avg\u001b[0m\n",
      "precision: 0.9491634491634491\n",
      "recall: 0.9443972835314092\n",
      "f1-score: 0.9466666666666665\n",
      "support: 100\n",
      "\n",
      "\n",
      "\u001b[1mweighted avg\u001b[0m\n",
      "precision: 0.9499356499356498\n",
      "recall: 0.95\n",
      "f1-score: 0.9498666666666665\n",
      "support: 100\n",
      "\n",
      "\n",
      "\u001b[1msamples avg\u001b[0m\n",
      "precision: 0.95\n",
      "recall: 0.95\n",
      "f1-score: 0.95\n",
      "support: 100\n",
      "\n",
      "\n",
      "\u001b[1mF1\u001b[0m\n",
      "micro: 0.9500000000000001\n",
      "macro: 0.9466666666666665\n",
      "\n",
      "\n",
      "accuracy_score: 0.95\n",
      "sensitivity_score: 0.967741935483871\n",
      "specificity_score: 0.9210526315789473\n",
      "\n",
      "\n",
      "Wall time: 22.9 s\n"
     ]
    },
    {
     "data": {
      "image/png": "[encoded data removed]",
      "text/plain": [
       "<Figure size 576x576 with 2 Axes>"
      ]
     },
     "metadata": {
      "needs_background": "light"
     },
     "output_type": "display_data"
    }
   ],
   "source": [
    "%%time\n",
    "\n",
    "show_metrics(model, test_seq, class_names)"
   ]
  },
  {
   "cell_type": "code",
   "execution_count": 15,
   "metadata": {},
   "outputs": [
    {
     "name": "stdout",
     "output_type": "stream",
     "text": [
      "In binary classification, recall of the positive class is also known as “sensitivity”; recall of the negative class is “specificity”. (https://scikit-learn.org/stable/modules/generated/sklearn.metrics.classification_report.html)\n",
      "\u001b[1mAD\u001b[0m\n",
      "precision: 0.9299610894941635\n",
      "recall: 0.9598393574297188\n",
      "f1-score: 0.9446640316205533\n",
      "support: 249\n",
      "\n",
      "\n",
      "\u001b[1mCN\u001b[0m\n",
      "precision: 0.9310344827586207\n",
      "recall: 0.8823529411764706\n",
      "f1-score: 0.906040268456376\n",
      "support: 153\n",
      "\n",
      "\n",
      "\u001b[1mmicro avg\u001b[0m\n",
      "precision: 0.9303482587064676\n",
      "recall: 0.9303482587064676\n",
      "f1-score: 0.9303482587064678\n",
      "support: 402\n",
      "\n",
      "\n",
      "\u001b[1mmacro avg\u001b[0m\n",
      "precision: 0.9304977861263921\n",
      "recall: 0.9210961493030947\n",
      "f1-score: 0.9253521500384647\n",
      "support: 402\n",
      "\n",
      "\n",
      "\u001b[1mweighted avg\u001b[0m\n",
      "precision: 0.9303696197664568\n",
      "recall: 0.9303482587064676\n",
      "f1-score: 0.9299639426550829\n",
      "support: 402\n",
      "\n",
      "\n",
      "\u001b[1msamples avg\u001b[0m\n",
      "precision: 0.9303482587064676\n",
      "recall: 0.9303482587064676\n",
      "f1-score: 0.9303482587064676\n",
      "support: 402\n",
      "\n",
      "\n",
      "\u001b[1mF1\u001b[0m\n",
      "micro: 0.9303482587064678\n",
      "macro: 0.9253521500384647\n",
      "\n",
      "\n",
      "accuracy_score: 0.9303482587064676\n",
      "sensitivity_score: 0.9598393574297188\n",
      "specificity_score: 0.8823529411764706\n",
      "\n",
      "\n",
      "Wall time: 1min 44s\n"
     ]
    },
    {
     "data": {
      "image/png": "[encoded data removed]",
      "text/plain": [
       "<Figure size 576x576 with 2 Axes>"
      ]
     },
     "metadata": {
      "needs_background": "light"
     },
     "output_type": "display_data"
    }
   ],
   "source": [
    "%%time\n",
    "\n",
    "show_metrics(model, train_seq, class_names)"
   ]
  },
  {
   "cell_type": "code",
   "execution_count": 16,
   "metadata": {},
   "outputs": [
    {
     "name": "stdout",
     "output_type": "stream",
     "text": [
      "loading checkpoint from ../../tmp\\bckp-checkpoints\\3d_ResNetCustom_v6\\cp-0038.ckpt...\n"
     ]
    }
   ],
   "source": [
    "load_checkpoint(model, DEFAULT_BCKP_CHECKPOINT_DIRECTORY_LOCAL, '3d_ResNetCustom_v6', 'cp-0038.ckpt')"
   ]
  },
  {
   "cell_type": "code",
   "execution_count": 17,
   "metadata": {},
   "outputs": [
    {
     "name": "stdout",
     "output_type": "stream",
     "text": [
      "In binary classification, recall of the positive class is also known as “sensitivity”; recall of the negative class is “specificity”. (https://scikit-learn.org/stable/modules/generated/sklearn.metrics.classification_report.html)\n",
      "\u001b[1mAD\u001b[0m\n",
      "precision: 0.9523809523809523\n",
      "recall: 0.967741935483871\n",
      "f1-score: 0.96\n",
      "support: 62\n",
      "\n",
      "\n",
      "\u001b[1mCN\u001b[0m\n",
      "precision: 0.9459459459459459\n",
      "recall: 0.9210526315789473\n",
      "f1-score: 0.9333333333333332\n",
      "support: 38\n",
      "\n",
      "\n",
      "\u001b[1mmicro avg\u001b[0m\n",
      "precision: 0.95\n",
      "recall: 0.95\n",
      "f1-score: 0.9500000000000001\n",
      "support: 100\n",
      "\n",
      "\n",
      "\u001b[1mmacro avg\u001b[0m\n",
      "precision: 0.9491634491634491\n",
      "recall: 0.9443972835314092\n",
      "f1-score: 0.9466666666666665\n",
      "support: 100\n",
      "\n",
      "\n",
      "\u001b[1mweighted avg\u001b[0m\n",
      "precision: 0.9499356499356498\n",
      "recall: 0.95\n",
      "f1-score: 0.9498666666666665\n",
      "support: 100\n",
      "\n",
      "\n",
      "\u001b[1msamples avg\u001b[0m\n",
      "precision: 0.95\n",
      "recall: 0.95\n",
      "f1-score: 0.95\n",
      "support: 100\n",
      "\n",
      "\n",
      "\u001b[1mF1\u001b[0m\n",
      "micro: 0.9500000000000001\n",
      "macro: 0.9466666666666665\n",
      "\n",
      "\n",
      "accuracy_score: 0.95\n",
      "sensitivity_score: 0.967741935483871\n",
      "specificity_score: 0.9210526315789473\n",
      "\n",
      "\n",
      "Wall time: 22.5 s\n"
     ]
    },
    {
     "data": {
      "image/png": "[encoded data removed]",
      "text/plain": [
       "<Figure size 576x576 with 2 Axes>"
      ]
     },
     "metadata": {
      "needs_background": "light"
     },
     "output_type": "display_data"
    }
   ],
   "source": [
    "%%time\n",
    "\n",
    "show_metrics(model, test_seq, class_names)"
   ]
  },
  {
   "cell_type": "code",
   "execution_count": 19,
   "metadata": {},
   "outputs": [
    {
     "name": "stdout",
     "output_type": "stream",
     "text": [
      "In binary classification, recall of the positive class is also known as “sensitivity”; recall of the negative class is “specificity”. (https://scikit-learn.org/stable/modules/generated/sklearn.metrics.classification_report.html)\n",
      "\u001b[1mAD\u001b[0m\n",
      "precision: 0.9097744360902256\n",
      "recall: 0.9718875502008032\n",
      "f1-score: 0.9398058252427185\n",
      "support: 249\n",
      "\n",
      "\n",
      "\u001b[1mCN\u001b[0m\n",
      "precision: 0.9485294117647058\n",
      "recall: 0.8431372549019608\n",
      "f1-score: 0.892733564013841\n",
      "support: 153\n",
      "\n",
      "\n",
      "\u001b[1mmicro avg\u001b[0m\n",
      "precision: 0.9228855721393034\n",
      "recall: 0.9228855721393034\n",
      "f1-score: 0.9228855721393034\n",
      "support: 402\n",
      "\n",
      "\n",
      "\u001b[1mmacro avg\u001b[0m\n",
      "precision: 0.9291519239274657\n",
      "recall: 0.907512402551382\n",
      "f1-score: 0.9162696946282798\n",
      "support: 402\n",
      "\n",
      "\n",
      "\u001b[1mweighted avg\u001b[0m\n",
      "precision: 0.9245244641454381\n",
      "recall: 0.9228855721393034\n",
      "f1-score: 0.9218902631332204\n",
      "support: 402\n",
      "\n",
      "\n",
      "\u001b[1msamples avg\u001b[0m\n",
      "precision: 0.9228855721393034\n",
      "recall: 0.9228855721393034\n",
      "f1-score: 0.9228855721393034\n",
      "support: 402\n",
      "\n",
      "\n",
      "\u001b[1mF1\u001b[0m\n",
      "micro: 0.9228855721393034\n",
      "macro: 0.9162696946282798\n",
      "\n",
      "\n",
      "accuracy_score: 0.9228855721393034\n",
      "sensitivity_score: 0.9718875502008032\n",
      "specificity_score: 0.8431372549019608\n",
      "\n",
      "\n",
      "Wall time: 1min 30s\n"
     ]
    },
    {
     "data": {
      "image/png": "[encoded data removed]",
      "text/plain": [
       "<Figure size 576x576 with 2 Axes>"
      ]
     },
     "metadata": {
      "needs_background": "light"
     },
     "output_type": "display_data"
    }
   ],
   "source": [
    "%%time\n",
    "\n",
    "show_metrics(model, train_seq, class_names)"
   ]
  },
  {
   "cell_type": "markdown",
   "metadata": {},
   "source": [
    "I trained this model on Google Cloud with different train-test-split, that's the reason for these results."
   ]
  }
 ],
 "metadata": {
  "kernelspec": {
   "display_name": "Python 3",
   "language": "python",
   "name": "python3"
  },
  "language_info": {
   "codemirror_mode": {
    "name": "ipython",
    "version": 3
   },
   "file_extension": ".py",
   "mimetype": "text/x-python",
   "name": "python",
   "nbconvert_exporter": "python",
   "pygments_lexer": "ipython3",
   "version": "3.7.9"
  }
 },
 "nbformat": 4,
 "nbformat_minor": 1
}

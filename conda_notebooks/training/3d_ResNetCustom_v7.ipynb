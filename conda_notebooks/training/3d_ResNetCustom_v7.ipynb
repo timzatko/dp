{
 "cells": [
  {
   "cell_type": "markdown",
   "metadata": {},
   "source": [
    "# 3D ResNet"
   ]
  },
  {
   "cell_type": "markdown",
   "metadata": {},
   "source": [
    "Basic + Augmentations (invert, rotate, zoom, blur, noise) + Dropout (0.5) + L2 (0.000005)"
   ]
  },
  {
   "cell_type": "code",
   "execution_count": 1,
   "metadata": {},
   "outputs": [],
   "source": [
    "%load_ext autoreload\n",
    "%autoreload 2\n",
    "\n",
    "import sys\n",
    "sys.path.append('../..')\n",
    "\n",
    "import datetime\n",
    "import os\n",
    "os.environ[\"CUDA_VISIBLE_DEVICES\"]=\"0\"\n",
    "\n",
    "import numpy as np\n",
    "\n",
    "from src.data import train_test_split, MRISequence\n",
    "from src.model import create_model, compile_model, load_checkpoint\n",
    "from src.model.training import train\n",
    "from src.model.evaluation import plot_training_history, show_simple_metrics, show_metrics"
   ]
  },
  {
   "cell_type": "code",
   "execution_count": 2,
   "metadata": {},
   "outputs": [
    {
     "name": "stdout",
     "output_type": "stream",
     "text": [
      "2.3.1\n",
      "Num GPUs Available:  1\n"
     ]
    }
   ],
   "source": [
    "import tensorflow as tf\n",
    "\n",
    "# RANDOM_SEED = 300785674475887\n",
    "# tf.random.set_seed(RANDOM_SEED)\n",
    "\n",
    "print(tf.version.VERSION)\n",
    "print(\"Num GPUs Available: \", len(tf.config.experimental.list_physical_devices('GPU')))"
   ]
  },
  {
   "cell_type": "code",
   "execution_count": 3,
   "metadata": {},
   "outputs": [],
   "source": [
    "# gpus = tf.config.experimental.list_physical_devices('GPU')\n",
    "# if gpus:\n",
    "#     # Restrict TensorFlow to only allocate 1GB * 2 of memory on the first GPU\n",
    "#     try:\n",
    "#         tf.config.experimental.set_virtual_device_configuration(\n",
    "#             gpus[0],\n",
    "#             [tf.config.experimental.VirtualDeviceConfiguration(memory_limit=1024 * 2)])\n",
    "#         logical_gpus = tf.config.experimental.list_logical_devices('GPU')\n",
    "#         print(len(gpus), \"Physical GPUs,\", len(logical_gpus), \"Logical GPUs\")\n",
    "#     except RuntimeError as e:\n",
    "#         # Virtual devices must be set before GPUs have been initialized\n",
    "#         print(e)"
   ]
  },
  {
   "cell_type": "markdown",
   "metadata": {},
   "source": [
    "## Setup"
   ]
  },
  {
   "cell_type": "code",
   "execution_count": 4,
   "metadata": {},
   "outputs": [
    {
     "name": "stdout",
     "output_type": "stream",
     "text": [
      "not copying files since the destination directory already exists\n",
      "initializing train_seq...\n",
      "initializing test_seq...\n",
      "val_seq = test_seq\n",
      "log_dir: ../../tmp\\logs\\20201218-105950\n",
      "Wall time: 13.5 ms\n"
     ]
    }
   ],
   "source": [
    "%%time\n",
    "\n",
    "ROOT_DIR = '../../tmp'\n",
    "DEFAULT_CHECKPOINT_DIRECTORY_LOCAL = os.path.join(ROOT_DIR, 'checkpoints')\n",
    "DEFAULT_BCKP_CHECKPOINT_DIRECTORY_LOCAL = os.path.join(ROOT_DIR, 'bckp-checkpoints')\n",
    "\n",
    "LOG_DIRECTORY = os.path.join(ROOT_DIR, 'logs')\n",
    "CHECKPOINT_DIRECTORY = DEFAULT_CHECKPOINT_DIRECTORY_LOCAL\n",
    "\n",
    "LOG_DIRECTORY_LOCAL = LOG_DIRECTORY\n",
    "CHECKPOINT_DIRECTORY_LOCAL = CHECKPOINT_DIRECTORY\n",
    "\n",
    "DATA_DIR_NAME = 'data-v3'\n",
    "DATA_DIR = os.path.join(ROOT_DIR, DATA_DIR_NAME)\n",
    "\n",
    "saliencies_and_segmentations_v2_path = os.path.join(ROOT_DIR, 'saliencies_and_segmentations_v2')\n",
    "\n",
    "if not os.path.exists(CHECKPOINT_DIRECTORY):\n",
    "    os.mkdir(CHECKPOINT_DIRECTORY)\n",
    "\n",
    "if not os.path.exists(LOG_DIRECTORY):\n",
    "    os.mkdir(LOG_DIRECTORY)\n",
    "\n",
    "val = False\n",
    "    \n",
    "class_names = ['AD', 'CN']\n",
    "\n",
    "# get paths to data\n",
    "train_dir, test_dir, val_dir = train_test_split(\n",
    "    saliencies_and_segmentations_v2_path, \n",
    "    ROOT_DIR, \n",
    "    split=(0.8, 0.15, 0.05), \n",
    "    dirname=DATA_DIR_NAME)\n",
    "\n",
    "# set the batch size for mri seq\n",
    "batch_size = 12\n",
    "input_shape = (104, 128, 104, 1) # (112, 112, 105, 1)\n",
    "resize_img = True\n",
    "crop_img = True\n",
    "\n",
    "# if y is one-hot encoded or just scalar number\n",
    "one_hot = True\n",
    "\n",
    "# class weights (see analysis notebook)\n",
    "class_weights = {0: 0.8072289156626505, 1: 1.3137254901960784}\n",
    "\n",
    "# description statistics of the dataset\n",
    "desc = {'mean': -3.6344006e-09, 'std': 1.0000092, 'min': -1.4982183, 'max': 10.744175}\n",
    "\n",
    "if 'desc' not in locals():\n",
    "    print('initializing desc...')\n",
    "    desc = get_description(MRISequence(\n",
    "        train_dir,\n",
    "        64,\n",
    "        class_names=class_names,\n",
    "        input_shape=input_shape),\n",
    "        max_samples=None)\n",
    "    print(desc)\n",
    "\n",
    "\n",
    "normalization={ 'type':'normalization', 'desc': desc }\n",
    "# normalization={'type':'standardization', 'desc':desc }\n",
    "\n",
    "augmentations = None\n",
    "augmentations_inplace = True\n",
    "# enable augmentations in mri seq (otherwise it can be enabled in dataset)\n",
    "# augmentations={ 'random_swap_hemispheres': 0.5 }\n",
    "\n",
    "# initialize sequences\n",
    "print('initializing train_seq...')\n",
    "train_seq = MRISequence(\n",
    "    train_dir,\n",
    "    batch_size,\n",
    "    class_names=class_names,\n",
    "    augmentations=augmentations,\n",
    "    augmentations_inplace=augmentations_inplace,\n",
    "    input_shape=input_shape,\n",
    "    resize_img=resize_img,\n",
    "    crop_img=crop_img,\n",
    "    one_hot=one_hot,\n",
    "    class_weights=class_weights,\n",
    "    normalization=normalization)\n",
    "\n",
    "print('initializing test_seq...')\n",
    "test_seq = MRISequence(\n",
    "    test_dir,\n",
    "    batch_size,\n",
    "    class_names=class_names,\n",
    "    input_shape=input_shape,\n",
    "    resize_img=resize_img,\n",
    "    crop_img=crop_img,\n",
    "    one_hot=one_hot,\n",
    "    normalization=normalization)\n",
    "\n",
    "if val:\n",
    "    print('initializing val_seq...')\n",
    "    val_seq = MRISequence(\n",
    "        val_dir,\n",
    "        batch_size,\n",
    "        class_names=class_names,\n",
    "        input_shape=input_shape,\n",
    "        resize_img=resize_img,\n",
    "        crop_img=crop_img,\n",
    "        one_hot=one_hot,\n",
    "        class_weights=class_weights,\n",
    "        normalization=normalization)\n",
    "else:\n",
    "    print('val_seq = test_seq')\n",
    "    val_seq = test_seq\n",
    "    \n",
    "model_key = datetime.datetime.now().strftime('%Y%m%d-%H%M%S')\n",
    "log_dir = os.path.join(LOG_DIRECTORY, model_key)\n",
    "print(f'log_dir: {log_dir}')"
   ]
  },
  {
   "cell_type": "code",
   "execution_count": 5,
   "metadata": {},
   "outputs": [],
   "source": [
    "# https://www.tensorflow.org/tutorials/structured_data/imbalanced_data#class_weights\n",
    "# pos / neg\n",
    "initial_bias = np.log([159/243, 243/159])\n",
    "\n",
    "model_type = '3DResNet18'\n",
    "model_config = {\n",
    "    'input_shape': input_shape,\n",
    "    'class_names': class_names,\n",
    "#     'l2_beta': 0.001,\n",
    "    'l2_beta': 0.000005,\n",
    "#     'l2_beta': None,\n",
    "    'dropout': 0.5,\n",
    "    'blocks': (2, 2, 2),\n",
    "    'filters': (64, 128, 256),\n",
    "#     'dropout': None,\n",
    "    'output_bias': initial_bias,\n",
    "#     'output_bias': None,\n",
    "}\n",
    "\n",
    "compile_config = {\n",
    "    # default is 0.001\n",
    "#     'learning_rate': 0.000075,\n",
    "    'learning_rate': 0.000025,\n",
    "    'decay_steps': 10,\n",
    "    'decay_rate': 0.96,\n",
    "#     'beta_1': 0.85,\n",
    "    'beta_1': 0.90,\n",
    "#     'beta_2': 0.990,\n",
    "    'beta_2': 0.999,\n",
    "}\n",
    "\n",
    "train_config = {\n",
    "    'model_key': model_key,\n",
    "    'epochs': 200,\n",
    "    'patience': 25,\n",
    "    'tensorboard_update_freq': 'epoch',\n",
    "    'mri_tensorboard_callback': False,\n",
    "    'model_checkpoint_callback': {'monitor': 'val_auc', 'mode': 'max', 'save_best_only': True},\n",
    "    'early_stopping_monitor': {'monitor': 'val_auc', 'mode': 'max'},\n",
    "    'augmentations': {\n",
    "        'invert': (0.5, None),\n",
    "        'rotate': (0.2, 5), # probability, degrees\n",
    "        'zoom': (0.2, 0.015),\n",
    "        'shear': (0, 2.5), # probability, degrees\n",
    "        'blur': (0.2, 0.8),\n",
    "        'noise': (0.2, 0.00025)\n",
    "    },\n",
    "#     'augmentations': False,\n",
    "    'batch_size': 10,\n",
    "#     'model_checkpoint_callback': False,\n",
    "}"
   ]
  },
  {
   "cell_type": "markdown",
   "metadata": {},
   "source": [
    "## Train"
   ]
  },
  {
   "cell_type": "code",
   "execution_count": 6,
   "metadata": {
    "scrolled": false
   },
   "outputs": [
    {
     "name": "stdout",
     "output_type": "stream",
     "text": [
      "Model: \"sequential\"\n",
      "_________________________________________________________________\n",
      "Layer (type)                 Output Shape              Param #   \n",
      "=================================================================\n",
      "my_res_net (MyResNet)        (None, 256)               8323712   \n",
      "_________________________________________________________________\n",
      "dropout (Dropout)            (None, 256)               0         \n",
      "_________________________________________________________________\n",
      "dense_1 (Dense)              (None, 128)               32896     \n",
      "_________________________________________________________________\n",
      "dropout_1 (Dropout)          (None, 128)               0         \n",
      "_________________________________________________________________\n",
      "dense_2 (Dense)              (None, 2)                 258       \n",
      "=================================================================\n",
      "Total params: 8,356,866\n",
      "Trainable params: 8,352,386\n",
      "Non-trainable params: 4,480\n",
      "_________________________________________________________________\n"
     ]
    }
   ],
   "source": [
    "model = create_model(model_type, model_config)\n",
    "model, *_ = compile_model(model, **compile_config)\n",
    "model.build(input_shape=input_shape)\n",
    "model.summary()"
   ]
  },
  {
   "cell_type": "code",
   "execution_count": 7,
   "metadata": {},
   "outputs": [],
   "source": [
    "# load_checkpoint(model, DEFAULT_BCKP_CHECKPOINT_DIRECTORY_LOCAL, '3d_ResNetCustom_v6', 'cp-0038.ckpt')"
   ]
  },
  {
   "cell_type": "code",
   "execution_count": 8,
   "metadata": {},
   "outputs": [
    {
     "name": "stdout",
     "output_type": "stream",
     "text": [
      "['/device:GPU:0']\n"
     ]
    }
   ],
   "source": [
    "from tensorflow.python.client import device_lib\n",
    "\n",
    "def get_available_gpus():\n",
    "    local_device_protos = device_lib.list_local_devices()\n",
    "    return [x.name for x in local_device_protos if x.device_type == 'GPU']\n",
    "\n",
    "print(get_available_gpus())"
   ]
  },
  {
   "cell_type": "code",
   "execution_count": 9,
   "metadata": {
    "scrolled": false
   },
   "outputs": [
    {
     "name": "stdout",
     "output_type": "stream",
     "text": [
      "model key: 20201218-105950\n",
      "checkpoint dir: ../../tmp\\checkpoints\\20201218-105950\n",
      "log dir: ../../tmp\\logs\\20201218-105950\n",
      "loading ../../tmp\\data-v3\\train_x.npy, ../../tmp\\data-v3\\train_y.npy...\n",
      "loading ../../tmp\\data-v3\\val_x.npy, ../../tmp\\data-v3\\val_y.npy...\n",
      "training...\n",
      "WARNING:tensorflow:Model failed to serialize as JSON. Ignoring... \n",
      "Epoch 1/200\n",
      "41/41 [==============================] - ETA: 0s - loss: 0.8896 - recall: 0.5274 - precision: 0.5274 - auc: 0.5483 - categorical_accuracy: 0.5274\n",
      "Epoch 00001: val_auc improved from -inf to 0.38000, saving model to ../../tmp\\checkpoints\\20201218-105950\\cp-0001.ckpt\n",
      "41/41 [==============================] - 16s 389ms/step - loss: 0.8896 - recall: 0.5274 - precision: 0.5274 - auc: 0.5483 - categorical_accuracy: 0.5274 - val_loss: 0.7695 - val_recall: 0.3800 - val_precision: 0.3800 - val_auc: 0.3800 - val_categorical_accuracy: 0.3800\n",
      "Epoch 2/200\n",
      "41/41 [==============================] - ETA: 0s - loss: 0.8512 - recall: 0.5249 - precision: 0.5249 - auc: 0.5408 - categorical_accuracy: 0.5249\n",
      "Epoch 00002: val_auc did not improve from 0.38000\n",
      "41/41 [==============================] - 15s 355ms/step - loss: 0.8512 - recall: 0.5249 - precision: 0.5249 - auc: 0.5408 - categorical_accuracy: 0.5249 - val_loss: 0.7752 - val_recall: 0.3800 - val_precision: 0.3800 - val_auc: 0.3800 - val_categorical_accuracy: 0.3800\n",
      "Epoch 3/200\n",
      "41/41 [==============================] - ETA: 0s - loss: 0.8382 - recall: 0.5498 - precision: 0.5498 - auc: 0.5398 - categorical_accuracy: 0.5498\n",
      "Epoch 00003: val_auc improved from 0.38000 to 0.38180, saving model to ../../tmp\\checkpoints\\20201218-105950\\cp-0003.ckpt\n",
      "41/41 [==============================] - 15s 367ms/step - loss: 0.8382 - recall: 0.5498 - precision: 0.5498 - auc: 0.5398 - categorical_accuracy: 0.5498 - val_loss: 0.7538 - val_recall: 0.3800 - val_precision: 0.3800 - val_auc: 0.3818 - val_categorical_accuracy: 0.3800\n",
      "Epoch 4/200\n",
      "41/41 [==============================] - ETA: 0s - loss: 0.7635 - recall: 0.5423 - precision: 0.5423 - auc: 0.5853 - categorical_accuracy: 0.5423\n",
      "Epoch 00004: val_auc did not improve from 0.38180\n",
      "41/41 [==============================] - 15s 356ms/step - loss: 0.7635 - recall: 0.5423 - precision: 0.5423 - auc: 0.5853 - categorical_accuracy: 0.5423 - val_loss: 0.7184 - val_recall: 0.3800 - val_precision: 0.3800 - val_auc: 0.3800 - val_categorical_accuracy: 0.3800\n",
      "Epoch 5/200\n",
      "41/41 [==============================] - ETA: 0s - loss: 0.7650 - recall: 0.5498 - precision: 0.5498 - auc: 0.5923 - categorical_accuracy: 0.5498\n",
      "Epoch 00005: val_auc improved from 0.38180 to 0.58500, saving model to ../../tmp\\checkpoints\\20201218-105950\\cp-0005.ckpt\n",
      "41/41 [==============================] - 15s 369ms/step - loss: 0.7650 - recall: 0.5498 - precision: 0.5498 - auc: 0.5923 - categorical_accuracy: 0.5498 - val_loss: 0.7039 - val_recall: 0.6200 - val_precision: 0.6200 - val_auc: 0.5850 - val_categorical_accuracy: 0.6200\n",
      "Epoch 6/200\n",
      "41/41 [==============================] - ETA: 0s - loss: 0.7907 - recall: 0.5174 - precision: 0.5174 - auc: 0.5506 - categorical_accuracy: 0.5174\n",
      "Epoch 00006: val_auc did not improve from 0.58500\n",
      "41/41 [==============================] - 15s 357ms/step - loss: 0.7907 - recall: 0.5174 - precision: 0.5174 - auc: 0.5506 - categorical_accuracy: 0.5174 - val_loss: 0.7118 - val_recall: 0.6200 - val_precision: 0.6200 - val_auc: 0.5624 - val_categorical_accuracy: 0.6200\n",
      "Epoch 7/200\n",
      "41/41 [==============================] - ETA: 0s - loss: 0.6872 - recall: 0.6169 - precision: 0.6169 - auc: 0.6518 - categorical_accuracy: 0.6169\n",
      "Epoch 00007: val_auc did not improve from 0.58500\n",
      "41/41 [==============================] - 15s 356ms/step - loss: 0.6872 - recall: 0.6169 - precision: 0.6169 - auc: 0.6518 - categorical_accuracy: 0.6169 - val_loss: 0.7390 - val_recall: 0.6200 - val_precision: 0.6200 - val_auc: 0.5638 - val_categorical_accuracy: 0.6200\n",
      "Epoch 8/200\n",
      "41/41 [==============================] - ETA: 0s - loss: 0.7745 - recall: 0.5199 - precision: 0.5199 - auc: 0.5456 - categorical_accuracy: 0.5199\n",
      "Epoch 00008: val_auc improved from 0.58500 to 0.59360, saving model to ../../tmp\\checkpoints\\20201218-105950\\cp-0008.ckpt\n",
      "41/41 [==============================] - 15s 369ms/step - loss: 0.7745 - recall: 0.5199 - precision: 0.5199 - auc: 0.5456 - categorical_accuracy: 0.5199 - val_loss: 0.9650 - val_recall: 0.6200 - val_precision: 0.6200 - val_auc: 0.5936 - val_categorical_accuracy: 0.6200\n",
      "Epoch 9/200\n",
      "41/41 [==============================] - ETA: 0s - loss: 0.7321 - recall: 0.5597 - precision: 0.5597 - auc: 0.6023 - categorical_accuracy: 0.5597\n",
      "Epoch 00009: val_auc improved from 0.59360 to 0.60680, saving model to ../../tmp\\checkpoints\\20201218-105950\\cp-0009.ckpt\n",
      "41/41 [==============================] - 15s 369ms/step - loss: 0.7321 - recall: 0.5597 - precision: 0.5597 - auc: 0.6023 - categorical_accuracy: 0.5597 - val_loss: 1.2171 - val_recall: 0.6200 - val_precision: 0.6200 - val_auc: 0.6068 - val_categorical_accuracy: 0.6200\n",
      "Epoch 10/200\n",
      "41/41 [==============================] - ETA: 0s - loss: 0.6420 - recall: 0.6194 - precision: 0.6194 - auc: 0.6915 - categorical_accuracy: 0.6194\n",
      "Epoch 00010: val_auc improved from 0.60680 to 0.64240, saving model to ../../tmp\\checkpoints\\20201218-105950\\cp-0010.ckpt\n",
      "41/41 [==============================] - 15s 368ms/step - loss: 0.6420 - recall: 0.6194 - precision: 0.6194 - auc: 0.6915 - categorical_accuracy: 0.6194 - val_loss: 1.0139 - val_recall: 0.6200 - val_precision: 0.6200 - val_auc: 0.6424 - val_categorical_accuracy: 0.6200\n",
      "Epoch 11/200\n",
      "41/41 [==============================] - ETA: 0s - loss: 0.7022 - recall: 0.6119 - precision: 0.6119 - auc: 0.6471 - categorical_accuracy: 0.6119\n",
      "Epoch 00011: val_auc did not improve from 0.64240\n",
      "41/41 [==============================] - 15s 358ms/step - loss: 0.7022 - recall: 0.6119 - precision: 0.6119 - auc: 0.6471 - categorical_accuracy: 0.6119 - val_loss: 1.1397 - val_recall: 0.6200 - val_precision: 0.6200 - val_auc: 0.6266 - val_categorical_accuracy: 0.6200\n",
      "Epoch 12/200\n",
      "41/41 [==============================] - ETA: 0s - loss: 0.6453 - recall: 0.6294 - precision: 0.6294 - auc: 0.6872 - categorical_accuracy: 0.6294\n",
      "Epoch 00012: val_auc did not improve from 0.64240\n",
      "41/41 [==============================] - 15s 358ms/step - loss: 0.6453 - recall: 0.6294 - precision: 0.6294 - auc: 0.6872 - categorical_accuracy: 0.6294 - val_loss: 1.1751 - val_recall: 0.6200 - val_precision: 0.6200 - val_auc: 0.6260 - val_categorical_accuracy: 0.6200\n",
      "Epoch 13/200\n",
      "41/41 [==============================] - ETA: 0s - loss: 0.6644 - recall: 0.6393 - precision: 0.6393 - auc: 0.6932 - categorical_accuracy: 0.6393\n",
      "Epoch 00013: val_auc improved from 0.64240 to 0.64370, saving model to ../../tmp\\checkpoints\\20201218-105950\\cp-0013.ckpt\n",
      "41/41 [==============================] - 15s 371ms/step - loss: 0.6644 - recall: 0.6393 - precision: 0.6393 - auc: 0.6932 - categorical_accuracy: 0.6393 - val_loss: 1.0220 - val_recall: 0.6200 - val_precision: 0.6200 - val_auc: 0.6437 - val_categorical_accuracy: 0.6200\n",
      "Epoch 14/200\n",
      "41/41 [==============================] - ETA: 0s - loss: 0.6701 - recall: 0.6368 - precision: 0.6368 - auc: 0.6740 - categorical_accuracy: 0.6368\n",
      "Epoch 00014: val_auc improved from 0.64370 to 0.64390, saving model to ../../tmp\\checkpoints\\20201218-105950\\cp-0014.ckpt\n",
      "41/41 [==============================] - 15s 369ms/step - loss: 0.6701 - recall: 0.6368 - precision: 0.6368 - auc: 0.6740 - categorical_accuracy: 0.6368 - val_loss: 0.9084 - val_recall: 0.6200 - val_precision: 0.6200 - val_auc: 0.6439 - val_categorical_accuracy: 0.6200\n",
      "Epoch 15/200\n",
      "41/41 [==============================] - ETA: 0s - loss: 0.6577 - recall: 0.6318 - precision: 0.6318 - auc: 0.6863 - categorical_accuracy: 0.6318\n",
      "Epoch 00015: val_auc did not improve from 0.64390\n",
      "41/41 [==============================] - 15s 358ms/step - loss: 0.6577 - recall: 0.6318 - precision: 0.6318 - auc: 0.6863 - categorical_accuracy: 0.6318 - val_loss: 0.8043 - val_recall: 0.6100 - val_precision: 0.6100 - val_auc: 0.6425 - val_categorical_accuracy: 0.6100\n",
      "Epoch 16/200\n",
      "41/41 [==============================] - ETA: 0s - loss: 0.6388 - recall: 0.6642 - precision: 0.6642 - auc: 0.7208 - categorical_accuracy: 0.6642\n",
      "Epoch 00016: val_auc improved from 0.64390 to 0.65610, saving model to ../../tmp\\checkpoints\\20201218-105950\\cp-0016.ckpt\n",
      "41/41 [==============================] - 15s 375ms/step - loss: 0.6388 - recall: 0.6642 - precision: 0.6642 - auc: 0.7208 - categorical_accuracy: 0.6642 - val_loss: 0.6765 - val_recall: 0.6300 - val_precision: 0.6300 - val_auc: 0.6561 - val_categorical_accuracy: 0.6300\n",
      "Epoch 17/200\n",
      "41/41 [==============================] - ETA: 0s - loss: 0.6459 - recall: 0.6716 - precision: 0.6716 - auc: 0.7147 - categorical_accuracy: 0.6716\n",
      "Epoch 00017: val_auc did not improve from 0.65610\n",
      "41/41 [==============================] - 15s 359ms/step - loss: 0.6459 - recall: 0.6716 - precision: 0.6716 - auc: 0.7147 - categorical_accuracy: 0.6716 - val_loss: 0.6607 - val_recall: 0.5600 - val_precision: 0.5600 - val_auc: 0.5873 - val_categorical_accuracy: 0.5600\n",
      "Epoch 18/200\n",
      "41/41 [==============================] - ETA: 0s - loss: 0.6120 - recall: 0.6443 - precision: 0.6443 - auc: 0.7198 - categorical_accuracy: 0.6443\n",
      "Epoch 00018: val_auc did not improve from 0.65610\n",
      "41/41 [==============================] - 15s 360ms/step - loss: 0.6120 - recall: 0.6443 - precision: 0.6443 - auc: 0.7198 - categorical_accuracy: 0.6443 - val_loss: 0.6836 - val_recall: 0.5200 - val_precision: 0.5200 - val_auc: 0.5337 - val_categorical_accuracy: 0.5200\n",
      "Epoch 19/200\n",
      "41/41 [==============================] - ETA: 0s - loss: 0.6561 - recall: 0.6493 - precision: 0.6493 - auc: 0.6955 - categorical_accuracy: 0.6493\n",
      "Epoch 00019: val_auc improved from 0.65610 to 0.71550, saving model to ../../tmp\\checkpoints\\20201218-105950\\cp-0019.ckpt\n",
      "41/41 [==============================] - 15s 376ms/step - loss: 0.6561 - recall: 0.6493 - precision: 0.6493 - auc: 0.6955 - categorical_accuracy: 0.6493 - val_loss: 0.6350 - val_recall: 0.6400 - val_precision: 0.6400 - val_auc: 0.7155 - val_categorical_accuracy: 0.6400\n",
      "Epoch 20/200\n",
      "41/41 [==============================] - ETA: 0s - loss: 0.6345 - recall: 0.6468 - precision: 0.6468 - auc: 0.7159 - categorical_accuracy: 0.6468\n",
      "Epoch 00020: val_auc did not improve from 0.71550\n",
      "41/41 [==============================] - 15s 362ms/step - loss: 0.6345 - recall: 0.6468 - precision: 0.6468 - auc: 0.7159 - categorical_accuracy: 0.6468 - val_loss: 0.6295 - val_recall: 0.6400 - val_precision: 0.6400 - val_auc: 0.6804 - val_categorical_accuracy: 0.6400\n",
      "Epoch 21/200\n",
      "41/41 [==============================] - ETA: 0s - loss: 0.6277 - recall: 0.7015 - precision: 0.7015 - auc: 0.7279 - categorical_accuracy: 0.7015\n",
      "Epoch 00021: val_auc did not improve from 0.71550\n",
      "41/41 [==============================] - 15s 361ms/step - loss: 0.6277 - recall: 0.7015 - precision: 0.7015 - auc: 0.7279 - categorical_accuracy: 0.7015 - val_loss: 0.6282 - val_recall: 0.6200 - val_precision: 0.6200 - val_auc: 0.6624 - val_categorical_accuracy: 0.6200\n",
      "Epoch 22/200\n",
      "41/41 [==============================] - ETA: 0s - loss: 0.6335 - recall: 0.6294 - precision: 0.6294 - auc: 0.7066 - categorical_accuracy: 0.6294\n",
      "Epoch 00022: val_auc did not improve from 0.71550\n",
      "41/41 [==============================] - 15s 369ms/step - loss: 0.6335 - recall: 0.6294 - precision: 0.6294 - auc: 0.7066 - categorical_accuracy: 0.6294 - val_loss: 0.6452 - val_recall: 0.5800 - val_precision: 0.5800 - val_auc: 0.6117 - val_categorical_accuracy: 0.5800\n",
      "Epoch 23/200\n",
      "41/41 [==============================] - ETA: 0s - loss: 0.6064 - recall: 0.6990 - precision: 0.6990 - auc: 0.7434 - categorical_accuracy: 0.6990\n",
      "Epoch 00023: val_auc improved from 0.71550 to 0.72045, saving model to ../../tmp\\checkpoints\\20201218-105950\\cp-0023.ckpt\n",
      "41/41 [==============================] - 17s 417ms/step - loss: 0.6064 - recall: 0.6990 - precision: 0.6990 - auc: 0.7434 - categorical_accuracy: 0.6990 - val_loss: 0.6147 - val_recall: 0.6800 - val_precision: 0.6800 - val_auc: 0.7204 - val_categorical_accuracy: 0.6800\n",
      "Epoch 24/200\n",
      "41/41 [==============================] - ETA: 0s - loss: 0.6174 - recall: 0.6617 - precision: 0.6617 - auc: 0.7422 - categorical_accuracy: 0.6617\n",
      "Epoch 00024: val_auc improved from 0.72045 to 0.73975, saving model to ../../tmp\\checkpoints\\20201218-105950\\cp-0024.ckpt\n",
      "41/41 [==============================] - 16s 401ms/step - loss: 0.6174 - recall: 0.6617 - precision: 0.6617 - auc: 0.7422 - categorical_accuracy: 0.6617 - val_loss: 0.6153 - val_recall: 0.7100 - val_precision: 0.7100 - val_auc: 0.7397 - val_categorical_accuracy: 0.7100\n",
      "Epoch 25/200\n",
      "41/41 [==============================] - ETA: 0s - loss: 0.6000 - recall: 0.6866 - precision: 0.6866 - auc: 0.7523 - categorical_accuracy: 0.6866\n",
      "Epoch 00025: val_auc did not improve from 0.73975\n",
      "41/41 [==============================] - 17s 407ms/step - loss: 0.6000 - recall: 0.6866 - precision: 0.6866 - auc: 0.7523 - categorical_accuracy: 0.6866 - val_loss: 0.6108 - val_recall: 0.7000 - val_precision: 0.7000 - val_auc: 0.7395 - val_categorical_accuracy: 0.7000\n",
      "Epoch 26/200\n",
      "41/41 [==============================] - ETA: 0s - loss: 0.5741 - recall: 0.6866 - precision: 0.6866 - auc: 0.7698 - categorical_accuracy: 0.6866\n",
      "Epoch 00026: val_auc improved from 0.73975 to 0.74265, saving model to ../../tmp\\checkpoints\\20201218-105950\\cp-0026.ckpt\n",
      "41/41 [==============================] - 18s 437ms/step - loss: 0.5741 - recall: 0.6866 - precision: 0.6866 - auc: 0.7698 - categorical_accuracy: 0.6866 - val_loss: 0.6144 - val_recall: 0.7000 - val_precision: 0.7000 - val_auc: 0.7427 - val_categorical_accuracy: 0.7000\n",
      "Epoch 27/200\n",
      "41/41 [==============================] - ETA: 0s - loss: 0.6025 - recall: 0.6692 - precision: 0.6692 - auc: 0.7368 - categorical_accuracy: 0.6692\n",
      "Epoch 00027: val_auc did not improve from 0.74265\n",
      "41/41 [==============================] - 15s 371ms/step - loss: 0.6025 - recall: 0.6692 - precision: 0.6692 - auc: 0.7368 - categorical_accuracy: 0.6692 - val_loss: 0.6185 - val_recall: 0.6900 - val_precision: 0.6900 - val_auc: 0.7418 - val_categorical_accuracy: 0.6900\n",
      "Epoch 28/200\n",
      "41/41 [==============================] - ETA: 0s - loss: 0.5872 - recall: 0.7065 - precision: 0.7065 - auc: 0.7716 - categorical_accuracy: 0.7065\n",
      "Epoch 00028: val_auc did not improve from 0.74265\n",
      "41/41 [==============================] - 17s 406ms/step - loss: 0.5872 - recall: 0.7065 - precision: 0.7065 - auc: 0.7716 - categorical_accuracy: 0.7065 - val_loss: 0.6192 - val_recall: 0.7000 - val_precision: 0.7000 - val_auc: 0.7395 - val_categorical_accuracy: 0.7000\n",
      "Epoch 29/200\n",
      "41/41 [==============================] - ETA: 0s - loss: 0.6149 - recall: 0.6741 - precision: 0.6741 - auc: 0.7307 - categorical_accuracy: 0.6741\n",
      "Epoch 00029: val_auc did not improve from 0.74265\n",
      "41/41 [==============================] - 17s 408ms/step - loss: 0.6149 - recall: 0.6741 - precision: 0.6741 - auc: 0.7307 - categorical_accuracy: 0.6741 - val_loss: 0.6158 - val_recall: 0.7000 - val_precision: 0.7000 - val_auc: 0.7322 - val_categorical_accuracy: 0.7000\n",
      "Epoch 30/200\n",
      "41/41 [==============================] - ETA: 0s - loss: 0.6173 - recall: 0.6766 - precision: 0.6766 - auc: 0.7268 - categorical_accuracy: 0.6766\n",
      "Epoch 00030: val_auc did not improve from 0.74265\n",
      "41/41 [==============================] - 15s 376ms/step - loss: 0.6173 - recall: 0.6766 - precision: 0.6766 - auc: 0.7268 - categorical_accuracy: 0.6766 - val_loss: 0.6161 - val_recall: 0.7000 - val_precision: 0.7000 - val_auc: 0.7307 - val_categorical_accuracy: 0.7000\n",
      "Epoch 31/200\n",
      "41/41 [==============================] - ETA: 0s - loss: 0.5863 - recall: 0.6940 - precision: 0.6940 - auc: 0.7645 - categorical_accuracy: 0.6940\n",
      "Epoch 00031: val_auc did not improve from 0.74265\n",
      "41/41 [==============================] - 17s 420ms/step - loss: 0.5863 - recall: 0.6940 - precision: 0.6940 - auc: 0.7645 - categorical_accuracy: 0.6940 - val_loss: 0.6156 - val_recall: 0.7000 - val_precision: 0.7000 - val_auc: 0.7314 - val_categorical_accuracy: 0.7000\n",
      "Epoch 32/200\n",
      "41/41 [==============================] - ETA: 0s - loss: 0.5898 - recall: 0.7090 - precision: 0.7090 - auc: 0.7609 - categorical_accuracy: 0.7090\n",
      "Epoch 00032: val_auc did not improve from 0.74265\n",
      "41/41 [==============================] - 16s 395ms/step - loss: 0.5898 - recall: 0.7090 - precision: 0.7090 - auc: 0.7609 - categorical_accuracy: 0.7090 - val_loss: 0.6150 - val_recall: 0.7000 - val_precision: 0.7000 - val_auc: 0.7339 - val_categorical_accuracy: 0.7000\n"
     ]
    },
    {
     "name": "stdout",
     "output_type": "stream",
     "text": [
      "Epoch 33/200\n",
      "41/41 [==============================] - ETA: 0s - loss: 0.5863 - recall: 0.6990 - precision: 0.6990 - auc: 0.7651 - categorical_accuracy: 0.6990\n",
      "Epoch 00033: val_auc did not improve from 0.74265\n",
      "41/41 [==============================] - 15s 369ms/step - loss: 0.5863 - recall: 0.6990 - precision: 0.6990 - auc: 0.7651 - categorical_accuracy: 0.6990 - val_loss: 0.6149 - val_recall: 0.7000 - val_precision: 0.7000 - val_auc: 0.7317 - val_categorical_accuracy: 0.7000\n",
      "Epoch 34/200\n",
      "41/41 [==============================] - ETA: 0s - loss: 0.6088 - recall: 0.7065 - precision: 0.7065 - auc: 0.7482 - categorical_accuracy: 0.7065\n",
      "Epoch 00034: val_auc did not improve from 0.74265\n",
      "41/41 [==============================] - 16s 385ms/step - loss: 0.6088 - recall: 0.7065 - precision: 0.7065 - auc: 0.7482 - categorical_accuracy: 0.7065 - val_loss: 0.6167 - val_recall: 0.7100 - val_precision: 0.7100 - val_auc: 0.7373 - val_categorical_accuracy: 0.7100\n",
      "Epoch 35/200\n",
      "41/41 [==============================] - ETA: 0s - loss: 0.5959 - recall: 0.6766 - precision: 0.6766 - auc: 0.7516 - categorical_accuracy: 0.6766\n",
      "Epoch 00035: val_auc did not improve from 0.74265\n",
      "41/41 [==============================] - 16s 398ms/step - loss: 0.5959 - recall: 0.6766 - precision: 0.6766 - auc: 0.7516 - categorical_accuracy: 0.6766 - val_loss: 0.6165 - val_recall: 0.7000 - val_precision: 0.7000 - val_auc: 0.7303 - val_categorical_accuracy: 0.7000\n",
      "Epoch 36/200\n",
      "41/41 [==============================] - ETA: 0s - loss: 0.5993 - recall: 0.6965 - precision: 0.6965 - auc: 0.7517 - categorical_accuracy: 0.6965\n",
      "Epoch 00036: val_auc did not improve from 0.74265\n",
      "41/41 [==============================] - 15s 375ms/step - loss: 0.5993 - recall: 0.6965 - precision: 0.6965 - auc: 0.7517 - categorical_accuracy: 0.6965 - val_loss: 0.6177 - val_recall: 0.7100 - val_precision: 0.7100 - val_auc: 0.7284 - val_categorical_accuracy: 0.7100\n",
      "Epoch 37/200\n",
      "41/41 [==============================] - ETA: 0s - loss: 0.5773 - recall: 0.6940 - precision: 0.6940 - auc: 0.7678 - categorical_accuracy: 0.6940\n",
      "Epoch 00037: val_auc did not improve from 0.74265\n",
      "41/41 [==============================] - 16s 399ms/step - loss: 0.5773 - recall: 0.6940 - precision: 0.6940 - auc: 0.7678 - categorical_accuracy: 0.6940 - val_loss: 0.6179 - val_recall: 0.7000 - val_precision: 0.7000 - val_auc: 0.7277 - val_categorical_accuracy: 0.7000\n",
      "Epoch 38/200\n",
      "41/41 [==============================] - ETA: 0s - loss: 0.5915 - recall: 0.6816 - precision: 0.6816 - auc: 0.7568 - categorical_accuracy: 0.6816\n",
      "Epoch 00038: val_auc did not improve from 0.74265\n",
      "41/41 [==============================] - 16s 379ms/step - loss: 0.5915 - recall: 0.6816 - precision: 0.6816 - auc: 0.7568 - categorical_accuracy: 0.6816 - val_loss: 0.6173 - val_recall: 0.6900 - val_precision: 0.6900 - val_auc: 0.7286 - val_categorical_accuracy: 0.6900\n",
      "Epoch 39/200\n",
      "41/41 [==============================] - ETA: 0s - loss: 0.5878 - recall: 0.6915 - precision: 0.6915 - auc: 0.7525 - categorical_accuracy: 0.6915\n",
      "Epoch 00039: val_auc did not improve from 0.74265\n",
      "41/41 [==============================] - 18s 443ms/step - loss: 0.5878 - recall: 0.6915 - precision: 0.6915 - auc: 0.7525 - categorical_accuracy: 0.6915 - val_loss: 0.6169 - val_recall: 0.6900 - val_precision: 0.6900 - val_auc: 0.7292 - val_categorical_accuracy: 0.6900\n",
      "Epoch 40/200\n",
      "41/41 [==============================] - ETA: 0s - loss: 0.6039 - recall: 0.6791 - precision: 0.6791 - auc: 0.7466 - categorical_accuracy: 0.6791\n",
      "Epoch 00040: val_auc did not improve from 0.74265\n",
      "41/41 [==============================] - 17s 420ms/step - loss: 0.6039 - recall: 0.6791 - precision: 0.6791 - auc: 0.7466 - categorical_accuracy: 0.6791 - val_loss: 0.6169 - val_recall: 0.6900 - val_precision: 0.6900 - val_auc: 0.7286 - val_categorical_accuracy: 0.6900\n",
      "Epoch 41/200\n",
      "41/41 [==============================] - ETA: 0s - loss: 0.6271 - recall: 0.6667 - precision: 0.6667 - auc: 0.7283 - categorical_accuracy: 0.6667\n",
      "Epoch 00041: val_auc did not improve from 0.74265\n",
      "41/41 [==============================] - 15s 360ms/step - loss: 0.6271 - recall: 0.6667 - precision: 0.6667 - auc: 0.7283 - categorical_accuracy: 0.6667 - val_loss: 0.6167 - val_recall: 0.6900 - val_precision: 0.6900 - val_auc: 0.7285 - val_categorical_accuracy: 0.6900\n",
      "Epoch 42/200\n",
      "41/41 [==============================] - ETA: 0s - loss: 0.6051 - recall: 0.6791 - precision: 0.6791 - auc: 0.7369 - categorical_accuracy: 0.6791\n",
      "Epoch 00042: val_auc did not improve from 0.74265\n",
      "41/41 [==============================] - 16s 396ms/step - loss: 0.6051 - recall: 0.6791 - precision: 0.6791 - auc: 0.7369 - categorical_accuracy: 0.6791 - val_loss: 0.6165 - val_recall: 0.6900 - val_precision: 0.6900 - val_auc: 0.7278 - val_categorical_accuracy: 0.6900\n",
      "Epoch 43/200\n",
      "41/41 [==============================] - ETA: 0s - loss: 0.5813 - recall: 0.6891 - precision: 0.6891 - auc: 0.7653 - categorical_accuracy: 0.6891\n",
      "Epoch 00043: val_auc did not improve from 0.74265\n",
      "41/41 [==============================] - 17s 404ms/step - loss: 0.5813 - recall: 0.6891 - precision: 0.6891 - auc: 0.7653 - categorical_accuracy: 0.6891 - val_loss: 0.6169 - val_recall: 0.6900 - val_precision: 0.6900 - val_auc: 0.7296 - val_categorical_accuracy: 0.6900\n",
      "Epoch 44/200\n",
      "41/41 [==============================] - ETA: 0s - loss: 0.6073 - recall: 0.6891 - precision: 0.6891 - auc: 0.7479 - categorical_accuracy: 0.6891\n",
      "Epoch 00044: val_auc did not improve from 0.74265\n",
      "41/41 [==============================] - 15s 373ms/step - loss: 0.6073 - recall: 0.6891 - precision: 0.6891 - auc: 0.7479 - categorical_accuracy: 0.6891 - val_loss: 0.6166 - val_recall: 0.6900 - val_precision: 0.6900 - val_auc: 0.7291 - val_categorical_accuracy: 0.6900\n",
      "Epoch 45/200\n",
      "41/41 [==============================] - ETA: 0s - loss: 0.5875 - recall: 0.6965 - precision: 0.6965 - auc: 0.7650 - categorical_accuracy: 0.6965\n",
      "Epoch 00045: val_auc did not improve from 0.74265\n",
      "41/41 [==============================] - 16s 396ms/step - loss: 0.5875 - recall: 0.6965 - precision: 0.6965 - auc: 0.7650 - categorical_accuracy: 0.6965 - val_loss: 0.6168 - val_recall: 0.6900 - val_precision: 0.6900 - val_auc: 0.7288 - val_categorical_accuracy: 0.6900\n",
      "Epoch 46/200\n",
      "41/41 [==============================] - ETA: 0s - loss: 0.6153 - recall: 0.6642 - precision: 0.6642 - auc: 0.7276 - categorical_accuracy: 0.6642\n",
      "Epoch 00046: val_auc did not improve from 0.74265\n",
      "41/41 [==============================] - 16s 391ms/step - loss: 0.6153 - recall: 0.6642 - precision: 0.6642 - auc: 0.7276 - categorical_accuracy: 0.6642 - val_loss: 0.6171 - val_recall: 0.6900 - val_precision: 0.6900 - val_auc: 0.7251 - val_categorical_accuracy: 0.6900\n",
      "Epoch 47/200\n",
      "41/41 [==============================] - ETA: 0s - loss: 0.5722 - recall: 0.6816 - precision: 0.6816 - auc: 0.7712 - categorical_accuracy: 0.6816\n",
      "Epoch 00047: val_auc did not improve from 0.74265\n",
      "41/41 [==============================] - 16s 391ms/step - loss: 0.5722 - recall: 0.6816 - precision: 0.6816 - auc: 0.7712 - categorical_accuracy: 0.6816 - val_loss: 0.6173 - val_recall: 0.6900 - val_precision: 0.6900 - val_auc: 0.7253 - val_categorical_accuracy: 0.6900\n",
      "Epoch 48/200\n",
      "41/41 [==============================] - ETA: 0s - loss: 0.6069 - recall: 0.6791 - precision: 0.6791 - auc: 0.7419 - categorical_accuracy: 0.6791\n",
      "Epoch 00048: val_auc did not improve from 0.74265\n",
      "41/41 [==============================] - 17s 420ms/step - loss: 0.6069 - recall: 0.6791 - precision: 0.6791 - auc: 0.7419 - categorical_accuracy: 0.6791 - val_loss: 0.6173 - val_recall: 0.6700 - val_precision: 0.6700 - val_auc: 0.7236 - val_categorical_accuracy: 0.6700\n",
      "Epoch 49/200\n",
      "41/41 [==============================] - ETA: 0s - loss: 0.5811 - recall: 0.6965 - precision: 0.6965 - auc: 0.7657 - categorical_accuracy: 0.6965\n",
      "Epoch 00049: val_auc did not improve from 0.74265\n",
      "41/41 [==============================] - 16s 383ms/step - loss: 0.5811 - recall: 0.6965 - precision: 0.6965 - auc: 0.7657 - categorical_accuracy: 0.6965 - val_loss: 0.6171 - val_recall: 0.6800 - val_precision: 0.6800 - val_auc: 0.7246 - val_categorical_accuracy: 0.6800\n",
      "Epoch 50/200\n",
      "41/41 [==============================] - ETA: 0s - loss: 0.6185 - recall: 0.6891 - precision: 0.6891 - auc: 0.7487 - categorical_accuracy: 0.6891\n",
      "Epoch 00050: val_auc did not improve from 0.74265\n",
      "41/41 [==============================] - 17s 420ms/step - loss: 0.6185 - recall: 0.6891 - precision: 0.6891 - auc: 0.7487 - categorical_accuracy: 0.6891 - val_loss: 0.6170 - val_recall: 0.6900 - val_precision: 0.6900 - val_auc: 0.7269 - val_categorical_accuracy: 0.6900\n",
      "Epoch 51/200\n",
      "41/41 [==============================] - ETA: 0s - loss: 0.6190 - recall: 0.6716 - precision: 0.6716 - auc: 0.7347 - categorical_accuracy: 0.6716\n",
      "Epoch 00051: val_auc did not improve from 0.74265\n",
      "41/41 [==============================] - 17s 410ms/step - loss: 0.6190 - recall: 0.6716 - precision: 0.6716 - auc: 0.7347 - categorical_accuracy: 0.6716 - val_loss: 0.6175 - val_recall: 0.6900 - val_precision: 0.6900 - val_auc: 0.7287 - val_categorical_accuracy: 0.6900\n",
      "Wall time: 15min 13s\n"
     ]
    }
   ],
   "source": [
    "%%time\n",
    "\n",
    "model, checkpoint_dir, history = train(\n",
    "    model,\n",
    "    train_seq,\n",
    "    test_seq,\n",
    "    CHECKPOINT_DIRECTORY,\n",
    "    LOG_DIRECTORY,\n",
    "    DATA_DIR,\n",
    "    **train_config\n",
    ")"
   ]
  },
  {
   "cell_type": "markdown",
   "metadata": {},
   "source": [
    "## Evaluation"
   ]
  },
  {
   "cell_type": "code",
   "execution_count": 10,
   "metadata": {
    "scrolled": false
   },
   "outputs": [
    {
     "name": "stdout",
     "output_type": "stream",
     "text": [
      "Wall time: 125 ms\n"
     ]
    },
    {
     "data": {
      "image/png": "[encoded data removed]",
      "text/plain": [
       "<Figure size 864x1080 with 5 Axes>"
      ]
     },
     "metadata": {
      "needs_background": "light"
     },
     "output_type": "display_data"
    }
   ],
   "source": [
    "%%time\n",
    "\n",
    "plot_training_history(history)"
   ]
  },
  {
   "cell_type": "code",
   "execution_count": 11,
   "metadata": {},
   "outputs": [],
   "source": [
    "# load_checkpoint(model, DEFAULT_CHECKPOINT_DIRECTORY_LOCAL, '20201217-233514', 'cp-0038.ckpt')"
   ]
  },
  {
   "cell_type": "code",
   "execution_count": 12,
   "metadata": {
    "scrolled": true
   },
   "outputs": [
    {
     "name": "stdout",
     "output_type": "stream",
     "text": [
      "loss: 0.6102709770202637\n",
      "recall: 0.699999988079071\n",
      "precision: 0.699999988079071\n",
      "auc: 0.742650032043457\n",
      "categorical_accuracy: 0.699999988079071\n",
      "\n",
      "Wall time: 28.5 s\n"
     ]
    }
   ],
   "source": [
    "%%time\n",
    "\n",
    "show_simple_metrics(model, test_seq)"
   ]
  },
  {
   "cell_type": "code",
   "execution_count": 13,
   "metadata": {
    "scrolled": false
   },
   "outputs": [
    {
     "name": "stdout",
     "output_type": "stream",
     "text": [
      "In binary classification, recall of the positive class is also known as “sensitivity”; recall of the negative class is “specificity”. (https://scikit-learn.org/stable/modules/generated/sklearn.metrics.classification_report.html)\n",
      "\u001b[1mAD\u001b[0m\n",
      "precision: 0.7758620689655172\n",
      "recall: 0.7258064516129032\n",
      "f1-score: 0.7500000000000001\n",
      "support: 62\n",
      "\n",
      "\n",
      "\u001b[1mCN\u001b[0m\n",
      "precision: 0.5952380952380952\n",
      "recall: 0.6578947368421053\n",
      "f1-score: 0.625\n",
      "support: 38\n",
      "\n",
      "\n",
      "\u001b[1mmicro avg\u001b[0m\n",
      "precision: 0.7\n",
      "recall: 0.7\n",
      "f1-score: 0.7\n",
      "support: 100\n",
      "\n",
      "\n",
      "\u001b[1mmacro avg\u001b[0m\n",
      "precision: 0.6855500821018062\n",
      "recall: 0.6918505942275043\n",
      "f1-score: 0.6875\n",
      "support: 100\n",
      "\n",
      "\n",
      "\u001b[1mweighted avg\u001b[0m\n",
      "precision: 0.7072249589490969\n",
      "recall: 0.7\n",
      "f1-score: 0.7025\n",
      "support: 100\n",
      "\n",
      "\n",
      "\u001b[1msamples avg\u001b[0m\n",
      "precision: 0.7\n",
      "recall: 0.7\n",
      "f1-score: 0.7\n",
      "support: 100\n",
      "\n",
      "\n",
      "\u001b[1mF1\u001b[0m\n",
      "micro: 0.7\n",
      "macro: 0.6875\n",
      "\n",
      "\n",
      "accuracy_score: 0.7\n",
      "sensitivity_score: 0.7258064516129032\n",
      "specificity_score: 0.6578947368421053\n",
      "\n",
      "\n",
      "Wall time: 25.9 s\n"
     ]
    },
    {
     "data": {
      "image/png": "[encoded data removed]",
      "text/plain": [
       "<Figure size 576x576 with 2 Axes>"
      ]
     },
     "metadata": {
      "needs_background": "light"
     },
     "output_type": "display_data"
    }
   ],
   "source": [
    "%%time\n",
    "\n",
    "show_metrics(model, test_seq, class_names)"
   ]
  },
  {
   "cell_type": "code",
   "execution_count": null,
   "metadata": {},
   "outputs": [],
   "source": []
  }
 ],
 "metadata": {
  "kernelspec": {
   "display_name": "Python 3",
   "language": "python",
   "name": "python3"
  },
  "language_info": {
   "codemirror_mode": {
    "name": "ipython",
    "version": 3
   },
   "file_extension": ".py",
   "mimetype": "text/x-python",
   "name": "python",
   "nbconvert_exporter": "python",
   "pygments_lexer": "ipython3",
   "version": "3.7.9"
  }
 },
 "nbformat": 4,
 "nbformat_minor": 1
}

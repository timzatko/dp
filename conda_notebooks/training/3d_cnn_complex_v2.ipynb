{
 "cells": [
  {
   "cell_type": "markdown",
   "metadata": {},
   "source": [
    "# 3D CNN"
   ]
  },
  {
   "cell_type": "markdown",
   "metadata": {},
   "source": [
    "Basic Complex 3D CNN + Augmentations + Dropout (0.1)"
   ]
  },
  {
   "cell_type": "code",
   "execution_count": 1,
   "metadata": {},
   "outputs": [],
   "source": [
    "%load_ext autoreload\n",
    "%autoreload 2\n",
    "\n",
    "import sys\n",
    "sys.path.append('../..')\n",
    "\n",
    "import datetime\n",
    "import os\n",
    "os.environ[\"CUDA_VISIBLE_DEVICES\"]=\"0\"\n",
    "\n",
    "import numpy as np\n",
    "\n",
    "from src.data import train_test_split, MRISequence\n",
    "from src.model import create_model, compile_model, load_checkpoint\n",
    "from src.model.training import train\n",
    "from src.model.evaluation import plot_training_history, show_simple_metrics, show_metrics"
   ]
  },
  {
   "cell_type": "code",
   "execution_count": 2,
   "metadata": {},
   "outputs": [
    {
     "name": "stdout",
     "output_type": "stream",
     "text": [
      "2.3.1\n",
      "Num GPUs Available:  1\n"
     ]
    }
   ],
   "source": [
    "import tensorflow as tf\n",
    "\n",
    "RANDOM_SEED = 25031998\n",
    "tf.random.set_seed(RANDOM_SEED)\n",
    "\n",
    "print(tf.version.VERSION)\n",
    "print(\"Num GPUs Available: \", len(tf.config.experimental.list_physical_devices('GPU')))"
   ]
  },
  {
   "cell_type": "markdown",
   "metadata": {},
   "source": [
    "## Setup"
   ]
  },
  {
   "cell_type": "code",
   "execution_count": 3,
   "metadata": {},
   "outputs": [
    {
     "name": "stdout",
     "output_type": "stream",
     "text": [
      "not copying files since the destination directory already exists\n",
      "initializing train_seq...\n",
      "initializing test_seq...\n",
      "val_seq = test_seq\n",
      "log_dir: ../../tmp\\logs\\20201214-234144\n",
      "Wall time: 4.96 ms\n"
     ]
    }
   ],
   "source": [
    "%%time\n",
    "\n",
    "ROOT_DIR = '../../tmp'\n",
    "DEFAULT_CHECKPOINT_DIRECTORY_LOCAL = os.path.join(ROOT_DIR, 'checkpoints')\n",
    "DEFAULT_BCKP_CHECKPOINT_DIRECTORY_LOCAL = os.path.join(ROOT_DIR, 'bckp-checkpoints')\n",
    "\n",
    "LOG_DIRECTORY = os.path.join(ROOT_DIR, 'logs')\n",
    "CHECKPOINT_DIRECTORY = DEFAULT_CHECKPOINT_DIRECTORY_LOCAL\n",
    "\n",
    "LOG_DIRECTORY_LOCAL = LOG_DIRECTORY\n",
    "CHECKPOINT_DIRECTORY_LOCAL = CHECKPOINT_DIRECTORY\n",
    "\n",
    "DATA_DIR_NAME = 'data-v3'\n",
    "DATA_DIR = os.path.join(ROOT_DIR, DATA_DIR_NAME)\n",
    "\n",
    "saliencies_and_segmentations_v2_path = os.path.join(ROOT_DIR, 'saliencies_and_segmentations_v2')\n",
    "\n",
    "if not os.path.exists(CHECKPOINT_DIRECTORY):\n",
    "    os.mkdir(CHECKPOINT_DIRECTORY)\n",
    "\n",
    "if not os.path.exists(LOG_DIRECTORY):\n",
    "    os.mkdir(LOG_DIRECTORY)\n",
    "\n",
    "val = False\n",
    "    \n",
    "class_names = ['AD', 'CN']\n",
    "\n",
    "# get paths to data\n",
    "train_dir, test_dir, val_dir = train_test_split(\n",
    "    saliencies_and_segmentations_v2_path, \n",
    "    ROOT_DIR, \n",
    "    split=(0.8, 0.15, 0.05), \n",
    "    dirname=DATA_DIR_NAME)\n",
    "\n",
    "# set the batch size for mri seq\n",
    "batch_size = 12\n",
    "input_shape = (104, 128, 104, 1) # (112, 112, 105, 1)\n",
    "resize_img = True\n",
    "crop_img = True\n",
    "\n",
    "# if y is one-hot encoded or just scalar number\n",
    "one_hot = True\n",
    "\n",
    "# class weightss (see analysis notebook)\n",
    "class_weights = {0: 0.8072289156626505, 1: 1.3137254901960784}\n",
    "\n",
    "# description statistics of the dataset\n",
    "desc = {'mean': -3.6344006e-09, 'std': 1.0000092, 'min': -1.4982183, 'max': 10.744175}\n",
    "\n",
    "if 'desc' not in locals():\n",
    "    print('initializing desc...')\n",
    "    desc = get_description(MRISequence(\n",
    "        train_dir,\n",
    "        64,\n",
    "        class_names=class_names,\n",
    "        input_shape=input_shape),\n",
    "        max_samples=None)\n",
    "    print(desc)\n",
    "\n",
    "\n",
    "normalization={ 'type':'normalization', 'desc': desc }\n",
    "# normalization={'type':'standardization', 'desc':desc }\n",
    "\n",
    "augmentations = None\n",
    "augmentations_inplace = True\n",
    "# enable augmentations in mri seq (otherwise it can be enabled in dataset)\n",
    "# augmentations={ 'random_swap_hemispheres': 0.5 }\n",
    "\n",
    "# initialize sequences\n",
    "print('initializing train_seq...')\n",
    "train_seq = MRISequence(\n",
    "    train_dir,\n",
    "    batch_size,\n",
    "    class_names=class_names,\n",
    "    augmentations=augmentations,\n",
    "    augmentations_inplace=augmentations_inplace,\n",
    "    input_shape=input_shape,\n",
    "    resize_img=resize_img,\n",
    "    crop_img=crop_img,\n",
    "    one_hot=one_hot,\n",
    "    class_weights=class_weights,\n",
    "    normalization=normalization)\n",
    "\n",
    "print('initializing test_seq...')\n",
    "test_seq = MRISequence(\n",
    "    test_dir,\n",
    "    batch_size,\n",
    "    class_names=class_names,\n",
    "    input_shape=input_shape,\n",
    "    resize_img=resize_img,\n",
    "    crop_img=crop_img,\n",
    "    one_hot=one_hot,\n",
    "    normalization=normalization)\n",
    "\n",
    "if val:\n",
    "    print('initializing val_seq...')\n",
    "    val_seq = MRISequence(\n",
    "        val_dir,\n",
    "        batch_size,\n",
    "        class_names=class_names,\n",
    "        input_shape=input_shape,\n",
    "        resize_img=resize_img,\n",
    "        crop_img=crop_img,\n",
    "        one_hot=one_hot,\n",
    "        class_weights=class_weights,\n",
    "        normalization=normalization)\n",
    "else:\n",
    "    print('val_seq = test_seq')\n",
    "    val_seq = test_seq\n",
    "    \n",
    "model_key = datetime.datetime.now().strftime('%Y%m%d-%H%M%S')\n",
    "log_dir = os.path.join(LOG_DIRECTORY, model_key)\n",
    "print(f'log_dir: {log_dir}')"
   ]
  },
  {
   "cell_type": "code",
   "execution_count": 4,
   "metadata": {},
   "outputs": [],
   "source": [
    "# https://www.tensorflow.org/tutorials/structured_data/imbalanced_data#class_weights\n",
    "# [0, 1] - [AD, CN] (bias towards CN)\n",
    "initial_bias = np.log([153/243, 243/153])\n",
    "\n",
    "model_config = {\n",
    "    'input_shape': input_shape,\n",
    "    'class_names': class_names,\n",
    "#     'l2_beta': 0.001,\n",
    "    'l2_beta': 0.0005,\n",
    "#     'l2_beta': None,\n",
    "    'dropout': 0.1,\n",
    "#     'dropout': None,\n",
    "    'output_bias': initial_bias,\n",
    "#     'output_bias': None,\n",
    "    # https://www.tensorflow.org/api_docs/python/tf/keras/layers/BatchNormalization\n",
    "    'batch_norm': True,\n",
    "    'is_complex': True, # a complex layer from the paper, max batch_size is 3\n",
    "}\n",
    "\n",
    "compile_config = {\n",
    "    # default is 0.001\n",
    "#     'learning_rate': 0.000075,\n",
    "    'learning_rate': 0.0015,\n",
    "    'decay_steps': 25,\n",
    "    'decay_rate': 0.96,\n",
    "#     'beta_1': 0.85,\n",
    "    'beta_1': 0.90,\n",
    "#     'beta_2': 0.990,\n",
    "    'beta_2': 0.999,\n",
    "}\n",
    "\n",
    "train_config = {\n",
    "    'model_key': model_key,\n",
    "    'epochs': 200,\n",
    "    'patience': 25,\n",
    "    'tensorboard_update_freq': 'epoch', \n",
    "    'mri_tensorboard_callback': False,\n",
    "    'model_checkpoint_callback': {'monitor': 'val_auc', 'mode': 'max', 'save_best_only': True},\n",
    "    'early_stopping_monitor': {'monitor': 'val_auc', 'mode': 'max'},\n",
    "    'augmentations': True,\n",
    "    'batch_size': 4,\n",
    "#     'model_checkpoint_callback': False,\n",
    "}"
   ]
  },
  {
   "cell_type": "markdown",
   "metadata": {},
   "source": [
    "## Train"
   ]
  },
  {
   "cell_type": "code",
   "execution_count": 5,
   "metadata": {},
   "outputs": [
    {
     "name": "stdout",
     "output_type": "stream",
     "text": [
      "Model: \"sequential\"\n",
      "_________________________________________________________________\n",
      "Layer (type)                 Output Shape              Param #   \n",
      "=================================================================\n",
      "conv3d (Conv3D)              (None, 104, 128, 104, 32) 896       \n",
      "_________________________________________________________________\n",
      "conv3d_1 (Conv3D)            (None, 104, 128, 104, 32) 27680     \n",
      "_________________________________________________________________\n",
      "batch_normalization (BatchNo (None, 104, 128, 104, 32) 128       \n",
      "_________________________________________________________________\n",
      "max_pooling3d (MaxPooling3D) (None, 52, 64, 52, 32)    0         \n",
      "_________________________________________________________________\n",
      "dropout (Dropout)            (None, 52, 64, 52, 32)    0         \n",
      "_________________________________________________________________\n",
      "conv3d_2 (Conv3D)            (None, 52, 64, 52, 64)    55360     \n",
      "_________________________________________________________________\n",
      "conv3d_3 (Conv3D)            (None, 52, 64, 52, 64)    110656    \n",
      "_________________________________________________________________\n",
      "batch_normalization_1 (Batch (None, 52, 64, 52, 64)    256       \n",
      "_________________________________________________________________\n",
      "max_pooling3d_1 (MaxPooling3 (None, 17, 21, 17, 64)    0         \n",
      "_________________________________________________________________\n",
      "dropout_1 (Dropout)          (None, 17, 21, 17, 64)    0         \n",
      "_________________________________________________________________\n",
      "conv3d_4 (Conv3D)            (None, 17, 21, 17, 128)   221312    \n",
      "_________________________________________________________________\n",
      "conv3d_5 (Conv3D)            (None, 17, 21, 17, 128)   442496    \n",
      "_________________________________________________________________\n",
      "batch_normalization_2 (Batch (None, 17, 21, 17, 128)   512       \n",
      "_________________________________________________________________\n",
      "max_pooling3d_2 (MaxPooling3 (None, 4, 5, 4, 128)      0         \n",
      "_________________________________________________________________\n",
      "dropout_2 (Dropout)          (None, 4, 5, 4, 128)      0         \n",
      "_________________________________________________________________\n",
      "flatten (Flatten)            (None, 10240)             0         \n",
      "_________________________________________________________________\n",
      "dense (Dense)                (None, 512)               5243392   \n",
      "_________________________________________________________________\n",
      "dropout_3 (Dropout)          (None, 512)               0         \n",
      "_________________________________________________________________\n",
      "batch_normalization_3 (Batch (None, 512)               2048      \n",
      "_________________________________________________________________\n",
      "dense_1 (Dense)              (None, 256)               131328    \n",
      "_________________________________________________________________\n",
      "dropout_4 (Dropout)          (None, 256)               0         \n",
      "_________________________________________________________________\n",
      "dense_2 (Dense)              (None, 2)                 514       \n",
      "=================================================================\n",
      "Total params: 6,236,578\n",
      "Trainable params: 6,235,106\n",
      "Non-trainable params: 1,472\n",
      "_________________________________________________________________\n"
     ]
    }
   ],
   "source": [
    "model = create_model(**model_config)\n",
    "model, *_ = compile_model(model, **compile_config)\n",
    "model.build(input_shape=input_shape)\n",
    "model.summary()"
   ]
  },
  {
   "cell_type": "code",
   "execution_count": 6,
   "metadata": {},
   "outputs": [],
   "source": [
    "# load_checkpoint(model, DEFAULT_CHECKPOINT_DIRECTORY_LOCAL, '20201214-192918', 'cp-0016.ckpt')"
   ]
  },
  {
   "cell_type": "code",
   "execution_count": 7,
   "metadata": {},
   "outputs": [
    {
     "name": "stdout",
     "output_type": "stream",
     "text": [
      "['/device:GPU:0']\n"
     ]
    }
   ],
   "source": [
    "from tensorflow.python.client import device_lib\n",
    "\n",
    "def get_available_gpus():\n",
    "    local_device_protos = device_lib.list_local_devices()\n",
    "    return [x.name for x in local_device_protos if x.device_type == 'GPU']\n",
    "\n",
    "print(get_available_gpus())"
   ]
  },
  {
   "cell_type": "code",
   "execution_count": 8,
   "metadata": {
    "scrolled": false
   },
   "outputs": [
    {
     "name": "stdout",
     "output_type": "stream",
     "text": [
      "model key: 20201214-234144\n",
      "checkpoint dir: ../../tmp\\checkpoints\\20201214-234144\n",
      "log dir: ../../tmp\\logs\\20201214-234144\n",
      "loading ../../tmp\\data-v3\\train_x.npy, ../../tmp\\data-v3\\train_y.npy...\n",
      "loading ../../tmp\\data-v3\\val_x.npy, ../../tmp\\data-v3\\val_y.npy...\n",
      "training...\n",
      "Epoch 1/200\n",
      "101/101 [==============================] - ETA: 0s - loss: 4.0584 - recall: 0.4876 - precision: 0.4876 - auc: 0.5109 - categorical_accuracy: 0.4876\n",
      "Epoch 00001: val_auc improved from -inf to 0.38000, saving model to ../../tmp\\checkpoints\\20201214-234144\\cp-0001.ckpt\n",
      "101/101 [==============================] - 73s 722ms/step - loss: 4.0584 - recall: 0.4876 - precision: 0.4876 - auc: 0.5109 - categorical_accuracy: 0.4876 - val_loss: 8.8874 - val_recall: 0.3800 - val_precision: 0.3800 - val_auc: 0.3800 - val_categorical_accuracy: 0.3800\n",
      "Epoch 2/200\n",
      "101/101 [==============================] - ETA: 0s - loss: 2.2786 - recall: 0.5746 - precision: 0.5746 - auc: 0.5894 - categorical_accuracy: 0.5746\n",
      "Epoch 00002: val_auc improved from 0.38000 to 0.43840, saving model to ../../tmp\\checkpoints\\20201214-234144\\cp-0002.ckpt\n",
      "101/101 [==============================] - 69s 683ms/step - loss: 2.2786 - recall: 0.5746 - precision: 0.5746 - auc: 0.5894 - categorical_accuracy: 0.5746 - val_loss: 2.4044 - val_recall: 0.3800 - val_precision: 0.3800 - val_auc: 0.4384 - val_categorical_accuracy: 0.3800\n",
      "Epoch 3/200\n",
      "101/101 [==============================] - ETA: 0s - loss: 2.0001 - recall: 0.5647 - precision: 0.5647 - auc: 0.6071 - categorical_accuracy: 0.5647\n",
      "Epoch 00003: val_auc improved from 0.43840 to 0.65460, saving model to ../../tmp\\checkpoints\\20201214-234144\\cp-0003.ckpt\n",
      "101/101 [==============================] - 70s 689ms/step - loss: 2.0001 - recall: 0.5647 - precision: 0.5647 - auc: 0.6071 - categorical_accuracy: 0.5647 - val_loss: 1.7901 - val_recall: 0.5600 - val_precision: 0.5600 - val_auc: 0.6546 - val_categorical_accuracy: 0.5600\n",
      "Epoch 4/200\n",
      "101/101 [==============================] - ETA: 0s - loss: 1.8030 - recall: 0.6443 - precision: 0.6443 - auc: 0.6918 - categorical_accuracy: 0.6443\n",
      "Epoch 00004: val_auc did not improve from 0.65460\n",
      "101/101 [==============================] - 68s 675ms/step - loss: 1.8030 - recall: 0.6443 - precision: 0.6443 - auc: 0.6918 - categorical_accuracy: 0.6443 - val_loss: 1.8020 - val_recall: 0.5700 - val_precision: 0.5700 - val_auc: 0.6527 - val_categorical_accuracy: 0.5700\n",
      "Epoch 5/200\n",
      "101/101 [==============================] - ETA: 0s - loss: 1.7435 - recall: 0.6418 - precision: 0.6418 - auc: 0.6997 - categorical_accuracy: 0.6418\n",
      "Epoch 00005: val_auc did not improve from 0.65460\n",
      "101/101 [==============================] - 69s 687ms/step - loss: 1.7435 - recall: 0.6418 - precision: 0.6418 - auc: 0.6997 - categorical_accuracy: 0.6418 - val_loss: 1.9080 - val_recall: 0.4400 - val_precision: 0.4400 - val_auc: 0.4557 - val_categorical_accuracy: 0.4400\n",
      "Epoch 6/200\n",
      "101/101 [==============================] - ETA: 0s - loss: 1.6690 - recall: 0.6841 - precision: 0.6841 - auc: 0.7264 - categorical_accuracy: 0.6841\n",
      "Epoch 00006: val_auc improved from 0.65460 to 0.70775, saving model to ../../tmp\\checkpoints\\20201214-234144\\cp-0006.ckpt\n",
      "101/101 [==============================] - 70s 693ms/step - loss: 1.6690 - recall: 0.6841 - precision: 0.6841 - auc: 0.7264 - categorical_accuracy: 0.6841 - val_loss: 1.6457 - val_recall: 0.7000 - val_precision: 0.7000 - val_auc: 0.7078 - val_categorical_accuracy: 0.7000\n",
      "Epoch 7/200\n",
      "101/101 [==============================] - ETA: 0s - loss: 1.6057 - recall: 0.7015 - precision: 0.7015 - auc: 0.7548 - categorical_accuracy: 0.7015\n",
      "Epoch 00007: val_auc did not improve from 0.70775\n",
      "101/101 [==============================] - 70s 693ms/step - loss: 1.6057 - recall: 0.7015 - precision: 0.7015 - auc: 0.7548 - categorical_accuracy: 0.7015 - val_loss: 1.6952 - val_recall: 0.6000 - val_precision: 0.6000 - val_auc: 0.6154 - val_categorical_accuracy: 0.6000\n",
      "Epoch 8/200\n",
      "101/101 [==============================] - ETA: 0s - loss: 1.5257 - recall: 0.7139 - precision: 0.7139 - auc: 0.7883 - categorical_accuracy: 0.7139\n",
      "Epoch 00008: val_auc did not improve from 0.70775\n",
      "101/101 [==============================] - 69s 686ms/step - loss: 1.5257 - recall: 0.7139 - precision: 0.7139 - auc: 0.7883 - categorical_accuracy: 0.7139 - val_loss: 1.7239 - val_recall: 0.5600 - val_precision: 0.5600 - val_auc: 0.5712 - val_categorical_accuracy: 0.5600\n",
      "Epoch 9/200\n",
      "101/101 [==============================] - ETA: 0s - loss: 1.4792 - recall: 0.7189 - precision: 0.7189 - auc: 0.8016 - categorical_accuracy: 0.7189\n",
      "Epoch 00009: val_auc did not improve from 0.70775\n",
      "101/101 [==============================] - 70s 698ms/step - loss: 1.4792 - recall: 0.7189 - precision: 0.7189 - auc: 0.8016 - categorical_accuracy: 0.7189 - val_loss: 1.7573 - val_recall: 0.5400 - val_precision: 0.5400 - val_auc: 0.5734 - val_categorical_accuracy: 0.5400\n",
      "Epoch 10/200\n",
      "101/101 [==============================] - ETA: 0s - loss: 1.4094 - recall: 0.7438 - precision: 0.7438 - auc: 0.8358 - categorical_accuracy: 0.7438\n",
      "Epoch 00010: val_auc did not improve from 0.70775\n",
      "101/101 [==============================] - 71s 701ms/step - loss: 1.4094 - recall: 0.7438 - precision: 0.7438 - auc: 0.8358 - categorical_accuracy: 0.7438 - val_loss: 1.8256 - val_recall: 0.5800 - val_precision: 0.5800 - val_auc: 0.6538 - val_categorical_accuracy: 0.5800\n",
      "Epoch 11/200\n",
      "101/101 [==============================] - ETA: 0s - loss: 1.3834 - recall: 0.7587 - precision: 0.7587 - auc: 0.8444 - categorical_accuracy: 0.7587\n",
      "Epoch 00011: val_auc did not improve from 0.70775\n",
      "101/101 [==============================] - 71s 700ms/step - loss: 1.3834 - recall: 0.7587 - precision: 0.7587 - auc: 0.8444 - categorical_accuracy: 0.7587 - val_loss: 1.9111 - val_recall: 0.5600 - val_precision: 0.5600 - val_auc: 0.6065 - val_categorical_accuracy: 0.5600\n",
      "Epoch 12/200\n",
      "101/101 [==============================] - ETA: 0s - loss: 1.3589 - recall: 0.7687 - precision: 0.7687 - auc: 0.8503 - categorical_accuracy: 0.7687\n",
      "Epoch 00012: val_auc did not improve from 0.70775\n",
      "101/101 [==============================] - 70s 689ms/step - loss: 1.3589 - recall: 0.7687 - precision: 0.7687 - auc: 0.8503 - categorical_accuracy: 0.7687 - val_loss: 1.7587 - val_recall: 0.5600 - val_precision: 0.5600 - val_auc: 0.6063 - val_categorical_accuracy: 0.5600\n",
      "Epoch 13/200\n",
      "101/101 [==============================] - ETA: 0s - loss: 1.3321 - recall: 0.7736 - precision: 0.7736 - auc: 0.8565 - categorical_accuracy: 0.7736\n",
      "Epoch 00013: val_auc did not improve from 0.70775\n",
      "101/101 [==============================] - 71s 700ms/step - loss: 1.3321 - recall: 0.7736 - precision: 0.7736 - auc: 0.8565 - categorical_accuracy: 0.7736 - val_loss: 1.5808 - val_recall: 0.5400 - val_precision: 0.5400 - val_auc: 0.6095 - val_categorical_accuracy: 0.5400\n",
      "Epoch 14/200\n",
      "101/101 [==============================] - ETA: 0s - loss: 1.2933 - recall: 0.7711 - precision: 0.7711 - auc: 0.8710 - categorical_accuracy: 0.7711\n",
      "Epoch 00014: val_auc did not improve from 0.70775\n",
      "101/101 [==============================] - 70s 698ms/step - loss: 1.2933 - recall: 0.7711 - precision: 0.7711 - auc: 0.8710 - categorical_accuracy: 0.7711 - val_loss: 1.4993 - val_recall: 0.6300 - val_precision: 0.6300 - val_auc: 0.6897 - val_categorical_accuracy: 0.6300\n",
      "Epoch 15/200\n",
      "101/101 [==============================] - ETA: 0s - loss: 1.2609 - recall: 0.8010 - precision: 0.8010 - auc: 0.8819 - categorical_accuracy: 0.8010\n",
      "Epoch 00015: val_auc did not improve from 0.70775\n",
      "101/101 [==============================] - 69s 684ms/step - loss: 1.2609 - recall: 0.8010 - precision: 0.8010 - auc: 0.8819 - categorical_accuracy: 0.8010 - val_loss: 1.5081 - val_recall: 0.6500 - val_precision: 0.6500 - val_auc: 0.7003 - val_categorical_accuracy: 0.6500\n",
      "Epoch 16/200\n",
      "101/101 [==============================] - ETA: 0s - loss: 1.2436 - recall: 0.7960 - precision: 0.7960 - auc: 0.8889 - categorical_accuracy: 0.7960\n",
      "Epoch 00016: val_auc improved from 0.70775 to 0.72565, saving model to ../../tmp\\checkpoints\\20201214-234144\\cp-0016.ckpt\n",
      "101/101 [==============================] - 69s 683ms/step - loss: 1.2436 - recall: 0.7960 - precision: 0.7960 - auc: 0.8889 - categorical_accuracy: 0.7960 - val_loss: 1.4739 - val_recall: 0.7000 - val_precision: 0.7000 - val_auc: 0.7257 - val_categorical_accuracy: 0.7000\n"
     ]
    },
    {
     "name": "stdout",
     "output_type": "stream",
     "text": [
      "Epoch 17/200\n",
      "101/101 [==============================] - ETA: 0s - loss: 1.2226 - recall: 0.8085 - precision: 0.8085 - auc: 0.8902 - categorical_accuracy: 0.8085\n",
      "Epoch 00017: val_auc did not improve from 0.72565\n",
      "101/101 [==============================] - 69s 685ms/step - loss: 1.2226 - recall: 0.8085 - precision: 0.8085 - auc: 0.8902 - categorical_accuracy: 0.8085 - val_loss: 1.5033 - val_recall: 0.6000 - val_precision: 0.6000 - val_auc: 0.6630 - val_categorical_accuracy: 0.6000\n",
      "Epoch 18/200\n",
      "101/101 [==============================] - ETA: 0s - loss: 1.2158 - recall: 0.8159 - precision: 0.8159 - auc: 0.8923 - categorical_accuracy: 0.8159\n",
      "Epoch 00018: val_auc did not improve from 0.72565\n",
      "101/101 [==============================] - 69s 686ms/step - loss: 1.2158 - recall: 0.8159 - precision: 0.8159 - auc: 0.8923 - categorical_accuracy: 0.8159 - val_loss: 1.5019 - val_recall: 0.6600 - val_precision: 0.6600 - val_auc: 0.7022 - val_categorical_accuracy: 0.6600\n",
      "Epoch 19/200\n",
      "101/101 [==============================] - ETA: 0s - loss: 1.1702 - recall: 0.8333 - precision: 0.8333 - auc: 0.9117 - categorical_accuracy: 0.8333\n",
      "Epoch 00019: val_auc did not improve from 0.72565\n",
      "101/101 [==============================] - 69s 686ms/step - loss: 1.1702 - recall: 0.8333 - precision: 0.8333 - auc: 0.9117 - categorical_accuracy: 0.8333 - val_loss: 1.5185 - val_recall: 0.6000 - val_precision: 0.6000 - val_auc: 0.6500 - val_categorical_accuracy: 0.6000\n",
      "Epoch 20/200\n",
      "101/101 [==============================] - ETA: 0s - loss: 1.1760 - recall: 0.8085 - precision: 0.8085 - auc: 0.9054 - categorical_accuracy: 0.8085\n",
      "Epoch 00020: val_auc did not improve from 0.72565\n",
      "101/101 [==============================] - 71s 705ms/step - loss: 1.1760 - recall: 0.8085 - precision: 0.8085 - auc: 0.9054 - categorical_accuracy: 0.8085 - val_loss: 1.5150 - val_recall: 0.6200 - val_precision: 0.6200 - val_auc: 0.6573 - val_categorical_accuracy: 0.6200\n",
      "Epoch 21/200\n",
      "101/101 [==============================] - ETA: 0s - loss: 1.1703 - recall: 0.8109 - precision: 0.8109 - auc: 0.9062 - categorical_accuracy: 0.8109\n",
      "Epoch 00021: val_auc did not improve from 0.72565\n",
      "101/101 [==============================] - 70s 693ms/step - loss: 1.1703 - recall: 0.8109 - precision: 0.8109 - auc: 0.9062 - categorical_accuracy: 0.8109 - val_loss: 1.4896 - val_recall: 0.7000 - val_precision: 0.7000 - val_auc: 0.7009 - val_categorical_accuracy: 0.7000\n",
      "Epoch 22/200\n",
      "101/101 [==============================] - ETA: 0s - loss: 1.1568 - recall: 0.8159 - precision: 0.8159 - auc: 0.9128 - categorical_accuracy: 0.8159\n",
      "Epoch 00022: val_auc did not improve from 0.72565\n",
      "101/101 [==============================] - 70s 692ms/step - loss: 1.1568 - recall: 0.8159 - precision: 0.8159 - auc: 0.9128 - categorical_accuracy: 0.8159 - val_loss: 1.5514 - val_recall: 0.6300 - val_precision: 0.6300 - val_auc: 0.6520 - val_categorical_accuracy: 0.6300\n",
      "Epoch 23/200\n",
      "101/101 [==============================] - ETA: 0s - loss: 1.1542 - recall: 0.8159 - precision: 0.8159 - auc: 0.9103 - categorical_accuracy: 0.8159\n",
      "Epoch 00023: val_auc did not improve from 0.72565\n",
      "101/101 [==============================] - 71s 702ms/step - loss: 1.1542 - recall: 0.8159 - precision: 0.8159 - auc: 0.9103 - categorical_accuracy: 0.8159 - val_loss: 1.4878 - val_recall: 0.6300 - val_precision: 0.6300 - val_auc: 0.6712 - val_categorical_accuracy: 0.6300\n",
      "Epoch 24/200\n",
      "101/101 [==============================] - ETA: 0s - loss: 1.1373 - recall: 0.8284 - precision: 0.8284 - auc: 0.9187 - categorical_accuracy: 0.8284\n",
      "Epoch 00024: val_auc did not improve from 0.72565\n",
      "101/101 [==============================] - 69s 688ms/step - loss: 1.1373 - recall: 0.8284 - precision: 0.8284 - auc: 0.9187 - categorical_accuracy: 0.8284 - val_loss: 1.4806 - val_recall: 0.6400 - val_precision: 0.6400 - val_auc: 0.6916 - val_categorical_accuracy: 0.6400\n",
      "Epoch 25/200\n",
      "101/101 [==============================] - ETA: 0s - loss: 1.1175 - recall: 0.8333 - precision: 0.8333 - auc: 0.9239 - categorical_accuracy: 0.8333\n",
      "Epoch 00025: val_auc did not improve from 0.72565\n",
      "101/101 [==============================] - 71s 704ms/step - loss: 1.1175 - recall: 0.8333 - precision: 0.8333 - auc: 0.9239 - categorical_accuracy: 0.8333 - val_loss: 1.5032 - val_recall: 0.6700 - val_precision: 0.6700 - val_auc: 0.6925 - val_categorical_accuracy: 0.6700\n",
      "Epoch 26/200\n",
      "101/101 [==============================] - ETA: 0s - loss: 1.1219 - recall: 0.8209 - precision: 0.8209 - auc: 0.9236 - categorical_accuracy: 0.8209\n",
      "Epoch 00026: val_auc did not improve from 0.72565\n",
      "101/101 [==============================] - 70s 690ms/step - loss: 1.1219 - recall: 0.8209 - precision: 0.8209 - auc: 0.9236 - categorical_accuracy: 0.8209 - val_loss: 1.5136 - val_recall: 0.6600 - val_precision: 0.6600 - val_auc: 0.6867 - val_categorical_accuracy: 0.6600\n",
      "Epoch 27/200\n",
      "101/101 [==============================] - ETA: 0s - loss: 1.1230 - recall: 0.8234 - precision: 0.8234 - auc: 0.9177 - categorical_accuracy: 0.8234\n",
      "Epoch 00027: val_auc did not improve from 0.72565\n",
      "101/101 [==============================] - 71s 700ms/step - loss: 1.1230 - recall: 0.8234 - precision: 0.8234 - auc: 0.9177 - categorical_accuracy: 0.8234 - val_loss: 1.5148 - val_recall: 0.6400 - val_precision: 0.6400 - val_auc: 0.6773 - val_categorical_accuracy: 0.6400\n",
      "Epoch 28/200\n",
      "101/101 [==============================] - ETA: 0s - loss: 1.1036 - recall: 0.8259 - precision: 0.8259 - auc: 0.9270 - categorical_accuracy: 0.8259\n",
      "Epoch 00028: val_auc did not improve from 0.72565\n",
      "101/101 [==============================] - 72s 710ms/step - loss: 1.1036 - recall: 0.8259 - precision: 0.8259 - auc: 0.9270 - categorical_accuracy: 0.8259 - val_loss: 1.4922 - val_recall: 0.6500 - val_precision: 0.6500 - val_auc: 0.7023 - val_categorical_accuracy: 0.6500\n",
      "Epoch 29/200\n",
      "101/101 [==============================] - ETA: 0s - loss: 1.0936 - recall: 0.8234 - precision: 0.8234 - auc: 0.9288 - categorical_accuracy: 0.8234\n",
      "Epoch 00029: val_auc did not improve from 0.72565\n",
      "101/101 [==============================] - 70s 693ms/step - loss: 1.0936 - recall: 0.8234 - precision: 0.8234 - auc: 0.9288 - categorical_accuracy: 0.8234 - val_loss: 1.4925 - val_recall: 0.6700 - val_precision: 0.6700 - val_auc: 0.7047 - val_categorical_accuracy: 0.6700\n",
      "Epoch 30/200\n",
      "101/101 [==============================] - ETA: 0s - loss: 1.1039 - recall: 0.8408 - precision: 0.8408 - auc: 0.9247 - categorical_accuracy: 0.8408\n",
      "Epoch 00030: val_auc did not improve from 0.72565\n",
      "101/101 [==============================] - 70s 692ms/step - loss: 1.1039 - recall: 0.8408 - precision: 0.8408 - auc: 0.9247 - categorical_accuracy: 0.8408 - val_loss: 1.5106 - val_recall: 0.6900 - val_precision: 0.6900 - val_auc: 0.7001 - val_categorical_accuracy: 0.6900\n",
      "Epoch 31/200\n",
      "101/101 [==============================] - ETA: 0s - loss: 1.0971 - recall: 0.8507 - precision: 0.8507 - auc: 0.9304 - categorical_accuracy: 0.8507\n",
      "Epoch 00031: val_auc did not improve from 0.72565\n",
      "101/101 [==============================] - 69s 685ms/step - loss: 1.0971 - recall: 0.8507 - precision: 0.8507 - auc: 0.9304 - categorical_accuracy: 0.8507 - val_loss: 1.5353 - val_recall: 0.6700 - val_precision: 0.6700 - val_auc: 0.6919 - val_categorical_accuracy: 0.6700\n",
      "Epoch 32/200\n",
      "101/101 [==============================] - ETA: 0s - loss: 1.0960 - recall: 0.8259 - precision: 0.8259 - auc: 0.9263 - categorical_accuracy: 0.8259\n",
      "Epoch 00032: val_auc did not improve from 0.72565\n",
      "101/101 [==============================] - 69s 680ms/step - loss: 1.0960 - recall: 0.8259 - precision: 0.8259 - auc: 0.9263 - categorical_accuracy: 0.8259 - val_loss: 1.5220 - val_recall: 0.6700 - val_precision: 0.6700 - val_auc: 0.6870 - val_categorical_accuracy: 0.6700\n",
      "Epoch 33/200\n",
      "101/101 [==============================] - ETA: 0s - loss: 1.0938 - recall: 0.8383 - precision: 0.8383 - auc: 0.9273 - categorical_accuracy: 0.8383\n",
      "Epoch 00033: val_auc did not improve from 0.72565\n",
      "101/101 [==============================] - 69s 684ms/step - loss: 1.0938 - recall: 0.8383 - precision: 0.8383 - auc: 0.9273 - categorical_accuracy: 0.8383 - val_loss: 1.5111 - val_recall: 0.6700 - val_precision: 0.6700 - val_auc: 0.6952 - val_categorical_accuracy: 0.6700\n"
     ]
    },
    {
     "name": "stdout",
     "output_type": "stream",
     "text": [
      "Epoch 34/200\n",
      "101/101 [==============================] - ETA: 0s - loss: 1.0819 - recall: 0.8358 - precision: 0.8358 - auc: 0.9335 - categorical_accuracy: 0.8358\n",
      "Epoch 00034: val_auc did not improve from 0.72565\n",
      "101/101 [==============================] - 71s 700ms/step - loss: 1.0819 - recall: 0.8358 - precision: 0.8358 - auc: 0.9335 - categorical_accuracy: 0.8358 - val_loss: 1.5057 - val_recall: 0.6700 - val_precision: 0.6700 - val_auc: 0.6985 - val_categorical_accuracy: 0.6700\n",
      "Epoch 35/200\n",
      "101/101 [==============================] - ETA: 0s - loss: 1.0908 - recall: 0.8358 - precision: 0.8358 - auc: 0.9309 - categorical_accuracy: 0.8358\n",
      "Epoch 00035: val_auc did not improve from 0.72565\n",
      "101/101 [==============================] - 69s 687ms/step - loss: 1.0908 - recall: 0.8358 - precision: 0.8358 - auc: 0.9309 - categorical_accuracy: 0.8358 - val_loss: 1.5116 - val_recall: 0.6700 - val_precision: 0.6700 - val_auc: 0.6917 - val_categorical_accuracy: 0.6700\n",
      "Epoch 36/200\n",
      "101/101 [==============================] - ETA: 0s - loss: 1.0888 - recall: 0.8433 - precision: 0.8433 - auc: 0.9328 - categorical_accuracy: 0.8433\n",
      "Epoch 00036: val_auc did not improve from 0.72565\n",
      "101/101 [==============================] - 69s 684ms/step - loss: 1.0888 - recall: 0.8433 - precision: 0.8433 - auc: 0.9328 - categorical_accuracy: 0.8433 - val_loss: 1.5049 - val_recall: 0.6600 - val_precision: 0.6600 - val_auc: 0.6973 - val_categorical_accuracy: 0.6600\n",
      "Epoch 37/200\n",
      "101/101 [==============================] - ETA: 0s - loss: 1.1054 - recall: 0.8308 - precision: 0.8308 - auc: 0.9226 - categorical_accuracy: 0.8308\n",
      "Epoch 00037: val_auc did not improve from 0.72565\n",
      "101/101 [==============================] - 69s 686ms/step - loss: 1.1054 - recall: 0.8308 - precision: 0.8308 - auc: 0.9226 - categorical_accuracy: 0.8308 - val_loss: 1.5146 - val_recall: 0.6700 - val_precision: 0.6700 - val_auc: 0.6914 - val_categorical_accuracy: 0.6700\n",
      "Epoch 38/200\n",
      "101/101 [==============================] - ETA: 0s - loss: 1.0920 - recall: 0.8458 - precision: 0.8458 - auc: 0.9287 - categorical_accuracy: 0.8458\n",
      "Epoch 00038: val_auc did not improve from 0.72565\n",
      "101/101 [==============================] - 71s 702ms/step - loss: 1.0920 - recall: 0.8458 - precision: 0.8458 - auc: 0.9287 - categorical_accuracy: 0.8458 - val_loss: 1.5145 - val_recall: 0.6700 - val_precision: 0.6700 - val_auc: 0.6889 - val_categorical_accuracy: 0.6700\n",
      "Epoch 39/200\n",
      "101/101 [==============================] - ETA: 0s - loss: 1.0917 - recall: 0.8657 - precision: 0.8657 - auc: 0.9308 - categorical_accuracy: 0.8657\n",
      "Epoch 00039: val_auc did not improve from 0.72565\n",
      "101/101 [==============================] - 69s 687ms/step - loss: 1.0917 - recall: 0.8657 - precision: 0.8657 - auc: 0.9308 - categorical_accuracy: 0.8657 - val_loss: 1.5060 - val_recall: 0.6600 - val_precision: 0.6600 - val_auc: 0.6895 - val_categorical_accuracy: 0.6600\n",
      "Epoch 40/200\n",
      "101/101 [==============================] - ETA: 0s - loss: 1.0796 - recall: 0.8433 - precision: 0.8433 - auc: 0.9344 - categorical_accuracy: 0.8433\n",
      "Epoch 00040: val_auc did not improve from 0.72565\n",
      "101/101 [==============================] - 70s 694ms/step - loss: 1.0796 - recall: 0.8433 - precision: 0.8433 - auc: 0.9344 - categorical_accuracy: 0.8433 - val_loss: 1.4967 - val_recall: 0.6600 - val_precision: 0.6600 - val_auc: 0.6942 - val_categorical_accuracy: 0.6600\n",
      "Epoch 41/200\n",
      "101/101 [==============================] - ETA: 0s - loss: 1.0783 - recall: 0.8483 - precision: 0.8483 - auc: 0.9336 - categorical_accuracy: 0.8483\n",
      "Epoch 00041: val_auc did not improve from 0.72565\n",
      "101/101 [==============================] - 69s 683ms/step - loss: 1.0783 - recall: 0.8483 - precision: 0.8483 - auc: 0.9336 - categorical_accuracy: 0.8483 - val_loss: 1.5095 - val_recall: 0.6700 - val_precision: 0.6700 - val_auc: 0.7019 - val_categorical_accuracy: 0.6700\n",
      "Wall time: 49min 6s\n"
     ]
    }
   ],
   "source": [
    "%%time\n",
    "\n",
    "model, checkpoint_dir, history = train(\n",
    "    model,\n",
    "    train_seq,\n",
    "    test_seq,\n",
    "    CHECKPOINT_DIRECTORY,\n",
    "    LOG_DIRECTORY,\n",
    "    DATA_DIR,\n",
    "    **train_config\n",
    ")"
   ]
  },
  {
   "cell_type": "markdown",
   "metadata": {},
   "source": [
    "## Evaluation"
   ]
  },
  {
   "cell_type": "code",
   "execution_count": 9,
   "metadata": {
    "scrolled": false
   },
   "outputs": [
    {
     "name": "stdout",
     "output_type": "stream",
     "text": [
      "Wall time: 130 ms\n"
     ]
    },
    {
     "data": {
      "image/png": "[encoded data removed]",
      "text/plain": [
       "<Figure size 864x1080 with 5 Axes>"
      ]
     },
     "metadata": {
      "needs_background": "light"
     },
     "output_type": "display_data"
    }
   ],
   "source": [
    "%%time\n",
    "\n",
    "plot_training_history(history)"
   ]
  },
  {
   "cell_type": "code",
   "execution_count": 10,
   "metadata": {
    "scrolled": false
   },
   "outputs": [
    {
     "name": "stdout",
     "output_type": "stream",
     "text": [
      "loss: 1.4766825437545776\n",
      "recall: 0.699999988079071\n",
      "precision: 0.699999988079071\n",
      "auc: 0.7256500124931335\n",
      "categorical_accuracy: 0.699999988079071\n",
      "\n",
      "Wall time: 24.1 s\n"
     ]
    }
   ],
   "source": [
    "%%time\n",
    "\n",
    "show_simple_metrics(model, test_seq)"
   ]
  },
  {
   "cell_type": "code",
   "execution_count": 11,
   "metadata": {},
   "outputs": [
    {
     "name": "stdout",
     "output_type": "stream",
     "text": [
      "In binary classification, recall of the positive class is also known as “sensitivity”; recall of the negative class is “specificity”. (https://scikit-learn.org/stable/modules/generated/sklearn.metrics.classification_report.html)\n",
      "\u001b[1mAD\u001b[0m\n",
      "precision: 0.7857142857142857\n",
      "recall: 0.7096774193548387\n",
      "f1-score: 0.7457627118644068\n",
      "support: 62\n",
      "\n",
      "\n",
      "\u001b[1mCN\u001b[0m\n",
      "precision: 0.5909090909090909\n",
      "recall: 0.6842105263157895\n",
      "f1-score: 0.6341463414634148\n",
      "support: 38\n",
      "\n",
      "\n",
      "\u001b[1mmicro avg\u001b[0m\n",
      "precision: 0.7\n",
      "recall: 0.7\n",
      "f1-score: 0.7\n",
      "support: 100\n",
      "\n",
      "\n",
      "\u001b[1mmacro avg\u001b[0m\n",
      "precision: 0.6883116883116883\n",
      "recall: 0.6969439728353142\n",
      "f1-score: 0.6899545266639108\n",
      "support: 100\n",
      "\n",
      "\n",
      "\u001b[1mweighted avg\u001b[0m\n",
      "precision: 0.7116883116883117\n",
      "recall: 0.7\n",
      "f1-score: 0.7033484911120297\n",
      "support: 100\n",
      "\n",
      "\n",
      "\u001b[1msamples avg\u001b[0m\n",
      "precision: 0.7\n",
      "recall: 0.7\n",
      "f1-score: 0.7\n",
      "support: 100\n",
      "\n",
      "\n",
      "\u001b[1mF1\u001b[0m\n",
      "micro: 0.7\n",
      "macro: 0.6899545266639108\n",
      "\n",
      "\n",
      "accuracy_score: 0.7\n",
      "sensitivity_score: 0.7096774193548387\n",
      "specificity_score: 0.6842105263157895\n",
      "\n",
      "\n",
      "Wall time: 24.8 s\n"
     ]
    },
    {
     "data": {
      "image/png": "[encoded data removed]",
      "text/plain": [
       "<Figure size 576x576 with 2 Axes>"
      ]
     },
     "metadata": {
      "needs_background": "light"
     },
     "output_type": "display_data"
    }
   ],
   "source": [
    "%%time\n",
    "\n",
    "show_metrics(model, test_seq, class_names)"
   ]
  },
  {
   "cell_type": "code",
   "execution_count": null,
   "metadata": {},
   "outputs": [],
   "source": []
  }
 ],
 "metadata": {
  "kernelspec": {
   "display_name": "Python 3",
   "language": "python",
   "name": "python3"
  },
  "language_info": {
   "codemirror_mode": {
    "name": "ipython",
    "version": 3
   },
   "file_extension": ".py",
   "mimetype": "text/x-python",
   "name": "python",
   "nbconvert_exporter": "python",
   "pygments_lexer": "ipython3",
   "version": "3.7.9"
  }
 },
 "nbformat": 4,
 "nbformat_minor": 1
}

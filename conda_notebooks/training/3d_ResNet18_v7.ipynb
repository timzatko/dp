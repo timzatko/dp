{
 "cells": [
  {
   "cell_type": "markdown",
   "metadata": {},
   "source": [
    "# 3D ResNet"
   ]
  },
  {
   "cell_type": "markdown",
   "metadata": {},
   "source": [
    "Basic + Augmentations (invert, rotate, zoom, blur, noise) + Dropout (0.5) + l2 (0.0001)"
   ]
  },
  {
   "cell_type": "code",
   "execution_count": 1,
   "metadata": {},
   "outputs": [],
   "source": [
    "%load_ext autoreload\n",
    "%autoreload 2\n",
    "\n",
    "import sys\n",
    "sys.path.append('../..')\n",
    "\n",
    "import datetime\n",
    "import os\n",
    "os.environ[\"CUDA_VISIBLE_DEVICES\"]=\"0\"\n",
    "\n",
    "import numpy as np\n",
    "\n",
    "from src.data import train_test_split, MRISequence\n",
    "from src.model import create_model, compile_model, load_checkpoint\n",
    "from src.model.training import train\n",
    "from src.model.evaluation import plot_training_history, show_simple_metrics, show_metrics"
   ]
  },
  {
   "cell_type": "code",
   "execution_count": 2,
   "metadata": {},
   "outputs": [
    {
     "name": "stdout",
     "output_type": "stream",
     "text": [
      "2.3.1\n",
      "Num GPUs Available:  1\n"
     ]
    }
   ],
   "source": [
    "import tensorflow as tf\n",
    "\n",
    "# RANDOM_SEED = 300785674475887\n",
    "# tf.random.set_seed(RANDOM_SEED)\n",
    "\n",
    "print(tf.version.VERSION)\n",
    "print(\"Num GPUs Available: \", len(tf.config.experimental.list_physical_devices('GPU')))"
   ]
  },
  {
   "cell_type": "code",
   "execution_count": 3,
   "metadata": {},
   "outputs": [],
   "source": [
    "# gpus = tf.config.experimental.list_physical_devices('GPU')\n",
    "# if gpus:\n",
    "#     # Restrict TensorFlow to only allocate 1GB * 2 of memory on the first GPU\n",
    "#     try:\n",
    "#         tf.config.experimental.set_virtual_device_configuration(\n",
    "#             gpus[0],\n",
    "#             [tf.config.experimental.VirtualDeviceConfiguration(memory_limit=1024 * 2)])\n",
    "#         logical_gpus = tf.config.experimental.list_logical_devices('GPU')\n",
    "#         print(len(gpus), \"Physical GPUs,\", len(logical_gpus), \"Logical GPUs\")\n",
    "#     except RuntimeError as e:\n",
    "#         # Virtual devices must be set before GPUs have been initialized\n",
    "#         print(e)"
   ]
  },
  {
   "cell_type": "markdown",
   "metadata": {},
   "source": [
    "## Setup"
   ]
  },
  {
   "cell_type": "code",
   "execution_count": 4,
   "metadata": {},
   "outputs": [
    {
     "name": "stdout",
     "output_type": "stream",
     "text": [
      "not copying files since the destination directory already exists\n",
      "initializing train_seq...\n",
      "initializing test_seq...\n",
      "val_seq = test_seq\n",
      "log_dir: ../../tmp\\logs\\20201217-133717\n",
      "Wall time: 4.96 ms\n"
     ]
    }
   ],
   "source": [
    "%%time\n",
    "\n",
    "ROOT_DIR = '../../tmp'\n",
    "DEFAULT_CHECKPOINT_DIRECTORY_LOCAL = os.path.join(ROOT_DIR, 'checkpoints')\n",
    "DEFAULT_BCKP_CHECKPOINT_DIRECTORY_LOCAL = os.path.join(ROOT_DIR, 'bckp-checkpoints')\n",
    "\n",
    "LOG_DIRECTORY = os.path.join(ROOT_DIR, 'logs')\n",
    "CHECKPOINT_DIRECTORY = DEFAULT_CHECKPOINT_DIRECTORY_LOCAL\n",
    "\n",
    "LOG_DIRECTORY_LOCAL = LOG_DIRECTORY\n",
    "CHECKPOINT_DIRECTORY_LOCAL = CHECKPOINT_DIRECTORY\n",
    "\n",
    "DATA_DIR_NAME = 'data-v3'\n",
    "DATA_DIR = os.path.join(ROOT_DIR, DATA_DIR_NAME)\n",
    "\n",
    "saliencies_and_segmentations_v2_path = os.path.join(ROOT_DIR, 'saliencies_and_segmentations_v2')\n",
    "\n",
    "if not os.path.exists(CHECKPOINT_DIRECTORY):\n",
    "    os.mkdir(CHECKPOINT_DIRECTORY)\n",
    "\n",
    "if not os.path.exists(LOG_DIRECTORY):\n",
    "    os.mkdir(LOG_DIRECTORY)\n",
    "\n",
    "val = False\n",
    "    \n",
    "class_names = ['AD', 'CN']\n",
    "\n",
    "# get paths to data\n",
    "train_dir, test_dir, val_dir = train_test_split(\n",
    "    saliencies_and_segmentations_v2_path, \n",
    "    ROOT_DIR, \n",
    "    split=(0.8, 0.15, 0.05), \n",
    "    dirname=DATA_DIR_NAME)\n",
    "\n",
    "# set the batch size for mri seq\n",
    "batch_size = 12\n",
    "input_shape = (104, 128, 104, 1) # (112, 112, 105, 1)\n",
    "resize_img = True\n",
    "crop_img = True\n",
    "\n",
    "# if y is one-hot encoded or just scalar number\n",
    "one_hot = True\n",
    "\n",
    "# class weights (see analysis notebook)\n",
    "class_weights = {0: 0.8072289156626505, 1: 1.3137254901960784}\n",
    "\n",
    "# description statistics of the dataset\n",
    "desc = {'mean': -3.6344006e-09, 'std': 1.0000092, 'min': -1.4982183, 'max': 10.744175}\n",
    "\n",
    "if 'desc' not in locals():\n",
    "    print('initializing desc...')\n",
    "    desc = get_description(MRISequence(\n",
    "        train_dir,\n",
    "        64,\n",
    "        class_names=class_names,\n",
    "        input_shape=input_shape),\n",
    "        max_samples=None)\n",
    "    print(desc)\n",
    "\n",
    "\n",
    "normalization={ 'type':'normalization', 'desc': desc }\n",
    "# normalization={'type':'standardization', 'desc':desc }\n",
    "\n",
    "augmentations = None\n",
    "augmentations_inplace = True\n",
    "# enable augmentations in mri seq (otherwise it can be enabled in dataset)\n",
    "# augmentations={ 'random_swap_hemispheres': 0.5 }\n",
    "\n",
    "# initialize sequences\n",
    "print('initializing train_seq...')\n",
    "train_seq = MRISequence(\n",
    "    train_dir,\n",
    "    batch_size,\n",
    "    class_names=class_names,\n",
    "    augmentations=augmentations,\n",
    "    augmentations_inplace=augmentations_inplace,\n",
    "    input_shape=input_shape,\n",
    "    resize_img=resize_img,\n",
    "    crop_img=crop_img,\n",
    "    one_hot=one_hot,\n",
    "    class_weights=class_weights,\n",
    "    normalization=normalization)\n",
    "\n",
    "print('initializing test_seq...')\n",
    "test_seq = MRISequence(\n",
    "    test_dir,\n",
    "    batch_size,\n",
    "    class_names=class_names,\n",
    "    input_shape=input_shape,\n",
    "    resize_img=resize_img,\n",
    "    crop_img=crop_img,\n",
    "    one_hot=one_hot,\n",
    "    normalization=normalization)\n",
    "\n",
    "if val:\n",
    "    print('initializing val_seq...')\n",
    "    val_seq = MRISequence(\n",
    "        val_dir,\n",
    "        batch_size,\n",
    "        class_names=class_names,\n",
    "        input_shape=input_shape,\n",
    "        resize_img=resize_img,\n",
    "        crop_img=crop_img,\n",
    "        one_hot=one_hot,\n",
    "        class_weights=class_weights,\n",
    "        normalization=normalization)\n",
    "else:\n",
    "    print('val_seq = test_seq')\n",
    "    val_seq = test_seq\n",
    "    \n",
    "model_key = datetime.datetime.now().strftime('%Y%m%d-%H%M%S')\n",
    "log_dir = os.path.join(LOG_DIRECTORY, model_key)\n",
    "print(f'log_dir: {log_dir}')"
   ]
  },
  {
   "cell_type": "code",
   "execution_count": 5,
   "metadata": {},
   "outputs": [],
   "source": [
    "# https://www.tensorflow.org/tutorials/structured_data/imbalanced_data#class_weights\n",
    "# pos / neg\n",
    "initial_bias = np.log([159/243, 243/159])\n",
    "\n",
    "model_type = '3DResNet18'\n",
    "model_config = {\n",
    "    'input_shape': input_shape,\n",
    "    'class_names': class_names,\n",
    "#     'l2_beta': 0.001,\n",
    "    'l2_beta': 0.0001,\n",
    "#     'l2_beta': None,\n",
    "    'dropout': 0.25,\n",
    "#     'dropout': None,\n",
    "    'output_bias': initial_bias,\n",
    "#     'output_bias': None,\n",
    "    'is_complex': False,\n",
    "}\n",
    "\n",
    "compile_config = {\n",
    "    # default is 0.001\n",
    "#     'learning_rate': 0.000075,\n",
    "    'learning_rate': 0.00025 * 1.5,\n",
    "    'decay_steps': 10,\n",
    "    'decay_rate': 0.96,\n",
    "#     'beta_1': 0.85,\n",
    "    'beta_1': 0.90,\n",
    "#     'beta_2': 0.990,\n",
    "    'beta_2': 0.999,\n",
    "}\n",
    "\n",
    "train_config = {\n",
    "    'model_key': model_key,\n",
    "    'epochs': 200,\n",
    "    'patience': 25,\n",
    "    'tensorboard_update_freq': 'epoch',\n",
    "    'mri_tensorboard_callback': False,\n",
    "    'model_checkpoint_callback': {'monitor': 'val_auc', 'mode': 'max', 'save_best_only': True},\n",
    "    'early_stopping_monitor': {'monitor': 'val_auc', 'mode': 'max'},\n",
    "    'augmentations': {\n",
    "        'invert': (0.5, None),\n",
    "        'rotate': (0.2, 5), # probability, degrees\n",
    "        'zoom': (0.2, 0.015),\n",
    "        'shear': (0, 2.5), # probability, degrees\n",
    "        'blur': (0.2, 0.8),\n",
    "        'noise': (0.2, 0.00025)\n",
    "    },\n",
    "#     'augmentations': False,\n",
    "    'batch_size': 8,\n",
    "#     'model_checkpoint_callback': False,\n",
    "}"
   ]
  },
  {
   "cell_type": "markdown",
   "metadata": {},
   "source": [
    "## Train"
   ]
  },
  {
   "cell_type": "code",
   "execution_count": 6,
   "metadata": {
    "scrolled": false
   },
   "outputs": [
    {
     "name": "stdout",
     "output_type": "stream",
     "text": [
      "Model: \"sequential_7\"\n",
      "_________________________________________________________________\n",
      "Layer (type)                 Output Shape              Param #   \n",
      "=================================================================\n",
      "my_res_net (MyResNet)        (None, 512)               33437056  \n",
      "_________________________________________________________________\n",
      "dropout (Dropout)            (None, 512)               0         \n",
      "_________________________________________________________________\n",
      "dense_1 (Dense)              (None, 256)               131328    \n",
      "_________________________________________________________________\n",
      "dropout_1 (Dropout)          (None, 256)               0         \n",
      "_________________________________________________________________\n",
      "dense_2 (Dense)              (None, 2)                 514       \n",
      "=================================================================\n",
      "Total params: 33,568,898\n",
      "Trainable params: 33,559,298\n",
      "Non-trainable params: 9,600\n",
      "_________________________________________________________________\n"
     ]
    }
   ],
   "source": [
    "model = create_model(model_type, model_config)\n",
    "model, *_ = compile_model(model, **compile_config)\n",
    "model.build(input_shape=input_shape)\n",
    "model.summary()"
   ]
  },
  {
   "cell_type": "code",
   "execution_count": 7,
   "metadata": {},
   "outputs": [],
   "source": [
    "# load_checkpoint(model, DEFAULT_CHECKPOINT_DIRECTORY_LOCAL, '20201213-182225', 'cp-0002.ckpt')"
   ]
  },
  {
   "cell_type": "code",
   "execution_count": 8,
   "metadata": {},
   "outputs": [
    {
     "name": "stdout",
     "output_type": "stream",
     "text": [
      "['/device:GPU:0']\n"
     ]
    }
   ],
   "source": [
    "from tensorflow.python.client import device_lib\n",
    "\n",
    "def get_available_gpus():\n",
    "    local_device_protos = device_lib.list_local_devices()\n",
    "    return [x.name for x in local_device_protos if x.device_type == 'GPU']\n",
    "\n",
    "print(get_available_gpus())"
   ]
  },
  {
   "cell_type": "code",
   "execution_count": 9,
   "metadata": {
    "scrolled": false
   },
   "outputs": [
    {
     "name": "stdout",
     "output_type": "stream",
     "text": [
      "model key: 20201217-133717\n",
      "checkpoint dir: ../../tmp\\checkpoints\\20201217-133717\n",
      "log dir: ../../tmp\\logs\\20201217-133717\n",
      "loading ../../tmp\\data-v3\\train_x.npy, ../../tmp\\data-v3\\train_y.npy...\n",
      "loading ../../tmp\\data-v3\\val_x.npy, ../../tmp\\data-v3\\val_y.npy...\n",
      "training...\n",
      "WARNING:tensorflow:Model failed to serialize as JSON. Ignoring... \n",
      "Epoch 1/200\n",
      " 2/51 [>.............................] - ETA: 7s - loss: 1.8427 - recall: 0.3125 - precision: 0.3125 - auc: 0.1680 - categorical_accuracy: 0.3125                WARNING:tensorflow:Callbacks method `on_train_batch_end` is slow compared to the batch time (batch time: 0.1156s vs `on_train_batch_end` time: 0.2000s). Check your callbacks.\n",
      "51/51 [==============================] - ETA: 0s - loss: 1.0290 - recall: 0.4925 - precision: 0.4925 - auc: 0.4819 - categorical_accuracy: 0.4925\n",
      "Epoch 00001: val_auc improved from -inf to 0.61380, saving model to ../../tmp\\checkpoints\\20201217-133717\\cp-0001.ckpt\n",
      "51/51 [==============================] - 21s 403ms/step - loss: 1.0290 - recall: 0.4925 - precision: 0.4925 - auc: 0.4819 - categorical_accuracy: 0.4925 - val_loss: 0.8059 - val_recall: 0.6200 - val_precision: 0.6200 - val_auc: 0.6138 - val_categorical_accuracy: 0.6200\n",
      "Epoch 2/200\n",
      "51/51 [==============================] - ETA: 0s - loss: 0.8363 - recall: 0.5100 - precision: 0.5100 - auc: 0.4951 - categorical_accuracy: 0.5100\n",
      "Epoch 00002: val_auc did not improve from 0.61380\n",
      "51/51 [==============================] - 17s 338ms/step - loss: 0.8363 - recall: 0.5100 - precision: 0.5100 - auc: 0.4951 - categorical_accuracy: 0.5100 - val_loss: 0.7678 - val_recall: 0.3800 - val_precision: 0.3800 - val_auc: 0.3800 - val_categorical_accuracy: 0.3800\n",
      "Epoch 3/200\n",
      "51/51 [==============================] - ETA: 0s - loss: 0.8031 - recall: 0.4975 - precision: 0.4975 - auc: 0.5289 - categorical_accuracy: 0.4975\n",
      "Epoch 00003: val_auc did not improve from 0.61380\n",
      "51/51 [==============================] - 17s 338ms/step - loss: 0.8031 - recall: 0.4975 - precision: 0.4975 - auc: 0.5289 - categorical_accuracy: 0.4975 - val_loss: 0.7613 - val_recall: 0.3800 - val_precision: 0.3800 - val_auc: 0.4006 - val_categorical_accuracy: 0.3800\n",
      "Epoch 4/200\n",
      "51/51 [==============================] - ETA: 0s - loss: 0.7795 - recall: 0.4975 - precision: 0.4975 - auc: 0.5218 - categorical_accuracy: 0.4975\n",
      "Epoch 00004: val_auc did not improve from 0.61380\n",
      "51/51 [==============================] - 17s 340ms/step - loss: 0.7795 - recall: 0.4975 - precision: 0.4975 - auc: 0.5218 - categorical_accuracy: 0.4975 - val_loss: 0.7518 - val_recall: 0.5400 - val_precision: 0.5400 - val_auc: 0.5469 - val_categorical_accuracy: 0.5400\n",
      "Epoch 5/200\n",
      "51/51 [==============================] - ETA: 0s - loss: 0.7566 - recall: 0.5846 - precision: 0.5846 - auc: 0.5944 - categorical_accuracy: 0.5846\n",
      "Epoch 00005: val_auc did not improve from 0.61380\n",
      "51/51 [==============================] - 18s 344ms/step - loss: 0.7566 - recall: 0.5846 - precision: 0.5846 - auc: 0.5944 - categorical_accuracy: 0.5846 - val_loss: 0.8617 - val_recall: 0.3800 - val_precision: 0.3800 - val_auc: 0.3800 - val_categorical_accuracy: 0.3800\n",
      "Epoch 6/200\n",
      "51/51 [==============================] - ETA: 0s - loss: 0.7464 - recall: 0.5697 - precision: 0.5697 - auc: 0.6078 - categorical_accuracy: 0.5697\n",
      "Epoch 00006: val_auc improved from 0.61380 to 0.65650, saving model to ../../tmp\\checkpoints\\20201217-133717\\cp-0006.ckpt\n",
      "51/51 [==============================] - 19s 375ms/step - loss: 0.7464 - recall: 0.5697 - precision: 0.5697 - auc: 0.6078 - categorical_accuracy: 0.5697 - val_loss: 0.7513 - val_recall: 0.6200 - val_precision: 0.6200 - val_auc: 0.6565 - val_categorical_accuracy: 0.6200\n",
      "Epoch 7/200\n",
      "51/51 [==============================] - ETA: 0s - loss: 0.7584 - recall: 0.5721 - precision: 0.5721 - auc: 0.5598 - categorical_accuracy: 0.5721\n",
      "Epoch 00007: val_auc did not improve from 0.65650\n",
      "51/51 [==============================] - 17s 340ms/step - loss: 0.7584 - recall: 0.5721 - precision: 0.5721 - auc: 0.5598 - categorical_accuracy: 0.5721 - val_loss: 0.7744 - val_recall: 0.3800 - val_precision: 0.3800 - val_auc: 0.4229 - val_categorical_accuracy: 0.3800\n",
      "Epoch 8/200\n",
      "51/51 [==============================] - ETA: 0s - loss: 0.7190 - recall: 0.5697 - precision: 0.5697 - auc: 0.6298 - categorical_accuracy: 0.5697\n",
      "Epoch 00008: val_auc did not improve from 0.65650\n",
      "51/51 [==============================] - 17s 341ms/step - loss: 0.7190 - recall: 0.5697 - precision: 0.5697 - auc: 0.6298 - categorical_accuracy: 0.5697 - val_loss: 0.7424 - val_recall: 0.4200 - val_precision: 0.4200 - val_auc: 0.4561 - val_categorical_accuracy: 0.4200\n",
      "Epoch 9/200\n",
      "51/51 [==============================] - ETA: 0s - loss: 0.6852 - recall: 0.6567 - precision: 0.6567 - auc: 0.7052 - categorical_accuracy: 0.6567\n",
      "Epoch 00009: val_auc improved from 0.65650 to 0.69600, saving model to ../../tmp\\checkpoints\\20201217-133717\\cp-0009.ckpt\n",
      "51/51 [==============================] - 19s 372ms/step - loss: 0.6852 - recall: 0.6567 - precision: 0.6567 - auc: 0.7052 - categorical_accuracy: 0.6567 - val_loss: 0.7525 - val_recall: 0.6200 - val_precision: 0.6200 - val_auc: 0.6960 - val_categorical_accuracy: 0.6200\n",
      "Epoch 10/200\n",
      "51/51 [==============================] - ETA: 0s - loss: 0.6386 - recall: 0.6841 - precision: 0.6841 - auc: 0.7567 - categorical_accuracy: 0.6841\n",
      "Epoch 00010: val_auc did not improve from 0.69600\n",
      "51/51 [==============================] - 17s 340ms/step - loss: 0.6386 - recall: 0.6841 - precision: 0.6841 - auc: 0.7567 - categorical_accuracy: 0.6841 - val_loss: 1.0147 - val_recall: 0.6200 - val_precision: 0.6200 - val_auc: 0.6677 - val_categorical_accuracy: 0.6200\n",
      "Epoch 11/200\n",
      "51/51 [==============================] - ETA: 0s - loss: 0.6464 - recall: 0.6866 - precision: 0.6866 - auc: 0.7596 - categorical_accuracy: 0.6866\n",
      "Epoch 00011: val_auc did not improve from 0.69600\n",
      "51/51 [==============================] - 17s 340ms/step - loss: 0.6464 - recall: 0.6866 - precision: 0.6866 - auc: 0.7596 - categorical_accuracy: 0.6866 - val_loss: 0.8967 - val_recall: 0.6300 - val_precision: 0.6300 - val_auc: 0.6918 - val_categorical_accuracy: 0.6300\n",
      "Epoch 12/200\n",
      "51/51 [==============================] - ETA: 0s - loss: 0.5487 - recall: 0.7662 - precision: 0.7662 - auc: 0.8414 - categorical_accuracy: 0.7662\n",
      "Epoch 00012: val_auc improved from 0.69600 to 0.71720, saving model to ../../tmp\\checkpoints\\20201217-133717\\cp-0012.ckpt\n",
      "51/51 [==============================] - 19s 374ms/step - loss: 0.5487 - recall: 0.7662 - precision: 0.7662 - auc: 0.8414 - categorical_accuracy: 0.7662 - val_loss: 1.3300 - val_recall: 0.6200 - val_precision: 0.6200 - val_auc: 0.7172 - val_categorical_accuracy: 0.6200\n",
      "Epoch 13/200\n",
      "51/51 [==============================] - ETA: 0s - loss: 0.4887 - recall: 0.8085 - precision: 0.8085 - auc: 0.8820 - categorical_accuracy: 0.8085\n",
      "Epoch 00013: val_auc did not improve from 0.71720\n",
      "51/51 [==============================] - 17s 340ms/step - loss: 0.4887 - recall: 0.8085 - precision: 0.8085 - auc: 0.8820 - categorical_accuracy: 0.8085 - val_loss: 1.2592 - val_recall: 0.6300 - val_precision: 0.6300 - val_auc: 0.7127 - val_categorical_accuracy: 0.6300\n",
      "Epoch 14/200\n",
      "51/51 [==============================] - ETA: 0s - loss: 0.3968 - recall: 0.8632 - precision: 0.8632 - auc: 0.9300 - categorical_accuracy: 0.8632\n",
      "Epoch 00014: val_auc did not improve from 0.71720\n",
      "51/51 [==============================] - 17s 340ms/step - loss: 0.3968 - recall: 0.8632 - precision: 0.8632 - auc: 0.9300 - categorical_accuracy: 0.8632 - val_loss: 1.4205 - val_recall: 0.6300 - val_precision: 0.6300 - val_auc: 0.6971 - val_categorical_accuracy: 0.6300\n",
      "Epoch 15/200\n",
      "51/51 [==============================] - ETA: 0s - loss: 0.3635 - recall: 0.8905 - precision: 0.8905 - auc: 0.9371 - categorical_accuracy: 0.8905\n",
      "Epoch 00015: val_auc did not improve from 0.71720\n",
      "51/51 [==============================] - 17s 339ms/step - loss: 0.3635 - recall: 0.8905 - precision: 0.8905 - auc: 0.9371 - categorical_accuracy: 0.8905 - val_loss: 1.8473 - val_recall: 0.6600 - val_precision: 0.6600 - val_auc: 0.6906 - val_categorical_accuracy: 0.6600\n",
      "Epoch 16/200\n"
     ]
    },
    {
     "name": "stdout",
     "output_type": "stream",
     "text": [
      "51/51 [==============================] - ETA: 0s - loss: 0.3411 - recall: 0.8806 - precision: 0.8806 - auc: 0.9458 - categorical_accuracy: 0.8806\n",
      "Epoch 00016: val_auc did not improve from 0.71720\n",
      "51/51 [==============================] - 17s 340ms/step - loss: 0.3411 - recall: 0.8806 - precision: 0.8806 - auc: 0.9458 - categorical_accuracy: 0.8806 - val_loss: 1.5523 - val_recall: 0.6900 - val_precision: 0.6900 - val_auc: 0.7163 - val_categorical_accuracy: 0.6900\n",
      "Epoch 17/200\n",
      "51/51 [==============================] - ETA: 0s - loss: 0.2764 - recall: 0.9229 - precision: 0.9229 - auc: 0.9663 - categorical_accuracy: 0.9229\n",
      "Epoch 00017: val_auc improved from 0.71720 to 0.71840, saving model to ../../tmp\\checkpoints\\20201217-133717\\cp-0017.ckpt\n",
      "51/51 [==============================] - 19s 373ms/step - loss: 0.2764 - recall: 0.9229 - precision: 0.9229 - auc: 0.9663 - categorical_accuracy: 0.9229 - val_loss: 1.2878 - val_recall: 0.6900 - val_precision: 0.6900 - val_auc: 0.7184 - val_categorical_accuracy: 0.6900\n",
      "Epoch 18/200\n",
      "51/51 [==============================] - ETA: 0s - loss: 0.2325 - recall: 0.9428 - precision: 0.9428 - auc: 0.9792 - categorical_accuracy: 0.9428\n",
      "Epoch 00018: val_auc improved from 0.71840 to 0.74160, saving model to ../../tmp\\checkpoints\\20201217-133717\\cp-0018.ckpt\n",
      "51/51 [==============================] - 19s 371ms/step - loss: 0.2325 - recall: 0.9428 - precision: 0.9428 - auc: 0.9792 - categorical_accuracy: 0.9428 - val_loss: 1.2004 - val_recall: 0.7000 - val_precision: 0.7000 - val_auc: 0.7416 - val_categorical_accuracy: 0.7000\n",
      "Epoch 19/200\n",
      "51/51 [==============================] - ETA: 0s - loss: 0.2214 - recall: 0.9478 - precision: 0.9478 - auc: 0.9844 - categorical_accuracy: 0.9478\n",
      "Epoch 00019: val_auc did not improve from 0.74160\n",
      "51/51 [==============================] - 17s 338ms/step - loss: 0.2214 - recall: 0.9478 - precision: 0.9478 - auc: 0.9844 - categorical_accuracy: 0.9478 - val_loss: 1.0276 - val_recall: 0.7000 - val_precision: 0.7000 - val_auc: 0.7391 - val_categorical_accuracy: 0.7000\n",
      "Epoch 20/200\n",
      "51/51 [==============================] - ETA: 0s - loss: 0.1876 - recall: 0.9652 - precision: 0.9652 - auc: 0.9902 - categorical_accuracy: 0.9652\n",
      "Epoch 00020: val_auc improved from 0.74160 to 0.76260, saving model to ../../tmp\\checkpoints\\20201217-133717\\cp-0020.ckpt\n",
      "51/51 [==============================] - 19s 370ms/step - loss: 0.1876 - recall: 0.9652 - precision: 0.9652 - auc: 0.9902 - categorical_accuracy: 0.9652 - val_loss: 0.9248 - val_recall: 0.6800 - val_precision: 0.6800 - val_auc: 0.7626 - val_categorical_accuracy: 0.6800\n",
      "Epoch 21/200\n",
      "51/51 [==============================] - ETA: 0s - loss: 0.1676 - recall: 0.9726 - precision: 0.9726 - auc: 0.9953 - categorical_accuracy: 0.9726\n",
      "Epoch 00021: val_auc improved from 0.76260 to 0.76870, saving model to ../../tmp\\checkpoints\\20201217-133717\\cp-0021.ckpt\n",
      "51/51 [==============================] - 19s 375ms/step - loss: 0.1676 - recall: 0.9726 - precision: 0.9726 - auc: 0.9953 - categorical_accuracy: 0.9726 - val_loss: 0.8711 - val_recall: 0.6600 - val_precision: 0.6600 - val_auc: 0.7687 - val_categorical_accuracy: 0.6600\n",
      "Epoch 22/200\n",
      "51/51 [==============================] - ETA: 0s - loss: 0.1471 - recall: 0.9851 - precision: 0.9851 - auc: 0.9949 - categorical_accuracy: 0.9851\n",
      "Epoch 00022: val_auc did not improve from 0.76870\n",
      "51/51 [==============================] - 17s 338ms/step - loss: 0.1471 - recall: 0.9851 - precision: 0.9851 - auc: 0.9949 - categorical_accuracy: 0.9851 - val_loss: 0.8382 - val_recall: 0.6900 - val_precision: 0.6900 - val_auc: 0.7674 - val_categorical_accuracy: 0.6900\n",
      "Epoch 23/200\n",
      "51/51 [==============================] - ETA: 0s - loss: 0.1435 - recall: 0.9900 - precision: 0.9900 - auc: 0.9941 - categorical_accuracy: 0.9900\n",
      "Epoch 00023: val_auc improved from 0.76870 to 0.76970, saving model to ../../tmp\\checkpoints\\20201217-133717\\cp-0023.ckpt\n",
      "51/51 [==============================] - 19s 369ms/step - loss: 0.1435 - recall: 0.9900 - precision: 0.9900 - auc: 0.9941 - categorical_accuracy: 0.9900 - val_loss: 0.9176 - val_recall: 0.6900 - val_precision: 0.6900 - val_auc: 0.7697 - val_categorical_accuracy: 0.6900\n",
      "Epoch 24/200\n",
      "51/51 [==============================] - ETA: 0s - loss: 0.1284 - recall: 0.9900 - precision: 0.9900 - auc: 0.9978 - categorical_accuracy: 0.9900\n",
      "Epoch 00024: val_auc did not improve from 0.76970\n",
      "51/51 [==============================] - 17s 338ms/step - loss: 0.1284 - recall: 0.9900 - precision: 0.9900 - auc: 0.9978 - categorical_accuracy: 0.9900 - val_loss: 0.9889 - val_recall: 0.6900 - val_precision: 0.6900 - val_auc: 0.7682 - val_categorical_accuracy: 0.6900\n",
      "Epoch 25/200\n",
      "51/51 [==============================] - ETA: 0s - loss: 0.1240 - recall: 0.9925 - precision: 0.9925 - auc: 0.9976 - categorical_accuracy: 0.9925\n",
      "Epoch 00025: val_auc did not improve from 0.76970\n",
      "51/51 [==============================] - 17s 338ms/step - loss: 0.1240 - recall: 0.9925 - precision: 0.9925 - auc: 0.9976 - categorical_accuracy: 0.9925 - val_loss: 0.9412 - val_recall: 0.6700 - val_precision: 0.6700 - val_auc: 0.7647 - val_categorical_accuracy: 0.6700\n",
      "Epoch 26/200\n",
      "51/51 [==============================] - ETA: 0s - loss: 0.1238 - recall: 0.9876 - precision: 0.9876 - auc: 0.9984 - categorical_accuracy: 0.9876\n",
      "Epoch 00026: val_auc did not improve from 0.76970\n",
      "51/51 [==============================] - 17s 342ms/step - loss: 0.1238 - recall: 0.9876 - precision: 0.9876 - auc: 0.9984 - categorical_accuracy: 0.9876 - val_loss: 0.9439 - val_recall: 0.6900 - val_precision: 0.6900 - val_auc: 0.7657 - val_categorical_accuracy: 0.6900\n",
      "Epoch 27/200\n",
      "51/51 [==============================] - ETA: 0s - loss: 0.1190 - recall: 0.9925 - precision: 0.9925 - auc: 0.9988 - categorical_accuracy: 0.9925\n",
      "Epoch 00027: val_auc did not improve from 0.76970\n",
      "51/51 [==============================] - 17s 338ms/step - loss: 0.1190 - recall: 0.9925 - precision: 0.9925 - auc: 0.9988 - categorical_accuracy: 0.9925 - val_loss: 0.9508 - val_recall: 0.6900 - val_precision: 0.6900 - val_auc: 0.7611 - val_categorical_accuracy: 0.6900\n",
      "Epoch 28/200\n",
      "51/51 [==============================] - ETA: 0s - loss: 0.1200 - recall: 0.9876 - precision: 0.9876 - auc: 0.9981 - categorical_accuracy: 0.9876\n",
      "Epoch 00028: val_auc did not improve from 0.76970\n",
      "51/51 [==============================] - 17s 339ms/step - loss: 0.1200 - recall: 0.9876 - precision: 0.9876 - auc: 0.9981 - categorical_accuracy: 0.9876 - val_loss: 0.9350 - val_recall: 0.6900 - val_precision: 0.6900 - val_auc: 0.7610 - val_categorical_accuracy: 0.6900\n",
      "Epoch 29/200\n",
      "51/51 [==============================] - ETA: 0s - loss: 0.1156 - recall: 0.9925 - precision: 0.9925 - auc: 0.9982 - categorical_accuracy: 0.9925\n",
      "Epoch 00029: val_auc did not improve from 0.76970\n",
      "51/51 [==============================] - 17s 340ms/step - loss: 0.1156 - recall: 0.9925 - precision: 0.9925 - auc: 0.9982 - categorical_accuracy: 0.9925 - val_loss: 0.9397 - val_recall: 0.6900 - val_precision: 0.6900 - val_auc: 0.7541 - val_categorical_accuracy: 0.6900\n",
      "Epoch 30/200\n",
      "51/51 [==============================] - ETA: 0s - loss: 0.1174 - recall: 0.9950 - precision: 0.9950 - auc: 0.9974 - categorical_accuracy: 0.9950\n",
      "Epoch 00030: val_auc did not improve from 0.76970\n",
      "51/51 [==============================] - 17s 342ms/step - loss: 0.1174 - recall: 0.9950 - precision: 0.9950 - auc: 0.9974 - categorical_accuracy: 0.9950 - val_loss: 0.9312 - val_recall: 0.7000 - val_precision: 0.7000 - val_auc: 0.7492 - val_categorical_accuracy: 0.7000\n",
      "Epoch 31/200\n",
      "51/51 [==============================] - ETA: 0s - loss: 0.1038 - recall: 0.9950 - precision: 0.9950 - auc: 0.9995 - categorical_accuracy: 0.9950\n",
      "Epoch 00031: val_auc did not improve from 0.76970\n",
      "51/51 [==============================] - 17s 338ms/step - loss: 0.1038 - recall: 0.9950 - precision: 0.9950 - auc: 0.9995 - categorical_accuracy: 0.9950 - val_loss: 0.9304 - val_recall: 0.6900 - val_precision: 0.6900 - val_auc: 0.7500 - val_categorical_accuracy: 0.6900\n",
      "Epoch 32/200\n",
      "51/51 [==============================] - ETA: 0s - loss: 0.1087 - recall: 0.9975 - precision: 0.9975 - auc: 0.9991 - categorical_accuracy: 0.9975\n",
      "Epoch 00032: val_auc did not improve from 0.76970\n",
      "51/51 [==============================] - 17s 343ms/step - loss: 0.1087 - recall: 0.9975 - precision: 0.9975 - auc: 0.9991 - categorical_accuracy: 0.9975 - val_loss: 0.9335 - val_recall: 0.7000 - val_precision: 0.7000 - val_auc: 0.7487 - val_categorical_accuracy: 0.7000\n"
     ]
    },
    {
     "name": "stdout",
     "output_type": "stream",
     "text": [
      "Epoch 33/200\n",
      "51/51 [==============================] - ETA: 0s - loss: 0.1076 - recall: 0.9950 - precision: 0.9950 - auc: 0.9999 - categorical_accuracy: 0.9950\n",
      "Epoch 00033: val_auc did not improve from 0.76970\n",
      "51/51 [==============================] - 18s 345ms/step - loss: 0.1076 - recall: 0.9950 - precision: 0.9950 - auc: 0.9999 - categorical_accuracy: 0.9950 - val_loss: 0.9366 - val_recall: 0.7000 - val_precision: 0.7000 - val_auc: 0.7514 - val_categorical_accuracy: 0.7000\n",
      "Epoch 34/200\n",
      "51/51 [==============================] - ETA: 0s - loss: 0.1090 - recall: 0.9925 - precision: 0.9925 - auc: 0.9991 - categorical_accuracy: 0.9925\n",
      "Epoch 00034: val_auc did not improve from 0.76970\n",
      "51/51 [==============================] - 17s 343ms/step - loss: 0.1090 - recall: 0.9925 - precision: 0.9925 - auc: 0.9991 - categorical_accuracy: 0.9925 - val_loss: 0.9390 - val_recall: 0.7000 - val_precision: 0.7000 - val_auc: 0.7491 - val_categorical_accuracy: 0.7000\n",
      "Epoch 35/200\n",
      "51/51 [==============================] - ETA: 0s - loss: 0.1200 - recall: 0.9876 - precision: 0.9876 - auc: 0.9978 - categorical_accuracy: 0.9876\n",
      "Epoch 00035: val_auc did not improve from 0.76970\n",
      "51/51 [==============================] - 18s 344ms/step - loss: 0.1200 - recall: 0.9876 - precision: 0.9876 - auc: 0.9978 - categorical_accuracy: 0.9876 - val_loss: 0.9418 - val_recall: 0.7100 - val_precision: 0.7100 - val_auc: 0.7513 - val_categorical_accuracy: 0.7100\n",
      "Epoch 36/200\n",
      "51/51 [==============================] - ETA: 0s - loss: 0.1100 - recall: 0.9975 - precision: 0.9975 - auc: 0.9976 - categorical_accuracy: 0.9975\n",
      "Epoch 00036: val_auc did not improve from 0.76970\n",
      "51/51 [==============================] - 17s 338ms/step - loss: 0.1100 - recall: 0.9975 - precision: 0.9975 - auc: 0.9976 - categorical_accuracy: 0.9975 - val_loss: 0.9458 - val_recall: 0.6900 - val_precision: 0.6900 - val_auc: 0.7509 - val_categorical_accuracy: 0.6900\n",
      "Epoch 37/200\n",
      "51/51 [==============================] - ETA: 0s - loss: 0.1078 - recall: 0.9925 - precision: 0.9925 - auc: 0.9999 - categorical_accuracy: 0.9925\n",
      "Epoch 00037: val_auc did not improve from 0.76970\n",
      "51/51 [==============================] - 17s 341ms/step - loss: 0.1078 - recall: 0.9925 - precision: 0.9925 - auc: 0.9999 - categorical_accuracy: 0.9925 - val_loss: 0.9485 - val_recall: 0.6900 - val_precision: 0.6900 - val_auc: 0.7498 - val_categorical_accuracy: 0.6900\n",
      "Epoch 38/200\n",
      "51/51 [==============================] - ETA: 0s - loss: 0.1155 - recall: 0.9900 - precision: 0.9900 - auc: 0.9987 - categorical_accuracy: 0.9900\n",
      "Epoch 00038: val_auc did not improve from 0.76970\n",
      "51/51 [==============================] - 17s 339ms/step - loss: 0.1155 - recall: 0.9900 - precision: 0.9900 - auc: 0.9987 - categorical_accuracy: 0.9900 - val_loss: 0.9503 - val_recall: 0.6900 - val_precision: 0.6900 - val_auc: 0.7499 - val_categorical_accuracy: 0.6900\n",
      "Epoch 39/200\n",
      "51/51 [==============================] - ETA: 0s - loss: 0.1122 - recall: 0.9950 - precision: 0.9950 - auc: 0.9990 - categorical_accuracy: 0.9950\n",
      "Epoch 00039: val_auc did not improve from 0.76970\n",
      "51/51 [==============================] - 17s 340ms/step - loss: 0.1122 - recall: 0.9950 - precision: 0.9950 - auc: 0.9990 - categorical_accuracy: 0.9950 - val_loss: 0.9488 - val_recall: 0.6900 - val_precision: 0.6900 - val_auc: 0.7488 - val_categorical_accuracy: 0.6900\n",
      "Epoch 40/200\n",
      "51/51 [==============================] - ETA: 0s - loss: 0.1117 - recall: 0.9950 - precision: 0.9950 - auc: 0.9967 - categorical_accuracy: 0.9950\n",
      "Epoch 00040: val_auc did not improve from 0.76970\n",
      "51/51 [==============================] - 17s 339ms/step - loss: 0.1117 - recall: 0.9950 - precision: 0.9950 - auc: 0.9967 - categorical_accuracy: 0.9950 - val_loss: 0.9440 - val_recall: 0.6900 - val_precision: 0.6900 - val_auc: 0.7464 - val_categorical_accuracy: 0.6900\n",
      "Epoch 41/200\n",
      "51/51 [==============================] - ETA: 0s - loss: 0.1109 - recall: 0.9925 - precision: 0.9925 - auc: 0.9980 - categorical_accuracy: 0.9925\n",
      "Epoch 00041: val_auc did not improve from 0.76970\n",
      "51/51 [==============================] - 17s 340ms/step - loss: 0.1109 - recall: 0.9925 - precision: 0.9925 - auc: 0.9980 - categorical_accuracy: 0.9925 - val_loss: 0.9445 - val_recall: 0.7000 - val_precision: 0.7000 - val_auc: 0.7469 - val_categorical_accuracy: 0.7000\n",
      "Epoch 42/200\n",
      "51/51 [==============================] - ETA: 0s - loss: 0.1098 - recall: 0.9925 - precision: 0.9925 - auc: 0.9991 - categorical_accuracy: 0.9925\n",
      "Epoch 00042: val_auc did not improve from 0.76970\n",
      "51/51 [==============================] - 17s 340ms/step - loss: 0.1098 - recall: 0.9925 - precision: 0.9925 - auc: 0.9991 - categorical_accuracy: 0.9925 - val_loss: 0.9436 - val_recall: 0.6900 - val_precision: 0.6900 - val_auc: 0.7449 - val_categorical_accuracy: 0.6900\n",
      "Epoch 43/200\n",
      "51/51 [==============================] - ETA: 0s - loss: 0.1079 - recall: 0.9950 - precision: 0.9950 - auc: 0.9989 - categorical_accuracy: 0.9950\n",
      "Epoch 00043: val_auc did not improve from 0.76970\n",
      "51/51 [==============================] - 17s 340ms/step - loss: 0.1079 - recall: 0.9950 - precision: 0.9950 - auc: 0.9989 - categorical_accuracy: 0.9950 - val_loss: 0.9463 - val_recall: 0.6900 - val_precision: 0.6900 - val_auc: 0.7466 - val_categorical_accuracy: 0.6900\n",
      "Epoch 44/200\n",
      "51/51 [==============================] - ETA: 0s - loss: 0.1127 - recall: 0.9950 - precision: 0.9950 - auc: 0.9967 - categorical_accuracy: 0.9950\n",
      "Epoch 00044: val_auc did not improve from 0.76970\n",
      "51/51 [==============================] - 17s 339ms/step - loss: 0.1127 - recall: 0.9950 - precision: 0.9950 - auc: 0.9967 - categorical_accuracy: 0.9950 - val_loss: 0.9465 - val_recall: 0.6900 - val_precision: 0.6900 - val_auc: 0.7445 - val_categorical_accuracy: 0.6900\n",
      "Epoch 45/200\n",
      "51/51 [==============================] - ETA: 0s - loss: 0.1126 - recall: 0.9925 - precision: 0.9925 - auc: 0.9990 - categorical_accuracy: 0.9925\n",
      "Epoch 00045: val_auc did not improve from 0.76970\n",
      "51/51 [==============================] - 17s 339ms/step - loss: 0.1126 - recall: 0.9925 - precision: 0.9925 - auc: 0.9990 - categorical_accuracy: 0.9925 - val_loss: 0.9460 - val_recall: 0.6900 - val_precision: 0.6900 - val_auc: 0.7439 - val_categorical_accuracy: 0.6900\n",
      "Epoch 46/200\n",
      "51/51 [==============================] - ETA: 0s - loss: 0.1083 - recall: 0.9950 - precision: 0.9950 - auc: 0.9992 - categorical_accuracy: 0.9950\n",
      "Epoch 00046: val_auc did not improve from 0.76970\n",
      "51/51 [==============================] - 17s 339ms/step - loss: 0.1083 - recall: 0.9950 - precision: 0.9950 - auc: 0.9992 - categorical_accuracy: 0.9950 - val_loss: 0.9463 - val_recall: 0.6900 - val_precision: 0.6900 - val_auc: 0.7451 - val_categorical_accuracy: 0.6900\n",
      "Epoch 47/200\n",
      "51/51 [==============================] - ETA: 0s - loss: 0.1043 - recall: 0.9950 - precision: 0.9950 - auc: 0.9994 - categorical_accuracy: 0.9950\n",
      "Epoch 00047: val_auc did not improve from 0.76970\n",
      "51/51 [==============================] - 17s 341ms/step - loss: 0.1043 - recall: 0.9950 - precision: 0.9950 - auc: 0.9994 - categorical_accuracy: 0.9950 - val_loss: 0.9470 - val_recall: 0.6900 - val_precision: 0.6900 - val_auc: 0.7446 - val_categorical_accuracy: 0.6900\n",
      "Epoch 48/200\n",
      "51/51 [==============================] - ETA: 0s - loss: 0.1046 - recall: 0.9950 - precision: 0.9950 - auc: 0.9988 - categorical_accuracy: 0.9950\n",
      "Epoch 00048: val_auc did not improve from 0.76970\n",
      "51/51 [==============================] - 17s 341ms/step - loss: 0.1046 - recall: 0.9950 - precision: 0.9950 - auc: 0.9988 - categorical_accuracy: 0.9950 - val_loss: 0.9465 - val_recall: 0.6900 - val_precision: 0.6900 - val_auc: 0.7451 - val_categorical_accuracy: 0.6900\n",
      "Wall time: 15min 42s\n"
     ]
    }
   ],
   "source": [
    "%%time\n",
    "\n",
    "model, checkpoint_dir, history = train(\n",
    "    model,\n",
    "    train_seq,\n",
    "    test_seq,\n",
    "    CHECKPOINT_DIRECTORY,\n",
    "    LOG_DIRECTORY,\n",
    "    DATA_DIR,\n",
    "    **train_config\n",
    ")"
   ]
  },
  {
   "cell_type": "markdown",
   "metadata": {},
   "source": [
    "## Evaluation"
   ]
  },
  {
   "cell_type": "code",
   "execution_count": 10,
   "metadata": {
    "scrolled": false
   },
   "outputs": [
    {
     "name": "stdout",
     "output_type": "stream",
     "text": [
      "Wall time: 151 ms\n"
     ]
    },
    {
     "data": {
      "image/png": "[encoded data removed]",
      "text/plain": [
       "<Figure size 864x1080 with 5 Axes>"
      ]
     },
     "metadata": {
      "needs_background": "light"
     },
     "output_type": "display_data"
    }
   ],
   "source": [
    "%%time\n",
    "\n",
    "plot_training_history(history)"
   ]
  },
  {
   "cell_type": "code",
   "execution_count": 11,
   "metadata": {
    "scrolled": true
   },
   "outputs": [
    {
     "name": "stdout",
     "output_type": "stream",
     "text": [
      "loss: 0.8342289924621582\n",
      "recall: 0.6899999976158142\n",
      "precision: 0.6899999976158142\n",
      "auc: 0.7696999907493591\n",
      "categorical_accuracy: 0.6899999976158142\n",
      "\n",
      "Wall time: 23.6 s\n"
     ]
    }
   ],
   "source": [
    "%%time\n",
    "\n",
    "show_simple_metrics(model, test_seq)"
   ]
  },
  {
   "cell_type": "code",
   "execution_count": 12,
   "metadata": {
    "scrolled": false
   },
   "outputs": [
    {
     "name": "stdout",
     "output_type": "stream",
     "text": [
      "In binary classification, recall of the positive class is also known as “sensitivity”; recall of the negative class is “specificity”. (https://scikit-learn.org/stable/modules/generated/sklearn.metrics.classification_report.html)\n",
      "\u001b[1mAD\u001b[0m\n",
      "precision: 0.7384615384615385\n",
      "recall: 0.7741935483870968\n",
      "f1-score: 0.7559055118110236\n",
      "support: 62\n",
      "\n",
      "\n",
      "\u001b[1mCN\u001b[0m\n",
      "precision: 0.6\n",
      "recall: 0.5526315789473685\n",
      "f1-score: 0.5753424657534247\n",
      "support: 38\n",
      "\n",
      "\n",
      "\u001b[1mmicro avg\u001b[0m\n",
      "precision: 0.69\n",
      "recall: 0.69\n",
      "f1-score: 0.69\n",
      "support: 100\n",
      "\n",
      "\n",
      "\u001b[1mmacro avg\u001b[0m\n",
      "precision: 0.6692307692307693\n",
      "recall: 0.6634125636672326\n",
      "f1-score: 0.6656239887822242\n",
      "support: 100\n",
      "\n",
      "\n",
      "\u001b[1mweighted avg\u001b[0m\n",
      "precision: 0.6858461538461539\n",
      "recall: 0.69\n",
      "f1-score: 0.687291554309136\n",
      "support: 100\n",
      "\n",
      "\n",
      "\u001b[1msamples avg\u001b[0m\n",
      "precision: 0.69\n",
      "recall: 0.69\n",
      "f1-score: 0.69\n",
      "support: 100\n",
      "\n",
      "\n",
      "\u001b[1mF1\u001b[0m\n",
      "micro: 0.69\n",
      "macro: 0.6656239887822242\n",
      "\n",
      "\n",
      "accuracy_score: 0.69\n",
      "sensitivity_score: 0.7741935483870968\n",
      "specificity_score: 0.5526315789473685\n",
      "\n",
      "\n",
      "Wall time: 21.9 s\n"
     ]
    },
    {
     "data": {
      "image/png": "[encoded data removed]",
      "text/plain": [
       "<Figure size 576x576 with 2 Axes>"
      ]
     },
     "metadata": {
      "needs_background": "light"
     },
     "output_type": "display_data"
    }
   ],
   "source": [
    "%%time\n",
    "\n",
    "show_metrics(model, test_seq, class_names)"
   ]
  },
  {
   "cell_type": "code",
   "execution_count": null,
   "metadata": {},
   "outputs": [],
   "source": []
  }
 ],
 "metadata": {
  "kernelspec": {
   "display_name": "Python 3",
   "language": "python",
   "name": "python3"
  },
  "language_info": {
   "codemirror_mode": {
    "name": "ipython",
    "version": 3
   },
   "file_extension": ".py",
   "mimetype": "text/x-python",
   "name": "python",
   "nbconvert_exporter": "python",
   "pygments_lexer": "ipython3",
   "version": "3.7.9"
  }
 },
 "nbformat": 4,
 "nbformat_minor": 1
}

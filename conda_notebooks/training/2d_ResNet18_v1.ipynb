{
 "cells": [
  {
   "cell_type": "markdown",
   "metadata": {},
   "source": [
    "# 3D ResNet"
   ]
  },
  {
   "cell_type": "markdown",
   "metadata": {},
   "source": [
    "Basic"
   ]
  },
  {
   "cell_type": "code",
   "execution_count": 2,
   "metadata": {},
   "outputs": [
    {
     "name": "stdout",
     "output_type": "stream",
     "text": [
      "The autoreload extension is already loaded. To reload it, use:\n",
      "  %reload_ext autoreload\n"
     ]
    }
   ],
   "source": [
    "%load_ext autoreload\n",
    "%autoreload 2\n",
    "\n",
    "import sys\n",
    "sys.path.append('../..')\n",
    "\n",
    "import datetime\n",
    "import os\n",
    "os.environ[\"CUDA_VISIBLE_DEVICES\"]=\"0\"\n",
    "\n",
    "import numpy as np\n",
    "\n",
    "from src.data import train_test_split, MRISequence\n",
    "from src.model import create_model, compile_model, load_checkpoint\n",
    "from src.model.training import train\n",
    "from src.model.evaluation import plot_training_history, show_simple_metrics, show_metrics"
   ]
  },
  {
   "cell_type": "code",
   "execution_count": 3,
   "metadata": {},
   "outputs": [
    {
     "name": "stdout",
     "output_type": "stream",
     "text": [
      "2.3.1\n",
      "Num GPUs Available:  1\n"
     ]
    }
   ],
   "source": [
    "import tensorflow as tf\n",
    "\n",
    "RANDOM_SEED = 792379571013149\n",
    "tf.random.set_seed(RANDOM_SEED)\n",
    "\n",
    "print(tf.version.VERSION)\n",
    "print(\"Num GPUs Available: \", len(tf.config.experimental.list_physical_devices('GPU')))"
   ]
  },
  {
   "cell_type": "markdown",
   "metadata": {},
   "source": [
    "## Setup"
   ]
  },
  {
   "cell_type": "code",
   "execution_count": 4,
   "metadata": {},
   "outputs": [
    {
     "name": "stdout",
     "output_type": "stream",
     "text": [
      "not copying files since the destination directory already exists\n",
      "initializing train_seq...\n",
      "initializing test_seq...\n",
      "val_seq = test_seq\n",
      "log_dir: ../../tmp\\logs\\20201216-142026\n",
      "Wall time: 5 ms\n"
     ]
    }
   ],
   "source": [
    "%%time\n",
    "\n",
    "ROOT_DIR = '../../tmp'\n",
    "DEFAULT_CHECKPOINT_DIRECTORY_LOCAL = os.path.join(ROOT_DIR, 'checkpoints')\n",
    "DEFAULT_BCKP_CHECKPOINT_DIRECTORY_LOCAL = os.path.join(ROOT_DIR, 'bckp-checkpoints')\n",
    "\n",
    "LOG_DIRECTORY = os.path.join(ROOT_DIR, 'logs')\n",
    "CHECKPOINT_DIRECTORY = DEFAULT_CHECKPOINT_DIRECTORY_LOCAL\n",
    "\n",
    "LOG_DIRECTORY_LOCAL = LOG_DIRECTORY\n",
    "CHECKPOINT_DIRECTORY_LOCAL = CHECKPOINT_DIRECTORY\n",
    "\n",
    "DATA_DIR_NAME = 'data-v3'\n",
    "DATA_DIR = os.path.join(ROOT_DIR, DATA_DIR_NAME)\n",
    "\n",
    "saliencies_and_segmentations_v2_path = os.path.join(ROOT_DIR, 'saliencies_and_segmentations_v2')\n",
    "\n",
    "if not os.path.exists(CHECKPOINT_DIRECTORY):\n",
    "    os.mkdir(CHECKPOINT_DIRECTORY)\n",
    "\n",
    "if not os.path.exists(LOG_DIRECTORY):\n",
    "    os.mkdir(LOG_DIRECTORY)\n",
    "\n",
    "val = False\n",
    "    \n",
    "class_names = ['AD', 'CN']\n",
    "\n",
    "# get paths to data\n",
    "train_dir, test_dir, val_dir = train_test_split(\n",
    "    saliencies_and_segmentations_v2_path, \n",
    "    ROOT_DIR, \n",
    "    split=(0.8, 0.15, 0.05), \n",
    "    dirname=DATA_DIR_NAME)\n",
    "\n",
    "# set the batch size for mri seq\n",
    "batch_size = 12\n",
    "input_shape = (104, 128, 104, 1) # (112, 112, 105, 1)\n",
    "resize_img = True\n",
    "crop_img = True\n",
    "\n",
    "# if y is one-hot encoded or just scalar number\n",
    "one_hot = True\n",
    "\n",
    "# class weights (see analysis notebook)\n",
    "class_weights = {0: 0.8072289156626505, 1: 1.3137254901960784}\n",
    "\n",
    "# description statistics of the dataset\n",
    "desc = {'mean': -3.6344006e-09, 'std': 1.0000092, 'min': -1.4982183, 'max': 10.744175}\n",
    "\n",
    "if 'desc' not in locals():\n",
    "    print('initializing desc...')\n",
    "    desc = get_description(MRISequence(\n",
    "        train_dir,\n",
    "        64,\n",
    "        class_names=class_names,\n",
    "        input_shape=input_shape),\n",
    "        max_samples=None)\n",
    "    print(desc)\n",
    "\n",
    "\n",
    "normalization={ 'type':'normalization', 'desc': desc }\n",
    "# normalization={'type':'standardization', 'desc':desc }\n",
    "\n",
    "augmentations = None\n",
    "augmentations_inplace = True\n",
    "# enable augmentations in mri seq (otherwise it can be enabled in dataset)\n",
    "# augmentations={ 'random_swap_hemispheres': 0.5 }\n",
    "\n",
    "# initialize sequences\n",
    "print('initializing train_seq...')\n",
    "train_seq = MRISequence(\n",
    "    train_dir,\n",
    "    batch_size,\n",
    "    class_names=class_names,\n",
    "    augmentations=augmentations,\n",
    "    augmentations_inplace=augmentations_inplace,\n",
    "    input_shape=input_shape,\n",
    "    resize_img=resize_img,\n",
    "    crop_img=crop_img,\n",
    "    one_hot=one_hot,\n",
    "    class_weights=class_weights,\n",
    "    normalization=normalization)\n",
    "\n",
    "print('initializing test_seq...')\n",
    "test_seq = MRISequence(\n",
    "    test_dir,\n",
    "    batch_size,\n",
    "    class_names=class_names,\n",
    "    input_shape=input_shape,\n",
    "    resize_img=resize_img,\n",
    "    crop_img=crop_img,\n",
    "    one_hot=one_hot,\n",
    "    normalization=normalization)\n",
    "\n",
    "if val:\n",
    "    print('initializing val_seq...')\n",
    "    val_seq = MRISequence(\n",
    "        val_dir,\n",
    "        batch_size,\n",
    "        class_names=class_names,\n",
    "        input_shape=input_shape,\n",
    "        resize_img=resize_img,\n",
    "        crop_img=crop_img,\n",
    "        one_hot=one_hot,\n",
    "        class_weights=class_weights,\n",
    "        normalization=normalization)\n",
    "else:\n",
    "    print('val_seq = test_seq')\n",
    "    val_seq = test_seq\n",
    "    \n",
    "model_key = datetime.datetime.now().strftime('%Y%m%d-%H%M%S')\n",
    "log_dir = os.path.join(LOG_DIRECTORY, model_key)\n",
    "print(f'log_dir: {log_dir}')"
   ]
  },
  {
   "cell_type": "code",
   "execution_count": 5,
   "metadata": {},
   "outputs": [],
   "source": [
    "# https://www.tensorflow.org/tutorials/structured_data/imbalanced_data#class_weights\n",
    "# pos / neg\n",
    "initial_bias = np.log([159/243, 243/159])\n",
    "\n",
    "model_type = 'ResNet18'\n",
    "model_config = {\n",
    "    'input_shape': input_shape,\n",
    "    'class_names': class_names,\n",
    "#     'l2_beta': 0.001,\n",
    "#     'l2_beta': 0.0005,\n",
    "#     'l2_beta': None,\n",
    "#     'dropout': 0.10,\n",
    "#     'dropout': None,\n",
    "    'output_bias': initial_bias,\n",
    "#     'output_bias': None,\n",
    "    # https://www.tensorflow.org/api_docs/python/tf/keras/layers/BatchNormalization\n",
    "}\n",
    "\n",
    "compile_config = {\n",
    "    # default is 0.001\n",
    "#     'learning_rate': 0.000075,\n",
    "    'learning_rate': 0.00025,\n",
    "    'decay_steps': 25,\n",
    "    'decay_rate': 0.96,\n",
    "#     'beta_1': 0.85,\n",
    "    'beta_1': 0.90,\n",
    "#     'beta_2': 0.990,\n",
    "    'beta_2': 0.999,\n",
    "}\n",
    "\n",
    "train_config = {\n",
    "    'model_key': model_key,\n",
    "    'epochs': 200,\n",
    "    'patience': 25,\n",
    "    'tensorboard_update_freq': 'epoch',\n",
    "    'mri_tensorboard_callback': False,\n",
    "    'model_checkpoint_callback': {'monitor': 'val_auc', 'mode': 'max', 'save_best_only': True},\n",
    "    'early_stopping_monitor': {'monitor': 'val_auc', 'mode': 'max'},\n",
    "#     'augmentations': {\n",
    "#         'invert': (0.5, None),\n",
    "#         'rotate': (0.2, 5), # probability, degrees\n",
    "#         'zoom': (0.2, 0.015),\n",
    "#         'shear': (0, 2.5), # probability, degrees\n",
    "#         'blur': (0.2, 0.8),\n",
    "#         'noise': (0.2, 0.00025)\n",
    "#     },\n",
    "    'augmentations': False,\n",
    "    'batch_size': 10,\n",
    "#     'model_checkpoint_callback': False,\n",
    "}"
   ]
  },
  {
   "cell_type": "markdown",
   "metadata": {},
   "source": [
    "## Train"
   ]
  },
  {
   "cell_type": "code",
   "execution_count": 6,
   "metadata": {
    "scrolled": false
   },
   "outputs": [
    {
     "name": "stdout",
     "output_type": "stream",
     "text": [
      "Model: \"sequential_7\"\n",
      "_________________________________________________________________\n",
      "Layer (type)                 Output Shape              Param #   \n",
      "=================================================================\n",
      "reshape (Reshape)            (None, 104, 128, 104)     0         \n",
      "_________________________________________________________________\n",
      "my_res_net (MyResNet)        (None, 1024)              12032960  \n",
      "_________________________________________________________________\n",
      "dense_1 (Dense)              (None, 512)               524800    \n",
      "_________________________________________________________________\n",
      "dense_2 (Dense)              (None, 256)               131328    \n",
      "_________________________________________________________________\n",
      "dense_3 (Dense)              (None, 2)                 514       \n",
      "=================================================================\n",
      "Total params: 12,689,602\n",
      "Trainable params: 12,680,002\n",
      "Non-trainable params: 9,600\n",
      "_________________________________________________________________\n"
     ]
    }
   ],
   "source": [
    "model = create_model(model_type, model_config)\n",
    "model, *_ = compile_model(model, **compile_config)\n",
    "model.build(input_shape=input_shape)\n",
    "model.summary()"
   ]
  },
  {
   "cell_type": "code",
   "execution_count": 7,
   "metadata": {},
   "outputs": [],
   "source": [
    "# load_checkpoint(model, DEFAULT_CHECKPOINT_DIRECTORY_LOCAL, '20201213-182225', 'cp-0002.ckpt')"
   ]
  },
  {
   "cell_type": "code",
   "execution_count": 8,
   "metadata": {},
   "outputs": [
    {
     "name": "stdout",
     "output_type": "stream",
     "text": [
      "['/device:GPU:0']\n"
     ]
    }
   ],
   "source": [
    "from tensorflow.python.client import device_lib\n",
    "\n",
    "def get_available_gpus():\n",
    "    local_device_protos = device_lib.list_local_devices()\n",
    "    return [x.name for x in local_device_protos if x.device_type == 'GPU']\n",
    "\n",
    "print(get_available_gpus())"
   ]
  },
  {
   "cell_type": "code",
   "execution_count": 9,
   "metadata": {
    "scrolled": false
   },
   "outputs": [
    {
     "name": "stdout",
     "output_type": "stream",
     "text": [
      "model key: 20201216-142026\n",
      "checkpoint dir: ../../tmp\\checkpoints\\20201216-142026\n",
      "log dir: ../../tmp\\logs\\20201216-142026\n",
      "loading ../../tmp\\data-v3\\train_x.npy, ../../tmp\\data-v3\\train_y.npy...\n",
      "loading ../../tmp\\data-v3\\val_x.npy, ../../tmp\\data-v3\\val_y.npy...\n",
      "training...\n",
      "WARNING:tensorflow:Model failed to serialize as JSON. Ignoring... \n",
      "Epoch 1/200\n",
      "41/41 [==============================] - ETA: 0s - loss: 0.7995 - recall: 0.4751 - precision: 0.4751 - auc: 0.4876 - categorical_accuracy: 0.4751\n",
      "Epoch 00001: val_auc improved from -inf to 0.38140, saving model to ../../tmp\\checkpoints\\20201216-142026\\cp-0001.ckpt\n",
      "41/41 [==============================] - 4s 102ms/step - loss: 0.7995 - recall: 0.4751 - precision: 0.4751 - auc: 0.4876 - categorical_accuracy: 0.4751 - val_loss: 0.7468 - val_recall: 0.3800 - val_precision: 0.3800 - val_auc: 0.3814 - val_categorical_accuracy: 0.3800\n",
      "Epoch 2/200\n",
      "41/41 [==============================] - ETA: 0s - loss: 0.6885 - recall: 0.6443 - precision: 0.6443 - auc: 0.6502 - categorical_accuracy: 0.6443\n",
      "Epoch 00002: val_auc improved from 0.38140 to 0.43980, saving model to ../../tmp\\checkpoints\\20201216-142026\\cp-0002.ckpt\n",
      "41/41 [==============================] - 3s 75ms/step - loss: 0.6885 - recall: 0.6443 - precision: 0.6443 - auc: 0.6502 - categorical_accuracy: 0.6443 - val_loss: 0.7368 - val_recall: 0.3800 - val_precision: 0.3800 - val_auc: 0.4398 - val_categorical_accuracy: 0.3800\n",
      "Epoch 3/200\n",
      "41/41 [==============================] - ETA: 0s - loss: 0.6562 - recall: 0.6045 - precision: 0.6045 - auc: 0.6611 - categorical_accuracy: 0.6045\n",
      "Epoch 00003: val_auc did not improve from 0.43980\n",
      "41/41 [==============================] - 2s 57ms/step - loss: 0.6562 - recall: 0.6045 - precision: 0.6045 - auc: 0.6611 - categorical_accuracy: 0.6045 - val_loss: 0.7573 - val_recall: 0.3800 - val_precision: 0.3800 - val_auc: 0.4297 - val_categorical_accuracy: 0.3800\n",
      "Epoch 4/200\n",
      "41/41 [==============================] - ETA: 0s - loss: 0.6738 - recall: 0.6368 - precision: 0.6368 - auc: 0.6802 - categorical_accuracy: 0.6368\n",
      "Epoch 00004: val_auc did not improve from 0.43980\n",
      "41/41 [==============================] - 2s 57ms/step - loss: 0.6738 - recall: 0.6368 - precision: 0.6368 - auc: 0.6802 - categorical_accuracy: 0.6368 - val_loss: 0.8685 - val_recall: 0.3800 - val_precision: 0.3800 - val_auc: 0.4309 - val_categorical_accuracy: 0.3800\n",
      "Epoch 5/200\n",
      "41/41 [==============================] - ETA: 0s - loss: 0.5992 - recall: 0.7015 - precision: 0.7015 - auc: 0.7517 - categorical_accuracy: 0.7015\n",
      "Epoch 00005: val_auc improved from 0.43980 to 0.44020, saving model to ../../tmp\\checkpoints\\20201216-142026\\cp-0005.ckpt\n",
      "41/41 [==============================] - 3s 76ms/step - loss: 0.5992 - recall: 0.7015 - precision: 0.7015 - auc: 0.7517 - categorical_accuracy: 0.7015 - val_loss: 1.0408 - val_recall: 0.3800 - val_precision: 0.3800 - val_auc: 0.4402 - val_categorical_accuracy: 0.3800\n",
      "Epoch 6/200\n",
      "41/41 [==============================] - ETA: 0s - loss: 0.5413 - recall: 0.6841 - precision: 0.6841 - auc: 0.7845 - categorical_accuracy: 0.6841\n",
      "Epoch 00006: val_auc improved from 0.44020 to 0.62330, saving model to ../../tmp\\checkpoints\\20201216-142026\\cp-0006.ckpt\n",
      "41/41 [==============================] - 3s 75ms/step - loss: 0.5413 - recall: 0.6841 - precision: 0.6841 - auc: 0.7845 - categorical_accuracy: 0.6841 - val_loss: 0.7544 - val_recall: 0.6100 - val_precision: 0.6100 - val_auc: 0.6233 - val_categorical_accuracy: 0.6100\n",
      "Epoch 7/200\n",
      "41/41 [==============================] - ETA: 0s - loss: 0.4711 - recall: 0.7786 - precision: 0.7786 - auc: 0.8429 - categorical_accuracy: 0.7786\n",
      "Epoch 00007: val_auc improved from 0.62330 to 0.70090, saving model to ../../tmp\\checkpoints\\20201216-142026\\cp-0007.ckpt\n",
      "41/41 [==============================] - 3s 75ms/step - loss: 0.4711 - recall: 0.7786 - precision: 0.7786 - auc: 0.8429 - categorical_accuracy: 0.7786 - val_loss: 1.7139 - val_recall: 0.6200 - val_precision: 0.6200 - val_auc: 0.7009 - val_categorical_accuracy: 0.6200\n",
      "Epoch 8/200\n",
      "41/41 [==============================] - ETA: 0s - loss: 0.4741 - recall: 0.7761 - precision: 0.7761 - auc: 0.8443 - categorical_accuracy: 0.7761\n",
      "Epoch 00008: val_auc did not improve from 0.70090\n",
      "41/41 [==============================] - 2s 57ms/step - loss: 0.4741 - recall: 0.7761 - precision: 0.7761 - auc: 0.8443 - categorical_accuracy: 0.7761 - val_loss: 0.9748 - val_recall: 0.4200 - val_precision: 0.4200 - val_auc: 0.4278 - val_categorical_accuracy: 0.4200\n",
      "Epoch 9/200\n",
      "41/41 [==============================] - ETA: 0s - loss: 0.2665 - recall: 0.8980 - precision: 0.8980 - auc: 0.9502 - categorical_accuracy: 0.8980\n",
      "Epoch 00009: val_auc did not improve from 0.70090\n",
      "41/41 [==============================] - 2s 57ms/step - loss: 0.2665 - recall: 0.8980 - precision: 0.8980 - auc: 0.9502 - categorical_accuracy: 0.8980 - val_loss: 0.9381 - val_recall: 0.5000 - val_precision: 0.5000 - val_auc: 0.5387 - val_categorical_accuracy: 0.5000\n",
      "Epoch 10/200\n",
      "41/41 [==============================] - ETA: 0s - loss: 0.2649 - recall: 0.8955 - precision: 0.8955 - auc: 0.9570 - categorical_accuracy: 0.8955\n",
      "Epoch 00010: val_auc did not improve from 0.70090\n",
      "41/41 [==============================] - 2s 57ms/step - loss: 0.2649 - recall: 0.8955 - precision: 0.8955 - auc: 0.9570 - categorical_accuracy: 0.8955 - val_loss: 1.3534 - val_recall: 0.6100 - val_precision: 0.6100 - val_auc: 0.6597 - val_categorical_accuracy: 0.6100\n",
      "Epoch 11/200\n",
      "41/41 [==============================] - ETA: 0s - loss: 0.2732 - recall: 0.8706 - precision: 0.8706 - auc: 0.9571 - categorical_accuracy: 0.8706\n",
      "Epoch 00011: val_auc improved from 0.70090 to 0.76190, saving model to ../../tmp\\checkpoints\\20201216-142026\\cp-0011.ckpt\n",
      "41/41 [==============================] - 3s 75ms/step - loss: 0.2732 - recall: 0.8706 - precision: 0.8706 - auc: 0.9571 - categorical_accuracy: 0.8706 - val_loss: 1.1754 - val_recall: 0.7000 - val_precision: 0.7000 - val_auc: 0.7619 - val_categorical_accuracy: 0.7000\n",
      "Epoch 12/200\n",
      "41/41 [==============================] - ETA: 0s - loss: 0.1559 - recall: 0.9403 - precision: 0.9403 - auc: 0.9832 - categorical_accuracy: 0.9403\n",
      "Epoch 00012: val_auc did not improve from 0.76190\n",
      "41/41 [==============================] - 2s 58ms/step - loss: 0.1559 - recall: 0.9403 - precision: 0.9403 - auc: 0.9832 - categorical_accuracy: 0.9403 - val_loss: 0.8733 - val_recall: 0.7100 - val_precision: 0.7100 - val_auc: 0.7279 - val_categorical_accuracy: 0.7100\n",
      "Epoch 13/200\n",
      "41/41 [==============================] - ETA: 0s - loss: 0.0904 - recall: 0.9701 - precision: 0.9701 - auc: 0.9943 - categorical_accuracy: 0.9701\n",
      "Epoch 00013: val_auc did not improve from 0.76190\n",
      "41/41 [==============================] - 2s 57ms/step - loss: 0.0904 - recall: 0.9701 - precision: 0.9701 - auc: 0.9943 - categorical_accuracy: 0.9701 - val_loss: 0.8837 - val_recall: 0.7000 - val_precision: 0.7000 - val_auc: 0.7489 - val_categorical_accuracy: 0.7000\n",
      "Epoch 14/200\n",
      "41/41 [==============================] - ETA: 0s - loss: 0.0541 - recall: 0.9851 - precision: 0.9851 - auc: 0.9985 - categorical_accuracy: 0.9851\n",
      "Epoch 00014: val_auc did not improve from 0.76190\n",
      "41/41 [==============================] - 2s 58ms/step - loss: 0.0541 - recall: 0.9851 - precision: 0.9851 - auc: 0.9985 - categorical_accuracy: 0.9851 - val_loss: 2.1841 - val_recall: 0.6900 - val_precision: 0.6900 - val_auc: 0.7488 - val_categorical_accuracy: 0.6900\n",
      "Epoch 15/200\n",
      "41/41 [==============================] - ETA: 0s - loss: 0.0262 - recall: 0.9950 - precision: 0.9950 - auc: 0.9998 - categorical_accuracy: 0.9950\n",
      "Epoch 00015: val_auc did not improve from 0.76190\n",
      "41/41 [==============================] - 2s 57ms/step - loss: 0.0262 - recall: 0.9950 - precision: 0.9950 - auc: 0.9998 - categorical_accuracy: 0.9950 - val_loss: 2.1726 - val_recall: 0.6900 - val_precision: 0.6900 - val_auc: 0.7434 - val_categorical_accuracy: 0.6900\n",
      "Epoch 16/200\n",
      "41/41 [==============================] - ETA: 0s - loss: 0.0104 - recall: 1.0000 - precision: 1.0000 - auc: 1.0000 - categorical_accuracy: 1.0000\n",
      "Epoch 00016: val_auc improved from 0.76190 to 0.78170, saving model to ../../tmp\\checkpoints\\20201216-142026\\cp-0016.ckpt\n"
     ]
    },
    {
     "name": "stdout",
     "output_type": "stream",
     "text": [
      "41/41 [==============================] - 3s 75ms/step - loss: 0.0104 - recall: 1.0000 - precision: 1.0000 - auc: 1.0000 - categorical_accuracy: 1.0000 - val_loss: 1.7147 - val_recall: 0.7600 - val_precision: 0.7600 - val_auc: 0.7817 - val_categorical_accuracy: 0.7600\n",
      "Epoch 17/200\n",
      "41/41 [==============================] - ETA: 0s - loss: 0.0232 - recall: 0.9925 - precision: 0.9925 - auc: 0.9998 - categorical_accuracy: 0.9925\n",
      "Epoch 00017: val_auc did not improve from 0.78170\n",
      "41/41 [==============================] - 2s 57ms/step - loss: 0.0232 - recall: 0.9925 - precision: 0.9925 - auc: 0.9998 - categorical_accuracy: 0.9925 - val_loss: 1.6953 - val_recall: 0.4800 - val_precision: 0.4800 - val_auc: 0.5278 - val_categorical_accuracy: 0.4800\n",
      "Epoch 18/200\n",
      "41/41 [==============================] - ETA: 0s - loss: 0.0565 - recall: 0.9826 - precision: 0.9826 - auc: 0.9953 - categorical_accuracy: 0.9826\n",
      "Epoch 00018: val_auc did not improve from 0.78170\n",
      "41/41 [==============================] - 2s 60ms/step - loss: 0.0565 - recall: 0.9826 - precision: 0.9826 - auc: 0.9953 - categorical_accuracy: 0.9826 - val_loss: 1.1423 - val_recall: 0.5800 - val_precision: 0.5800 - val_auc: 0.6255 - val_categorical_accuracy: 0.5800\n",
      "Epoch 19/200\n",
      "41/41 [==============================] - ETA: 0s - loss: 0.0041 - recall: 1.0000 - precision: 1.0000 - auc: 1.0000 - categorical_accuracy: 1.0000\n",
      "Epoch 00019: val_auc did not improve from 0.78170\n",
      "41/41 [==============================] - 2s 58ms/step - loss: 0.0041 - recall: 1.0000 - precision: 1.0000 - auc: 1.0000 - categorical_accuracy: 1.0000 - val_loss: 1.0294 - val_recall: 0.6800 - val_precision: 0.6800 - val_auc: 0.7187 - val_categorical_accuracy: 0.6800\n",
      "Epoch 20/200\n",
      "41/41 [==============================] - ETA: 0s - loss: 0.0019 - recall: 1.0000 - precision: 1.0000 - auc: 1.0000 - categorical_accuracy: 1.0000\n",
      "Epoch 00020: val_auc did not improve from 0.78170\n",
      "41/41 [==============================] - 2s 57ms/step - loss: 0.0019 - recall: 1.0000 - precision: 1.0000 - auc: 1.0000 - categorical_accuracy: 1.0000 - val_loss: 1.0387 - val_recall: 0.7000 - val_precision: 0.7000 - val_auc: 0.7710 - val_categorical_accuracy: 0.7000\n",
      "Epoch 21/200\n",
      "40/41 [============================>.] - ETA: 0s - loss: 0.0012 - recall: 1.0000 - precision: 1.0000 - auc: 1.0000 - categorical_accuracy: 1.0000    \n",
      "Epoch 00021: val_auc improved from 0.78170 to 0.78600, saving model to ../../tmp\\checkpoints\\20201216-142026\\cp-0021.ckpt\n",
      "41/41 [==============================] - 3s 77ms/step - loss: 0.0012 - recall: 1.0000 - precision: 1.0000 - auc: 1.0000 - categorical_accuracy: 1.0000 - val_loss: 1.1004 - val_recall: 0.7200 - val_precision: 0.7200 - val_auc: 0.7860 - val_categorical_accuracy: 0.7200\n",
      "Epoch 22/200\n",
      "41/41 [==============================] - ETA: 0s - loss: 8.6524e-04 - recall: 1.0000 - precision: 1.0000 - auc: 1.0000 - categorical_accuracy: 1.0000\n",
      "Epoch 00022: val_auc improved from 0.78600 to 0.78970, saving model to ../../tmp\\checkpoints\\20201216-142026\\cp-0022.ckpt\n",
      "41/41 [==============================] - 3s 76ms/step - loss: 8.6524e-04 - recall: 1.0000 - precision: 1.0000 - auc: 1.0000 - categorical_accuracy: 1.0000 - val_loss: 1.1565 - val_recall: 0.7300 - val_precision: 0.7300 - val_auc: 0.7897 - val_categorical_accuracy: 0.7300\n",
      "Epoch 23/200\n",
      "41/41 [==============================] - ETA: 0s - loss: 6.4604e-04 - recall: 1.0000 - precision: 1.0000 - auc: 1.0000 - categorical_accuracy: 1.0000\n",
      "Epoch 00023: val_auc did not improve from 0.78970\n",
      "41/41 [==============================] - 2s 58ms/step - loss: 6.4604e-04 - recall: 1.0000 - precision: 1.0000 - auc: 1.0000 - categorical_accuracy: 1.0000 - val_loss: 1.2062 - val_recall: 0.7300 - val_precision: 0.7300 - val_auc: 0.7891 - val_categorical_accuracy: 0.7300\n",
      "Epoch 24/200\n",
      "41/41 [==============================] - ETA: 0s - loss: 4.9994e-04 - recall: 1.0000 - precision: 1.0000 - auc: 1.0000 - categorical_accuracy: 1.0000\n",
      "Epoch 00024: val_auc did not improve from 0.78970\n",
      "41/41 [==============================] - 2s 58ms/step - loss: 4.9994e-04 - recall: 1.0000 - precision: 1.0000 - auc: 1.0000 - categorical_accuracy: 1.0000 - val_loss: 1.2521 - val_recall: 0.7200 - val_precision: 0.7200 - val_auc: 0.7849 - val_categorical_accuracy: 0.7200\n",
      "Epoch 25/200\n",
      "41/41 [==============================] - ETA: 0s - loss: 4.0516e-04 - recall: 1.0000 - precision: 1.0000 - auc: 1.0000 - categorical_accuracy: 1.0000\n",
      "Epoch 00025: val_auc did not improve from 0.78970\n",
      "41/41 [==============================] - 2s 57ms/step - loss: 4.0516e-04 - recall: 1.0000 - precision: 1.0000 - auc: 1.0000 - categorical_accuracy: 1.0000 - val_loss: 1.2909 - val_recall: 0.7200 - val_precision: 0.7200 - val_auc: 0.7864 - val_categorical_accuracy: 0.7200\n",
      "Epoch 26/200\n",
      "41/41 [==============================] - ETA: 0s - loss: 3.3868e-04 - recall: 1.0000 - precision: 1.0000 - auc: 1.0000 - categorical_accuracy: 1.0000\n",
      "Epoch 00026: val_auc did not improve from 0.78970\n",
      "41/41 [==============================] - 2s 58ms/step - loss: 3.3868e-04 - recall: 1.0000 - precision: 1.0000 - auc: 1.0000 - categorical_accuracy: 1.0000 - val_loss: 1.3227 - val_recall: 0.7200 - val_precision: 0.7200 - val_auc: 0.7809 - val_categorical_accuracy: 0.7200\n",
      "Epoch 27/200\n",
      "41/41 [==============================] - ETA: 0s - loss: 2.8992e-04 - recall: 1.0000 - precision: 1.0000 - auc: 1.0000 - categorical_accuracy: 1.0000\n",
      "Epoch 00027: val_auc did not improve from 0.78970\n",
      "41/41 [==============================] - 2s 58ms/step - loss: 2.8992e-04 - recall: 1.0000 - precision: 1.0000 - auc: 1.0000 - categorical_accuracy: 1.0000 - val_loss: 1.3510 - val_recall: 0.7200 - val_precision: 0.7200 - val_auc: 0.7758 - val_categorical_accuracy: 0.7200\n",
      "Epoch 28/200\n",
      "41/41 [==============================] - ETA: 0s - loss: 2.5295e-04 - recall: 1.0000 - precision: 1.0000 - auc: 1.0000 - categorical_accuracy: 1.0000\n",
      "Epoch 00028: val_auc did not improve from 0.78970\n",
      "41/41 [==============================] - 2s 57ms/step - loss: 2.5295e-04 - recall: 1.0000 - precision: 1.0000 - auc: 1.0000 - categorical_accuracy: 1.0000 - val_loss: 1.3757 - val_recall: 0.7200 - val_precision: 0.7200 - val_auc: 0.7796 - val_categorical_accuracy: 0.7200\n",
      "Epoch 29/200\n",
      "41/41 [==============================] - ETA: 0s - loss: 2.2410e-04 - recall: 1.0000 - precision: 1.0000 - auc: 1.0000 - categorical_accuracy: 1.0000\n",
      "Epoch 00029: val_auc did not improve from 0.78970\n",
      "41/41 [==============================] - 2s 57ms/step - loss: 2.2410e-04 - recall: 1.0000 - precision: 1.0000 - auc: 1.0000 - categorical_accuracy: 1.0000 - val_loss: 1.3972 - val_recall: 0.7200 - val_precision: 0.7200 - val_auc: 0.7815 - val_categorical_accuracy: 0.7200\n",
      "Epoch 30/200\n",
      "41/41 [==============================] - ETA: 0s - loss: 2.0115e-04 - recall: 1.0000 - precision: 1.0000 - auc: 1.0000 - categorical_accuracy: 1.0000\n",
      "Epoch 00030: val_auc did not improve from 0.78970\n",
      "41/41 [==============================] - 2s 57ms/step - loss: 2.0115e-04 - recall: 1.0000 - precision: 1.0000 - auc: 1.0000 - categorical_accuracy: 1.0000 - val_loss: 1.4159 - val_recall: 0.7200 - val_precision: 0.7200 - val_auc: 0.7810 - val_categorical_accuracy: 0.7200\n",
      "Epoch 31/200\n",
      "41/41 [==============================] - ETA: 0s - loss: 1.8242e-04 - recall: 1.0000 - precision: 1.0000 - auc: 1.0000 - categorical_accuracy: 1.0000\n",
      "Epoch 00031: val_auc did not improve from 0.78970\n",
      "41/41 [==============================] - 2s 58ms/step - loss: 1.8242e-04 - recall: 1.0000 - precision: 1.0000 - auc: 1.0000 - categorical_accuracy: 1.0000 - val_loss: 1.4326 - val_recall: 0.7200 - val_precision: 0.7200 - val_auc: 0.7809 - val_categorical_accuracy: 0.7200\n",
      "Epoch 32/200\n",
      "41/41 [==============================] - ETA: 0s - loss: 1.6642e-04 - recall: 1.0000 - precision: 1.0000 - auc: 1.0000 - categorical_accuracy: 1.0000\n",
      "Epoch 00032: val_auc did not improve from 0.78970\n",
      "41/41 [==============================] - 2s 57ms/step - loss: 1.6642e-04 - recall: 1.0000 - precision: 1.0000 - auc: 1.0000 - categorical_accuracy: 1.0000 - val_loss: 1.4481 - val_recall: 0.7200 - val_precision: 0.7200 - val_auc: 0.7772 - val_categorical_accuracy: 0.7200\n",
      "Epoch 33/200\n",
      "41/41 [==============================] - ETA: 0s - loss: 1.5236e-04 - recall: 1.0000 - precision: 1.0000 - auc: 1.0000 - categorical_accuracy: 1.0000\n",
      "Epoch 00033: val_auc did not improve from 0.78970\n",
      "41/41 [==============================] - 2s 57ms/step - loss: 1.5236e-04 - recall: 1.0000 - precision: 1.0000 - auc: 1.0000 - categorical_accuracy: 1.0000 - val_loss: 1.4632 - val_recall: 0.7200 - val_precision: 0.7200 - val_auc: 0.7751 - val_categorical_accuracy: 0.7200\n",
      "Epoch 34/200\n",
      "41/41 [==============================] - ETA: 0s - loss: 1.3993e-04 - recall: 1.0000 - precision: 1.0000 - auc: 1.0000 - categorical_accuracy: 1.0000\n",
      "Epoch 00034: val_auc did not improve from 0.78970\n",
      "41/41 [==============================] - 2s 57ms/step - loss: 1.3993e-04 - recall: 1.0000 - precision: 1.0000 - auc: 1.0000 - categorical_accuracy: 1.0000 - val_loss: 1.4778 - val_recall: 0.7200 - val_precision: 0.7200 - val_auc: 0.7745 - val_categorical_accuracy: 0.7200\n",
      "Epoch 35/200\n",
      "41/41 [==============================] - ETA: 0s - loss: 1.2908e-04 - recall: 1.0000 - precision: 1.0000 - auc: 1.0000 - categorical_accuracy: 1.0000\n",
      "Epoch 00035: val_auc did not improve from 0.78970\n",
      "41/41 [==============================] - 2s 58ms/step - loss: 1.2908e-04 - recall: 1.0000 - precision: 1.0000 - auc: 1.0000 - categorical_accuracy: 1.0000 - val_loss: 1.4912 - val_recall: 0.7200 - val_precision: 0.7200 - val_auc: 0.7690 - val_categorical_accuracy: 0.7200\n",
      "Epoch 36/200\n",
      "41/41 [==============================] - ETA: 0s - loss: 1.1987e-04 - recall: 1.0000 - precision: 1.0000 - auc: 1.0000 - categorical_accuracy: 1.0000\n",
      "Epoch 00036: val_auc did not improve from 0.78970\n",
      "41/41 [==============================] - 2s 57ms/step - loss: 1.1987e-04 - recall: 1.0000 - precision: 1.0000 - auc: 1.0000 - categorical_accuracy: 1.0000 - val_loss: 1.5037 - val_recall: 0.7200 - val_precision: 0.7200 - val_auc: 0.7690 - val_categorical_accuracy: 0.7200\n",
      "Epoch 37/200\n",
      "41/41 [==============================] - ETA: 0s - loss: 1.1185e-04 - recall: 1.0000 - precision: 1.0000 - auc: 1.0000 - categorical_accuracy: 1.0000\n",
      "Epoch 00037: val_auc did not improve from 0.78970\n",
      "41/41 [==============================] - 2s 57ms/step - loss: 1.1185e-04 - recall: 1.0000 - precision: 1.0000 - auc: 1.0000 - categorical_accuracy: 1.0000 - val_loss: 1.5151 - val_recall: 0.7200 - val_precision: 0.7200 - val_auc: 0.7689 - val_categorical_accuracy: 0.7200\n",
      "Epoch 38/200\n",
      "41/41 [==============================] - ETA: 0s - loss: 1.0498e-04 - recall: 1.0000 - precision: 1.0000 - auc: 1.0000 - categorical_accuracy: 1.0000\n",
      "Epoch 00038: val_auc did not improve from 0.78970\n",
      "41/41 [==============================] - 2s 57ms/step - loss: 1.0498e-04 - recall: 1.0000 - precision: 1.0000 - auc: 1.0000 - categorical_accuracy: 1.0000 - val_loss: 1.5255 - val_recall: 0.7200 - val_precision: 0.7200 - val_auc: 0.7695 - val_categorical_accuracy: 0.7200\n",
      "Epoch 39/200\n",
      "41/41 [==============================] - ETA: 0s - loss: 9.9109e-05 - recall: 1.0000 - precision: 1.0000 - auc: 1.0000 - categorical_accuracy: 1.0000\n",
      "Epoch 00039: val_auc did not improve from 0.78970\n",
      "41/41 [==============================] - 2s 57ms/step - loss: 9.9109e-05 - recall: 1.0000 - precision: 1.0000 - auc: 1.0000 - categorical_accuracy: 1.0000 - val_loss: 1.5349 - val_recall: 0.7200 - val_precision: 0.7200 - val_auc: 0.7687 - val_categorical_accuracy: 0.7200\n",
      "Epoch 40/200\n",
      "41/41 [==============================] - ETA: 0s - loss: 9.4035e-05 - recall: 1.0000 - precision: 1.0000 - auc: 1.0000 - categorical_accuracy: 1.0000\n",
      "Epoch 00040: val_auc did not improve from 0.78970\n",
      "41/41 [==============================] - 2s 57ms/step - loss: 9.4035e-05 - recall: 1.0000 - precision: 1.0000 - auc: 1.0000 - categorical_accuracy: 1.0000 - val_loss: 1.5434 - val_recall: 0.7200 - val_precision: 0.7200 - val_auc: 0.7696 - val_categorical_accuracy: 0.7200\n",
      "Epoch 41/200\n",
      "41/41 [==============================] - ETA: 0s - loss: 8.9584e-05 - recall: 1.0000 - precision: 1.0000 - auc: 1.0000 - categorical_accuracy: 1.0000\n",
      "Epoch 00041: val_auc did not improve from 0.78970\n",
      "41/41 [==============================] - 2s 57ms/step - loss: 8.9584e-05 - recall: 1.0000 - precision: 1.0000 - auc: 1.0000 - categorical_accuracy: 1.0000 - val_loss: 1.5512 - val_recall: 0.7200 - val_precision: 0.7200 - val_auc: 0.7696 - val_categorical_accuracy: 0.7200\n",
      "Epoch 42/200\n",
      "41/41 [==============================] - ETA: 0s - loss: 8.5679e-05 - recall: 1.0000 - precision: 1.0000 - auc: 1.0000 - categorical_accuracy: 1.0000\n",
      "Epoch 00042: val_auc did not improve from 0.78970\n",
      "41/41 [==============================] - 2s 57ms/step - loss: 8.5679e-05 - recall: 1.0000 - precision: 1.0000 - auc: 1.0000 - categorical_accuracy: 1.0000 - val_loss: 1.5583 - val_recall: 0.7200 - val_precision: 0.7200 - val_auc: 0.7715 - val_categorical_accuracy: 0.7200\n",
      "Epoch 43/200\n",
      "41/41 [==============================] - ETA: 0s - loss: 8.2222e-05 - recall: 1.0000 - precision: 1.0000 - auc: 1.0000 - categorical_accuracy: 1.0000\n",
      "Epoch 00043: val_auc did not improve from 0.78970\n",
      "41/41 [==============================] - 2s 58ms/step - loss: 8.2222e-05 - recall: 1.0000 - precision: 1.0000 - auc: 1.0000 - categorical_accuracy: 1.0000 - val_loss: 1.5649 - val_recall: 0.7200 - val_precision: 0.7200 - val_auc: 0.7715 - val_categorical_accuracy: 0.7200\n",
      "Epoch 44/200\n",
      "41/41 [==============================] - ETA: 0s - loss: 7.9145e-05 - recall: 1.0000 - precision: 1.0000 - auc: 1.0000 - categorical_accuracy: 1.0000\n",
      "Epoch 00044: val_auc did not improve from 0.78970\n",
      "41/41 [==============================] - 2s 57ms/step - loss: 7.9145e-05 - recall: 1.0000 - precision: 1.0000 - auc: 1.0000 - categorical_accuracy: 1.0000 - val_loss: 1.5710 - val_recall: 0.7200 - val_precision: 0.7200 - val_auc: 0.7713 - val_categorical_accuracy: 0.7200\n",
      "Epoch 45/200\n",
      "41/41 [==============================] - ETA: 0s - loss: 7.6410e-05 - recall: 1.0000 - precision: 1.0000 - auc: 1.0000 - categorical_accuracy: 1.0000\n",
      "Epoch 00045: val_auc did not improve from 0.78970\n",
      "41/41 [==============================] - 2s 57ms/step - loss: 7.6410e-05 - recall: 1.0000 - precision: 1.0000 - auc: 1.0000 - categorical_accuracy: 1.0000 - val_loss: 1.5766 - val_recall: 0.7200 - val_precision: 0.7200 - val_auc: 0.7712 - val_categorical_accuracy: 0.7200\n",
      "Epoch 46/200\n",
      "41/41 [==============================] - ETA: 0s - loss: 7.3951e-05 - recall: 1.0000 - precision: 1.0000 - auc: 1.0000 - categorical_accuracy: 1.0000\n",
      "Epoch 00046: val_auc did not improve from 0.78970\n",
      "41/41 [==============================] - 2s 58ms/step - loss: 7.3951e-05 - recall: 1.0000 - precision: 1.0000 - auc: 1.0000 - categorical_accuracy: 1.0000 - val_loss: 1.5818 - val_recall: 0.7200 - val_precision: 0.7200 - val_auc: 0.7713 - val_categorical_accuracy: 0.7200\n",
      "Epoch 47/200\n",
      "41/41 [==============================] - ETA: 0s - loss: 7.1745e-05 - recall: 1.0000 - precision: 1.0000 - auc: 1.0000 - categorical_accuracy: 1.0000\n",
      "Epoch 00047: val_auc did not improve from 0.78970\n",
      "41/41 [==============================] - 2s 58ms/step - loss: 7.1745e-05 - recall: 1.0000 - precision: 1.0000 - auc: 1.0000 - categorical_accuracy: 1.0000 - val_loss: 1.5866 - val_recall: 0.7200 - val_precision: 0.7200 - val_auc: 0.7713 - val_categorical_accuracy: 0.7200\n",
      "Wall time: 2min 59s\n"
     ]
    }
   ],
   "source": [
    "%%time\n",
    "\n",
    "model, checkpoint_dir, history = train(\n",
    "    model,\n",
    "    train_seq,\n",
    "    test_seq,\n",
    "    CHECKPOINT_DIRECTORY,\n",
    "    LOG_DIRECTORY,\n",
    "    DATA_DIR,\n",
    "    **train_config\n",
    ")"
   ]
  },
  {
   "cell_type": "markdown",
   "metadata": {},
   "source": [
    "## Evaluation"
   ]
  },
  {
   "cell_type": "code",
   "execution_count": 10,
   "metadata": {
    "scrolled": false
   },
   "outputs": [
    {
     "name": "stdout",
     "output_type": "stream",
     "text": [
      "Wall time: 140 ms\n"
     ]
    },
    {
     "data": {
      "image/png": "[encoded data removed]",
      "text/plain": [
       "<Figure size 864x1080 with 5 Axes>"
      ]
     },
     "metadata": {
      "needs_background": "light"
     },
     "output_type": "display_data"
    }
   ],
   "source": [
    "%%time\n",
    "\n",
    "plot_training_history(history)"
   ]
  },
  {
   "cell_type": "code",
   "execution_count": 11,
   "metadata": {
    "scrolled": true
   },
   "outputs": [
    {
     "name": "stdout",
     "output_type": "stream",
     "text": [
      "loss: 1.2362674474716187\n",
      "recall: 0.7300000190734863\n",
      "precision: 0.7300000190734863\n",
      "auc: 0.7897000312805176\n",
      "categorical_accuracy: 0.7300000190734863\n",
      "\n",
      "Wall time: 25 s\n"
     ]
    }
   ],
   "source": [
    "%%time\n",
    "\n",
    "show_simple_metrics(model, test_seq)"
   ]
  },
  {
   "cell_type": "code",
   "execution_count": 12,
   "metadata": {
    "scrolled": false
   },
   "outputs": [
    {
     "name": "stdout",
     "output_type": "stream",
     "text": [
      "In binary classification, recall of the positive class is also known as “sensitivity”; recall of the negative class is “specificity”. (https://scikit-learn.org/stable/modules/generated/sklearn.metrics.classification_report.html)\n",
      "\u001b[1mAD\u001b[0m\n",
      "precision: 0.8181818181818182\n",
      "recall: 0.7258064516129032\n",
      "f1-score: 0.7692307692307693\n",
      "support: 62\n",
      "\n",
      "\n",
      "\u001b[1mCN\u001b[0m\n",
      "precision: 0.6222222222222222\n",
      "recall: 0.7368421052631579\n",
      "f1-score: 0.6746987951807228\n",
      "support: 38\n",
      "\n",
      "\n",
      "\u001b[1mmicro avg\u001b[0m\n",
      "precision: 0.73\n",
      "recall: 0.73\n",
      "f1-score: 0.7299999999999999\n",
      "support: 100\n",
      "\n",
      "\n",
      "\u001b[1mmacro avg\u001b[0m\n",
      "precision: 0.7202020202020203\n",
      "recall: 0.7313242784380305\n",
      "f1-score: 0.721964782205746\n",
      "support: 100\n",
      "\n",
      "\n",
      "\u001b[1mweighted avg\u001b[0m\n",
      "precision: 0.7437171717171718\n",
      "recall: 0.73\n",
      "f1-score: 0.7333086190917516\n",
      "support: 100\n",
      "\n",
      "\n",
      "\u001b[1msamples avg\u001b[0m\n",
      "precision: 0.73\n",
      "recall: 0.73\n",
      "f1-score: 0.73\n",
      "support: 100\n",
      "\n",
      "\n",
      "\u001b[1mF1\u001b[0m\n",
      "micro: 0.7299999999999999\n",
      "macro: 0.721964782205746\n",
      "\n",
      "\n",
      "accuracy_score: 0.73\n",
      "sensitivity_score: 0.7258064516129032\n",
      "specificity_score: 0.7368421052631579\n",
      "\n",
      "\n",
      "Wall time: 22 s\n"
     ]
    },
    {
     "data": {
      "image/png": "[encoded data removed]",
      "text/plain": [
       "<Figure size 576x576 with 2 Axes>"
      ]
     },
     "metadata": {
      "needs_background": "light"
     },
     "output_type": "display_data"
    }
   ],
   "source": [
    "%%time\n",
    "\n",
    "show_metrics(model, test_seq, class_names)"
   ]
  },
  {
   "cell_type": "code",
   "execution_count": null,
   "metadata": {},
   "outputs": [],
   "source": []
  }
 ],
 "metadata": {
  "kernelspec": {
   "display_name": "Python 3",
   "language": "python",
   "name": "python3"
  },
  "language_info": {
   "codemirror_mode": {
    "name": "ipython",
    "version": 3
   },
   "file_extension": ".py",
   "mimetype": "text/x-python",
   "name": "python",
   "nbconvert_exporter": "python",
   "pygments_lexer": "ipython3",
   "version": "3.7.9"
  }
 },
 "nbformat": 4,
 "nbformat_minor": 1
}

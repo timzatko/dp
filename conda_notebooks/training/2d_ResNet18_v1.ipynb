{
 "cells": [
  {
   "cell_type": "markdown",
   "metadata": {},
   "source": [
    "# 3D ResNet"
   ]
  },
  {
   "cell_type": "markdown",
   "metadata": {},
   "source": [
    "Basic"
   ]
  },
  {
   "cell_type": "code",
   "execution_count": 1,
   "metadata": {},
   "outputs": [],
   "source": [
    "%load_ext autoreload\n",
    "%autoreload 2\n",
    "\n",
    "import sys\n",
    "sys.path.append('../..')\n",
    "\n",
    "import datetime\n",
    "import os\n",
    "os.environ[\"CUDA_VISIBLE_DEVICES\"]=\"1\"\n",
    "\n",
    "import numpy as np\n",
    "\n",
    "from src.data import train_test_split, MRISequence\n",
    "from src.model import create_model, compile_model, load_checkpoint\n",
    "from src.model.training import train\n",
    "from src.model.evaluation import plot_training_history, show_simple_metrics, show_metrics"
   ]
  },
  {
   "cell_type": "code",
   "execution_count": 2,
   "metadata": {},
   "outputs": [
    {
     "name": "stdout",
     "output_type": "stream",
     "text": [
      "2.3.1\n",
      "Num GPUs Available:  1\n"
     ]
    }
   ],
   "source": [
    "import tensorflow as tf\n",
    "\n",
    "RANDOM_SEED = 792379571013149\n",
    "tf.random.set_seed(RANDOM_SEED)\n",
    "\n",
    "print(tf.version.VERSION)\n",
    "print(\"Num GPUs Available: \", len(tf.config.experimental.list_physical_devices('GPU')))"
   ]
  },
  {
   "cell_type": "markdown",
   "metadata": {},
   "source": [
    "## Setup"
   ]
  },
  {
   "cell_type": "code",
   "execution_count": 3,
   "metadata": {},
   "outputs": [
    {
     "name": "stdout",
     "output_type": "stream",
     "text": [
      "not copying files since the destination directory already exists\n",
      "initializing train_seq...\n",
      "initializing test_seq...\n",
      "val_seq = test_seq\n",
      "log_dir: ../../tmp\\logs\\20201229-131609\n",
      "Wall time: 8 ms\n"
     ]
    }
   ],
   "source": [
    "%%time\n",
    "\n",
    "ROOT_DIR = '../../tmp'\n",
    "DEFAULT_CHECKPOINT_DIRECTORY_LOCAL = os.path.join(ROOT_DIR, 'checkpoints')\n",
    "DEFAULT_BCKP_CHECKPOINT_DIRECTORY_LOCAL = os.path.join(ROOT_DIR, 'bckp-checkpoints')\n",
    "\n",
    "LOG_DIRECTORY = os.path.join(ROOT_DIR, 'logs')\n",
    "CHECKPOINT_DIRECTORY = DEFAULT_CHECKPOINT_DIRECTORY_LOCAL\n",
    "\n",
    "LOG_DIRECTORY_LOCAL = LOG_DIRECTORY\n",
    "CHECKPOINT_DIRECTORY_LOCAL = CHECKPOINT_DIRECTORY\n",
    "\n",
    "DATA_DIR_NAME = 'data-v3'\n",
    "DATA_DIR = os.path.join(ROOT_DIR, DATA_DIR_NAME)\n",
    "\n",
    "saliencies_and_segmentations_v2_path = os.path.join(ROOT_DIR, 'saliencies_and_segmentations_v2')\n",
    "\n",
    "if not os.path.exists(CHECKPOINT_DIRECTORY):\n",
    "    os.mkdir(CHECKPOINT_DIRECTORY)\n",
    "\n",
    "if not os.path.exists(LOG_DIRECTORY):\n",
    "    os.mkdir(LOG_DIRECTORY)\n",
    "\n",
    "val = False\n",
    "    \n",
    "class_names = ['AD', 'CN']\n",
    "\n",
    "# get paths to data\n",
    "train_dir, test_dir, val_dir = train_test_split(\n",
    "    saliencies_and_segmentations_v2_path, \n",
    "    ROOT_DIR, \n",
    "    split=(0.8, 0.15, 0.05), \n",
    "    dirname=DATA_DIR_NAME)\n",
    "\n",
    "# set the batch size for mri seq\n",
    "batch_size = 12\n",
    "input_shape = (104, 128, 104, 1) # (112, 112, 105, 1)\n",
    "resize_img = True\n",
    "crop_img = True\n",
    "\n",
    "# if y is one-hot encoded or just scalar number\n",
    "one_hot = True\n",
    "\n",
    "# class weights (see analysis notebook)\n",
    "class_weights = {0: 0.8072289156626505, 1: 1.3137254901960784}\n",
    "\n",
    "# description statistics of the dataset\n",
    "desc = {'mean': -3.6344006e-09, 'std': 1.0000092, 'min': -1.4982183, 'max': 10.744175}\n",
    "\n",
    "if 'desc' not in locals():\n",
    "    print('initializing desc...')\n",
    "    desc = get_description(MRISequence(\n",
    "        train_dir,\n",
    "        64,\n",
    "        class_names=class_names,\n",
    "        input_shape=input_shape),\n",
    "        max_samples=None)\n",
    "    print(desc)\n",
    "\n",
    "\n",
    "normalization={ 'type':'normalization', 'desc': desc }\n",
    "# normalization={'type':'standardization', 'desc':desc }\n",
    "\n",
    "augmentations = None\n",
    "augmentations_inplace = True\n",
    "# enable augmentations in mri seq (otherwise it can be enabled in dataset)\n",
    "# augmentations={ 'random_swap_hemispheres': 0.5 }\n",
    "\n",
    "# initialize sequences\n",
    "print('initializing train_seq...')\n",
    "train_seq = MRISequence(\n",
    "    train_dir,\n",
    "    batch_size,\n",
    "    class_names=class_names,\n",
    "    augmentations=augmentations,\n",
    "    augmentations_inplace=augmentations_inplace,\n",
    "    input_shape=input_shape,\n",
    "    resize_img=resize_img,\n",
    "    crop_img=crop_img,\n",
    "    one_hot=one_hot,\n",
    "    class_weights=class_weights,\n",
    "    normalization=normalization)\n",
    "\n",
    "print('initializing test_seq...')\n",
    "test_seq = MRISequence(\n",
    "    test_dir,\n",
    "    batch_size,\n",
    "    class_names=class_names,\n",
    "    input_shape=input_shape,\n",
    "    resize_img=resize_img,\n",
    "    crop_img=crop_img,\n",
    "    one_hot=one_hot,\n",
    "    normalization=normalization)\n",
    "\n",
    "if val:\n",
    "    print('initializing val_seq...')\n",
    "    val_seq = MRISequence(\n",
    "        val_dir,\n",
    "        batch_size,\n",
    "        class_names=class_names,\n",
    "        input_shape=input_shape,\n",
    "        resize_img=resize_img,\n",
    "        crop_img=crop_img,\n",
    "        one_hot=one_hot,\n",
    "        class_weights=class_weights,\n",
    "        normalization=normalization)\n",
    "else:\n",
    "    print('val_seq = test_seq')\n",
    "    val_seq = test_seq\n",
    "    \n",
    "model_key = datetime.datetime.now().strftime('%Y%m%d-%H%M%S')\n",
    "log_dir = os.path.join(LOG_DIRECTORY, model_key)\n",
    "print(f'log_dir: {log_dir}')"
   ]
  },
  {
   "cell_type": "code",
   "execution_count": 4,
   "metadata": {},
   "outputs": [],
   "source": [
    "# https://www.tensorflow.org/tutorials/structured_data/imbalanced_data#class_weights\n",
    "# pos / neg\n",
    "initial_bias = np.log([159/243, 243/159])\n",
    "\n",
    "model_type = 'ResNet18'\n",
    "model_config = {\n",
    "    'input_shape': input_shape,\n",
    "    'class_names': class_names,\n",
    "#     'l2_beta': 0.001,\n",
    "#     'l2_beta': 0.0005,\n",
    "#     'l2_beta': None,\n",
    "#     'dropout': 0.10,\n",
    "#     'dropout': None,\n",
    "    'output_bias': initial_bias,\n",
    "#     'output_bias': None,\n",
    "    # https://www.tensorflow.org/api_docs/python/tf/keras/layers/BatchNormalization\n",
    "}\n",
    "\n",
    "compile_config = {\n",
    "    # default is 0.001\n",
    "#     'learning_rate': 0.000075,\n",
    "    'learning_rate': 0.00025,\n",
    "    'decay_steps': 25,\n",
    "    'decay_rate': 0.96,\n",
    "#     'beta_1': 0.85,\n",
    "    'beta_1': 0.90,\n",
    "#     'beta_2': 0.990,\n",
    "    'beta_2': 0.999,\n",
    "}\n",
    "\n",
    "train_config = {\n",
    "    'model_key': model_key,\n",
    "    'epochs': 200,\n",
    "    'patience': 25,\n",
    "    'tensorboard_update_freq': 'epoch',\n",
    "    'mri_tensorboard_callback': False,\n",
    "    'model_checkpoint_callback': {'monitor': 'val_auc', 'mode': 'max', 'save_best_only': True},\n",
    "    'early_stopping_monitor': {'monitor': 'val_auc', 'mode': 'max'},\n",
    "#     'augmentations': {\n",
    "#         'invert': (0.5, None),\n",
    "#         'rotate': (0.2, 5), # probability, degrees\n",
    "#         'zoom': (0.2, 0.015),\n",
    "#         'shear': (0, 2.5), # probability, degrees\n",
    "#         'blur': (0.2, 0.8),\n",
    "#         'noise': (0.2, 0.00025)\n",
    "#     },\n",
    "    'augmentations': False,\n",
    "    'batch_size': 10,\n",
    "#     'model_checkpoint_callback': False,\n",
    "}"
   ]
  },
  {
   "cell_type": "markdown",
   "metadata": {},
   "source": [
    "## Train"
   ]
  },
  {
   "cell_type": "code",
   "execution_count": 5,
   "metadata": {
    "scrolled": false
   },
   "outputs": [
    {
     "name": "stdout",
     "output_type": "stream",
     "text": [
      "Model: \"sequential\"\n",
      "_________________________________________________________________\n",
      "Layer (type)                 Output Shape              Param #   \n",
      "=================================================================\n",
      "reshape (Reshape)            (None, 104, 128, 104)     0         \n",
      "_________________________________________________________________\n",
      "my_res_net (MyResNet)        (None, 512)               11754688  \n",
      "_________________________________________________________________\n",
      "dense_1 (Dense)              (None, 256)               131328    \n",
      "_________________________________________________________________\n",
      "dense_2 (Dense)              (None, 128)               32896     \n",
      "_________________________________________________________________\n",
      "dense_3 (Dense)              (None, 2)                 258       \n",
      "=================================================================\n",
      "Total params: 11,919,170\n",
      "Trainable params: 11,917,378\n",
      "Non-trainable params: 1,792\n",
      "_________________________________________________________________\n"
     ]
    }
   ],
   "source": [
    "model = create_model(model_type, model_config)\n",
    "model, *_ = compile_model(model, **compile_config)\n",
    "model.build(input_shape=input_shape)\n",
    "model.summary()"
   ]
  },
  {
   "cell_type": "code",
   "execution_count": 6,
   "metadata": {},
   "outputs": [],
   "source": [
    "# load_checkpoint(model, DEFAULT_CHECKPOINT_DIRECTORY_LOCAL, '20201213-182225', 'cp-0002.ckpt')"
   ]
  },
  {
   "cell_type": "code",
   "execution_count": 7,
   "metadata": {},
   "outputs": [
    {
     "name": "stdout",
     "output_type": "stream",
     "text": [
      "['/device:GPU:0']\n"
     ]
    }
   ],
   "source": [
    "from tensorflow.python.client import device_lib\n",
    "\n",
    "def get_available_gpus():\n",
    "    local_device_protos = device_lib.list_local_devices()\n",
    "    return [x.name for x in local_device_protos if x.device_type == 'GPU']\n",
    "\n",
    "print(get_available_gpus())"
   ]
  },
  {
   "cell_type": "code",
   "execution_count": 8,
   "metadata": {
    "scrolled": false
   },
   "outputs": [
    {
     "name": "stdout",
     "output_type": "stream",
     "text": [
      "model key: 20201229-131609\n",
      "checkpoint dir: ../../tmp\\checkpoints\\20201229-131609\n",
      "log dir: ../../tmp\\logs\\20201229-131609\n",
      "loading ../../tmp\\data-v3\\train_x.npy, ../../tmp\\data-v3\\train_y.npy...\n",
      "loading ../../tmp\\data-v3\\val_x.npy, ../../tmp\\data-v3\\val_y.npy...\n",
      "training...\n",
      "WARNING:tensorflow:Model failed to serialize as JSON. Ignoring... \n",
      "Epoch 1/200\n",
      "41/41 [==============================] - ETA: 0s - loss: 0.7607 - recall: 0.4701 - precision: 0.4701 - auc: 0.4690 - categorical_accuracy: 0.4701\n",
      "Epoch 00001: val_auc improved from -inf to 0.32800, saving model to ../../tmp\\checkpoints\\20201229-131609\\cp-0001.ckpt\n",
      "41/41 [==============================] - 5s 115ms/step - loss: 0.7607 - recall: 0.4701 - precision: 0.4701 - auc: 0.4690 - categorical_accuracy: 0.4701 - val_loss: 0.7280 - val_recall: 0.3800 - val_precision: 0.3800 - val_auc: 0.3280 - val_categorical_accuracy: 0.3800\n",
      "Epoch 2/200\n",
      "40/41 [============================>.] - ETA: 0s - loss: 0.7104 - recall: 0.5175 - precision: 0.5175 - auc: 0.4887 - categorical_accuracy: 0.5175\n",
      "Epoch 00002: val_auc improved from 0.32800 to 0.40480, saving model to ../../tmp\\checkpoints\\20201229-131609\\cp-0002.ckpt\n",
      "41/41 [==============================] - 3s 75ms/step - loss: 0.7102 - recall: 0.5149 - precision: 0.5149 - auc: 0.4859 - categorical_accuracy: 0.5149 - val_loss: 0.7417 - val_recall: 0.3800 - val_precision: 0.3800 - val_auc: 0.4048 - val_categorical_accuracy: 0.3800\n",
      "Epoch 3/200\n",
      "41/41 [==============================] - ETA: 0s - loss: 0.7066 - recall: 0.5249 - precision: 0.5249 - auc: 0.5001 - categorical_accuracy: 0.5249\n",
      "Epoch 00003: val_auc improved from 0.40480 to 0.41760, saving model to ../../tmp\\checkpoints\\20201229-131609\\cp-0003.ckpt\n",
      "41/41 [==============================] - 3s 70ms/step - loss: 0.7066 - recall: 0.5249 - precision: 0.5249 - auc: 0.5001 - categorical_accuracy: 0.5249 - val_loss: 0.7369 - val_recall: 0.3800 - val_precision: 0.3800 - val_auc: 0.4176 - val_categorical_accuracy: 0.3800\n",
      "Epoch 4/200\n",
      "41/41 [==============================] - ETA: 0s - loss: 0.6958 - recall: 0.5572 - precision: 0.5572 - auc: 0.5332 - categorical_accuracy: 0.5572\n",
      "Epoch 00004: val_auc did not improve from 0.41760\n",
      "41/41 [==============================] - 3s 63ms/step - loss: 0.6958 - recall: 0.5572 - precision: 0.5572 - auc: 0.5332 - categorical_accuracy: 0.5572 - val_loss: 0.7637 - val_recall: 0.3800 - val_precision: 0.3800 - val_auc: 0.3682 - val_categorical_accuracy: 0.3800\n",
      "Epoch 5/200\n",
      "41/41 [==============================] - ETA: 0s - loss: 0.6904 - recall: 0.6020 - precision: 0.6020 - auc: 0.5862 - categorical_accuracy: 0.6020\n",
      "Epoch 00005: val_auc did not improve from 0.41760\n",
      "41/41 [==============================] - 2s 55ms/step - loss: 0.6904 - recall: 0.6020 - precision: 0.6020 - auc: 0.5862 - categorical_accuracy: 0.6020 - val_loss: 0.7318 - val_recall: 0.3800 - val_precision: 0.3800 - val_auc: 0.3728 - val_categorical_accuracy: 0.3800\n",
      "Epoch 6/200\n",
      "41/41 [==============================] - ETA: 0s - loss: 0.6709 - recall: 0.6045 - precision: 0.6045 - auc: 0.6406 - categorical_accuracy: 0.6045\n",
      "Epoch 00006: val_auc did not improve from 0.41760\n",
      "41/41 [==============================] - 3s 62ms/step - loss: 0.6709 - recall: 0.6045 - precision: 0.6045 - auc: 0.6406 - categorical_accuracy: 0.6045 - val_loss: 0.7686 - val_recall: 0.3800 - val_precision: 0.3800 - val_auc: 0.3860 - val_categorical_accuracy: 0.3800\n",
      "Epoch 7/200\n",
      "41/41 [==============================] - ETA: 0s - loss: 0.6772 - recall: 0.6070 - precision: 0.6070 - auc: 0.6193 - categorical_accuracy: 0.6070\n",
      "Epoch 00007: val_auc improved from 0.41760 to 0.41870, saving model to ../../tmp\\checkpoints\\20201229-131609\\cp-0007.ckpt\n",
      "41/41 [==============================] - 3s 75ms/step - loss: 0.6772 - recall: 0.6070 - precision: 0.6070 - auc: 0.6193 - categorical_accuracy: 0.6070 - val_loss: 0.7605 - val_recall: 0.3800 - val_precision: 0.3800 - val_auc: 0.4187 - val_categorical_accuracy: 0.3800\n",
      "Epoch 8/200\n",
      "41/41 [==============================] - ETA: 0s - loss: 0.6275 - recall: 0.6716 - precision: 0.6716 - auc: 0.7195 - categorical_accuracy: 0.6716\n",
      "Epoch 00008: val_auc did not improve from 0.41870\n",
      "41/41 [==============================] - 2s 56ms/step - loss: 0.6275 - recall: 0.6716 - precision: 0.6716 - auc: 0.7195 - categorical_accuracy: 0.6716 - val_loss: 0.8557 - val_recall: 0.3800 - val_precision: 0.3800 - val_auc: 0.4180 - val_categorical_accuracy: 0.3800\n",
      "Epoch 9/200\n",
      "41/41 [==============================] - ETA: 0s - loss: 0.5997 - recall: 0.6517 - precision: 0.6517 - auc: 0.7400 - categorical_accuracy: 0.6517\n",
      "Epoch 00009: val_auc improved from 0.41870 to 0.44370, saving model to ../../tmp\\checkpoints\\20201229-131609\\cp-0009.ckpt\n",
      "41/41 [==============================] - 3s 79ms/step - loss: 0.5997 - recall: 0.6517 - precision: 0.6517 - auc: 0.7400 - categorical_accuracy: 0.6517 - val_loss: 0.9563 - val_recall: 0.3800 - val_precision: 0.3800 - val_auc: 0.4437 - val_categorical_accuracy: 0.3800\n",
      "Epoch 10/200\n",
      "39/41 [===========================>..] - ETA: 0s - loss: 0.5684 - recall: 0.6949 - precision: 0.6949 - auc: 0.7759 - categorical_accuracy: 0.6949\n",
      "Epoch 00010: val_auc improved from 0.44370 to 0.68700, saving model to ../../tmp\\checkpoints\\20201229-131609\\cp-0010.ckpt\n",
      "41/41 [==============================] - 3s 71ms/step - loss: 0.5661 - recall: 0.6965 - precision: 0.6965 - auc: 0.7769 - categorical_accuracy: 0.6965 - val_loss: 0.6216 - val_recall: 0.6100 - val_precision: 0.6100 - val_auc: 0.6870 - val_categorical_accuracy: 0.6100\n",
      "Epoch 11/200\n",
      "41/41 [==============================] - ETA: 0s - loss: 0.4935 - recall: 0.7711 - precision: 0.7711 - auc: 0.8432 - categorical_accuracy: 0.7711\n",
      "Epoch 00011: val_auc improved from 0.68700 to 0.68760, saving model to ../../tmp\\checkpoints\\20201229-131609\\cp-0011.ckpt\n",
      "41/41 [==============================] - 3s 80ms/step - loss: 0.4935 - recall: 0.7711 - precision: 0.7711 - auc: 0.8432 - categorical_accuracy: 0.7711 - val_loss: 0.7109 - val_recall: 0.6200 - val_precision: 0.6200 - val_auc: 0.6876 - val_categorical_accuracy: 0.6200\n",
      "Epoch 12/200\n",
      "41/41 [==============================] - ETA: 0s - loss: 0.4184 - recall: 0.8259 - precision: 0.8259 - auc: 0.8847 - categorical_accuracy: 0.8259\n",
      "Epoch 00012: val_auc did not improve from 0.68760\n",
      "41/41 [==============================] - 2s 54ms/step - loss: 0.4184 - recall: 0.8259 - precision: 0.8259 - auc: 0.8847 - categorical_accuracy: 0.8259 - val_loss: 1.1476 - val_recall: 0.4000 - val_precision: 0.4000 - val_auc: 0.4157 - val_categorical_accuracy: 0.4000\n",
      "Epoch 13/200\n",
      "41/41 [==============================] - ETA: 0s - loss: 0.3782 - recall: 0.8333 - precision: 0.8333 - auc: 0.9054 - categorical_accuracy: 0.8333\n",
      "Epoch 00013: val_auc improved from 0.68760 to 0.69690, saving model to ../../tmp\\checkpoints\\20201229-131609\\cp-0013.ckpt\n",
      "41/41 [==============================] - 3s 77ms/step - loss: 0.3782 - recall: 0.8333 - precision: 0.8333 - auc: 0.9054 - categorical_accuracy: 0.8333 - val_loss: 1.7689 - val_recall: 0.6300 - val_precision: 0.6300 - val_auc: 0.6969 - val_categorical_accuracy: 0.6300\n",
      "Epoch 14/200\n",
      "41/41 [==============================] - ETA: 0s - loss: 0.2891 - recall: 0.8955 - precision: 0.8955 - auc: 0.9474 - categorical_accuracy: 0.8955\n",
      "Epoch 00014: val_auc did not improve from 0.69690\n",
      "41/41 [==============================] - 3s 61ms/step - loss: 0.2891 - recall: 0.8955 - precision: 0.8955 - auc: 0.9474 - categorical_accuracy: 0.8955 - val_loss: 6.4213 - val_recall: 0.6200 - val_precision: 0.6200 - val_auc: 0.6200 - val_categorical_accuracy: 0.6200\n",
      "Epoch 15/200\n",
      "40/41 [============================>.] - ETA: 0s - loss: 0.2890 - recall: 0.8850 - precision: 0.8850 - auc: 0.9443 - categorical_accuracy: 0.8850\n",
      "Epoch 00015: val_auc did not improve from 0.69690\n",
      "41/41 [==============================] - 2s 56ms/step - loss: 0.2883 - recall: 0.8856 - precision: 0.8856 - auc: 0.9443 - categorical_accuracy: 0.8856 - val_loss: 3.3710 - val_recall: 0.6200 - val_precision: 0.6200 - val_auc: 0.6396 - val_categorical_accuracy: 0.6200\n",
      "Epoch 16/200\n"
     ]
    },
    {
     "name": "stdout",
     "output_type": "stream",
     "text": [
      "40/41 [============================>.] - ETA: 0s - loss: 0.2355 - recall: 0.9025 - precision: 0.9025 - auc: 0.9655 - categorical_accuracy: 0.9025\n",
      "Epoch 00016: val_auc improved from 0.69690 to 0.73080, saving model to ../../tmp\\checkpoints\\20201229-131609\\cp-0016.ckpt\n",
      "41/41 [==============================] - 3s 79ms/step - loss: 0.2355 - recall: 0.9030 - precision: 0.9030 - auc: 0.9654 - categorical_accuracy: 0.9030 - val_loss: 1.2093 - val_recall: 0.6800 - val_precision: 0.6800 - val_auc: 0.7308 - val_categorical_accuracy: 0.6800\n",
      "Epoch 17/200\n",
      "39/41 [===========================>..] - ETA: 0s - loss: 0.1493 - recall: 0.9513 - precision: 0.9513 - auc: 0.9847 - categorical_accuracy: 0.9513\n",
      "Epoch 00017: val_auc did not improve from 0.73080\n",
      "41/41 [==============================] - 2s 52ms/step - loss: 0.1527 - recall: 0.9502 - precision: 0.9502 - auc: 0.9829 - categorical_accuracy: 0.9502 - val_loss: 0.9085 - val_recall: 0.6100 - val_precision: 0.6100 - val_auc: 0.6639 - val_categorical_accuracy: 0.6100\n",
      "Epoch 18/200\n",
      "40/41 [============================>.] - ETA: 0s - loss: 0.1205 - recall: 0.9475 - precision: 0.9475 - auc: 0.9906 - categorical_accuracy: 0.9475\n",
      "Epoch 00018: val_auc improved from 0.73080 to 0.74650, saving model to ../../tmp\\checkpoints\\20201229-131609\\cp-0018.ckpt\n",
      "41/41 [==============================] - 3s 80ms/step - loss: 0.1215 - recall: 0.9453 - precision: 0.9453 - auc: 0.9904 - categorical_accuracy: 0.9453 - val_loss: 1.2317 - val_recall: 0.6800 - val_precision: 0.6800 - val_auc: 0.7465 - val_categorical_accuracy: 0.6800\n",
      "Epoch 19/200\n",
      "39/41 [===========================>..] - ETA: 0s - loss: 0.0539 - recall: 0.9846 - precision: 0.9846 - auc: 0.9992 - categorical_accuracy: 0.9846\n",
      "Epoch 00019: val_auc did not improve from 0.74650\n",
      "41/41 [==============================] - 2s 60ms/step - loss: 0.0562 - recall: 0.9826 - precision: 0.9826 - auc: 0.9990 - categorical_accuracy: 0.9826 - val_loss: 1.1089 - val_recall: 0.5800 - val_precision: 0.5800 - val_auc: 0.6072 - val_categorical_accuracy: 0.5800\n",
      "Epoch 20/200\n",
      "39/41 [===========================>..] - ETA: 0s - loss: 0.0465 - recall: 0.9846 - precision: 0.9846 - auc: 0.9993 - categorical_accuracy: 0.9846\n",
      "Epoch 00020: val_auc improved from 0.74650 to 0.75900, saving model to ../../tmp\\checkpoints\\20201229-131609\\cp-0020.ckpt\n",
      "41/41 [==============================] - 3s 72ms/step - loss: 0.0478 - recall: 0.9851 - precision: 0.9851 - auc: 0.9993 - categorical_accuracy: 0.9851 - val_loss: 1.3711 - val_recall: 0.6700 - val_precision: 0.6700 - val_auc: 0.7590 - val_categorical_accuracy: 0.6700\n",
      "Epoch 21/200\n",
      "41/41 [==============================] - ETA: 0s - loss: 0.0199 - recall: 0.9950 - precision: 0.9950 - auc: 0.9998 - categorical_accuracy: 0.9950\n",
      "Epoch 00021: val_auc did not improve from 0.75900\n",
      "41/41 [==============================] - 3s 63ms/step - loss: 0.0199 - recall: 0.9950 - precision: 0.9950 - auc: 0.9998 - categorical_accuracy: 0.9950 - val_loss: 1.5158 - val_recall: 0.6800 - val_precision: 0.6800 - val_auc: 0.7294 - val_categorical_accuracy: 0.6800\n",
      "Epoch 22/200\n",
      "39/41 [===========================>..] - ETA: 0s - loss: 0.0057 - recall: 1.0000 - precision: 1.0000 - auc: 1.0000 - categorical_accuracy: 1.0000\n",
      "Epoch 00022: val_auc did not improve from 0.75900\n",
      "41/41 [==============================] - 2s 52ms/step - loss: 0.0056 - recall: 1.0000 - precision: 1.0000 - auc: 1.0000 - categorical_accuracy: 1.0000 - val_loss: 3.2845 - val_recall: 0.6400 - val_precision: 0.6400 - val_auc: 0.6847 - val_categorical_accuracy: 0.6400\n",
      "Epoch 23/200\n",
      "41/41 [==============================] - ETA: 0s - loss: 0.0022 - recall: 1.0000 - precision: 1.0000 - auc: 1.0000 - categorical_accuracy: 1.0000\n",
      "Epoch 00023: val_auc did not improve from 0.75900\n",
      "41/41 [==============================] - 3s 62ms/step - loss: 0.0022 - recall: 1.0000 - precision: 1.0000 - auc: 1.0000 - categorical_accuracy: 1.0000 - val_loss: 2.5498 - val_recall: 0.6700 - val_precision: 0.6700 - val_auc: 0.7124 - val_categorical_accuracy: 0.6700\n",
      "Epoch 24/200\n",
      "41/41 [==============================] - ETA: 0s - loss: 0.0013 - recall: 1.0000 - precision: 1.0000 - auc: 1.0000 - categorical_accuracy: 1.0000    - ETA: 0s - loss: 8.9840e-04 - recall: 1.0000 - precision: 1.0000 - auc: 1.0000 - categorical_accuracy\n",
      "Epoch 00024: val_auc did not improve from 0.75900\n",
      "41/41 [==============================] - 2s 55ms/step - loss: 0.0013 - recall: 1.0000 - precision: 1.0000 - auc: 1.0000 - categorical_accuracy: 1.0000 - val_loss: 2.1805 - val_recall: 0.6900 - val_precision: 0.6900 - val_auc: 0.7128 - val_categorical_accuracy: 0.6900\n",
      "Epoch 25/200\n",
      "41/41 [==============================] - ETA: 0s - loss: 5.0792e-04 - recall: 1.0000 - precision: 1.0000 - auc: 1.0000 - categorical_accuracy: 1.0000\n",
      "Epoch 00025: val_auc did not improve from 0.75900\n",
      "41/41 [==============================] - 3s 63ms/step - loss: 5.0792e-04 - recall: 1.0000 - precision: 1.0000 - auc: 1.0000 - categorical_accuracy: 1.0000 - val_loss: 2.2087 - val_recall: 0.6800 - val_precision: 0.6800 - val_auc: 0.7078 - val_categorical_accuracy: 0.6800\n",
      "Epoch 26/200\n",
      "41/41 [==============================] - ETA: 0s - loss: 3.5328e-04 - recall: 1.0000 - precision: 1.0000 - auc: 1.0000 - categorical_accuracy: 1.0000\n",
      "Epoch 00026: val_auc did not improve from 0.75900\n",
      "41/41 [==============================] - 2s 59ms/step - loss: 3.5328e-04 - recall: 1.0000 - precision: 1.0000 - auc: 1.0000 - categorical_accuracy: 1.0000 - val_loss: 2.2927 - val_recall: 0.6800 - val_precision: 0.6800 - val_auc: 0.7117 - val_categorical_accuracy: 0.6800\n",
      "Epoch 27/200\n",
      "41/41 [==============================] - ETA: 0s - loss: 2.7380e-04 - recall: 1.0000 - precision: 1.0000 - auc: 1.0000 - categorical_accuracy: 1.0000\n",
      "Epoch 00027: val_auc did not improve from 0.75900\n",
      "41/41 [==============================] - 2s 57ms/step - loss: 2.7380e-04 - recall: 1.0000 - precision: 1.0000 - auc: 1.0000 - categorical_accuracy: 1.0000 - val_loss: 2.3611 - val_recall: 0.6800 - val_precision: 0.6800 - val_auc: 0.7144 - val_categorical_accuracy: 0.6800\n",
      "Epoch 28/200\n",
      "39/41 [===========================>..] - ETA: 0s - loss: 2.2478e-04 - recall: 1.0000 - precision: 1.0000 - auc: 1.0000 - categorical_accuracy: 1.0000\n",
      "Epoch 00028: val_auc did not improve from 0.75900\n",
      "41/41 [==============================] - 2s 61ms/step - loss: 2.2205e-04 - recall: 1.0000 - precision: 1.0000 - auc: 1.0000 - categorical_accuracy: 1.0000 - val_loss: 2.4190 - val_recall: 0.6800 - val_precision: 0.6800 - val_auc: 0.7174 - val_categorical_accuracy: 0.6800\n",
      "Epoch 29/200\n",
      "40/41 [============================>.] - ETA: 0s - loss: 1.8653e-04 - recall: 1.0000 - precision: 1.0000 - auc: 1.0000 - categorical_accuracy: 1.0000\n",
      "Epoch 00029: val_auc did not improve from 0.75900\n",
      "41/41 [==============================] - 2s 57ms/step - loss: 1.8560e-04 - recall: 1.0000 - precision: 1.0000 - auc: 1.0000 - categorical_accuracy: 1.0000 - val_loss: 2.4688 - val_recall: 0.6800 - val_precision: 0.6800 - val_auc: 0.7171 - val_categorical_accuracy: 0.6800\n",
      "Epoch 30/200\n",
      "41/41 [==============================] - ETA: 0s - loss: 1.5885e-04 - recall: 1.0000 - precision: 1.0000 - auc: 1.0000 - categorical_accuracy: 1.0000\n",
      "Epoch 00030: val_auc did not improve from 0.75900\n",
      "41/41 [==============================] - 2s 59ms/step - loss: 1.5885e-04 - recall: 1.0000 - precision: 1.0000 - auc: 1.0000 - categorical_accuracy: 1.0000 - val_loss: 2.5117 - val_recall: 0.6800 - val_precision: 0.6800 - val_auc: 0.7243 - val_categorical_accuracy: 0.6800\n",
      "Epoch 31/200\n",
      "41/41 [==============================] - ETA: 0s - loss: 1.3853e-04 - recall: 1.0000 - precision: 1.0000 - auc: 1.0000 - categorical_accuracy: 1.0000\n",
      "Epoch 00031: val_auc did not improve from 0.75900\n",
      "41/41 [==============================] - 2s 55ms/step - loss: 1.3853e-04 - recall: 1.0000 - precision: 1.0000 - auc: 1.0000 - categorical_accuracy: 1.0000 - val_loss: 2.5491 - val_recall: 0.6800 - val_precision: 0.6800 - val_auc: 0.7180 - val_categorical_accuracy: 0.6800\n",
      "Epoch 32/200\n",
      "39/41 [===========================>..] - ETA: 0s - loss: 1.2411e-04 - recall: 1.0000 - precision: 1.0000 - auc: 1.0000 - categorical_accuracy: 1.0000\n",
      "Epoch 00032: val_auc did not improve from 0.75900\n",
      "41/41 [==============================] - 3s 62ms/step - loss: 1.2268e-04 - recall: 1.0000 - precision: 1.0000 - auc: 1.0000 - categorical_accuracy: 1.0000 - val_loss: 2.5821 - val_recall: 0.6800 - val_precision: 0.6800 - val_auc: 0.7178 - val_categorical_accuracy: 0.6800\n"
     ]
    },
    {
     "name": "stdout",
     "output_type": "stream",
     "text": [
      "Epoch 33/200\n",
      "40/41 [============================>.] - ETA: 0s - loss: 1.1064e-04 - recall: 1.0000 - precision: 1.0000 - auc: 1.0000 - categorical_accuracy: 1.0000\n",
      "Epoch 00033: val_auc did not improve from 0.75900\n",
      "41/41 [==============================] - 2s 53ms/step - loss: 1.1009e-04 - recall: 1.0000 - precision: 1.0000 - auc: 1.0000 - categorical_accuracy: 1.0000 - val_loss: 2.6114 - val_recall: 0.6800 - val_precision: 0.6800 - val_auc: 0.7179 - val_categorical_accuracy: 0.6800\n",
      "Epoch 34/200\n",
      "40/41 [============================>.] - ETA: 0s - loss: 1.0035e-04 - recall: 1.0000 - precision: 1.0000 - auc: 1.0000 - categorical_accuracy: 1.0000\n",
      "Epoch 00034: val_auc did not improve from 0.75900\n",
      "41/41 [==============================] - 3s 62ms/step - loss: 9.9853e-05 - recall: 1.0000 - precision: 1.0000 - auc: 1.0000 - categorical_accuracy: 1.0000 - val_loss: 2.6376 - val_recall: 0.6800 - val_precision: 0.6800 - val_auc: 0.7179 - val_categorical_accuracy: 0.6800\n",
      "Epoch 35/200\n",
      "39/41 [===========================>..] - ETA: 0s - loss: 9.2425e-05 - recall: 1.0000 - precision: 1.0000 - auc: 1.0000 - categorical_accuracy: 1.0000\n",
      "Epoch 00035: val_auc did not improve from 0.75900\n",
      "41/41 [==============================] - 2s 53ms/step - loss: 9.1381e-05 - recall: 1.0000 - precision: 1.0000 - auc: 1.0000 - categorical_accuracy: 1.0000 - val_loss: 2.6612 - val_recall: 0.6800 - val_precision: 0.6800 - val_auc: 0.7181 - val_categorical_accuracy: 0.6800\n",
      "Epoch 36/200\n",
      "39/41 [===========================>..] - ETA: 0s - loss: 8.5277e-05 - recall: 1.0000 - precision: 1.0000 - auc: 1.0000 - categorical_accuracy: 1.0000\n",
      "Epoch 00036: val_auc did not improve from 0.75900\n",
      "41/41 [==============================] - 3s 61ms/step - loss: 8.4317e-05 - recall: 1.0000 - precision: 1.0000 - auc: 1.0000 - categorical_accuracy: 1.0000 - val_loss: 2.6828 - val_recall: 0.6800 - val_precision: 0.6800 - val_auc: 0.7179 - val_categorical_accuracy: 0.6800\n",
      "Epoch 37/200\n",
      "39/41 [===========================>..] - ETA: 0s - loss: 7.9224e-05 - recall: 1.0000 - precision: 1.0000 - auc: 1.0000 - categorical_accuracy: 1.0000\n",
      "Epoch 00037: val_auc did not improve from 0.75900\n",
      "41/41 [==============================] - 2s 53ms/step - loss: 7.8335e-05 - recall: 1.0000 - precision: 1.0000 - auc: 1.0000 - categorical_accuracy: 1.0000 - val_loss: 2.7025 - val_recall: 0.6800 - val_precision: 0.6800 - val_auc: 0.7179 - val_categorical_accuracy: 0.6800\n",
      "Epoch 38/200\n",
      "41/41 [==============================] - ETA: 0s - loss: 7.3235e-05 - recall: 1.0000 - precision: 1.0000 - auc: 1.0000 - categorical_accuracy: 1.0000\n",
      "Epoch 00038: val_auc did not improve from 0.75900\n",
      "41/41 [==============================] - 3s 62ms/step - loss: 7.3235e-05 - recall: 1.0000 - precision: 1.0000 - auc: 1.0000 - categorical_accuracy: 1.0000 - val_loss: 2.7205 - val_recall: 0.6800 - val_precision: 0.6800 - val_auc: 0.7204 - val_categorical_accuracy: 0.6800\n",
      "Epoch 39/200\n",
      "39/41 [===========================>..] - ETA: 0s - loss: 6.9618e-05 - recall: 1.0000 - precision: 1.0000 - auc: 1.0000 - categorical_accuracy: 1.0000\n",
      "Epoch 00039: val_auc did not improve from 0.75900\n",
      "41/41 [==============================] - 2s 55ms/step - loss: 6.8839e-05 - recall: 1.0000 - precision: 1.0000 - auc: 1.0000 - categorical_accuracy: 1.0000 - val_loss: 2.7372 - val_recall: 0.6800 - val_precision: 0.6800 - val_auc: 0.7204 - val_categorical_accuracy: 0.6800\n",
      "Epoch 40/200\n",
      "39/41 [===========================>..] - ETA: 0s - loss: 6.5755e-05 - recall: 1.0000 - precision: 1.0000 - auc: 1.0000 - categorical_accuracy: 1.0000\n",
      "Epoch 00040: val_auc did not improve from 0.75900\n",
      "41/41 [==============================] - 3s 61ms/step - loss: 6.5021e-05 - recall: 1.0000 - precision: 1.0000 - auc: 1.0000 - categorical_accuracy: 1.0000 - val_loss: 2.7524 - val_recall: 0.6800 - val_precision: 0.6800 - val_auc: 0.7204 - val_categorical_accuracy: 0.6800\n",
      "Epoch 41/200\n",
      "41/41 [==============================] - ETA: 0s - loss: 6.1674e-05 - recall: 1.0000 - precision: 1.0000 - auc: 1.0000 - categorical_accuracy: 1.0000\n",
      "Epoch 00041: val_auc did not improve from 0.75900\n",
      "41/41 [==============================] - 2s 58ms/step - loss: 6.1674e-05 - recall: 1.0000 - precision: 1.0000 - auc: 1.0000 - categorical_accuracy: 1.0000 - val_loss: 2.7667 - val_recall: 0.6800 - val_precision: 0.6800 - val_auc: 0.7141 - val_categorical_accuracy: 0.6800\n",
      "Epoch 42/200\n",
      "41/41 [==============================] - ETA: 0s - loss: 5.8731e-05 - recall: 1.0000 - precision: 1.0000 - auc: 1.0000 - categorical_accuracy: 1.0000\n",
      "Epoch 00042: val_auc did not improve from 0.75900\n",
      "41/41 [==============================] - 2s 57ms/step - loss: 5.8731e-05 - recall: 1.0000 - precision: 1.0000 - auc: 1.0000 - categorical_accuracy: 1.0000 - val_loss: 2.7799 - val_recall: 0.6800 - val_precision: 0.6800 - val_auc: 0.7149 - val_categorical_accuracy: 0.6800\n",
      "Epoch 43/200\n",
      "41/41 [==============================] - ETA: 0s - loss: 5.6115e-05 - recall: 1.0000 - precision: 1.0000 - auc: 1.0000 - categorical_accuracy: 1.0000\n",
      "Epoch 00043: val_auc did not improve from 0.75900\n",
      "41/41 [==============================] - 2s 58ms/step - loss: 5.6115e-05 - recall: 1.0000 - precision: 1.0000 - auc: 1.0000 - categorical_accuracy: 1.0000 - val_loss: 2.7922 - val_recall: 0.6800 - val_precision: 0.6800 - val_auc: 0.7147 - val_categorical_accuracy: 0.6800\n",
      "Epoch 44/200\n",
      "41/41 [==============================] - ETA: 0s - loss: 5.3790e-05 - recall: 1.0000 - precision: 1.0000 - auc: 1.0000 - categorical_accuracy: 1.0000\n",
      "Epoch 00044: val_auc did not improve from 0.75900\n",
      "41/41 [==============================] - 2s 57ms/step - loss: 5.3790e-05 - recall: 1.0000 - precision: 1.0000 - auc: 1.0000 - categorical_accuracy: 1.0000 - val_loss: 2.8037 - val_recall: 0.6800 - val_precision: 0.6800 - val_auc: 0.7147 - val_categorical_accuracy: 0.6800\n",
      "Epoch 45/200\n",
      "39/41 [===========================>..] - ETA: 0s - loss: 5.2295e-05 - recall: 1.0000 - precision: 1.0000 - auc: 1.0000 - categorical_accuracy: 1.0000\n",
      "Epoch 00045: val_auc did not improve from 0.75900\n",
      "41/41 [==============================] - 3s 61ms/step - loss: 5.1708e-05 - recall: 1.0000 - precision: 1.0000 - auc: 1.0000 - categorical_accuracy: 1.0000 - val_loss: 2.8144 - val_recall: 0.6800 - val_precision: 0.6800 - val_auc: 0.7147 - val_categorical_accuracy: 0.6800\n",
      "Wall time: 3min 8s\n"
     ]
    }
   ],
   "source": [
    "%%time\n",
    "\n",
    "model, checkpoint_dir, history = train(\n",
    "    model,\n",
    "    train_seq,\n",
    "    test_seq,\n",
    "    CHECKPOINT_DIRECTORY,\n",
    "    LOG_DIRECTORY,\n",
    "    DATA_DIR,\n",
    "    **train_config\n",
    ")"
   ]
  },
  {
   "cell_type": "markdown",
   "metadata": {},
   "source": [
    "## Evaluation"
   ]
  },
  {
   "cell_type": "code",
   "execution_count": 9,
   "metadata": {
    "scrolled": false
   },
   "outputs": [
    {
     "name": "stdout",
     "output_type": "stream",
     "text": [
      "Wall time: 190 ms\n"
     ]
    },
    {
     "data": {
      "image/png": "[encoded data removed]",
      "text/plain": [
       "<Figure size 864x1080 with 5 Axes>"
      ]
     },
     "metadata": {
      "needs_background": "light"
     },
     "output_type": "display_data"
    }
   ],
   "source": [
    "%%time\n",
    "\n",
    "plot_training_history(history)"
   ]
  },
  {
   "cell_type": "code",
   "execution_count": 10,
   "metadata": {
    "scrolled": true
   },
   "outputs": [
    {
     "name": "stdout",
     "output_type": "stream",
     "text": [
      "loss: 1.1846351623535156\n",
      "recall: 0.6700000166893005\n",
      "precision: 0.6700000166893005\n",
      "auc: 0.7589999437332153\n",
      "categorical_accuracy: 0.6700000166893005\n",
      "\n",
      "Wall time: 30.2 s\n"
     ]
    }
   ],
   "source": [
    "%%time\n",
    "\n",
    "show_simple_metrics(model, test_seq)"
   ]
  },
  {
   "cell_type": "code",
   "execution_count": 11,
   "metadata": {
    "scrolled": false
   },
   "outputs": [
    {
     "name": "stdout",
     "output_type": "stream",
     "text": [
      "In binary classification, recall of the positive class is also known as “sensitivity”; recall of the negative class is “specificity”. (https://scikit-learn.org/stable/modules/generated/sklearn.metrics.classification_report.html)\n",
      "\u001b[1mAD\u001b[0m\n",
      "precision: 0.7164179104477612\n",
      "recall: 0.7741935483870968\n",
      "f1-score: 0.7441860465116278\n",
      "support: 62\n",
      "\n",
      "\n",
      "\u001b[1mCN\u001b[0m\n",
      "precision: 0.5757575757575758\n",
      "recall: 0.5\n",
      "f1-score: 0.5352112676056339\n",
      "support: 38\n",
      "\n",
      "\n",
      "\u001b[1mmicro avg\u001b[0m\n",
      "precision: 0.67\n",
      "recall: 0.67\n",
      "f1-score: 0.67\n",
      "support: 100\n",
      "\n",
      "\n",
      "\u001b[1mmacro avg\u001b[0m\n",
      "precision: 0.6460877431026685\n",
      "recall: 0.6370967741935484\n",
      "f1-score: 0.6396986570586308\n",
      "support: 100\n",
      "\n",
      "\n",
      "\u001b[1mweighted avg\u001b[0m\n",
      "precision: 0.6629669832654908\n",
      "recall: 0.67\n",
      "f1-score: 0.6647756305273501\n",
      "support: 100\n",
      "\n",
      "\n",
      "\u001b[1msamples avg\u001b[0m\n",
      "precision: 0.67\n",
      "recall: 0.67\n",
      "f1-score: 0.67\n",
      "support: 100\n",
      "\n",
      "\n",
      "\u001b[1mF1\u001b[0m\n",
      "micro: 0.67\n",
      "macro: 0.6396986570586308\n",
      "\n",
      "\n",
      "accuracy_score: 0.67\n",
      "sensitivity_score: 0.7741935483870968\n",
      "specificity_score: 0.5\n",
      "\n",
      "\n",
      "Wall time: 27.2 s\n"
     ]
    },
    {
     "data": {
      "image/png": "[encoded data removed]",
      "text/plain": [
       "<Figure size 576x576 with 2 Axes>"
      ]
     },
     "metadata": {
      "needs_background": "light"
     },
     "output_type": "display_data"
    }
   ],
   "source": [
    "%%time\n",
    "\n",
    "show_metrics(model, test_seq, class_names)"
   ]
  },
  {
   "cell_type": "code",
   "execution_count": null,
   "metadata": {},
   "outputs": [],
   "source": []
  }
 ],
 "metadata": {
  "kernelspec": {
   "display_name": "Python 3",
   "language": "python",
   "name": "python3"
  },
  "language_info": {
   "codemirror_mode": {
    "name": "ipython",
    "version": 3
   },
   "file_extension": ".py",
   "mimetype": "text/x-python",
   "name": "python",
   "nbconvert_exporter": "python",
   "pygments_lexer": "ipython3",
   "version": "3.7.9"
  }
 },
 "nbformat": 4,
 "nbformat_minor": 1
}

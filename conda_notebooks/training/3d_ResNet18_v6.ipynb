{
 "cells": [
  {
   "cell_type": "markdown",
   "metadata": {},
   "source": [
    "# 3D ResNet"
   ]
  },
  {
   "cell_type": "markdown",
   "metadata": {},
   "source": [
    "Basic + Augmentations (invert, rotate, zoom, blur, noise) + Dropout (0.25) + l2 (0.05)"
   ]
  },
  {
   "cell_type": "code",
   "execution_count": 1,
   "metadata": {},
   "outputs": [],
   "source": [
    "%load_ext autoreload\n",
    "%autoreload 2\n",
    "\n",
    "import sys\n",
    "sys.path.append('../..')\n",
    "\n",
    "import datetime\n",
    "import os\n",
    "os.environ[\"CUDA_VISIBLE_DEVICES\"]=\"0\"\n",
    "\n",
    "import numpy as np\n",
    "\n",
    "from src.data import train_test_split, MRISequence\n",
    "from src.model import create_model, compile_model, load_checkpoint\n",
    "from src.model.training import train\n",
    "from src.model.evaluation import plot_training_history, show_simple_metrics, show_metrics"
   ]
  },
  {
   "cell_type": "code",
   "execution_count": 2,
   "metadata": {},
   "outputs": [
    {
     "name": "stdout",
     "output_type": "stream",
     "text": [
      "2.3.1\n",
      "Num GPUs Available:  1\n"
     ]
    }
   ],
   "source": [
    "import tensorflow as tf\n",
    "\n",
    "RANDOM_SEED = 792379571013149\n",
    "tf.random.set_seed(RANDOM_SEED)\n",
    "\n",
    "print(tf.version.VERSION)\n",
    "print(\"Num GPUs Available: \", len(tf.config.experimental.list_physical_devices('GPU')))"
   ]
  },
  {
   "cell_type": "markdown",
   "metadata": {},
   "source": [
    "## Setup"
   ]
  },
  {
   "cell_type": "code",
   "execution_count": 3,
   "metadata": {},
   "outputs": [
    {
     "name": "stdout",
     "output_type": "stream",
     "text": [
      "not copying files since the destination directory already exists\n",
      "initializing train_seq...\n",
      "initializing test_seq...\n",
      "val_seq = test_seq\n",
      "log_dir: ../../tmp\\logs\\20201216-012450\n",
      "Wall time: 6 ms\n"
     ]
    }
   ],
   "source": [
    "%%time\n",
    "\n",
    "ROOT_DIR = '../../tmp'\n",
    "DEFAULT_CHECKPOINT_DIRECTORY_LOCAL = os.path.join(ROOT_DIR, 'checkpoints')\n",
    "DEFAULT_BCKP_CHECKPOINT_DIRECTORY_LOCAL = os.path.join(ROOT_DIR, 'bckp-checkpoints')\n",
    "\n",
    "LOG_DIRECTORY = os.path.join(ROOT_DIR, 'logs')\n",
    "CHECKPOINT_DIRECTORY = DEFAULT_CHECKPOINT_DIRECTORY_LOCAL\n",
    "\n",
    "LOG_DIRECTORY_LOCAL = LOG_DIRECTORY\n",
    "CHECKPOINT_DIRECTORY_LOCAL = CHECKPOINT_DIRECTORY\n",
    "\n",
    "DATA_DIR_NAME = 'data-v3'\n",
    "DATA_DIR = os.path.join(ROOT_DIR, DATA_DIR_NAME)\n",
    "\n",
    "saliencies_and_segmentations_v2_path = os.path.join(ROOT_DIR, 'saliencies_and_segmentations_v2')\n",
    "\n",
    "if not os.path.exists(CHECKPOINT_DIRECTORY):\n",
    "    os.mkdir(CHECKPOINT_DIRECTORY)\n",
    "\n",
    "if not os.path.exists(LOG_DIRECTORY):\n",
    "    os.mkdir(LOG_DIRECTORY)\n",
    "\n",
    "val = False\n",
    "    \n",
    "class_names = ['AD', 'CN']\n",
    "\n",
    "# get paths to data\n",
    "train_dir, test_dir, val_dir = train_test_split(\n",
    "    saliencies_and_segmentations_v2_path, \n",
    "    ROOT_DIR, \n",
    "    split=(0.8, 0.15, 0.05), \n",
    "    dirname=DATA_DIR_NAME)\n",
    "\n",
    "# set the batch size for mri seq\n",
    "batch_size = 12\n",
    "input_shape = (104, 128, 104, 1) # (112, 112, 105, 1)\n",
    "resize_img = True\n",
    "crop_img = True\n",
    "\n",
    "# if y is one-hot encoded or just scalar number\n",
    "one_hot = True\n",
    "\n",
    "# class weights (see analysis notebook)\n",
    "class_weights = {0: 0.8072289156626505, 1: 1.3137254901960784}\n",
    "\n",
    "# description statistics of the dataset\n",
    "desc = {'mean': -3.6344006e-09, 'std': 1.0000092, 'min': -1.4982183, 'max': 10.744175}\n",
    "\n",
    "if 'desc' not in locals():\n",
    "    print('initializing desc...')\n",
    "    desc = get_description(MRISequence(\n",
    "        train_dir,\n",
    "        64,\n",
    "        class_names=class_names,\n",
    "        input_shape=input_shape),\n",
    "        max_samples=None)\n",
    "    print(desc)\n",
    "\n",
    "\n",
    "normalization={ 'type':'normalization', 'desc': desc }\n",
    "# normalization={'type':'standardization', 'desc':desc }\n",
    "\n",
    "augmentations = None\n",
    "augmentations_inplace = True\n",
    "# enable augmentations in mri seq (otherwise it can be enabled in dataset)\n",
    "# augmentations={ 'random_swap_hemispheres': 0.5 }\n",
    "\n",
    "# initialize sequences\n",
    "print('initializing train_seq...')\n",
    "train_seq = MRISequence(\n",
    "    train_dir,\n",
    "    batch_size,\n",
    "    class_names=class_names,\n",
    "    augmentations=augmentations,\n",
    "    augmentations_inplace=augmentations_inplace,\n",
    "    input_shape=input_shape,\n",
    "    resize_img=resize_img,\n",
    "    crop_img=crop_img,\n",
    "    one_hot=one_hot,\n",
    "    class_weights=class_weights,\n",
    "    normalization=normalization)\n",
    "\n",
    "print('initializing test_seq...')\n",
    "test_seq = MRISequence(\n",
    "    test_dir,\n",
    "    batch_size,\n",
    "    class_names=class_names,\n",
    "    input_shape=input_shape,\n",
    "    resize_img=resize_img,\n",
    "    crop_img=crop_img,\n",
    "    one_hot=one_hot,\n",
    "    normalization=normalization)\n",
    "\n",
    "if val:\n",
    "    print('initializing val_seq...')\n",
    "    val_seq = MRISequence(\n",
    "        val_dir,\n",
    "        batch_size,\n",
    "        class_names=class_names,\n",
    "        input_shape=input_shape,\n",
    "        resize_img=resize_img,\n",
    "        crop_img=crop_img,\n",
    "        one_hot=one_hot,\n",
    "        class_weights=class_weights,\n",
    "        normalization=normalization)\n",
    "else:\n",
    "    print('val_seq = test_seq')\n",
    "    val_seq = test_seq\n",
    "    \n",
    "model_key = datetime.datetime.now().strftime('%Y%m%d-%H%M%S')\n",
    "log_dir = os.path.join(LOG_DIRECTORY, model_key)\n",
    "print(f'log_dir: {log_dir}')"
   ]
  },
  {
   "cell_type": "code",
   "execution_count": 4,
   "metadata": {},
   "outputs": [],
   "source": [
    "# https://www.tensorflow.org/tutorials/structured_data/imbalanced_data#class_weights\n",
    "# pos / neg\n",
    "initial_bias = np.log([159/243, 243/159])\n",
    "\n",
    "model_type = 'ResNet18'\n",
    "model_config = {\n",
    "    'input_shape': input_shape,\n",
    "    'class_names': class_names,\n",
    "#     'l2_beta': 0.001,\n",
    "    'l2_beta': 0.005,\n",
    "#     'l2_beta': None,\n",
    "    'dropout': 0.25,\n",
    "#     'dropout': None,\n",
    "    'output_bias': initial_bias,\n",
    "#     'output_bias': None,\n",
    "    # https://www.tensorflow.org/api_docs/python/tf/keras/layers/BatchNormalization\n",
    "    'batch_norm': False,\n",
    "#     'batch_norm': True,\n",
    "}\n",
    "\n",
    "compile_config = {\n",
    "    # default is 0.001\n",
    "#     'learning_rate': 0.000075,\n",
    "    'learning_rate': 0.00025,\n",
    "    'decay_steps': 25,\n",
    "    'decay_rate': 0.96,\n",
    "#     'beta_1': 0.85,\n",
    "    'beta_1': 0.90,\n",
    "#     'beta_2': 0.990,\n",
    "    'beta_2': 0.999,\n",
    "}\n",
    "\n",
    "train_config = {\n",
    "    'model_key': model_key,\n",
    "    'epochs': 200,\n",
    "    'patience': 25,\n",
    "    'tensorboard_update_freq': 'epoch',\n",
    "    'mri_tensorboard_callback': False,\n",
    "    'model_checkpoint_callback': {'monitor': 'val_auc', 'mode': 'max', 'save_best_only': True},\n",
    "    'early_stopping_monitor': {'monitor': 'val_auc', 'mode': 'max'},\n",
    "    'augmentations': {\n",
    "        'invert': (0.5, None),\n",
    "        'rotate': (0.2, 5), # probability, degrees\n",
    "        'zoom': (0.2, 0.015),\n",
    "        'shear': (0, 2.5), # probability, degrees\n",
    "        'blur': (0.2, 0.8),\n",
    "        'noise': (0.2, 0.00025)\n",
    "    },\n",
    "#     'augmentations': False,\n",
    "    'batch_size': 10,\n",
    "#     'model_checkpoint_callback': False,\n",
    "}"
   ]
  },
  {
   "cell_type": "markdown",
   "metadata": {},
   "source": [
    "## Train"
   ]
  },
  {
   "cell_type": "code",
   "execution_count": 5,
   "metadata": {
    "scrolled": false
   },
   "outputs": [
    {
     "name": "stdout",
     "output_type": "stream",
     "text": [
      "Model: \"sequential_7\"\n",
      "_________________________________________________________________\n",
      "Layer (type)                 Output Shape              Param #   \n",
      "=================================================================\n",
      "reshape (Reshape)            (None, 104, 128, 104)     0         \n",
      "_________________________________________________________________\n",
      "my_res_net (MyResNet)        (None, 1024)              12032960  \n",
      "_________________________________________________________________\n",
      "dropout (Dropout)            (None, 1024)              0         \n",
      "_________________________________________________________________\n",
      "dense_1 (Dense)              (None, 512)               524800    \n",
      "_________________________________________________________________\n",
      "dropout_1 (Dropout)          (None, 512)               0         \n",
      "_________________________________________________________________\n",
      "dense_2 (Dense)              (None, 256)               131328    \n",
      "_________________________________________________________________\n",
      "dense_3 (Dense)              (None, 2)                 514       \n",
      "=================================================================\n",
      "Total params: 12,689,602\n",
      "Trainable params: 12,680,002\n",
      "Non-trainable params: 9,600\n",
      "_________________________________________________________________\n"
     ]
    }
   ],
   "source": [
    "model = create_model(model_type, model_config)\n",
    "model, *_ = compile_model(model, **compile_config)\n",
    "model.build(input_shape=input_shape)\n",
    "model.summary()"
   ]
  },
  {
   "cell_type": "code",
   "execution_count": 6,
   "metadata": {},
   "outputs": [],
   "source": [
    "# load_checkpoint(model, DEFAULT_CHECKPOINT_DIRECTORY_LOCAL, '20201213-182225', 'cp-0002.ckpt')"
   ]
  },
  {
   "cell_type": "code",
   "execution_count": 7,
   "metadata": {},
   "outputs": [
    {
     "name": "stdout",
     "output_type": "stream",
     "text": [
      "['/device:GPU:0']\n"
     ]
    }
   ],
   "source": [
    "from tensorflow.python.client import device_lib\n",
    "\n",
    "def get_available_gpus():\n",
    "    local_device_protos = device_lib.list_local_devices()\n",
    "    return [x.name for x in local_device_protos if x.device_type == 'GPU']\n",
    "\n",
    "print(get_available_gpus())"
   ]
  },
  {
   "cell_type": "code",
   "execution_count": 8,
   "metadata": {
    "scrolled": false
   },
   "outputs": [
    {
     "name": "stdout",
     "output_type": "stream",
     "text": [
      "model key: 20201216-012450\n",
      "checkpoint dir: ../../tmp\\checkpoints\\20201216-012450\n",
      "log dir: ../../tmp\\logs\\20201216-012450\n",
      "loading ../../tmp\\data-v3\\train_x.npy, ../../tmp\\data-v3\\train_y.npy...\n",
      "loading ../../tmp\\data-v3\\val_x.npy, ../../tmp\\data-v3\\val_y.npy...\n",
      "training...\n",
      "WARNING:tensorflow:Model failed to serialize as JSON. Ignoring... \n",
      "Epoch 1/200\n",
      "41/41 [==============================] - ETA: 0s - loss: 5.9615 - recall: 0.4851 - precision: 0.4851 - auc: 0.5059 - categorical_accuracy: 0.4851\n",
      "Epoch 00001: val_auc improved from -inf to 0.40180, saving model to ../../tmp\\checkpoints\\20201216-012450\\cp-0001.ckpt\n",
      "41/41 [==============================] - 6s 155ms/step - loss: 5.9615 - recall: 0.4851 - precision: 0.4851 - auc: 0.5059 - categorical_accuracy: 0.4851 - val_loss: 5.4158 - val_recall: 0.3800 - val_precision: 0.3800 - val_auc: 0.4018 - val_categorical_accuracy: 0.3800\n",
      "Epoch 2/200\n",
      "41/41 [==============================] - ETA: 0s - loss: 5.1516 - recall: 0.4950 - precision: 0.4950 - auc: 0.4724 - categorical_accuracy: 0.4950\n",
      "Epoch 00002: val_auc improved from 0.40180 to 0.45360, saving model to ../../tmp\\checkpoints\\20201216-012450\\cp-0002.ckpt\n",
      "41/41 [==============================] - 5s 126ms/step - loss: 5.1516 - recall: 0.4950 - precision: 0.4950 - auc: 0.4724 - categorical_accuracy: 0.4950 - val_loss: 4.6627 - val_recall: 0.3800 - val_precision: 0.3800 - val_auc: 0.4536 - val_categorical_accuracy: 0.3800\n",
      "Epoch 3/200\n",
      "40/41 [============================>.] - ETA: 0s - loss: 4.4964 - recall: 0.5800 - precision: 0.5800 - auc: 0.6088 - categorical_accuracy: 0.5800\n",
      "Epoch 00003: val_auc improved from 0.45360 to 0.49340, saving model to ../../tmp\\checkpoints\\20201216-012450\\cp-0003.ckpt\n",
      "41/41 [==============================] - 6s 139ms/step - loss: 4.4946 - recall: 0.5796 - precision: 0.5796 - auc: 0.6090 - categorical_accuracy: 0.5796 - val_loss: 4.2747 - val_recall: 0.4100 - val_precision: 0.4100 - val_auc: 0.4934 - val_categorical_accuracy: 0.4100\n",
      "Epoch 4/200\n",
      "40/41 [============================>.] - ETA: 0s - loss: 4.0764 - recall: 0.7050 - precision: 0.7050 - auc: 0.7575 - categorical_accuracy: 0.7050\n",
      "Epoch 00004: val_auc improved from 0.49340 to 0.51480, saving model to ../../tmp\\checkpoints\\20201216-012450\\cp-0004.ckpt\n",
      "41/41 [==============================] - 6s 136ms/step - loss: 4.0762 - recall: 0.7015 - precision: 0.7015 - auc: 0.7561 - categorical_accuracy: 0.7015 - val_loss: 4.0189 - val_recall: 0.5100 - val_precision: 0.5100 - val_auc: 0.5148 - val_categorical_accuracy: 0.5100\n",
      "Epoch 5/200\n",
      "40/41 [============================>.] - ETA: 0s - loss: 3.7419 - recall: 0.7500 - precision: 0.7500 - auc: 0.8318 - categorical_accuracy: 0.7500\n",
      "Epoch 00005: val_auc did not improve from 0.51480\n",
      "41/41 [==============================] - 5s 113ms/step - loss: 3.7435 - recall: 0.7463 - precision: 0.7463 - auc: 0.8296 - categorical_accuracy: 0.7463 - val_loss: 3.9124 - val_recall: 0.3800 - val_precision: 0.3800 - val_auc: 0.4634 - val_categorical_accuracy: 0.3800\n",
      "Epoch 6/200\n",
      "40/41 [============================>.] - ETA: 0s - loss: 3.6217 - recall: 0.7025 - precision: 0.7025 - auc: 0.7722 - categorical_accuracy: 0.7025\n",
      "Epoch 00006: val_auc did not improve from 0.51480\n",
      "41/41 [==============================] - 5s 116ms/step - loss: 3.6220 - recall: 0.7015 - precision: 0.7015 - auc: 0.7707 - categorical_accuracy: 0.7015 - val_loss: 3.8682 - val_recall: 0.3800 - val_precision: 0.3800 - val_auc: 0.4724 - val_categorical_accuracy: 0.3800\n",
      "Epoch 7/200\n",
      "40/41 [============================>.] - ETA: 0s - loss: 3.3434 - recall: 0.8050 - precision: 0.8050 - auc: 0.8716 - categorical_accuracy: 0.8050\n",
      "Epoch 00007: val_auc improved from 0.51480 to 0.72190, saving model to ../../tmp\\checkpoints\\20201216-012450\\cp-0007.ckpt\n",
      "41/41 [==============================] - 5s 133ms/step - loss: 3.3431 - recall: 0.8035 - precision: 0.8035 - auc: 0.8712 - categorical_accuracy: 0.8035 - val_loss: 3.5885 - val_recall: 0.7100 - val_precision: 0.7100 - val_auc: 0.7219 - val_categorical_accuracy: 0.7100\n",
      "Epoch 8/200\n",
      "40/41 [============================>.] - ETA: 0s - loss: 3.1133 - recall: 0.8275 - precision: 0.8275 - auc: 0.9220 - categorical_accuracy: 0.8275- ETA: 1s - loss: 3.2618 - recall: 0.7500 - precision: 0.7500 - auc: 0.8\n",
      "Epoch 00008: val_auc did not improve from 0.72190\n",
      "41/41 [==============================] - 5s 111ms/step - loss: 3.1179 - recall: 0.8259 - precision: 0.8259 - auc: 0.9193 - categorical_accuracy: 0.8259 - val_loss: 3.5584 - val_recall: 0.5800 - val_precision: 0.5800 - val_auc: 0.5859 - val_categorical_accuracy: 0.5800\n",
      "Epoch 9/200\n",
      "40/41 [============================>.] - ETA: 0s - loss: 2.9267 - recall: 0.8900 - precision: 0.8900 - auc: 0.9521 - categorical_accuracy: 0.8900\n",
      "Epoch 00009: val_auc did not improve from 0.72190\n",
      "41/41 [==============================] - 5s 113ms/step - loss: 2.9268 - recall: 0.8881 - precision: 0.8881 - auc: 0.9519 - categorical_accuracy: 0.8881 - val_loss: 3.5824 - val_recall: 0.5500 - val_precision: 0.5500 - val_auc: 0.6009 - val_categorical_accuracy: 0.5500\n",
      "Epoch 10/200\n",
      "40/41 [============================>.] - ETA: 0s - loss: 2.7783 - recall: 0.9075 - precision: 0.9075 - auc: 0.9667 - categorical_accuracy: 0.9075\n",
      "Epoch 00010: val_auc did not improve from 0.72190\n",
      "41/41 [==============================] - 5s 112ms/step - loss: 2.7830 - recall: 0.9055 - precision: 0.9055 - auc: 0.9651 - categorical_accuracy: 0.9055 - val_loss: 6.1840 - val_recall: 0.6500 - val_precision: 0.6500 - val_auc: 0.6777 - val_categorical_accuracy: 0.6500\n",
      "Epoch 11/200\n",
      "40/41 [============================>.] - ETA: 0s - loss: 2.7206 - recall: 0.8950 - precision: 0.8950 - auc: 0.9638 - categorical_accuracy: 0.8950\n",
      "Epoch 00011: val_auc did not improve from 0.72190\n",
      "41/41 [==============================] - 5s 116ms/step - loss: 2.7210 - recall: 0.8930 - precision: 0.8930 - auc: 0.9635 - categorical_accuracy: 0.8930 - val_loss: 3.6194 - val_recall: 0.6500 - val_precision: 0.6500 - val_auc: 0.6734 - val_categorical_accuracy: 0.6500\n",
      "Epoch 12/200\n",
      "40/41 [============================>.] - ETA: 0s - loss: 2.5736 - recall: 0.9375 - precision: 0.9375 - auc: 0.9843 - categorical_accuracy: 0.9375\n",
      "Epoch 00012: val_auc improved from 0.72190 to 0.72580, saving model to ../../tmp\\checkpoints\\20201216-012450\\cp-0012.ckpt\n",
      "41/41 [==============================] - 6s 140ms/step - loss: 2.5760 - recall: 0.9353 - precision: 0.9353 - auc: 0.9838 - categorical_accuracy: 0.9353 - val_loss: 3.5792 - val_recall: 0.6800 - val_precision: 0.6800 - val_auc: 0.7258 - val_categorical_accuracy: 0.6800\n",
      "Epoch 13/200\n",
      "40/41 [============================>.] - ETA: 0s - loss: 2.4351 - recall: 0.9725 - precision: 0.9725 - auc: 0.9935 - categorical_accuracy: 0.9725\n",
      "Epoch 00013: val_auc did not improve from 0.72580\n",
      "41/41 [==============================] - 5s 111ms/step - loss: 2.4365 - recall: 0.9701 - precision: 0.9701 - auc: 0.9933 - categorical_accuracy: 0.9701 - val_loss: 3.5691 - val_recall: 0.6700 - val_precision: 0.6700 - val_auc: 0.7175 - val_categorical_accuracy: 0.6700\n",
      "Epoch 14/200\n",
      "41/41 [==============================] - ETA: 0s - loss: 2.3622 - recall: 0.9677 - precision: 0.9677 - auc: 0.9960 - categorical_accuracy: 0.9677\n",
      "Epoch 00014: val_auc improved from 0.72580 to 0.75530, saving model to ../../tmp\\checkpoints\\20201216-012450\\cp-0014.ckpt\n",
      "41/41 [==============================] - 5s 127ms/step - loss: 2.3622 - recall: 0.9677 - precision: 0.9677 - auc: 0.9960 - categorical_accuracy: 0.9677 - val_loss: 3.4549 - val_recall: 0.7000 - val_precision: 0.7000 - val_auc: 0.7553 - val_categorical_accuracy: 0.7000\n",
      "Epoch 15/200\n",
      "40/41 [============================>.] - ETA: 0s - loss: 2.2864 - recall: 0.9775 - precision: 0.9775 - auc: 0.9975 - categorical_accuracy: 0.9775\n",
      "Epoch 00015: val_auc did not improve from 0.75530\n",
      "41/41 [==============================] - 5s 125ms/step - loss: 2.2859 - recall: 0.9776 - precision: 0.9776 - auc: 0.9975 - categorical_accuracy: 0.9776 - val_loss: 3.2390 - val_recall: 0.6600 - val_precision: 0.6600 - val_auc: 0.7462 - val_categorical_accuracy: 0.6600\n",
      "Epoch 16/200\n"
     ]
    },
    {
     "name": "stdout",
     "output_type": "stream",
     "text": [
      "40/41 [============================>.] - ETA: 0s - loss: 2.2264 - recall: 0.9800 - precision: 0.9800 - auc: 0.9979 - categorical_accuracy: 0.9800\n",
      "Epoch 00016: val_auc improved from 0.75530 to 0.79980, saving model to ../../tmp\\checkpoints\\20201216-012450\\cp-0016.ckpt\n",
      "41/41 [==============================] - 6s 136ms/step - loss: 2.2260 - recall: 0.9801 - precision: 0.9801 - auc: 0.9979 - categorical_accuracy: 0.9801 - val_loss: 3.3677 - val_recall: 0.7600 - val_precision: 0.7600 - val_auc: 0.7998 - val_categorical_accuracy: 0.7600\n",
      "Epoch 17/200\n",
      "41/41 [==============================] - ETA: 0s - loss: 2.1490 - recall: 0.9851 - precision: 0.9851 - auc: 0.9996 - categorical_accuracy: 0.9851\n",
      "Epoch 00017: val_auc did not improve from 0.79980\n",
      "41/41 [==============================] - 5s 111ms/step - loss: 2.1490 - recall: 0.9851 - precision: 0.9851 - auc: 0.9996 - categorical_accuracy: 0.9851 - val_loss: 3.0356 - val_recall: 0.6300 - val_precision: 0.6300 - val_auc: 0.7569 - val_categorical_accuracy: 0.6300\n",
      "Epoch 18/200\n",
      "41/41 [==============================] - ETA: 0s - loss: 2.1257 - recall: 0.9826 - precision: 0.9826 - auc: 0.9986 - categorical_accuracy: 0.9826\n",
      "Epoch 00018: val_auc did not improve from 0.79980\n",
      "41/41 [==============================] - 5s 120ms/step - loss: 2.1257 - recall: 0.9826 - precision: 0.9826 - auc: 0.9986 - categorical_accuracy: 0.9826 - val_loss: 3.5861 - val_recall: 0.6300 - val_precision: 0.6300 - val_auc: 0.7289 - val_categorical_accuracy: 0.6300\n",
      "Epoch 19/200\n",
      "40/41 [============================>.] - ETA: 0s - loss: 2.0905 - recall: 0.9825 - precision: 0.9825 - auc: 0.9961 - categorical_accuracy: 0.9825\n",
      "Epoch 00019: val_auc did not improve from 0.79980\n",
      "41/41 [==============================] - 5s 112ms/step - loss: 2.0902 - recall: 0.9826 - precision: 0.9826 - auc: 0.9962 - categorical_accuracy: 0.9826 - val_loss: 3.3796 - val_recall: 0.7000 - val_precision: 0.7000 - val_auc: 0.7662 - val_categorical_accuracy: 0.7000\n",
      "Epoch 20/200\n",
      "41/41 [==============================] - ETA: 0s - loss: 2.0153 - recall: 0.9925 - precision: 0.9925 - auc: 0.9999 - categorical_accuracy: 0.9925\n",
      "Epoch 00020: val_auc improved from 0.79980 to 0.80335, saving model to ../../tmp\\checkpoints\\20201216-012450\\cp-0020.ckpt\n",
      "41/41 [==============================] - 5s 132ms/step - loss: 2.0153 - recall: 0.9925 - precision: 0.9925 - auc: 0.9999 - categorical_accuracy: 0.9925 - val_loss: 3.3735 - val_recall: 0.7100 - val_precision: 0.7100 - val_auc: 0.8034 - val_categorical_accuracy: 0.7100\n",
      "Epoch 21/200\n",
      "41/41 [==============================] - ETA: 0s - loss: 1.9737 - recall: 0.9975 - precision: 0.9975 - auc: 1.0000 - categorical_accuracy: 0.9975\n",
      "Epoch 00021: val_auc improved from 0.80335 to 0.83080, saving model to ../../tmp\\checkpoints\\20201216-012450\\cp-0021.ckpt\n",
      "41/41 [==============================] - 6s 139ms/step - loss: 1.9737 - recall: 0.9975 - precision: 0.9975 - auc: 1.0000 - categorical_accuracy: 0.9975 - val_loss: 2.9003 - val_recall: 0.7400 - val_precision: 0.7400 - val_auc: 0.8308 - val_categorical_accuracy: 0.7400\n",
      "Epoch 22/200\n",
      "41/41 [==============================] - ETA: 0s - loss: 1.9331 - recall: 1.0000 - precision: 1.0000 - auc: 1.0000 - categorical_accuracy: 1.0000\n",
      "Epoch 00022: val_auc did not improve from 0.83080\n",
      "41/41 [==============================] - 4s 106ms/step - loss: 1.9331 - recall: 1.0000 - precision: 1.0000 - auc: 1.0000 - categorical_accuracy: 1.0000 - val_loss: 2.9476 - val_recall: 0.7400 - val_precision: 0.7400 - val_auc: 0.8277 - val_categorical_accuracy: 0.7400\n",
      "Epoch 23/200\n",
      "40/41 [============================>.] - ETA: 0s - loss: 1.9015 - recall: 1.0000 - precision: 1.0000 - auc: 1.0000 - categorical_accuracy: 1.0000\n",
      "Epoch 00023: val_auc did not improve from 0.83080\n",
      "41/41 [==============================] - 5s 113ms/step - loss: 1.9015 - recall: 1.0000 - precision: 1.0000 - auc: 1.0000 - categorical_accuracy: 1.0000 - val_loss: 2.9002 - val_recall: 0.7800 - val_precision: 0.7800 - val_auc: 0.8295 - val_categorical_accuracy: 0.7800\n",
      "Epoch 24/200\n",
      "40/41 [============================>.] - ETA: 0s - loss: 1.8734 - recall: 1.0000 - precision: 1.0000 - auc: 1.0000 - categorical_accuracy: 1.0000\n",
      "Epoch 00024: val_auc did not improve from 0.83080\n",
      "41/41 [==============================] - 5s 126ms/step - loss: 1.8733 - recall: 1.0000 - precision: 1.0000 - auc: 1.0000 - categorical_accuracy: 1.0000 - val_loss: 2.8538 - val_recall: 0.7700 - val_precision: 0.7700 - val_auc: 0.8273 - val_categorical_accuracy: 0.7700\n",
      "Epoch 25/200\n",
      "41/41 [==============================] - ETA: 0s - loss: 1.8450 - recall: 1.0000 - precision: 1.0000 - auc: 1.0000 - categorical_accuracy: 1.0000\n",
      "Epoch 00025: val_auc did not improve from 0.83080\n",
      "41/41 [==============================] - 5s 110ms/step - loss: 1.8450 - recall: 1.0000 - precision: 1.0000 - auc: 1.0000 - categorical_accuracy: 1.0000 - val_loss: 2.8171 - val_recall: 0.7800 - val_precision: 0.7800 - val_auc: 0.8227 - val_categorical_accuracy: 0.7800\n",
      "Epoch 26/200\n",
      "40/41 [============================>.] - ETA: 0s - loss: 1.8199 - recall: 1.0000 - precision: 1.0000 - auc: 1.0000 - categorical_accuracy: 1.0000\n",
      "Epoch 00026: val_auc did not improve from 0.83080\n",
      "41/41 [==============================] - 5s 121ms/step - loss: 1.8199 - recall: 1.0000 - precision: 1.0000 - auc: 1.0000 - categorical_accuracy: 1.0000 - val_loss: 2.8316 - val_recall: 0.7600 - val_precision: 0.7600 - val_auc: 0.8256 - val_categorical_accuracy: 0.7600\n",
      "Epoch 27/200\n",
      "40/41 [============================>.] - ETA: 0s - loss: 1.7972 - recall: 1.0000 - precision: 1.0000 - auc: 1.0000 - categorical_accuracy: 1.0000- ETA: 1s - loss: 1.8025 - recall: 1.0000 - precision: 1.0000 - auc: 1.0000 - categorical_a\n",
      "Epoch 00027: val_auc did not improve from 0.83080\n",
      "41/41 [==============================] - 5s 113ms/step - loss: 1.7971 - recall: 1.0000 - precision: 1.0000 - auc: 1.0000 - categorical_accuracy: 1.0000 - val_loss: 2.9101 - val_recall: 0.7500 - val_precision: 0.7500 - val_auc: 0.8171 - val_categorical_accuracy: 0.7500\n",
      "Epoch 28/200\n",
      "40/41 [============================>.] - ETA: 0s - loss: 1.7740 - recall: 1.0000 - precision: 1.0000 - auc: 1.0000 - categorical_accuracy: 1.0000\n",
      "Epoch 00028: val_auc did not improve from 0.83080\n",
      "41/41 [==============================] - 5s 126ms/step - loss: 1.7739 - recall: 1.0000 - precision: 1.0000 - auc: 1.0000 - categorical_accuracy: 1.0000 - val_loss: 2.8670 - val_recall: 0.7400 - val_precision: 0.7400 - val_auc: 0.8164 - val_categorical_accuracy: 0.7400\n",
      "Epoch 29/200\n",
      "40/41 [============================>.] - ETA: 0s - loss: 1.7551 - recall: 1.0000 - precision: 1.0000 - auc: 1.0000 - categorical_accuracy: 1.0000\n",
      "Epoch 00029: val_auc improved from 0.83080 to 0.83090, saving model to ../../tmp\\checkpoints\\20201216-012450\\cp-0029.ckpt\n",
      "41/41 [==============================] - 6s 136ms/step - loss: 1.7550 - recall: 1.0000 - precision: 1.0000 - auc: 1.0000 - categorical_accuracy: 1.0000 - val_loss: 2.7866 - val_recall: 0.7600 - val_precision: 0.7600 - val_auc: 0.8309 - val_categorical_accuracy: 0.7600\n",
      "Epoch 30/200\n",
      "40/41 [============================>.] - ETA: 0s - loss: 1.7333 - recall: 1.0000 - precision: 1.0000 - auc: 1.0000 - categorical_accuracy: 1.0000\n",
      "Epoch 00030: val_auc did not improve from 0.83090\n",
      "41/41 [==============================] - 5s 115ms/step - loss: 1.7332 - recall: 1.0000 - precision: 1.0000 - auc: 1.0000 - categorical_accuracy: 1.0000 - val_loss: 2.7563 - val_recall: 0.7700 - val_precision: 0.7700 - val_auc: 0.8306 - val_categorical_accuracy: 0.7700\n",
      "Epoch 31/200\n",
      "40/41 [============================>.] - ETA: 0s - loss: 1.7154 - recall: 1.0000 - precision: 1.0000 - auc: 1.0000 - categorical_accuracy: 1.0000\n",
      "Epoch 00031: val_auc improved from 0.83090 to 0.83090, saving model to ../../tmp\\checkpoints\\20201216-012450\\cp-0031.ckpt\n",
      "41/41 [==============================] - 6s 134ms/step - loss: 1.7154 - recall: 1.0000 - precision: 1.0000 - auc: 1.0000 - categorical_accuracy: 1.0000 - val_loss: 2.6713 - val_recall: 0.7500 - val_precision: 0.7500 - val_auc: 0.8309 - val_categorical_accuracy: 0.7500\n",
      "Epoch 32/200\n"
     ]
    },
    {
     "name": "stdout",
     "output_type": "stream",
     "text": [
      "40/41 [============================>.] - ETA: 0s - loss: 1.6976 - recall: 1.0000 - precision: 1.0000 - auc: 1.0000 - categorical_accuracy: 1.0000\n",
      "Epoch 00032: val_auc improved from 0.83090 to 0.83140, saving model to ../../tmp\\checkpoints\\20201216-012450\\cp-0032.ckpt\n",
      "41/41 [==============================] - 5s 133ms/step - loss: 1.6976 - recall: 1.0000 - precision: 1.0000 - auc: 1.0000 - categorical_accuracy: 1.0000 - val_loss: 2.6545 - val_recall: 0.7500 - val_precision: 0.7500 - val_auc: 0.8314 - val_categorical_accuracy: 0.7500\n",
      "Epoch 33/200\n",
      "41/41 [==============================] - ETA: 0s - loss: 1.6806 - recall: 1.0000 - precision: 1.0000 - auc: 1.0000 - categorical_accuracy: 1.0000\n",
      "Epoch 00033: val_auc did not improve from 0.83140\n",
      "41/41 [==============================] - 5s 118ms/step - loss: 1.6806 - recall: 1.0000 - precision: 1.0000 - auc: 1.0000 - categorical_accuracy: 1.0000 - val_loss: 2.6486 - val_recall: 0.7500 - val_precision: 0.7500 - val_auc: 0.8268 - val_categorical_accuracy: 0.7500\n",
      "Epoch 34/200\n",
      "40/41 [============================>.] - ETA: 0s - loss: 1.6654 - recall: 1.0000 - precision: 1.0000 - auc: 1.0000 - categorical_accuracy: 1.0000\n",
      "Epoch 00034: val_auc did not improve from 0.83140\n",
      "41/41 [==============================] - 5s 114ms/step - loss: 1.6654 - recall: 1.0000 - precision: 1.0000 - auc: 1.0000 - categorical_accuracy: 1.0000 - val_loss: 2.6381 - val_recall: 0.7500 - val_precision: 0.7500 - val_auc: 0.8273 - val_categorical_accuracy: 0.7500\n",
      "Epoch 35/200\n",
      "40/41 [============================>.] - ETA: 0s - loss: 1.6508 - recall: 1.0000 - precision: 1.0000 - auc: 1.0000 - categorical_accuracy: 1.0000\n",
      "Epoch 00035: val_auc did not improve from 0.83140\n",
      "41/41 [==============================] - 5s 119ms/step - loss: 1.6507 - recall: 1.0000 - precision: 1.0000 - auc: 1.0000 - categorical_accuracy: 1.0000 - val_loss: 2.6286 - val_recall: 0.7700 - val_precision: 0.7700 - val_auc: 0.8272 - val_categorical_accuracy: 0.7700\n",
      "Epoch 36/200\n",
      "40/41 [============================>.] - ETA: 0s - loss: 1.6370 - recall: 1.0000 - precision: 1.0000 - auc: 1.0000 - categorical_accuracy: 1.0000- ETA: 2s - loss: 1.6426 - recall: 1.0000 - precision: 1.0000 - auc: 1.0000\n",
      "Epoch 00036: val_auc did not improve from 0.83140\n",
      "41/41 [==============================] - 4s 109ms/step - loss: 1.6369 - recall: 1.0000 - precision: 1.0000 - auc: 1.0000 - categorical_accuracy: 1.0000 - val_loss: 2.6136 - val_recall: 0.7700 - val_precision: 0.7700 - val_auc: 0.8297 - val_categorical_accuracy: 0.7700\n",
      "Epoch 37/200\n",
      "41/41 [==============================] - ETA: 0s - loss: 1.6244 - recall: 1.0000 - precision: 1.0000 - auc: 1.0000 - categorical_accuracy: 1.000 - ETA: 0s - loss: 1.6243 - recall: 1.0000 - precision: 1.0000 - auc: 1.0000 - categorical_accuracy: 1.0000\n",
      "Epoch 00037: val_auc improved from 0.83140 to 0.83295, saving model to ../../tmp\\checkpoints\\20201216-012450\\cp-0037.ckpt\n",
      "41/41 [==============================] - 5s 133ms/step - loss: 1.6243 - recall: 1.0000 - precision: 1.0000 - auc: 1.0000 - categorical_accuracy: 1.0000 - val_loss: 2.5803 - val_recall: 0.7700 - val_precision: 0.7700 - val_auc: 0.8330 - val_categorical_accuracy: 0.7700\n",
      "Epoch 38/200\n",
      "40/41 [============================>.] - ETA: 0s - loss: 1.6121 - recall: 1.0000 - precision: 1.0000 - auc: 1.0000 - categorical_accuracy: 1.0000- ETA: 2s - loss: 1.6179 - recall: 1.0000 - precision: 1.0000 - auc: 1.0000 - \n",
      "Epoch 00038: val_auc did not improve from 0.83295\n",
      "41/41 [==============================] - 5s 115ms/step - loss: 1.6120 - recall: 1.0000 - precision: 1.0000 - auc: 1.0000 - categorical_accuracy: 1.0000 - val_loss: 2.6033 - val_recall: 0.7600 - val_precision: 0.7600 - val_auc: 0.8253 - val_categorical_accuracy: 0.7600\n",
      "Epoch 39/200\n",
      "40/41 [============================>.] - ETA: 0s - loss: 1.6001 - recall: 1.0000 - precision: 1.0000 - auc: 1.0000 - categorical_accuracy: 1.0000- ETA: 2s - loss: 1.6030 - recall: 1.0000 - precision: 1.0000 - auc: 1.0000 - categor\n",
      "Epoch 00039: val_auc did not improve from 0.83295\n",
      "41/41 [==============================] - 5s 113ms/step - loss: 1.6000 - recall: 1.0000 - precision: 1.0000 - auc: 1.0000 - categorical_accuracy: 1.0000 - val_loss: 2.6033 - val_recall: 0.7400 - val_precision: 0.7400 - val_auc: 0.8256 - val_categorical_accuracy: 0.7400\n",
      "Epoch 40/200\n",
      "41/41 [==============================] - ETA: 0s - loss: 1.5887 - recall: 1.0000 - precision: 1.0000 - auc: 1.0000 - categorical_accuracy: 1.0000\n",
      "Epoch 00040: val_auc did not improve from 0.83295\n",
      "41/41 [==============================] - 5s 118ms/step - loss: 1.5887 - recall: 1.0000 - precision: 1.0000 - auc: 1.0000 - categorical_accuracy: 1.0000 - val_loss: 2.6012 - val_recall: 0.7400 - val_precision: 0.7400 - val_auc: 0.8217 - val_categorical_accuracy: 0.7400\n",
      "Epoch 41/200\n",
      "40/41 [============================>.] - ETA: 0s - loss: 1.5784 - recall: 1.0000 - precision: 1.0000 - auc: 1.0000 - categorical_accuracy: 1.0000\n",
      "Epoch 00041: val_auc did not improve from 0.83295\n",
      "41/41 [==============================] - 5s 121ms/step - loss: 1.5783 - recall: 1.0000 - precision: 1.0000 - auc: 1.0000 - categorical_accuracy: 1.0000 - val_loss: 2.6021 - val_recall: 0.7500 - val_precision: 0.7500 - val_auc: 0.8231 - val_categorical_accuracy: 0.7500\n",
      "Epoch 42/200\n",
      "40/41 [============================>.] - ETA: 0s - loss: 1.5685 - recall: 1.0000 - precision: 1.0000 - auc: 1.0000 - categorical_accuracy: 1.0000\n",
      "Epoch 00042: val_auc did not improve from 0.83295\n",
      "41/41 [==============================] - 5s 117ms/step - loss: 1.5685 - recall: 1.0000 - precision: 1.0000 - auc: 1.0000 - categorical_accuracy: 1.0000 - val_loss: 2.5848 - val_recall: 0.7600 - val_precision: 0.7600 - val_auc: 0.8206 - val_categorical_accuracy: 0.7600\n",
      "Epoch 43/200\n",
      "40/41 [============================>.] - ETA: 0s - loss: 1.5597 - recall: 1.0000 - precision: 1.0000 - auc: 1.0000 - categorical_accuracy: 1.0000\n",
      "Epoch 00043: val_auc did not improve from 0.83295\n",
      "41/41 [==============================] - 4s 105ms/step - loss: 1.5597 - recall: 1.0000 - precision: 1.0000 - auc: 1.0000 - categorical_accuracy: 1.0000 - val_loss: 2.5730 - val_recall: 0.7600 - val_precision: 0.7600 - val_auc: 0.8241 - val_categorical_accuracy: 0.7600\n",
      "Epoch 44/200\n",
      "40/41 [============================>.] - ETA: 0s - loss: 1.5502 - recall: 1.0000 - precision: 1.0000 - auc: 1.0000 - categorical_accuracy: 1.0000- ETA: 2s - loss: 1.5521 - recall: 1.0000 - precision: 1.0000 - auc: 1.0000 - categor\n",
      "Epoch 00044: val_auc did not improve from 0.83295\n",
      "41/41 [==============================] - 5s 125ms/step - loss: 1.5501 - recall: 1.0000 - precision: 1.0000 - auc: 1.0000 - categorical_accuracy: 1.0000 - val_loss: 2.5814 - val_recall: 0.7700 - val_precision: 0.7700 - val_auc: 0.8267 - val_categorical_accuracy: 0.7700\n",
      "Epoch 45/200\n",
      "40/41 [============================>.] - ETA: 0s - loss: 1.5421 - recall: 1.0000 - precision: 1.0000 - auc: 1.0000 - categorical_accuracy: 1.0000\n",
      "Epoch 00045: val_auc did not improve from 0.83295\n",
      "41/41 [==============================] - 5s 111ms/step - loss: 1.5421 - recall: 1.0000 - precision: 1.0000 - auc: 1.0000 - categorical_accuracy: 1.0000 - val_loss: 2.5592 - val_recall: 0.7700 - val_precision: 0.7700 - val_auc: 0.8251 - val_categorical_accuracy: 0.7700\n",
      "Epoch 46/200\n",
      "40/41 [============================>.] - ETA: 0s - loss: 1.5336 - recall: 1.0000 - precision: 1.0000 - auc: 1.0000 - categorical_accuracy: 1.0000\n",
      "Epoch 00046: val_auc did not improve from 0.83295\n",
      "41/41 [==============================] - 5s 117ms/step - loss: 1.5336 - recall: 1.0000 - precision: 1.0000 - auc: 1.0000 - categorical_accuracy: 1.0000 - val_loss: 2.5454 - val_recall: 0.7700 - val_precision: 0.7700 - val_auc: 0.8252 - val_categorical_accuracy: 0.7700\n",
      "Epoch 47/200\n",
      "40/41 [============================>.] - ETA: 0s - loss: 1.5266 - recall: 1.0000 - precision: 1.0000 - auc: 1.0000 - categorical_accuracy: 1.0000\n",
      "Epoch 00047: val_auc did not improve from 0.83295\n",
      "41/41 [==============================] - 5s 119ms/step - loss: 1.5265 - recall: 1.0000 - precision: 1.0000 - auc: 1.0000 - categorical_accuracy: 1.0000 - val_loss: 2.5395 - val_recall: 0.7700 - val_precision: 0.7700 - val_auc: 0.8273 - val_categorical_accuracy: 0.7700\n"
     ]
    },
    {
     "name": "stdout",
     "output_type": "stream",
     "text": [
      "Wall time: 5min 13s\n"
     ]
    }
   ],
   "source": [
    "%%time\n",
    "\n",
    "model, checkpoint_dir, history = train(\n",
    "    model,\n",
    "    train_seq,\n",
    "    test_seq,\n",
    "    CHECKPOINT_DIRECTORY,\n",
    "    LOG_DIRECTORY,\n",
    "    DATA_DIR,\n",
    "    **train_config\n",
    ")"
   ]
  },
  {
   "cell_type": "markdown",
   "metadata": {},
   "source": [
    "## Evaluation"
   ]
  },
  {
   "cell_type": "code",
   "execution_count": 9,
   "metadata": {
    "scrolled": false
   },
   "outputs": [
    {
     "name": "stdout",
     "output_type": "stream",
     "text": [
      "Wall time: 133 ms\n"
     ]
    },
    {
     "data": {
      "image/png": "[encoded data removed]",
      "text/plain": [
       "<Figure size 864x1080 with 5 Axes>"
      ]
     },
     "metadata": {
      "needs_background": "light"
     },
     "output_type": "display_data"
    }
   ],
   "source": [
    "%%time\n",
    "\n",
    "plot_training_history(history)"
   ]
  },
  {
   "cell_type": "code",
   "execution_count": 10,
   "metadata": {
    "scrolled": true
   },
   "outputs": [
    {
     "name": "stdout",
     "output_type": "stream",
     "text": [
      "loss: 2.528449773788452\n",
      "recall: 0.7699999809265137\n",
      "precision: 0.7699999809265137\n",
      "auc: 0.8329500555992126\n",
      "categorical_accuracy: 0.7699999809265137\n",
      "\n",
      "Wall time: 24.2 s\n"
     ]
    }
   ],
   "source": [
    "%%time\n",
    "\n",
    "show_simple_metrics(model, test_seq)"
   ]
  },
  {
   "cell_type": "code",
   "execution_count": 11,
   "metadata": {
    "scrolled": false
   },
   "outputs": [
    {
     "name": "stdout",
     "output_type": "stream",
     "text": [
      "In binary classification, recall of the positive class is also known as “sensitivity”; recall of the negative class is “specificity”. (https://scikit-learn.org/stable/modules/generated/sklearn.metrics.classification_report.html)\n",
      "\u001b[1mAD\u001b[0m\n",
      "precision: 0.8421052631578947\n",
      "recall: 0.7741935483870968\n",
      "f1-score: 0.8067226890756302\n",
      "support: 62\n",
      "\n",
      "\n",
      "\u001b[1mCN\u001b[0m\n",
      "precision: 0.6744186046511628\n",
      "recall: 0.7631578947368421\n",
      "f1-score: 0.7160493827160495\n",
      "support: 38\n",
      "\n",
      "\n",
      "\u001b[1mmicro avg\u001b[0m\n",
      "precision: 0.77\n",
      "recall: 0.77\n",
      "f1-score: 0.7699999999999999\n",
      "support: 100\n",
      "\n",
      "\n",
      "\u001b[1mmacro avg\u001b[0m\n",
      "precision: 0.7582619339045287\n",
      "recall: 0.7686757215619695\n",
      "f1-score: 0.7613860358958398\n",
      "support: 100\n",
      "\n",
      "\n",
      "\u001b[1mweighted avg\u001b[0m\n",
      "precision: 0.7783843329253366\n",
      "recall: 0.77\n",
      "f1-score: 0.7722668326589894\n",
      "support: 100\n",
      "\n",
      "\n",
      "\u001b[1msamples avg\u001b[0m\n",
      "precision: 0.77\n",
      "recall: 0.77\n",
      "f1-score: 0.77\n",
      "support: 100\n",
      "\n",
      "\n",
      "\u001b[1mF1\u001b[0m\n",
      "micro: 0.7699999999999999\n",
      "macro: 0.7613860358958398\n",
      "\n",
      "\n",
      "accuracy_score: 0.77\n",
      "sensitivity_score: 0.7741935483870968\n",
      "specificity_score: 0.7631578947368421\n",
      "\n",
      "\n",
      "Wall time: 21.2 s\n"
     ]
    },
    {
     "data": {
      "image/png": "[encoded data removed]",
      "text/plain": [
       "<Figure size 576x576 with 2 Axes>"
      ]
     },
     "metadata": {
      "needs_background": "light"
     },
     "output_type": "display_data"
    }
   ],
   "source": [
    "%%time\n",
    "\n",
    "show_metrics(model, test_seq, class_names)"
   ]
  },
  {
   "cell_type": "code",
   "execution_count": null,
   "metadata": {},
   "outputs": [],
   "source": []
  }
 ],
 "metadata": {
  "kernelspec": {
   "display_name": "Python 3",
   "language": "python",
   "name": "python3"
  },
  "language_info": {
   "codemirror_mode": {
    "name": "ipython",
    "version": 3
   },
   "file_extension": ".py",
   "mimetype": "text/x-python",
   "name": "python",
   "nbconvert_exporter": "python",
   "pygments_lexer": "ipython3",
   "version": "3.7.9"
  }
 },
 "nbformat": 4,
 "nbformat_minor": 1
}

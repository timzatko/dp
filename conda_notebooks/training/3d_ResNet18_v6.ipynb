{
 "cells": [
  {
   "cell_type": "markdown",
   "metadata": {},
   "source": [
    "# 3D ResNet"
   ]
  },
  {
   "cell_type": "markdown",
   "metadata": {},
   "source": [
    "Basic + Augmentations (invert, rotate, zoom, blur, noise) + Dropout (0.5) + l2 (0.002)"
   ]
  },
  {
   "cell_type": "code",
   "execution_count": 1,
   "metadata": {},
   "outputs": [],
   "source": [
    "%load_ext autoreload\n",
    "%autoreload 2\n",
    "\n",
    "import sys\n",
    "sys.path.append('../..')\n",
    "\n",
    "import datetime\n",
    "import os\n",
    "os.environ[\"CUDA_VISIBLE_DEVICES\"]=\"0\"\n",
    "\n",
    "import numpy as np\n",
    "\n",
    "from src.data import train_test_split, MRISequence\n",
    "from src.model import create_model, compile_model, load_checkpoint\n",
    "from src.model.training import train\n",
    "from src.model.evaluation import plot_training_history, show_simple_metrics, show_metrics"
   ]
  },
  {
   "cell_type": "code",
   "execution_count": 2,
   "metadata": {},
   "outputs": [
    {
     "name": "stdout",
     "output_type": "stream",
     "text": [
      "2.3.1\n",
      "Num GPUs Available:  1\n"
     ]
    }
   ],
   "source": [
    "import tensorflow as tf\n",
    "\n",
    "# RANDOM_SEED = 300785674475887\n",
    "# tf.random.set_seed(RANDOM_SEED)\n",
    "\n",
    "print(tf.version.VERSION)\n",
    "print(\"Num GPUs Available: \", len(tf.config.experimental.list_physical_devices('GPU')))"
   ]
  },
  {
   "cell_type": "code",
   "execution_count": 3,
   "metadata": {},
   "outputs": [],
   "source": [
    "# gpus = tf.config.experimental.list_physical_devices('GPU')\n",
    "# if gpus:\n",
    "#     # Restrict TensorFlow to only allocate 1GB * 2 of memory on the first GPU\n",
    "#     try:\n",
    "#         tf.config.experimental.set_virtual_device_configuration(\n",
    "#             gpus[0],\n",
    "#             [tf.config.experimental.VirtualDeviceConfiguration(memory_limit=1024 * 2)])\n",
    "#         logical_gpus = tf.config.experimental.list_logical_devices('GPU')\n",
    "#         print(len(gpus), \"Physical GPUs,\", len(logical_gpus), \"Logical GPUs\")\n",
    "#     except RuntimeError as e:\n",
    "#         # Virtual devices must be set before GPUs have been initialized\n",
    "#         print(e)"
   ]
  },
  {
   "cell_type": "markdown",
   "metadata": {},
   "source": [
    "## Setup"
   ]
  },
  {
   "cell_type": "code",
   "execution_count": 4,
   "metadata": {},
   "outputs": [
    {
     "name": "stdout",
     "output_type": "stream",
     "text": [
      "not copying files since the destination directory already exists\n",
      "initializing train_seq...\n",
      "initializing test_seq...\n",
      "val_seq = test_seq\n",
      "log_dir: ../../tmp\\logs\\20201217-131203\n",
      "Wall time: 4.96 ms\n"
     ]
    }
   ],
   "source": [
    "%%time\n",
    "\n",
    "ROOT_DIR = '../../tmp'\n",
    "DEFAULT_CHECKPOINT_DIRECTORY_LOCAL = os.path.join(ROOT_DIR, 'checkpoints')\n",
    "DEFAULT_BCKP_CHECKPOINT_DIRECTORY_LOCAL = os.path.join(ROOT_DIR, 'bckp-checkpoints')\n",
    "\n",
    "LOG_DIRECTORY = os.path.join(ROOT_DIR, 'logs')\n",
    "CHECKPOINT_DIRECTORY = DEFAULT_CHECKPOINT_DIRECTORY_LOCAL\n",
    "\n",
    "LOG_DIRECTORY_LOCAL = LOG_DIRECTORY\n",
    "CHECKPOINT_DIRECTORY_LOCAL = CHECKPOINT_DIRECTORY\n",
    "\n",
    "DATA_DIR_NAME = 'data-v3'\n",
    "DATA_DIR = os.path.join(ROOT_DIR, DATA_DIR_NAME)\n",
    "\n",
    "saliencies_and_segmentations_v2_path = os.path.join(ROOT_DIR, 'saliencies_and_segmentations_v2')\n",
    "\n",
    "if not os.path.exists(CHECKPOINT_DIRECTORY):\n",
    "    os.mkdir(CHECKPOINT_DIRECTORY)\n",
    "\n",
    "if not os.path.exists(LOG_DIRECTORY):\n",
    "    os.mkdir(LOG_DIRECTORY)\n",
    "\n",
    "val = False\n",
    "    \n",
    "class_names = ['AD', 'CN']\n",
    "\n",
    "# get paths to data\n",
    "train_dir, test_dir, val_dir = train_test_split(\n",
    "    saliencies_and_segmentations_v2_path, \n",
    "    ROOT_DIR, \n",
    "    split=(0.8, 0.15, 0.05), \n",
    "    dirname=DATA_DIR_NAME)\n",
    "\n",
    "# set the batch size for mri seq\n",
    "batch_size = 12\n",
    "input_shape = (104, 128, 104, 1) # (112, 112, 105, 1)\n",
    "resize_img = True\n",
    "crop_img = True\n",
    "\n",
    "# if y is one-hot encoded or just scalar number\n",
    "one_hot = True\n",
    "\n",
    "# class weights (see analysis notebook)\n",
    "class_weights = {0: 0.8072289156626505, 1: 1.3137254901960784}\n",
    "\n",
    "# description statistics of the dataset\n",
    "desc = {'mean': -3.6344006e-09, 'std': 1.0000092, 'min': -1.4982183, 'max': 10.744175}\n",
    "\n",
    "if 'desc' not in locals():\n",
    "    print('initializing desc...')\n",
    "    desc = get_description(MRISequence(\n",
    "        train_dir,\n",
    "        64,\n",
    "        class_names=class_names,\n",
    "        input_shape=input_shape),\n",
    "        max_samples=None)\n",
    "    print(desc)\n",
    "\n",
    "\n",
    "normalization={ 'type':'normalization', 'desc': desc }\n",
    "# normalization={'type':'standardization', 'desc':desc }\n",
    "\n",
    "augmentations = None\n",
    "augmentations_inplace = True\n",
    "# enable augmentations in mri seq (otherwise it can be enabled in dataset)\n",
    "# augmentations={ 'random_swap_hemispheres': 0.5 }\n",
    "\n",
    "# initialize sequences\n",
    "print('initializing train_seq...')\n",
    "train_seq = MRISequence(\n",
    "    train_dir,\n",
    "    batch_size,\n",
    "    class_names=class_names,\n",
    "    augmentations=augmentations,\n",
    "    augmentations_inplace=augmentations_inplace,\n",
    "    input_shape=input_shape,\n",
    "    resize_img=resize_img,\n",
    "    crop_img=crop_img,\n",
    "    one_hot=one_hot,\n",
    "    class_weights=class_weights,\n",
    "    normalization=normalization)\n",
    "\n",
    "print('initializing test_seq...')\n",
    "test_seq = MRISequence(\n",
    "    test_dir,\n",
    "    batch_size,\n",
    "    class_names=class_names,\n",
    "    input_shape=input_shape,\n",
    "    resize_img=resize_img,\n",
    "    crop_img=crop_img,\n",
    "    one_hot=one_hot,\n",
    "    normalization=normalization)\n",
    "\n",
    "if val:\n",
    "    print('initializing val_seq...')\n",
    "    val_seq = MRISequence(\n",
    "        val_dir,\n",
    "        batch_size,\n",
    "        class_names=class_names,\n",
    "        input_shape=input_shape,\n",
    "        resize_img=resize_img,\n",
    "        crop_img=crop_img,\n",
    "        one_hot=one_hot,\n",
    "        class_weights=class_weights,\n",
    "        normalization=normalization)\n",
    "else:\n",
    "    print('val_seq = test_seq')\n",
    "    val_seq = test_seq\n",
    "    \n",
    "model_key = datetime.datetime.now().strftime('%Y%m%d-%H%M%S')\n",
    "log_dir = os.path.join(LOG_DIRECTORY, model_key)\n",
    "print(f'log_dir: {log_dir}')"
   ]
  },
  {
   "cell_type": "code",
   "execution_count": 5,
   "metadata": {},
   "outputs": [],
   "source": [
    "# https://www.tensorflow.org/tutorials/structured_data/imbalanced_data#class_weights\n",
    "# pos / neg\n",
    "initial_bias = np.log([159/243, 243/159])\n",
    "\n",
    "model_type = '3DResNet18'\n",
    "model_config = {\n",
    "    'input_shape': input_shape,\n",
    "    'class_names': class_names,\n",
    "#     'l2_beta': 0.001,\n",
    "    'l2_beta': 0.002,\n",
    "#     'l2_beta': None,\n",
    "    'dropout': 0.5,\n",
    "#     'dropout': None,\n",
    "    'output_bias': initial_bias,\n",
    "#     'output_bias': None,\n",
    "}\n",
    "\n",
    "compile_config = {\n",
    "    # default is 0.001\n",
    "#     'learning_rate': 0.000075,\n",
    "    'learning_rate': 0.00025 * 4,\n",
    "    'decay_steps': 10,\n",
    "    'decay_rate': 0.96,\n",
    "#     'beta_1': 0.85,\n",
    "    'beta_1': 0.90,\n",
    "#     'beta_2': 0.990,\n",
    "    'beta_2': 0.999,\n",
    "}\n",
    "\n",
    "train_config = {\n",
    "    'model_key': model_key,\n",
    "    'epochs': 200,\n",
    "    'patience': 25,\n",
    "    'tensorboard_update_freq': 'epoch',\n",
    "    'mri_tensorboard_callback': False,\n",
    "    'model_checkpoint_callback': {'monitor': 'val_auc', 'mode': 'max', 'save_best_only': True},\n",
    "    'early_stopping_monitor': {'monitor': 'val_auc', 'mode': 'max'},\n",
    "    'augmentations': {\n",
    "        'invert': (0.5, None),\n",
    "        'rotate': (0.2, 5), # probability, degrees\n",
    "        'zoom': (0.2, 0.015),\n",
    "        'shear': (0, 2.5), # probability, degrees\n",
    "        'blur': (0.2, 0.8),\n",
    "        'noise': (0.2, 0.00025)\n",
    "    },\n",
    "#     'augmentations': False,\n",
    "    'batch_size': 8,\n",
    "#     'model_checkpoint_callback': False,\n",
    "}"
   ]
  },
  {
   "cell_type": "markdown",
   "metadata": {},
   "source": [
    "## Train"
   ]
  },
  {
   "cell_type": "code",
   "execution_count": 6,
   "metadata": {
    "scrolled": false
   },
   "outputs": [
    {
     "name": "stdout",
     "output_type": "stream",
     "text": [
      "Model: \"sequential_7\"\n",
      "_________________________________________________________________\n",
      "Layer (type)                 Output Shape              Param #   \n",
      "=================================================================\n",
      "my_res_net (MyResNet)        (None, 1024)              33699712  \n",
      "_________________________________________________________________\n",
      "dropout (Dropout)            (None, 1024)              0         \n",
      "_________________________________________________________________\n",
      "dense_1 (Dense)              (None, 512)               524800    \n",
      "_________________________________________________________________\n",
      "dropout_1 (Dropout)          (None, 512)               0         \n",
      "_________________________________________________________________\n",
      "dense_2 (Dense)              (None, 256)               131328    \n",
      "_________________________________________________________________\n",
      "dropout_2 (Dropout)          (None, 256)               0         \n",
      "_________________________________________________________________\n",
      "dense_3 (Dense)              (None, 2)                 514       \n",
      "=================================================================\n",
      "Total params: 34,356,354\n",
      "Trainable params: 34,346,754\n",
      "Non-trainable params: 9,600\n",
      "_________________________________________________________________\n"
     ]
    }
   ],
   "source": [
    "model = create_model(model_type, model_config)\n",
    "model, *_ = compile_model(model, **compile_config)\n",
    "model.build(input_shape=input_shape)\n",
    "model.summary()"
   ]
  },
  {
   "cell_type": "code",
   "execution_count": 7,
   "metadata": {},
   "outputs": [],
   "source": [
    "# load_checkpoint(model, DEFAULT_CHECKPOINT_DIRECTORY_LOCAL, '20201213-182225', 'cp-0002.ckpt')"
   ]
  },
  {
   "cell_type": "code",
   "execution_count": 8,
   "metadata": {},
   "outputs": [
    {
     "name": "stdout",
     "output_type": "stream",
     "text": [
      "['/device:GPU:0']\n"
     ]
    }
   ],
   "source": [
    "from tensorflow.python.client import device_lib\n",
    "\n",
    "def get_available_gpus():\n",
    "    local_device_protos = device_lib.list_local_devices()\n",
    "    return [x.name for x in local_device_protos if x.device_type == 'GPU']\n",
    "\n",
    "print(get_available_gpus())"
   ]
  },
  {
   "cell_type": "code",
   "execution_count": 9,
   "metadata": {
    "scrolled": false
   },
   "outputs": [
    {
     "name": "stdout",
     "output_type": "stream",
     "text": [
      "model key: 20201217-131203\n",
      "checkpoint dir: ../../tmp\\checkpoints\\20201217-131203\n",
      "log dir: ../../tmp\\logs\\20201217-131203\n",
      "loading ../../tmp\\data-v3\\train_x.npy, ../../tmp\\data-v3\\train_y.npy...\n",
      "loading ../../tmp\\data-v3\\val_x.npy, ../../tmp\\data-v3\\val_y.npy...\n",
      "training...\n",
      "WARNING:tensorflow:Model failed to serialize as JSON. Ignoring... \n",
      "Epoch 1/200\n",
      " 2/51 [>.............................] - ETA: 7s - loss: 4.8165 - recall: 0.3750 - precision: 0.3750 - auc: 0.5117 - categorical_accuracy: 0.3750WARNING:tensorflow:Callbacks method `on_train_batch_end` is slow compared to the batch time (batch time: 0.1179s vs `on_train_batch_end` time: 0.2050s). Check your callbacks.\n",
      "51/51 [==============================] - ETA: 0s - loss: 4.3518 - recall: 0.4627 - precision: 0.4627 - auc: 0.4414 - categorical_accuracy: 0.4627\n",
      "Epoch 00001: val_auc improved from -inf to 0.62000, saving model to ../../tmp\\checkpoints\\20201217-131203\\cp-0001.ckpt\n",
      "51/51 [==============================] - 20s 394ms/step - loss: 4.3518 - recall: 0.4627 - precision: 0.4627 - auc: 0.4414 - categorical_accuracy: 0.4627 - val_loss: 7175.1133 - val_recall: 0.6200 - val_precision: 0.6200 - val_auc: 0.6200 - val_categorical_accuracy: 0.6200\n",
      "Epoch 2/200\n",
      "51/51 [==============================] - ETA: 0s - loss: 2.8485 - recall: 0.4826 - precision: 0.4826 - auc: 0.4747 - categorical_accuracy: 0.4826\n",
      "Epoch 00002: val_auc did not improve from 0.62000\n",
      "51/51 [==============================] - 17s 338ms/step - loss: 2.8485 - recall: 0.4826 - precision: 0.4826 - auc: 0.4747 - categorical_accuracy: 0.4826 - val_loss: 2.9847 - val_recall: 0.3800 - val_precision: 0.3800 - val_auc: 0.4113 - val_categorical_accuracy: 0.3800\n",
      "Epoch 3/200\n",
      "51/51 [==============================] - ETA: 0s - loss: 2.5689 - recall: 0.5149 - precision: 0.5149 - auc: 0.5207 - categorical_accuracy: 0.5149\n",
      "Epoch 00003: val_auc did not improve from 0.62000\n",
      "51/51 [==============================] - 17s 341ms/step - loss: 2.5689 - recall: 0.5149 - precision: 0.5149 - auc: 0.5207 - categorical_accuracy: 0.5149 - val_loss: 2.4428 - val_recall: 0.3800 - val_precision: 0.3800 - val_auc: 0.3800 - val_categorical_accuracy: 0.3800\n",
      "Epoch 4/200\n",
      "51/51 [==============================] - ETA: 0s - loss: 2.4342 - recall: 0.4925 - precision: 0.4925 - auc: 0.4962 - categorical_accuracy: 0.4925\n",
      "Epoch 00004: val_auc did not improve from 0.62000\n",
      "51/51 [==============================] - 17s 339ms/step - loss: 2.4342 - recall: 0.4925 - precision: 0.4925 - auc: 0.4962 - categorical_accuracy: 0.4925 - val_loss: 2.3546 - val_recall: 0.3800 - val_precision: 0.3800 - val_auc: 0.3800 - val_categorical_accuracy: 0.3800\n",
      "Epoch 5/200\n",
      "51/51 [==============================] - ETA: 0s - loss: 2.3240 - recall: 0.5025 - precision: 0.5025 - auc: 0.5121 - categorical_accuracy: 0.5025\n",
      "Epoch 00005: val_auc did not improve from 0.62000\n",
      "51/51 [==============================] - 17s 339ms/step - loss: 2.3240 - recall: 0.5025 - precision: 0.5025 - auc: 0.5121 - categorical_accuracy: 0.5025 - val_loss: 2.2717 - val_recall: 0.3800 - val_precision: 0.3800 - val_auc: 0.3800 - val_categorical_accuracy: 0.3800\n",
      "Epoch 6/200\n",
      "51/51 [==============================] - ETA: 0s - loss: 2.2504 - recall: 0.5373 - precision: 0.5373 - auc: 0.5280 - categorical_accuracy: 0.5373\n",
      "Epoch 00006: val_auc did not improve from 0.62000\n",
      "51/51 [==============================] - 17s 341ms/step - loss: 2.2504 - recall: 0.5373 - precision: 0.5373 - auc: 0.5280 - categorical_accuracy: 0.5373 - val_loss: 2.2130 - val_recall: 0.3800 - val_precision: 0.3800 - val_auc: 0.3800 - val_categorical_accuracy: 0.3800\n",
      "Epoch 7/200\n",
      "51/51 [==============================] - ETA: 0s - loss: 2.1912 - recall: 0.5299 - precision: 0.5299 - auc: 0.5327 - categorical_accuracy: 0.5299\n",
      "Epoch 00007: val_auc did not improve from 0.62000\n",
      "51/51 [==============================] - 18s 345ms/step - loss: 2.1912 - recall: 0.5299 - precision: 0.5299 - auc: 0.5327 - categorical_accuracy: 0.5299 - val_loss: 2.1618 - val_recall: 0.3800 - val_precision: 0.3800 - val_auc: 0.3788 - val_categorical_accuracy: 0.3800\n",
      "Epoch 8/200\n",
      "51/51 [==============================] - ETA: 0s - loss: 2.1215 - recall: 0.5647 - precision: 0.5647 - auc: 0.6087 - categorical_accuracy: 0.5647\n",
      "Epoch 00008: val_auc did not improve from 0.62000\n",
      "51/51 [==============================] - 17s 340ms/step - loss: 2.1215 - recall: 0.5647 - precision: 0.5647 - auc: 0.6087 - categorical_accuracy: 0.5647 - val_loss: 2.1241 - val_recall: 0.3600 - val_precision: 0.3600 - val_auc: 0.3179 - val_categorical_accuracy: 0.3600\n",
      "Epoch 9/200\n",
      "51/51 [==============================] - ETA: 0s - loss: 2.0967 - recall: 0.5348 - precision: 0.5348 - auc: 0.5758 - categorical_accuracy: 0.5348\n",
      "Epoch 00009: val_auc did not improve from 0.62000\n",
      "51/51 [==============================] - 17s 339ms/step - loss: 2.0967 - recall: 0.5348 - precision: 0.5348 - auc: 0.5758 - categorical_accuracy: 0.5348 - val_loss: 2.0903 - val_recall: 0.4100 - val_precision: 0.4100 - val_auc: 0.3468 - val_categorical_accuracy: 0.4100\n",
      "Epoch 10/200\n",
      "51/51 [==============================] - ETA: 0s - loss: 2.0519 - recall: 0.5721 - precision: 0.5721 - auc: 0.6037 - categorical_accuracy: 0.5721\n",
      "Epoch 00010: val_auc did not improve from 0.62000\n",
      "51/51 [==============================] - 18s 345ms/step - loss: 2.0519 - recall: 0.5721 - precision: 0.5721 - auc: 0.6037 - categorical_accuracy: 0.5721 - val_loss: 2.0669 - val_recall: 0.3600 - val_precision: 0.3600 - val_auc: 0.3690 - val_categorical_accuracy: 0.3600\n",
      "Epoch 11/200\n",
      "51/51 [==============================] - ETA: 0s - loss: 2.0216 - recall: 0.5672 - precision: 0.5672 - auc: 0.6312 - categorical_accuracy: 0.5672\n",
      "Epoch 00011: val_auc did not improve from 0.62000\n",
      "51/51 [==============================] - 18s 347ms/step - loss: 2.0216 - recall: 0.5672 - precision: 0.5672 - auc: 0.6312 - categorical_accuracy: 0.5672 - val_loss: 2.0494 - val_recall: 0.5000 - val_precision: 0.5000 - val_auc: 0.5058 - val_categorical_accuracy: 0.5000\n",
      "Epoch 12/200\n",
      "51/51 [==============================] - ETA: 0s - loss: 2.0028 - recall: 0.5995 - precision: 0.5995 - auc: 0.6498 - categorical_accuracy: 0.5995\n",
      "Epoch 00012: val_auc did not improve from 0.62000\n",
      "51/51 [==============================] - 18s 346ms/step - loss: 2.0028 - recall: 0.5995 - precision: 0.5995 - auc: 0.6498 - categorical_accuracy: 0.5995 - val_loss: 2.0135 - val_recall: 0.5200 - val_precision: 0.5200 - val_auc: 0.5740 - val_categorical_accuracy: 0.5200\n",
      "Epoch 13/200\n",
      "51/51 [==============================] - ETA: 0s - loss: 1.9632 - recall: 0.6244 - precision: 0.6244 - auc: 0.6878 - categorical_accuracy: 0.6244\n",
      "Epoch 00013: val_auc did not improve from 0.62000\n",
      "51/51 [==============================] - 17s 342ms/step - loss: 1.9632 - recall: 0.6244 - precision: 0.6244 - auc: 0.6878 - categorical_accuracy: 0.6244 - val_loss: 1.9935 - val_recall: 0.5500 - val_precision: 0.5500 - val_auc: 0.6125 - val_categorical_accuracy: 0.5500\n",
      "Epoch 14/200\n",
      "51/51 [==============================] - ETA: 0s - loss: 1.9490 - recall: 0.6368 - precision: 0.6368 - auc: 0.7014 - categorical_accuracy: 0.6368\n",
      "Epoch 00014: val_auc improved from 0.62000 to 0.66435, saving model to ../../tmp\\checkpoints\\20201217-131203\\cp-0014.ckpt\n",
      "51/51 [==============================] - 20s 383ms/step - loss: 1.9490 - recall: 0.6368 - precision: 0.6368 - auc: 0.7014 - categorical_accuracy: 0.6368 - val_loss: 1.9738 - val_recall: 0.6400 - val_precision: 0.6400 - val_auc: 0.6643 - val_categorical_accuracy: 0.6400\n",
      "Epoch 15/200\n",
      "51/51 [==============================] - ETA: 0s - loss: 1.9134 - recall: 0.6493 - precision: 0.6493 - auc: 0.7173 - categorical_accuracy: 0.6493\n",
      "Epoch 00015: val_auc improved from 0.66435 to 0.67440, saving model to ../../tmp\\checkpoints\\20201217-131203\\cp-0015.ckpt\n",
      "51/51 [==============================] - 19s 374ms/step - loss: 1.9134 - recall: 0.6493 - precision: 0.6493 - auc: 0.7173 - categorical_accuracy: 0.6493 - val_loss: 1.9576 - val_recall: 0.6600 - val_precision: 0.6600 - val_auc: 0.6744 - val_categorical_accuracy: 0.6600\n",
      "Epoch 16/200\n"
     ]
    },
    {
     "name": "stdout",
     "output_type": "stream",
     "text": [
      "51/51 [==============================] - ETA: 0s - loss: 1.8645 - recall: 0.6965 - precision: 0.6965 - auc: 0.7812 - categorical_accuracy: 0.6965\n",
      "Epoch 00016: val_auc improved from 0.67440 to 0.67520, saving model to ../../tmp\\checkpoints\\20201217-131203\\cp-0016.ckpt\n",
      "51/51 [==============================] - 19s 374ms/step - loss: 1.8645 - recall: 0.6965 - precision: 0.6965 - auc: 0.7812 - categorical_accuracy: 0.6965 - val_loss: 2.0204 - val_recall: 0.6500 - val_precision: 0.6500 - val_auc: 0.6752 - val_categorical_accuracy: 0.6500\n",
      "Epoch 17/200\n",
      "51/51 [==============================] - ETA: 0s - loss: 1.8543 - recall: 0.6940 - precision: 0.6940 - auc: 0.7749 - categorical_accuracy: 0.6940\n",
      "Epoch 00017: val_auc did not improve from 0.67520\n",
      "51/51 [==============================] - 17s 340ms/step - loss: 1.8543 - recall: 0.6940 - precision: 0.6940 - auc: 0.7749 - categorical_accuracy: 0.6940 - val_loss: 1.9648 - val_recall: 0.6400 - val_precision: 0.6400 - val_auc: 0.6676 - val_categorical_accuracy: 0.6400\n",
      "Epoch 18/200\n",
      "51/51 [==============================] - ETA: 0s - loss: 1.8309 - recall: 0.7413 - precision: 0.7413 - auc: 0.8117 - categorical_accuracy: 0.7413\n",
      "Epoch 00018: val_auc improved from 0.67520 to 0.69200, saving model to ../../tmp\\checkpoints\\20201217-131203\\cp-0018.ckpt\n",
      "51/51 [==============================] - 19s 375ms/step - loss: 1.8309 - recall: 0.7413 - precision: 0.7413 - auc: 0.8117 - categorical_accuracy: 0.7413 - val_loss: 1.9893 - val_recall: 0.6700 - val_precision: 0.6700 - val_auc: 0.6920 - val_categorical_accuracy: 0.6700\n",
      "Epoch 19/200\n",
      "51/51 [==============================] - ETA: 0s - loss: 1.7777 - recall: 0.8010 - precision: 0.8010 - auc: 0.8521 - categorical_accuracy: 0.8010\n",
      "Epoch 00019: val_auc did not improve from 0.69200\n",
      "51/51 [==============================] - 17s 340ms/step - loss: 1.7777 - recall: 0.8010 - precision: 0.8010 - auc: 0.8521 - categorical_accuracy: 0.8010 - val_loss: 2.0099 - val_recall: 0.7000 - val_precision: 0.7000 - val_auc: 0.6900 - val_categorical_accuracy: 0.7000\n",
      "Epoch 20/200\n",
      "51/51 [==============================] - ETA: 0s - loss: 1.7234 - recall: 0.8109 - precision: 0.8109 - auc: 0.8988 - categorical_accuracy: 0.8109\n",
      "Epoch 00020: val_auc did not improve from 0.69200\n",
      "51/51 [==============================] - 17s 340ms/step - loss: 1.7234 - recall: 0.8109 - precision: 0.8109 - auc: 0.8988 - categorical_accuracy: 0.8109 - val_loss: 2.1303 - val_recall: 0.6900 - val_precision: 0.6900 - val_auc: 0.6823 - val_categorical_accuracy: 0.6900\n",
      "Epoch 21/200\n",
      "51/51 [==============================] - ETA: 0s - loss: 1.7028 - recall: 0.8308 - precision: 0.8308 - auc: 0.9006 - categorical_accuracy: 0.8308\n",
      "Epoch 00021: val_auc did not improve from 0.69200\n",
      "51/51 [==============================] - 17s 343ms/step - loss: 1.7028 - recall: 0.8308 - precision: 0.8308 - auc: 0.9006 - categorical_accuracy: 0.8308 - val_loss: 2.0669 - val_recall: 0.6800 - val_precision: 0.6800 - val_auc: 0.6900 - val_categorical_accuracy: 0.6800\n",
      "Epoch 22/200\n",
      "51/51 [==============================] - ETA: 0s - loss: 1.6902 - recall: 0.8333 - precision: 0.8333 - auc: 0.9062 - categorical_accuracy: 0.8333\n",
      "Epoch 00022: val_auc improved from 0.69200 to 0.69345, saving model to ../../tmp\\checkpoints\\20201217-131203\\cp-0022.ckpt\n",
      "51/51 [==============================] - 19s 379ms/step - loss: 1.6902 - recall: 0.8333 - precision: 0.8333 - auc: 0.9062 - categorical_accuracy: 0.8333 - val_loss: 2.0389 - val_recall: 0.7000 - val_precision: 0.7000 - val_auc: 0.6934 - val_categorical_accuracy: 0.7000\n",
      "Epoch 23/200\n",
      "51/51 [==============================] - ETA: 0s - loss: 1.6548 - recall: 0.8657 - precision: 0.8657 - auc: 0.9279 - categorical_accuracy: 0.8657\n",
      "Epoch 00023: val_auc did not improve from 0.69345\n",
      "51/51 [==============================] - 18s 350ms/step - loss: 1.6548 - recall: 0.8657 - precision: 0.8657 - auc: 0.9279 - categorical_accuracy: 0.8657 - val_loss: 2.0753 - val_recall: 0.6600 - val_precision: 0.6600 - val_auc: 0.6921 - val_categorical_accuracy: 0.6600\n",
      "Epoch 24/200\n",
      "51/51 [==============================] - ETA: 0s - loss: 1.6542 - recall: 0.8557 - precision: 0.8557 - auc: 0.9208 - categorical_accuracy: 0.8557\n",
      "Epoch 00024: val_auc did not improve from 0.69345\n",
      "51/51 [==============================] - 17s 339ms/step - loss: 1.6542 - recall: 0.8557 - precision: 0.8557 - auc: 0.9208 - categorical_accuracy: 0.8557 - val_loss: 2.0474 - val_recall: 0.6500 - val_precision: 0.6500 - val_auc: 0.6892 - val_categorical_accuracy: 0.6500\n",
      "Epoch 25/200\n",
      "51/51 [==============================] - ETA: 0s - loss: 1.6290 - recall: 0.8756 - precision: 0.8756 - auc: 0.9389 - categorical_accuracy: 0.8756\n",
      "Epoch 00025: val_auc did not improve from 0.69345\n",
      "51/51 [==============================] - 17s 339ms/step - loss: 1.6290 - recall: 0.8756 - precision: 0.8756 - auc: 0.9389 - categorical_accuracy: 0.8756 - val_loss: 2.0697 - val_recall: 0.6400 - val_precision: 0.6400 - val_auc: 0.6889 - val_categorical_accuracy: 0.6400\n",
      "Epoch 26/200\n",
      "51/51 [==============================] - ETA: 0s - loss: 1.6129 - recall: 0.8905 - precision: 0.8905 - auc: 0.9406 - categorical_accuracy: 0.8905\n",
      "Epoch 00026: val_auc did not improve from 0.69345\n",
      "51/51 [==============================] - 17s 339ms/step - loss: 1.6129 - recall: 0.8905 - precision: 0.8905 - auc: 0.9406 - categorical_accuracy: 0.8905 - val_loss: 2.0477 - val_recall: 0.6200 - val_precision: 0.6200 - val_auc: 0.6783 - val_categorical_accuracy: 0.6200\n",
      "Epoch 27/200\n",
      "51/51 [==============================] - ETA: 0s - loss: 1.6027 - recall: 0.8881 - precision: 0.8881 - auc: 0.9470 - categorical_accuracy: 0.8881\n",
      "Epoch 00027: val_auc did not improve from 0.69345\n",
      "51/51 [==============================] - 17s 339ms/step - loss: 1.6027 - recall: 0.8881 - precision: 0.8881 - auc: 0.9470 - categorical_accuracy: 0.8881 - val_loss: 2.0901 - val_recall: 0.6300 - val_precision: 0.6300 - val_auc: 0.6906 - val_categorical_accuracy: 0.6300\n",
      "Epoch 28/200\n",
      "51/51 [==============================] - ETA: 0s - loss: 1.5999 - recall: 0.8955 - precision: 0.8955 - auc: 0.9490 - categorical_accuracy: 0.8955\n",
      "Epoch 00028: val_auc did not improve from 0.69345\n",
      "51/51 [==============================] - 17s 340ms/step - loss: 1.5999 - recall: 0.8955 - precision: 0.8955 - auc: 0.9490 - categorical_accuracy: 0.8955 - val_loss: 2.0749 - val_recall: 0.6400 - val_precision: 0.6400 - val_auc: 0.6865 - val_categorical_accuracy: 0.6400\n",
      "Epoch 29/200\n",
      "51/51 [==============================] - ETA: 0s - loss: 1.5896 - recall: 0.8955 - precision: 0.8955 - auc: 0.9517 - categorical_accuracy: 0.8955\n",
      "Epoch 00029: val_auc did not improve from 0.69345\n",
      "51/51 [==============================] - 17s 339ms/step - loss: 1.5896 - recall: 0.8955 - precision: 0.8955 - auc: 0.9517 - categorical_accuracy: 0.8955 - val_loss: 2.0893 - val_recall: 0.6400 - val_precision: 0.6400 - val_auc: 0.6869 - val_categorical_accuracy: 0.6400\n",
      "Epoch 30/200\n",
      "51/51 [==============================] - ETA: 0s - loss: 1.5921 - recall: 0.8881 - precision: 0.8881 - auc: 0.9530 - categorical_accuracy: 0.8881\n",
      "Epoch 00030: val_auc did not improve from 0.69345\n",
      "51/51 [==============================] - 17s 341ms/step - loss: 1.5921 - recall: 0.8881 - precision: 0.8881 - auc: 0.9530 - categorical_accuracy: 0.8881 - val_loss: 2.0729 - val_recall: 0.6200 - val_precision: 0.6200 - val_auc: 0.6844 - val_categorical_accuracy: 0.6200\n",
      "Epoch 31/200\n",
      "51/51 [==============================] - ETA: 0s - loss: 1.5757 - recall: 0.9279 - precision: 0.9279 - auc: 0.9572 - categorical_accuracy: 0.9279\n",
      "Epoch 00031: val_auc did not improve from 0.69345\n",
      "51/51 [==============================] - 18s 344ms/step - loss: 1.5757 - recall: 0.9279 - precision: 0.9279 - auc: 0.9572 - categorical_accuracy: 0.9279 - val_loss: 2.0531 - val_recall: 0.6000 - val_precision: 0.6000 - val_auc: 0.6814 - val_categorical_accuracy: 0.6000\n",
      "Epoch 32/200\n",
      "51/51 [==============================] - ETA: 0s - loss: 1.5761 - recall: 0.9179 - precision: 0.9179 - auc: 0.9585 - categorical_accuracy: 0.9179\n",
      "Epoch 00032: val_auc did not improve from 0.69345\n",
      "51/51 [==============================] - 17s 343ms/step - loss: 1.5761 - recall: 0.9179 - precision: 0.9179 - auc: 0.9585 - categorical_accuracy: 0.9179 - val_loss: 2.0692 - val_recall: 0.6100 - val_precision: 0.6100 - val_auc: 0.6847 - val_categorical_accuracy: 0.6100\n"
     ]
    },
    {
     "name": "stdout",
     "output_type": "stream",
     "text": [
      "Epoch 33/200\n",
      "51/51 [==============================] - ETA: 0s - loss: 1.5834 - recall: 0.9030 - precision: 0.9030 - auc: 0.9496 - categorical_accuracy: 0.9030\n",
      "Epoch 00033: val_auc did not improve from 0.69345\n",
      "51/51 [==============================] - 18s 346ms/step - loss: 1.5834 - recall: 0.9030 - precision: 0.9030 - auc: 0.9496 - categorical_accuracy: 0.9030 - val_loss: 2.0528 - val_recall: 0.6100 - val_precision: 0.6100 - val_auc: 0.6824 - val_categorical_accuracy: 0.6100\n",
      "Epoch 34/200\n",
      "51/51 [==============================] - ETA: 0s - loss: 1.5705 - recall: 0.9179 - precision: 0.9179 - auc: 0.9526 - categorical_accuracy: 0.9179\n",
      "Epoch 00034: val_auc did not improve from 0.69345\n",
      "51/51 [==============================] - 18s 345ms/step - loss: 1.5705 - recall: 0.9179 - precision: 0.9179 - auc: 0.9526 - categorical_accuracy: 0.9179 - val_loss: 2.0542 - val_recall: 0.6100 - val_precision: 0.6100 - val_auc: 0.6835 - val_categorical_accuracy: 0.6100\n",
      "Epoch 35/200\n",
      "51/51 [==============================] - ETA: 0s - loss: 1.5628 - recall: 0.9154 - precision: 0.9154 - auc: 0.9619 - categorical_accuracy: 0.9154\n",
      "Epoch 00035: val_auc did not improve from 0.69345\n",
      "51/51 [==============================] - 18s 345ms/step - loss: 1.5628 - recall: 0.9154 - precision: 0.9154 - auc: 0.9619 - categorical_accuracy: 0.9154 - val_loss: 2.0591 - val_recall: 0.6100 - val_precision: 0.6100 - val_auc: 0.6846 - val_categorical_accuracy: 0.6100\n",
      "Epoch 36/200\n",
      "51/51 [==============================] - ETA: 0s - loss: 1.5659 - recall: 0.9204 - precision: 0.9204 - auc: 0.9580 - categorical_accuracy: 0.9204\n",
      "Epoch 00036: val_auc did not improve from 0.69345\n",
      "51/51 [==============================] - 17s 342ms/step - loss: 1.5659 - recall: 0.9204 - precision: 0.9204 - auc: 0.9580 - categorical_accuracy: 0.9204 - val_loss: 2.0542 - val_recall: 0.6100 - val_precision: 0.6100 - val_auc: 0.6829 - val_categorical_accuracy: 0.6100\n",
      "Epoch 37/200\n",
      "51/51 [==============================] - ETA: 0s - loss: 1.5738 - recall: 0.9104 - precision: 0.9104 - auc: 0.9577 - categorical_accuracy: 0.9104\n",
      "Epoch 00037: val_auc did not improve from 0.69345\n",
      "51/51 [==============================] - 17s 343ms/step - loss: 1.5738 - recall: 0.9104 - precision: 0.9104 - auc: 0.9577 - categorical_accuracy: 0.9104 - val_loss: 2.0543 - val_recall: 0.6100 - val_precision: 0.6100 - val_auc: 0.6847 - val_categorical_accuracy: 0.6100\n",
      "Epoch 38/200\n",
      "51/51 [==============================] - ETA: 0s - loss: 1.5756 - recall: 0.9229 - precision: 0.9229 - auc: 0.9512 - categorical_accuracy: 0.9229\n",
      "Epoch 00038: val_auc did not improve from 0.69345\n",
      "51/51 [==============================] - 17s 339ms/step - loss: 1.5756 - recall: 0.9229 - precision: 0.9229 - auc: 0.9512 - categorical_accuracy: 0.9229 - val_loss: 2.0541 - val_recall: 0.6100 - val_precision: 0.6100 - val_auc: 0.6840 - val_categorical_accuracy: 0.6100\n",
      "Epoch 39/200\n",
      "51/51 [==============================] - ETA: 0s - loss: 1.5630 - recall: 0.9303 - precision: 0.9303 - auc: 0.9607 - categorical_accuracy: 0.9303\n",
      "Epoch 00039: val_auc did not improve from 0.69345\n",
      "51/51 [==============================] - 17s 340ms/step - loss: 1.5630 - recall: 0.9303 - precision: 0.9303 - auc: 0.9607 - categorical_accuracy: 0.9303 - val_loss: 2.0580 - val_recall: 0.6100 - val_precision: 0.6100 - val_auc: 0.6844 - val_categorical_accuracy: 0.6100\n",
      "Epoch 40/200\n",
      "51/51 [==============================] - ETA: 0s - loss: 1.5618 - recall: 0.9254 - precision: 0.9254 - auc: 0.9541 - categorical_accuracy: 0.9254\n",
      "Epoch 00040: val_auc did not improve from 0.69345\n",
      "51/51 [==============================] - 17s 338ms/step - loss: 1.5618 - recall: 0.9254 - precision: 0.9254 - auc: 0.9541 - categorical_accuracy: 0.9254 - val_loss: 2.0517 - val_recall: 0.6100 - val_precision: 0.6100 - val_auc: 0.6847 - val_categorical_accuracy: 0.6100\n",
      "Epoch 41/200\n",
      "51/51 [==============================] - ETA: 0s - loss: 1.5712 - recall: 0.9154 - precision: 0.9154 - auc: 0.9556 - categorical_accuracy: 0.9154\n",
      "Epoch 00041: val_auc did not improve from 0.69345\n",
      "51/51 [==============================] - 17s 341ms/step - loss: 1.5712 - recall: 0.9154 - precision: 0.9154 - auc: 0.9556 - categorical_accuracy: 0.9154 - val_loss: 2.0504 - val_recall: 0.6100 - val_precision: 0.6100 - val_auc: 0.6844 - val_categorical_accuracy: 0.6100\n",
      "Epoch 42/200\n",
      "51/51 [==============================] - ETA: 0s - loss: 1.5656 - recall: 0.9154 - precision: 0.9154 - auc: 0.9598 - categorical_accuracy: 0.9154\n",
      "Epoch 00042: val_auc did not improve from 0.69345\n",
      "51/51 [==============================] - 17s 339ms/step - loss: 1.5656 - recall: 0.9154 - precision: 0.9154 - auc: 0.9598 - categorical_accuracy: 0.9154 - val_loss: 2.0512 - val_recall: 0.6100 - val_precision: 0.6100 - val_auc: 0.6847 - val_categorical_accuracy: 0.6100\n",
      "Epoch 43/200\n",
      "51/51 [==============================] - ETA: 0s - loss: 1.5717 - recall: 0.9204 - precision: 0.9204 - auc: 0.9553 - categorical_accuracy: 0.9204\n",
      "Epoch 00043: val_auc did not improve from 0.69345\n",
      "51/51 [==============================] - 17s 338ms/step - loss: 1.5717 - recall: 0.9204 - precision: 0.9204 - auc: 0.9553 - categorical_accuracy: 0.9204 - val_loss: 2.0507 - val_recall: 0.6100 - val_precision: 0.6100 - val_auc: 0.6854 - val_categorical_accuracy: 0.6100\n",
      "Epoch 44/200\n",
      "51/51 [==============================] - ETA: 0s - loss: 1.5750 - recall: 0.9179 - precision: 0.9179 - auc: 0.9572 - categorical_accuracy: 0.9179\n",
      "Epoch 00044: val_auc did not improve from 0.69345\n",
      "51/51 [==============================] - 18s 347ms/step - loss: 1.5750 - recall: 0.9179 - precision: 0.9179 - auc: 0.9572 - categorical_accuracy: 0.9179 - val_loss: 2.0477 - val_recall: 0.6100 - val_precision: 0.6100 - val_auc: 0.6840 - val_categorical_accuracy: 0.6100\n",
      "Epoch 45/200\n",
      "51/51 [==============================] - ETA: 0s - loss: 1.5571 - recall: 0.9204 - precision: 0.9204 - auc: 0.9632 - categorical_accuracy: 0.9204\n",
      "Epoch 00045: val_auc did not improve from 0.69345\n",
      "51/51 [==============================] - 17s 343ms/step - loss: 1.5571 - recall: 0.9204 - precision: 0.9204 - auc: 0.9632 - categorical_accuracy: 0.9204 - val_loss: 2.0478 - val_recall: 0.6100 - val_precision: 0.6100 - val_auc: 0.6841 - val_categorical_accuracy: 0.6100\n",
      "Epoch 46/200\n",
      "51/51 [==============================] - ETA: 0s - loss: 1.5680 - recall: 0.9129 - precision: 0.9129 - auc: 0.9587 - categorical_accuracy: 0.9129\n",
      "Epoch 00046: val_auc did not improve from 0.69345\n",
      "51/51 [==============================] - 18s 345ms/step - loss: 1.5680 - recall: 0.9129 - precision: 0.9129 - auc: 0.9587 - categorical_accuracy: 0.9129 - val_loss: 2.0495 - val_recall: 0.6100 - val_precision: 0.6100 - val_auc: 0.6844 - val_categorical_accuracy: 0.6100\n",
      "Epoch 47/200\n",
      "51/51 [==============================] - ETA: 0s - loss: 1.5647 - recall: 0.9080 - precision: 0.9080 - auc: 0.9562 - categorical_accuracy: 0.9080\n",
      "Epoch 00047: val_auc did not improve from 0.69345\n",
      "51/51 [==============================] - 18s 345ms/step - loss: 1.5647 - recall: 0.9080 - precision: 0.9080 - auc: 0.9562 - categorical_accuracy: 0.9080 - val_loss: 2.0508 - val_recall: 0.6100 - val_precision: 0.6100 - val_auc: 0.6847 - val_categorical_accuracy: 0.6100\n",
      "Wall time: 15min 21s\n"
     ]
    }
   ],
   "source": [
    "%%time\n",
    "\n",
    "model, checkpoint_dir, history = train(\n",
    "    model,\n",
    "    train_seq,\n",
    "    test_seq,\n",
    "    CHECKPOINT_DIRECTORY,\n",
    "    LOG_DIRECTORY,\n",
    "    DATA_DIR,\n",
    "    **train_config\n",
    ")"
   ]
  },
  {
   "cell_type": "markdown",
   "metadata": {},
   "source": [
    "## Evaluation"
   ]
  },
  {
   "cell_type": "code",
   "execution_count": 10,
   "metadata": {
    "scrolled": false
   },
   "outputs": [
    {
     "name": "stdout",
     "output_type": "stream",
     "text": [
      "Wall time: 155 ms\n"
     ]
    },
    {
     "data": {
      "image/png": "[encoded data removed]",
      "text/plain": [
       "<Figure size 864x1080 with 5 Axes>"
      ]
     },
     "metadata": {
      "needs_background": "light"
     },
     "output_type": "display_data"
    }
   ],
   "source": [
    "%%time\n",
    "\n",
    "plot_training_history(history)"
   ]
  },
  {
   "cell_type": "code",
   "execution_count": 11,
   "metadata": {
    "scrolled": true
   },
   "outputs": [
    {
     "name": "stdout",
     "output_type": "stream",
     "text": [
      "loss: 1.9490715265274048\n",
      "recall: 0.699999988079071\n",
      "precision: 0.699999988079071\n",
      "auc: 0.6934499740600586\n",
      "categorical_accuracy: 0.699999988079071\n",
      "\n",
      "Wall time: 23.8 s\n"
     ]
    }
   ],
   "source": [
    "%%time\n",
    "\n",
    "show_simple_metrics(model, test_seq)"
   ]
  },
  {
   "cell_type": "code",
   "execution_count": 12,
   "metadata": {
    "scrolled": false
   },
   "outputs": [
    {
     "name": "stdout",
     "output_type": "stream",
     "text": [
      "In binary classification, recall of the positive class is also known as “sensitivity”; recall of the negative class is “specificity”. (https://scikit-learn.org/stable/modules/generated/sklearn.metrics.classification_report.html)\n",
      "\u001b[1mAD\u001b[0m\n",
      "precision: 0.7162162162162162\n",
      "recall: 0.8548387096774194\n",
      "f1-score: 0.7794117647058824\n",
      "support: 62\n",
      "\n",
      "\n",
      "\u001b[1mCN\u001b[0m\n",
      "precision: 0.6538461538461539\n",
      "recall: 0.4473684210526316\n",
      "f1-score: 0.53125\n",
      "support: 38\n",
      "\n",
      "\n",
      "\u001b[1mmicro avg\u001b[0m\n",
      "precision: 0.7\n",
      "recall: 0.7\n",
      "f1-score: 0.7\n",
      "support: 100\n",
      "\n",
      "\n",
      "\u001b[1mmacro avg\u001b[0m\n",
      "precision: 0.685031185031185\n",
      "recall: 0.6511035653650254\n",
      "f1-score: 0.6553308823529411\n",
      "support: 100\n",
      "\n",
      "\n",
      "\u001b[1mweighted avg\u001b[0m\n",
      "precision: 0.6925155925155926\n",
      "recall: 0.7\n",
      "f1-score: 0.685110294117647\n",
      "support: 100\n",
      "\n",
      "\n",
      "\u001b[1msamples avg\u001b[0m\n",
      "precision: 0.7\n",
      "recall: 0.7\n",
      "f1-score: 0.7\n",
      "support: 100\n",
      "\n",
      "\n",
      "\u001b[1mF1\u001b[0m\n",
      "micro: 0.7\n",
      "macro: 0.6553308823529411\n",
      "\n",
      "\n",
      "accuracy_score: 0.7\n",
      "sensitivity_score: 0.8548387096774194\n",
      "specificity_score: 0.4473684210526316\n",
      "\n",
      "\n",
      "Wall time: 22.4 s\n"
     ]
    },
    {
     "data": {
      "image/png": "[encoded data removed]",
      "text/plain": [
       "<Figure size 576x576 with 2 Axes>"
      ]
     },
     "metadata": {
      "needs_background": "light"
     },
     "output_type": "display_data"
    }
   ],
   "source": [
    "%%time\n",
    "\n",
    "show_metrics(model, test_seq, class_names)"
   ]
  },
  {
   "cell_type": "code",
   "execution_count": null,
   "metadata": {},
   "outputs": [],
   "source": []
  }
 ],
 "metadata": {
  "kernelspec": {
   "display_name": "Python 3",
   "language": "python",
   "name": "python3"
  },
  "language_info": {
   "codemirror_mode": {
    "name": "ipython",
    "version": 3
   },
   "file_extension": ".py",
   "mimetype": "text/x-python",
   "name": "python",
   "nbconvert_exporter": "python",
   "pygments_lexer": "ipython3",
   "version": "3.7.9"
  }
 },
 "nbformat": 4,
 "nbformat_minor": 1
}

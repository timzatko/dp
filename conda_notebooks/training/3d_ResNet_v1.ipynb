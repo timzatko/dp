{
 "cells": [
  {
   "cell_type": "markdown",
   "metadata": {},
   "source": [
    "# 3D ResNet"
   ]
  },
  {
   "cell_type": "markdown",
   "metadata": {},
   "source": [
    "Basic"
   ]
  },
  {
   "cell_type": "code",
   "execution_count": 1,
   "metadata": {},
   "outputs": [],
   "source": [
    "%load_ext autoreload\n",
    "%autoreload 2\n",
    "\n",
    "import sys\n",
    "sys.path.append('../..')\n",
    "\n",
    "import datetime\n",
    "import os\n",
    "os.environ[\"CUDA_VISIBLE_DEVICES\"]=\"0\"\n",
    "\n",
    "import numpy as np\n",
    "\n",
    "from src.data import train_test_split, MRISequence\n",
    "from src.model import create_model, compile_model, load_checkpoint\n",
    "from src.model.training import train\n",
    "from src.model.evaluation import plot_training_history, show_simple_metrics, show_metrics"
   ]
  },
  {
   "cell_type": "code",
   "execution_count": 2,
   "metadata": {},
   "outputs": [
    {
     "name": "stdout",
     "output_type": "stream",
     "text": [
      "2.3.1\n",
      "Num GPUs Available:  1\n"
     ]
    }
   ],
   "source": [
    "import tensorflow as tf\n",
    "\n",
    "RANDOM_SEED = 792379571013149\n",
    "tf.random.set_seed(RANDOM_SEED)\n",
    "\n",
    "print(tf.version.VERSION)\n",
    "print(\"Num GPUs Available: \", len(tf.config.experimental.list_physical_devices('GPU')))"
   ]
  },
  {
   "cell_type": "markdown",
   "metadata": {},
   "source": [
    "## Setup"
   ]
  },
  {
   "cell_type": "code",
   "execution_count": 3,
   "metadata": {},
   "outputs": [
    {
     "name": "stdout",
     "output_type": "stream",
     "text": [
      "not copying files since the destination directory already exists\n",
      "initializing train_seq...\n",
      "initializing test_seq...\n",
      "val_seq = test_seq\n",
      "log_dir: ../../tmp\\logs\\20201216-143858\n",
      "Wall time: 5 ms\n"
     ]
    }
   ],
   "source": [
    "%%time\n",
    "\n",
    "ROOT_DIR = '../../tmp'\n",
    "DEFAULT_CHECKPOINT_DIRECTORY_LOCAL = os.path.join(ROOT_DIR, 'checkpoints')\n",
    "DEFAULT_BCKP_CHECKPOINT_DIRECTORY_LOCAL = os.path.join(ROOT_DIR, 'bckp-checkpoints')\n",
    "\n",
    "LOG_DIRECTORY = os.path.join(ROOT_DIR, 'logs')\n",
    "CHECKPOINT_DIRECTORY = DEFAULT_CHECKPOINT_DIRECTORY_LOCAL\n",
    "\n",
    "LOG_DIRECTORY_LOCAL = LOG_DIRECTORY\n",
    "CHECKPOINT_DIRECTORY_LOCAL = CHECKPOINT_DIRECTORY\n",
    "\n",
    "DATA_DIR_NAME = 'data-v3'\n",
    "DATA_DIR = os.path.join(ROOT_DIR, DATA_DIR_NAME)\n",
    "\n",
    "saliencies_and_segmentations_v2_path = os.path.join(ROOT_DIR, 'saliencies_and_segmentations_v2')\n",
    "\n",
    "if not os.path.exists(CHECKPOINT_DIRECTORY):\n",
    "    os.mkdir(CHECKPOINT_DIRECTORY)\n",
    "\n",
    "if not os.path.exists(LOG_DIRECTORY):\n",
    "    os.mkdir(LOG_DIRECTORY)\n",
    "\n",
    "val = False\n",
    "    \n",
    "class_names = ['AD', 'CN']\n",
    "\n",
    "# get paths to data\n",
    "train_dir, test_dir, val_dir = train_test_split(\n",
    "    saliencies_and_segmentations_v2_path, \n",
    "    ROOT_DIR, \n",
    "    split=(0.8, 0.15, 0.05), \n",
    "    dirname=DATA_DIR_NAME)\n",
    "\n",
    "# set the batch size for mri seq\n",
    "batch_size = 12\n",
    "input_shape = (104, 128, 104, 1) # (112, 112, 105, 1)\n",
    "resize_img = True\n",
    "crop_img = True\n",
    "\n",
    "# if y is one-hot encoded or just scalar number\n",
    "one_hot = True\n",
    "\n",
    "# class weights (see analysis notebook)\n",
    "class_weights = {0: 0.8072289156626505, 1: 1.3137254901960784}\n",
    "\n",
    "# description statistics of the dataset\n",
    "desc = {'mean': -3.6344006e-09, 'std': 1.0000092, 'min': -1.4982183, 'max': 10.744175}\n",
    "\n",
    "if 'desc' not in locals():\n",
    "    print('initializing desc...')\n",
    "    desc = get_description(MRISequence(\n",
    "        train_dir,\n",
    "        64,\n",
    "        class_names=class_names,\n",
    "        input_shape=input_shape),\n",
    "        max_samples=None)\n",
    "    print(desc)\n",
    "\n",
    "\n",
    "normalization={ 'type':'normalization', 'desc': desc }\n",
    "# normalization={'type':'standardization', 'desc':desc }\n",
    "\n",
    "augmentations = None\n",
    "augmentations_inplace = True\n",
    "# enable augmentations in mri seq (otherwise it can be enabled in dataset)\n",
    "# augmentations={ 'random_swap_hemispheres': 0.5 }\n",
    "\n",
    "# initialize sequences\n",
    "print('initializing train_seq...')\n",
    "train_seq = MRISequence(\n",
    "    train_dir,\n",
    "    batch_size,\n",
    "    class_names=class_names,\n",
    "    augmentations=augmentations,\n",
    "    augmentations_inplace=augmentations_inplace,\n",
    "    input_shape=input_shape,\n",
    "    resize_img=resize_img,\n",
    "    crop_img=crop_img,\n",
    "    one_hot=one_hot,\n",
    "    class_weights=class_weights,\n",
    "    normalization=normalization)\n",
    "\n",
    "print('initializing test_seq...')\n",
    "test_seq = MRISequence(\n",
    "    test_dir,\n",
    "    batch_size,\n",
    "    class_names=class_names,\n",
    "    input_shape=input_shape,\n",
    "    resize_img=resize_img,\n",
    "    crop_img=crop_img,\n",
    "    one_hot=one_hot,\n",
    "    normalization=normalization)\n",
    "\n",
    "if val:\n",
    "    print('initializing val_seq...')\n",
    "    val_seq = MRISequence(\n",
    "        val_dir,\n",
    "        batch_size,\n",
    "        class_names=class_names,\n",
    "        input_shape=input_shape,\n",
    "        resize_img=resize_img,\n",
    "        crop_img=crop_img,\n",
    "        one_hot=one_hot,\n",
    "        class_weights=class_weights,\n",
    "        normalization=normalization)\n",
    "else:\n",
    "    print('val_seq = test_seq')\n",
    "    val_seq = test_seq\n",
    "    \n",
    "model_key = datetime.datetime.now().strftime('%Y%m%d-%H%M%S')\n",
    "log_dir = os.path.join(LOG_DIRECTORY, model_key)\n",
    "print(f'log_dir: {log_dir}')"
   ]
  },
  {
   "cell_type": "code",
   "execution_count": 4,
   "metadata": {},
   "outputs": [],
   "source": [
    "# https://www.tensorflow.org/tutorials/structured_data/imbalanced_data#class_weights\n",
    "# pos / neg\n",
    "initial_bias = np.log([159/243, 243/159])\n",
    "\n",
    "model_type = 'ResNet50V2'\n",
    "model_config = {\n",
    "    'input_shape': input_shape,\n",
    "    'class_names': class_names,\n",
    "#     'l2_beta': 0.001,\n",
    "#     'l2_beta': 0.0005,\n",
    "#     'l2_beta': None,\n",
    "#     'dropout': 0.10,\n",
    "#     'dropout': None,\n",
    "    'output_bias': initial_bias,\n",
    "#     'output_bias': None,\n",
    "    # https://www.tensorflow.org/api_docs/python/tf/keras/layers/BatchNormalization\n",
    "}\n",
    "\n",
    "compile_config = {\n",
    "    # default is 0.001\n",
    "#     'learning_rate': 0.000075,\n",
    "    'learning_rate': 0.00025,\n",
    "    'decay_steps': 25,\n",
    "    'decay_rate': 0.96,\n",
    "#     'beta_1': 0.85,\n",
    "    'beta_1': 0.90,\n",
    "#     'beta_2': 0.990,\n",
    "    'beta_2': 0.999,\n",
    "}\n",
    "\n",
    "train_config = {\n",
    "    'model_key': model_key,\n",
    "    'epochs': 200,\n",
    "    'patience': 25,\n",
    "    'tensorboard_update_freq': 'epoch',\n",
    "    'mri_tensorboard_callback': False,\n",
    "    'model_checkpoint_callback': {'monitor': 'val_auc', 'mode': 'max', 'save_best_only': True},\n",
    "    'early_stopping_monitor': {'monitor': 'val_auc', 'mode': 'max'},\n",
    "#     'augmentations': {\n",
    "#         'invert': (0.5, None),\n",
    "#         'rotate': (0.2, 5), # probability, degrees\n",
    "#         'zoom': (0.2, 0.015),\n",
    "#         'shear': (0, 2.5), # probability, degrees\n",
    "#         'blur': (0.2, 0.8),\n",
    "#         'noise': (0.2, 0.00025)\n",
    "#     },\n",
    "    'augmentations': False,\n",
    "    'batch_size': 10,\n",
    "#     'model_checkpoint_callback': False,\n",
    "}"
   ]
  },
  {
   "cell_type": "markdown",
   "metadata": {},
   "source": [
    "## Train"
   ]
  },
  {
   "cell_type": "code",
   "execution_count": 5,
   "metadata": {
    "scrolled": false
   },
   "outputs": [
    {
     "name": "stderr",
     "output_type": "stream",
     "text": [
      "C:\\Users\\xzatko\\anaconda3\\envs\\dp-timzatko\\lib\\site-packages\\tensorflow\\python\\keras\\applications\\imagenet_utils.py:333: UserWarning: This model usually expects 1 or 3 input channels. However, it was passed an input_shape with 104 input channels.\n",
      "  str(input_shape[-1]) + ' input channels.')\n"
     ]
    },
    {
     "name": "stdout",
     "output_type": "stream",
     "text": [
      "Model: \"sequential\"\n",
      "_________________________________________________________________\n",
      "Layer (type)                 Output Shape              Param #   \n",
      "=================================================================\n",
      "resnet50v2 (Functional)      (None, 1024)              25979712  \n",
      "_________________________________________________________________\n",
      "dense (Dense)                (None, 512)               524800    \n",
      "_________________________________________________________________\n",
      "dense_1 (Dense)              (None, 256)               131328    \n",
      "_________________________________________________________________\n",
      "dense_2 (Dense)              (None, 2)                 514       \n",
      "=================================================================\n",
      "Total params: 26,636,354\n",
      "Trainable params: 26,590,914\n",
      "Non-trainable params: 45,440\n",
      "_________________________________________________________________\n"
     ]
    }
   ],
   "source": [
    "model = create_model(model_type, model_config)\n",
    "model, *_ = compile_model(model, **compile_config)\n",
    "model.build(input_shape=input_shape)\n",
    "model.summary()"
   ]
  },
  {
   "cell_type": "code",
   "execution_count": 6,
   "metadata": {},
   "outputs": [],
   "source": [
    "# load_checkpoint(model, DEFAULT_CHECKPOINT_DIRECTORY_LOCAL, '20201213-182225', 'cp-0002.ckpt')"
   ]
  },
  {
   "cell_type": "code",
   "execution_count": 7,
   "metadata": {},
   "outputs": [
    {
     "name": "stdout",
     "output_type": "stream",
     "text": [
      "['/device:GPU:0']\n"
     ]
    }
   ],
   "source": [
    "from tensorflow.python.client import device_lib\n",
    "\n",
    "def get_available_gpus():\n",
    "    local_device_protos = device_lib.list_local_devices()\n",
    "    return [x.name for x in local_device_protos if x.device_type == 'GPU']\n",
    "\n",
    "print(get_available_gpus())"
   ]
  },
  {
   "cell_type": "code",
   "execution_count": 8,
   "metadata": {
    "scrolled": false
   },
   "outputs": [
    {
     "name": "stdout",
     "output_type": "stream",
     "text": [
      "model key: 20201216-143858\n",
      "checkpoint dir: ../../tmp\\checkpoints\\20201216-143858\n",
      "log dir: ../../tmp\\logs\\20201216-143858\n",
      "loading ../../tmp\\data-v3\\train_x.npy, ../../tmp\\data-v3\\train_y.npy...\n",
      "loading ../../tmp\\data-v3\\val_x.npy, ../../tmp\\data-v3\\val_y.npy...\n",
      "training...\n",
      "Epoch 1/200\n",
      "41/41 [==============================] - ETA: 0s - loss: 0.7492 - recall: 0.3806 - precision: 0.3806 - auc: 0.3535 - categorical_accuracy: 0.3806\n",
      "Epoch 00001: val_auc improved from -inf to 0.38000, saving model to ../../tmp\\checkpoints\\20201216-143858\\cp-0001.ckpt\n",
      "41/41 [==============================] - 7s 171ms/step - loss: 0.7492 - recall: 0.3806 - precision: 0.3806 - auc: 0.3535 - categorical_accuracy: 0.3806 - val_loss: 0.7234 - val_recall: 0.3800 - val_precision: 0.3800 - val_auc: 0.3800 - val_categorical_accuracy: 0.3800\n",
      "Epoch 2/200\n",
      "40/41 [============================>.] - ETA: 0s - loss: 0.7046 - recall: 0.4500 - precision: 0.4500 - auc: 0.4031 - categorical_accuracy: 0.4500\n",
      "Epoch 00002: val_auc improved from 0.38000 to 0.43625, saving model to ../../tmp\\checkpoints\\20201216-143858\\cp-0002.ckpt\n",
      "41/41 [==============================] - 5s 113ms/step - loss: 0.7039 - recall: 0.4502 - precision: 0.4502 - auc: 0.4032 - categorical_accuracy: 0.4502 - val_loss: 0.6907 - val_recall: 0.4200 - val_precision: 0.4200 - val_auc: 0.4363 - val_categorical_accuracy: 0.4200\n",
      "Epoch 3/200\n",
      "40/41 [============================>.] - ETA: 0s - loss: 0.6918 - recall: 0.5775 - precision: 0.5775 - auc: 0.5861 - categorical_accuracy: 0.5775\n",
      "Epoch 00003: val_auc did not improve from 0.43625\n",
      "41/41 [==============================] - 3s 76ms/step - loss: 0.6912 - recall: 0.5771 - precision: 0.5771 - auc: 0.5855 - categorical_accuracy: 0.5771 - val_loss: 0.6982 - val_recall: 0.3800 - val_precision: 0.3800 - val_auc: 0.3800 - val_categorical_accuracy: 0.3800\n",
      "Epoch 4/200\n",
      "40/41 [============================>.] - ETA: 0s - loss: 0.6776 - recall: 0.6500 - precision: 0.6500 - auc: 0.6237 - categorical_accuracy: 0.6500\n",
      "Epoch 00004: val_auc did not improve from 0.43625\n",
      "41/41 [==============================] - 3s 76ms/step - loss: 0.6766 - recall: 0.6517 - precision: 0.6517 - auc: 0.6245 - categorical_accuracy: 0.6517 - val_loss: 0.7592 - val_recall: 0.3800 - val_precision: 0.3800 - val_auc: 0.3946 - val_categorical_accuracy: 0.3800\n",
      "Epoch 5/200\n",
      "40/41 [============================>.] - ETA: 0s - loss: 0.6935 - recall: 0.5775 - precision: 0.5775 - auc: 0.5486 - categorical_accuracy: 0.5775\n",
      "Epoch 00005: val_auc did not improve from 0.43625\n",
      "41/41 [==============================] - 3s 76ms/step - loss: 0.6932 - recall: 0.5771 - precision: 0.5771 - auc: 0.5464 - categorical_accuracy: 0.5771 - val_loss: 0.7091 - val_recall: 0.4200 - val_precision: 0.4200 - val_auc: 0.4143 - val_categorical_accuracy: 0.4200\n",
      "Epoch 6/200\n",
      "40/41 [============================>.] - ETA: 0s - loss: 0.6718 - recall: 0.6300 - precision: 0.6300 - auc: 0.6131 - categorical_accuracy: 0.6300\n",
      "Epoch 00006: val_auc did not improve from 0.43625\n",
      "41/41 [==============================] - 3s 75ms/step - loss: 0.6712 - recall: 0.6294 - precision: 0.6294 - auc: 0.6135 - categorical_accuracy: 0.6294 - val_loss: 0.7398 - val_recall: 0.4000 - val_precision: 0.4000 - val_auc: 0.4012 - val_categorical_accuracy: 0.4000\n",
      "Epoch 7/200\n",
      "40/41 [============================>.] - ETA: 0s - loss: 0.6446 - recall: 0.6875 - precision: 0.6875 - auc: 0.6852 - categorical_accuracy: 0.6875\n",
      "Epoch 00007: val_auc did not improve from 0.43625\n",
      "41/41 [==============================] - 3s 75ms/step - loss: 0.6447 - recall: 0.6866 - precision: 0.6866 - auc: 0.6831 - categorical_accuracy: 0.6866 - val_loss: 0.7681 - val_recall: 0.4600 - val_precision: 0.4600 - val_auc: 0.3898 - val_categorical_accuracy: 0.4600\n",
      "Epoch 8/200\n",
      "40/41 [============================>.] - ETA: 0s - loss: 0.6321 - recall: 0.6925 - precision: 0.6925 - auc: 0.7103 - categorical_accuracy: 0.6925\n",
      "Epoch 00008: val_auc improved from 0.43625 to 0.62105, saving model to ../../tmp\\checkpoints\\20201216-143858\\cp-0008.ckpt\n",
      "41/41 [==============================] - 5s 112ms/step - loss: 0.6329 - recall: 0.6915 - precision: 0.6915 - auc: 0.7074 - categorical_accuracy: 0.6915 - val_loss: 0.7064 - val_recall: 0.6300 - val_precision: 0.6300 - val_auc: 0.6211 - val_categorical_accuracy: 0.6300\n",
      "Epoch 9/200\n",
      "40/41 [============================>.] - ETA: 0s - loss: 0.6410 - recall: 0.6775 - precision: 0.6775 - auc: 0.6922 - categorical_accuracy: 0.6775\n",
      "Epoch 00009: val_auc improved from 0.62105 to 0.63990, saving model to ../../tmp\\checkpoints\\20201216-143858\\cp-0009.ckpt\n",
      "41/41 [==============================] - 5s 113ms/step - loss: 0.6403 - recall: 0.6766 - precision: 0.6766 - auc: 0.6926 - categorical_accuracy: 0.6766 - val_loss: 0.7071 - val_recall: 0.6300 - val_precision: 0.6300 - val_auc: 0.6399 - val_categorical_accuracy: 0.6300\n",
      "Epoch 10/200\n",
      "40/41 [============================>.] - ETA: 0s - loss: 0.5848 - recall: 0.7375 - precision: 0.7375 - auc: 0.7520 - categorical_accuracy: 0.7375\n",
      "Epoch 00010: val_auc did not improve from 0.63990\n",
      "41/41 [==============================] - 3s 75ms/step - loss: 0.5841 - recall: 0.7388 - precision: 0.7388 - auc: 0.7525 - categorical_accuracy: 0.7388 - val_loss: 0.7538 - val_recall: 0.6200 - val_precision: 0.6200 - val_auc: 0.6200 - val_categorical_accuracy: 0.6200\n",
      "Epoch 11/200\n",
      "40/41 [============================>.] - ETA: 0s - loss: 0.5884 - recall: 0.7325 - precision: 0.7325 - auc: 0.7716 - categorical_accuracy: 0.7325\n",
      "Epoch 00011: val_auc did not improve from 0.63990\n",
      "41/41 [==============================] - 3s 75ms/step - loss: 0.5888 - recall: 0.7313 - precision: 0.7313 - auc: 0.7690 - categorical_accuracy: 0.7313 - val_loss: 0.7482 - val_recall: 0.6100 - val_precision: 0.6100 - val_auc: 0.6242 - val_categorical_accuracy: 0.6100\n",
      "Epoch 12/200\n",
      "40/41 [============================>.] - ETA: 0s - loss: 0.5086 - recall: 0.8050 - precision: 0.8050 - auc: 0.8573 - categorical_accuracy: 0.8050\n",
      "Epoch 00012: val_auc did not improve from 0.63990\n",
      "41/41 [==============================] - 3s 75ms/step - loss: 0.5093 - recall: 0.8035 - precision: 0.8035 - auc: 0.8544 - categorical_accuracy: 0.8035 - val_loss: 0.7914 - val_recall: 0.6200 - val_precision: 0.6200 - val_auc: 0.6236 - val_categorical_accuracy: 0.6200\n",
      "Epoch 13/200\n",
      "40/41 [============================>.] - ETA: 0s - loss: 0.4146 - recall: 0.8600 - precision: 0.8600 - auc: 0.8929 - categorical_accuracy: 0.8600\n",
      "Epoch 00013: val_auc improved from 0.63990 to 0.64970, saving model to ../../tmp\\checkpoints\\20201216-143858\\cp-0013.ckpt\n",
      "41/41 [==============================] - 5s 112ms/step - loss: 0.4155 - recall: 0.8582 - precision: 0.8582 - auc: 0.8923 - categorical_accuracy: 0.8582 - val_loss: 0.8505 - val_recall: 0.6500 - val_precision: 0.6500 - val_auc: 0.6497 - val_categorical_accuracy: 0.6500\n",
      "Epoch 14/200\n",
      "40/41 [============================>.] - ETA: 0s - loss: 0.3552 - recall: 0.8950 - precision: 0.8950 - auc: 0.9111 - categorical_accuracy: 0.8950\n",
      "Epoch 00014: val_auc improved from 0.64970 to 0.68820, saving model to ../../tmp\\checkpoints\\20201216-143858\\cp-0014.ckpt\n",
      "41/41 [==============================] - 5s 112ms/step - loss: 0.3545 - recall: 0.8955 - precision: 0.8955 - auc: 0.9114 - categorical_accuracy: 0.8955 - val_loss: 0.6996 - val_recall: 0.6600 - val_precision: 0.6600 - val_auc: 0.6882 - val_categorical_accuracy: 0.6600\n",
      "Epoch 15/200\n",
      "40/41 [============================>.] - ETA: 0s - loss: 0.3627 - recall: 0.8800 - precision: 0.8800 - auc: 0.9174 - categorical_accuracy: 0.8800\n",
      "Epoch 00015: val_auc improved from 0.68820 to 0.70470, saving model to ../../tmp\\checkpoints\\20201216-143858\\cp-0015.ckpt\n",
      "41/41 [==============================] - 5s 114ms/step - loss: 0.3620 - recall: 0.8806 - precision: 0.8806 - auc: 0.9174 - categorical_accuracy: 0.8806 - val_loss: 0.7869 - val_recall: 0.6900 - val_precision: 0.6900 - val_auc: 0.7047 - val_categorical_accuracy: 0.6900\n",
      "Epoch 16/200\n",
      "40/41 [============================>.] - ETA: 0s - loss: 0.3778 - recall: 0.8625 - precision: 0.8625 - auc: 0.8993 - categorical_accuracy: 0.8625\n",
      "Epoch 00016: val_auc did not improve from 0.70470\n",
      "41/41 [==============================] - 3s 76ms/step - loss: 0.3779 - recall: 0.8607 - precision: 0.8607 - auc: 0.8992 - categorical_accuracy: 0.8607 - val_loss: 1.0251 - val_recall: 0.5200 - val_precision: 0.5200 - val_auc: 0.5183 - val_categorical_accuracy: 0.5200\n"
     ]
    },
    {
     "name": "stdout",
     "output_type": "stream",
     "text": [
      "Epoch 17/200\n",
      "40/41 [============================>.] - ETA: 0s - loss: 0.2928 - recall: 0.9000 - precision: 0.9000 - auc: 0.9359 - categorical_accuracy: 0.9000\n",
      "Epoch 00017: val_auc improved from 0.70470 to 0.73190, saving model to ../../tmp\\checkpoints\\20201216-143858\\cp-0017.ckpt\n",
      "41/41 [==============================] - 5s 114ms/step - loss: 0.2939 - recall: 0.8980 - precision: 0.8980 - auc: 0.9358 - categorical_accuracy: 0.8980 - val_loss: 0.7334 - val_recall: 0.7400 - val_precision: 0.7400 - val_auc: 0.7319 - val_categorical_accuracy: 0.7400\n",
      "Epoch 18/200\n",
      "40/41 [============================>.] - ETA: 0s - loss: 0.2775 - recall: 0.9075 - precision: 0.9075 - auc: 0.9443 - categorical_accuracy: 0.9075\n",
      "Epoch 00018: val_auc did not improve from 0.73190\n",
      "41/41 [==============================] - 3s 77ms/step - loss: 0.2767 - recall: 0.9080 - precision: 0.9080 - auc: 0.9444 - categorical_accuracy: 0.9080 - val_loss: 0.7699 - val_recall: 0.7000 - val_precision: 0.7000 - val_auc: 0.7273 - val_categorical_accuracy: 0.7000\n",
      "Epoch 19/200\n",
      "40/41 [============================>.] - ETA: 0s - loss: 0.2345 - recall: 0.9400 - precision: 0.9400 - auc: 0.9525 - categorical_accuracy: 0.9400\n",
      "Epoch 00019: val_auc did not improve from 0.73190\n",
      "41/41 [==============================] - 3s 77ms/step - loss: 0.2338 - recall: 0.9403 - precision: 0.9403 - auc: 0.9527 - categorical_accuracy: 0.9403 - val_loss: 0.9651 - val_recall: 0.6400 - val_precision: 0.6400 - val_auc: 0.6403 - val_categorical_accuracy: 0.6400\n",
      "Epoch 20/200\n",
      "40/41 [============================>.] - ETA: 0s - loss: 0.2215 - recall: 0.9475 - precision: 0.9475 - auc: 0.9471 - categorical_accuracy: 0.9475\n",
      "Epoch 00020: val_auc did not improve from 0.73190\n",
      "41/41 [==============================] - 3s 76ms/step - loss: 0.2209 - recall: 0.9478 - precision: 0.9478 - auc: 0.9473 - categorical_accuracy: 0.9478 - val_loss: 0.9103 - val_recall: 0.6700 - val_precision: 0.6700 - val_auc: 0.6798 - val_categorical_accuracy: 0.6700\n",
      "Epoch 21/200\n",
      "40/41 [============================>.] - ETA: 0s - loss: 0.2005 - recall: 0.9550 - precision: 0.9550 - auc: 0.9544 - categorical_accuracy: 0.9550\n",
      "Epoch 00021: val_auc did not improve from 0.73190\n",
      "41/41 [==============================] - 3s 76ms/step - loss: 0.1999 - recall: 0.9552 - precision: 0.9552 - auc: 0.9545 - categorical_accuracy: 0.9552 - val_loss: 0.9437 - val_recall: 0.6600 - val_precision: 0.6600 - val_auc: 0.6866 - val_categorical_accuracy: 0.6600\n",
      "Epoch 22/200\n",
      "40/41 [============================>.] - ETA: 0s - loss: 0.1922 - recall: 0.9575 - precision: 0.9575 - auc: 0.9576 - categorical_accuracy: 0.9575\n",
      "Epoch 00022: val_auc did not improve from 0.73190\n",
      "41/41 [==============================] - 3s 76ms/step - loss: 0.1916 - recall: 0.9577 - precision: 0.9577 - auc: 0.9577 - categorical_accuracy: 0.9577 - val_loss: 0.9624 - val_recall: 0.6800 - val_precision: 0.6800 - val_auc: 0.6758 - val_categorical_accuracy: 0.6800\n",
      "Epoch 23/200\n",
      "40/41 [============================>.] - ETA: 0s - loss: 0.1911 - recall: 0.9575 - precision: 0.9575 - auc: 0.9591 - categorical_accuracy: 0.9575\n",
      "Epoch 00023: val_auc did not improve from 0.73190\n",
      "41/41 [==============================] - 3s 76ms/step - loss: 0.1906 - recall: 0.9577 - precision: 0.9577 - auc: 0.9592 - categorical_accuracy: 0.9577 - val_loss: 0.9595 - val_recall: 0.6900 - val_precision: 0.6900 - val_auc: 0.6851 - val_categorical_accuracy: 0.6900\n",
      "Epoch 24/200\n",
      "40/41 [============================>.] - ETA: 0s - loss: 0.1905 - recall: 0.9575 - precision: 0.9575 - auc: 0.9558 - categorical_accuracy: 0.9575\n",
      "Epoch 00024: val_auc did not improve from 0.73190\n",
      "41/41 [==============================] - 3s 76ms/step - loss: 0.1899 - recall: 0.9577 - precision: 0.9577 - auc: 0.9559 - categorical_accuracy: 0.9577 - val_loss: 0.9557 - val_recall: 0.7000 - val_precision: 0.7000 - val_auc: 0.6919 - val_categorical_accuracy: 0.7000\n",
      "Epoch 25/200\n",
      "40/41 [============================>.] - ETA: 0s - loss: 0.1901 - recall: 0.9575 - precision: 0.9575 - auc: 0.9589 - categorical_accuracy: 0.9575\n",
      "Epoch 00025: val_auc did not improve from 0.73190\n",
      "41/41 [==============================] - 3s 75ms/step - loss: 0.1896 - recall: 0.9577 - precision: 0.9577 - auc: 0.9590 - categorical_accuracy: 0.9577 - val_loss: 0.9547 - val_recall: 0.7000 - val_precision: 0.7000 - val_auc: 0.6951 - val_categorical_accuracy: 0.7000\n",
      "Epoch 26/200\n",
      "40/41 [============================>.] - ETA: 0s - loss: 0.1899 - recall: 0.9575 - precision: 0.9575 - auc: 0.9603 - categorical_accuracy: 0.9575\n",
      "Epoch 00026: val_auc did not improve from 0.73190\n",
      "41/41 [==============================] - 3s 75ms/step - loss: 0.1894 - recall: 0.9577 - precision: 0.9577 - auc: 0.9604 - categorical_accuracy: 0.9577 - val_loss: 0.9581 - val_recall: 0.7000 - val_precision: 0.7000 - val_auc: 0.6920 - val_categorical_accuracy: 0.7000\n",
      "Epoch 27/200\n",
      "40/41 [============================>.] - ETA: 0s - loss: 0.1897 - recall: 0.9575 - precision: 0.9575 - auc: 0.9618 - categorical_accuracy: 0.9575\n",
      "Epoch 00027: val_auc did not improve from 0.73190\n",
      "41/41 [==============================] - 3s 76ms/step - loss: 0.1892 - recall: 0.9577 - precision: 0.9577 - auc: 0.9620 - categorical_accuracy: 0.9577 - val_loss: 0.9611 - val_recall: 0.7000 - val_precision: 0.7000 - val_auc: 0.6998 - val_categorical_accuracy: 0.7000\n",
      "Epoch 28/200\n",
      "40/41 [============================>.] - ETA: 0s - loss: 0.1896 - recall: 0.9575 - precision: 0.9575 - auc: 0.9659 - categorical_accuracy: 0.9575\n",
      "Epoch 00028: val_auc did not improve from 0.73190\n",
      "41/41 [==============================] - 3s 75ms/step - loss: 0.1890 - recall: 0.9577 - precision: 0.9577 - auc: 0.9660 - categorical_accuracy: 0.9577 - val_loss: 0.9636 - val_recall: 0.7000 - val_precision: 0.7000 - val_auc: 0.7011 - val_categorical_accuracy: 0.7000\n",
      "Epoch 29/200\n",
      "40/41 [============================>.] - ETA: 0s - loss: 0.1895 - recall: 0.9575 - precision: 0.9575 - auc: 0.9670 - categorical_accuracy: 0.9575\n",
      "Epoch 00029: val_auc did not improve from 0.73190\n",
      "41/41 [==============================] - 3s 75ms/step - loss: 0.1889 - recall: 0.9577 - precision: 0.9577 - auc: 0.9671 - categorical_accuracy: 0.9577 - val_loss: 0.9668 - val_recall: 0.7000 - val_precision: 0.7000 - val_auc: 0.6971 - val_categorical_accuracy: 0.7000\n",
      "Epoch 30/200\n",
      "40/41 [============================>.] - ETA: 0s - loss: 0.1894 - recall: 0.9575 - precision: 0.9575 - auc: 0.9673 - categorical_accuracy: 0.9575\n",
      "Epoch 00030: val_auc did not improve from 0.73190\n",
      "41/41 [==============================] - 3s 75ms/step - loss: 0.1888 - recall: 0.9577 - precision: 0.9577 - auc: 0.9674 - categorical_accuracy: 0.9577 - val_loss: 0.9698 - val_recall: 0.7000 - val_precision: 0.7000 - val_auc: 0.6985 - val_categorical_accuracy: 0.7000\n",
      "Epoch 31/200\n",
      "40/41 [============================>.] - ETA: 0s - loss: 0.1893 - recall: 0.9575 - precision: 0.9575 - auc: 0.9674 - categorical_accuracy: 0.9575\n",
      "Epoch 00031: val_auc did not improve from 0.73190\n",
      "41/41 [==============================] - 3s 75ms/step - loss: 0.1887 - recall: 0.9577 - precision: 0.9577 - auc: 0.9675 - categorical_accuracy: 0.9577 - val_loss: 0.9725 - val_recall: 0.7000 - val_precision: 0.7000 - val_auc: 0.6985 - val_categorical_accuracy: 0.7000\n",
      "Epoch 32/200\n",
      "40/41 [============================>.] - ETA: 0s - loss: 0.1892 - recall: 0.9575 - precision: 0.9575 - auc: 0.9674 - categorical_accuracy: 0.9575\n",
      "Epoch 00032: val_auc did not improve from 0.73190\n",
      "41/41 [==============================] - 3s 76ms/step - loss: 0.1886 - recall: 0.9577 - precision: 0.9577 - auc: 0.9675 - categorical_accuracy: 0.9577 - val_loss: 0.9750 - val_recall: 0.7000 - val_precision: 0.7000 - val_auc: 0.6985 - val_categorical_accuracy: 0.7000\n",
      "Epoch 33/200\n",
      "40/41 [============================>.] - ETA: 0s - loss: 0.1891 - recall: 0.9575 - precision: 0.9575 - auc: 0.9674 - categorical_accuracy: 0.9575\n",
      "Epoch 00033: val_auc did not improve from 0.73190\n",
      "41/41 [==============================] - 3s 75ms/step - loss: 0.1886 - recall: 0.9577 - precision: 0.9577 - auc: 0.9675 - categorical_accuracy: 0.9577 - val_loss: 0.9772 - val_recall: 0.7000 - val_precision: 0.7000 - val_auc: 0.6984 - val_categorical_accuracy: 0.7000\n",
      "Epoch 34/200\n"
     ]
    },
    {
     "name": "stdout",
     "output_type": "stream",
     "text": [
      "40/41 [============================>.] - ETA: 0s - loss: 0.1891 - recall: 0.9575 - precision: 0.9575 - auc: 0.9674 - categorical_accuracy: 0.9575\n",
      "Epoch 00034: val_auc did not improve from 0.73190\n",
      "41/41 [==============================] - 3s 76ms/step - loss: 0.1885 - recall: 0.9577 - precision: 0.9577 - auc: 0.9675 - categorical_accuracy: 0.9577 - val_loss: 0.9793 - val_recall: 0.7000 - val_precision: 0.7000 - val_auc: 0.6977 - val_categorical_accuracy: 0.7000\n",
      "Epoch 35/200\n",
      "40/41 [============================>.] - ETA: 0s - loss: 0.1890 - recall: 0.9575 - precision: 0.9575 - auc: 0.9674 - categorical_accuracy: 0.9575\n",
      "Epoch 00035: val_auc did not improve from 0.73190\n",
      "41/41 [==============================] - 3s 76ms/step - loss: 0.1885 - recall: 0.9577 - precision: 0.9577 - auc: 0.9675 - categorical_accuracy: 0.9577 - val_loss: 0.9812 - val_recall: 0.7000 - val_precision: 0.7000 - val_auc: 0.6960 - val_categorical_accuracy: 0.7000\n",
      "Epoch 36/200\n",
      "40/41 [============================>.] - ETA: 0s - loss: 0.1890 - recall: 0.9575 - precision: 0.9575 - auc: 0.9674 - categorical_accuracy: 0.9575\n",
      "Epoch 00036: val_auc did not improve from 0.73190\n",
      "41/41 [==============================] - 3s 76ms/step - loss: 0.1884 - recall: 0.9577 - precision: 0.9577 - auc: 0.9675 - categorical_accuracy: 0.9577 - val_loss: 0.9828 - val_recall: 0.7000 - val_precision: 0.7000 - val_auc: 0.6957 - val_categorical_accuracy: 0.7000\n",
      "Epoch 37/200\n",
      "40/41 [============================>.] - ETA: 0s - loss: 0.1890 - recall: 0.9575 - precision: 0.9575 - auc: 0.9674 - categorical_accuracy: 0.9575\n",
      "Epoch 00037: val_auc did not improve from 0.73190\n",
      "41/41 [==============================] - 3s 76ms/step - loss: 0.1884 - recall: 0.9577 - precision: 0.9577 - auc: 0.9675 - categorical_accuracy: 0.9577 - val_loss: 0.9844 - val_recall: 0.7000 - val_precision: 0.7000 - val_auc: 0.6919 - val_categorical_accuracy: 0.7000\n",
      "Epoch 38/200\n",
      "40/41 [============================>.] - ETA: 0s - loss: 0.1889 - recall: 0.9575 - precision: 0.9575 - auc: 0.9674 - categorical_accuracy: 0.9575\n",
      "Epoch 00038: val_auc did not improve from 0.73190\n",
      "41/41 [==============================] - 3s 76ms/step - loss: 0.1884 - recall: 0.9577 - precision: 0.9577 - auc: 0.9675 - categorical_accuracy: 0.9577 - val_loss: 0.9858 - val_recall: 0.7000 - val_precision: 0.7000 - val_auc: 0.6919 - val_categorical_accuracy: 0.7000\n",
      "Epoch 39/200\n",
      "40/41 [============================>.] - ETA: 0s - loss: 0.1889 - recall: 0.9575 - precision: 0.9575 - auc: 0.9674 - categorical_accuracy: 0.9575\n",
      "Epoch 00039: val_auc did not improve from 0.73190\n",
      "41/41 [==============================] - 3s 76ms/step - loss: 0.1883 - recall: 0.9577 - precision: 0.9577 - auc: 0.9675 - categorical_accuracy: 0.9577 - val_loss: 0.9870 - val_recall: 0.7000 - val_precision: 0.7000 - val_auc: 0.6919 - val_categorical_accuracy: 0.7000\n",
      "Epoch 40/200\n",
      "40/41 [============================>.] - ETA: 0s - loss: 0.1889 - recall: 0.9575 - precision: 0.9575 - auc: 0.9674 - categorical_accuracy: 0.9575\n",
      "Epoch 00040: val_auc did not improve from 0.73190\n",
      "41/41 [==============================] - 3s 77ms/step - loss: 0.1883 - recall: 0.9577 - precision: 0.9577 - auc: 0.9675 - categorical_accuracy: 0.9577 - val_loss: 0.9882 - val_recall: 0.7000 - val_precision: 0.7000 - val_auc: 0.6878 - val_categorical_accuracy: 0.7000\n",
      "Epoch 41/200\n",
      "40/41 [============================>.] - ETA: 0s - loss: 0.1888 - recall: 0.9575 - precision: 0.9575 - auc: 0.9674 - categorical_accuracy: 0.9575\n",
      "Epoch 00041: val_auc did not improve from 0.73190\n",
      "41/41 [==============================] - 3s 76ms/step - loss: 0.1883 - recall: 0.9577 - precision: 0.9577 - auc: 0.9675 - categorical_accuracy: 0.9577 - val_loss: 0.9892 - val_recall: 0.7000 - val_precision: 0.7000 - val_auc: 0.6878 - val_categorical_accuracy: 0.7000\n",
      "Epoch 42/200\n",
      "40/41 [============================>.] - ETA: 0s - loss: 0.1888 - recall: 0.9575 - precision: 0.9575 - auc: 0.9674 - categorical_accuracy: 0.9575\n",
      "Epoch 00042: val_auc did not improve from 0.73190\n",
      "41/41 [==============================] - 3s 78ms/step - loss: 0.1882 - recall: 0.9577 - precision: 0.9577 - auc: 0.9675 - categorical_accuracy: 0.9577 - val_loss: 0.9901 - val_recall: 0.7000 - val_precision: 0.7000 - val_auc: 0.6877 - val_categorical_accuracy: 0.7000\n",
      "Wall time: 3min 24s\n"
     ]
    }
   ],
   "source": [
    "%%time\n",
    "\n",
    "model, checkpoint_dir, history = train(\n",
    "    model,\n",
    "    train_seq,\n",
    "    test_seq,\n",
    "    CHECKPOINT_DIRECTORY,\n",
    "    LOG_DIRECTORY,\n",
    "    DATA_DIR,\n",
    "    **train_config\n",
    ")"
   ]
  },
  {
   "cell_type": "markdown",
   "metadata": {},
   "source": [
    "## Evaluation"
   ]
  },
  {
   "cell_type": "code",
   "execution_count": 9,
   "metadata": {
    "scrolled": false
   },
   "outputs": [
    {
     "name": "stdout",
     "output_type": "stream",
     "text": [
      "Wall time: 137 ms\n"
     ]
    },
    {
     "data": {
      "image/png": "[encoded data removed]",
      "text/plain": [
       "<Figure size 864x1080 with 5 Axes>"
      ]
     },
     "metadata": {
      "needs_background": "light"
     },
     "output_type": "display_data"
    }
   ],
   "source": [
    "%%time\n",
    "\n",
    "plot_training_history(history)"
   ]
  },
  {
   "cell_type": "code",
   "execution_count": 10,
   "metadata": {
    "scrolled": true
   },
   "outputs": [
    {
     "name": "stdout",
     "output_type": "stream",
     "text": [
      "loss: 0.6705188751220703\n",
      "recall: 0.7400000095367432\n",
      "precision: 0.7400000095367432\n",
      "auc: 0.7319000363349915\n",
      "categorical_accuracy: 0.7400000095367432\n",
      "\n",
      "Wall time: 26 s\n"
     ]
    }
   ],
   "source": [
    "%%time\n",
    "\n",
    "show_simple_metrics(model, test_seq)"
   ]
  },
  {
   "cell_type": "code",
   "execution_count": 11,
   "metadata": {
    "scrolled": false
   },
   "outputs": [
    {
     "name": "stdout",
     "output_type": "stream",
     "text": [
      "In binary classification, recall of the positive class is also known as “sensitivity”; recall of the negative class is “specificity”. (https://scikit-learn.org/stable/modules/generated/sklearn.metrics.classification_report.html)\n",
      "\u001b[1mAD\u001b[0m\n",
      "precision: 0.75\n",
      "recall: 0.8709677419354839\n",
      "f1-score: 0.8059701492537312\n",
      "support: 62\n",
      "\n",
      "\n",
      "\u001b[1mCN\u001b[0m\n",
      "precision: 0.7142857142857143\n",
      "recall: 0.5263157894736842\n",
      "f1-score: 0.6060606060606061\n",
      "support: 38\n",
      "\n",
      "\n",
      "\u001b[1mmicro avg\u001b[0m\n",
      "precision: 0.74\n",
      "recall: 0.74\n",
      "f1-score: 0.74\n",
      "support: 100\n",
      "\n",
      "\n",
      "\u001b[1mmacro avg\u001b[0m\n",
      "precision: 0.7321428571428572\n",
      "recall: 0.698641765704584\n",
      "f1-score: 0.7060153776571687\n",
      "support: 100\n",
      "\n",
      "\n",
      "\u001b[1mweighted avg\u001b[0m\n",
      "precision: 0.7364285714285714\n",
      "recall: 0.74\n",
      "f1-score: 0.7300045228403437\n",
      "support: 100\n",
      "\n",
      "\n",
      "\u001b[1msamples avg\u001b[0m\n",
      "precision: 0.74\n",
      "recall: 0.74\n",
      "f1-score: 0.74\n",
      "support: 100\n",
      "\n",
      "\n",
      "\u001b[1mF1\u001b[0m\n",
      "micro: 0.74\n",
      "macro: 0.7060153776571687\n",
      "\n",
      "\n",
      "accuracy_score: 0.74\n",
      "sensitivity_score: 0.8709677419354839\n",
      "specificity_score: 0.5263157894736842\n",
      "\n",
      "\n",
      "Wall time: 22.8 s\n"
     ]
    },
    {
     "data": {
      "image/png": "[encoded data removed]",
      "text/plain": [
       "<Figure size 576x576 with 2 Axes>"
      ]
     },
     "metadata": {
      "needs_background": "light"
     },
     "output_type": "display_data"
    }
   ],
   "source": [
    "%%time\n",
    "\n",
    "show_metrics(model, test_seq, class_names)"
   ]
  },
  {
   "cell_type": "code",
   "execution_count": null,
   "metadata": {},
   "outputs": [],
   "source": []
  }
 ],
 "metadata": {
  "kernelspec": {
   "display_name": "Python 3",
   "language": "python",
   "name": "python3"
  },
  "language_info": {
   "codemirror_mode": {
    "name": "ipython",
    "version": 3
   },
   "file_extension": ".py",
   "mimetype": "text/x-python",
   "name": "python",
   "nbconvert_exporter": "python",
   "pygments_lexer": "ipython3",
   "version": "3.7.9"
  }
 },
 "nbformat": 4,
 "nbformat_minor": 1
}

{
 "cells": [
  {
   "cell_type": "markdown",
   "id": "decent-interest",
   "metadata": {},
   "source": [
    "# Experiment - Grad Cam (Captum)"
   ]
  },
  {
   "cell_type": "code",
   "execution_count": null,
   "id": "helpful-element",
   "metadata": {},
   "outputs": [],
   "source": [
    "%load_ext autoreload\n",
    "%autoreload 2\n",
    "\n",
    "import sys\n",
    "sys.path.append('../../../..')\n",
    "\n",
    "import os\n",
    "os.environ[\"CUDA_VISIBLE_DEVICES\"]=\"1\"\n",
    "\n",
    "import datetime\n",
    "\n",
    "import numpy as np\n",
    "\n",
    "from src.data import train_test_split, MRISequence\n",
    "from src.model import create_model, compile_model, load_checkpoint\n",
    "from src.model.evaluation import show_metrics"
   ]
  },
  {
   "cell_type": "code",
   "execution_count": null,
   "id": "bigger-melissa",
   "metadata": {},
   "outputs": [],
   "source": [
    "import seaborn as sns\n",
    "import matplotlib.pyplot as plt\n",
    "\n",
    "sns.set(style=\"white\")\n",
    "\n",
    "plt.rcParams['figure.figsize'] = (10, 6)\n",
    "plt.rcParams['image.cmap'] = 'viridis'\n",
    "\n",
    "%config InlineBackend.figure_format='retina'\n",
    "plt.rcParams.update({'font.size': 15})"
   ]
  },
  {
   "cell_type": "markdown",
   "id": "neither-compiler",
   "metadata": {},
   "source": [
    "## Setup"
   ]
  },
  {
   "cell_type": "code",
   "execution_count": null,
   "id": "veterinary-japan",
   "metadata": {},
   "outputs": [],
   "source": [
    "%%time\n",
    "\n",
    "ROOT_DIR = '../../../../tmp'\n",
    "DEFAULT_CHECKPOINT_DIRECTORY_LOCAL = os.path.join(ROOT_DIR, 'checkpoints')\n",
    "DEFAULT_BCKP_CHECKPOINT_DIRECTORY_LOCAL = os.path.join(ROOT_DIR, 'bckp-checkpoints')\n",
    "\n",
    "LOG_DIRECTORY = os.path.join(ROOT_DIR, 'logs')\n",
    "CHECKPOINT_DIRECTORY = DEFAULT_CHECKPOINT_DIRECTORY_LOCAL\n",
    "\n",
    "LOG_DIRECTORY_LOCAL = LOG_DIRECTORY\n",
    "CHECKPOINT_DIRECTORY_LOCAL = CHECKPOINT_DIRECTORY\n",
    "\n",
    "DATA_DIR_NAME = 'data-v3'\n",
    "DATA_DIR = os.path.join(ROOT_DIR, DATA_DIR_NAME)\n",
    "\n",
    "saliencies_and_segmentations_v2_path = os.path.join(ROOT_DIR, 'saliencies_and_segmentations_v2')\n",
    "\n",
    "if not os.path.exists(CHECKPOINT_DIRECTORY):\n",
    "    os.mkdir(CHECKPOINT_DIRECTORY)\n",
    "\n",
    "if not os.path.exists(LOG_DIRECTORY):\n",
    "    os.mkdir(LOG_DIRECTORY)\n",
    "\n",
    "val = False\n",
    "\n",
    "class_names = ['AD', 'CN']\n",
    "\n",
    "# get paths to data\n",
    "train_dir, test_dir, val_dir = train_test_split(\n",
    "    saliencies_and_segmentations_v2_path,\n",
    "    ROOT_DIR,\n",
    "    split=(0.8, 0.15, 0.05),\n",
    "    dirname=DATA_DIR_NAME)\n",
    "\n",
    "# set the batch size for mri seq\n",
    "batch_size = 12\n",
    "input_shape = (104, 128, 104, 1) # (112, 112, 105, 1)\n",
    "resize_img = True\n",
    "crop_img = True\n",
    "\n",
    "# if y is one-hot encoded or just scalar number\n",
    "one_hot = True\n",
    "\n",
    "# class weightss (see analysis notebook)\n",
    "class_weights = {0: 0.8072289156626505, 1: 1.3137254901960784}\n",
    "\n",
    "# description statistics of the dataset\n",
    "desc = {'mean': -3.6344006e-09, 'std': 1.0000092, 'min': -1.4982183, 'max': 10.744175}\n",
    "\n",
    "if 'desc' not in locals():\n",
    "    print('initializing desc...')\n",
    "    desc = get_description(MRISequence(\n",
    "        train_dir,\n",
    "        64,\n",
    "        class_names=class_names,\n",
    "        input_shape=input_shape),\n",
    "        max_samples=None)\n",
    "    print(desc)\n",
    "\n",
    "\n",
    "normalization={ 'type':'normalization', 'desc': desc }\n",
    "# normalization={'type':'standardization', 'desc':desc }\n",
    "\n",
    "augmentations = None\n",
    "augmentations_inplace = True\n",
    "# enable augmentations in mri seq (otherwise it can be enabled in dataset)\n",
    "# augmentations={ 'random_swap_hemispheres': 0.5 }\n",
    "\n",
    "# initialize sequences\n",
    "print('initializing train_seq...')\n",
    "train_seq = MRISequence(\n",
    "    train_dir,\n",
    "    batch_size,\n",
    "    class_names=class_names,\n",
    "    augmentations=augmentations,\n",
    "    augmentations_inplace=augmentations_inplace,\n",
    "    input_shape=input_shape,\n",
    "    resize_img=resize_img,\n",
    "    crop_img=crop_img,\n",
    "    one_hot=one_hot,\n",
    "    class_weights=class_weights,\n",
    "    normalization=normalization)\n",
    "\n",
    "print('initializing test_seq...')\n",
    "test_seq = MRISequence(\n",
    "    test_dir,\n",
    "    batch_size,\n",
    "    class_names=class_names,\n",
    "    input_shape=input_shape,\n",
    "    resize_img=resize_img,\n",
    "    crop_img=crop_img,\n",
    "    one_hot=one_hot,\n",
    "    normalization=normalization)\n",
    "\n",
    "if val:\n",
    "    print('initializing val_seq...')\n",
    "    val_seq = MRISequence(\n",
    "        val_dir,\n",
    "        batch_size,\n",
    "        class_names=class_names,\n",
    "        input_shape=input_shape,\n",
    "        resize_img=resize_img,\n",
    "        crop_img=crop_img,\n",
    "        one_hot=one_hot,\n",
    "        class_weights=class_weights,\n",
    "        normalization=normalization)\n",
    "else:\n",
    "    print('val_seq = test_seq')\n",
    "    val_seq = test_seq\n",
    "\n",
    "model_key = datetime.datetime.now().strftime('%Y%m%d-%H%M%S')\n",
    "log_dir = os.path.join(LOG_DIRECTORY, model_key)\n",
    "print(f'log_dir: {log_dir}')"
   ]
  },
  {
   "cell_type": "markdown",
   "id": "suspended-montreal",
   "metadata": {},
   "source": [
    "## Model"
   ]
  },
  {
   "cell_type": "code",
   "execution_count": null,
   "id": "brown-hours",
   "metadata": {},
   "outputs": [],
   "source": [
    "import torch\n",
    "\n",
    "from torchsummary import summary\n",
    "\n",
    "from src.model.torch import Net3DCNN, load_weights"
   ]
  },
  {
   "cell_type": "code",
   "execution_count": null,
   "id": "uniform-hospital",
   "metadata": {
    "scrolled": true
   },
   "outputs": [],
   "source": [
    "net = Net3DCNN()\n",
    "\n",
    "weights = np.load(os.path.join(ROOT_DIR, 'tf-weights.npy'), allow_pickle=True)\n",
    "weights_bn = np.load(os.path.join(ROOT_DIR, 'tf-weights-bn.npy'), allow_pickle=True)\n",
    "\n",
    "load_weights(net, weights, weights_bn)\n",
    "\n",
    "net.eval()\n",
    "net.cuda()\n",
    "\n",
    "summary(net.cuda(), (1, 104, 128, 104))"
   ]
  },
  {
   "cell_type": "markdown",
   "id": "iraqi-southeast",
   "metadata": {},
   "source": [
    "## Experiments"
   ]
  },
  {
   "cell_type": "code",
   "execution_count": null,
   "id": "suburban-arrival",
   "metadata": {},
   "outputs": [],
   "source": [
    "NOTEBOOK_KEY = 'captum--grad-cam-v1'\n",
    "BATCH_SIZE = 24\n",
    "VERBOSE = 1\n",
    "LOG = True\n",
    "SEED = 42\n",
    "\n",
    "heatmap_evaluation_options = {\n",
    "    'evaluation_step_size': 1000,\n",
    "    'evaluation_max_steps': -1,\n",
    "    'evaluation_batch_size': BATCH_SIZE\n",
    "}"
   ]
  },
  {
   "cell_type": "code",
   "execution_count": null,
   "id": "upper-advisory",
   "metadata": {},
   "outputs": [],
   "source": [
    "from skimage.transform import resize\n",
    "\n",
    "from src.heatmaps.evaluation import HeatmapEvaluationV2\n",
    "from src.data import tf_predict, torch_predict\n",
    "\n",
    "from captum.attr import LayerGradCam\n",
    "\n",
    "import torch.nn.functional as F\n",
    "\n",
    "\n",
    "attribution_method = LayerGradCam(net, net.conv3)\n",
    "\n",
    "\n",
    "def heatmap_fn_v1(image_x, image_y, **kwargs): # kwargs - log, seed\n",
    "    target = np.argmax(image_y, axis=0)\n",
    "    image_x = np.transpose(image_x, axes=(3, 0, 1, 2)) # transpose to the torch axes\n",
    "    batch_x = torch.from_numpy(np.array([image_x])).float().cuda().requires_grad_(True)\n",
    "    attribution = attribution_method.attribute(batch_x, int(target), relu_attributions=True)\n",
    "    attribution = attribution.to('cpu').detach().numpy()[0]\n",
    "    attribution = np.transpose(np.array(attribution), axes=(1, 2, 3, 0)) # transpose back\n",
    "    attribution = resize(attribution, input_shape[:-1]) # resize since the size is of the last conv layer\n",
    "    return attribution\n",
    "\n",
    "\n",
    "def heatmap_fn_v2(image_x, image_y, **kwargs): # kwargs - log, seed\n",
    "    target = np.argmax(image_y, axis=0)\n",
    "    image_x = np.transpose(image_x, axes=(3, 0, 1, 2)) # transpose to the torch axes\n",
    "    batch_x = torch.from_numpy(np.array([image_x])).float().cuda().requires_grad_(True)\n",
    "    attribution = attribution_method.attribute(batch_x, int(target), relu_attributions=True)\n",
    "    attribution = F.interpolate(attribution, image_x.shape[1:], mode='trilinear', align_corners=False) # resize since the size is of the last conv layer\n",
    "    attribution = attribution.to('cpu').detach().numpy()[0]\n",
    "    attribution = np.transpose(np.array(attribution), axes=(1, 2, 3, 0)) # transpose back\n",
    "    return attribution\n",
    "\n",
    "heatmap_fn = heatmap_fn_v1\n",
    "\n",
    "predict_fn = torch_predict(net)"
   ]
  },
  {
   "cell_type": "code",
   "execution_count": null,
   "id": "bound-librarian",
   "metadata": {},
   "outputs": [],
   "source": [
    "# from src.heatmaps.evaluation import HeatmapEvaluationV2\n",
    "# from src.data import tf_predict, torch_predict\n",
    "\n",
    "# from captum.attr import GuidedBackprop, GuidedGradCam\n",
    "\n",
    "\n",
    "# attribution_method = GuidedGradCam(net, net.conv3)\n",
    "# attribution_method = GuidedBackprop(net)\n",
    "\n",
    "# def heatmap_fn(image_x, image_y, **kwargs): # kwargs - log, seed\n",
    "#     target = np.argmax(image_y, axis=0)\n",
    "#     image_x = np.transpose(image_x, axes=(3, 0, 1, 2)) # transpose to the torch axes\n",
    "#     batch_x = torch.from_numpy(np.array([image_x])).float().cuda().requires_grad_(True)\n",
    "#     attribution = attribution_method.attribute(batch_x, int(target))\n",
    "#     attribution = attribution.to('cpu').detach().numpy()[0]\n",
    "#     attribution = np.transpose(np.array(attribution), axes=(1, 2, 3, 0)) # transpose back\n",
    "#     return attribution\n",
    "\n",
    "# predict_fn = torch_predict(net)"
   ]
  },
  {
   "cell_type": "markdown",
   "id": "potential-entrepreneur",
   "metadata": {},
   "source": [
    "### 10TP 10TN 10FP 10FN"
   ]
  },
  {
   "cell_type": "code",
   "execution_count": null,
   "id": "unlikely-hawaiian",
   "metadata": {},
   "outputs": [],
   "source": [
    "from src.data import select_from_dataset, numpy_to_sequence\n",
    "\n",
    "images_x, images_y, images_y_pred = select_from_dataset(torch_predict(net), test_seq, max_category=10)\n",
    "print(images_x.shape)\n",
    "sequence = numpy_to_sequence(images_x, images_y, batch_size=BATCH_SIZE)"
   ]
  },
  {
   "cell_type": "code",
   "execution_count": null,
   "id": "subsequent-language",
   "metadata": {
    "scrolled": false
   },
   "outputs": [],
   "source": [
    "%%time\n",
    "\n",
    "he = HeatmapEvaluationV2(predict_fn, heatmap_fn, sequence, **heatmap_evaluation_options)\n",
    "\n",
    "history = he.evaluate('insertion', log=LOG, verbose=VERBOSE, seed=SEED)\n",
    "\n",
    "history.save(os.path.join(ROOT_DIR, 'risei-history'), f'{NOTEBOOK_KEY}-insertion-TP-TN-FP-FN')"
   ]
  },
  {
   "cell_type": "code",
   "execution_count": null,
   "id": "funny-campus",
   "metadata": {
    "scrolled": false
   },
   "outputs": [],
   "source": [
    "%%time\n",
    "\n",
    "he = HeatmapEvaluationV2(predict_fn, heatmap_fn, sequence, **heatmap_evaluation_options)\n",
    "\n",
    "history = he.evaluate('deletion', log=LOG, verbose=VERBOSE, seed=SEED)\n",
    "\n",
    "history.save(os.path.join(ROOT_DIR, 'risei-history'), f'{NOTEBOOK_KEY}-deletion-TP-TN-FP-FN')"
   ]
  },
  {
   "cell_type": "markdown",
   "id": "assigned-patrol",
   "metadata": {},
   "source": [
    "### 20TP 20TN"
   ]
  },
  {
   "cell_type": "code",
   "execution_count": null,
   "id": "cardiac-bennett",
   "metadata": {},
   "outputs": [],
   "source": [
    "from src.data import select_from_dataset, numpy_to_sequence\n",
    "\n",
    "images_x, images_y, images_y_pred = select_from_dataset(torch_predict(net), test_seq, max_category=20, fp_max=0, fn_max=0)\n",
    "print(images_x.shape)\n",
    "sequence = numpy_to_sequence(images_x, images_y, batch_size=BATCH_SIZE)"
   ]
  },
  {
   "cell_type": "code",
   "execution_count": null,
   "id": "expired-anatomy",
   "metadata": {
    "scrolled": false
   },
   "outputs": [],
   "source": [
    "%%time\n",
    "\n",
    "he = HeatmapEvaluationV2(predict_fn, heatmap_fn, sequence, **heatmap_evaluation_options)\n",
    "\n",
    "history = he.evaluate('insertion', log=LOG, verbose=VERBOSE, seed=SEED)\n",
    "\n",
    "history.save(os.path.join(ROOT_DIR, 'risei-history'), f'{NOTEBOOK_KEY}-insertion-TP-TN')"
   ]
  },
  {
   "cell_type": "code",
   "execution_count": null,
   "id": "important-influence",
   "metadata": {
    "scrolled": false
   },
   "outputs": [],
   "source": [
    "%%time\n",
    "\n",
    "he = HeatmapEvaluationV2(predict_fn, heatmap_fn, sequence, **heatmap_evaluation_options)\n",
    "\n",
    "history = he.evaluate('deletion', log=LOG, verbose=VERBOSE, seed=SEED)\n",
    "\n",
    "history.save(os.path.join(ROOT_DIR, 'risei-history'), f'{NOTEBOOK_KEY}-deletion-TP-TN')"
   ]
  },
  {
   "cell_type": "code",
   "execution_count": null,
   "id": "passing-roads",
   "metadata": {},
   "outputs": [],
   "source": []
  }
 ],
 "metadata": {
  "kernelspec": {
   "display_name": "Python 3",
   "language": "python",
   "name": "python3"
  },
  "language_info": {
   "codemirror_mode": {
    "name": "ipython",
    "version": 3
   },
   "file_extension": ".py",
   "mimetype": "text/x-python",
   "name": "python",
   "nbconvert_exporter": "python",
   "pygments_lexer": "ipython3",
   "version": "3.7.9"
  }
 },
 "nbformat": 4,
 "nbformat_minor": 5
}

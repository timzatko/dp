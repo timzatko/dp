{
 "cells": [
  {
   "cell_type": "markdown",
   "metadata": {},
   "source": [
    "# RISEI Stability Experiment"
   ]
  },
  {
   "cell_type": "code",
   "execution_count": 1,
   "metadata": {
    "pycharm": {
     "name": "#%%\n"
    }
   },
   "outputs": [],
   "source": [
    "%load_ext autoreload\n",
    "%autoreload 2\n",
    "\n",
    "import sys\n",
    "sys.path.append('../../../..')\n",
    "\n",
    "import os\n",
    "os.environ[\"CUDA_VISIBLE_DEVICES\"]=\"0\"\n",
    "\n",
    "import datetime\n",
    "\n",
    "import numpy as np\n",
    "\n",
    "from src.data import train_test_split, MRISequence\n",
    "from src.model import create_model, compile_model, load_checkpoint\n",
    "from src.model.evaluation import show_metrics"
   ]
  },
  {
   "cell_type": "code",
   "execution_count": 2,
   "metadata": {
    "pycharm": {
     "name": "#%%\n"
    }
   },
   "outputs": [],
   "source": [
    "import seaborn as sns\n",
    "import matplotlib.pyplot as plt\n",
    "\n",
    "sns.set(style=\"white\")\n",
    "\n",
    "plt.rcParams['figure.figsize'] = (10, 6)\n",
    "plt.rcParams['image.cmap'] = 'viridis'\n",
    "\n",
    "%config InlineBackend.figure_format='retina'\n",
    "plt.rcParams.update({'font.size': 15})"
   ]
  },
  {
   "cell_type": "code",
   "execution_count": 3,
   "metadata": {
    "pycharm": {
     "name": "#%%\n"
    }
   },
   "outputs": [
    {
     "name": "stdout",
     "output_type": "stream",
     "text": [
      "2.3.1\n",
      "Num GPUs Available:  1\n"
     ]
    }
   ],
   "source": [
    "import tensorflow as tf\n",
    "\n",
    "# RANDOM_SEED = 250398\n",
    "# tf.random.set_seed(RANDOM_SEED)\n",
    "\n",
    "print(tf.version.VERSION)\n",
    "print(\"Num GPUs Available: \", len(tf.config.experimental.list_physical_devices('GPU')))"
   ]
  },
  {
   "cell_type": "markdown",
   "metadata": {},
   "source": [
    "## Setup"
   ]
  },
  {
   "cell_type": "code",
   "execution_count": 4,
   "metadata": {
    "pycharm": {
     "name": "#%%\n"
    }
   },
   "outputs": [
    {
     "name": "stdout",
     "output_type": "stream",
     "text": [
      "not copying files since the destination directory already exists\n",
      "initializing train_seq...\n",
      "initializing test_seq...\n",
      "val_seq = test_seq\n",
      "log_dir: ../../../../tmp\\logs\\20210329-111851\n",
      "Wall time: 40 ms\n"
     ]
    }
   ],
   "source": [
    "%%time\n",
    "\n",
    "ROOT_DIR = '../../../../tmp'\n",
    "DEFAULT_CHECKPOINT_DIRECTORY_LOCAL = os.path.join(ROOT_DIR, 'checkpoints')\n",
    "DEFAULT_BCKP_CHECKPOINT_DIRECTORY_LOCAL = os.path.join(ROOT_DIR, 'bckp-checkpoints')\n",
    "\n",
    "LOG_DIRECTORY = os.path.join(ROOT_DIR, 'logs')\n",
    "CHECKPOINT_DIRECTORY = DEFAULT_CHECKPOINT_DIRECTORY_LOCAL\n",
    "\n",
    "LOG_DIRECTORY_LOCAL = LOG_DIRECTORY\n",
    "CHECKPOINT_DIRECTORY_LOCAL = CHECKPOINT_DIRECTORY\n",
    "\n",
    "DATA_DIR_NAME = 'data-v3'\n",
    "DATA_DIR = os.path.join(ROOT_DIR, DATA_DIR_NAME)\n",
    "\n",
    "saliencies_and_segmentations_v2_path = os.path.join(ROOT_DIR, 'saliencies_and_segmentations_v2')\n",
    "\n",
    "if not os.path.exists(CHECKPOINT_DIRECTORY):\n",
    "    os.mkdir(CHECKPOINT_DIRECTORY)\n",
    "\n",
    "if not os.path.exists(LOG_DIRECTORY):\n",
    "    os.mkdir(LOG_DIRECTORY)\n",
    "\n",
    "val = False\n",
    "\n",
    "class_names = ['AD', 'CN']\n",
    "\n",
    "# get paths to data\n",
    "train_dir, test_dir, val_dir = train_test_split(\n",
    "    saliencies_and_segmentations_v2_path,\n",
    "    ROOT_DIR,\n",
    "    split=(0.8, 0.15, 0.05),\n",
    "    dirname=DATA_DIR_NAME)\n",
    "\n",
    "# set the batch size for mri seq\n",
    "batch_size = 12\n",
    "input_shape = (104, 128, 104, 1) # (112, 112, 105, 1)\n",
    "resize_img = True\n",
    "crop_img = True\n",
    "\n",
    "# if y is one-hot encoded or just scalar number\n",
    "one_hot = True\n",
    "\n",
    "# class weightss (see analysis notebook)\n",
    "class_weights = {0: 0.8072289156626505, 1: 1.3137254901960784}\n",
    "\n",
    "# description statistics of the dataset\n",
    "desc = {'mean': -3.6344006e-09, 'std': 1.0000092, 'min': -1.4982183, 'max': 10.744175}\n",
    "\n",
    "if 'desc' not in locals():\n",
    "    print('initializing desc...')\n",
    "    desc = get_description(MRISequence(\n",
    "        train_dir,\n",
    "        64,\n",
    "        class_names=class_names,\n",
    "        input_shape=input_shape),\n",
    "        max_samples=None)\n",
    "    print(desc)\n",
    "\n",
    "\n",
    "normalization={ 'type':'normalization', 'desc': desc }\n",
    "# normalization={'type':'standardization', 'desc':desc }\n",
    "\n",
    "augmentations = None\n",
    "augmentations_inplace = True\n",
    "# enable augmentations in mri seq (otherwise it can be enabled in dataset)\n",
    "# augmentations={ 'random_swap_hemispheres': 0.5 }\n",
    "\n",
    "# initialize sequences\n",
    "print('initializing train_seq...')\n",
    "train_seq = MRISequence(\n",
    "    train_dir,\n",
    "    batch_size,\n",
    "    class_names=class_names,\n",
    "    augmentations=augmentations,\n",
    "    augmentations_inplace=augmentations_inplace,\n",
    "    input_shape=input_shape,\n",
    "    resize_img=resize_img,\n",
    "    crop_img=crop_img,\n",
    "    one_hot=one_hot,\n",
    "    class_weights=class_weights,\n",
    "    normalization=normalization)\n",
    "\n",
    "print('initializing test_seq...')\n",
    "test_seq = MRISequence(\n",
    "    test_dir,\n",
    "    batch_size,\n",
    "    class_names=class_names,\n",
    "    input_shape=input_shape,\n",
    "    resize_img=resize_img,\n",
    "    crop_img=crop_img,\n",
    "    one_hot=one_hot,\n",
    "    normalization=normalization)\n",
    "\n",
    "if val:\n",
    "    print('initializing val_seq...')\n",
    "    val_seq = MRISequence(\n",
    "        val_dir,\n",
    "        batch_size,\n",
    "        class_names=class_names,\n",
    "        input_shape=input_shape,\n",
    "        resize_img=resize_img,\n",
    "        crop_img=crop_img,\n",
    "        one_hot=one_hot,\n",
    "        class_weights=class_weights,\n",
    "        normalization=normalization)\n",
    "else:\n",
    "    print('val_seq = test_seq')\n",
    "    val_seq = test_seq\n",
    "\n",
    "model_key = datetime.datetime.now().strftime('%Y%m%d-%H%M%S')\n",
    "log_dir = os.path.join(LOG_DIRECTORY, model_key)\n",
    "print(f'log_dir: {log_dir}')"
   ]
  },
  {
   "cell_type": "code",
   "execution_count": 5,
   "metadata": {
    "pycharm": {
     "name": "#%%\n"
    }
   },
   "outputs": [],
   "source": [
    "# https://www.tensorflow.org/tutorials/structured_data/imbalanced_data#class_weights\n",
    "# pos / neg\n",
    "initial_bias = np.log([159/243, 243/159])\n",
    "\n",
    "model_type = '3d_cnn'\n",
    "model_config = {\n",
    "    'input_shape': input_shape,\n",
    "    'class_names': class_names,\n",
    "#     'l2_beta': 0.001,\n",
    "#     'l2_beta': 0.0005,\n",
    "    'l2_beta': None,\n",
    "#     'dropout': 0.05,\n",
    "    'dropout': 0.10,\n",
    "    'output_bias': initial_bias,\n",
    "#     'output_bias': None,\n",
    "    # https://www.tensorflow.org/api_docs/python/tf/keras/layers/BatchNormalization\n",
    "    'batch_norm': True,\n",
    "    'is_complex': False, # a complex layer from the paper, max batch_size is 3\n",
    "}\n",
    "\n",
    "compile_config = {\n",
    "    # default is 0.001\n",
    "#     'learning_rate': 0.000075,\n",
    "    'learning_rate': 0.00010,\n",
    "    'decay_steps': 25,\n",
    "    'decay_rate': 0.96,\n",
    "#     'beta_1': 0.85,\n",
    "    'beta_1': 0.90,\n",
    "#     'beta_2': 0.990,\n",
    "    'beta_2': 0.999,\n",
    "}\n",
    "\n",
    "train_config = {\n",
    "    'model_key': model_key,\n",
    "    'epochs': 150,\n",
    "    'patience': 75,\n",
    "    'tensorboard_update_freq': 'epoch',\n",
    "    'mri_tensorboard_callback': False,\n",
    "    'model_checkpoint_callback': {'monitor': 'val_auc', 'mode': 'max', 'save_best_only': True},\n",
    "    'early_stopping_monitor': {'monitor': 'val_auc', 'mode': 'max'},\n",
    "#     'augmentations': False,\n",
    "    'augmentations': {\n",
    "        'invert': (0.5, None),\n",
    "        'rotate': (0.2, 5), # probability, degrees\n",
    "        'zoom': (0., 0.),\n",
    "        'shear': (0.2, 0.5), # probability, degrees\n",
    "        'blur': (0.2, 0.85),\n",
    "        'noise': (0.2, 0.00020)\n",
    "    },\n",
    "    'batch_size': 8,\n",
    "#     'model_checkpoint_callback': False,\n",
    "}"
   ]
  },
  {
   "cell_type": "markdown",
   "metadata": {},
   "source": [
    "## Model"
   ]
  },
  {
   "cell_type": "code",
   "execution_count": 6,
   "metadata": {
    "pycharm": {
     "name": "#%%\n"
    }
   },
   "outputs": [
    {
     "name": "stdout",
     "output_type": "stream",
     "text": [
      "Model: \"sequential\"\n",
      "_________________________________________________________________\n",
      "Layer (type)                 Output Shape              Param #   \n",
      "=================================================================\n",
      "conv3d (Conv3D)              (None, 104, 128, 104, 32) 896       \n",
      "_________________________________________________________________\n",
      "batch_normalization (BatchNo (None, 104, 128, 104, 32) 128       \n",
      "_________________________________________________________________\n",
      "activation (Activation)      (None, 104, 128, 104, 32) 0         \n",
      "_________________________________________________________________\n",
      "max_pooling3d (MaxPooling3D) (None, 52, 64, 52, 32)    0         \n",
      "_________________________________________________________________\n",
      "conv3d_1 (Conv3D)            (None, 52, 64, 52, 64)    55360     \n",
      "_________________________________________________________________\n",
      "batch_normalization_1 (Batch (None, 52, 64, 52, 64)    256       \n",
      "_________________________________________________________________\n",
      "activation_1 (Activation)    (None, 52, 64, 52, 64)    0         \n",
      "_________________________________________________________________\n",
      "max_pooling3d_1 (MaxPooling3 (None, 17, 21, 17, 64)    0         \n",
      "_________________________________________________________________\n",
      "conv3d_2 (Conv3D)            (None, 17, 21, 17, 128)   221312    \n",
      "_________________________________________________________________\n",
      "batch_normalization_2 (Batch (None, 17, 21, 17, 128)   512       \n",
      "_________________________________________________________________\n",
      "activation_2 (Activation)    (None, 17, 21, 17, 128)   0         \n",
      "_________________________________________________________________\n",
      "max_pooling3d_2 (MaxPooling3 (None, 4, 5, 4, 128)      0         \n",
      "_________________________________________________________________\n",
      "flatten (Flatten)            (None, 10240)             0         \n",
      "_________________________________________________________________\n",
      "dropout (Dropout)            (None, 10240)             0         \n",
      "_________________________________________________________________\n",
      "dense (Dense)                (None, 256)               2621696   \n",
      "_________________________________________________________________\n",
      "dropout_1 (Dropout)          (None, 256)               0         \n",
      "_________________________________________________________________\n",
      "dense_1 (Dense)              (None, 2)                 514       \n",
      "=================================================================\n",
      "Total params: 2,900,674\n",
      "Trainable params: 2,900,226\n",
      "Non-trainable params: 448\n",
      "_________________________________________________________________\n"
     ]
    }
   ],
   "source": [
    "model = create_model(model_type, model_config)\n",
    "model, *_ = compile_model(model, **compile_config)\n",
    "model.build(input_shape=input_shape)\n",
    "model.summary()"
   ]
  },
  {
   "cell_type": "code",
   "execution_count": 7,
   "metadata": {
    "pycharm": {
     "name": "#%%\n"
    }
   },
   "outputs": [
    {
     "name": "stdout",
     "output_type": "stream",
     "text": [
      "loading checkpoint from ../../../../tmp\\bckp-checkpoints\\20210308-175324\\cp-0058.ckpt...\n"
     ]
    }
   ],
   "source": [
    "load_checkpoint(model, DEFAULT_BCKP_CHECKPOINT_DIRECTORY_LOCAL, '20210308-175324', 'cp-0058.ckpt')"
   ]
  },
  {
   "cell_type": "code",
   "execution_count": 8,
   "metadata": {
    "pycharm": {
     "name": "#%%\n"
    }
   },
   "outputs": [
    {
     "name": "stdout",
     "output_type": "stream",
     "text": [
      "In binary classification, recall of the positive class is also known as “sensitivity”; recall of the negative class is “specificity”. (https://scikit-learn.org/stable/modules/generated/sklearn.metrics.classification_report.html)\n",
      "\u001b[1mAD\u001b[0m\n",
      "precision: 0.8333333333333334\n",
      "recall: 0.8064516129032258\n",
      "f1-score: 0.819672131147541\n",
      "support: 62\n",
      "\n",
      "\n",
      "\u001b[1mCN\u001b[0m\n",
      "precision: 0.7\n",
      "recall: 0.7368421052631579\n",
      "f1-score: 0.717948717948718\n",
      "support: 38\n",
      "\n",
      "\n",
      "\u001b[1mmicro avg\u001b[0m\n",
      "precision: 0.78\n",
      "recall: 0.78\n",
      "f1-score: 0.78\n",
      "support: 100\n",
      "\n",
      "\n",
      "\u001b[1mmacro avg\u001b[0m\n",
      "precision: 0.7666666666666666\n",
      "recall: 0.7716468590831917\n",
      "f1-score: 0.7688104245481295\n",
      "support: 100\n",
      "\n",
      "\n",
      "\u001b[1mweighted avg\u001b[0m\n",
      "precision: 0.7826666666666666\n",
      "recall: 0.78\n",
      "f1-score: 0.7810172341319883\n",
      "support: 100\n",
      "\n",
      "\n",
      "\u001b[1msamples avg\u001b[0m\n",
      "precision: 0.78\n",
      "recall: 0.78\n",
      "f1-score: 0.78\n",
      "support: 100\n",
      "\n",
      "\n",
      "\u001b[1mF1\u001b[0m\n",
      "micro: 0.78\n",
      "macro: 0.7688104245481295\n",
      "\n",
      "\n",
      "accuracy_score: 0.78\n",
      "sensitivity_score: 0.8064516129032258\n",
      "specificity_score: 0.7368421052631579\n",
      "\n",
      "\n",
      "Wall time: 30.1 s\n"
     ]
    },
    {
     "data": {
      "image/png": "[encoded data removed]",
      "text/plain": [
       "<Figure size 576x576 with 2 Axes>"
      ]
     },
     "metadata": {
      "image/png": {
       "height": 558,
       "width": 549
      }
     },
     "output_type": "display_data"
    }
   ],
   "source": [
    "%%time\n",
    "\n",
    "# just to test of it is ok to clear the session after loading the weigths\n",
    "tf.keras.backend.clear_session()\n",
    "\n",
    "show_metrics(model, test_seq, class_names)"
   ]
  },
  {
   "cell_type": "markdown",
   "metadata": {},
   "source": [
    "## RISEI"
   ]
  },
  {
   "cell_type": "code",
   "execution_count": 9,
   "metadata": {
    "pycharm": {
     "name": "#%%\n"
    }
   },
   "outputs": [],
   "source": [
    "from src.risei import RISEI"
   ]
  },
  {
   "cell_type": "markdown",
   "metadata": {},
   "source": [
    "### Config"
   ]
  },
  {
   "cell_type": "code",
   "execution_count": 10,
   "metadata": {
    "pycharm": {
     "name": "#%%\n"
    }
   },
   "outputs": [],
   "source": [
    "risei_config = {\n",
    "    's': 8, \n",
    "    'p1': 1/3, \n",
    "    'b1': 0,\n",
    "    'b2': 1,\n",
    "    'b2_value': 1,\n",
    "    'in_paint': '2d', \n",
    "    'in_paint_blending': True, \n",
    "    'in_paint_radius': 5,\n",
    "    'in_paint_2d_to_3d': True,\n",
    "    'processes': 8,\n",
    "}"
   ]
  },
  {
   "cell_type": "markdown",
   "metadata": {},
   "source": [
    "### Evaluate"
   ]
  },
  {
   "cell_type": "code",
   "execution_count": 11,
   "metadata": {},
   "outputs": [],
   "source": [
    "import time\n",
    "\n",
    "from src.heatmaps.evaluation import get_heatmap\n",
    "\n",
    "risei_batch_size = 480\n",
    "risei = RISEI(input_shape[:-1], debug=False, **risei_config)\n",
    "\n",
    "# we will test this only with one image\n",
    "batch_x, batch_y, *_ = test_seq[0]\n",
    "idx = 0\n",
    "image_x, image_y = batch_x[idx], batch_y[idx]"
   ]
  },
  {
   "cell_type": "code",
   "execution_count": 12,
   "metadata": {},
   "outputs": [],
   "source": [
    "from multiprocessing import Pool\n",
    "\n",
    "from tqdm import tqdm\n",
    "\n",
    "\n",
    "class Serializer():\n",
    "    def __init__(self, n, input_shape, in_memory=True):\n",
    "        self.n = n\n",
    "        self.id = int(time.time())\n",
    "        self.input_shape = input_shape\n",
    "        self.save_dir = None\n",
    "        \n",
    "        if in_memory:\n",
    "            self.save_dir = os.path.join(ROOT_DIR, \"risei-stability-cache\")\n",
    "            os.makedirs(self.save_dir, exist_ok=True) # mkdir -p\n",
    "        else:\n",
    "            self.heatmaps = np.zeros((n, *input_shape[:-1]))\n",
    "    \n",
    "    def add_heatmap(self, i, heatmap):\n",
    "        if self.save_dir is not None:\n",
    "            np.save(self.__get_fname(i), heatmap)\n",
    "        else:\n",
    "            self.heatmaps[i] = heatmap\n",
    "            \n",
    "    def get_std(self, processes=8):\n",
    "        if self.save_dir is not None:\n",
    "            pass\n",
    "            return std_heatmaps\n",
    "        else:\n",
    "            return get_std_heatmaps_v2(self.heatmaps) \n",
    "        \n",
    "    def __get_fname(self, i):\n",
    "        return get_fname(self.save_dir, self.id, i)\n",
    "    \n",
    "    \n",
    "def __get_fname(save_dir, _id, i):\n",
    "    return os.path.join(save_dir, f'hmap_{_id}_{i}.npy')"
   ]
  },
  {
   "cell_type": "code",
   "execution_count": 13,
   "metadata": {},
   "outputs": [],
   "source": [
    "def generate_heatmaps(n, masks_count, image_x, image_y, tf_reset=2):\n",
    "    serializer = Serializer(n, input_shape, False)\n",
    "\n",
    "    i = 0\n",
    "    while i < n:\n",
    "        try:\n",
    "            print(f\"generating heatmap #{i}...\")\n",
    "            risei = RISEI(input_shape[:-1], debug=False, **risei_config)\n",
    "            heatmap, _, _ = get_heatmap(\n",
    "                image_x,\n",
    "                image_y,\n",
    "                model,\n",
    "                risei,\n",
    "                batch_size=train_config['batch_size'],\n",
    "                masks_count=masks_count,\n",
    "                risei_batch_size=risei_batch_size,\n",
    "                debug=False,\n",
    "                log=True\n",
    "            )\n",
    "            risei = None\n",
    "\n",
    "            # save the heatmap to all generated heatmaps\n",
    "            serializer.add_heatmap(i, heatmap)\n",
    "            \n",
    "            i = i + 1\n",
    "            \n",
    "            # https://github.com/tensorflow/tensorflow/issues/35010\n",
    "            if i % tf_reset == 0:\n",
    "                tf.keras.backend.clear_session()\n",
    "        except Exception as e:\n",
    "            print(\"there was an error, we will try to generate this heatmap again...\")\n",
    "            print(e)\n",
    "\n",
    "    return serializer\n",
    "\n",
    "def get_std_heatmaps_v1(heatmaps):\n",
    "    std_heatmaps = np.zeros(input_shape[:-1])\n",
    "    \n",
    "    for z in range(heatmaps.shape[1]):\n",
    "        for y in range(heatmaps.shape[2]):\n",
    "            for x in range(heatmaps.shape[3]):\n",
    "                # select the same voxel from all images\n",
    "                voxels = heatmaps[:, z, y, x]\n",
    "                # save the standard deviation for that voxel\n",
    "                # TODO: optimize with axis param\n",
    "                std_heatmaps[z, y, x] = np.std(voxels)\n",
    "                \n",
    "    return std_heatmaps\n",
    "\n",
    "def get_std_heatmaps_v2(heatmaps):\n",
    "    return np.std(heatmaps, axis=0)"
   ]
  },
  {
   "cell_type": "code",
   "execution_count": 14,
   "metadata": {
    "scrolled": true
   },
   "outputs": [],
   "source": [
    "# h1 = generate_heatmaps(10, 12, image_x, image_y)\n",
    "# h2 = generate_heatmaps(10, 12, image_x, image_y)"
   ]
  },
  {
   "cell_type": "code",
   "execution_count": 14,
   "metadata": {},
   "outputs": [],
   "source": [
    "def run(experiments, masks_counts):\n",
    "    for masks_count in masks_counts:\n",
    "        print(f\"generating {experiments}x {masks_count} masks...\")\n",
    "        start = time.time()\n",
    "        # [experiments, z, x, y]\n",
    "        serializer = generate_heatmaps(experiments, masks_count, image_x, image_y)\n",
    "        end = time.time()\n",
    "        # [z, x, y]\n",
    "        std_heatmaps = serializer.get_std()\n",
    "\n",
    "        print(f\"result for {masks_count} masks (t: {datetime.timedelta(seconds=int(end - start))})\")\n",
    "        print(f\"\\tmean std: {np.mean(std_heatmaps)}\")\n",
    "        print(f\"\\tmin std: {np.min(std_heatmaps)}\")\n",
    "        print(f\"\\tmax std: {np.max(std_heatmaps)}\")\n",
    "        print(f\"\\tstd std: {np.std(std_heatmaps)}\")\n",
    "\n",
    "        fPath = os.path.join(ROOT_DIR, \"risei-stability\")\n",
    "        fName = os.path.join(fPath, f\"{int(time.time())}_m{masks_count}.npy\")\n",
    "        os.makedirs(fPath, exist_ok=True) # mkdir -p\n",
    "        print(f\"saving std_heatmaps to {fName} ...\")\n",
    "        np.save(fName, std_heatmaps)"
   ]
  },
  {
   "cell_type": "code",
   "execution_count": 16,
   "metadata": {
    "pycharm": {
     "name": "#%%\n"
    },
    "scrolled": true
   },
   "outputs": [],
   "source": [
    "# experiments = 100\n",
    "# masks_counts = [16, 128, 256, 512]\n",
    "\n",
    "# run(experiments, masks_counts)"
   ]
  },
  {
   "cell_type": "code",
   "execution_count": 16,
   "metadata": {},
   "outputs": [],
   "source": [
    "import tracemalloc"
   ]
  },
  {
   "cell_type": "code",
   "execution_count": 18,
   "metadata": {
    "scrolled": true
   },
   "outputs": [
    {
     "name": "stderr",
     "output_type": "stream",
     "text": [
      "\r",
      "Generating masks:   0%|          | 0/480 [00:00<?, ?it/s]"
     ]
    },
    {
     "name": "stdout",
     "output_type": "stream",
     "text": [
      "generating 100x 1024 masks...\n",
      "generating heatmap #0...\n"
     ]
    },
    {
     "name": "stderr",
     "output_type": "stream",
     "text": [
      "Generating masks: 100%|██████████| 480/480 [00:26<00:00, 17.97it/s]\n",
      "Generating masks: 100%|██████████| 480/480 [00:25<00:00, 18.92it/s]\n",
      "Generating masks: 100%|██████████| 64/64 [00:04<00:00, 13.24it/s]\n",
      "Generating masks:   0%|          | 0/480 [00:00<?, ?it/s]"
     ]
    },
    {
     "name": "stdout",
     "output_type": "stream",
     "text": [
      "generating heatmap #1...\n"
     ]
    },
    {
     "name": "stderr",
     "output_type": "stream",
     "text": [
      "Generating masks: 100%|██████████| 480/480 [00:24<00:00, 19.41it/s]\n",
      "Generating masks: 100%|██████████| 480/480 [00:25<00:00, 19.10it/s]\n",
      "Generating masks: 100%|██████████| 64/64 [00:05<00:00, 12.79it/s]\n",
      "Generating masks:   0%|          | 0/480 [00:00<?, ?it/s]"
     ]
    },
    {
     "name": "stdout",
     "output_type": "stream",
     "text": [
      "generating heatmap #2...\n"
     ]
    },
    {
     "name": "stderr",
     "output_type": "stream",
     "text": [
      "Generating masks: 100%|██████████| 480/480 [00:24<00:00, 19.52it/s]\n",
      "Generating masks: 100%|██████████| 480/480 [00:25<00:00, 18.84it/s]\n",
      "Generating masks: 100%|██████████| 64/64 [00:05<00:00, 11.92it/s]\n",
      "Generating masks:   0%|          | 0/480 [00:00<?, ?it/s]"
     ]
    },
    {
     "name": "stdout",
     "output_type": "stream",
     "text": [
      "generating heatmap #3...\n"
     ]
    },
    {
     "name": "stderr",
     "output_type": "stream",
     "text": [
      "Generating masks: 100%|██████████| 480/480 [00:24<00:00, 19.37it/s]\n",
      "Generating masks: 100%|██████████| 480/480 [00:25<00:00, 18.74it/s]\n",
      "Generating masks: 100%|██████████| 64/64 [00:04<00:00, 13.02it/s]\n",
      "Generating masks:   0%|          | 0/480 [00:00<?, ?it/s]"
     ]
    },
    {
     "name": "stdout",
     "output_type": "stream",
     "text": [
      "generating heatmap #4...\n"
     ]
    },
    {
     "name": "stderr",
     "output_type": "stream",
     "text": [
      "Generating masks: 100%|██████████| 480/480 [00:24<00:00, 19.54it/s]\n",
      "Generating masks: 100%|██████████| 480/480 [00:25<00:00, 18.93it/s]\n",
      "Generating masks: 100%|██████████| 64/64 [00:05<00:00, 11.71it/s]\n",
      "Generating masks:   0%|          | 0/480 [00:00<?, ?it/s]"
     ]
    },
    {
     "name": "stdout",
     "output_type": "stream",
     "text": [
      "generating heatmap #5...\n"
     ]
    },
    {
     "name": "stderr",
     "output_type": "stream",
     "text": [
      "Generating masks: 100%|██████████| 480/480 [00:24<00:00, 19.70it/s]\n",
      "Generating masks: 100%|██████████| 480/480 [00:25<00:00, 19.10it/s]\n",
      "Generating masks: 100%|██████████| 64/64 [00:04<00:00, 12.90it/s]\n",
      "Generating masks:   0%|          | 0/480 [00:00<?, ?it/s]"
     ]
    },
    {
     "name": "stdout",
     "output_type": "stream",
     "text": [
      "generating heatmap #6...\n"
     ]
    },
    {
     "name": "stderr",
     "output_type": "stream",
     "text": [
      "Generating masks: 100%|██████████| 480/480 [00:24<00:00, 19.57it/s]\n",
      "Generating masks: 100%|██████████| 480/480 [00:25<00:00, 18.78it/s]\n",
      "Generating masks: 100%|██████████| 64/64 [00:05<00:00, 12.74it/s]\n"
     ]
    },
    {
     "name": "stdout",
     "output_type": "stream",
     "text": [
      "generating heatmap #7...\n"
     ]
    },
    {
     "name": "stderr",
     "output_type": "stream",
     "text": [
      "Generating masks: 100%|██████████| 480/480 [00:24<00:00, 19.49it/s]\n",
      "Generating masks: 100%|██████████| 480/480 [00:25<00:00, 19.08it/s]\n",
      "Generating masks: 100%|██████████| 64/64 [00:04<00:00, 13.01it/s]\n",
      "Generating masks:   0%|          | 0/480 [00:00<?, ?it/s]"
     ]
    },
    {
     "name": "stdout",
     "output_type": "stream",
     "text": [
      "generating heatmap #8...\n"
     ]
    },
    {
     "name": "stderr",
     "output_type": "stream",
     "text": [
      "Generating masks: 100%|██████████| 480/480 [00:24<00:00, 19.59it/s]\n",
      "Generating masks: 100%|██████████| 480/480 [00:25<00:00, 18.92it/s]\n",
      "Generating masks: 100%|██████████| 64/64 [00:04<00:00, 12.92it/s]\n",
      "Generating masks:   0%|          | 0/480 [00:00<?, ?it/s]"
     ]
    },
    {
     "name": "stdout",
     "output_type": "stream",
     "text": [
      "generating heatmap #9...\n"
     ]
    },
    {
     "name": "stderr",
     "output_type": "stream",
     "text": [
      "Generating masks: 100%|██████████| 480/480 [00:24<00:00, 19.61it/s]\n",
      "Generating masks: 100%|██████████| 480/480 [00:24<00:00, 19.65it/s]\n",
      "Generating masks: 100%|██████████| 64/64 [00:05<00:00, 12.76it/s]\n",
      "Generating masks:   0%|          | 0/480 [00:00<?, ?it/s]"
     ]
    },
    {
     "name": "stdout",
     "output_type": "stream",
     "text": [
      "generating heatmap #10...\n"
     ]
    },
    {
     "name": "stderr",
     "output_type": "stream",
     "text": [
      "Generating masks: 100%|██████████| 480/480 [00:24<00:00, 19.54it/s]\n",
      "Generating masks: 100%|██████████| 480/480 [00:24<00:00, 19.34it/s]\n",
      "Generating masks: 100%|██████████| 64/64 [00:04<00:00, 12.90it/s]\n",
      "Generating masks:   0%|          | 0/480 [00:00<?, ?it/s]"
     ]
    },
    {
     "name": "stdout",
     "output_type": "stream",
     "text": [
      "generating heatmap #11...\n"
     ]
    },
    {
     "name": "stderr",
     "output_type": "stream",
     "text": [
      "Generating masks: 100%|██████████| 480/480 [00:24<00:00, 19.56it/s]\n",
      "Generating masks: 100%|██████████| 480/480 [00:25<00:00, 19.05it/s]\n",
      "Generating masks: 100%|██████████| 64/64 [00:04<00:00, 13.19it/s]\n",
      "Generating masks:   0%|          | 0/480 [00:00<?, ?it/s]"
     ]
    },
    {
     "name": "stdout",
     "output_type": "stream",
     "text": [
      "generating heatmap #12...\n"
     ]
    },
    {
     "name": "stderr",
     "output_type": "stream",
     "text": [
      "Generating masks: 100%|██████████| 480/480 [00:24<00:00, 19.44it/s]\n",
      "Generating masks: 100%|██████████| 480/480 [00:24<00:00, 19.29it/s]\n",
      "Generating masks: 100%|██████████| 64/64 [00:04<00:00, 12.93it/s]\n",
      "Generating masks:   0%|          | 0/480 [00:00<?, ?it/s]"
     ]
    },
    {
     "name": "stdout",
     "output_type": "stream",
     "text": [
      "generating heatmap #13...\n"
     ]
    },
    {
     "name": "stderr",
     "output_type": "stream",
     "text": [
      "Generating masks: 100%|██████████| 480/480 [00:24<00:00, 19.50it/s]\n",
      "Generating masks: 100%|██████████| 480/480 [00:25<00:00, 19.11it/s]\n",
      "Generating masks: 100%|██████████| 64/64 [00:04<00:00, 12.94it/s]\n",
      "Generating masks:   0%|          | 0/480 [00:00<?, ?it/s]"
     ]
    },
    {
     "name": "stdout",
     "output_type": "stream",
     "text": [
      "generating heatmap #14...\n"
     ]
    },
    {
     "name": "stderr",
     "output_type": "stream",
     "text": [
      "Generating masks: 100%|██████████| 480/480 [00:24<00:00, 19.68it/s]\n",
      "Generating masks: 100%|██████████| 480/480 [00:24<00:00, 19.57it/s]\n",
      "Generating masks: 100%|██████████| 64/64 [00:04<00:00, 12.83it/s]\n",
      "Generating masks:   0%|          | 0/480 [00:00<?, ?it/s]"
     ]
    },
    {
     "name": "stdout",
     "output_type": "stream",
     "text": [
      "generating heatmap #15...\n"
     ]
    },
    {
     "name": "stderr",
     "output_type": "stream",
     "text": [
      "Generating masks: 100%|██████████| 480/480 [00:24<00:00, 19.50it/s]\n",
      "Generating masks: 100%|██████████| 480/480 [00:24<00:00, 19.30it/s]\n",
      "Generating masks: 100%|██████████| 64/64 [00:04<00:00, 12.89it/s]\n",
      "Generating masks:   0%|          | 0/480 [00:00<?, ?it/s]"
     ]
    },
    {
     "name": "stdout",
     "output_type": "stream",
     "text": [
      "generating heatmap #16...\n"
     ]
    },
    {
     "name": "stderr",
     "output_type": "stream",
     "text": [
      "Generating masks: 100%|██████████| 480/480 [00:24<00:00, 19.66it/s]\n",
      "Generating masks: 100%|██████████| 480/480 [00:25<00:00, 19.11it/s]\n",
      "Generating masks: 100%|██████████| 64/64 [00:04<00:00, 13.19it/s]\n",
      "Generating masks:   0%|          | 0/480 [00:00<?, ?it/s]"
     ]
    },
    {
     "name": "stdout",
     "output_type": "stream",
     "text": [
      "generating heatmap #17...\n"
     ]
    },
    {
     "name": "stderr",
     "output_type": "stream",
     "text": [
      "Generating masks: 100%|██████████| 480/480 [00:24<00:00, 19.68it/s]\n",
      "Generating masks: 100%|██████████| 480/480 [00:24<00:00, 19.34it/s]\n",
      "Generating masks: 100%|██████████| 64/64 [00:04<00:00, 12.87it/s]\n",
      "Generating masks:   0%|          | 0/480 [00:00<?, ?it/s]"
     ]
    },
    {
     "name": "stdout",
     "output_type": "stream",
     "text": [
      "generating heatmap #18...\n"
     ]
    },
    {
     "name": "stderr",
     "output_type": "stream",
     "text": [
      "Generating masks: 100%|██████████| 480/480 [00:24<00:00, 19.48it/s]\n",
      "Generating masks: 100%|██████████| 480/480 [00:25<00:00, 18.92it/s]\n",
      "Generating masks: 100%|██████████| 64/64 [00:04<00:00, 12.87it/s]\n"
     ]
    },
    {
     "name": "stdout",
     "output_type": "stream",
     "text": [
      "generating heatmap #19...\n"
     ]
    },
    {
     "name": "stderr",
     "output_type": "stream",
     "text": [
      "Generating masks: 100%|██████████| 480/480 [00:24<00:00, 19.29it/s]\n",
      "Generating masks: 100%|██████████| 480/480 [00:24<00:00, 19.53it/s]\n",
      "Generating masks: 100%|██████████| 64/64 [00:05<00:00, 12.60it/s]\n",
      "Generating masks:   0%|          | 0/480 [00:00<?, ?it/s]"
     ]
    },
    {
     "name": "stdout",
     "output_type": "stream",
     "text": [
      "generating heatmap #20...\n"
     ]
    },
    {
     "name": "stderr",
     "output_type": "stream",
     "text": [
      "Generating masks: 100%|██████████| 480/480 [00:24<00:00, 19.48it/s]\n",
      "Generating masks: 100%|██████████| 480/480 [00:25<00:00, 19.19it/s]\n",
      "Generating masks: 100%|██████████| 64/64 [00:05<00:00, 12.73it/s]\n",
      "Generating masks:   0%|          | 0/480 [00:00<?, ?it/s]"
     ]
    },
    {
     "name": "stdout",
     "output_type": "stream",
     "text": [
      "generating heatmap #21...\n"
     ]
    },
    {
     "name": "stderr",
     "output_type": "stream",
     "text": [
      "Generating masks: 100%|██████████| 480/480 [00:24<00:00, 19.60it/s]\n",
      "Generating masks: 100%|██████████| 480/480 [00:24<00:00, 19.61it/s]\n",
      "Generating masks: 100%|██████████| 64/64 [00:04<00:00, 13.05it/s]\n",
      "Generating masks:   0%|          | 0/480 [00:00<?, ?it/s]"
     ]
    },
    {
     "name": "stdout",
     "output_type": "stream",
     "text": [
      "generating heatmap #22...\n"
     ]
    },
    {
     "name": "stderr",
     "output_type": "stream",
     "text": [
      "Generating masks: 100%|██████████| 480/480 [00:24<00:00, 19.62it/s]\n",
      "Generating masks: 100%|██████████| 480/480 [00:24<00:00, 19.44it/s]\n",
      "Generating masks: 100%|██████████| 64/64 [00:04<00:00, 13.09it/s]\n",
      "Generating masks:   0%|          | 0/480 [00:00<?, ?it/s]"
     ]
    },
    {
     "name": "stdout",
     "output_type": "stream",
     "text": [
      "generating heatmap #23...\n"
     ]
    },
    {
     "name": "stderr",
     "output_type": "stream",
     "text": [
      "Generating masks: 100%|██████████| 480/480 [00:24<00:00, 19.65it/s]\n",
      "Generating masks: 100%|██████████| 480/480 [00:25<00:00, 19.05it/s]\n",
      "Generating masks: 100%|██████████| 64/64 [00:04<00:00, 12.93it/s]\n",
      "Generating masks:   0%|          | 0/480 [00:00<?, ?it/s]"
     ]
    },
    {
     "name": "stdout",
     "output_type": "stream",
     "text": [
      "generating heatmap #24...\n"
     ]
    },
    {
     "name": "stderr",
     "output_type": "stream",
     "text": [
      "Generating masks: 100%|██████████| 480/480 [00:24<00:00, 19.37it/s]\n",
      "Generating masks: 100%|██████████| 480/480 [00:24<00:00, 19.49it/s]\n",
      "Generating masks: 100%|██████████| 64/64 [00:05<00:00, 12.65it/s]\n",
      "Generating masks:   0%|          | 0/480 [00:00<?, ?it/s]"
     ]
    },
    {
     "name": "stdout",
     "output_type": "stream",
     "text": [
      "generating heatmap #25...\n"
     ]
    },
    {
     "name": "stderr",
     "output_type": "stream",
     "text": [
      "Generating masks: 100%|██████████| 480/480 [00:24<00:00, 19.39it/s]\n",
      "Generating masks: 100%|██████████| 480/480 [00:24<00:00, 19.27it/s]\n",
      "Generating masks: 100%|██████████| 64/64 [00:05<00:00, 12.76it/s]\n",
      "Generating masks:   0%|          | 0/480 [00:00<?, ?it/s]"
     ]
    },
    {
     "name": "stdout",
     "output_type": "stream",
     "text": [
      "generating heatmap #26...\n"
     ]
    },
    {
     "name": "stderr",
     "output_type": "stream",
     "text": [
      "Generating masks: 100%|██████████| 480/480 [00:24<00:00, 19.64it/s]\n",
      "Generating masks: 100%|██████████| 480/480 [00:24<00:00, 19.50it/s]\n",
      "Generating masks: 100%|██████████| 64/64 [00:04<00:00, 13.03it/s]\n",
      "Generating masks:   0%|          | 0/480 [00:00<?, ?it/s]"
     ]
    },
    {
     "name": "stdout",
     "output_type": "stream",
     "text": [
      "generating heatmap #27...\n"
     ]
    },
    {
     "name": "stderr",
     "output_type": "stream",
     "text": [
      "Generating masks: 100%|██████████| 480/480 [00:24<00:00, 19.55it/s]\n",
      "Generating masks: 100%|██████████| 480/480 [00:24<00:00, 19.25it/s]\n",
      "Generating masks: 100%|██████████| 64/64 [00:04<00:00, 13.08it/s]\n",
      "Generating masks:   0%|          | 0/480 [00:00<?, ?it/s]"
     ]
    },
    {
     "name": "stdout",
     "output_type": "stream",
     "text": [
      "generating heatmap #28...\n"
     ]
    },
    {
     "name": "stderr",
     "output_type": "stream",
     "text": [
      "Generating masks: 100%|██████████| 480/480 [00:24<00:00, 19.58it/s]\n",
      "Generating masks: 100%|██████████| 480/480 [00:24<00:00, 19.29it/s]\n",
      "Generating masks: 100%|██████████| 64/64 [00:04<00:00, 12.84it/s]\n",
      "Generating masks:   0%|          | 0/480 [00:00<?, ?it/s]"
     ]
    },
    {
     "name": "stdout",
     "output_type": "stream",
     "text": [
      "generating heatmap #29...\n"
     ]
    },
    {
     "name": "stderr",
     "output_type": "stream",
     "text": [
      "Generating masks: 100%|██████████| 480/480 [00:24<00:00, 19.39it/s]\n",
      "Generating masks: 100%|██████████| 480/480 [00:25<00:00, 18.96it/s]\n",
      "Generating masks: 100%|██████████| 64/64 [00:05<00:00, 12.06it/s]\n",
      "Generating masks:   0%|          | 0/480 [00:00<?, ?it/s]"
     ]
    },
    {
     "name": "stdout",
     "output_type": "stream",
     "text": [
      "generating heatmap #30...\n"
     ]
    },
    {
     "name": "stderr",
     "output_type": "stream",
     "text": [
      "Generating masks: 100%|██████████| 480/480 [00:24<00:00, 19.30it/s]\n",
      "Generating masks: 100%|██████████| 480/480 [00:26<00:00, 18.07it/s]\n",
      "Generating masks: 100%|██████████| 64/64 [00:05<00:00, 12.70it/s]\n"
     ]
    },
    {
     "name": "stdout",
     "output_type": "stream",
     "text": [
      "generating heatmap #31...\n"
     ]
    },
    {
     "name": "stderr",
     "output_type": "stream",
     "text": [
      "Generating masks: 100%|██████████| 480/480 [00:24<00:00, 19.48it/s]\n",
      "Generating masks: 100%|██████████| 480/480 [00:24<00:00, 19.58it/s]\n",
      "Generating masks: 100%|██████████| 64/64 [00:05<00:00, 12.01it/s]\n",
      "Generating masks:   0%|          | 0/480 [00:00<?, ?it/s]"
     ]
    },
    {
     "name": "stdout",
     "output_type": "stream",
     "text": [
      "generating heatmap #32...\n"
     ]
    },
    {
     "name": "stderr",
     "output_type": "stream",
     "text": [
      "Generating masks: 100%|██████████| 480/480 [00:25<00:00, 18.57it/s]\n",
      "Generating masks: 100%|██████████| 480/480 [00:25<00:00, 18.63it/s]\n",
      "Generating masks: 100%|██████████| 64/64 [00:04<00:00, 12.81it/s]\n",
      "Generating masks:   0%|          | 0/480 [00:00<?, ?it/s]"
     ]
    },
    {
     "name": "stdout",
     "output_type": "stream",
     "text": [
      "generating heatmap #33...\n"
     ]
    },
    {
     "name": "stderr",
     "output_type": "stream",
     "text": [
      "Generating masks: 100%|██████████| 480/480 [00:24<00:00, 19.48it/s]\n",
      "Generating masks: 100%|██████████| 480/480 [00:24<00:00, 19.42it/s]\n",
      "Generating masks: 100%|██████████| 64/64 [00:04<00:00, 12.86it/s]\n",
      "Generating masks:   0%|          | 0/480 [00:00<?, ?it/s]"
     ]
    },
    {
     "name": "stdout",
     "output_type": "stream",
     "text": [
      "generating heatmap #34...\n"
     ]
    },
    {
     "name": "stderr",
     "output_type": "stream",
     "text": [
      "Generating masks: 100%|██████████| 480/480 [00:24<00:00, 19.50it/s]\n",
      "Generating masks: 100%|██████████| 480/480 [00:24<00:00, 19.20it/s]\n",
      "Generating masks: 100%|██████████| 64/64 [00:04<00:00, 13.05it/s]\n",
      "Generating masks:   0%|          | 0/480 [00:00<?, ?it/s]"
     ]
    },
    {
     "name": "stdout",
     "output_type": "stream",
     "text": [
      "generating heatmap #35...\n"
     ]
    },
    {
     "name": "stderr",
     "output_type": "stream",
     "text": [
      "Generating masks: 100%|██████████| 480/480 [00:24<00:00, 19.47it/s]\n",
      "Generating masks: 100%|██████████| 480/480 [00:25<00:00, 18.99it/s]\n",
      "Generating masks: 100%|██████████| 64/64 [00:05<00:00, 12.76it/s]\n",
      "Generating masks:   0%|          | 0/480 [00:00<?, ?it/s]"
     ]
    },
    {
     "name": "stdout",
     "output_type": "stream",
     "text": [
      "generating heatmap #36...\n"
     ]
    },
    {
     "name": "stderr",
     "output_type": "stream",
     "text": [
      "Generating masks: 100%|██████████| 480/480 [00:24<00:00, 19.39it/s]\n",
      "Generating masks: 100%|██████████| 480/480 [00:25<00:00, 19.16it/s]\n",
      "Generating masks: 100%|██████████| 64/64 [00:05<00:00, 12.73it/s]\n",
      "Generating masks:   0%|          | 0/480 [00:00<?, ?it/s]"
     ]
    },
    {
     "name": "stdout",
     "output_type": "stream",
     "text": [
      "generating heatmap #37...\n"
     ]
    },
    {
     "name": "stderr",
     "output_type": "stream",
     "text": [
      "Generating masks: 100%|██████████| 480/480 [00:24<00:00, 19.48it/s]\n",
      "Generating masks: 100%|██████████| 480/480 [00:25<00:00, 18.74it/s]\n",
      "Generating masks: 100%|██████████| 64/64 [00:05<00:00, 12.65it/s]\n",
      "Generating masks:   0%|          | 0/480 [00:00<?, ?it/s]"
     ]
    },
    {
     "name": "stdout",
     "output_type": "stream",
     "text": [
      "generating heatmap #38...\n"
     ]
    },
    {
     "name": "stderr",
     "output_type": "stream",
     "text": [
      "Generating masks: 100%|██████████| 480/480 [00:24<00:00, 19.51it/s]\n",
      "Generating masks: 100%|██████████| 480/480 [00:24<00:00, 19.51it/s]\n",
      "Generating masks: 100%|██████████| 64/64 [00:04<00:00, 12.80it/s]\n",
      "Generating masks:   0%|          | 0/480 [00:00<?, ?it/s]"
     ]
    },
    {
     "name": "stdout",
     "output_type": "stream",
     "text": [
      "generating heatmap #39...\n"
     ]
    },
    {
     "name": "stderr",
     "output_type": "stream",
     "text": [
      "Generating masks: 100%|██████████| 480/480 [00:24<00:00, 19.26it/s]\n",
      "Generating masks: 100%|██████████| 480/480 [00:25<00:00, 18.84it/s]\n",
      "Generating masks: 100%|██████████| 64/64 [00:05<00:00, 12.76it/s]\n",
      "Generating masks:   0%|          | 0/480 [00:00<?, ?it/s]"
     ]
    },
    {
     "name": "stdout",
     "output_type": "stream",
     "text": [
      "generating heatmap #40...\n"
     ]
    },
    {
     "name": "stderr",
     "output_type": "stream",
     "text": [
      "Generating masks: 100%|██████████| 480/480 [00:24<00:00, 19.62it/s]\n",
      "Generating masks: 100%|██████████| 480/480 [00:25<00:00, 18.76it/s]\n",
      "Generating masks: 100%|██████████| 64/64 [00:04<00:00, 12.82it/s]\n",
      "Generating masks:   0%|          | 0/480 [00:00<?, ?it/s]"
     ]
    },
    {
     "name": "stdout",
     "output_type": "stream",
     "text": [
      "generating heatmap #41...\n"
     ]
    },
    {
     "name": "stderr",
     "output_type": "stream",
     "text": [
      "Generating masks: 100%|██████████| 480/480 [00:24<00:00, 19.43it/s]\n",
      "Generating masks: 100%|██████████| 480/480 [00:24<00:00, 19.35it/s]\n",
      "Generating masks: 100%|██████████| 64/64 [00:05<00:00, 12.72it/s]\n",
      "Generating masks:   0%|          | 0/480 [00:00<?, ?it/s]"
     ]
    },
    {
     "name": "stdout",
     "output_type": "stream",
     "text": [
      "generating heatmap #42...\n"
     ]
    },
    {
     "name": "stderr",
     "output_type": "stream",
     "text": [
      "Generating masks: 100%|██████████| 480/480 [00:24<00:00, 19.29it/s]\n",
      "Generating masks: 100%|██████████| 480/480 [00:25<00:00, 18.85it/s]\n",
      "Generating masks: 100%|██████████| 64/64 [00:05<00:00, 12.61it/s]\n"
     ]
    },
    {
     "name": "stdout",
     "output_type": "stream",
     "text": [
      "generating heatmap #43...\n"
     ]
    },
    {
     "name": "stderr",
     "output_type": "stream",
     "text": [
      "Generating masks: 100%|██████████| 480/480 [00:24<00:00, 19.27it/s]\n",
      "Generating masks: 100%|██████████| 480/480 [00:24<00:00, 19.35it/s]\n",
      "Generating masks: 100%|██████████| 64/64 [00:05<00:00, 12.70it/s]\n",
      "Generating masks:   0%|          | 0/480 [00:00<?, ?it/s]"
     ]
    },
    {
     "name": "stdout",
     "output_type": "stream",
     "text": [
      "generating heatmap #44...\n"
     ]
    },
    {
     "name": "stderr",
     "output_type": "stream",
     "text": [
      "Generating masks: 100%|██████████| 480/480 [00:24<00:00, 19.47it/s]\n",
      "Generating masks: 100%|██████████| 480/480 [00:25<00:00, 18.91it/s]\n",
      "Generating masks: 100%|██████████| 64/64 [00:05<00:00, 12.79it/s]\n",
      "Generating masks:   0%|          | 0/480 [00:00<?, ?it/s]"
     ]
    },
    {
     "name": "stdout",
     "output_type": "stream",
     "text": [
      "generating heatmap #45...\n"
     ]
    },
    {
     "name": "stderr",
     "output_type": "stream",
     "text": [
      "Generating masks: 100%|██████████| 480/480 [00:24<00:00, 19.51it/s]\n",
      "Generating masks: 100%|██████████| 480/480 [00:24<00:00, 19.63it/s]\n",
      "Generating masks: 100%|██████████| 64/64 [00:05<00:00, 12.72it/s]\n",
      "Generating masks:   0%|          | 0/480 [00:00<?, ?it/s]"
     ]
    },
    {
     "name": "stdout",
     "output_type": "stream",
     "text": [
      "generating heatmap #46...\n"
     ]
    },
    {
     "name": "stderr",
     "output_type": "stream",
     "text": [
      "Generating masks: 100%|██████████| 480/480 [00:24<00:00, 19.28it/s]\n",
      "Generating masks: 100%|██████████| 480/480 [00:25<00:00, 19.10it/s]\n",
      "Generating masks: 100%|██████████| 64/64 [00:05<00:00, 12.75it/s]\n",
      "Generating masks:   0%|          | 0/480 [00:00<?, ?it/s]"
     ]
    },
    {
     "name": "stdout",
     "output_type": "stream",
     "text": [
      "generating heatmap #47...\n"
     ]
    },
    {
     "name": "stderr",
     "output_type": "stream",
     "text": [
      "Generating masks: 100%|██████████| 480/480 [00:24<00:00, 19.43it/s]\n",
      "Generating masks: 100%|██████████| 480/480 [00:25<00:00, 19.02it/s]\n",
      "Generating masks: 100%|██████████| 64/64 [00:04<00:00, 12.85it/s]\n",
      "Generating masks:   0%|          | 0/480 [00:00<?, ?it/s]"
     ]
    },
    {
     "name": "stdout",
     "output_type": "stream",
     "text": [
      "generating heatmap #48...\n"
     ]
    },
    {
     "name": "stderr",
     "output_type": "stream",
     "text": [
      "Generating masks: 100%|██████████| 480/480 [00:24<00:00, 19.38it/s]\n",
      "Generating masks: 100%|██████████| 480/480 [00:24<00:00, 19.35it/s]\n",
      "Generating masks: 100%|██████████| 64/64 [00:05<00:00, 12.52it/s]\n",
      "Generating masks:   0%|          | 0/480 [00:00<?, ?it/s]"
     ]
    },
    {
     "name": "stdout",
     "output_type": "stream",
     "text": [
      "generating heatmap #49...\n"
     ]
    },
    {
     "name": "stderr",
     "output_type": "stream",
     "text": [
      "Generating masks: 100%|██████████| 480/480 [00:24<00:00, 19.58it/s]\n",
      "Generating masks: 100%|██████████| 480/480 [00:25<00:00, 18.84it/s]\n",
      "Generating masks: 100%|██████████| 64/64 [00:05<00:00, 11.53it/s]\n",
      "Generating masks:   0%|          | 0/480 [00:00<?, ?it/s]"
     ]
    },
    {
     "name": "stdout",
     "output_type": "stream",
     "text": [
      "generating heatmap #50...\n"
     ]
    },
    {
     "name": "stderr",
     "output_type": "stream",
     "text": [
      "Generating masks: 100%|██████████| 480/480 [00:27<00:00, 17.28it/s]\n",
      "Generating masks: 100%|██████████| 480/480 [00:24<00:00, 19.24it/s]\n",
      "Generating masks: 100%|██████████| 64/64 [00:05<00:00, 12.62it/s]\n",
      "Generating masks:   0%|          | 0/480 [00:00<?, ?it/s]"
     ]
    },
    {
     "name": "stdout",
     "output_type": "stream",
     "text": [
      "generating heatmap #51...\n"
     ]
    },
    {
     "name": "stderr",
     "output_type": "stream",
     "text": [
      "Generating masks: 100%|██████████| 480/480 [00:24<00:00, 19.42it/s]\n",
      "Generating masks: 100%|██████████| 480/480 [00:25<00:00, 18.96it/s]\n",
      "Generating masks: 100%|██████████| 64/64 [00:05<00:00, 12.36it/s]\n",
      "Generating masks:   0%|          | 0/480 [00:00<?, ?it/s]"
     ]
    },
    {
     "name": "stdout",
     "output_type": "stream",
     "text": [
      "generating heatmap #52...\n"
     ]
    },
    {
     "name": "stderr",
     "output_type": "stream",
     "text": [
      "Generating masks: 100%|██████████| 480/480 [00:24<00:00, 19.55it/s]\n",
      "Generating masks: 100%|██████████| 480/480 [00:25<00:00, 19.15it/s]\n",
      "Generating masks: 100%|██████████| 64/64 [00:05<00:00, 12.55it/s]\n",
      "Generating masks:   0%|          | 0/480 [00:00<?, ?it/s]"
     ]
    },
    {
     "name": "stdout",
     "output_type": "stream",
     "text": [
      "generating heatmap #53...\n"
     ]
    },
    {
     "name": "stderr",
     "output_type": "stream",
     "text": [
      "Generating masks: 100%|██████████| 480/480 [00:24<00:00, 19.38it/s]\n",
      "Generating masks: 100%|██████████| 480/480 [00:24<00:00, 19.39it/s]\n",
      "Generating masks: 100%|██████████| 64/64 [00:05<00:00, 12.34it/s]\n",
      "Generating masks:   0%|          | 0/480 [00:00<?, ?it/s]"
     ]
    },
    {
     "name": "stdout",
     "output_type": "stream",
     "text": [
      "generating heatmap #54...\n"
     ]
    },
    {
     "name": "stderr",
     "output_type": "stream",
     "text": [
      "Generating masks: 100%|██████████| 480/480 [00:24<00:00, 19.40it/s]\n",
      "Generating masks: 100%|██████████| 480/480 [00:24<00:00, 19.44it/s]\n",
      "Generating masks: 100%|██████████| 64/64 [00:05<00:00, 12.39it/s]\n"
     ]
    },
    {
     "name": "stdout",
     "output_type": "stream",
     "text": [
      "generating heatmap #55...\n"
     ]
    },
    {
     "name": "stderr",
     "output_type": "stream",
     "text": [
      "Generating masks: 100%|██████████| 480/480 [00:24<00:00, 19.32it/s]\n",
      "Generating masks: 100%|██████████| 480/480 [00:24<00:00, 19.31it/s]\n",
      "Generating masks: 100%|██████████| 64/64 [00:05<00:00, 12.65it/s]\n",
      "Generating masks:   0%|          | 0/480 [00:00<?, ?it/s]"
     ]
    },
    {
     "name": "stdout",
     "output_type": "stream",
     "text": [
      "generating heatmap #56...\n"
     ]
    },
    {
     "name": "stderr",
     "output_type": "stream",
     "text": [
      "Generating masks: 100%|██████████| 480/480 [00:24<00:00, 19.29it/s]\n",
      "Generating masks: 100%|██████████| 480/480 [00:24<00:00, 19.27it/s]\n",
      "Generating masks: 100%|██████████| 64/64 [00:05<00:00, 12.48it/s]\n",
      "Generating masks:   0%|          | 0/480 [00:00<?, ?it/s]"
     ]
    },
    {
     "name": "stdout",
     "output_type": "stream",
     "text": [
      "generating heatmap #57...\n"
     ]
    },
    {
     "name": "stderr",
     "output_type": "stream",
     "text": [
      "Generating masks: 100%|██████████| 480/480 [00:24<00:00, 19.55it/s]\n",
      "Generating masks: 100%|██████████| 480/480 [00:24<00:00, 19.57it/s]\n",
      "Generating masks: 100%|██████████| 64/64 [00:05<00:00, 12.39it/s]\n",
      "Generating masks:   0%|          | 0/480 [00:00<?, ?it/s]"
     ]
    },
    {
     "name": "stdout",
     "output_type": "stream",
     "text": [
      "generating heatmap #58...\n"
     ]
    },
    {
     "name": "stderr",
     "output_type": "stream",
     "text": [
      "Generating masks: 100%|██████████| 480/480 [00:24<00:00, 19.45it/s]\n",
      "Generating masks: 100%|██████████| 480/480 [00:24<00:00, 19.44it/s]\n",
      "Generating masks: 100%|██████████| 64/64 [00:05<00:00, 12.49it/s]\n",
      "Generating masks:   0%|          | 0/480 [00:00<?, ?it/s]"
     ]
    },
    {
     "name": "stdout",
     "output_type": "stream",
     "text": [
      "generating heatmap #59...\n"
     ]
    },
    {
     "name": "stderr",
     "output_type": "stream",
     "text": [
      "Generating masks: 100%|██████████| 480/480 [00:24<00:00, 19.48it/s]\n",
      "Generating masks: 100%|██████████| 480/480 [00:24<00:00, 19.37it/s]\n",
      "Generating masks: 100%|██████████| 64/64 [00:05<00:00, 12.36it/s]\n",
      "Generating masks:   0%|          | 0/480 [00:00<?, ?it/s]"
     ]
    },
    {
     "name": "stdout",
     "output_type": "stream",
     "text": [
      "generating heatmap #60...\n"
     ]
    },
    {
     "name": "stderr",
     "output_type": "stream",
     "text": [
      "Generating masks: 100%|██████████| 480/480 [00:24<00:00, 19.34it/s]\n",
      "Generating masks: 100%|██████████| 480/480 [00:24<00:00, 19.27it/s]\n",
      "Generating masks: 100%|██████████| 64/64 [00:05<00:00, 12.40it/s]\n",
      "Generating masks:   0%|          | 0/480 [00:00<?, ?it/s]"
     ]
    },
    {
     "name": "stdout",
     "output_type": "stream",
     "text": [
      "generating heatmap #61...\n"
     ]
    },
    {
     "name": "stderr",
     "output_type": "stream",
     "text": [
      "Generating masks: 100%|██████████| 480/480 [00:24<00:00, 19.28it/s]\n",
      "Generating masks: 100%|██████████| 480/480 [00:24<00:00, 19.25it/s]\n",
      "Generating masks: 100%|██████████| 64/64 [00:05<00:00, 12.36it/s]\n",
      "Generating masks:   0%|          | 0/480 [00:00<?, ?it/s]"
     ]
    },
    {
     "name": "stdout",
     "output_type": "stream",
     "text": [
      "generating heatmap #62...\n"
     ]
    },
    {
     "name": "stderr",
     "output_type": "stream",
     "text": [
      "Generating masks: 100%|██████████| 480/480 [00:24<00:00, 19.37it/s]\n",
      "Generating masks: 100%|██████████| 480/480 [00:24<00:00, 19.43it/s]\n",
      "Generating masks: 100%|██████████| 64/64 [00:05<00:00, 12.42it/s]\n",
      "Generating masks:   0%|          | 0/480 [00:00<?, ?it/s]"
     ]
    },
    {
     "name": "stdout",
     "output_type": "stream",
     "text": [
      "generating heatmap #63...\n"
     ]
    },
    {
     "name": "stderr",
     "output_type": "stream",
     "text": [
      "Generating masks: 100%|██████████| 480/480 [00:24<00:00, 19.26it/s]\n",
      "Generating masks: 100%|██████████| 480/480 [00:25<00:00, 19.19it/s]\n",
      "Generating masks: 100%|██████████| 64/64 [00:05<00:00, 12.39it/s]\n",
      "Generating masks:   0%|          | 0/480 [00:00<?, ?it/s]"
     ]
    },
    {
     "name": "stdout",
     "output_type": "stream",
     "text": [
      "generating heatmap #64...\n"
     ]
    },
    {
     "name": "stderr",
     "output_type": "stream",
     "text": [
      "Generating masks: 100%|██████████| 480/480 [00:24<00:00, 19.24it/s]\n",
      "Generating masks: 100%|██████████| 480/480 [00:25<00:00, 19.18it/s]\n",
      "Generating masks: 100%|██████████| 64/64 [00:06<00:00,  9.98it/s]\n",
      "Generating masks:   0%|          | 0/480 [00:00<?, ?it/s]"
     ]
    },
    {
     "name": "stdout",
     "output_type": "stream",
     "text": [
      "generating heatmap #65...\n"
     ]
    },
    {
     "name": "stderr",
     "output_type": "stream",
     "text": [
      "Generating masks: 100%|██████████| 480/480 [00:24<00:00, 19.43it/s]\n",
      "Generating masks: 100%|██████████| 480/480 [00:24<00:00, 19.41it/s]\n",
      "Generating masks: 100%|██████████| 64/64 [00:05<00:00, 12.53it/s]\n",
      "Generating masks:   0%|          | 0/480 [00:00<?, ?it/s]"
     ]
    },
    {
     "name": "stdout",
     "output_type": "stream",
     "text": [
      "generating heatmap #66...\n"
     ]
    },
    {
     "name": "stderr",
     "output_type": "stream",
     "text": [
      "Generating masks: 100%|██████████| 480/480 [00:24<00:00, 19.43it/s]\n",
      "Generating masks: 100%|██████████| 480/480 [00:24<00:00, 19.26it/s]\n",
      "Generating masks: 100%|██████████| 64/64 [00:05<00:00, 12.31it/s]\n"
     ]
    },
    {
     "name": "stdout",
     "output_type": "stream",
     "text": [
      "generating heatmap #67...\n"
     ]
    },
    {
     "name": "stderr",
     "output_type": "stream",
     "text": [
      "Generating masks: 100%|██████████| 480/480 [00:24<00:00, 19.33it/s]\n",
      "Generating masks: 100%|██████████| 480/480 [00:25<00:00, 19.16it/s]\n",
      "Generating masks: 100%|██████████| 64/64 [00:05<00:00, 12.40it/s]\n",
      "Generating masks:   0%|          | 0/480 [00:00<?, ?it/s]"
     ]
    },
    {
     "name": "stdout",
     "output_type": "stream",
     "text": [
      "generating heatmap #68...\n"
     ]
    },
    {
     "name": "stderr",
     "output_type": "stream",
     "text": [
      "Generating masks: 100%|██████████| 480/480 [00:24<00:00, 19.33it/s]\n",
      "Generating masks: 100%|██████████| 480/480 [00:25<00:00, 19.14it/s]\n",
      "Generating masks: 100%|██████████| 64/64 [00:05<00:00, 12.51it/s]\n"
     ]
    },
    {
     "name": "stdout",
     "output_type": "stream",
     "text": [
      "generating heatmap #69...\n"
     ]
    },
    {
     "name": "stderr",
     "output_type": "stream",
     "text": [
      "Generating masks: 100%|██████████| 480/480 [00:24<00:00, 19.25it/s]\n",
      "Generating masks: 100%|██████████| 480/480 [00:24<00:00, 19.40it/s]\n",
      "Generating masks: 100%|██████████| 64/64 [00:05<00:00, 12.35it/s]\n",
      "Generating masks:   0%|          | 0/480 [00:00<?, ?it/s]"
     ]
    },
    {
     "name": "stdout",
     "output_type": "stream",
     "text": [
      "generating heatmap #70...\n"
     ]
    },
    {
     "name": "stderr",
     "output_type": "stream",
     "text": [
      "Generating masks: 100%|██████████| 480/480 [00:24<00:00, 19.42it/s]\n",
      "Generating masks: 100%|██████████| 480/480 [00:24<00:00, 19.44it/s]\n",
      "Generating masks: 100%|██████████| 64/64 [00:05<00:00, 12.34it/s]\n"
     ]
    },
    {
     "name": "stdout",
     "output_type": "stream",
     "text": [
      "generating heatmap #71...\n"
     ]
    },
    {
     "name": "stderr",
     "output_type": "stream",
     "text": [
      "Generating masks: 100%|██████████| 480/480 [00:24<00:00, 19.52it/s]\n",
      "Generating masks: 100%|██████████| 480/480 [00:24<00:00, 19.49it/s]\n",
      "Generating masks: 100%|██████████| 64/64 [00:05<00:00, 12.31it/s]\n",
      "Generating masks:   0%|          | 0/480 [00:00<?, ?it/s]"
     ]
    },
    {
     "name": "stdout",
     "output_type": "stream",
     "text": [
      "generating heatmap #72...\n"
     ]
    },
    {
     "name": "stderr",
     "output_type": "stream",
     "text": [
      "Generating masks: 100%|██████████| 480/480 [00:24<00:00, 19.32it/s]\n",
      "Generating masks: 100%|██████████| 480/480 [00:25<00:00, 19.15it/s]\n",
      "Generating masks: 100%|██████████| 64/64 [00:05<00:00, 12.24it/s]\n",
      "Generating masks:   0%|          | 0/480 [00:00<?, ?it/s]"
     ]
    },
    {
     "name": "stdout",
     "output_type": "stream",
     "text": [
      "generating heatmap #73...\n"
     ]
    },
    {
     "name": "stderr",
     "output_type": "stream",
     "text": [
      "Generating masks: 100%|██████████| 480/480 [00:24<00:00, 19.30it/s]\n",
      "Generating masks: 100%|██████████| 480/480 [00:24<00:00, 19.37it/s]\n",
      "Generating masks: 100%|██████████| 64/64 [00:05<00:00, 12.41it/s]\n",
      "Generating masks:   0%|          | 0/480 [00:00<?, ?it/s]"
     ]
    },
    {
     "name": "stdout",
     "output_type": "stream",
     "text": [
      "generating heatmap #74...\n"
     ]
    },
    {
     "name": "stderr",
     "output_type": "stream",
     "text": [
      "Generating masks: 100%|██████████| 480/480 [00:24<00:00, 19.42it/s]\n",
      "Generating masks: 100%|██████████| 480/480 [00:24<00:00, 19.32it/s]\n",
      "Generating masks: 100%|██████████| 64/64 [00:05<00:00, 12.20it/s]\n",
      "Generating masks:   0%|          | 0/480 [00:00<?, ?it/s]"
     ]
    },
    {
     "name": "stdout",
     "output_type": "stream",
     "text": [
      "generating heatmap #75...\n"
     ]
    },
    {
     "name": "stderr",
     "output_type": "stream",
     "text": [
      "Generating masks: 100%|██████████| 480/480 [00:24<00:00, 19.23it/s]\n",
      "Generating masks: 100%|██████████| 480/480 [00:24<00:00, 19.27it/s]\n",
      "Generating masks: 100%|██████████| 64/64 [00:05<00:00, 12.29it/s]\n",
      "Generating masks:   0%|          | 0/480 [00:00<?, ?it/s]"
     ]
    },
    {
     "name": "stdout",
     "output_type": "stream",
     "text": [
      "generating heatmap #76...\n"
     ]
    },
    {
     "name": "stderr",
     "output_type": "stream",
     "text": [
      "Generating masks: 100%|██████████| 480/480 [00:24<00:00, 19.26it/s]\n",
      "Generating masks: 100%|██████████| 480/480 [00:24<00:00, 19.36it/s]\n",
      "Generating masks: 100%|██████████| 64/64 [00:05<00:00, 12.23it/s]\n",
      "Generating masks:   0%|          | 0/480 [00:00<?, ?it/s]"
     ]
    },
    {
     "name": "stdout",
     "output_type": "stream",
     "text": [
      "generating heatmap #77...\n"
     ]
    },
    {
     "name": "stderr",
     "output_type": "stream",
     "text": [
      "Generating masks: 100%|██████████| 480/480 [00:24<00:00, 19.46it/s]\n",
      "Generating masks: 100%|██████████| 480/480 [00:24<00:00, 19.40it/s]\n",
      "Generating masks: 100%|██████████| 64/64 [00:05<00:00, 12.36it/s]\n"
     ]
    },
    {
     "name": "stdout",
     "output_type": "stream",
     "text": [
      "generating heatmap #78...\n"
     ]
    },
    {
     "name": "stderr",
     "output_type": "stream",
     "text": [
      "Generating masks: 100%|██████████| 480/480 [00:24<00:00, 19.35it/s]\n",
      "Generating masks: 100%|██████████| 480/480 [00:24<00:00, 19.51it/s]\n",
      "Generating masks: 100%|██████████| 64/64 [00:05<00:00, 12.29it/s]\n",
      "Generating masks:   0%|          | 0/480 [00:00<?, ?it/s]"
     ]
    },
    {
     "name": "stdout",
     "output_type": "stream",
     "text": [
      "generating heatmap #79...\n"
     ]
    },
    {
     "name": "stderr",
     "output_type": "stream",
     "text": [
      "Generating masks: 100%|██████████| 480/480 [00:24<00:00, 19.29it/s]\n",
      "Generating masks: 100%|██████████| 480/480 [00:24<00:00, 19.44it/s]\n",
      "Generating masks: 100%|██████████| 64/64 [00:05<00:00, 12.29it/s]\n",
      "Generating masks:   0%|          | 0/480 [00:00<?, ?it/s]"
     ]
    },
    {
     "name": "stdout",
     "output_type": "stream",
     "text": [
      "generating heatmap #80...\n"
     ]
    },
    {
     "name": "stderr",
     "output_type": "stream",
     "text": [
      "Generating masks: 100%|██████████| 480/480 [00:24<00:00, 19.56it/s]\n",
      "Generating masks: 100%|██████████| 480/480 [00:24<00:00, 19.69it/s]\n",
      "Generating masks: 100%|██████████| 64/64 [00:05<00:00, 12.32it/s]\n",
      "Generating masks:   0%|          | 0/480 [00:00<?, ?it/s]"
     ]
    },
    {
     "name": "stdout",
     "output_type": "stream",
     "text": [
      "generating heatmap #81...\n"
     ]
    },
    {
     "name": "stderr",
     "output_type": "stream",
     "text": [
      "Generating masks: 100%|██████████| 480/480 [00:24<00:00, 19.48it/s]\n",
      "Generating masks: 100%|██████████| 480/480 [00:24<00:00, 19.21it/s]\n",
      "Generating masks: 100%|██████████| 64/64 [00:05<00:00, 12.36it/s]\n",
      "Generating masks:   0%|          | 0/480 [00:00<?, ?it/s]"
     ]
    },
    {
     "name": "stdout",
     "output_type": "stream",
     "text": [
      "generating heatmap #82...\n"
     ]
    },
    {
     "name": "stderr",
     "output_type": "stream",
     "text": [
      "Generating masks: 100%|██████████| 480/480 [00:24<00:00, 19.30it/s]\n",
      "Generating masks: 100%|██████████| 480/480 [00:24<00:00, 19.28it/s]\n",
      "Generating masks: 100%|██████████| 64/64 [00:05<00:00, 12.19it/s]\n",
      "Generating masks:   0%|          | 0/480 [00:00<?, ?it/s]"
     ]
    },
    {
     "name": "stdout",
     "output_type": "stream",
     "text": [
      "generating heatmap #83...\n"
     ]
    },
    {
     "name": "stderr",
     "output_type": "stream",
     "text": [
      "Generating masks: 100%|██████████| 480/480 [00:25<00:00, 19.13it/s]\n",
      "Generating masks: 100%|██████████| 480/480 [00:24<00:00, 19.35it/s]\n",
      "Generating masks: 100%|██████████| 64/64 [00:05<00:00, 12.24it/s]\n",
      "Generating masks:   0%|          | 0/480 [00:00<?, ?it/s]"
     ]
    },
    {
     "name": "stdout",
     "output_type": "stream",
     "text": [
      "generating heatmap #84...\n"
     ]
    },
    {
     "name": "stderr",
     "output_type": "stream",
     "text": [
      "Generating masks: 100%|██████████| 480/480 [00:24<00:00, 19.43it/s]\n",
      "Generating masks: 100%|██████████| 480/480 [00:24<00:00, 19.39it/s]\n",
      "Generating masks: 100%|██████████| 64/64 [00:05<00:00, 12.14it/s]\n",
      "Generating masks:   0%|          | 0/480 [00:00<?, ?it/s]"
     ]
    },
    {
     "name": "stdout",
     "output_type": "stream",
     "text": [
      "generating heatmap #85...\n"
     ]
    },
    {
     "name": "stderr",
     "output_type": "stream",
     "text": [
      "Generating masks: 100%|██████████| 480/480 [00:24<00:00, 19.43it/s]\n",
      "Generating masks: 100%|██████████| 480/480 [00:24<00:00, 19.37it/s]\n",
      "Generating masks: 100%|██████████| 64/64 [00:05<00:00, 11.96it/s]\n",
      "Generating masks:   0%|          | 0/480 [00:00<?, ?it/s]"
     ]
    },
    {
     "name": "stdout",
     "output_type": "stream",
     "text": [
      "generating heatmap #86...\n"
     ]
    },
    {
     "name": "stderr",
     "output_type": "stream",
     "text": [
      "Generating masks: 100%|██████████| 480/480 [00:24<00:00, 19.31it/s]\n",
      "Generating masks: 100%|██████████| 480/480 [00:24<00:00, 19.29it/s]\n",
      "Generating masks: 100%|██████████| 64/64 [00:05<00:00, 12.17it/s]\n",
      "Generating masks:   0%|          | 0/480 [00:00<?, ?it/s]"
     ]
    },
    {
     "name": "stdout",
     "output_type": "stream",
     "text": [
      "generating heatmap #87...\n"
     ]
    },
    {
     "name": "stderr",
     "output_type": "stream",
     "text": [
      "Generating masks: 100%|██████████| 480/480 [00:24<00:00, 19.30it/s]\n",
      "Generating masks: 100%|██████████| 480/480 [00:24<00:00, 19.31it/s]\n",
      "Generating masks: 100%|██████████| 64/64 [00:05<00:00, 11.90it/s]\n",
      "Generating masks:   0%|          | 0/480 [00:00<?, ?it/s]"
     ]
    },
    {
     "name": "stdout",
     "output_type": "stream",
     "text": [
      "generating heatmap #88...\n"
     ]
    },
    {
     "name": "stderr",
     "output_type": "stream",
     "text": [
      "Generating masks: 100%|██████████| 480/480 [00:24<00:00, 19.30it/s]\n",
      "Generating masks: 100%|██████████| 480/480 [00:24<00:00, 19.28it/s]\n",
      "Generating masks: 100%|██████████| 64/64 [00:05<00:00, 11.93it/s]\n",
      "Generating masks:   0%|          | 0/480 [00:00<?, ?it/s]"
     ]
    },
    {
     "name": "stdout",
     "output_type": "stream",
     "text": [
      "generating heatmap #89...\n"
     ]
    },
    {
     "name": "stderr",
     "output_type": "stream",
     "text": [
      "Generating masks: 100%|██████████| 480/480 [00:24<00:00, 19.35it/s]\n",
      "Generating masks: 100%|██████████| 480/480 [00:24<00:00, 19.24it/s]\n",
      "Generating masks: 100%|██████████| 64/64 [00:05<00:00, 12.03it/s]\n"
     ]
    },
    {
     "name": "stdout",
     "output_type": "stream",
     "text": [
      "generating heatmap #90...\n"
     ]
    },
    {
     "name": "stderr",
     "output_type": "stream",
     "text": [
      "Generating masks: 100%|██████████| 480/480 [00:24<00:00, 19.32it/s]\n",
      "Generating masks: 100%|██████████| 480/480 [00:25<00:00, 19.15it/s]\n",
      "Generating masks: 100%|██████████| 64/64 [00:05<00:00, 11.95it/s]\n",
      "Generating masks:   0%|          | 0/480 [00:00<?, ?it/s]"
     ]
    },
    {
     "name": "stdout",
     "output_type": "stream",
     "text": [
      "generating heatmap #91...\n"
     ]
    },
    {
     "name": "stderr",
     "output_type": "stream",
     "text": [
      "Generating masks: 100%|██████████| 480/480 [00:24<00:00, 19.26it/s]\n",
      "Generating masks: 100%|██████████| 480/480 [00:25<00:00, 19.16it/s]\n",
      "Generating masks: 100%|██████████| 64/64 [00:05<00:00, 11.83it/s]\n",
      "Generating masks:   0%|          | 0/480 [00:00<?, ?it/s]"
     ]
    },
    {
     "name": "stdout",
     "output_type": "stream",
     "text": [
      "generating heatmap #92...\n"
     ]
    },
    {
     "name": "stderr",
     "output_type": "stream",
     "text": [
      "Generating masks: 100%|██████████| 480/480 [00:25<00:00, 19.13it/s]\n",
      "Generating masks: 100%|██████████| 480/480 [00:24<00:00, 19.31it/s]\n",
      "Generating masks: 100%|██████████| 64/64 [00:05<00:00, 11.89it/s]\n",
      "Generating masks:   0%|          | 0/480 [00:00<?, ?it/s]"
     ]
    },
    {
     "name": "stdout",
     "output_type": "stream",
     "text": [
      "generating heatmap #93...\n"
     ]
    },
    {
     "name": "stderr",
     "output_type": "stream",
     "text": [
      "Generating masks: 100%|██████████| 480/480 [00:24<00:00, 19.41it/s]\n",
      "Generating masks: 100%|██████████| 480/480 [00:25<00:00, 19.18it/s]\n",
      "Generating masks: 100%|██████████| 64/64 [00:05<00:00, 11.99it/s]\n",
      "Generating masks:   0%|          | 0/480 [00:00<?, ?it/s]"
     ]
    },
    {
     "name": "stdout",
     "output_type": "stream",
     "text": [
      "generating heatmap #94...\n"
     ]
    },
    {
     "name": "stderr",
     "output_type": "stream",
     "text": [
      "Generating masks: 100%|██████████| 480/480 [00:24<00:00, 19.25it/s]\n",
      "Generating masks: 100%|██████████| 480/480 [00:25<00:00, 19.10it/s]\n",
      "Generating masks: 100%|██████████| 64/64 [00:05<00:00, 11.87it/s]\n",
      "Generating masks:   0%|          | 0/480 [00:00<?, ?it/s]"
     ]
    },
    {
     "name": "stdout",
     "output_type": "stream",
     "text": [
      "generating heatmap #95...\n"
     ]
    },
    {
     "name": "stderr",
     "output_type": "stream",
     "text": [
      "Generating masks: 100%|██████████| 480/480 [00:24<00:00, 19.25it/s]\n",
      "Generating masks: 100%|██████████| 480/480 [00:24<00:00, 19.23it/s]\n",
      "Generating masks: 100%|██████████| 64/64 [00:05<00:00, 11.90it/s]\n",
      "Generating masks:   0%|          | 0/480 [00:00<?, ?it/s]"
     ]
    },
    {
     "name": "stdout",
     "output_type": "stream",
     "text": [
      "generating heatmap #96...\n"
     ]
    },
    {
     "name": "stderr",
     "output_type": "stream",
     "text": [
      "Generating masks: 100%|██████████| 480/480 [00:24<00:00, 19.27it/s]\n",
      "Generating masks: 100%|██████████| 480/480 [00:25<00:00, 19.00it/s]\n",
      "Generating masks: 100%|██████████| 64/64 [00:05<00:00, 11.90it/s]\n",
      "Generating masks:   0%|          | 0/480 [00:00<?, ?it/s]"
     ]
    },
    {
     "name": "stdout",
     "output_type": "stream",
     "text": [
      "generating heatmap #97...\n"
     ]
    },
    {
     "name": "stderr",
     "output_type": "stream",
     "text": [
      "Generating masks: 100%|██████████| 480/480 [00:24<00:00, 19.22it/s]\n",
      "Generating masks: 100%|██████████| 480/480 [00:25<00:00, 19.20it/s]\n",
      "Generating masks: 100%|██████████| 64/64 [00:05<00:00, 11.74it/s]\n",
      "Generating masks:   0%|          | 0/480 [00:00<?, ?it/s]"
     ]
    },
    {
     "name": "stdout",
     "output_type": "stream",
     "text": [
      "generating heatmap #98...\n"
     ]
    },
    {
     "name": "stderr",
     "output_type": "stream",
     "text": [
      "Generating masks: 100%|██████████| 480/480 [00:25<00:00, 19.07it/s]\n",
      "Generating masks: 100%|██████████| 480/480 [00:25<00:00, 19.19it/s]\n",
      "Generating masks: 100%|██████████| 64/64 [00:05<00:00, 11.92it/s]\n",
      "Generating masks:   0%|          | 0/480 [00:00<?, ?it/s]"
     ]
    },
    {
     "name": "stdout",
     "output_type": "stream",
     "text": [
      "generating heatmap #99...\n"
     ]
    },
    {
     "name": "stderr",
     "output_type": "stream",
     "text": [
      "Generating masks: 100%|██████████| 480/480 [00:25<00:00, 19.13it/s]\n",
      "Generating masks: 100%|██████████| 480/480 [00:25<00:00, 18.83it/s]\n",
      "Generating masks: 100%|██████████| 64/64 [00:05<00:00, 11.76it/s]\n"
     ]
    },
    {
     "name": "stdout",
     "output_type": "stream",
     "text": [
      "result for 1024 masks (t: 2:20:02)\n",
      "\tmean std: 0.007945915119364023\n",
      "\tmin std: 0.005760998324556283\n",
      "\tmax std: 0.010459754446245204\n",
      "\tstd std: 0.0005792769747603631\n",
      "saving std_heatmaps to ../../../../tmp\\risei-stability\\1616440225_m1024.npy ...\n"
     ]
    }
   ],
   "source": [
    "experiments = 100\n",
    "masks_counts = [1024]\n",
    "\n",
    "tracemalloc.start()\n",
    "\n",
    "run(experiments, masks_counts)"
   ]
  },
  {
   "cell_type": "code",
   "execution_count": 19,
   "metadata": {
    "scrolled": true
   },
   "outputs": [],
   "source": [
    "# from pympler import asizeof\n",
    "# a = np.zeros((1024, *input_shape[:-1]))\n",
    "# asizeof.asizeof(a) / 1024 / 1024"
   ]
  },
  {
   "cell_type": "code",
   "execution_count": 19,
   "metadata": {
    "scrolled": false
   },
   "outputs": [],
   "source": [
    "import linecache\n",
    "\n",
    "\n",
    "def display_top(snapshot, key_type='lineno', limit=300):\n",
    "    snapshot = snapshot.filter_traces((\n",
    "        tracemalloc.Filter(False, \"<frozen importlib._bootstrap>\"),\n",
    "        tracemalloc.Filter(False, \"<unknown>\"),\n",
    "    ))\n",
    "    top_stats = snapshot.statistics(key_type)\n",
    "\n",
    "    print(\"Top %s lines\" % limit)\n",
    "    for index, stat in enumerate(top_stats[:limit], 1):\n",
    "        frame = stat.traceback[0]\n",
    "        # replace \"/path/to/module/file.py\" with \"module/file.py\"\n",
    "        filename = os.sep.join(frame.filename.split(os.sep)[-2:])\n",
    "        print(\"#%s: %s:%s: %.1f MiB\"\n",
    "              % (index, filename, frame.lineno, stat.size / 1024 / 1024))\n",
    "        line = linecache.getline(frame.filename, frame.lineno).strip()\n",
    "        if line:\n",
    "            print('    %s' % line)\n",
    "            \n",
    "# snapshot = tracemalloc.take_snapshot()\n",
    "\n",
    "# display_top(snapshot)"
   ]
  },
  {
   "cell_type": "code",
   "execution_count": 18,
   "metadata": {},
   "outputs": [
    {
     "name": "stderr",
     "output_type": "stream",
     "text": [
      "\r",
      "Generating masks:   0%|          | 0/480 [00:00<?, ?it/s]"
     ]
    },
    {
     "name": "stdout",
     "output_type": "stream",
     "text": [
      "generating 100x 2048 masks...\n",
      "generating heatmap #0...\n"
     ]
    },
    {
     "name": "stderr",
     "output_type": "stream",
     "text": [
      "Generating masks: 100%|██████████| 480/480 [00:25<00:00, 18.74it/s]\n",
      "Generating masks: 100%|██████████| 480/480 [00:26<00:00, 18.39it/s]\n",
      "Generating masks: 100%|██████████| 480/480 [00:25<00:00, 18.80it/s]\n",
      "Generating masks: 100%|██████████| 480/480 [00:25<00:00, 18.49it/s]\n",
      "Generating masks: 100%|██████████| 128/128 [00:08<00:00, 14.30it/s]\n",
      "Generating masks:   0%|          | 0/480 [00:00<?, ?it/s]"
     ]
    },
    {
     "name": "stdout",
     "output_type": "stream",
     "text": [
      "generating heatmap #1...\n"
     ]
    },
    {
     "name": "stderr",
     "output_type": "stream",
     "text": [
      "Generating masks: 100%|██████████| 480/480 [00:25<00:00, 18.88it/s]\n",
      "Generating masks: 100%|██████████| 480/480 [00:25<00:00, 18.54it/s]\n",
      "Generating masks: 100%|██████████| 480/480 [00:25<00:00, 18.56it/s]\n",
      "Generating masks: 100%|██████████| 480/480 [00:25<00:00, 18.63it/s]\n",
      "Generating masks: 100%|██████████| 128/128 [00:09<00:00, 14.12it/s]\n",
      "Generating masks:   0%|          | 0/480 [00:00<?, ?it/s]"
     ]
    },
    {
     "name": "stdout",
     "output_type": "stream",
     "text": [
      "generating heatmap #2...\n"
     ]
    },
    {
     "name": "stderr",
     "output_type": "stream",
     "text": [
      "Generating masks: 100%|██████████| 480/480 [00:25<00:00, 18.91it/s]\n",
      "Generating masks: 100%|██████████| 480/480 [00:25<00:00, 18.65it/s]\n",
      "Generating masks: 100%|██████████| 480/480 [00:25<00:00, 18.68it/s]\n",
      "Generating masks: 100%|██████████| 480/480 [00:25<00:00, 18.60it/s]\n",
      "Generating masks: 100%|██████████| 128/128 [00:09<00:00, 14.15it/s]\n",
      "Generating masks:   0%|          | 0/480 [00:00<?, ?it/s]"
     ]
    },
    {
     "name": "stdout",
     "output_type": "stream",
     "text": [
      "generating heatmap #3...\n"
     ]
    },
    {
     "name": "stderr",
     "output_type": "stream",
     "text": [
      "Generating masks: 100%|██████████| 480/480 [00:25<00:00, 18.73it/s]\n",
      "Generating masks: 100%|██████████| 480/480 [00:26<00:00, 18.43it/s]\n",
      "Generating masks: 100%|██████████| 480/480 [00:25<00:00, 18.69it/s]\n",
      "Generating masks: 100%|██████████| 480/480 [00:25<00:00, 18.75it/s]\n",
      "Generating masks: 100%|██████████| 128/128 [00:09<00:00, 14.16it/s]\n",
      "Generating masks:   0%|          | 0/480 [00:00<?, ?it/s]"
     ]
    },
    {
     "name": "stdout",
     "output_type": "stream",
     "text": [
      "generating heatmap #4...\n"
     ]
    },
    {
     "name": "stderr",
     "output_type": "stream",
     "text": [
      "Generating masks: 100%|██████████| 480/480 [00:25<00:00, 18.86it/s]\n",
      "Generating masks: 100%|██████████| 480/480 [00:25<00:00, 18.83it/s]\n",
      "Generating masks: 100%|██████████| 480/480 [00:25<00:00, 18.83it/s]\n",
      "Generating masks: 100%|██████████| 480/480 [00:25<00:00, 18.76it/s]\n",
      "Generating masks: 100%|██████████| 128/128 [00:08<00:00, 14.49it/s]\n",
      "Generating masks:   0%|          | 0/480 [00:00<?, ?it/s]"
     ]
    },
    {
     "name": "stdout",
     "output_type": "stream",
     "text": [
      "generating heatmap #5...\n"
     ]
    },
    {
     "name": "stderr",
     "output_type": "stream",
     "text": [
      "Generating masks: 100%|██████████| 480/480 [00:25<00:00, 18.70it/s]\n",
      "Generating masks: 100%|██████████| 480/480 [00:26<00:00, 18.03it/s]\n",
      "Generating masks: 100%|██████████| 480/480 [00:25<00:00, 18.48it/s]\n",
      "Generating masks: 100%|██████████| 480/480 [00:25<00:00, 18.94it/s]\n",
      "Generating masks: 100%|██████████| 128/128 [00:09<00:00, 14.18it/s]\n",
      "Generating masks:   0%|          | 0/480 [00:00<?, ?it/s]"
     ]
    },
    {
     "name": "stdout",
     "output_type": "stream",
     "text": [
      "generating heatmap #6...\n"
     ]
    },
    {
     "name": "stderr",
     "output_type": "stream",
     "text": [
      "Generating masks: 100%|██████████| 480/480 [00:25<00:00, 18.89it/s]\n",
      "Generating masks: 100%|██████████| 480/480 [00:25<00:00, 18.73it/s]\n",
      "Generating masks: 100%|██████████| 480/480 [00:25<00:00, 18.49it/s]\n",
      "Generating masks: 100%|██████████| 480/480 [00:25<00:00, 18.71it/s]\n",
      "Generating masks: 100%|██████████| 128/128 [00:08<00:00, 14.37it/s]\n",
      "Generating masks:   0%|          | 0/480 [00:00<?, ?it/s]"
     ]
    },
    {
     "name": "stdout",
     "output_type": "stream",
     "text": [
      "generating heatmap #7...\n"
     ]
    },
    {
     "name": "stderr",
     "output_type": "stream",
     "text": [
      "Generating masks: 100%|██████████| 480/480 [00:25<00:00, 18.68it/s]\n",
      "Generating masks: 100%|██████████| 480/480 [00:25<00:00, 18.78it/s]\n",
      "Generating masks: 100%|██████████| 480/480 [00:25<00:00, 18.73it/s]\n",
      "Generating masks: 100%|██████████| 480/480 [00:25<00:00, 18.65it/s]\n",
      "Generating masks: 100%|██████████| 128/128 [00:09<00:00, 13.80it/s]\n",
      "Generating masks:   0%|          | 0/480 [00:00<?, ?it/s]"
     ]
    },
    {
     "name": "stdout",
     "output_type": "stream",
     "text": [
      "generating heatmap #8...\n"
     ]
    },
    {
     "name": "stderr",
     "output_type": "stream",
     "text": [
      "Generating masks: 100%|██████████| 480/480 [00:25<00:00, 18.89it/s]\n",
      "Generating masks: 100%|██████████| 480/480 [00:25<00:00, 18.95it/s]\n",
      "Generating masks: 100%|██████████| 480/480 [00:25<00:00, 18.83it/s]\n",
      "Generating masks: 100%|██████████| 480/480 [00:25<00:00, 18.84it/s]\n",
      "Generating masks: 100%|██████████| 128/128 [00:09<00:00, 14.06it/s]\n",
      "Generating masks:   0%|          | 0/480 [00:00<?, ?it/s]"
     ]
    },
    {
     "name": "stdout",
     "output_type": "stream",
     "text": [
      "generating heatmap #9...\n"
     ]
    },
    {
     "name": "stderr",
     "output_type": "stream",
     "text": [
      "Generating masks: 100%|██████████| 480/480 [00:25<00:00, 18.78it/s]\n",
      "Generating masks: 100%|██████████| 480/480 [00:25<00:00, 18.55it/s]\n",
      "Generating masks: 100%|██████████| 480/480 [00:25<00:00, 18.66it/s]\n",
      "Generating masks: 100%|██████████| 480/480 [00:25<00:00, 18.64it/s]\n",
      "Generating masks: 100%|██████████| 128/128 [00:08<00:00, 14.30it/s]\n",
      "Generating masks:   0%|          | 0/480 [00:00<?, ?it/s]"
     ]
    },
    {
     "name": "stdout",
     "output_type": "stream",
     "text": [
      "generating heatmap #10...\n"
     ]
    },
    {
     "name": "stderr",
     "output_type": "stream",
     "text": [
      "Generating masks: 100%|██████████| 480/480 [00:25<00:00, 18.68it/s]\n",
      "Generating masks: 100%|██████████| 480/480 [00:25<00:00, 18.64it/s]\n",
      "Generating masks: 100%|██████████| 480/480 [00:25<00:00, 18.57it/s]\n",
      "Generating masks: 100%|██████████| 480/480 [00:25<00:00, 18.58it/s]\n",
      "Generating masks: 100%|██████████| 128/128 [00:09<00:00, 14.04it/s]\n",
      "Generating masks:   0%|          | 0/480 [00:00<?, ?it/s]"
     ]
    },
    {
     "name": "stdout",
     "output_type": "stream",
     "text": [
      "generating heatmap #11...\n"
     ]
    },
    {
     "name": "stderr",
     "output_type": "stream",
     "text": [
      "Generating masks: 100%|██████████| 480/480 [00:25<00:00, 18.65it/s]\n",
      "Generating masks: 100%|██████████| 480/480 [00:25<00:00, 18.66it/s]\n",
      "Generating masks: 100%|██████████| 480/480 [00:25<00:00, 18.52it/s]\n",
      "Generating masks: 100%|██████████| 480/480 [00:26<00:00, 18.36it/s]\n",
      "Generating masks: 100%|██████████| 128/128 [00:09<00:00, 13.95it/s]\n",
      "Generating masks:   0%|          | 0/480 [00:00<?, ?it/s]"
     ]
    },
    {
     "name": "stdout",
     "output_type": "stream",
     "text": [
      "generating heatmap #12...\n"
     ]
    },
    {
     "name": "stderr",
     "output_type": "stream",
     "text": [
      "Generating masks: 100%|██████████| 480/480 [00:25<00:00, 18.52it/s]\n",
      "Generating masks: 100%|██████████| 480/480 [00:25<00:00, 18.81it/s]\n",
      "Generating masks: 100%|██████████| 480/480 [00:25<00:00, 18.66it/s]\n",
      "Generating masks: 100%|██████████| 480/480 [00:25<00:00, 18.66it/s]\n",
      "Generating masks: 100%|██████████| 128/128 [00:09<00:00, 14.12it/s]\n",
      "Generating masks:   0%|          | 0/480 [00:00<?, ?it/s]"
     ]
    },
    {
     "name": "stdout",
     "output_type": "stream",
     "text": [
      "generating heatmap #13...\n"
     ]
    },
    {
     "name": "stderr",
     "output_type": "stream",
     "text": [
      "Generating masks: 100%|██████████| 480/480 [00:25<00:00, 18.52it/s]\n",
      "Generating masks: 100%|██████████| 480/480 [00:26<00:00, 18.41it/s]\n",
      "Generating masks: 100%|██████████| 480/480 [00:26<00:00, 18.45it/s]\n",
      "Generating masks: 100%|██████████| 480/480 [00:25<00:00, 18.56it/s]\n",
      "Generating masks: 100%|██████████| 128/128 [00:09<00:00, 13.72it/s]\n",
      "Generating masks:   0%|          | 0/480 [00:00<?, ?it/s]"
     ]
    },
    {
     "name": "stdout",
     "output_type": "stream",
     "text": [
      "generating heatmap #14...\n"
     ]
    },
    {
     "name": "stderr",
     "output_type": "stream",
     "text": [
      "Generating masks: 100%|██████████| 480/480 [00:25<00:00, 18.60it/s]\n",
      "Generating masks: 100%|██████████| 480/480 [00:26<00:00, 18.41it/s]\n",
      "Generating masks: 100%|██████████| 480/480 [00:26<00:00, 18.30it/s]\n",
      "Generating masks: 100%|██████████| 480/480 [00:26<00:00, 18.42it/s]\n",
      "Generating masks: 100%|██████████| 128/128 [00:09<00:00, 13.81it/s]\n",
      "Generating masks:   0%|          | 0/480 [00:00<?, ?it/s]"
     ]
    },
    {
     "name": "stdout",
     "output_type": "stream",
     "text": [
      "generating heatmap #15...\n"
     ]
    },
    {
     "name": "stderr",
     "output_type": "stream",
     "text": [
      "Generating masks: 100%|██████████| 480/480 [00:25<00:00, 18.64it/s]\n",
      "Generating masks: 100%|██████████| 480/480 [00:25<00:00, 18.62it/s]\n",
      "Generating masks: 100%|██████████| 480/480 [00:25<00:00, 18.72it/s]\n",
      "Generating masks: 100%|██████████| 480/480 [00:25<00:00, 18.49it/s]\n",
      "Generating masks: 100%|██████████| 128/128 [00:09<00:00, 13.84it/s]\n",
      "Generating masks:   0%|          | 0/480 [00:00<?, ?it/s]"
     ]
    },
    {
     "name": "stdout",
     "output_type": "stream",
     "text": [
      "generating heatmap #16...\n"
     ]
    },
    {
     "name": "stderr",
     "output_type": "stream",
     "text": [
      "Generating masks: 100%|██████████| 480/480 [00:25<00:00, 18.55it/s]\n",
      "Generating masks: 100%|██████████| 480/480 [00:25<00:00, 18.84it/s]\n",
      "Generating masks: 100%|██████████| 480/480 [00:25<00:00, 18.54it/s]\n",
      "Generating masks: 100%|██████████| 480/480 [00:25<00:00, 18.57it/s]\n",
      "Generating masks: 100%|██████████| 128/128 [00:09<00:00, 13.77it/s]\n",
      "Generating masks:   0%|          | 0/480 [00:00<?, ?it/s]"
     ]
    },
    {
     "name": "stdout",
     "output_type": "stream",
     "text": [
      "generating heatmap #17...\n"
     ]
    },
    {
     "name": "stderr",
     "output_type": "stream",
     "text": [
      "Generating masks: 100%|██████████| 480/480 [00:25<00:00, 18.64it/s]\n",
      "Generating masks: 100%|██████████| 480/480 [00:26<00:00, 18.19it/s]\n",
      "Generating masks: 100%|██████████| 480/480 [00:26<00:00, 18.32it/s]\n",
      "Generating masks: 100%|██████████| 480/480 [00:25<00:00, 18.47it/s]\n",
      "Generating masks: 100%|██████████| 128/128 [00:09<00:00, 13.79it/s]\n",
      "Generating masks:   0%|          | 0/480 [00:00<?, ?it/s]"
     ]
    },
    {
     "name": "stdout",
     "output_type": "stream",
     "text": [
      "generating heatmap #18...\n"
     ]
    },
    {
     "name": "stderr",
     "output_type": "stream",
     "text": [
      "Generating masks: 100%|██████████| 480/480 [00:26<00:00, 18.11it/s]\n",
      "Generating masks: 100%|██████████| 480/480 [00:26<00:00, 18.08it/s]\n",
      "Generating masks: 100%|██████████| 480/480 [00:26<00:00, 18.02it/s]\n",
      "Generating masks: 100%|██████████| 480/480 [00:26<00:00, 18.22it/s]\n",
      "Generating masks: 100%|██████████| 128/128 [00:09<00:00, 13.46it/s]\n",
      "Generating masks:   0%|          | 0/480 [00:00<?, ?it/s]"
     ]
    },
    {
     "name": "stdout",
     "output_type": "stream",
     "text": [
      "generating heatmap #19...\n"
     ]
    },
    {
     "name": "stderr",
     "output_type": "stream",
     "text": [
      "Generating masks: 100%|██████████| 480/480 [00:25<00:00, 18.57it/s]\n",
      "Generating masks: 100%|██████████| 480/480 [00:25<00:00, 18.49it/s]\n",
      "Generating masks: 100%|██████████| 480/480 [00:25<00:00, 18.48it/s]\n",
      "Generating masks: 100%|██████████| 480/480 [00:26<00:00, 17.84it/s]\n",
      "Generating masks: 100%|██████████| 128/128 [00:09<00:00, 13.51it/s]\n",
      "Generating masks:   0%|          | 0/480 [00:00<?, ?it/s]"
     ]
    },
    {
     "name": "stdout",
     "output_type": "stream",
     "text": [
      "generating heatmap #20...\n"
     ]
    },
    {
     "name": "stderr",
     "output_type": "stream",
     "text": [
      "Generating masks: 100%|██████████| 480/480 [00:26<00:00, 18.39it/s]\n",
      "Generating masks: 100%|██████████| 480/480 [00:25<00:00, 18.64it/s]\n",
      "Generating masks: 100%|██████████| 480/480 [00:25<00:00, 18.51it/s]\n",
      "Generating masks: 100%|██████████| 480/480 [00:25<00:00, 18.54it/s]\n",
      "Generating masks: 100%|██████████| 128/128 [00:09<00:00, 13.52it/s]\n",
      "Generating masks:   0%|          | 0/480 [00:00<?, ?it/s]"
     ]
    },
    {
     "name": "stdout",
     "output_type": "stream",
     "text": [
      "generating heatmap #21...\n"
     ]
    },
    {
     "name": "stderr",
     "output_type": "stream",
     "text": [
      "Generating masks: 100%|██████████| 480/480 [00:25<00:00, 18.46it/s]\n",
      "Generating masks: 100%|██████████| 480/480 [00:26<00:00, 18.17it/s]\n",
      "Generating masks: 100%|██████████| 480/480 [00:25<00:00, 18.56it/s]\n",
      "Generating masks: 100%|██████████| 480/480 [00:25<00:00, 18.52it/s]\n",
      "Generating masks: 100%|██████████| 128/128 [00:09<00:00, 13.49it/s]\n",
      "Generating masks:   0%|          | 0/480 [00:00<?, ?it/s]"
     ]
    },
    {
     "name": "stdout",
     "output_type": "stream",
     "text": [
      "generating heatmap #22...\n"
     ]
    },
    {
     "name": "stderr",
     "output_type": "stream",
     "text": [
      "Generating masks: 100%|██████████| 480/480 [00:25<00:00, 18.55it/s]\n",
      "Generating masks: 100%|██████████| 480/480 [00:26<00:00, 18.34it/s]\n",
      "Generating masks: 100%|██████████| 480/480 [00:26<00:00, 18.27it/s]\n",
      "Generating masks: 100%|██████████| 480/480 [00:26<00:00, 18.13it/s]\n",
      "Generating masks: 100%|██████████| 128/128 [00:09<00:00, 13.53it/s]\n",
      "Generating masks:   0%|          | 0/480 [00:00<?, ?it/s]"
     ]
    },
    {
     "name": "stdout",
     "output_type": "stream",
     "text": [
      "generating heatmap #23...\n"
     ]
    },
    {
     "name": "stderr",
     "output_type": "stream",
     "text": [
      "Generating masks: 100%|██████████| 480/480 [00:26<00:00, 18.29it/s]\n",
      "Generating masks: 100%|██████████| 480/480 [00:26<00:00, 18.27it/s]\n",
      "Generating masks: 100%|██████████| 480/480 [00:26<00:00, 18.41it/s]\n",
      "Generating masks: 100%|██████████| 480/480 [00:26<00:00, 18.36it/s]\n",
      "Generating masks: 100%|██████████| 128/128 [00:09<00:00, 13.26it/s]\n",
      "Generating masks:   0%|          | 0/480 [00:00<?, ?it/s]"
     ]
    },
    {
     "name": "stdout",
     "output_type": "stream",
     "text": [
      "generating heatmap #24...\n"
     ]
    },
    {
     "name": "stderr",
     "output_type": "stream",
     "text": [
      "Generating masks: 100%|██████████| 480/480 [00:26<00:00, 18.35it/s]\n",
      "Generating masks: 100%|██████████| 480/480 [00:25<00:00, 18.68it/s]\n",
      "Generating masks: 100%|██████████| 480/480 [00:26<00:00, 18.41it/s]\n",
      "Generating masks: 100%|██████████| 480/480 [00:25<00:00, 18.52it/s]\n",
      "Generating masks: 100%|██████████| 128/128 [00:09<00:00, 13.31it/s]\n",
      "Generating masks:   0%|          | 0/480 [00:00<?, ?it/s]"
     ]
    },
    {
     "name": "stdout",
     "output_type": "stream",
     "text": [
      "generating heatmap #25...\n"
     ]
    },
    {
     "name": "stderr",
     "output_type": "stream",
     "text": [
      "Generating masks: 100%|██████████| 480/480 [00:25<00:00, 18.52it/s]\n",
      "Generating masks: 100%|██████████| 480/480 [00:26<00:00, 18.19it/s]\n",
      "Generating masks: 100%|██████████| 480/480 [00:26<00:00, 18.43it/s]\n",
      "Generating masks: 100%|██████████| 480/480 [00:25<00:00, 18.52it/s]\n",
      "Generating masks: 100%|██████████| 128/128 [00:09<00:00, 13.35it/s]\n",
      "Generating masks:   0%|          | 0/480 [00:00<?, ?it/s]"
     ]
    },
    {
     "name": "stdout",
     "output_type": "stream",
     "text": [
      "generating heatmap #26...\n"
     ]
    },
    {
     "name": "stderr",
     "output_type": "stream",
     "text": [
      "Generating masks: 100%|██████████| 480/480 [00:26<00:00, 18.39it/s]\n",
      "Generating masks: 100%|██████████| 480/480 [00:26<00:00, 18.27it/s]\n",
      "Generating masks: 100%|██████████| 480/480 [00:26<00:00, 18.40it/s]\n",
      "Generating masks: 100%|██████████| 480/480 [00:26<00:00, 18.33it/s]\n",
      "Generating masks: 100%|██████████| 128/128 [00:09<00:00, 13.39it/s]\n",
      "Generating masks:   0%|          | 0/480 [00:00<?, ?it/s]"
     ]
    },
    {
     "name": "stdout",
     "output_type": "stream",
     "text": [
      "generating heatmap #27...\n"
     ]
    },
    {
     "name": "stderr",
     "output_type": "stream",
     "text": [
      "Generating masks: 100%|██████████| 480/480 [00:26<00:00, 18.36it/s]\n",
      "Generating masks: 100%|██████████| 480/480 [00:26<00:00, 18.24it/s]\n",
      "Generating masks: 100%|██████████| 480/480 [00:26<00:00, 18.26it/s]\n",
      "Generating masks: 100%|██████████| 480/480 [00:26<00:00, 18.37it/s]\n",
      "Generating masks: 100%|██████████| 128/128 [00:09<00:00, 13.08it/s]\n",
      "Generating masks:   0%|          | 0/480 [00:00<?, ?it/s]"
     ]
    },
    {
     "name": "stdout",
     "output_type": "stream",
     "text": [
      "generating heatmap #28...\n"
     ]
    },
    {
     "name": "stderr",
     "output_type": "stream",
     "text": [
      "Generating masks: 100%|██████████| 480/480 [00:26<00:00, 18.14it/s]\n",
      "Generating masks: 100%|██████████| 480/480 [00:26<00:00, 18.40it/s]\n",
      "Generating masks: 100%|██████████| 480/480 [00:26<00:00, 18.30it/s]\n",
      "Generating masks: 100%|██████████| 480/480 [00:26<00:00, 18.43it/s]\n",
      "Generating masks: 100%|██████████| 128/128 [00:09<00:00, 13.08it/s]\n",
      "Generating masks:   0%|          | 0/480 [00:00<?, ?it/s]"
     ]
    },
    {
     "name": "stdout",
     "output_type": "stream",
     "text": [
      "generating heatmap #29...\n"
     ]
    },
    {
     "name": "stderr",
     "output_type": "stream",
     "text": [
      "Generating masks: 100%|██████████| 480/480 [00:26<00:00, 18.06it/s]\n",
      "Generating masks: 100%|██████████| 480/480 [00:26<00:00, 18.04it/s]\n",
      "Generating masks: 100%|██████████| 480/480 [00:26<00:00, 18.24it/s]\n",
      "Generating masks: 100%|██████████| 480/480 [00:26<00:00, 18.19it/s]\n",
      "Generating masks: 100%|██████████| 128/128 [00:09<00:00, 12.97it/s]\n",
      "Generating masks:   0%|          | 0/480 [00:00<?, ?it/s]"
     ]
    },
    {
     "name": "stdout",
     "output_type": "stream",
     "text": [
      "generating heatmap #30...\n"
     ]
    },
    {
     "name": "stderr",
     "output_type": "stream",
     "text": [
      "Generating masks: 100%|██████████| 480/480 [00:26<00:00, 18.17it/s]\n",
      "Generating masks: 100%|██████████| 480/480 [00:26<00:00, 18.02it/s]\n",
      "Generating masks: 100%|██████████| 480/480 [00:26<00:00, 18.01it/s]\n",
      "Generating masks: 100%|██████████| 480/480 [00:26<00:00, 18.06it/s]\n",
      "Generating masks: 100%|██████████| 128/128 [00:09<00:00, 13.09it/s]\n",
      "Generating masks:   0%|          | 0/480 [00:00<?, ?it/s]"
     ]
    },
    {
     "name": "stdout",
     "output_type": "stream",
     "text": [
      "generating heatmap #31...\n"
     ]
    },
    {
     "name": "stderr",
     "output_type": "stream",
     "text": [
      "Generating masks: 100%|██████████| 480/480 [00:26<00:00, 18.28it/s]\n",
      "Generating masks: 100%|██████████| 480/480 [00:26<00:00, 18.24it/s]\n",
      "Generating masks: 100%|██████████| 480/480 [00:26<00:00, 18.05it/s]\n",
      "Generating masks: 100%|██████████| 480/480 [00:26<00:00, 18.13it/s]\n",
      "Generating masks: 100%|██████████| 128/128 [00:09<00:00, 13.20it/s]\n",
      "Generating masks:   0%|          | 0/480 [00:00<?, ?it/s]"
     ]
    },
    {
     "name": "stdout",
     "output_type": "stream",
     "text": [
      "generating heatmap #32...\n"
     ]
    },
    {
     "name": "stderr",
     "output_type": "stream",
     "text": [
      "Generating masks: 100%|██████████| 480/480 [00:26<00:00, 18.19it/s]\n",
      "Generating masks: 100%|██████████| 480/480 [00:26<00:00, 18.24it/s]\n",
      "Generating masks: 100%|██████████| 480/480 [00:26<00:00, 18.06it/s]\n",
      "Generating masks: 100%|██████████| 480/480 [00:26<00:00, 18.10it/s]\n",
      "Generating masks: 100%|██████████| 128/128 [00:09<00:00, 13.03it/s]\n",
      "Generating masks:   0%|          | 0/480 [00:00<?, ?it/s]"
     ]
    },
    {
     "name": "stdout",
     "output_type": "stream",
     "text": [
      "generating heatmap #33...\n"
     ]
    },
    {
     "name": "stderr",
     "output_type": "stream",
     "text": [
      "Generating masks: 100%|██████████| 480/480 [00:26<00:00, 18.02it/s]\n",
      "Generating masks: 100%|██████████| 480/480 [00:26<00:00, 18.00it/s]\n",
      "Generating masks: 100%|██████████| 480/480 [00:26<00:00, 17.82it/s]\n",
      "Generating masks: 100%|██████████| 480/480 [00:26<00:00, 18.19it/s]\n",
      "Generating masks: 100%|██████████| 128/128 [00:09<00:00, 13.00it/s]\n",
      "Generating masks:   0%|          | 0/480 [00:00<?, ?it/s]"
     ]
    },
    {
     "name": "stdout",
     "output_type": "stream",
     "text": [
      "generating heatmap #34...\n"
     ]
    },
    {
     "name": "stderr",
     "output_type": "stream",
     "text": [
      "Generating masks: 100%|██████████| 480/480 [00:26<00:00, 18.02it/s]\n",
      "Generating masks: 100%|██████████| 480/480 [00:26<00:00, 18.17it/s]\n",
      "Generating masks: 100%|██████████| 480/480 [00:26<00:00, 17.94it/s]\n",
      "Generating masks: 100%|██████████| 480/480 [00:26<00:00, 18.03it/s]\n",
      "Generating masks: 100%|██████████| 128/128 [00:10<00:00, 12.62it/s]\n",
      "Generating masks:   0%|          | 0/480 [00:00<?, ?it/s]"
     ]
    },
    {
     "name": "stdout",
     "output_type": "stream",
     "text": [
      "generating heatmap #35...\n"
     ]
    },
    {
     "name": "stderr",
     "output_type": "stream",
     "text": [
      "Generating masks: 100%|██████████| 480/480 [00:26<00:00, 17.88it/s]\n",
      "Generating masks: 100%|██████████| 480/480 [00:26<00:00, 18.12it/s]\n",
      "Generating masks: 100%|██████████| 480/480 [00:26<00:00, 18.14it/s]\n",
      "Generating masks: 100%|██████████| 480/480 [00:26<00:00, 18.10it/s]\n",
      "Generating masks: 100%|██████████| 128/128 [00:10<00:00, 12.66it/s]\n",
      "Generating masks:   0%|          | 0/480 [00:00<?, ?it/s]"
     ]
    },
    {
     "name": "stdout",
     "output_type": "stream",
     "text": [
      "generating heatmap #36...\n"
     ]
    },
    {
     "name": "stderr",
     "output_type": "stream",
     "text": [
      "Generating masks: 100%|██████████| 480/480 [00:26<00:00, 18.02it/s]\n",
      "Generating masks: 100%|██████████| 480/480 [00:26<00:00, 18.19it/s]\n",
      "Generating masks: 100%|██████████| 480/480 [00:26<00:00, 17.94it/s]\n",
      "Generating masks: 100%|██████████| 480/480 [00:26<00:00, 18.27it/s]\n",
      "Generating masks: 100%|██████████| 128/128 [00:10<00:00, 12.69it/s]\n",
      "Generating masks:   0%|          | 0/480 [00:00<?, ?it/s]"
     ]
    },
    {
     "name": "stdout",
     "output_type": "stream",
     "text": [
      "generating heatmap #37...\n"
     ]
    },
    {
     "name": "stderr",
     "output_type": "stream",
     "text": [
      "Generating masks: 100%|██████████| 480/480 [00:26<00:00, 18.09it/s]\n",
      "Generating masks: 100%|██████████| 480/480 [00:26<00:00, 17.92it/s]\n",
      "Generating masks: 100%|██████████| 480/480 [00:26<00:00, 18.00it/s]\n",
      "Generating masks: 100%|██████████| 480/480 [00:26<00:00, 18.05it/s]\n",
      "Generating masks: 100%|██████████| 128/128 [00:10<00:00, 12.61it/s]\n",
      "Generating masks:   0%|          | 0/480 [00:00<?, ?it/s]"
     ]
    },
    {
     "name": "stdout",
     "output_type": "stream",
     "text": [
      "generating heatmap #38...\n"
     ]
    },
    {
     "name": "stderr",
     "output_type": "stream",
     "text": [
      "Generating masks: 100%|██████████| 480/480 [00:26<00:00, 18.14it/s]\n",
      "Generating masks: 100%|██████████| 480/480 [00:26<00:00, 18.08it/s]\n",
      "Generating masks: 100%|██████████| 480/480 [00:26<00:00, 18.04it/s]\n",
      "Generating masks: 100%|██████████| 480/480 [00:26<00:00, 17.89it/s]\n",
      "Generating masks: 100%|██████████| 128/128 [00:10<00:00, 12.67it/s]\n",
      "Generating masks:   0%|          | 0/480 [00:00<?, ?it/s]"
     ]
    },
    {
     "name": "stdout",
     "output_type": "stream",
     "text": [
      "generating heatmap #39...\n"
     ]
    },
    {
     "name": "stderr",
     "output_type": "stream",
     "text": [
      "Generating masks: 100%|██████████| 480/480 [00:26<00:00, 17.90it/s]\n",
      "Generating masks: 100%|██████████| 480/480 [00:26<00:00, 18.06it/s]\n",
      "Generating masks: 100%|██████████| 480/480 [00:27<00:00, 17.72it/s]\n",
      "Generating masks: 100%|██████████| 480/480 [00:26<00:00, 17.97it/s]\n",
      "Generating masks: 100%|██████████| 128/128 [00:10<00:00, 12.49it/s]\n",
      "Generating masks:   0%|          | 0/480 [00:00<?, ?it/s]"
     ]
    },
    {
     "name": "stdout",
     "output_type": "stream",
     "text": [
      "generating heatmap #40...\n"
     ]
    },
    {
     "name": "stderr",
     "output_type": "stream",
     "text": [
      "Generating masks: 100%|██████████| 480/480 [00:26<00:00, 17.94it/s]\n",
      "Generating masks: 100%|██████████| 480/480 [00:26<00:00, 18.01it/s]\n",
      "Generating masks: 100%|██████████| 480/480 [00:26<00:00, 17.96it/s]\n",
      "Generating masks: 100%|██████████| 480/480 [00:26<00:00, 17.89it/s]\n",
      "Generating masks: 100%|██████████| 128/128 [00:10<00:00, 12.61it/s]\n",
      "Generating masks:   0%|          | 0/480 [00:00<?, ?it/s]"
     ]
    },
    {
     "name": "stdout",
     "output_type": "stream",
     "text": [
      "generating heatmap #41...\n"
     ]
    },
    {
     "name": "stderr",
     "output_type": "stream",
     "text": [
      "Generating masks: 100%|██████████| 480/480 [00:26<00:00, 17.91it/s]\n",
      "Generating masks: 100%|██████████| 480/480 [00:26<00:00, 18.07it/s]\n",
      "Generating masks: 100%|██████████| 480/480 [00:26<00:00, 17.94it/s]\n",
      "Generating masks: 100%|██████████| 480/480 [00:26<00:00, 17.87it/s]\n",
      "Generating masks: 100%|██████████| 128/128 [00:10<00:00, 12.56it/s]\n",
      "Generating masks:   0%|          | 0/480 [00:00<?, ?it/s]"
     ]
    },
    {
     "name": "stdout",
     "output_type": "stream",
     "text": [
      "generating heatmap #42...\n"
     ]
    },
    {
     "name": "stderr",
     "output_type": "stream",
     "text": [
      "Generating masks: 100%|██████████| 480/480 [00:26<00:00, 17.89it/s]\n",
      "Generating masks: 100%|██████████| 480/480 [00:27<00:00, 17.66it/s]\n",
      "Generating masks: 100%|██████████| 480/480 [00:26<00:00, 17.83it/s]\n",
      "Generating masks: 100%|██████████| 480/480 [00:26<00:00, 17.82it/s]\n",
      "Generating masks: 100%|██████████| 128/128 [00:10<00:00, 12.38it/s]\n",
      "Generating masks:   0%|          | 0/480 [00:00<?, ?it/s]"
     ]
    },
    {
     "name": "stdout",
     "output_type": "stream",
     "text": [
      "generating heatmap #43...\n"
     ]
    },
    {
     "name": "stderr",
     "output_type": "stream",
     "text": [
      "Generating masks: 100%|██████████| 480/480 [00:26<00:00, 17.78it/s]\n",
      "Generating masks: 100%|██████████| 480/480 [00:27<00:00, 17.62it/s]\n",
      "Generating masks: 100%|██████████| 480/480 [00:27<00:00, 17.64it/s]\n",
      "Generating masks: 100%|██████████| 480/480 [00:27<00:00, 17.58it/s]\n",
      "Generating masks: 100%|██████████| 128/128 [00:10<00:00, 12.52it/s]\n",
      "Generating masks:   0%|          | 0/480 [00:00<?, ?it/s]"
     ]
    },
    {
     "name": "stdout",
     "output_type": "stream",
     "text": [
      "generating heatmap #44...\n"
     ]
    },
    {
     "name": "stderr",
     "output_type": "stream",
     "text": [
      "Generating masks: 100%|██████████| 480/480 [00:26<00:00, 17.81it/s]\n",
      "Generating masks: 100%|██████████| 480/480 [00:27<00:00, 17.69it/s]\n",
      "Generating masks: 100%|██████████| 480/480 [00:26<00:00, 17.81it/s]\n",
      "Generating masks: 100%|██████████| 480/480 [00:26<00:00, 17.78it/s]\n",
      "Generating masks: 100%|██████████| 128/128 [00:10<00:00, 12.47it/s]\n",
      "Generating masks:   0%|          | 0/480 [00:00<?, ?it/s]"
     ]
    },
    {
     "name": "stdout",
     "output_type": "stream",
     "text": [
      "generating heatmap #45...\n"
     ]
    },
    {
     "name": "stderr",
     "output_type": "stream",
     "text": [
      "Generating masks: 100%|██████████| 480/480 [00:26<00:00, 17.88it/s]\n",
      "Generating masks: 100%|██████████| 480/480 [00:26<00:00, 17.98it/s]\n",
      "Generating masks: 100%|██████████| 480/480 [00:27<00:00, 17.75it/s]\n",
      "Generating masks: 100%|██████████| 480/480 [00:26<00:00, 17.97it/s]\n",
      "Generating masks: 100%|██████████| 128/128 [00:10<00:00, 12.24it/s]\n",
      "Generating masks:   0%|          | 0/480 [00:00<?, ?it/s]"
     ]
    },
    {
     "name": "stdout",
     "output_type": "stream",
     "text": [
      "generating heatmap #46...\n"
     ]
    },
    {
     "name": "stderr",
     "output_type": "stream",
     "text": [
      "Generating masks: 100%|██████████| 480/480 [00:26<00:00, 17.91it/s]\n",
      "Generating masks: 100%|██████████| 480/480 [00:27<00:00, 17.67it/s]\n",
      "Generating masks: 100%|██████████| 480/480 [00:27<00:00, 17.60it/s]\n",
      "Generating masks: 100%|██████████| 480/480 [00:27<00:00, 17.74it/s]\n",
      "Generating masks: 100%|██████████| 128/128 [00:10<00:00, 12.32it/s]\n",
      "Generating masks:   0%|          | 0/480 [00:00<?, ?it/s]"
     ]
    },
    {
     "name": "stdout",
     "output_type": "stream",
     "text": [
      "generating heatmap #47...\n"
     ]
    },
    {
     "name": "stderr",
     "output_type": "stream",
     "text": [
      "Generating masks: 100%|██████████| 480/480 [00:26<00:00, 17.82it/s]\n",
      "Generating masks: 100%|██████████| 480/480 [00:27<00:00, 17.67it/s]\n",
      "Generating masks: 100%|██████████| 480/480 [00:27<00:00, 17.74it/s]\n",
      "Generating masks: 100%|██████████| 480/480 [00:27<00:00, 17.67it/s]\n",
      "Generating masks: 100%|██████████| 128/128 [00:10<00:00, 12.21it/s]\n",
      "Generating masks:   0%|          | 0/480 [00:00<?, ?it/s]"
     ]
    },
    {
     "name": "stdout",
     "output_type": "stream",
     "text": [
      "generating heatmap #48...\n"
     ]
    },
    {
     "name": "stderr",
     "output_type": "stream",
     "text": [
      "Generating masks: 100%|██████████| 480/480 [00:26<00:00, 17.88it/s]\n",
      "Generating masks: 100%|██████████| 480/480 [00:27<00:00, 17.74it/s]\n",
      "Generating masks: 100%|██████████| 480/480 [00:27<00:00, 17.72it/s]\n",
      "Generating masks: 100%|██████████| 480/480 [00:26<00:00, 17.78it/s]\n",
      "Generating masks: 100%|██████████| 128/128 [00:10<00:00, 12.19it/s]\n",
      "Generating masks:   0%|          | 0/480 [00:00<?, ?it/s]"
     ]
    },
    {
     "name": "stdout",
     "output_type": "stream",
     "text": [
      "generating heatmap #49...\n"
     ]
    },
    {
     "name": "stderr",
     "output_type": "stream",
     "text": [
      "Generating masks: 100%|██████████| 480/480 [00:26<00:00, 17.90it/s]\n",
      "Generating masks: 100%|██████████| 480/480 [00:26<00:00, 17.94it/s]\n",
      "Generating masks: 100%|██████████| 480/480 [00:26<00:00, 17.80it/s]\n",
      "Generating masks: 100%|██████████| 480/480 [00:26<00:00, 17.94it/s]\n",
      "Generating masks: 100%|██████████| 128/128 [00:10<00:00, 12.09it/s]\n",
      "Generating masks:   0%|          | 0/480 [00:00<?, ?it/s]"
     ]
    },
    {
     "name": "stdout",
     "output_type": "stream",
     "text": [
      "generating heatmap #50...\n"
     ]
    },
    {
     "name": "stderr",
     "output_type": "stream",
     "text": [
      "Generating masks: 100%|██████████| 480/480 [00:26<00:00, 17.85it/s]\n",
      "Generating masks: 100%|██████████| 480/480 [00:27<00:00, 17.70it/s]\n",
      "Generating masks: 100%|██████████| 480/480 [00:27<00:00, 17.56it/s]\n",
      "Generating masks: 100%|██████████| 480/480 [00:26<00:00, 17.85it/s]\n",
      "Generating masks: 100%|██████████| 128/128 [00:10<00:00, 12.12it/s]\n",
      "Generating masks:   0%|          | 0/480 [00:00<?, ?it/s]"
     ]
    },
    {
     "name": "stdout",
     "output_type": "stream",
     "text": [
      "generating heatmap #51...\n"
     ]
    },
    {
     "name": "stderr",
     "output_type": "stream",
     "text": [
      "Generating masks: 100%|██████████| 480/480 [00:26<00:00, 17.78it/s]\n",
      "Generating masks: 100%|██████████| 480/480 [00:26<00:00, 17.83it/s]\n",
      "Generating masks: 100%|██████████| 480/480 [00:27<00:00, 17.68it/s]\n",
      "Generating masks: 100%|██████████| 480/480 [00:27<00:00, 17.56it/s]\n",
      "Generating masks: 100%|██████████| 128/128 [00:10<00:00, 12.07it/s]\n",
      "Generating masks:   0%|          | 0/480 [00:00<?, ?it/s]"
     ]
    },
    {
     "name": "stdout",
     "output_type": "stream",
     "text": [
      "generating heatmap #52...\n"
     ]
    },
    {
     "name": "stderr",
     "output_type": "stream",
     "text": [
      "Generating masks: 100%|██████████| 480/480 [00:27<00:00, 17.62it/s]\n",
      "Generating masks: 100%|██████████| 480/480 [00:27<00:00, 17.69it/s]\n",
      "Generating masks: 100%|██████████| 480/480 [00:26<00:00, 17.78it/s]\n",
      "Generating masks: 100%|██████████| 480/480 [00:26<00:00, 17.84it/s]\n",
      "Generating masks: 100%|██████████| 128/128 [00:10<00:00, 12.05it/s]\n",
      "Generating masks:   0%|          | 0/480 [00:00<?, ?it/s]"
     ]
    },
    {
     "name": "stdout",
     "output_type": "stream",
     "text": [
      "generating heatmap #53...\n"
     ]
    },
    {
     "name": "stderr",
     "output_type": "stream",
     "text": [
      "Generating masks: 100%|██████████| 480/480 [00:27<00:00, 17.67it/s]\n",
      "Generating masks: 100%|██████████| 480/480 [00:26<00:00, 17.98it/s]\n",
      "Generating masks: 100%|██████████| 480/480 [00:27<00:00, 17.72it/s]\n",
      "Generating masks: 100%|██████████| 480/480 [00:27<00:00, 17.69it/s]\n",
      "Generating masks: 100%|██████████| 128/128 [00:10<00:00, 11.94it/s]\n",
      "Generating masks:   0%|          | 0/480 [00:00<?, ?it/s]"
     ]
    },
    {
     "name": "stdout",
     "output_type": "stream",
     "text": [
      "generating heatmap #54...\n"
     ]
    },
    {
     "name": "stderr",
     "output_type": "stream",
     "text": [
      "Generating masks: 100%|██████████| 480/480 [00:27<00:00, 17.50it/s]\n",
      "Generating masks: 100%|██████████| 480/480 [00:27<00:00, 17.51it/s]\n",
      "Generating masks: 100%|██████████| 480/480 [00:27<00:00, 17.42it/s]\n",
      "Generating masks: 100%|██████████| 480/480 [00:27<00:00, 17.48it/s]\n",
      "Generating masks: 100%|██████████| 128/128 [00:10<00:00, 11.65it/s]\n",
      "Generating masks:   0%|          | 0/480 [00:00<?, ?it/s]"
     ]
    },
    {
     "name": "stdout",
     "output_type": "stream",
     "text": [
      "generating heatmap #55...\n"
     ]
    },
    {
     "name": "stderr",
     "output_type": "stream",
     "text": [
      "Generating masks: 100%|██████████| 480/480 [00:27<00:00, 17.52it/s]\n",
      "Generating masks: 100%|██████████| 480/480 [00:27<00:00, 17.64it/s]\n",
      "Generating masks: 100%|██████████| 480/480 [00:27<00:00, 17.42it/s]\n",
      "Generating masks: 100%|██████████| 480/480 [00:27<00:00, 17.49it/s]\n",
      "Generating masks: 100%|██████████| 128/128 [00:10<00:00, 11.93it/s]\n",
      "Generating masks:   0%|          | 0/480 [00:00<?, ?it/s]"
     ]
    },
    {
     "name": "stdout",
     "output_type": "stream",
     "text": [
      "generating heatmap #56...\n"
     ]
    },
    {
     "name": "stderr",
     "output_type": "stream",
     "text": [
      "Generating masks: 100%|██████████| 480/480 [00:27<00:00, 17.66it/s]\n",
      "Generating masks: 100%|██████████| 480/480 [00:27<00:00, 17.69it/s]\n",
      "Generating masks: 100%|██████████| 480/480 [00:27<00:00, 17.72it/s]\n",
      "Generating masks: 100%|██████████| 480/480 [00:27<00:00, 17.38it/s]\n",
      "Generating masks: 100%|██████████| 128/128 [00:10<00:00, 11.94it/s]\n",
      "Generating masks:   0%|          | 0/480 [00:00<?, ?it/s]"
     ]
    },
    {
     "name": "stdout",
     "output_type": "stream",
     "text": [
      "generating heatmap #57...\n"
     ]
    },
    {
     "name": "stderr",
     "output_type": "stream",
     "text": [
      "Generating masks: 100%|██████████| 480/480 [00:27<00:00, 17.46it/s]\n",
      "Generating masks: 100%|██████████| 480/480 [00:27<00:00, 17.57it/s]\n",
      "Generating masks: 100%|██████████| 480/480 [00:27<00:00, 17.72it/s]\n",
      "Generating masks: 100%|██████████| 480/480 [00:27<00:00, 17.53it/s]\n",
      "Generating masks: 100%|██████████| 128/128 [00:10<00:00, 11.84it/s]\n",
      "Generating masks:   0%|          | 0/480 [00:00<?, ?it/s]"
     ]
    },
    {
     "name": "stdout",
     "output_type": "stream",
     "text": [
      "generating heatmap #58...\n"
     ]
    },
    {
     "name": "stderr",
     "output_type": "stream",
     "text": [
      "Generating masks: 100%|██████████| 480/480 [00:27<00:00, 17.72it/s]\n",
      "Generating masks: 100%|██████████| 480/480 [00:27<00:00, 17.31it/s]\n",
      "Generating masks: 100%|██████████| 480/480 [00:27<00:00, 17.31it/s]\n",
      "Generating masks: 100%|██████████| 480/480 [00:27<00:00, 17.55it/s]\n",
      "Generating masks: 100%|██████████| 128/128 [00:10<00:00, 11.92it/s]\n",
      "Generating masks:   0%|          | 0/480 [00:00<?, ?it/s]"
     ]
    },
    {
     "name": "stdout",
     "output_type": "stream",
     "text": [
      "generating heatmap #59...\n"
     ]
    },
    {
     "name": "stderr",
     "output_type": "stream",
     "text": [
      "Generating masks: 100%|██████████| 480/480 [00:27<00:00, 17.49it/s]\n",
      "Generating masks: 100%|██████████| 480/480 [00:28<00:00, 16.92it/s]\n",
      "Generating masks: 100%|██████████| 480/480 [00:27<00:00, 17.48it/s]\n",
      "Generating masks: 100%|██████████| 480/480 [00:27<00:00, 17.40it/s]\n",
      "Generating masks: 100%|██████████| 128/128 [00:11<00:00, 11.62it/s]\n",
      "Generating masks:   0%|          | 0/480 [00:00<?, ?it/s]"
     ]
    },
    {
     "name": "stdout",
     "output_type": "stream",
     "text": [
      "generating heatmap #60...\n"
     ]
    },
    {
     "name": "stderr",
     "output_type": "stream",
     "text": [
      "Generating masks: 100%|██████████| 480/480 [00:27<00:00, 17.56it/s]\n",
      "Generating masks: 100%|██████████| 480/480 [00:27<00:00, 17.59it/s]\n",
      "Generating masks: 100%|██████████| 480/480 [00:27<00:00, 17.41it/s]\n",
      "Generating masks: 100%|██████████| 480/480 [00:27<00:00, 17.49it/s]\n",
      "Generating masks: 100%|██████████| 128/128 [00:11<00:00, 11.50it/s]\n",
      "Generating masks:   0%|          | 0/480 [00:00<?, ?it/s]"
     ]
    },
    {
     "name": "stdout",
     "output_type": "stream",
     "text": [
      "generating heatmap #61...\n"
     ]
    },
    {
     "name": "stderr",
     "output_type": "stream",
     "text": [
      "Generating masks: 100%|██████████| 480/480 [00:27<00:00, 17.27it/s]\n",
      "Generating masks: 100%|██████████| 480/480 [00:27<00:00, 17.59it/s]\n",
      "Generating masks: 100%|██████████| 480/480 [00:27<00:00, 17.21it/s]\n",
      "Generating masks: 100%|██████████| 480/480 [00:27<00:00, 17.30it/s]\n",
      "Generating masks: 100%|██████████| 128/128 [00:10<00:00, 11.78it/s]\n",
      "Generating masks:   0%|          | 0/480 [00:00<?, ?it/s]"
     ]
    },
    {
     "name": "stdout",
     "output_type": "stream",
     "text": [
      "generating heatmap #62...\n"
     ]
    },
    {
     "name": "stderr",
     "output_type": "stream",
     "text": [
      "Generating masks: 100%|██████████| 480/480 [00:27<00:00, 17.37it/s]\n",
      "Generating masks: 100%|██████████| 480/480 [00:27<00:00, 17.25it/s]\n",
      "Generating masks: 100%|██████████| 480/480 [00:27<00:00, 17.46it/s]\n",
      "Generating masks: 100%|██████████| 480/480 [00:27<00:00, 17.27it/s]\n",
      "Generating masks: 100%|██████████| 128/128 [00:11<00:00, 11.47it/s]\n",
      "Generating masks:   0%|          | 0/480 [00:00<?, ?it/s]"
     ]
    },
    {
     "name": "stdout",
     "output_type": "stream",
     "text": [
      "generating heatmap #63...\n"
     ]
    },
    {
     "name": "stderr",
     "output_type": "stream",
     "text": [
      "Generating masks: 100%|██████████| 480/480 [00:27<00:00, 17.46it/s]\n",
      "Generating masks: 100%|██████████| 480/480 [00:27<00:00, 17.30it/s]\n",
      "Generating masks: 100%|██████████| 480/480 [00:27<00:00, 17.30it/s]\n",
      "Generating masks: 100%|██████████| 480/480 [00:28<00:00, 17.00it/s]\n",
      "Generating masks: 100%|██████████| 128/128 [00:11<00:00, 11.42it/s]\n",
      "Generating masks:   0%|          | 0/480 [00:00<?, ?it/s]"
     ]
    },
    {
     "name": "stdout",
     "output_type": "stream",
     "text": [
      "generating heatmap #64...\n"
     ]
    },
    {
     "name": "stderr",
     "output_type": "stream",
     "text": [
      "Generating masks: 100%|██████████| 480/480 [00:27<00:00, 17.33it/s]\n",
      "Generating masks: 100%|██████████| 480/480 [00:27<00:00, 17.48it/s]\n",
      "Generating masks: 100%|██████████| 480/480 [00:27<00:00, 17.34it/s]\n",
      "Generating masks: 100%|██████████| 480/480 [00:27<00:00, 17.43it/s]\n",
      "Generating masks: 100%|██████████| 128/128 [00:11<00:00, 11.17it/s]\n",
      "Generating masks:   0%|          | 0/480 [00:00<?, ?it/s]"
     ]
    },
    {
     "name": "stdout",
     "output_type": "stream",
     "text": [
      "generating heatmap #65...\n"
     ]
    },
    {
     "name": "stderr",
     "output_type": "stream",
     "text": [
      "Generating masks: 100%|██████████| 480/480 [00:27<00:00, 17.26it/s]\n",
      "Generating masks: 100%|██████████| 480/480 [00:27<00:00, 17.45it/s]\n",
      "Generating masks: 100%|██████████| 480/480 [00:28<00:00, 17.00it/s]\n",
      "Generating masks: 100%|██████████| 480/480 [00:28<00:00, 17.12it/s]\n",
      "Generating masks: 100%|██████████| 128/128 [00:11<00:00, 11.43it/s]\n",
      "Generating masks:   0%|          | 0/480 [00:00<?, ?it/s]"
     ]
    },
    {
     "name": "stdout",
     "output_type": "stream",
     "text": [
      "generating heatmap #66...\n"
     ]
    },
    {
     "name": "stderr",
     "output_type": "stream",
     "text": [
      "Generating masks: 100%|██████████| 480/480 [00:27<00:00, 17.43it/s]\n",
      "Generating masks: 100%|██████████| 480/480 [00:27<00:00, 17.42it/s]\n",
      "Generating masks: 100%|██████████| 480/480 [00:27<00:00, 17.15it/s]\n",
      "Generating masks: 100%|██████████| 480/480 [00:28<00:00, 17.01it/s]\n",
      "Generating masks: 100%|██████████| 128/128 [00:11<00:00, 11.25it/s]\n",
      "Generating masks:   0%|          | 0/480 [00:00<?, ?it/s]"
     ]
    },
    {
     "name": "stdout",
     "output_type": "stream",
     "text": [
      "generating heatmap #67...\n"
     ]
    },
    {
     "name": "stderr",
     "output_type": "stream",
     "text": [
      "Generating masks: 100%|██████████| 480/480 [00:27<00:00, 17.21it/s]\n",
      "Generating masks: 100%|██████████| 480/480 [00:28<00:00, 17.10it/s]\n",
      "Generating masks: 100%|██████████| 480/480 [00:27<00:00, 17.24it/s]\n",
      "Generating masks: 100%|██████████| 480/480 [00:27<00:00, 17.31it/s]\n",
      "Generating masks: 100%|██████████| 128/128 [00:11<00:00, 11.11it/s]\n",
      "Generating masks:   0%|          | 0/480 [00:00<?, ?it/s]"
     ]
    },
    {
     "name": "stdout",
     "output_type": "stream",
     "text": [
      "generating heatmap #68...\n"
     ]
    },
    {
     "name": "stderr",
     "output_type": "stream",
     "text": [
      "Generating masks: 100%|██████████| 480/480 [00:28<00:00, 17.05it/s]\n",
      "Generating masks: 100%|██████████| 480/480 [00:28<00:00, 17.13it/s]\n",
      "Generating masks: 100%|██████████| 480/480 [00:28<00:00, 16.97it/s]\n",
      "Generating masks: 100%|██████████| 480/480 [00:28<00:00, 17.13it/s]\n",
      "Generating masks: 100%|██████████| 128/128 [00:11<00:00, 11.45it/s]\n",
      "Generating masks:   0%|          | 0/480 [00:00<?, ?it/s]"
     ]
    },
    {
     "name": "stdout",
     "output_type": "stream",
     "text": [
      "generating heatmap #69...\n"
     ]
    },
    {
     "name": "stderr",
     "output_type": "stream",
     "text": [
      "Generating masks: 100%|██████████| 480/480 [00:28<00:00, 17.01it/s]\n",
      "Generating masks: 100%|██████████| 480/480 [00:27<00:00, 17.45it/s]\n",
      "Generating masks: 100%|██████████| 480/480 [00:27<00:00, 17.24it/s]\n",
      "Generating masks: 100%|██████████| 480/480 [00:28<00:00, 17.09it/s]\n",
      "Generating masks: 100%|██████████| 128/128 [00:11<00:00, 11.38it/s]\n",
      "Generating masks:   0%|          | 0/480 [00:00<?, ?it/s]"
     ]
    },
    {
     "name": "stdout",
     "output_type": "stream",
     "text": [
      "generating heatmap #70...\n"
     ]
    },
    {
     "name": "stderr",
     "output_type": "stream",
     "text": [
      "Generating masks: 100%|██████████| 480/480 [00:27<00:00, 17.21it/s]\n",
      "Generating masks: 100%|██████████| 480/480 [00:28<00:00, 17.12it/s]\n",
      "Generating masks: 100%|██████████| 480/480 [00:28<00:00, 16.70it/s]\n",
      "Generating masks: 100%|██████████| 480/480 [00:28<00:00, 17.09it/s]\n",
      "Generating masks: 100%|██████████| 128/128 [00:11<00:00, 11.20it/s]\n",
      "Generating masks:   0%|          | 0/480 [00:00<?, ?it/s]"
     ]
    },
    {
     "name": "stdout",
     "output_type": "stream",
     "text": [
      "generating heatmap #71...\n"
     ]
    },
    {
     "name": "stderr",
     "output_type": "stream",
     "text": [
      "Generating masks: 100%|██████████| 480/480 [00:28<00:00, 16.90it/s]\n",
      "Generating masks: 100%|██████████| 480/480 [00:28<00:00, 17.10it/s]\n",
      "Generating masks: 100%|██████████| 480/480 [00:27<00:00, 17.26it/s]\n",
      "Generating masks: 100%|██████████| 480/480 [00:28<00:00, 17.08it/s]\n",
      "Generating masks: 100%|██████████| 128/128 [00:11<00:00, 11.41it/s]\n",
      "Generating masks:   0%|          | 0/480 [00:00<?, ?it/s]"
     ]
    },
    {
     "name": "stdout",
     "output_type": "stream",
     "text": [
      "generating heatmap #72...\n"
     ]
    },
    {
     "name": "stderr",
     "output_type": "stream",
     "text": [
      "Generating masks: 100%|██████████| 480/480 [00:27<00:00, 17.16it/s]\n",
      "Generating masks: 100%|██████████| 480/480 [00:28<00:00, 17.04it/s]\n",
      "Generating masks: 100%|██████████| 480/480 [00:27<00:00, 17.18it/s]\n",
      "Generating masks: 100%|██████████| 480/480 [00:28<00:00, 17.04it/s]\n",
      "Generating masks: 100%|██████████| 128/128 [00:11<00:00, 11.36it/s]\n",
      "Generating masks:   0%|          | 0/480 [00:00<?, ?it/s]"
     ]
    },
    {
     "name": "stdout",
     "output_type": "stream",
     "text": [
      "generating heatmap #73...\n"
     ]
    },
    {
     "name": "stderr",
     "output_type": "stream",
     "text": [
      "Generating masks: 100%|██████████| 480/480 [00:27<00:00, 17.16it/s]\n",
      "Generating masks: 100%|██████████| 480/480 [00:27<00:00, 17.35it/s]\n",
      "Generating masks: 100%|██████████| 480/480 [00:27<00:00, 17.23it/s]\n",
      "Generating masks: 100%|██████████| 480/480 [00:28<00:00, 17.03it/s]\n",
      "Generating masks: 100%|██████████| 128/128 [00:11<00:00, 10.99it/s]\n",
      "Generating masks:   0%|          | 0/480 [00:00<?, ?it/s]"
     ]
    },
    {
     "name": "stdout",
     "output_type": "stream",
     "text": [
      "generating heatmap #74...\n"
     ]
    },
    {
     "name": "stderr",
     "output_type": "stream",
     "text": [
      "Generating masks: 100%|██████████| 480/480 [00:28<00:00, 17.10it/s]\n",
      "Generating masks: 100%|██████████| 480/480 [00:28<00:00, 17.01it/s]\n",
      "Generating masks: 100%|██████████| 480/480 [00:28<00:00, 17.01it/s]\n",
      "Generating masks: 100%|██████████| 480/480 [00:28<00:00, 16.96it/s]\n",
      "Generating masks: 100%|██████████| 128/128 [00:11<00:00, 11.35it/s]\n",
      "Generating masks:   0%|          | 0/480 [00:00<?, ?it/s]"
     ]
    },
    {
     "name": "stdout",
     "output_type": "stream",
     "text": [
      "generating heatmap #75...\n"
     ]
    },
    {
     "name": "stderr",
     "output_type": "stream",
     "text": [
      "Generating masks: 100%|██████████| 480/480 [00:27<00:00, 17.29it/s]\n",
      "Generating masks: 100%|██████████| 480/480 [00:27<00:00, 17.18it/s]\n",
      "Generating masks: 100%|██████████| 480/480 [00:28<00:00, 17.10it/s]\n",
      "Generating masks: 100%|██████████| 480/480 [00:28<00:00, 17.12it/s]\n",
      "Generating masks: 100%|██████████| 128/128 [00:11<00:00, 11.20it/s]\n",
      "Generating masks:   0%|          | 0/480 [00:00<?, ?it/s]"
     ]
    },
    {
     "name": "stdout",
     "output_type": "stream",
     "text": [
      "generating heatmap #76...\n"
     ]
    },
    {
     "name": "stderr",
     "output_type": "stream",
     "text": [
      "Generating masks: 100%|██████████| 480/480 [00:28<00:00, 17.03it/s]\n",
      "Generating masks: 100%|██████████| 480/480 [00:28<00:00, 17.07it/s]\n",
      "Generating masks: 100%|██████████| 480/480 [00:28<00:00, 17.01it/s]\n",
      "Generating masks: 100%|██████████| 480/480 [00:28<00:00, 17.05it/s]\n",
      "Generating masks: 100%|██████████| 128/128 [00:11<00:00, 11.27it/s]\n",
      "Generating masks:   0%|          | 0/480 [00:00<?, ?it/s]"
     ]
    },
    {
     "name": "stdout",
     "output_type": "stream",
     "text": [
      "generating heatmap #77...\n"
     ]
    },
    {
     "name": "stderr",
     "output_type": "stream",
     "text": [
      "Generating masks: 100%|██████████| 480/480 [00:28<00:00, 17.02it/s]\n",
      "Generating masks: 100%|██████████| 480/480 [00:27<00:00, 17.31it/s]\n",
      "Generating masks: 100%|██████████| 480/480 [00:28<00:00, 17.14it/s]\n",
      "Generating masks: 100%|██████████| 480/480 [00:28<00:00, 16.94it/s]\n",
      "Generating masks: 100%|██████████| 128/128 [00:11<00:00, 11.28it/s]\n",
      "Generating masks:   0%|          | 0/480 [00:00<?, ?it/s]"
     ]
    },
    {
     "name": "stdout",
     "output_type": "stream",
     "text": [
      "generating heatmap #78...\n"
     ]
    },
    {
     "name": "stderr",
     "output_type": "stream",
     "text": [
      "Generating masks: 100%|██████████| 480/480 [00:27<00:00, 17.19it/s]\n",
      "Generating masks: 100%|██████████| 480/480 [00:28<00:00, 16.99it/s]\n",
      "Generating masks: 100%|██████████| 480/480 [00:28<00:00, 17.11it/s]\n",
      "Generating masks: 100%|██████████| 480/480 [00:32<00:00, 14.68it/s]\n",
      "Generating masks: 100%|██████████| 128/128 [00:11<00:00, 11.26it/s]\n",
      "Generating masks:   0%|          | 0/480 [00:00<?, ?it/s]"
     ]
    },
    {
     "name": "stdout",
     "output_type": "stream",
     "text": [
      "generating heatmap #79...\n"
     ]
    },
    {
     "name": "stderr",
     "output_type": "stream",
     "text": [
      "Generating masks: 100%|██████████| 480/480 [00:28<00:00, 16.73it/s]\n",
      "Generating masks: 100%|██████████| 480/480 [00:29<00:00, 16.43it/s]\n",
      "Generating masks: 100%|██████████| 480/480 [00:28<00:00, 16.76it/s]\n",
      "Generating masks: 100%|██████████| 480/480 [00:27<00:00, 17.24it/s]\n",
      "Generating masks: 100%|██████████| 128/128 [00:11<00:00, 11.38it/s]\n",
      "Generating masks:   0%|          | 0/480 [00:00<?, ?it/s]"
     ]
    },
    {
     "name": "stdout",
     "output_type": "stream",
     "text": [
      "generating heatmap #80...\n"
     ]
    },
    {
     "name": "stderr",
     "output_type": "stream",
     "text": [
      "Generating masks: 100%|██████████| 480/480 [00:27<00:00, 17.36it/s]\n",
      "Generating masks: 100%|██████████| 480/480 [00:27<00:00, 17.38it/s]\n",
      "Generating masks: 100%|██████████| 480/480 [00:27<00:00, 17.40it/s]\n",
      "Generating masks: 100%|██████████| 480/480 [00:27<00:00, 17.23it/s]\n",
      "Generating masks: 100%|██████████| 128/128 [00:11<00:00, 11.28it/s]\n",
      "Generating masks:   0%|          | 0/480 [00:00<?, ?it/s]"
     ]
    },
    {
     "name": "stdout",
     "output_type": "stream",
     "text": [
      "generating heatmap #81...\n"
     ]
    },
    {
     "name": "stderr",
     "output_type": "stream",
     "text": [
      "Generating masks: 100%|██████████| 480/480 [00:28<00:00, 17.06it/s]\n",
      "Generating masks: 100%|██████████| 480/480 [00:27<00:00, 17.34it/s]\n",
      "Generating masks: 100%|██████████| 480/480 [00:28<00:00, 17.11it/s]\n",
      "Generating masks: 100%|██████████| 480/480 [00:27<00:00, 17.36it/s]\n",
      "Generating masks: 100%|██████████| 128/128 [00:11<00:00, 11.27it/s]\n",
      "Generating masks:   0%|          | 0/480 [00:00<?, ?it/s]"
     ]
    },
    {
     "name": "stdout",
     "output_type": "stream",
     "text": [
      "generating heatmap #82...\n"
     ]
    },
    {
     "name": "stderr",
     "output_type": "stream",
     "text": [
      "Generating masks: 100%|██████████| 480/480 [00:27<00:00, 17.27it/s]\n",
      "Generating masks: 100%|██████████| 480/480 [00:27<00:00, 17.24it/s]\n",
      "Generating masks: 100%|██████████| 480/480 [00:28<00:00, 17.10it/s]\n",
      "Generating masks: 100%|██████████| 480/480 [00:27<00:00, 17.30it/s]\n",
      "Generating masks: 100%|██████████| 128/128 [00:11<00:00, 11.44it/s]\n",
      "Generating masks:   0%|          | 0/480 [00:00<?, ?it/s]"
     ]
    },
    {
     "name": "stdout",
     "output_type": "stream",
     "text": [
      "generating heatmap #83...\n"
     ]
    },
    {
     "name": "stderr",
     "output_type": "stream",
     "text": [
      "Generating masks: 100%|██████████| 480/480 [00:27<00:00, 17.22it/s]\n",
      "Generating masks: 100%|██████████| 480/480 [00:27<00:00, 17.23it/s]\n",
      "Generating masks: 100%|██████████| 480/480 [00:27<00:00, 17.45it/s]\n",
      "Generating masks: 100%|██████████| 480/480 [00:27<00:00, 17.37it/s]\n",
      "Generating masks: 100%|██████████| 128/128 [00:11<00:00, 11.40it/s]\n",
      "Generating masks:   0%|          | 0/480 [00:00<?, ?it/s]"
     ]
    },
    {
     "name": "stdout",
     "output_type": "stream",
     "text": [
      "generating heatmap #84...\n"
     ]
    },
    {
     "name": "stderr",
     "output_type": "stream",
     "text": [
      "Generating masks: 100%|██████████| 480/480 [00:27<00:00, 17.29it/s]\n",
      "Generating masks: 100%|██████████| 480/480 [00:27<00:00, 17.21it/s]\n",
      "Generating masks: 100%|██████████| 480/480 [00:27<00:00, 17.45it/s]\n",
      "Generating masks: 100%|██████████| 480/480 [00:27<00:00, 17.16it/s]\n",
      "Generating masks: 100%|██████████| 128/128 [00:11<00:00, 11.40it/s]\n",
      "Generating masks:   0%|          | 0/480 [00:00<?, ?it/s]"
     ]
    },
    {
     "name": "stdout",
     "output_type": "stream",
     "text": [
      "generating heatmap #85...\n"
     ]
    },
    {
     "name": "stderr",
     "output_type": "stream",
     "text": [
      "Generating masks: 100%|██████████| 480/480 [00:27<00:00, 17.33it/s]\n",
      "Generating masks: 100%|██████████| 480/480 [00:27<00:00, 17.62it/s]\n",
      "Generating masks: 100%|██████████| 480/480 [00:27<00:00, 17.22it/s]\n",
      "Generating masks: 100%|██████████| 480/480 [00:27<00:00, 17.36it/s]\n",
      "Generating masks: 100%|██████████| 128/128 [00:11<00:00, 11.35it/s]\n",
      "Generating masks:   0%|          | 0/480 [00:00<?, ?it/s]"
     ]
    },
    {
     "name": "stdout",
     "output_type": "stream",
     "text": [
      "generating heatmap #86...\n"
     ]
    },
    {
     "name": "stderr",
     "output_type": "stream",
     "text": [
      "Generating masks: 100%|██████████| 480/480 [00:27<00:00, 17.31it/s]\n",
      "Generating masks: 100%|██████████| 480/480 [00:27<00:00, 17.38it/s]\n",
      "Generating masks: 100%|██████████| 480/480 [00:28<00:00, 17.12it/s]\n",
      "Generating masks: 100%|██████████| 480/480 [00:28<00:00, 17.14it/s]\n",
      "Generating masks: 100%|██████████| 128/128 [00:11<00:00, 11.46it/s]\n",
      "Generating masks:   0%|          | 0/480 [00:00<?, ?it/s]"
     ]
    },
    {
     "name": "stdout",
     "output_type": "stream",
     "text": [
      "generating heatmap #87...\n"
     ]
    },
    {
     "name": "stderr",
     "output_type": "stream",
     "text": [
      "Generating masks: 100%|██████████| 480/480 [00:27<00:00, 17.17it/s]\n",
      "Generating masks: 100%|██████████| 480/480 [00:27<00:00, 17.37it/s]\n",
      "Generating masks: 100%|██████████| 480/480 [00:27<00:00, 17.41it/s]\n",
      "Generating masks: 100%|██████████| 480/480 [00:27<00:00, 17.27it/s]\n",
      "Generating masks: 100%|██████████| 128/128 [00:11<00:00, 11.39it/s]\n",
      "Generating masks:   0%|          | 0/480 [00:00<?, ?it/s]"
     ]
    },
    {
     "name": "stdout",
     "output_type": "stream",
     "text": [
      "generating heatmap #88...\n"
     ]
    },
    {
     "name": "stderr",
     "output_type": "stream",
     "text": [
      "Generating masks: 100%|██████████| 480/480 [00:27<00:00, 17.44it/s]\n",
      "Generating masks: 100%|██████████| 480/480 [00:27<00:00, 17.33it/s]\n",
      "Generating masks: 100%|██████████| 480/480 [00:27<00:00, 17.38it/s]\n",
      "Generating masks: 100%|██████████| 480/480 [00:27<00:00, 17.31it/s]\n",
      "Generating masks: 100%|██████████| 128/128 [00:11<00:00, 11.38it/s]\n",
      "Generating masks:   0%|          | 0/480 [00:00<?, ?it/s]"
     ]
    },
    {
     "name": "stdout",
     "output_type": "stream",
     "text": [
      "generating heatmap #89...\n"
     ]
    },
    {
     "name": "stderr",
     "output_type": "stream",
     "text": [
      "Generating masks: 100%|██████████| 480/480 [00:27<00:00, 17.21it/s]\n",
      "Generating masks: 100%|██████████| 480/480 [00:27<00:00, 17.59it/s]\n",
      "Generating masks: 100%|██████████| 480/480 [00:27<00:00, 17.26it/s]\n",
      "Generating masks: 100%|██████████| 480/480 [00:27<00:00, 17.36it/s]\n",
      "Generating masks: 100%|██████████| 128/128 [00:11<00:00, 11.16it/s]\n",
      "Generating masks:   0%|          | 0/480 [00:00<?, ?it/s]"
     ]
    },
    {
     "name": "stdout",
     "output_type": "stream",
     "text": [
      "generating heatmap #90...\n"
     ]
    },
    {
     "name": "stderr",
     "output_type": "stream",
     "text": [
      "Generating masks: 100%|██████████| 480/480 [00:27<00:00, 17.27it/s]\n",
      "Generating masks: 100%|██████████| 480/480 [00:27<00:00, 17.35it/s]\n",
      "Generating masks: 100%|██████████| 480/480 [00:28<00:00, 17.07it/s]\n",
      "Generating masks: 100%|██████████| 480/480 [00:27<00:00, 17.29it/s]\n",
      "Generating masks: 100%|██████████| 128/128 [00:11<00:00, 11.29it/s]\n",
      "Generating masks:   0%|          | 0/480 [00:00<?, ?it/s]"
     ]
    },
    {
     "name": "stdout",
     "output_type": "stream",
     "text": [
      "generating heatmap #91...\n"
     ]
    },
    {
     "name": "stderr",
     "output_type": "stream",
     "text": [
      "Generating masks: 100%|██████████| 480/480 [00:27<00:00, 17.34it/s]\n",
      "Generating masks: 100%|██████████| 480/480 [00:27<00:00, 17.17it/s]\n",
      "Generating masks: 100%|██████████| 480/480 [00:27<00:00, 17.34it/s]\n",
      "Generating masks: 100%|██████████| 480/480 [00:28<00:00, 17.03it/s]\n",
      "Generating masks: 100%|██████████| 128/128 [00:11<00:00, 11.38it/s]\n",
      "Generating masks:   0%|          | 0/480 [00:00<?, ?it/s]"
     ]
    },
    {
     "name": "stdout",
     "output_type": "stream",
     "text": [
      "generating heatmap #92...\n"
     ]
    },
    {
     "name": "stderr",
     "output_type": "stream",
     "text": [
      "Generating masks: 100%|██████████| 480/480 [00:27<00:00, 17.35it/s]\n",
      "Generating masks: 100%|██████████| 480/480 [00:27<00:00, 17.46it/s]\n",
      "Generating masks: 100%|██████████| 480/480 [00:27<00:00, 17.45it/s]\n",
      "Generating masks: 100%|██████████| 480/480 [00:27<00:00, 17.42it/s]\n",
      "Generating masks: 100%|██████████| 128/128 [00:11<00:00, 11.50it/s]\n",
      "Generating masks:   0%|          | 0/480 [00:00<?, ?it/s]"
     ]
    },
    {
     "name": "stdout",
     "output_type": "stream",
     "text": [
      "generating heatmap #93...\n"
     ]
    },
    {
     "name": "stderr",
     "output_type": "stream",
     "text": [
      "Generating masks: 100%|██████████| 480/480 [00:27<00:00, 17.15it/s]\n",
      "Generating masks: 100%|██████████| 480/480 [00:27<00:00, 17.56it/s]\n",
      "Generating masks: 100%|██████████| 480/480 [00:27<00:00, 17.28it/s]\n",
      "Generating masks: 100%|██████████| 480/480 [00:27<00:00, 17.21it/s]\n",
      "Generating masks: 100%|██████████| 128/128 [00:11<00:00, 11.31it/s]\n",
      "Generating masks:   0%|          | 0/480 [00:00<?, ?it/s]"
     ]
    },
    {
     "name": "stdout",
     "output_type": "stream",
     "text": [
      "generating heatmap #94...\n"
     ]
    },
    {
     "name": "stderr",
     "output_type": "stream",
     "text": [
      "Generating masks: 100%|██████████| 480/480 [00:27<00:00, 17.22it/s]\n",
      "Generating masks: 100%|██████████| 480/480 [00:27<00:00, 17.29it/s]\n",
      "Generating masks: 100%|██████████| 480/480 [00:28<00:00, 17.09it/s]\n",
      "Generating masks: 100%|██████████| 480/480 [00:27<00:00, 17.23it/s]\n",
      "Generating masks: 100%|██████████| 128/128 [00:11<00:00, 11.39it/s]\n",
      "Generating masks:   0%|          | 0/480 [00:00<?, ?it/s]"
     ]
    },
    {
     "name": "stdout",
     "output_type": "stream",
     "text": [
      "generating heatmap #95...\n"
     ]
    },
    {
     "name": "stderr",
     "output_type": "stream",
     "text": [
      "Generating masks: 100%|██████████| 480/480 [00:27<00:00, 17.27it/s]\n",
      "Generating masks: 100%|██████████| 480/480 [00:28<00:00, 17.12it/s]\n",
      "Generating masks: 100%|██████████| 480/480 [00:27<00:00, 17.17it/s]\n",
      "Generating masks: 100%|██████████| 480/480 [00:28<00:00, 17.13it/s]\n",
      "Generating masks: 100%|██████████| 128/128 [00:11<00:00, 11.29it/s]\n",
      "Generating masks:   0%|          | 0/480 [00:00<?, ?it/s]"
     ]
    },
    {
     "name": "stdout",
     "output_type": "stream",
     "text": [
      "generating heatmap #96...\n"
     ]
    },
    {
     "name": "stderr",
     "output_type": "stream",
     "text": [
      "Generating masks: 100%|██████████| 480/480 [00:27<00:00, 17.43it/s]\n",
      "Generating masks: 100%|██████████| 480/480 [00:27<00:00, 17.43it/s]\n",
      "Generating masks: 100%|██████████| 480/480 [00:27<00:00, 17.32it/s]\n",
      "Generating masks: 100%|██████████| 480/480 [00:27<00:00, 17.29it/s]\n",
      "Generating masks: 100%|██████████| 128/128 [00:11<00:00, 11.17it/s]\n",
      "Generating masks:   0%|          | 0/480 [00:00<?, ?it/s]"
     ]
    },
    {
     "name": "stdout",
     "output_type": "stream",
     "text": [
      "generating heatmap #97...\n"
     ]
    },
    {
     "name": "stderr",
     "output_type": "stream",
     "text": [
      "Generating masks: 100%|██████████| 480/480 [00:27<00:00, 17.21it/s]\n",
      "Generating masks: 100%|██████████| 480/480 [00:27<00:00, 17.51it/s]\n",
      "Generating masks: 100%|██████████| 480/480 [00:27<00:00, 17.36it/s]\n",
      "Generating masks: 100%|██████████| 480/480 [00:27<00:00, 17.34it/s]\n",
      "Generating masks: 100%|██████████| 128/128 [00:11<00:00, 11.47it/s]\n",
      "Generating masks:   0%|          | 0/480 [00:00<?, ?it/s]"
     ]
    },
    {
     "name": "stdout",
     "output_type": "stream",
     "text": [
      "generating heatmap #98...\n"
     ]
    },
    {
     "name": "stderr",
     "output_type": "stream",
     "text": [
      "Generating masks: 100%|██████████| 480/480 [00:27<00:00, 17.44it/s]\n",
      "Generating masks: 100%|██████████| 480/480 [00:27<00:00, 17.18it/s]\n",
      "Generating masks: 100%|██████████| 480/480 [00:28<00:00, 17.12it/s]\n",
      "Generating masks: 100%|██████████| 480/480 [00:28<00:00, 17.07it/s]\n",
      "Generating masks: 100%|██████████| 128/128 [00:11<00:00, 11.30it/s]\n",
      "Generating masks:   0%|          | 0/480 [00:00<?, ?it/s]"
     ]
    },
    {
     "name": "stdout",
     "output_type": "stream",
     "text": [
      "generating heatmap #99...\n"
     ]
    },
    {
     "name": "stderr",
     "output_type": "stream",
     "text": [
      "Generating masks: 100%|██████████| 480/480 [00:29<00:00, 16.31it/s]\n",
      "Generating masks: 100%|██████████| 480/480 [00:28<00:00, 16.78it/s]\n",
      "Generating masks: 100%|██████████| 480/480 [00:27<00:00, 17.22it/s]\n",
      "Generating masks: 100%|██████████| 480/480 [00:29<00:00, 16.48it/s]\n",
      "Generating masks: 100%|██████████| 128/128 [00:12<00:00, 10.65it/s]\n"
     ]
    },
    {
     "name": "stdout",
     "output_type": "stream",
     "text": [
      "result for 2048 masks (t: 4:54:34)\n",
      "\tmean std: 0.005668415713692904\n",
      "\tmin std: 0.004035326562707381\n",
      "\tmax std: 0.007353847934063378\n",
      "\tstd std: 0.00041544225814454385\n",
      "saving std_heatmaps to ../../../../tmp\\risei-stability\\1616459705_m2048.npy ...\n"
     ]
    }
   ],
   "source": [
    "experiments = 100\n",
    "masks_counts = [2048]\n",
    "\n",
    "tracemalloc.start()\n",
    "\n",
    "run(experiments, masks_counts)"
   ]
  },
  {
   "cell_type": "code",
   "execution_count": 17,
   "metadata": {},
   "outputs": [
    {
     "name": "stderr",
     "output_type": "stream",
     "text": [
      "\r",
      "Generating masks:   0%|          | 0/480 [00:00<?, ?it/s]"
     ]
    },
    {
     "name": "stdout",
     "output_type": "stream",
     "text": [
      "generating 50x 3072 masks...\n",
      "generating heatmap #0...\n"
     ]
    },
    {
     "name": "stderr",
     "output_type": "stream",
     "text": [
      "Generating masks: 100%|██████████| 480/480 [00:25<00:00, 18.89it/s]\n",
      "Generating masks: 100%|██████████| 480/480 [00:25<00:00, 19.01it/s]\n",
      "Generating masks: 100%|██████████| 480/480 [00:25<00:00, 19.07it/s]\n",
      "Generating masks: 100%|██████████| 480/480 [00:24<00:00, 19.29it/s]\n",
      "Generating masks: 100%|██████████| 480/480 [00:25<00:00, 19.02it/s]\n",
      "Generating masks: 100%|██████████| 480/480 [00:24<00:00, 19.20it/s]\n",
      "Generating masks: 100%|██████████| 192/192 [00:10<00:00, 17.47it/s]\n",
      "Generating masks:   0%|          | 0/480 [00:00<?, ?it/s]"
     ]
    },
    {
     "name": "stdout",
     "output_type": "stream",
     "text": [
      "generating heatmap #1...\n"
     ]
    },
    {
     "name": "stderr",
     "output_type": "stream",
     "text": [
      "Generating masks: 100%|██████████| 480/480 [00:24<00:00, 19.48it/s]\n",
      "Generating masks: 100%|██████████| 480/480 [00:24<00:00, 19.32it/s]\n",
      "Generating masks: 100%|██████████| 480/480 [00:24<00:00, 19.30it/s]\n",
      "Generating masks: 100%|██████████| 480/480 [00:24<00:00, 19.34it/s]\n",
      "Generating masks: 100%|██████████| 480/480 [00:24<00:00, 19.35it/s]\n",
      "Generating masks: 100%|██████████| 480/480 [00:24<00:00, 19.46it/s]\n",
      "Generating masks: 100%|██████████| 192/192 [00:10<00:00, 17.56it/s]\n"
     ]
    },
    {
     "name": "stdout",
     "output_type": "stream",
     "text": [
      "generating heatmap #2...\n"
     ]
    },
    {
     "name": "stderr",
     "output_type": "stream",
     "text": [
      "Generating masks: 100%|██████████| 480/480 [00:24<00:00, 19.64it/s]\n",
      "Generating masks: 100%|██████████| 480/480 [00:24<00:00, 19.20it/s]\n",
      "Generating masks: 100%|██████████| 480/480 [00:24<00:00, 19.58it/s]\n",
      "Generating masks: 100%|██████████| 480/480 [00:25<00:00, 19.09it/s]\n",
      "Generating masks: 100%|██████████| 480/480 [00:24<00:00, 19.50it/s]\n",
      "Generating masks: 100%|██████████| 480/480 [00:24<00:00, 19.47it/s]\n",
      "Generating masks: 100%|██████████| 192/192 [00:10<00:00, 17.71it/s]\n",
      "Generating masks:   0%|          | 0/480 [00:00<?, ?it/s]"
     ]
    },
    {
     "name": "stdout",
     "output_type": "stream",
     "text": [
      "generating heatmap #3...\n"
     ]
    },
    {
     "name": "stderr",
     "output_type": "stream",
     "text": [
      "Generating masks: 100%|██████████| 480/480 [00:24<00:00, 19.53it/s]\n",
      "Generating masks: 100%|██████████| 480/480 [00:24<00:00, 19.32it/s]\n",
      "Generating masks: 100%|██████████| 480/480 [00:24<00:00, 19.36it/s]\n",
      "Generating masks: 100%|██████████| 480/480 [00:24<00:00, 19.50it/s]\n",
      "Generating masks: 100%|██████████| 480/480 [00:24<00:00, 19.47it/s]\n",
      "Generating masks: 100%|██████████| 480/480 [00:24<00:00, 19.56it/s]\n",
      "Generating masks: 100%|██████████| 192/192 [00:11<00:00, 17.45it/s]\n",
      "Generating masks:   0%|          | 0/480 [00:00<?, ?it/s]"
     ]
    },
    {
     "name": "stdout",
     "output_type": "stream",
     "text": [
      "generating heatmap #4...\n"
     ]
    },
    {
     "name": "stderr",
     "output_type": "stream",
     "text": [
      "Generating masks: 100%|██████████| 480/480 [00:24<00:00, 19.45it/s]\n",
      "Generating masks: 100%|██████████| 480/480 [00:24<00:00, 19.25it/s]\n",
      "Generating masks: 100%|██████████| 480/480 [00:24<00:00, 19.40it/s]\n",
      "Generating masks: 100%|██████████| 480/480 [00:24<00:00, 19.23it/s]\n",
      "Generating masks: 100%|██████████| 480/480 [00:24<00:00, 19.33it/s]\n",
      "Generating masks: 100%|██████████| 480/480 [00:24<00:00, 19.71it/s]\n",
      "Generating masks: 100%|██████████| 192/192 [00:11<00:00, 17.11it/s]\n",
      "Generating masks:   0%|          | 0/480 [00:00<?, ?it/s]"
     ]
    },
    {
     "name": "stdout",
     "output_type": "stream",
     "text": [
      "generating heatmap #5...\n"
     ]
    },
    {
     "name": "stderr",
     "output_type": "stream",
     "text": [
      "Generating masks: 100%|██████████| 480/480 [00:24<00:00, 19.45it/s]\n",
      "Generating masks: 100%|██████████| 480/480 [00:24<00:00, 19.41it/s]\n",
      "Generating masks: 100%|██████████| 480/480 [00:24<00:00, 19.45it/s]\n",
      "Generating masks: 100%|██████████| 480/480 [00:24<00:00, 19.39it/s]\n",
      "Generating masks: 100%|██████████| 480/480 [00:24<00:00, 19.55it/s]\n",
      "Generating masks: 100%|██████████| 480/480 [00:24<00:00, 19.78it/s]\n",
      "Generating masks: 100%|██████████| 192/192 [00:11<00:00, 17.39it/s]\n",
      "Generating masks:   0%|          | 0/480 [00:00<?, ?it/s]"
     ]
    },
    {
     "name": "stdout",
     "output_type": "stream",
     "text": [
      "generating heatmap #6...\n"
     ]
    },
    {
     "name": "stderr",
     "output_type": "stream",
     "text": [
      "Generating masks: 100%|██████████| 480/480 [00:24<00:00, 19.72it/s]\n",
      "Generating masks: 100%|██████████| 480/480 [00:24<00:00, 19.64it/s]\n",
      "Generating masks: 100%|██████████| 480/480 [00:24<00:00, 19.52it/s]\n",
      "Generating masks: 100%|██████████| 480/480 [00:24<00:00, 19.45it/s]\n",
      "Generating masks: 100%|██████████| 480/480 [00:24<00:00, 19.36it/s]\n",
      "Generating masks: 100%|██████████| 480/480 [00:24<00:00, 19.73it/s]\n",
      "Generating masks: 100%|██████████| 192/192 [00:10<00:00, 17.51it/s]\n",
      "Generating masks:   0%|          | 0/480 [00:00<?, ?it/s]"
     ]
    },
    {
     "name": "stdout",
     "output_type": "stream",
     "text": [
      "generating heatmap #7...\n"
     ]
    },
    {
     "name": "stderr",
     "output_type": "stream",
     "text": [
      "Generating masks: 100%|██████████| 480/480 [00:24<00:00, 19.73it/s]\n",
      "Generating masks: 100%|██████████| 480/480 [00:24<00:00, 19.51it/s]\n",
      "Generating masks: 100%|██████████| 480/480 [00:24<00:00, 19.52it/s]\n",
      "Generating masks: 100%|██████████| 480/480 [00:24<00:00, 19.51it/s]\n",
      "Generating masks: 100%|██████████| 480/480 [00:24<00:00, 19.65it/s]\n",
      "Generating masks: 100%|██████████| 480/480 [00:24<00:00, 19.73it/s]\n",
      "Generating masks: 100%|██████████| 192/192 [00:10<00:00, 17.51it/s]\n",
      "Generating masks:   0%|          | 0/480 [00:00<?, ?it/s]"
     ]
    },
    {
     "name": "stdout",
     "output_type": "stream",
     "text": [
      "generating heatmap #8...\n"
     ]
    },
    {
     "name": "stderr",
     "output_type": "stream",
     "text": [
      "Generating masks: 100%|██████████| 480/480 [00:24<00:00, 19.72it/s]\n",
      "Generating masks: 100%|██████████| 480/480 [00:24<00:00, 19.58it/s]\n",
      "Generating masks: 100%|██████████| 480/480 [00:24<00:00, 19.53it/s]\n",
      "Generating masks: 100%|██████████| 480/480 [00:24<00:00, 19.71it/s]\n",
      "Generating masks: 100%|██████████| 480/480 [00:24<00:00, 19.68it/s]\n",
      "Generating masks: 100%|██████████| 480/480 [00:24<00:00, 19.75it/s]\n",
      "Generating masks: 100%|██████████| 192/192 [00:11<00:00, 17.41it/s]\n",
      "Generating masks:   0%|          | 0/480 [00:00<?, ?it/s]"
     ]
    },
    {
     "name": "stdout",
     "output_type": "stream",
     "text": [
      "generating heatmap #9...\n"
     ]
    },
    {
     "name": "stderr",
     "output_type": "stream",
     "text": [
      "Generating masks: 100%|██████████| 480/480 [00:24<00:00, 19.36it/s]\n",
      "Generating masks: 100%|██████████| 480/480 [00:24<00:00, 19.30it/s]\n",
      "Generating masks: 100%|██████████| 480/480 [00:24<00:00, 19.40it/s]\n",
      "Generating masks: 100%|██████████| 480/480 [00:24<00:00, 19.55it/s]\n",
      "Generating masks: 100%|██████████| 480/480 [00:24<00:00, 19.61it/s]\n",
      "Generating masks: 100%|██████████| 480/480 [00:24<00:00, 19.54it/s]\n",
      "Generating masks: 100%|██████████| 192/192 [00:11<00:00, 17.36it/s]\n",
      "Generating masks:   0%|          | 0/480 [00:00<?, ?it/s]"
     ]
    },
    {
     "name": "stdout",
     "output_type": "stream",
     "text": [
      "generating heatmap #10...\n"
     ]
    },
    {
     "name": "stderr",
     "output_type": "stream",
     "text": [
      "Generating masks: 100%|██████████| 480/480 [00:24<00:00, 19.47it/s]\n",
      "Generating masks: 100%|██████████| 480/480 [00:24<00:00, 19.41it/s]\n",
      "Generating masks: 100%|██████████| 480/480 [00:24<00:00, 19.54it/s]\n",
      "Generating masks: 100%|██████████| 480/480 [00:24<00:00, 19.46it/s]\n",
      "Generating masks: 100%|██████████| 480/480 [00:24<00:00, 19.58it/s]\n",
      "Generating masks: 100%|██████████| 480/480 [00:24<00:00, 19.52it/s]\n",
      "Generating masks: 100%|██████████| 192/192 [00:10<00:00, 17.50it/s]\n",
      "Generating masks:   0%|          | 0/480 [00:00<?, ?it/s]"
     ]
    },
    {
     "name": "stdout",
     "output_type": "stream",
     "text": [
      "generating heatmap #11...\n"
     ]
    },
    {
     "name": "stderr",
     "output_type": "stream",
     "text": [
      "Generating masks: 100%|██████████| 480/480 [00:24<00:00, 19.74it/s]\n",
      "Generating masks: 100%|██████████| 480/480 [00:24<00:00, 19.36it/s]\n",
      "Generating masks: 100%|██████████| 480/480 [00:24<00:00, 19.83it/s]\n",
      "Generating masks: 100%|██████████| 480/480 [00:24<00:00, 19.66it/s]\n",
      "Generating masks: 100%|██████████| 480/480 [00:24<00:00, 19.67it/s]\n",
      "Generating masks: 100%|██████████| 480/480 [00:24<00:00, 19.77it/s]\n",
      "Generating masks: 100%|██████████| 192/192 [00:10<00:00, 17.46it/s]\n",
      "Generating masks:   0%|          | 0/480 [00:00<?, ?it/s]"
     ]
    },
    {
     "name": "stdout",
     "output_type": "stream",
     "text": [
      "generating heatmap #12...\n"
     ]
    },
    {
     "name": "stderr",
     "output_type": "stream",
     "text": [
      "Generating masks: 100%|██████████| 480/480 [00:24<00:00, 19.48it/s]\n",
      "Generating masks: 100%|██████████| 480/480 [00:24<00:00, 19.57it/s]\n",
      "Generating masks: 100%|██████████| 480/480 [00:24<00:00, 19.41it/s]\n",
      "Generating masks: 100%|██████████| 480/480 [00:24<00:00, 19.71it/s]\n",
      "Generating masks: 100%|██████████| 480/480 [00:24<00:00, 19.74it/s]\n",
      "Generating masks: 100%|██████████| 480/480 [00:24<00:00, 19.66it/s]\n",
      "Generating masks: 100%|██████████| 192/192 [00:11<00:00, 17.40it/s]\n",
      "Generating masks:   0%|          | 0/480 [00:00<?, ?it/s]"
     ]
    },
    {
     "name": "stdout",
     "output_type": "stream",
     "text": [
      "generating heatmap #13...\n"
     ]
    },
    {
     "name": "stderr",
     "output_type": "stream",
     "text": [
      "Generating masks: 100%|██████████| 480/480 [00:24<00:00, 19.64it/s]\n",
      "Generating masks: 100%|██████████| 480/480 [00:24<00:00, 19.82it/s]\n",
      "Generating masks: 100%|██████████| 480/480 [00:24<00:00, 19.77it/s]\n",
      "Generating masks: 100%|██████████| 480/480 [00:24<00:00, 19.62it/s]\n",
      "Generating masks: 100%|██████████| 480/480 [00:24<00:00, 19.54it/s]\n",
      "Generating masks: 100%|██████████| 480/480 [00:24<00:00, 19.64it/s]\n",
      "Generating masks: 100%|██████████| 192/192 [00:11<00:00, 17.45it/s]\n"
     ]
    },
    {
     "name": "stdout",
     "output_type": "stream",
     "text": [
      "generating heatmap #14...\n"
     ]
    },
    {
     "name": "stderr",
     "output_type": "stream",
     "text": [
      "Generating masks: 100%|██████████| 480/480 [00:24<00:00, 19.61it/s]\n",
      "Generating masks: 100%|██████████| 480/480 [00:24<00:00, 19.72it/s]\n",
      "Generating masks: 100%|██████████| 480/480 [00:24<00:00, 19.67it/s]\n",
      "Generating masks: 100%|██████████| 480/480 [00:24<00:00, 19.72it/s]\n",
      "Generating masks: 100%|██████████| 480/480 [00:24<00:00, 19.57it/s]\n",
      "Generating masks: 100%|██████████| 480/480 [00:24<00:00, 19.61it/s]\n",
      "Generating masks: 100%|██████████| 192/192 [00:11<00:00, 17.29it/s]\n",
      "Generating masks:   0%|          | 0/480 [00:00<?, ?it/s]"
     ]
    },
    {
     "name": "stdout",
     "output_type": "stream",
     "text": [
      "generating heatmap #15...\n"
     ]
    },
    {
     "name": "stderr",
     "output_type": "stream",
     "text": [
      "Generating masks: 100%|██████████| 480/480 [00:24<00:00, 19.65it/s]\n",
      "Generating masks: 100%|██████████| 480/480 [00:24<00:00, 19.65it/s]\n",
      "Generating masks: 100%|██████████| 480/480 [00:24<00:00, 19.68it/s]\n",
      "Generating masks: 100%|██████████| 480/480 [00:24<00:00, 19.71it/s]\n",
      "Generating masks: 100%|██████████| 480/480 [00:25<00:00, 18.49it/s]\n",
      "Generating masks: 100%|██████████| 480/480 [00:25<00:00, 18.77it/s]\n",
      "Generating masks: 100%|██████████| 192/192 [00:11<00:00, 16.15it/s]\n",
      "Generating masks:   0%|          | 0/480 [00:00<?, ?it/s]"
     ]
    },
    {
     "name": "stdout",
     "output_type": "stream",
     "text": [
      "generating heatmap #16...\n"
     ]
    },
    {
     "name": "stderr",
     "output_type": "stream",
     "text": [
      "Generating masks: 100%|██████████| 480/480 [00:25<00:00, 19.03it/s]\n",
      "Generating masks: 100%|██████████| 480/480 [00:26<00:00, 18.26it/s]\n",
      "Generating masks: 100%|██████████| 480/480 [00:31<00:00, 15.31it/s]\n",
      "Generating masks: 100%|██████████| 480/480 [00:30<00:00, 15.90it/s]\n",
      "Generating masks: 100%|██████████| 480/480 [00:29<00:00, 16.46it/s]\n",
      "Generating masks: 100%|██████████| 480/480 [00:29<00:00, 16.21it/s]\n",
      "Generating masks: 100%|██████████| 192/192 [00:12<00:00, 15.48it/s]\n",
      "Generating masks:   0%|          | 0/480 [00:00<?, ?it/s]"
     ]
    },
    {
     "name": "stdout",
     "output_type": "stream",
     "text": [
      "generating heatmap #17...\n"
     ]
    },
    {
     "name": "stderr",
     "output_type": "stream",
     "text": [
      "Generating masks: 100%|██████████| 480/480 [00:27<00:00, 17.39it/s]\n",
      "Generating masks: 100%|██████████| 480/480 [00:27<00:00, 17.59it/s]\n",
      "Generating masks: 100%|██████████| 480/480 [00:26<00:00, 17.87it/s]\n",
      "Generating masks: 100%|██████████| 480/480 [00:27<00:00, 17.32it/s]\n",
      "Generating masks: 100%|██████████| 480/480 [00:27<00:00, 17.50it/s]\n",
      "Generating masks: 100%|██████████| 480/480 [00:27<00:00, 17.63it/s]\n",
      "Generating masks: 100%|██████████| 192/192 [00:12<00:00, 15.46it/s]\n",
      "Generating masks:   0%|          | 0/480 [00:00<?, ?it/s]"
     ]
    },
    {
     "name": "stdout",
     "output_type": "stream",
     "text": [
      "generating heatmap #18...\n"
     ]
    },
    {
     "name": "stderr",
     "output_type": "stream",
     "text": [
      "Generating masks: 100%|██████████| 480/480 [00:27<00:00, 17.19it/s]\n",
      "Generating masks: 100%|██████████| 480/480 [00:28<00:00, 16.91it/s]\n",
      "Generating masks: 100%|██████████| 480/480 [00:27<00:00, 17.42it/s]\n",
      "Generating masks: 100%|██████████| 480/480 [00:27<00:00, 17.74it/s]\n",
      "Generating masks: 100%|██████████| 480/480 [00:26<00:00, 18.33it/s]\n",
      "Generating masks: 100%|██████████| 480/480 [00:26<00:00, 18.31it/s]\n",
      "Generating masks: 100%|██████████| 192/192 [00:11<00:00, 16.31it/s]\n",
      "Generating masks:   0%|          | 0/480 [00:00<?, ?it/s]"
     ]
    },
    {
     "name": "stdout",
     "output_type": "stream",
     "text": [
      "generating heatmap #19...\n"
     ]
    },
    {
     "name": "stderr",
     "output_type": "stream",
     "text": [
      "Generating masks: 100%|██████████| 480/480 [00:26<00:00, 18.40it/s]\n",
      "Generating masks: 100%|██████████| 480/480 [00:26<00:00, 18.20it/s]\n",
      "Generating masks: 100%|██████████| 480/480 [00:26<00:00, 18.25it/s]\n",
      "Generating masks: 100%|██████████| 480/480 [00:26<00:00, 18.30it/s]\n",
      "Generating masks: 100%|██████████| 480/480 [00:26<00:00, 17.86it/s]\n",
      "Generating masks: 100%|██████████| 480/480 [00:26<00:00, 17.98it/s]\n",
      "Generating masks: 100%|██████████| 192/192 [00:11<00:00, 16.39it/s]\n",
      "Generating masks:   0%|          | 0/480 [00:00<?, ?it/s]"
     ]
    },
    {
     "name": "stdout",
     "output_type": "stream",
     "text": [
      "generating heatmap #20...\n"
     ]
    },
    {
     "name": "stderr",
     "output_type": "stream",
     "text": [
      "Generating masks: 100%|██████████| 480/480 [00:26<00:00, 18.18it/s]\n",
      "Generating masks: 100%|██████████| 480/480 [00:25<00:00, 18.47it/s]\n",
      "Generating masks: 100%|██████████| 480/480 [00:25<00:00, 18.62it/s]\n",
      "Generating masks: 100%|██████████| 480/480 [00:28<00:00, 16.85it/s]\n",
      "Generating masks: 100%|██████████| 480/480 [00:26<00:00, 18.06it/s]\n",
      "Generating masks: 100%|██████████| 480/480 [00:26<00:00, 18.04it/s]\n",
      "Generating masks: 100%|██████████| 192/192 [00:12<00:00, 15.98it/s]\n",
      "Generating masks:   0%|          | 0/480 [00:00<?, ?it/s]"
     ]
    },
    {
     "name": "stdout",
     "output_type": "stream",
     "text": [
      "generating heatmap #21...\n"
     ]
    },
    {
     "name": "stderr",
     "output_type": "stream",
     "text": [
      "Generating masks: 100%|██████████| 480/480 [00:26<00:00, 17.90it/s]\n",
      "Generating masks: 100%|██████████| 480/480 [00:27<00:00, 17.29it/s]\n",
      "Generating masks: 100%|██████████| 480/480 [00:25<00:00, 18.55it/s]\n",
      "Generating masks: 100%|██████████| 480/480 [00:25<00:00, 18.49it/s]\n",
      "Generating masks: 100%|██████████| 480/480 [00:26<00:00, 18.34it/s]\n",
      "Generating masks: 100%|██████████| 480/480 [00:26<00:00, 18.38it/s]\n",
      "Generating masks: 100%|██████████| 192/192 [00:11<00:00, 16.05it/s]\n",
      "Generating masks:   0%|          | 0/480 [00:00<?, ?it/s]"
     ]
    },
    {
     "name": "stdout",
     "output_type": "stream",
     "text": [
      "generating heatmap #22...\n"
     ]
    },
    {
     "name": "stderr",
     "output_type": "stream",
     "text": [
      "Generating masks: 100%|██████████| 480/480 [00:26<00:00, 18.21it/s]\n",
      "Generating masks: 100%|██████████| 480/480 [00:27<00:00, 17.45it/s]\n",
      "Generating masks: 100%|██████████| 480/480 [00:26<00:00, 18.06it/s]\n",
      "Generating masks: 100%|██████████| 480/480 [00:26<00:00, 17.94it/s]\n",
      "Generating masks: 100%|██████████| 480/480 [00:26<00:00, 17.95it/s]\n",
      "Generating masks: 100%|██████████| 480/480 [00:26<00:00, 18.11it/s]\n",
      "Generating masks: 100%|██████████| 192/192 [00:12<00:00, 15.78it/s]\n",
      "Generating masks:   0%|          | 0/480 [00:00<?, ?it/s]"
     ]
    },
    {
     "name": "stdout",
     "output_type": "stream",
     "text": [
      "generating heatmap #23...\n"
     ]
    },
    {
     "name": "stderr",
     "output_type": "stream",
     "text": [
      "Generating masks: 100%|██████████| 480/480 [00:26<00:00, 18.06it/s]\n",
      "Generating masks: 100%|██████████| 480/480 [00:27<00:00, 17.40it/s]\n",
      "Generating masks: 100%|██████████| 480/480 [00:26<00:00, 17.96it/s]\n",
      "Generating masks: 100%|██████████| 480/480 [00:26<00:00, 17.85it/s]\n",
      "Generating masks: 100%|██████████| 480/480 [00:26<00:00, 18.06it/s]\n",
      "Generating masks: 100%|██████████| 480/480 [00:26<00:00, 18.28it/s]\n",
      "Generating masks: 100%|██████████| 192/192 [00:11<00:00, 16.24it/s]\n",
      "Generating masks:   0%|          | 0/480 [00:00<?, ?it/s]"
     ]
    },
    {
     "name": "stdout",
     "output_type": "stream",
     "text": [
      "generating heatmap #24...\n"
     ]
    },
    {
     "name": "stderr",
     "output_type": "stream",
     "text": [
      "Generating masks: 100%|██████████| 480/480 [00:26<00:00, 18.26it/s]\n",
      "Generating masks: 100%|██████████| 480/480 [00:26<00:00, 18.27it/s]\n",
      "Generating masks: 100%|██████████| 480/480 [00:26<00:00, 18.45it/s]\n",
      "Generating masks: 100%|██████████| 480/480 [00:26<00:00, 18.30it/s]\n",
      "Generating masks: 100%|██████████| 480/480 [00:26<00:00, 18.42it/s]\n",
      "Generating masks: 100%|██████████| 480/480 [00:26<00:00, 18.09it/s]\n",
      "Generating masks: 100%|██████████| 192/192 [00:12<00:00, 15.94it/s]\n",
      "Generating masks:   0%|          | 0/480 [00:00<?, ?it/s]"
     ]
    },
    {
     "name": "stdout",
     "output_type": "stream",
     "text": [
      "generating heatmap #25...\n"
     ]
    },
    {
     "name": "stderr",
     "output_type": "stream",
     "text": [
      "Generating masks: 100%|██████████| 480/480 [00:26<00:00, 18.15it/s]\n",
      "Generating masks: 100%|██████████| 480/480 [00:26<00:00, 18.16it/s]\n",
      "Generating masks: 100%|██████████| 480/480 [00:26<00:00, 18.26it/s]\n",
      "Generating masks: 100%|██████████| 480/480 [00:26<00:00, 18.24it/s]\n",
      "Generating masks: 100%|██████████| 480/480 [00:26<00:00, 18.21it/s]\n",
      "Generating masks: 100%|██████████| 480/480 [00:26<00:00, 18.26it/s]\n",
      "Generating masks: 100%|██████████| 192/192 [00:11<00:00, 16.07it/s]\n"
     ]
    },
    {
     "name": "stdout",
     "output_type": "stream",
     "text": [
      "generating heatmap #26...\n"
     ]
    },
    {
     "name": "stderr",
     "output_type": "stream",
     "text": [
      "Generating masks: 100%|██████████| 480/480 [00:26<00:00, 18.22it/s]\n",
      "Generating masks: 100%|██████████| 480/480 [00:26<00:00, 18.26it/s]\n",
      "Generating masks: 100%|██████████| 480/480 [00:26<00:00, 18.14it/s]\n",
      "Generating masks: 100%|██████████| 480/480 [00:26<00:00, 18.22it/s]\n",
      "Generating masks: 100%|██████████| 480/480 [00:26<00:00, 18.25it/s]\n",
      "Generating masks: 100%|██████████| 480/480 [00:26<00:00, 18.37it/s]\n",
      "Generating masks: 100%|██████████| 192/192 [00:11<00:00, 16.07it/s]\n",
      "Generating masks:   0%|          | 0/480 [00:00<?, ?it/s]"
     ]
    },
    {
     "name": "stdout",
     "output_type": "stream",
     "text": [
      "generating heatmap #27...\n"
     ]
    },
    {
     "name": "stderr",
     "output_type": "stream",
     "text": [
      "Generating masks: 100%|██████████| 480/480 [00:26<00:00, 18.35it/s]\n",
      "Generating masks: 100%|██████████| 480/480 [00:25<00:00, 18.57it/s]\n",
      "Generating masks: 100%|██████████| 480/480 [00:26<00:00, 18.25it/s]\n",
      "Generating masks: 100%|██████████| 480/480 [00:26<00:00, 18.39it/s]\n",
      "Generating masks: 100%|██████████| 480/480 [00:26<00:00, 18.16it/s]\n",
      "Generating masks: 100%|██████████| 480/480 [00:26<00:00, 18.37it/s]\n",
      "Generating masks: 100%|██████████| 192/192 [00:12<00:00, 15.95it/s]\n",
      "Generating masks:   0%|          | 0/480 [00:00<?, ?it/s]"
     ]
    },
    {
     "name": "stdout",
     "output_type": "stream",
     "text": [
      "generating heatmap #28...\n"
     ]
    },
    {
     "name": "stderr",
     "output_type": "stream",
     "text": [
      "Generating masks: 100%|██████████| 480/480 [00:26<00:00, 18.35it/s]\n",
      "Generating masks: 100%|██████████| 480/480 [00:26<00:00, 18.29it/s]\n",
      "Generating masks: 100%|██████████| 480/480 [00:26<00:00, 18.22it/s]\n",
      "Generating masks: 100%|██████████| 480/480 [00:26<00:00, 18.23it/s]\n",
      "Generating masks: 100%|██████████| 480/480 [00:26<00:00, 17.92it/s]\n",
      "Generating masks: 100%|██████████| 480/480 [00:26<00:00, 18.17it/s]\n",
      "Generating masks: 100%|██████████| 192/192 [00:12<00:00, 15.91it/s]\n",
      "Generating masks:   0%|          | 0/480 [00:00<?, ?it/s]"
     ]
    },
    {
     "name": "stdout",
     "output_type": "stream",
     "text": [
      "generating heatmap #29...\n"
     ]
    },
    {
     "name": "stderr",
     "output_type": "stream",
     "text": [
      "Generating masks: 100%|██████████| 480/480 [00:26<00:00, 18.09it/s]\n",
      "Generating masks: 100%|██████████| 480/480 [00:26<00:00, 18.04it/s]\n",
      "Generating masks: 100%|██████████| 480/480 [00:26<00:00, 17.99it/s]\n",
      "Generating masks: 100%|██████████| 480/480 [00:26<00:00, 18.03it/s]\n",
      "Generating masks: 100%|██████████| 480/480 [00:26<00:00, 17.98it/s]\n",
      "Generating masks: 100%|██████████| 480/480 [00:26<00:00, 18.06it/s]\n",
      "Generating masks: 100%|██████████| 192/192 [00:12<00:00, 15.72it/s]\n",
      "Generating masks:   0%|          | 0/480 [00:00<?, ?it/s]"
     ]
    },
    {
     "name": "stdout",
     "output_type": "stream",
     "text": [
      "generating heatmap #30...\n"
     ]
    },
    {
     "name": "stderr",
     "output_type": "stream",
     "text": [
      "Generating masks: 100%|██████████| 480/480 [00:26<00:00, 17.94it/s]\n",
      "Generating masks: 100%|██████████| 480/480 [00:26<00:00, 17.95it/s]\n",
      "Generating masks: 100%|██████████| 480/480 [00:26<00:00, 18.05it/s]\n",
      "Generating masks: 100%|██████████| 480/480 [00:26<00:00, 18.13it/s]\n",
      "Generating masks: 100%|██████████| 480/480 [00:26<00:00, 18.03it/s]\n",
      "Generating masks: 100%|██████████| 480/480 [00:26<00:00, 17.92it/s]\n",
      "Generating masks: 100%|██████████| 192/192 [00:12<00:00, 15.82it/s]\n",
      "Generating masks:   0%|          | 0/480 [00:00<?, ?it/s]"
     ]
    },
    {
     "name": "stdout",
     "output_type": "stream",
     "text": [
      "generating heatmap #31...\n"
     ]
    },
    {
     "name": "stderr",
     "output_type": "stream",
     "text": [
      "Generating masks: 100%|██████████| 480/480 [00:26<00:00, 17.90it/s]\n",
      "Generating masks: 100%|██████████| 480/480 [00:26<00:00, 17.95it/s]\n",
      "Generating masks: 100%|██████████| 480/480 [00:26<00:00, 17.94it/s]\n",
      "Generating masks: 100%|██████████| 480/480 [00:26<00:00, 17.99it/s]\n",
      "Generating masks: 100%|██████████| 480/480 [00:26<00:00, 17.97it/s]\n",
      "Generating masks: 100%|██████████| 480/480 [00:26<00:00, 17.88it/s]\n",
      "Generating masks: 100%|██████████| 192/192 [00:12<00:00, 15.53it/s]\n",
      "Generating masks:   0%|          | 0/480 [00:00<?, ?it/s]"
     ]
    },
    {
     "name": "stdout",
     "output_type": "stream",
     "text": [
      "generating heatmap #32...\n"
     ]
    },
    {
     "name": "stderr",
     "output_type": "stream",
     "text": [
      "Generating masks: 100%|██████████| 480/480 [00:26<00:00, 17.94it/s]\n",
      "Generating masks: 100%|██████████| 480/480 [00:26<00:00, 18.01it/s]\n",
      "Generating masks: 100%|██████████| 480/480 [00:26<00:00, 18.08it/s]\n",
      "Generating masks: 100%|██████████| 480/480 [00:26<00:00, 17.91it/s]\n",
      "Generating masks: 100%|██████████| 480/480 [00:26<00:00, 17.97it/s]\n",
      "Generating masks: 100%|██████████| 480/480 [00:26<00:00, 17.96it/s]\n",
      "Generating masks: 100%|██████████| 192/192 [00:12<00:00, 15.64it/s]\n",
      "Generating masks:   0%|          | 0/480 [00:00<?, ?it/s]"
     ]
    },
    {
     "name": "stdout",
     "output_type": "stream",
     "text": [
      "generating heatmap #33...\n"
     ]
    },
    {
     "name": "stderr",
     "output_type": "stream",
     "text": [
      "Generating masks: 100%|██████████| 480/480 [00:26<00:00, 17.84it/s]\n",
      "Generating masks: 100%|██████████| 480/480 [00:26<00:00, 17.80it/s]\n",
      "Generating masks: 100%|██████████| 480/480 [00:26<00:00, 17.79it/s]\n",
      "Generating masks: 100%|██████████| 480/480 [00:26<00:00, 17.83it/s]\n",
      "Generating masks: 100%|██████████| 480/480 [00:26<00:00, 17.82it/s]\n",
      "Generating masks: 100%|██████████| 480/480 [00:26<00:00, 17.86it/s]\n",
      "Generating masks: 100%|██████████| 192/192 [00:12<00:00, 15.36it/s]\n",
      "Generating masks:   0%|          | 0/480 [00:00<?, ?it/s]"
     ]
    },
    {
     "name": "stdout",
     "output_type": "stream",
     "text": [
      "generating heatmap #34...\n"
     ]
    },
    {
     "name": "stderr",
     "output_type": "stream",
     "text": [
      "Generating masks: 100%|██████████| 480/480 [00:26<00:00, 17.83it/s]\n",
      "Generating masks: 100%|██████████| 480/480 [00:26<00:00, 17.91it/s]\n",
      "Generating masks: 100%|██████████| 480/480 [00:27<00:00, 17.77it/s]\n",
      "Generating masks: 100%|██████████| 480/480 [00:26<00:00, 17.86it/s]\n",
      "Generating masks: 100%|██████████| 480/480 [00:26<00:00, 17.86it/s]\n",
      "Generating masks: 100%|██████████| 480/480 [00:27<00:00, 17.72it/s]\n",
      "Generating masks: 100%|██████████| 192/192 [00:12<00:00, 15.36it/s]\n",
      "Generating masks:   0%|          | 0/480 [00:00<?, ?it/s]"
     ]
    },
    {
     "name": "stdout",
     "output_type": "stream",
     "text": [
      "generating heatmap #35...\n"
     ]
    },
    {
     "name": "stderr",
     "output_type": "stream",
     "text": [
      "Generating masks: 100%|██████████| 480/480 [00:26<00:00, 17.82it/s]\n",
      "Generating masks: 100%|██████████| 480/480 [00:27<00:00, 17.76it/s]\n",
      "Generating masks: 100%|██████████| 480/480 [00:26<00:00, 17.81it/s]\n",
      "Generating masks: 100%|██████████| 480/480 [00:27<00:00, 17.76it/s]\n",
      "Generating masks: 100%|██████████| 480/480 [00:26<00:00, 17.82it/s]\n",
      "Generating masks: 100%|██████████| 480/480 [00:27<00:00, 17.69it/s]\n",
      "Generating masks: 100%|██████████| 192/192 [00:12<00:00, 15.37it/s]\n"
     ]
    },
    {
     "name": "stdout",
     "output_type": "stream",
     "text": [
      "generating heatmap #36...\n"
     ]
    },
    {
     "name": "stderr",
     "output_type": "stream",
     "text": [
      "Generating masks: 100%|██████████| 480/480 [00:27<00:00, 17.71it/s]\n",
      "Generating masks: 100%|██████████| 480/480 [00:26<00:00, 17.82it/s]\n",
      "Generating masks: 100%|██████████| 480/480 [00:26<00:00, 17.86it/s]\n",
      "Generating masks: 100%|██████████| 480/480 [00:26<00:00, 17.78it/s]\n",
      "Generating masks: 100%|██████████| 480/480 [00:27<00:00, 17.62it/s]\n",
      "Generating masks: 100%|██████████| 480/480 [00:27<00:00, 17.73it/s]\n",
      "Generating masks: 100%|██████████| 192/192 [00:12<00:00, 15.28it/s]\n",
      "Generating masks:   0%|          | 0/480 [00:00<?, ?it/s]"
     ]
    },
    {
     "name": "stdout",
     "output_type": "stream",
     "text": [
      "generating heatmap #37...\n"
     ]
    },
    {
     "name": "stderr",
     "output_type": "stream",
     "text": [
      "Generating masks: 100%|██████████| 480/480 [00:28<00:00, 16.70it/s]\n",
      "Generating masks: 100%|██████████| 480/480 [00:27<00:00, 17.16it/s]\n",
      "Generating masks: 100%|██████████| 480/480 [00:26<00:00, 17.78it/s]\n",
      "Generating masks: 100%|██████████| 480/480 [00:26<00:00, 17.79it/s]\n",
      "Generating masks: 100%|██████████| 480/480 [00:28<00:00, 17.12it/s]\n",
      "Generating masks: 100%|██████████| 480/480 [00:27<00:00, 17.64it/s]\n",
      "Generating masks: 100%|██████████| 192/192 [00:12<00:00, 15.21it/s]\n",
      "Generating masks:   0%|          | 0/480 [00:00<?, ?it/s]"
     ]
    },
    {
     "name": "stdout",
     "output_type": "stream",
     "text": [
      "generating heatmap #38...\n"
     ]
    },
    {
     "name": "stderr",
     "output_type": "stream",
     "text": [
      "Generating masks: 100%|██████████| 480/480 [00:27<00:00, 17.75it/s]\n",
      "Generating masks: 100%|██████████| 480/480 [00:27<00:00, 17.77it/s]\n",
      "Generating masks: 100%|██████████| 480/480 [00:27<00:00, 17.76it/s]\n",
      "Generating masks: 100%|██████████| 480/480 [00:27<00:00, 17.71it/s]\n",
      "Generating masks: 100%|██████████| 480/480 [00:26<00:00, 17.80it/s]\n",
      "Generating masks: 100%|██████████| 480/480 [00:26<00:00, 17.88it/s]\n",
      "Generating masks: 100%|██████████| 192/192 [00:12<00:00, 15.27it/s]\n",
      "Generating masks:   0%|          | 0/480 [00:00<?, ?it/s]"
     ]
    },
    {
     "name": "stdout",
     "output_type": "stream",
     "text": [
      "generating heatmap #39...\n"
     ]
    },
    {
     "name": "stderr",
     "output_type": "stream",
     "text": [
      "Generating masks: 100%|██████████| 480/480 [00:27<00:00, 17.70it/s]\n",
      "Generating masks: 100%|██████████| 480/480 [00:27<00:00, 17.73it/s]\n",
      "Generating masks: 100%|██████████| 480/480 [00:27<00:00, 17.73it/s]\n",
      "Generating masks: 100%|██████████| 480/480 [00:27<00:00, 17.56it/s]\n",
      "Generating masks: 100%|██████████| 480/480 [00:27<00:00, 17.58it/s]\n",
      "Generating masks: 100%|██████████| 480/480 [00:27<00:00, 17.76it/s]\n",
      "Generating masks: 100%|██████████| 192/192 [00:12<00:00, 15.11it/s]\n",
      "Generating masks:   0%|          | 0/480 [00:00<?, ?it/s]"
     ]
    },
    {
     "name": "stdout",
     "output_type": "stream",
     "text": [
      "generating heatmap #40...\n"
     ]
    },
    {
     "name": "stderr",
     "output_type": "stream",
     "text": [
      "Generating masks: 100%|██████████| 480/480 [00:27<00:00, 17.65it/s]\n",
      "Generating masks: 100%|██████████| 480/480 [00:27<00:00, 17.69it/s]\n",
      "Generating masks: 100%|██████████| 480/480 [00:27<00:00, 17.57it/s]\n",
      "Generating masks: 100%|██████████| 480/480 [00:27<00:00, 17.60it/s]\n",
      "Generating masks: 100%|██████████| 480/480 [00:27<00:00, 17.70it/s]\n",
      "Generating masks: 100%|██████████| 480/480 [00:27<00:00, 17.62it/s]\n",
      "Generating masks: 100%|██████████| 192/192 [00:12<00:00, 15.12it/s]\n",
      "Generating masks:   0%|          | 0/480 [00:00<?, ?it/s]"
     ]
    },
    {
     "name": "stdout",
     "output_type": "stream",
     "text": [
      "generating heatmap #41...\n"
     ]
    },
    {
     "name": "stderr",
     "output_type": "stream",
     "text": [
      "Generating masks: 100%|██████████| 480/480 [00:27<00:00, 17.65it/s]\n",
      "Generating masks: 100%|██████████| 480/480 [00:27<00:00, 17.57it/s]\n",
      "Generating masks: 100%|██████████| 480/480 [00:27<00:00, 17.56it/s]\n",
      "Generating masks: 100%|██████████| 480/480 [00:27<00:00, 17.57it/s]\n",
      "Generating masks: 100%|██████████| 480/480 [00:27<00:00, 17.44it/s]\n",
      "Generating masks: 100%|██████████| 480/480 [00:27<00:00, 17.55it/s]\n",
      "Generating masks: 100%|██████████| 192/192 [00:12<00:00, 15.00it/s]\n",
      "Generating masks:   0%|          | 0/480 [00:00<?, ?it/s]"
     ]
    },
    {
     "name": "stdout",
     "output_type": "stream",
     "text": [
      "generating heatmap #42...\n"
     ]
    },
    {
     "name": "stderr",
     "output_type": "stream",
     "text": [
      "Generating masks: 100%|██████████| 480/480 [00:27<00:00, 17.51it/s]\n",
      "Generating masks: 100%|██████████| 480/480 [00:27<00:00, 17.46it/s]\n",
      "Generating masks: 100%|██████████| 480/480 [00:27<00:00, 17.40it/s]\n",
      "Generating masks: 100%|██████████| 480/480 [00:27<00:00, 17.51it/s]\n",
      "Generating masks: 100%|██████████| 480/480 [00:27<00:00, 17.48it/s]\n",
      "Generating masks: 100%|██████████| 480/480 [00:27<00:00, 17.54it/s]\n",
      "Generating masks: 100%|██████████| 192/192 [00:12<00:00, 14.87it/s]\n",
      "Generating masks:   0%|          | 0/480 [00:00<?, ?it/s]"
     ]
    },
    {
     "name": "stdout",
     "output_type": "stream",
     "text": [
      "generating heatmap #43...\n"
     ]
    },
    {
     "name": "stderr",
     "output_type": "stream",
     "text": [
      "Generating masks: 100%|██████████| 480/480 [00:27<00:00, 17.40it/s]\n",
      "Generating masks: 100%|██████████| 480/480 [00:27<00:00, 17.38it/s]\n",
      "Generating masks: 100%|██████████| 480/480 [00:27<00:00, 17.42it/s]\n",
      "Generating masks: 100%|██████████| 480/480 [00:27<00:00, 17.55it/s]\n",
      "Generating masks: 100%|██████████| 480/480 [00:27<00:00, 17.53it/s]\n",
      "Generating masks: 100%|██████████| 480/480 [00:27<00:00, 17.43it/s]\n",
      "Generating masks: 100%|██████████| 192/192 [00:13<00:00, 14.73it/s]\n",
      "Generating masks:   0%|          | 0/480 [00:00<?, ?it/s]"
     ]
    },
    {
     "name": "stdout",
     "output_type": "stream",
     "text": [
      "generating heatmap #44...\n"
     ]
    },
    {
     "name": "stderr",
     "output_type": "stream",
     "text": [
      "Generating masks: 100%|██████████| 480/480 [00:27<00:00, 17.57it/s]\n",
      "Generating masks: 100%|██████████| 480/480 [00:27<00:00, 17.50it/s]\n",
      "Generating masks: 100%|██████████| 480/480 [00:27<00:00, 17.67it/s]\n",
      "Generating masks: 100%|██████████| 480/480 [00:27<00:00, 17.48it/s]\n",
      "Generating masks: 100%|██████████| 480/480 [00:27<00:00, 17.44it/s]\n",
      "Generating masks: 100%|██████████| 480/480 [00:27<00:00, 17.41it/s]\n",
      "Generating masks: 100%|██████████| 192/192 [00:12<00:00, 14.84it/s]\n",
      "Generating masks:   0%|          | 0/480 [00:00<?, ?it/s]"
     ]
    },
    {
     "name": "stdout",
     "output_type": "stream",
     "text": [
      "generating heatmap #45...\n"
     ]
    },
    {
     "name": "stderr",
     "output_type": "stream",
     "text": [
      "Generating masks: 100%|██████████| 480/480 [00:27<00:00, 17.53it/s]\n",
      "Generating masks: 100%|██████████| 480/480 [00:27<00:00, 17.36it/s]\n",
      "Generating masks: 100%|██████████| 480/480 [00:31<00:00, 15.29it/s]\n",
      "Generating masks: 100%|██████████| 480/480 [00:30<00:00, 15.89it/s]\n",
      "Generating masks: 100%|██████████| 480/480 [00:27<00:00, 17.15it/s]\n",
      "Generating masks: 100%|██████████| 480/480 [00:27<00:00, 17.37it/s]\n",
      "Generating masks: 100%|██████████| 192/192 [00:12<00:00, 15.04it/s]\n",
      "Generating masks:   0%|          | 0/480 [00:00<?, ?it/s]"
     ]
    },
    {
     "name": "stdout",
     "output_type": "stream",
     "text": [
      "generating heatmap #46...\n"
     ]
    },
    {
     "name": "stderr",
     "output_type": "stream",
     "text": [
      "Generating masks: 100%|██████████| 480/480 [00:27<00:00, 17.58it/s]\n",
      "Generating masks: 100%|██████████| 480/480 [00:27<00:00, 17.75it/s]\n",
      "Generating masks: 100%|██████████| 480/480 [00:27<00:00, 17.75it/s]\n",
      "Generating masks: 100%|██████████| 480/480 [00:27<00:00, 17.46it/s]\n",
      "Generating masks: 100%|██████████| 480/480 [00:26<00:00, 17.87it/s]\n",
      "Generating masks: 100%|██████████| 480/480 [00:27<00:00, 17.67it/s]\n",
      "Generating masks: 100%|██████████| 192/192 [00:12<00:00, 15.11it/s]\n",
      "Generating masks:   0%|          | 0/480 [00:00<?, ?it/s]"
     ]
    },
    {
     "name": "stdout",
     "output_type": "stream",
     "text": [
      "generating heatmap #47...\n"
     ]
    },
    {
     "name": "stderr",
     "output_type": "stream",
     "text": [
      "Generating masks: 100%|██████████| 480/480 [00:27<00:00, 17.62it/s]\n",
      "Generating masks: 100%|██████████| 480/480 [00:27<00:00, 17.16it/s]\n",
      "Generating masks: 100%|██████████| 480/480 [00:27<00:00, 17.73it/s]\n",
      "Generating masks: 100%|██████████| 480/480 [00:26<00:00, 17.80it/s]\n",
      "Generating masks: 100%|██████████| 480/480 [00:27<00:00, 17.76it/s]\n",
      "Generating masks: 100%|██████████| 480/480 [00:27<00:00, 17.63it/s]\n",
      "Generating masks: 100%|██████████| 192/192 [00:12<00:00, 14.97it/s]\n"
     ]
    },
    {
     "name": "stdout",
     "output_type": "stream",
     "text": [
      "generating heatmap #48...\n"
     ]
    },
    {
     "name": "stderr",
     "output_type": "stream",
     "text": [
      "Generating masks: 100%|██████████| 480/480 [00:26<00:00, 17.84it/s]\n",
      "Generating masks: 100%|██████████| 480/480 [00:27<00:00, 17.64it/s]\n",
      "Generating masks: 100%|██████████| 480/480 [00:27<00:00, 17.68it/s]\n",
      "Generating masks: 100%|██████████| 480/480 [00:27<00:00, 17.68it/s]\n",
      "Generating masks: 100%|██████████| 480/480 [00:27<00:00, 17.66it/s]\n",
      "Generating masks: 100%|██████████| 480/480 [00:27<00:00, 17.51it/s]\n",
      "Generating masks: 100%|██████████| 192/192 [00:12<00:00, 15.35it/s]\n",
      "Generating masks:   0%|          | 0/480 [00:00<?, ?it/s]"
     ]
    },
    {
     "name": "stdout",
     "output_type": "stream",
     "text": [
      "generating heatmap #49...\n"
     ]
    },
    {
     "name": "stderr",
     "output_type": "stream",
     "text": [
      "Generating masks: 100%|██████████| 480/480 [00:27<00:00, 17.71it/s]\n",
      "Generating masks: 100%|██████████| 480/480 [00:27<00:00, 17.71it/s]\n",
      "Generating masks: 100%|██████████| 480/480 [00:27<00:00, 17.57it/s]\n",
      "Generating masks: 100%|██████████| 480/480 [00:27<00:00, 17.23it/s]\n",
      "Generating masks: 100%|██████████| 480/480 [00:27<00:00, 17.15it/s]\n",
      "Generating masks: 100%|██████████| 480/480 [00:27<00:00, 17.30it/s]\n",
      "Generating masks: 100%|██████████| 192/192 [00:13<00:00, 14.12it/s]\n",
      "Generating masks:   0%|          | 0/480 [00:00<?, ?it/s]"
     ]
    },
    {
     "name": "stdout",
     "output_type": "stream",
     "text": [
      "result for 3072 masks (t: 3:34:31)\n",
      "\tmean std: 0.004530022197964115\n",
      "\tmin std: 0.0027128837459437154\n",
      "\tmax std: 0.0065531617076287655\n",
      "\tstd std: 0.0004514350781844201\n",
      "saving std_heatmaps to ../../../../tmp\\risei-stability\\1616625059_m3072.npy ...\n",
      "generating 50x 4096 masks...\n",
      "generating heatmap #0...\n"
     ]
    },
    {
     "name": "stderr",
     "output_type": "stream",
     "text": [
      "Generating masks: 100%|██████████| 480/480 [00:28<00:00, 17.11it/s]\n",
      "Generating masks: 100%|██████████| 480/480 [00:27<00:00, 17.20it/s]\n",
      "Generating masks: 100%|██████████| 480/480 [00:27<00:00, 17.55it/s]\n",
      "Generating masks: 100%|██████████| 480/480 [00:26<00:00, 17.94it/s]\n",
      "Generating masks: 100%|██████████| 480/480 [00:26<00:00, 18.45it/s]\n",
      "Generating masks: 100%|██████████| 480/480 [00:25<00:00, 18.51it/s]\n",
      "Generating masks: 100%|██████████| 480/480 [00:26<00:00, 18.32it/s]\n",
      "Generating masks: 100%|██████████| 480/480 [00:26<00:00, 18.44it/s]\n",
      "Generating masks: 100%|██████████| 256/256 [00:15<00:00, 16.63it/s]\n",
      "Generating masks:   0%|          | 0/480 [00:00<?, ?it/s]"
     ]
    },
    {
     "name": "stdout",
     "output_type": "stream",
     "text": [
      "generating heatmap #1...\n"
     ]
    },
    {
     "name": "stderr",
     "output_type": "stream",
     "text": [
      "Generating masks: 100%|██████████| 480/480 [00:26<00:00, 18.38it/s]\n",
      "Generating masks: 100%|██████████| 480/480 [00:25<00:00, 18.48it/s]\n",
      "Generating masks: 100%|██████████| 480/480 [00:26<00:00, 18.41it/s]\n",
      "Generating masks: 100%|██████████| 480/480 [00:26<00:00, 18.37it/s]\n",
      "Generating masks: 100%|██████████| 480/480 [00:25<00:00, 18.50it/s]\n",
      "Generating masks: 100%|██████████| 480/480 [00:26<00:00, 18.44it/s]\n",
      "Generating masks: 100%|██████████| 480/480 [00:26<00:00, 18.43it/s]\n",
      "Generating masks: 100%|██████████| 480/480 [00:25<00:00, 18.62it/s]\n",
      "Generating masks: 100%|██████████| 256/256 [00:15<00:00, 16.75it/s]\n"
     ]
    },
    {
     "name": "stdout",
     "output_type": "stream",
     "text": [
      "generating heatmap #2...\n"
     ]
    },
    {
     "name": "stderr",
     "output_type": "stream",
     "text": [
      "Generating masks: 100%|██████████| 480/480 [00:25<00:00, 18.52it/s]\n",
      "Generating masks: 100%|██████████| 480/480 [00:26<00:00, 18.44it/s]\n",
      "Generating masks: 100%|██████████| 480/480 [00:25<00:00, 18.51it/s]\n",
      "Generating masks: 100%|██████████| 480/480 [00:25<00:00, 18.63it/s]\n",
      "Generating masks: 100%|██████████| 480/480 [00:25<00:00, 18.70it/s]\n",
      "Generating masks: 100%|██████████| 480/480 [00:25<00:00, 18.57it/s]\n",
      "Generating masks: 100%|██████████| 480/480 [00:25<00:00, 18.70it/s]\n",
      "Generating masks: 100%|██████████| 480/480 [00:25<00:00, 18.56it/s]\n",
      "Generating masks: 100%|██████████| 256/256 [00:15<00:00, 16.63it/s]\n",
      "Generating masks:   0%|          | 0/480 [00:00<?, ?it/s]"
     ]
    },
    {
     "name": "stdout",
     "output_type": "stream",
     "text": [
      "generating heatmap #3...\n"
     ]
    },
    {
     "name": "stderr",
     "output_type": "stream",
     "text": [
      "Generating masks: 100%|██████████| 480/480 [00:25<00:00, 18.46it/s]\n",
      "Generating masks: 100%|██████████| 480/480 [00:25<00:00, 18.55it/s]\n",
      "Generating masks: 100%|██████████| 480/480 [00:26<00:00, 18.36it/s]\n",
      "Generating masks: 100%|██████████| 480/480 [00:26<00:00, 18.38it/s]\n",
      "Generating masks: 100%|██████████| 480/480 [00:25<00:00, 18.74it/s]\n",
      "Generating masks: 100%|██████████| 480/480 [00:26<00:00, 18.45it/s]\n",
      "Generating masks: 100%|██████████| 480/480 [00:25<00:00, 18.56it/s]\n",
      "Generating masks: 100%|██████████| 480/480 [00:25<00:00, 18.58it/s]\n",
      "Generating masks: 100%|██████████| 256/256 [00:15<00:00, 16.52it/s]\n",
      "Generating masks:   0%|          | 0/480 [00:00<?, ?it/s]"
     ]
    },
    {
     "name": "stdout",
     "output_type": "stream",
     "text": [
      "generating heatmap #4...\n"
     ]
    },
    {
     "name": "stderr",
     "output_type": "stream",
     "text": [
      "Generating masks: 100%|██████████| 480/480 [00:25<00:00, 18.56it/s]\n",
      "Generating masks: 100%|██████████| 480/480 [00:25<00:00, 18.54it/s]\n",
      "Generating masks: 100%|██████████| 480/480 [00:26<00:00, 18.36it/s]\n",
      "Generating masks: 100%|██████████| 480/480 [00:26<00:00, 18.38it/s]\n",
      "Generating masks: 100%|██████████| 480/480 [00:26<00:00, 18.31it/s]\n",
      "Generating masks: 100%|██████████| 480/480 [00:26<00:00, 18.39it/s]\n",
      "Generating masks: 100%|██████████| 480/480 [00:26<00:00, 18.11it/s]\n",
      "Generating masks: 100%|██████████| 480/480 [00:25<00:00, 18.47it/s]\n",
      "Generating masks: 100%|██████████| 256/256 [00:15<00:00, 16.48it/s]\n",
      "Generating masks:   0%|          | 0/480 [00:00<?, ?it/s]"
     ]
    },
    {
     "name": "stdout",
     "output_type": "stream",
     "text": [
      "generating heatmap #5...\n"
     ]
    },
    {
     "name": "stderr",
     "output_type": "stream",
     "text": [
      "Generating masks: 100%|██████████| 480/480 [00:26<00:00, 18.29it/s]\n",
      "Generating masks: 100%|██████████| 480/480 [00:26<00:00, 18.38it/s]\n",
      "Generating masks: 100%|██████████| 480/480 [00:26<00:00, 18.40it/s]\n",
      "Generating masks: 100%|██████████| 480/480 [00:26<00:00, 18.32it/s]\n",
      "Generating masks: 100%|██████████| 480/480 [00:26<00:00, 18.32it/s]\n",
      "Generating masks: 100%|██████████| 480/480 [00:26<00:00, 18.35it/s]\n",
      "Generating masks: 100%|██████████| 480/480 [00:26<00:00, 18.13it/s]\n",
      "Generating masks: 100%|██████████| 480/480 [00:26<00:00, 18.33it/s]\n",
      "Generating masks: 100%|██████████| 256/256 [00:15<00:00, 16.15it/s]\n",
      "Generating masks:   0%|          | 0/480 [00:00<?, ?it/s]"
     ]
    },
    {
     "name": "stdout",
     "output_type": "stream",
     "text": [
      "generating heatmap #6...\n"
     ]
    },
    {
     "name": "stderr",
     "output_type": "stream",
     "text": [
      "Generating masks: 100%|██████████| 480/480 [00:26<00:00, 18.20it/s]\n",
      "Generating masks: 100%|██████████| 480/480 [00:26<00:00, 18.16it/s]\n",
      "Generating masks: 100%|██████████| 480/480 [00:26<00:00, 18.41it/s]\n",
      "Generating masks: 100%|██████████| 480/480 [00:26<00:00, 18.26it/s]\n",
      "Generating masks: 100%|██████████| 480/480 [00:26<00:00, 18.17it/s]\n",
      "Generating masks: 100%|██████████| 480/480 [00:26<00:00, 18.08it/s]\n",
      "Generating masks: 100%|██████████| 480/480 [00:26<00:00, 18.03it/s]\n",
      "Generating masks: 100%|██████████| 480/480 [00:26<00:00, 18.12it/s]\n",
      "Generating masks: 100%|██████████| 256/256 [00:15<00:00, 16.13it/s]\n",
      "Generating masks:   0%|          | 0/480 [00:00<?, ?it/s]"
     ]
    },
    {
     "name": "stdout",
     "output_type": "stream",
     "text": [
      "generating heatmap #7...\n"
     ]
    },
    {
     "name": "stderr",
     "output_type": "stream",
     "text": [
      "Generating masks: 100%|██████████| 480/480 [00:26<00:00, 18.09it/s]\n",
      "Generating masks: 100%|██████████| 480/480 [00:26<00:00, 18.12it/s]\n",
      "Generating masks: 100%|██████████| 480/480 [00:26<00:00, 18.09it/s]\n",
      "Generating masks: 100%|██████████| 480/480 [00:26<00:00, 18.10it/s]\n",
      "Generating masks: 100%|██████████| 480/480 [00:26<00:00, 18.10it/s]\n",
      "Generating masks: 100%|██████████| 480/480 [00:26<00:00, 18.16it/s]\n",
      "Generating masks: 100%|██████████| 480/480 [00:26<00:00, 18.17it/s]\n",
      "Generating masks: 100%|██████████| 480/480 [00:26<00:00, 18.28it/s]\n",
      "Generating masks: 100%|██████████| 256/256 [00:15<00:00, 16.31it/s]\n",
      "Generating masks:   0%|          | 0/480 [00:00<?, ?it/s]"
     ]
    },
    {
     "name": "stdout",
     "output_type": "stream",
     "text": [
      "generating heatmap #8...\n"
     ]
    },
    {
     "name": "stderr",
     "output_type": "stream",
     "text": [
      "Generating masks: 100%|██████████| 480/480 [00:26<00:00, 18.08it/s]\n",
      "Generating masks: 100%|██████████| 480/480 [00:26<00:00, 18.12it/s]\n",
      "Generating masks: 100%|██████████| 480/480 [00:26<00:00, 18.13it/s]\n",
      "Generating masks: 100%|██████████| 480/480 [00:26<00:00, 18.20it/s]\n",
      "Generating masks: 100%|██████████| 480/480 [00:26<00:00, 18.14it/s]\n",
      "Generating masks: 100%|██████████| 480/480 [00:26<00:00, 18.05it/s]\n",
      "Generating masks: 100%|██████████| 480/480 [00:26<00:00, 18.23it/s]\n",
      "Generating masks: 100%|██████████| 480/480 [00:26<00:00, 18.12it/s]\n",
      "Generating masks: 100%|██████████| 256/256 [00:15<00:00, 16.19it/s]\n",
      "Generating masks:   0%|          | 0/480 [00:00<?, ?it/s]"
     ]
    },
    {
     "name": "stdout",
     "output_type": "stream",
     "text": [
      "generating heatmap #9...\n"
     ]
    },
    {
     "name": "stderr",
     "output_type": "stream",
     "text": [
      "Generating masks: 100%|██████████| 480/480 [00:26<00:00, 18.37it/s]\n",
      "Generating masks: 100%|██████████| 480/480 [00:26<00:00, 18.29it/s]\n",
      "Generating masks: 100%|██████████| 480/480 [00:26<00:00, 17.98it/s]\n",
      "Generating masks: 100%|██████████| 480/480 [00:26<00:00, 18.19it/s]\n",
      "Generating masks: 100%|██████████| 480/480 [00:26<00:00, 18.25it/s]\n",
      "Generating masks: 100%|██████████| 480/480 [00:26<00:00, 18.19it/s]\n",
      "Generating masks: 100%|██████████| 480/480 [00:26<00:00, 18.11it/s]\n",
      "Generating masks: 100%|██████████| 480/480 [00:29<00:00, 16.30it/s]\n",
      "Generating masks: 100%|██████████| 256/256 [00:16<00:00, 15.88it/s]\n",
      "Generating masks:   0%|          | 0/480 [00:00<?, ?it/s]"
     ]
    },
    {
     "name": "stdout",
     "output_type": "stream",
     "text": [
      "generating heatmap #10...\n"
     ]
    },
    {
     "name": "stderr",
     "output_type": "stream",
     "text": [
      "Generating masks: 100%|██████████| 480/480 [00:26<00:00, 18.15it/s]\n",
      "Generating masks: 100%|██████████| 480/480 [00:26<00:00, 18.04it/s]\n",
      "Generating masks: 100%|██████████| 480/480 [00:26<00:00, 18.15it/s]\n",
      "Generating masks: 100%|██████████| 480/480 [00:26<00:00, 17.86it/s]\n",
      "Generating masks: 100%|██████████| 480/480 [00:26<00:00, 18.05it/s]\n",
      "Generating masks: 100%|██████████| 480/480 [00:26<00:00, 17.97it/s]\n",
      "Generating masks: 100%|██████████| 480/480 [00:26<00:00, 17.87it/s]\n",
      "Generating masks: 100%|██████████| 480/480 [00:26<00:00, 17.90it/s]\n",
      "Generating masks: 100%|██████████| 256/256 [00:16<00:00, 15.92it/s]\n",
      "Generating masks:   0%|          | 0/480 [00:00<?, ?it/s]"
     ]
    },
    {
     "name": "stdout",
     "output_type": "stream",
     "text": [
      "generating heatmap #11...\n"
     ]
    },
    {
     "name": "stderr",
     "output_type": "stream",
     "text": [
      "Generating masks: 100%|██████████| 480/480 [00:26<00:00, 17.87it/s]\n",
      "Generating masks: 100%|██████████| 480/480 [00:27<00:00, 17.61it/s]\n",
      "Generating masks: 100%|██████████| 480/480 [00:26<00:00, 18.21it/s]\n",
      "Generating masks: 100%|██████████| 480/480 [00:26<00:00, 18.02it/s]\n",
      "Generating masks: 100%|██████████| 480/480 [00:26<00:00, 17.96it/s]\n",
      "Generating masks: 100%|██████████| 480/480 [00:26<00:00, 17.85it/s]\n",
      "Generating masks: 100%|██████████| 480/480 [00:26<00:00, 17.94it/s]\n",
      "Generating masks: 100%|██████████| 480/480 [00:26<00:00, 17.97it/s]\n",
      "Generating masks: 100%|██████████| 256/256 [00:17<00:00, 15.02it/s]\n",
      "Generating masks:   0%|          | 0/480 [00:00<?, ?it/s]"
     ]
    },
    {
     "name": "stdout",
     "output_type": "stream",
     "text": [
      "generating heatmap #12...\n"
     ]
    },
    {
     "name": "stderr",
     "output_type": "stream",
     "text": [
      "Generating masks: 100%|██████████| 480/480 [00:26<00:00, 17.92it/s]\n",
      "Generating masks: 100%|██████████| 480/480 [00:26<00:00, 17.95it/s]\n",
      "Generating masks: 100%|██████████| 480/480 [00:26<00:00, 17.89it/s]\n",
      "Generating masks: 100%|██████████| 480/480 [00:26<00:00, 17.86it/s]\n",
      "Generating masks: 100%|██████████| 480/480 [00:26<00:00, 17.85it/s]\n",
      "Generating masks: 100%|██████████| 480/480 [00:28<00:00, 16.60it/s]\n",
      "Generating masks: 100%|██████████| 480/480 [00:27<00:00, 17.68it/s]\n",
      "Generating masks: 100%|██████████| 480/480 [00:26<00:00, 17.87it/s]\n",
      "Generating masks: 100%|██████████| 256/256 [00:16<00:00, 15.85it/s]\n",
      "Generating masks:   0%|          | 0/480 [00:00<?, ?it/s]"
     ]
    },
    {
     "name": "stdout",
     "output_type": "stream",
     "text": [
      "generating heatmap #13...\n"
     ]
    },
    {
     "name": "stderr",
     "output_type": "stream",
     "text": [
      "Generating masks: 100%|██████████| 480/480 [00:26<00:00, 17.88it/s]\n",
      "Generating masks: 100%|██████████| 480/480 [00:27<00:00, 17.75it/s]\n",
      "Generating masks: 100%|██████████| 480/480 [00:26<00:00, 17.96it/s]\n",
      "Generating masks: 100%|██████████| 480/480 [00:26<00:00, 17.95it/s]\n",
      "Generating masks: 100%|██████████| 480/480 [00:26<00:00, 18.21it/s]\n",
      "Generating masks: 100%|██████████| 480/480 [00:26<00:00, 18.16it/s]\n",
      "Generating masks: 100%|██████████| 480/480 [00:26<00:00, 18.07it/s]\n",
      "Generating masks: 100%|██████████| 480/480 [00:26<00:00, 18.11it/s]\n",
      "Generating masks: 100%|██████████| 256/256 [00:16<00:00, 15.70it/s]\n"
     ]
    },
    {
     "name": "stdout",
     "output_type": "stream",
     "text": [
      "generating heatmap #14...\n"
     ]
    },
    {
     "name": "stderr",
     "output_type": "stream",
     "text": [
      "Generating masks: 100%|██████████| 480/480 [00:26<00:00, 17.81it/s]\n",
      "Generating masks: 100%|██████████| 480/480 [00:26<00:00, 18.00it/s]\n",
      "Generating masks: 100%|██████████| 480/480 [00:26<00:00, 18.00it/s]\n",
      "Generating masks: 100%|██████████| 480/480 [00:26<00:00, 18.05it/s]\n",
      "Generating masks: 100%|██████████| 480/480 [00:26<00:00, 17.86it/s]\n",
      "Generating masks: 100%|██████████| 480/480 [00:26<00:00, 18.01it/s]\n",
      "Generating masks: 100%|██████████| 480/480 [00:26<00:00, 18.18it/s]\n",
      "Generating masks: 100%|██████████| 480/480 [00:26<00:00, 18.01it/s]\n",
      "Generating masks: 100%|██████████| 256/256 [00:16<00:00, 15.63it/s]\n",
      "Generating masks:   0%|          | 0/480 [00:00<?, ?it/s]"
     ]
    },
    {
     "name": "stdout",
     "output_type": "stream",
     "text": [
      "generating heatmap #15...\n"
     ]
    },
    {
     "name": "stderr",
     "output_type": "stream",
     "text": [
      "Generating masks: 100%|██████████| 480/480 [00:26<00:00, 17.90it/s]\n",
      "Generating masks: 100%|██████████| 480/480 [00:27<00:00, 17.65it/s]\n",
      "Generating masks: 100%|██████████| 480/480 [00:26<00:00, 17.85it/s]\n",
      "Generating masks: 100%|██████████| 480/480 [00:27<00:00, 17.71it/s]\n",
      "Generating masks: 100%|██████████| 480/480 [00:27<00:00, 17.77it/s]\n",
      "Generating masks: 100%|██████████| 480/480 [00:26<00:00, 17.78it/s]\n",
      "Generating masks: 100%|██████████| 480/480 [00:27<00:00, 17.77it/s]\n",
      "Generating masks: 100%|██████████| 480/480 [00:27<00:00, 17.62it/s]\n",
      "Generating masks: 100%|██████████| 256/256 [00:16<00:00, 15.46it/s]\n",
      "Generating masks:   0%|          | 0/480 [00:00<?, ?it/s]"
     ]
    },
    {
     "name": "stdout",
     "output_type": "stream",
     "text": [
      "generating heatmap #16...\n"
     ]
    },
    {
     "name": "stderr",
     "output_type": "stream",
     "text": [
      "Generating masks: 100%|██████████| 480/480 [00:27<00:00, 17.64it/s]\n",
      "Generating masks: 100%|██████████| 480/480 [00:26<00:00, 17.89it/s]\n",
      "Generating masks: 100%|██████████| 480/480 [00:26<00:00, 17.79it/s]\n",
      "Generating masks: 100%|██████████| 480/480 [00:27<00:00, 17.68it/s]\n",
      "Generating masks: 100%|██████████| 480/480 [00:27<00:00, 17.73it/s]\n",
      "Generating masks: 100%|██████████| 480/480 [00:27<00:00, 17.75it/s]\n",
      "Generating masks: 100%|██████████| 480/480 [00:26<00:00, 17.80it/s]\n",
      "Generating masks: 100%|██████████| 480/480 [00:27<00:00, 17.74it/s]\n",
      "Generating masks: 100%|██████████| 256/256 [00:16<00:00, 15.38it/s]\n",
      "Generating masks:   0%|          | 0/480 [00:00<?, ?it/s]"
     ]
    },
    {
     "name": "stdout",
     "output_type": "stream",
     "text": [
      "generating heatmap #17...\n"
     ]
    },
    {
     "name": "stderr",
     "output_type": "stream",
     "text": [
      "Generating masks: 100%|██████████| 480/480 [00:27<00:00, 17.59it/s]\n",
      "Generating masks: 100%|██████████| 480/480 [00:27<00:00, 17.68it/s]\n",
      "Generating masks: 100%|██████████| 480/480 [00:27<00:00, 17.47it/s]\n",
      "Generating masks: 100%|██████████| 480/480 [00:27<00:00, 17.71it/s]\n",
      "Generating masks: 100%|██████████| 480/480 [00:27<00:00, 17.68it/s]\n",
      "Generating masks: 100%|██████████| 480/480 [00:27<00:00, 17.66it/s]\n",
      "Generating masks: 100%|██████████| 480/480 [00:27<00:00, 17.72it/s]\n",
      "Generating masks: 100%|██████████| 480/480 [00:27<00:00, 17.62it/s]\n",
      "Generating masks: 100%|██████████| 256/256 [00:16<00:00, 15.38it/s]\n",
      "Generating masks:   0%|          | 0/480 [00:00<?, ?it/s]"
     ]
    },
    {
     "name": "stdout",
     "output_type": "stream",
     "text": [
      "generating heatmap #18...\n"
     ]
    },
    {
     "name": "stderr",
     "output_type": "stream",
     "text": [
      "Generating masks: 100%|██████████| 480/480 [00:27<00:00, 17.71it/s]\n",
      "Generating masks: 100%|██████████| 480/480 [00:27<00:00, 17.59it/s]\n",
      "Generating masks: 100%|██████████| 480/480 [00:27<00:00, 17.71it/s]\n",
      "Generating masks: 100%|██████████| 480/480 [00:27<00:00, 17.62it/s]\n",
      "Generating masks: 100%|██████████| 480/480 [00:27<00:00, 17.31it/s]\n",
      "Generating masks: 100%|██████████| 480/480 [00:27<00:00, 17.47it/s]\n",
      "Generating masks: 100%|██████████| 480/480 [00:27<00:00, 17.44it/s]\n",
      "Generating masks: 100%|██████████| 480/480 [00:27<00:00, 17.57it/s]\n",
      "Generating masks: 100%|██████████| 256/256 [00:16<00:00, 15.13it/s]\n",
      "Generating masks:   0%|          | 0/480 [00:00<?, ?it/s]"
     ]
    },
    {
     "name": "stdout",
     "output_type": "stream",
     "text": [
      "generating heatmap #19...\n"
     ]
    },
    {
     "name": "stderr",
     "output_type": "stream",
     "text": [
      "Generating masks: 100%|██████████| 480/480 [00:27<00:00, 17.55it/s]\n",
      "Generating masks: 100%|██████████| 480/480 [00:27<00:00, 17.48it/s]\n",
      "Generating masks: 100%|██████████| 480/480 [00:27<00:00, 17.46it/s]\n",
      "Generating masks: 100%|██████████| 480/480 [00:27<00:00, 17.53it/s]\n",
      "Generating masks: 100%|██████████| 480/480 [00:27<00:00, 17.42it/s]\n",
      "Generating masks: 100%|██████████| 480/480 [00:27<00:00, 17.30it/s]\n",
      "Generating masks: 100%|██████████| 480/480 [00:27<00:00, 17.41it/s]\n",
      "Generating masks: 100%|██████████| 480/480 [00:27<00:00, 17.42it/s]\n",
      "Generating masks: 100%|██████████| 256/256 [00:16<00:00, 15.09it/s]\n",
      "Generating masks:   0%|          | 0/480 [00:00<?, ?it/s]"
     ]
    },
    {
     "name": "stdout",
     "output_type": "stream",
     "text": [
      "generating heatmap #20...\n"
     ]
    },
    {
     "name": "stderr",
     "output_type": "stream",
     "text": [
      "Generating masks: 100%|██████████| 480/480 [00:27<00:00, 17.50it/s]\n",
      "Generating masks: 100%|██████████| 480/480 [00:27<00:00, 17.61it/s]\n",
      "Generating masks: 100%|██████████| 480/480 [00:27<00:00, 17.32it/s]\n",
      "Generating masks: 100%|██████████| 480/480 [00:27<00:00, 17.61it/s]\n",
      "Generating masks: 100%|██████████| 480/480 [00:27<00:00, 17.21it/s]\n",
      "Generating masks: 100%|██████████| 480/480 [00:27<00:00, 17.35it/s]\n",
      "Generating masks: 100%|██████████| 480/480 [00:27<00:00, 17.31it/s]\n",
      "Generating masks: 100%|██████████| 480/480 [00:27<00:00, 17.36it/s]\n",
      "Generating masks: 100%|██████████| 256/256 [00:16<00:00, 15.15it/s]\n",
      "Generating masks:   0%|          | 0/480 [00:00<?, ?it/s]"
     ]
    },
    {
     "name": "stdout",
     "output_type": "stream",
     "text": [
      "generating heatmap #21...\n"
     ]
    },
    {
     "name": "stderr",
     "output_type": "stream",
     "text": [
      "Generating masks: 100%|██████████| 480/480 [00:27<00:00, 17.31it/s]\n",
      "Generating masks: 100%|██████████| 480/480 [00:27<00:00, 17.45it/s]\n",
      "Generating masks: 100%|██████████| 480/480 [00:29<00:00, 16.53it/s]\n",
      "Generating masks: 100%|██████████| 480/480 [00:28<00:00, 16.91it/s]\n",
      "Generating masks: 100%|██████████| 480/480 [00:27<00:00, 17.48it/s]\n",
      "Generating masks: 100%|██████████| 480/480 [00:27<00:00, 17.37it/s]\n",
      "Generating masks: 100%|██████████| 480/480 [00:28<00:00, 17.08it/s]\n",
      "Generating masks: 100%|██████████| 480/480 [00:28<00:00, 16.60it/s]\n",
      "Generating masks: 100%|██████████| 256/256 [00:17<00:00, 15.05it/s]\n",
      "Generating masks:   0%|          | 0/480 [00:00<?, ?it/s]"
     ]
    },
    {
     "name": "stdout",
     "output_type": "stream",
     "text": [
      "generating heatmap #22...\n"
     ]
    },
    {
     "name": "stderr",
     "output_type": "stream",
     "text": [
      "Generating masks: 100%|██████████| 480/480 [00:27<00:00, 17.31it/s]\n",
      "Generating masks: 100%|██████████| 480/480 [00:27<00:00, 17.36it/s]\n",
      "Generating masks: 100%|██████████| 480/480 [00:27<00:00, 17.30it/s]\n",
      "Generating masks: 100%|██████████| 480/480 [00:27<00:00, 17.25it/s]\n",
      "Generating masks: 100%|██████████| 480/480 [00:27<00:00, 17.55it/s]\n",
      "Generating masks: 100%|██████████| 480/480 [00:27<00:00, 17.25it/s]\n",
      "Generating masks: 100%|██████████| 480/480 [00:27<00:00, 17.17it/s]\n",
      "Generating masks: 100%|██████████| 480/480 [00:27<00:00, 17.31it/s]\n",
      "Generating masks: 100%|██████████| 256/256 [00:17<00:00, 14.78it/s]\n",
      "Generating masks:   0%|          | 0/480 [00:00<?, ?it/s]"
     ]
    },
    {
     "name": "stdout",
     "output_type": "stream",
     "text": [
      "generating heatmap #23...\n"
     ]
    },
    {
     "name": "stderr",
     "output_type": "stream",
     "text": [
      "Generating masks: 100%|██████████| 480/480 [00:27<00:00, 17.15it/s]\n",
      "Generating masks: 100%|██████████| 480/480 [00:28<00:00, 16.96it/s]\n",
      "Generating masks: 100%|██████████| 480/480 [00:27<00:00, 17.17it/s]\n",
      "Generating masks: 100%|██████████| 480/480 [00:27<00:00, 17.40it/s]\n",
      "Generating masks: 100%|██████████| 480/480 [00:27<00:00, 17.23it/s]\n",
      "Generating masks: 100%|██████████| 480/480 [00:27<00:00, 17.17it/s]\n",
      "Generating masks: 100%|██████████| 480/480 [00:27<00:00, 17.23it/s]\n",
      "Generating masks: 100%|██████████| 480/480 [00:27<00:00, 17.26it/s]\n",
      "Generating masks: 100%|██████████| 256/256 [00:17<00:00, 14.56it/s]\n",
      "Generating masks:   0%|          | 0/480 [00:00<?, ?it/s]"
     ]
    },
    {
     "name": "stdout",
     "output_type": "stream",
     "text": [
      "generating heatmap #24...\n"
     ]
    },
    {
     "name": "stderr",
     "output_type": "stream",
     "text": [
      "Generating masks: 100%|██████████| 480/480 [00:28<00:00, 17.00it/s]\n",
      "Generating masks: 100%|██████████| 480/480 [00:28<00:00, 17.01it/s]\n",
      "Generating masks: 100%|██████████| 480/480 [00:28<00:00, 16.97it/s]\n",
      "Generating masks: 100%|██████████| 480/480 [00:27<00:00, 17.17it/s]\n",
      "Generating masks: 100%|██████████| 480/480 [00:27<00:00, 17.16it/s]\n",
      "Generating masks: 100%|██████████| 480/480 [00:28<00:00, 16.71it/s]\n",
      "Generating masks: 100%|██████████| 480/480 [00:28<00:00, 16.68it/s]\n",
      "Generating masks: 100%|██████████| 480/480 [00:28<00:00, 16.94it/s]\n",
      "Generating masks: 100%|██████████| 256/256 [00:17<00:00, 14.66it/s]\n",
      "Generating masks:   0%|          | 0/480 [00:00<?, ?it/s]"
     ]
    },
    {
     "name": "stdout",
     "output_type": "stream",
     "text": [
      "generating heatmap #25...\n"
     ]
    },
    {
     "name": "stderr",
     "output_type": "stream",
     "text": [
      "Generating masks: 100%|██████████| 480/480 [00:27<00:00, 17.18it/s]\n",
      "Generating masks: 100%|██████████| 480/480 [00:28<00:00, 17.01it/s]\n",
      "Generating masks: 100%|██████████| 480/480 [00:28<00:00, 16.92it/s]\n",
      "Generating masks: 100%|██████████| 480/480 [00:27<00:00, 17.17it/s]\n",
      "Generating masks: 100%|██████████| 480/480 [00:28<00:00, 17.04it/s]\n",
      "Generating masks: 100%|██████████| 480/480 [00:27<00:00, 17.16it/s]\n",
      "Generating masks: 100%|██████████| 480/480 [00:28<00:00, 17.07it/s]\n",
      "Generating masks: 100%|██████████| 480/480 [00:27<00:00, 17.15it/s]\n",
      "Generating masks: 100%|██████████| 256/256 [00:17<00:00, 14.65it/s]\n"
     ]
    },
    {
     "name": "stdout",
     "output_type": "stream",
     "text": [
      "generating heatmap #26...\n"
     ]
    },
    {
     "name": "stderr",
     "output_type": "stream",
     "text": [
      "Generating masks: 100%|██████████| 480/480 [00:28<00:00, 17.09it/s]\n",
      "Generating masks: 100%|██████████| 480/480 [00:28<00:00, 17.00it/s]\n",
      "Generating masks: 100%|██████████| 480/480 [00:28<00:00, 16.94it/s]\n",
      "Generating masks: 100%|██████████| 480/480 [00:28<00:00, 17.08it/s]\n",
      "Generating masks: 100%|██████████| 480/480 [00:28<00:00, 17.12it/s]\n",
      "Generating masks: 100%|██████████| 480/480 [00:28<00:00, 17.02it/s]\n",
      "Generating masks: 100%|██████████| 480/480 [00:30<00:00, 15.51it/s]\n",
      "Generating masks: 100%|██████████| 480/480 [00:28<00:00, 16.97it/s]\n",
      "Generating masks: 100%|██████████| 256/256 [00:17<00:00, 14.46it/s]\n",
      "Generating masks:   0%|          | 0/480 [00:00<?, ?it/s]"
     ]
    },
    {
     "name": "stdout",
     "output_type": "stream",
     "text": [
      "generating heatmap #27...\n"
     ]
    },
    {
     "name": "stderr",
     "output_type": "stream",
     "text": [
      "Generating masks: 100%|██████████| 480/480 [00:28<00:00, 17.03it/s]\n",
      "Generating masks: 100%|██████████| 480/480 [00:28<00:00, 17.11it/s]\n",
      "Generating masks: 100%|██████████| 480/480 [00:28<00:00, 16.98it/s]\n",
      "Generating masks: 100%|██████████| 480/480 [00:28<00:00, 16.98it/s]\n",
      "Generating masks: 100%|██████████| 480/480 [00:28<00:00, 16.92it/s]\n",
      "Generating masks: 100%|██████████| 480/480 [00:28<00:00, 16.98it/s]\n",
      "Generating masks: 100%|██████████| 480/480 [00:28<00:00, 17.11it/s]\n",
      "Generating masks: 100%|██████████| 480/480 [00:27<00:00, 17.18it/s]\n",
      "Generating masks: 100%|██████████| 256/256 [00:17<00:00, 14.71it/s]\n",
      "Generating masks:   0%|          | 0/480 [00:00<?, ?it/s]"
     ]
    },
    {
     "name": "stdout",
     "output_type": "stream",
     "text": [
      "generating heatmap #28...\n"
     ]
    },
    {
     "name": "stderr",
     "output_type": "stream",
     "text": [
      "Generating masks: 100%|██████████| 480/480 [00:28<00:00, 17.06it/s]\n",
      "Generating masks: 100%|██████████| 480/480 [00:27<00:00, 17.38it/s]\n",
      "Generating masks: 100%|██████████| 480/480 [00:28<00:00, 17.13it/s]\n",
      "Generating masks: 100%|██████████| 480/480 [00:27<00:00, 17.22it/s]\n",
      "Generating masks: 100%|██████████| 480/480 [00:28<00:00, 17.11it/s]\n",
      "Generating masks: 100%|██████████| 480/480 [00:28<00:00, 17.06it/s]\n",
      "Generating masks: 100%|██████████| 480/480 [00:28<00:00, 17.01it/s]\n",
      "Generating masks: 100%|██████████| 480/480 [00:27<00:00, 17.37it/s]\n",
      "Generating masks: 100%|██████████| 256/256 [00:17<00:00, 14.81it/s]\n",
      "Generating masks:   0%|          | 0/480 [00:00<?, ?it/s]"
     ]
    },
    {
     "name": "stdout",
     "output_type": "stream",
     "text": [
      "generating heatmap #29...\n"
     ]
    },
    {
     "name": "stderr",
     "output_type": "stream",
     "text": [
      "Generating masks: 100%|██████████| 480/480 [00:27<00:00, 17.19it/s]\n",
      "Generating masks: 100%|██████████| 480/480 [00:28<00:00, 17.13it/s]\n",
      "Generating masks: 100%|██████████| 480/480 [00:27<00:00, 17.16it/s]\n",
      "Generating masks: 100%|██████████| 480/480 [00:28<00:00, 16.98it/s]\n",
      "Generating masks: 100%|██████████| 480/480 [00:28<00:00, 17.11it/s]\n",
      "Generating masks: 100%|██████████| 480/480 [00:28<00:00, 17.09it/s]\n",
      "Generating masks: 100%|██████████| 480/480 [00:28<00:00, 17.12it/s]\n",
      "Generating masks: 100%|██████████| 480/480 [00:28<00:00, 17.13it/s]\n",
      "Generating masks: 100%|██████████| 256/256 [00:17<00:00, 14.45it/s]\n",
      "Generating masks:   0%|          | 0/480 [00:00<?, ?it/s]"
     ]
    },
    {
     "name": "stdout",
     "output_type": "stream",
     "text": [
      "generating heatmap #30...\n"
     ]
    },
    {
     "name": "stderr",
     "output_type": "stream",
     "text": [
      "Generating masks: 100%|██████████| 480/480 [00:28<00:00, 17.06it/s]\n",
      "Generating masks: 100%|██████████| 480/480 [00:28<00:00, 17.05it/s]\n",
      "Generating masks: 100%|██████████| 480/480 [00:27<00:00, 17.21it/s]\n",
      "Generating masks: 100%|██████████| 480/480 [00:28<00:00, 17.08it/s]\n",
      "Generating masks: 100%|██████████| 480/480 [00:28<00:00, 17.01it/s]\n",
      "Generating masks: 100%|██████████| 480/480 [00:27<00:00, 17.15it/s]\n",
      "Generating masks: 100%|██████████| 480/480 [00:28<00:00, 17.11it/s]\n",
      "Generating masks: 100%|██████████| 480/480 [00:28<00:00, 16.94it/s]\n",
      "Generating masks: 100%|██████████| 256/256 [00:17<00:00, 14.78it/s]\n",
      "Generating masks:   0%|          | 0/480 [00:00<?, ?it/s]"
     ]
    },
    {
     "name": "stdout",
     "output_type": "stream",
     "text": [
      "generating heatmap #31...\n"
     ]
    },
    {
     "name": "stderr",
     "output_type": "stream",
     "text": [
      "Generating masks: 100%|██████████| 480/480 [00:27<00:00, 17.25it/s]\n",
      "Generating masks: 100%|██████████| 480/480 [00:27<00:00, 17.20it/s]\n",
      "Generating masks: 100%|██████████| 480/480 [00:28<00:00, 16.70it/s]\n",
      "Generating masks: 100%|██████████| 480/480 [00:28<00:00, 16.81it/s]\n",
      "Generating masks: 100%|██████████| 480/480 [00:28<00:00, 16.93it/s]\n",
      "Generating masks: 100%|██████████| 480/480 [00:27<00:00, 17.17it/s]\n",
      "Generating masks: 100%|██████████| 480/480 [00:28<00:00, 17.06it/s]\n",
      "Generating masks: 100%|██████████| 480/480 [00:28<00:00, 17.03it/s]\n",
      "Generating masks: 100%|██████████| 256/256 [00:17<00:00, 14.51it/s]\n",
      "Generating masks:   0%|          | 0/480 [00:00<?, ?it/s]"
     ]
    },
    {
     "name": "stdout",
     "output_type": "stream",
     "text": [
      "generating heatmap #32...\n"
     ]
    },
    {
     "name": "stderr",
     "output_type": "stream",
     "text": [
      "Generating masks: 100%|██████████| 480/480 [00:28<00:00, 16.99it/s]\n",
      "Generating masks: 100%|██████████| 480/480 [00:27<00:00, 17.30it/s]\n",
      "Generating masks: 100%|██████████| 480/480 [00:28<00:00, 17.11it/s]\n",
      "Generating masks: 100%|██████████| 480/480 [00:31<00:00, 15.06it/s]\n",
      "Generating masks: 100%|██████████| 480/480 [00:27<00:00, 17.14it/s]\n",
      "Generating masks: 100%|██████████| 480/480 [00:28<00:00, 16.95it/s]\n",
      "Generating masks: 100%|██████████| 480/480 [00:28<00:00, 17.12it/s]\n",
      "Generating masks: 100%|██████████| 480/480 [00:28<00:00, 17.03it/s]\n",
      "Generating masks: 100%|██████████| 256/256 [00:17<00:00, 14.67it/s]\n",
      "Generating masks:   0%|          | 0/480 [00:00<?, ?it/s]"
     ]
    },
    {
     "name": "stdout",
     "output_type": "stream",
     "text": [
      "generating heatmap #33...\n"
     ]
    },
    {
     "name": "stderr",
     "output_type": "stream",
     "text": [
      "Generating masks: 100%|██████████| 480/480 [00:28<00:00, 17.11it/s]\n",
      "Generating masks: 100%|██████████| 480/480 [00:28<00:00, 16.95it/s]\n",
      "Generating masks: 100%|██████████| 480/480 [00:28<00:00, 17.01it/s]\n",
      "Generating masks: 100%|██████████| 480/480 [00:27<00:00, 17.24it/s]\n",
      "Generating masks: 100%|██████████| 480/480 [00:27<00:00, 17.19it/s]\n",
      "Generating masks: 100%|██████████| 480/480 [00:28<00:00, 17.09it/s]\n",
      "Generating masks: 100%|██████████| 480/480 [00:28<00:00, 17.13it/s]\n",
      "Generating masks: 100%|██████████| 480/480 [00:28<00:00, 17.13it/s]\n",
      "Generating masks: 100%|██████████| 256/256 [00:17<00:00, 14.53it/s]\n",
      "Generating masks:   0%|          | 0/480 [00:00<?, ?it/s]"
     ]
    },
    {
     "name": "stdout",
     "output_type": "stream",
     "text": [
      "generating heatmap #34...\n"
     ]
    },
    {
     "name": "stderr",
     "output_type": "stream",
     "text": [
      "Generating masks: 100%|██████████| 480/480 [00:27<00:00, 17.25it/s]\n",
      "Generating masks: 100%|██████████| 480/480 [00:27<00:00, 17.17it/s]\n",
      "Generating masks: 100%|██████████| 480/480 [00:28<00:00, 17.08it/s]\n",
      "Generating masks: 100%|██████████| 480/480 [00:28<00:00, 16.99it/s]\n",
      "Generating masks: 100%|██████████| 480/480 [00:28<00:00, 16.82it/s]\n",
      "Generating masks: 100%|██████████| 480/480 [00:28<00:00, 17.07it/s]\n",
      "Generating masks: 100%|██████████| 480/480 [00:28<00:00, 17.04it/s]\n",
      "Generating masks: 100%|██████████| 480/480 [00:28<00:00, 16.67it/s]\n",
      "Generating masks: 100%|██████████| 256/256 [00:17<00:00, 14.66it/s]\n",
      "Generating masks:   0%|          | 0/480 [00:00<?, ?it/s]"
     ]
    },
    {
     "name": "stdout",
     "output_type": "stream",
     "text": [
      "generating heatmap #35...\n"
     ]
    },
    {
     "name": "stderr",
     "output_type": "stream",
     "text": [
      "Generating masks: 100%|██████████| 480/480 [00:27<00:00, 17.20it/s]\n",
      "Generating masks: 100%|██████████| 480/480 [00:28<00:00, 16.81it/s]\n",
      "Generating masks: 100%|██████████| 480/480 [00:27<00:00, 17.26it/s]\n",
      "Generating masks: 100%|██████████| 480/480 [00:27<00:00, 17.24it/s]\n",
      "Generating masks: 100%|██████████| 480/480 [00:27<00:00, 17.25it/s]\n",
      "Generating masks: 100%|██████████| 480/480 [00:27<00:00, 17.27it/s]\n",
      "Generating masks: 100%|██████████| 480/480 [00:39<00:00, 12.09it/s]\n",
      "Generating masks: 100%|██████████| 480/480 [00:27<00:00, 17.17it/s]\n",
      "Generating masks: 100%|██████████| 256/256 [00:18<00:00, 13.98it/s]\n",
      "Generating masks:   0%|          | 0/480 [00:00<?, ?it/s]"
     ]
    },
    {
     "name": "stdout",
     "output_type": "stream",
     "text": [
      "generating heatmap #36...\n"
     ]
    },
    {
     "name": "stderr",
     "output_type": "stream",
     "text": [
      "Generating masks: 100%|██████████| 480/480 [00:27<00:00, 17.30it/s]\n",
      "Generating masks: 100%|██████████| 480/480 [00:28<00:00, 16.89it/s]\n",
      "Generating masks: 100%|██████████| 480/480 [00:28<00:00, 17.04it/s]\n",
      "Generating masks: 100%|██████████| 480/480 [00:27<00:00, 17.15it/s]\n",
      "Generating masks: 100%|██████████| 480/480 [00:28<00:00, 16.93it/s]\n",
      "Generating masks: 100%|██████████| 480/480 [00:31<00:00, 15.07it/s]\n",
      "Generating masks: 100%|██████████| 480/480 [00:28<00:00, 16.73it/s]\n",
      "Generating masks: 100%|██████████| 480/480 [00:28<00:00, 17.00it/s]\n",
      "Generating masks: 100%|██████████| 256/256 [00:17<00:00, 14.52it/s]\n",
      "Generating masks:   0%|          | 0/480 [00:00<?, ?it/s]"
     ]
    },
    {
     "name": "stdout",
     "output_type": "stream",
     "text": [
      "generating heatmap #37...\n"
     ]
    },
    {
     "name": "stderr",
     "output_type": "stream",
     "text": [
      "Generating masks: 100%|██████████| 480/480 [00:27<00:00, 17.22it/s]\n",
      "Generating masks: 100%|██████████| 480/480 [00:28<00:00, 16.93it/s]\n",
      "Generating masks: 100%|██████████| 480/480 [00:28<00:00, 17.05it/s]\n",
      "Generating masks: 100%|██████████| 480/480 [00:38<00:00, 12.42it/s]\n",
      "Generating masks: 100%|██████████| 480/480 [00:28<00:00, 16.96it/s]\n",
      "Generating masks: 100%|██████████| 480/480 [00:28<00:00, 17.14it/s]\n",
      "Generating masks: 100%|██████████| 480/480 [00:27<00:00, 17.26it/s]\n",
      "Generating masks: 100%|██████████| 480/480 [00:27<00:00, 17.21it/s]\n",
      "Generating masks: 100%|██████████| 256/256 [00:17<00:00, 14.67it/s]\n"
     ]
    },
    {
     "name": "stdout",
     "output_type": "stream",
     "text": [
      "generating heatmap #38...\n"
     ]
    },
    {
     "name": "stderr",
     "output_type": "stream",
     "text": [
      "Generating masks: 100%|██████████| 480/480 [00:27<00:00, 17.31it/s]\n",
      "Generating masks: 100%|██████████| 480/480 [00:28<00:00, 17.09it/s]\n",
      "Generating masks: 100%|██████████| 480/480 [00:27<00:00, 17.30it/s]\n",
      "Generating masks: 100%|██████████| 480/480 [00:27<00:00, 17.33it/s]\n",
      "Generating masks: 100%|██████████| 480/480 [00:27<00:00, 17.27it/s]\n",
      "Generating masks:   0%|          | 0/480 [00:05<?, ?it/s]\n"
     ]
    },
    {
     "name": "stdout",
     "output_type": "stream",
     "text": [
      "there was an error, we will try to generate this heatmap again...\n",
      "Unable to allocate 47.5 MiB for an array with shape (3, 120, 144, 120) and data type float64\n",
      "generating heatmap #38...\n"
     ]
    },
    {
     "name": "stderr",
     "output_type": "stream",
     "text": [
      "Generating masks: 100%|██████████| 480/480 [00:27<00:00, 17.30it/s]\n",
      "Generating masks: 100%|██████████| 480/480 [00:42<00:00, 11.36it/s]\n",
      "Generating masks: 100%|██████████| 480/480 [00:28<00:00, 17.13it/s]\n",
      "Generating masks: 100%|██████████| 480/480 [00:27<00:00, 17.32it/s]\n",
      "Generating masks: 100%|██████████| 480/480 [00:27<00:00, 17.15it/s]\n",
      "Generating masks: 100%|██████████| 480/480 [00:27<00:00, 17.20it/s]\n",
      "Generating masks: 100%|██████████| 480/480 [00:27<00:00, 17.18it/s]\n",
      "Generating masks: 100%|██████████| 480/480 [00:28<00:00, 17.10it/s]\n",
      "Generating masks: 100%|██████████| 256/256 [00:17<00:00, 14.27it/s]\n",
      "Generating masks:   0%|          | 0/480 [00:00<?, ?it/s]"
     ]
    },
    {
     "name": "stdout",
     "output_type": "stream",
     "text": [
      "generating heatmap #39...\n"
     ]
    },
    {
     "name": "stderr",
     "output_type": "stream",
     "text": [
      "Generating masks: 100%|██████████| 480/480 [00:28<00:00, 17.03it/s]\n",
      "Generating masks: 100%|██████████| 480/480 [00:28<00:00, 16.89it/s]\n",
      "Generating masks: 100%|██████████| 480/480 [00:28<00:00, 17.05it/s]\n",
      "Generating masks: 100%|██████████| 480/480 [00:28<00:00, 17.04it/s]\n",
      "Generating masks: 100%|██████████| 480/480 [00:28<00:00, 17.08it/s]\n",
      "Generating masks: 100%|██████████| 480/480 [00:28<00:00, 16.96it/s]\n",
      "Generating masks: 100%|██████████| 480/480 [00:27<00:00, 17.23it/s]\n",
      "Generating masks: 100%|██████████| 480/480 [00:27<00:00, 17.16it/s]\n",
      "Generating masks: 100%|██████████| 256/256 [00:17<00:00, 14.88it/s]\n",
      "Generating masks:   0%|          | 0/480 [00:00<?, ?it/s]"
     ]
    },
    {
     "name": "stdout",
     "output_type": "stream",
     "text": [
      "generating heatmap #40...\n"
     ]
    },
    {
     "name": "stderr",
     "output_type": "stream",
     "text": [
      "Generating masks: 100%|██████████| 480/480 [00:27<00:00, 17.26it/s]\n",
      "Generating masks: 100%|██████████| 480/480 [00:28<00:00, 17.02it/s]\n",
      "Generating masks: 100%|██████████| 480/480 [00:28<00:00, 17.14it/s]\n",
      "Generating masks: 100%|██████████| 480/480 [00:28<00:00, 17.09it/s]\n",
      "Generating masks: 100%|██████████| 480/480 [00:28<00:00, 16.61it/s]\n",
      "Generating masks: 100%|██████████| 480/480 [00:28<00:00, 17.12it/s]\n",
      "Generating masks: 100%|██████████| 480/480 [00:28<00:00, 16.85it/s]\n",
      "Generating masks: 100%|██████████| 480/480 [00:27<00:00, 17.15it/s]\n",
      "Generating masks: 100%|██████████| 256/256 [00:17<00:00, 14.50it/s]\n",
      "Generating masks:   0%|          | 0/480 [00:00<?, ?it/s]"
     ]
    },
    {
     "name": "stdout",
     "output_type": "stream",
     "text": [
      "generating heatmap #41...\n"
     ]
    },
    {
     "name": "stderr",
     "output_type": "stream",
     "text": [
      "Generating masks: 100%|██████████| 480/480 [00:27<00:00, 17.20it/s]\n",
      "Generating masks: 100%|██████████| 480/480 [00:27<00:00, 17.24it/s]\n",
      "Generating masks: 100%|██████████| 480/480 [00:28<00:00, 17.08it/s]\n",
      "Generating masks: 100%|██████████| 480/480 [00:28<00:00, 17.10it/s]\n",
      "Generating masks: 100%|██████████| 480/480 [00:28<00:00, 17.06it/s]\n",
      "Generating masks: 100%|██████████| 480/480 [00:28<00:00, 17.06it/s]\n",
      "Generating masks: 100%|██████████| 480/480 [00:27<00:00, 17.33it/s]\n",
      "Generating masks: 100%|██████████| 480/480 [00:28<00:00, 17.04it/s]\n",
      "Generating masks: 100%|██████████| 256/256 [00:17<00:00, 14.76it/s]\n",
      "Generating masks:   0%|          | 0/480 [00:00<?, ?it/s]"
     ]
    },
    {
     "name": "stdout",
     "output_type": "stream",
     "text": [
      "generating heatmap #42...\n"
     ]
    },
    {
     "name": "stderr",
     "output_type": "stream",
     "text": [
      "Generating masks: 100%|██████████| 480/480 [00:28<00:00, 17.10it/s]\n",
      "Generating masks: 100%|██████████| 480/480 [00:27<00:00, 17.25it/s]\n",
      "Generating masks: 100%|██████████| 480/480 [00:27<00:00, 17.39it/s]\n",
      "Generating masks: 100%|██████████| 480/480 [00:27<00:00, 17.32it/s]\n",
      "Generating masks: 100%|██████████| 480/480 [00:27<00:00, 17.34it/s]\n",
      "Generating masks: 100%|██████████| 480/480 [00:27<00:00, 17.23it/s]\n",
      "Generating masks: 100%|██████████| 480/480 [00:27<00:00, 17.23it/s]\n",
      "Generating masks: 100%|██████████| 480/480 [00:27<00:00, 17.18it/s]\n",
      "Generating masks: 100%|██████████| 256/256 [00:17<00:00, 14.90it/s]\n",
      "Generating masks:   0%|          | 0/480 [00:00<?, ?it/s]"
     ]
    },
    {
     "name": "stdout",
     "output_type": "stream",
     "text": [
      "generating heatmap #43...\n"
     ]
    },
    {
     "name": "stderr",
     "output_type": "stream",
     "text": [
      "Generating masks: 100%|██████████| 480/480 [00:27<00:00, 17.27it/s]\n",
      "Generating masks: 100%|██████████| 480/480 [00:27<00:00, 17.36it/s]\n",
      "Generating masks: 100%|██████████| 480/480 [00:28<00:00, 17.11it/s]\n",
      "Generating masks: 100%|██████████| 480/480 [00:27<00:00, 17.14it/s]\n",
      "Generating masks: 100%|██████████| 480/480 [00:27<00:00, 17.28it/s]\n",
      "Generating masks: 100%|██████████| 480/480 [00:28<00:00, 17.10it/s]\n",
      "Generating masks: 100%|██████████| 480/480 [00:27<00:00, 17.26it/s]\n",
      "Generating masks: 100%|██████████| 480/480 [00:27<00:00, 17.33it/s]\n",
      "Generating masks: 100%|██████████| 256/256 [00:17<00:00, 14.59it/s]\n",
      "Generating masks:   0%|          | 0/480 [00:00<?, ?it/s]"
     ]
    },
    {
     "name": "stdout",
     "output_type": "stream",
     "text": [
      "generating heatmap #44...\n"
     ]
    },
    {
     "name": "stderr",
     "output_type": "stream",
     "text": [
      "Generating masks: 100%|██████████| 480/480 [00:27<00:00, 17.20it/s]\n",
      "Generating masks: 100%|██████████| 480/480 [00:28<00:00, 17.10it/s]\n",
      "Generating masks: 100%|██████████| 480/480 [00:27<00:00, 17.35it/s]\n",
      "Generating masks: 100%|██████████| 480/480 [00:27<00:00, 17.51it/s]\n",
      "Generating masks: 100%|██████████| 480/480 [00:27<00:00, 17.31it/s]\n",
      "Generating masks: 100%|██████████| 480/480 [00:27<00:00, 17.18it/s]\n",
      "Generating masks: 100%|██████████| 480/480 [00:27<00:00, 17.20it/s]\n",
      "Generating masks: 100%|██████████| 480/480 [00:27<00:00, 17.19it/s]\n",
      "Generating masks: 100%|██████████| 256/256 [00:17<00:00, 14.58it/s]\n",
      "Generating masks:   0%|          | 0/480 [00:00<?, ?it/s]"
     ]
    },
    {
     "name": "stdout",
     "output_type": "stream",
     "text": [
      "generating heatmap #45...\n"
     ]
    },
    {
     "name": "stderr",
     "output_type": "stream",
     "text": [
      "Generating masks: 100%|██████████| 480/480 [00:27<00:00, 17.24it/s]\n",
      "Generating masks: 100%|██████████| 480/480 [00:27<00:00, 17.33it/s]\n",
      "Generating masks: 100%|██████████| 480/480 [00:28<00:00, 17.13it/s]\n",
      "Generating masks: 100%|██████████| 480/480 [00:27<00:00, 17.32it/s]\n",
      "Generating masks: 100%|██████████| 480/480 [00:28<00:00, 17.12it/s]\n",
      "Generating masks: 100%|██████████| 480/480 [00:27<00:00, 17.21it/s]\n",
      "Generating masks: 100%|██████████| 480/480 [00:27<00:00, 17.24it/s]\n",
      "Generating masks: 100%|██████████| 480/480 [00:27<00:00, 17.29it/s]\n",
      "Generating masks: 100%|██████████| 256/256 [00:17<00:00, 14.81it/s]\n",
      "Generating masks:   0%|          | 0/480 [00:00<?, ?it/s]"
     ]
    },
    {
     "name": "stdout",
     "output_type": "stream",
     "text": [
      "generating heatmap #46...\n"
     ]
    },
    {
     "name": "stderr",
     "output_type": "stream",
     "text": [
      "Generating masks: 100%|██████████| 480/480 [00:27<00:00, 17.22it/s]\n",
      "Generating masks: 100%|██████████| 480/480 [00:27<00:00, 17.25it/s]\n",
      "Generating masks: 100%|██████████| 480/480 [00:27<00:00, 17.20it/s]\n",
      "Generating masks: 100%|██████████| 480/480 [00:27<00:00, 17.32it/s]\n",
      "Generating masks: 100%|██████████| 480/480 [00:27<00:00, 17.47it/s]\n",
      "Generating masks: 100%|██████████| 480/480 [00:27<00:00, 17.20it/s]\n",
      "Generating masks: 100%|██████████| 480/480 [00:27<00:00, 17.27it/s]\n",
      "Generating masks: 100%|██████████| 480/480 [00:28<00:00, 17.08it/s]\n",
      "Generating masks: 100%|██████████| 256/256 [00:17<00:00, 14.78it/s]\n",
      "Generating masks:   0%|          | 0/480 [00:00<?, ?it/s]"
     ]
    },
    {
     "name": "stdout",
     "output_type": "stream",
     "text": [
      "generating heatmap #47...\n"
     ]
    },
    {
     "name": "stderr",
     "output_type": "stream",
     "text": [
      "Generating masks: 100%|██████████| 480/480 [00:27<00:00, 17.18it/s]\n",
      "Generating masks: 100%|██████████| 480/480 [00:27<00:00, 17.18it/s]\n",
      "Generating masks: 100%|██████████| 480/480 [00:28<00:00, 17.14it/s]\n",
      "Generating masks: 100%|██████████| 480/480 [00:27<00:00, 17.19it/s]\n",
      "Generating masks: 100%|██████████| 480/480 [00:27<00:00, 17.24it/s]\n",
      "Generating masks: 100%|██████████| 480/480 [00:28<00:00, 17.04it/s]\n",
      "Generating masks: 100%|██████████| 480/480 [00:27<00:00, 17.24it/s]\n",
      "Generating masks: 100%|██████████| 480/480 [00:27<00:00, 17.33it/s]\n",
      "Generating masks: 100%|██████████| 256/256 [00:17<00:00, 14.71it/s]\n",
      "Generating masks:   0%|          | 0/480 [00:00<?, ?it/s]"
     ]
    },
    {
     "name": "stdout",
     "output_type": "stream",
     "text": [
      "generating heatmap #48...\n"
     ]
    },
    {
     "name": "stderr",
     "output_type": "stream",
     "text": [
      "Generating masks: 100%|██████████| 480/480 [00:27<00:00, 17.15it/s]\n",
      "Generating masks: 100%|██████████| 480/480 [00:28<00:00, 17.13it/s]\n",
      "Generating masks: 100%|██████████| 480/480 [00:28<00:00, 17.10it/s]\n",
      "Generating masks: 100%|██████████| 480/480 [00:27<00:00, 17.18it/s]\n",
      "Generating masks: 100%|██████████| 480/480 [00:27<00:00, 17.27it/s]\n",
      "Generating masks: 100%|██████████| 480/480 [00:27<00:00, 17.57it/s]\n",
      "Generating masks: 100%|██████████| 480/480 [00:28<00:00, 17.14it/s]\n",
      "Generating masks: 100%|██████████| 480/480 [00:28<00:00, 17.11it/s]\n",
      "Generating masks: 100%|██████████| 256/256 [00:17<00:00, 14.55it/s]\n",
      "Generating masks:   0%|          | 0/480 [00:00<?, ?it/s]"
     ]
    },
    {
     "name": "stdout",
     "output_type": "stream",
     "text": [
      "generating heatmap #49...\n"
     ]
    },
    {
     "name": "stderr",
     "output_type": "stream",
     "text": [
      "Generating masks: 100%|██████████| 480/480 [00:27<00:00, 17.18it/s]\n",
      "Generating masks: 100%|██████████| 480/480 [00:27<00:00, 17.32it/s]\n",
      "Generating masks: 100%|██████████| 480/480 [00:28<00:00, 17.13it/s]\n",
      "Generating masks: 100%|██████████| 480/480 [00:27<00:00, 17.20it/s]\n",
      "Generating masks: 100%|██████████| 480/480 [00:27<00:00, 17.17it/s]\n",
      "Generating masks: 100%|██████████| 480/480 [00:27<00:00, 17.18it/s]\n",
      "Generating masks: 100%|██████████| 480/480 [00:27<00:00, 17.16it/s]\n",
      "Generating masks: 100%|██████████| 480/480 [00:27<00:00, 17.32it/s]\n",
      "Generating masks: 100%|██████████| 256/256 [00:17<00:00, 14.80it/s]\n"
     ]
    },
    {
     "name": "stdout",
     "output_type": "stream",
     "text": [
      "result for 4096 masks (t: 4:58:48)\n",
      "\tmean std: 0.003931406427998826\n",
      "\tmin std: 0.002317307775280156\n",
      "\tmax std: 0.005813656503826624\n",
      "\tstd std: 0.000413862608921315\n",
      "saving std_heatmaps to ../../../../tmp\\risei-stability\\1616642989_m4096.npy ...\n"
     ]
    }
   ],
   "source": [
    "experiments = 50\n",
    "masks_counts = [3072, 4096]\n",
    "\n",
    "tracemalloc.start()\n",
    "\n",
    "run(experiments, masks_counts)"
   ]
  },
  {
   "cell_type": "code",
   "execution_count": 18,
   "metadata": {},
   "outputs": [
    {
     "name": "stdout",
     "output_type": "stream",
     "text": [
      "generating 25x 6144 masks...\n",
      "generating heatmap #0...\n"
     ]
    },
    {
     "name": "stderr",
     "output_type": "stream",
     "text": [
      "Generating masks: 100%|██████████| 480/480 [00:28<00:00, 17.08it/s]\n",
      "Generating masks: 100%|██████████| 480/480 [00:27<00:00, 17.20it/s]\n",
      "Generating masks: 100%|██████████| 480/480 [00:27<00:00, 17.20it/s]\n",
      "Generating masks: 100%|██████████| 480/480 [00:27<00:00, 17.16it/s]\n",
      "Generating masks: 100%|██████████| 480/480 [00:27<00:00, 17.25it/s]\n",
      "Generating masks: 100%|██████████| 480/480 [00:29<00:00, 16.43it/s]\n",
      "Generating masks: 100%|██████████| 480/480 [00:27<00:00, 17.26it/s]\n",
      "Generating masks: 100%|██████████| 480/480 [00:27<00:00, 17.32it/s]\n",
      "Generating masks: 100%|██████████| 480/480 [00:27<00:00, 17.19it/s]\n",
      "Generating masks: 100%|██████████| 480/480 [00:27<00:00, 17.25it/s]\n",
      "Generating masks: 100%|██████████| 480/480 [00:28<00:00, 17.03it/s]\n",
      "Generating masks: 100%|██████████| 480/480 [00:27<00:00, 17.31it/s]\n",
      "Generating masks: 100%|██████████| 384/384 [00:23<00:00, 16.19it/s]\n",
      "Generating masks:   0%|          | 0/480 [00:00<?, ?it/s]"
     ]
    },
    {
     "name": "stdout",
     "output_type": "stream",
     "text": [
      "generating heatmap #1...\n"
     ]
    },
    {
     "name": "stderr",
     "output_type": "stream",
     "text": [
      "Generating masks: 100%|██████████| 480/480 [00:27<00:00, 17.18it/s]\n",
      "Generating masks: 100%|██████████| 480/480 [00:28<00:00, 17.12it/s]\n",
      "Generating masks: 100%|██████████| 480/480 [00:27<00:00, 17.31it/s]\n",
      "Generating masks: 100%|██████████| 480/480 [00:27<00:00, 17.20it/s]\n",
      "Generating masks: 100%|██████████| 480/480 [00:27<00:00, 17.26it/s]\n",
      "Generating masks: 100%|██████████| 480/480 [00:27<00:00, 17.53it/s]\n",
      "Generating masks: 100%|██████████| 480/480 [00:27<00:00, 17.28it/s]\n",
      "Generating masks: 100%|██████████| 480/480 [00:27<00:00, 17.23it/s]\n",
      "Generating masks: 100%|██████████| 480/480 [00:27<00:00, 17.26it/s]\n",
      "Generating masks: 100%|██████████| 480/480 [00:27<00:00, 17.30it/s]\n",
      "Generating masks: 100%|██████████| 480/480 [00:27<00:00, 17.23it/s]\n",
      "Generating masks: 100%|██████████| 480/480 [00:27<00:00, 17.50it/s]\n",
      "Generating masks: 100%|██████████| 384/384 [00:23<00:00, 16.49it/s]\n",
      "Generating masks:   0%|          | 0/480 [00:00<?, ?it/s]"
     ]
    },
    {
     "name": "stdout",
     "output_type": "stream",
     "text": [
      "generating heatmap #2...\n"
     ]
    },
    {
     "name": "stderr",
     "output_type": "stream",
     "text": [
      "Generating masks: 100%|██████████| 480/480 [00:27<00:00, 17.19it/s]\n",
      "Generating masks: 100%|██████████| 480/480 [00:28<00:00, 17.13it/s]\n",
      "Generating masks: 100%|██████████| 480/480 [00:27<00:00, 17.20it/s]\n",
      "Generating masks: 100%|██████████| 480/480 [00:27<00:00, 17.23it/s]\n",
      "Generating masks: 100%|██████████| 480/480 [00:27<00:00, 17.53it/s]\n",
      "Generating masks: 100%|██████████| 480/480 [00:27<00:00, 17.36it/s]\n",
      "Generating masks: 100%|██████████| 480/480 [00:27<00:00, 17.20it/s]\n",
      "Generating masks: 100%|██████████| 480/480 [00:27<00:00, 17.19it/s]\n",
      "Generating masks: 100%|██████████| 480/480 [00:27<00:00, 17.17it/s]\n",
      "Generating masks: 100%|██████████| 480/480 [00:28<00:00, 17.08it/s]\n",
      "Generating masks: 100%|██████████| 480/480 [00:27<00:00, 17.19it/s]\n",
      "Generating masks: 100%|██████████| 480/480 [00:27<00:00, 17.21it/s]\n",
      "Generating masks: 100%|██████████| 384/384 [00:23<00:00, 16.49it/s]\n",
      "Generating masks:   0%|          | 0/480 [00:00<?, ?it/s]"
     ]
    },
    {
     "name": "stdout",
     "output_type": "stream",
     "text": [
      "generating heatmap #3...\n"
     ]
    },
    {
     "name": "stderr",
     "output_type": "stream",
     "text": [
      "Generating masks: 100%|██████████| 480/480 [00:27<00:00, 17.32it/s]\n",
      "Generating masks: 100%|██████████| 480/480 [00:28<00:00, 17.06it/s]\n",
      "Generating masks: 100%|██████████| 480/480 [00:28<00:00, 17.07it/s]\n",
      "Generating masks: 100%|██████████| 480/480 [00:27<00:00, 17.46it/s]\n",
      "Generating masks: 100%|██████████| 480/480 [00:28<00:00, 16.92it/s]\n",
      "Generating masks: 100%|██████████| 480/480 [00:28<00:00, 17.04it/s]\n",
      "Generating masks: 100%|██████████| 480/480 [00:27<00:00, 17.19it/s]\n",
      "Generating masks: 100%|██████████| 480/480 [00:28<00:00, 17.10it/s]\n",
      "Generating masks: 100%|██████████| 480/480 [00:27<00:00, 17.20it/s]\n",
      "Generating masks: 100%|██████████| 480/480 [00:27<00:00, 17.40it/s]\n",
      "Generating masks: 100%|██████████| 480/480 [00:27<00:00, 17.18it/s]\n",
      "Generating masks: 100%|██████████| 480/480 [00:27<00:00, 17.19it/s]\n",
      "Generating masks: 100%|██████████| 384/384 [00:23<00:00, 16.49it/s]\n",
      "Generating masks:   0%|          | 0/480 [00:00<?, ?it/s]"
     ]
    },
    {
     "name": "stdout",
     "output_type": "stream",
     "text": [
      "generating heatmap #4...\n"
     ]
    },
    {
     "name": "stderr",
     "output_type": "stream",
     "text": [
      "Generating masks: 100%|██████████| 480/480 [00:27<00:00, 17.23it/s]\n",
      "Generating masks: 100%|██████████| 480/480 [00:27<00:00, 17.33it/s]\n",
      "Generating masks: 100%|██████████| 480/480 [00:27<00:00, 17.32it/s]\n",
      "Generating masks: 100%|██████████| 480/480 [00:28<00:00, 17.07it/s]\n",
      "Generating masks: 100%|██████████| 480/480 [00:28<00:00, 17.04it/s]\n",
      "Generating masks: 100%|██████████| 480/480 [00:27<00:00, 17.21it/s]\n",
      "Generating masks: 100%|██████████| 480/480 [00:27<00:00, 17.26it/s]\n",
      "Generating masks: 100%|██████████| 480/480 [00:28<00:00, 17.08it/s]\n",
      "Generating masks: 100%|██████████| 480/480 [00:27<00:00, 17.42it/s]\n",
      "Generating masks: 100%|██████████| 480/480 [00:28<00:00, 16.99it/s]\n",
      "Generating masks: 100%|██████████| 480/480 [00:28<00:00, 17.09it/s]\n",
      "Generating masks: 100%|██████████| 480/480 [00:27<00:00, 17.26it/s]\n",
      "Generating masks: 100%|██████████| 384/384 [00:23<00:00, 16.28it/s]\n",
      "Generating masks:   0%|          | 0/480 [00:00<?, ?it/s]"
     ]
    },
    {
     "name": "stdout",
     "output_type": "stream",
     "text": [
      "generating heatmap #5...\n"
     ]
    },
    {
     "name": "stderr",
     "output_type": "stream",
     "text": [
      "Generating masks: 100%|██████████| 480/480 [00:28<00:00, 17.05it/s]\n",
      "Generating masks: 100%|██████████| 480/480 [00:27<00:00, 17.34it/s]\n",
      "Generating masks: 100%|██████████| 480/480 [00:27<00:00, 17.25it/s]\n",
      "Generating masks: 100%|██████████| 480/480 [00:27<00:00, 17.26it/s]\n",
      "Generating masks: 100%|██████████| 480/480 [00:27<00:00, 17.17it/s]\n",
      "Generating masks: 100%|██████████| 480/480 [00:28<00:00, 17.02it/s]\n",
      "Generating masks: 100%|██████████| 480/480 [00:28<00:00, 17.14it/s]\n",
      "Generating masks: 100%|██████████| 480/480 [00:27<00:00, 17.44it/s]\n",
      "Generating masks: 100%|██████████| 480/480 [00:28<00:00, 17.09it/s]\n",
      "Generating masks: 100%|██████████| 480/480 [00:27<00:00, 17.28it/s]\n",
      "Generating masks: 100%|██████████| 480/480 [00:28<00:00, 17.08it/s]\n",
      "Generating masks: 100%|██████████| 480/480 [00:27<00:00, 17.25it/s]\n",
      "Generating masks: 100%|██████████| 384/384 [00:23<00:00, 16.31it/s]\n"
     ]
    },
    {
     "name": "stdout",
     "output_type": "stream",
     "text": [
      "generating heatmap #6...\n"
     ]
    },
    {
     "name": "stderr",
     "output_type": "stream",
     "text": [
      "Generating masks: 100%|██████████| 480/480 [00:27<00:00, 17.31it/s]\n",
      "Generating masks: 100%|██████████| 480/480 [00:27<00:00, 17.18it/s]\n",
      "Generating masks: 100%|██████████| 480/480 [00:27<00:00, 17.26it/s]\n",
      "Generating masks: 100%|██████████| 480/480 [00:27<00:00, 17.18it/s]\n",
      "Generating masks: 100%|██████████| 480/480 [00:27<00:00, 17.25it/s]\n",
      "Generating masks: 100%|██████████| 480/480 [00:27<00:00, 17.26it/s]\n",
      "Generating masks: 100%|██████████| 480/480 [00:27<00:00, 17.28it/s]\n",
      "Generating masks: 100%|██████████| 480/480 [00:27<00:00, 17.27it/s]\n",
      "Generating masks: 100%|██████████| 480/480 [00:28<00:00, 17.12it/s]\n",
      "Generating masks: 100%|██████████| 480/480 [00:28<00:00, 17.12it/s]\n",
      "Generating masks: 100%|██████████| 480/480 [00:28<00:00, 17.03it/s]\n",
      "Generating masks: 100%|██████████| 480/480 [00:27<00:00, 17.38it/s]\n",
      "Generating masks: 100%|██████████| 384/384 [00:24<00:00, 15.94it/s]\n",
      "Generating masks:   0%|          | 0/480 [00:00<?, ?it/s]"
     ]
    },
    {
     "name": "stdout",
     "output_type": "stream",
     "text": [
      "generating heatmap #7...\n"
     ]
    },
    {
     "name": "stderr",
     "output_type": "stream",
     "text": [
      "Generating masks: 100%|██████████| 480/480 [00:27<00:00, 17.14it/s]\n",
      "Generating masks: 100%|██████████| 480/480 [00:27<00:00, 17.15it/s]\n",
      "Generating masks: 100%|██████████| 480/480 [00:28<00:00, 16.85it/s]\n",
      "Generating masks: 100%|██████████| 480/480 [00:27<00:00, 17.25it/s]\n",
      "Generating masks: 100%|██████████| 480/480 [00:27<00:00, 17.36it/s]\n",
      "Generating masks: 100%|██████████| 480/480 [00:27<00:00, 17.46it/s]\n",
      "Generating masks: 100%|██████████| 480/480 [00:28<00:00, 17.10it/s]\n",
      "Generating masks: 100%|██████████| 480/480 [00:28<00:00, 17.13it/s]\n",
      "Generating masks: 100%|██████████| 480/480 [00:27<00:00, 17.29it/s]\n",
      "Generating masks: 100%|██████████| 480/480 [00:27<00:00, 17.16it/s]\n",
      "Generating masks: 100%|██████████| 480/480 [00:28<00:00, 17.13it/s]\n",
      "Generating masks: 100%|██████████| 480/480 [00:27<00:00, 17.26it/s]\n",
      "Generating masks: 100%|██████████| 384/384 [00:23<00:00, 16.45it/s]\n",
      "Generating masks:   0%|          | 0/480 [00:00<?, ?it/s]"
     ]
    },
    {
     "name": "stdout",
     "output_type": "stream",
     "text": [
      "generating heatmap #8...\n"
     ]
    },
    {
     "name": "stderr",
     "output_type": "stream",
     "text": [
      "Generating masks: 100%|██████████| 480/480 [00:27<00:00, 17.22it/s]\n",
      "Generating masks: 100%|██████████| 480/480 [00:28<00:00, 17.12it/s]\n",
      "Generating masks: 100%|██████████| 480/480 [00:27<00:00, 17.21it/s]\n",
      "Generating masks: 100%|██████████| 480/480 [00:27<00:00, 17.23it/s]\n",
      "Generating masks: 100%|██████████| 480/480 [00:27<00:00, 17.22it/s]\n",
      "Generating masks: 100%|██████████| 480/480 [00:27<00:00, 17.17it/s]\n",
      "Generating masks: 100%|██████████| 480/480 [00:28<00:00, 17.13it/s]\n",
      "Generating masks: 100%|██████████| 480/480 [00:27<00:00, 17.16it/s]\n",
      "Generating masks: 100%|██████████| 480/480 [00:27<00:00, 17.27it/s]\n",
      "Generating masks: 100%|██████████| 480/480 [00:28<00:00, 17.07it/s]\n",
      "Generating masks: 100%|██████████| 480/480 [00:27<00:00, 17.24it/s]\n",
      "Generating masks: 100%|██████████| 480/480 [00:28<00:00, 17.03it/s]\n",
      "Generating masks: 100%|██████████| 384/384 [00:23<00:00, 16.39it/s]\n",
      "Generating masks:   0%|          | 0/480 [00:00<?, ?it/s]"
     ]
    },
    {
     "name": "stdout",
     "output_type": "stream",
     "text": [
      "generating heatmap #9...\n"
     ]
    },
    {
     "name": "stderr",
     "output_type": "stream",
     "text": [
      "Generating masks: 100%|██████████| 480/480 [00:28<00:00, 17.01it/s]\n",
      "Generating masks: 100%|██████████| 480/480 [00:27<00:00, 17.23it/s]\n",
      "Generating masks: 100%|██████████| 480/480 [00:28<00:00, 17.12it/s]\n",
      "Generating masks: 100%|██████████| 480/480 [00:27<00:00, 17.40it/s]\n",
      "Generating masks: 100%|██████████| 480/480 [00:27<00:00, 17.32it/s]\n",
      "Generating masks: 100%|██████████| 480/480 [00:28<00:00, 17.11it/s]\n",
      "Generating masks: 100%|██████████| 480/480 [00:27<00:00, 17.19it/s]\n",
      "Generating masks: 100%|██████████| 480/480 [00:28<00:00, 17.11it/s]\n",
      "Generating masks: 100%|██████████| 480/480 [00:27<00:00, 17.17it/s]\n",
      "Generating masks: 100%|██████████| 480/480 [00:27<00:00, 17.50it/s]\n",
      "Generating masks: 100%|██████████| 480/480 [00:27<00:00, 17.20it/s]\n",
      "Generating masks: 100%|██████████| 480/480 [00:27<00:00, 17.20it/s]\n",
      "Generating masks: 100%|██████████| 384/384 [00:23<00:00, 16.31it/s]\n",
      "Generating masks:   0%|          | 0/480 [00:00<?, ?it/s]"
     ]
    },
    {
     "name": "stdout",
     "output_type": "stream",
     "text": [
      "generating heatmap #10...\n"
     ]
    },
    {
     "name": "stderr",
     "output_type": "stream",
     "text": [
      "Generating masks: 100%|██████████| 480/480 [00:28<00:00, 16.97it/s]\n",
      "Generating masks: 100%|██████████| 480/480 [00:28<00:00, 17.09it/s]\n",
      "Generating masks: 100%|██████████| 480/480 [00:27<00:00, 17.20it/s]\n",
      "Generating masks: 100%|██████████| 480/480 [00:28<00:00, 17.09it/s]\n",
      "Generating masks: 100%|██████████| 480/480 [00:27<00:00, 17.16it/s]\n",
      "Generating masks: 100%|██████████| 480/480 [00:28<00:00, 17.07it/s]\n",
      "Generating masks: 100%|██████████| 480/480 [00:27<00:00, 17.26it/s]\n",
      "Generating masks: 100%|██████████| 480/480 [00:27<00:00, 17.34it/s]\n",
      "Generating masks: 100%|██████████| 480/480 [00:27<00:00, 17.40it/s]\n",
      "Generating masks: 100%|██████████| 480/480 [00:27<00:00, 17.23it/s]\n",
      "Generating masks: 100%|██████████| 480/480 [00:27<00:00, 17.14it/s]\n",
      "Generating masks: 100%|██████████| 480/480 [00:28<00:00, 17.11it/s]\n",
      "Generating masks: 100%|██████████| 384/384 [00:23<00:00, 16.43it/s]\n",
      "Generating masks:   0%|          | 0/480 [00:00<?, ?it/s]"
     ]
    },
    {
     "name": "stdout",
     "output_type": "stream",
     "text": [
      "generating heatmap #11...\n"
     ]
    },
    {
     "name": "stderr",
     "output_type": "stream",
     "text": [
      "Generating masks: 100%|██████████| 480/480 [00:27<00:00, 17.26it/s]\n",
      "Generating masks: 100%|██████████| 480/480 [00:27<00:00, 17.32it/s]\n",
      "Generating masks: 100%|██████████| 480/480 [00:27<00:00, 17.14it/s]\n",
      "Generating masks: 100%|██████████| 480/480 [00:28<00:00, 17.08it/s]\n",
      "Generating masks: 100%|██████████| 480/480 [00:27<00:00, 17.21it/s]\n",
      "Generating masks: 100%|██████████| 480/480 [00:27<00:00, 17.18it/s]\n",
      "Generating masks: 100%|██████████| 480/480 [00:28<00:00, 17.07it/s]\n",
      "Generating masks: 100%|██████████| 480/480 [00:27<00:00, 17.48it/s]\n",
      "Generating masks: 100%|██████████| 480/480 [00:28<00:00, 17.08it/s]\n",
      "Generating masks: 100%|██████████| 480/480 [00:27<00:00, 17.22it/s]\n",
      "Generating masks: 100%|██████████| 480/480 [00:27<00:00, 17.37it/s]\n",
      "Generating masks: 100%|██████████| 480/480 [00:27<00:00, 17.26it/s]\n",
      "Generating masks: 100%|██████████| 384/384 [00:23<00:00, 16.45it/s]\n"
     ]
    },
    {
     "name": "stdout",
     "output_type": "stream",
     "text": [
      "generating heatmap #12...\n"
     ]
    },
    {
     "name": "stderr",
     "output_type": "stream",
     "text": [
      "Generating masks: 100%|██████████| 480/480 [00:27<00:00, 17.25it/s]\n",
      "Generating masks: 100%|██████████| 480/480 [00:27<00:00, 17.18it/s]\n",
      "Generating masks: 100%|██████████| 480/480 [00:27<00:00, 17.27it/s]\n",
      "Generating masks: 100%|██████████| 480/480 [00:27<00:00, 17.26it/s]\n",
      "Generating masks: 100%|██████████| 480/480 [00:27<00:00, 17.24it/s]\n",
      "Generating masks: 100%|██████████| 480/480 [00:27<00:00, 17.32it/s]\n",
      "Generating masks: 100%|██████████| 480/480 [00:27<00:00, 17.30it/s]\n",
      "Generating masks: 100%|██████████| 480/480 [00:27<00:00, 17.33it/s]\n",
      "Generating masks: 100%|██████████| 480/480 [00:27<00:00, 17.23it/s]\n",
      "Generating masks: 100%|██████████| 480/480 [00:27<00:00, 17.20it/s]\n",
      "Generating masks: 100%|██████████| 480/480 [00:27<00:00, 17.19it/s]\n",
      "Generating masks: 100%|██████████| 480/480 [00:28<00:00, 17.00it/s]\n",
      "Generating masks: 100%|██████████| 384/384 [00:24<00:00, 15.89it/s]\n",
      "Generating masks:   0%|          | 0/480 [00:00<?, ?it/s]"
     ]
    },
    {
     "name": "stdout",
     "output_type": "stream",
     "text": [
      "generating heatmap #13...\n"
     ]
    },
    {
     "name": "stderr",
     "output_type": "stream",
     "text": [
      "Generating masks: 100%|██████████| 480/480 [00:28<00:00, 17.09it/s]\n",
      "Generating masks: 100%|██████████| 480/480 [00:28<00:00, 17.12it/s]\n",
      "Generating masks: 100%|██████████| 480/480 [00:28<00:00, 17.07it/s]\n",
      "Generating masks: 100%|██████████| 480/480 [00:27<00:00, 17.18it/s]\n",
      "Generating masks: 100%|██████████| 480/480 [00:28<00:00, 16.99it/s]\n",
      "Generating masks: 100%|██████████| 480/480 [00:27<00:00, 17.48it/s]\n",
      "Generating masks: 100%|██████████| 480/480 [00:27<00:00, 17.37it/s]\n",
      "Generating masks: 100%|██████████| 480/480 [00:27<00:00, 17.21it/s]\n",
      "Generating masks: 100%|██████████| 480/480 [00:27<00:00, 17.28it/s]\n",
      "Generating masks: 100%|██████████| 480/480 [00:27<00:00, 17.15it/s]\n",
      "Generating masks: 100%|██████████| 480/480 [00:27<00:00, 17.17it/s]\n",
      "Generating masks: 100%|██████████| 480/480 [00:27<00:00, 17.49it/s]\n",
      "Generating masks: 100%|██████████| 384/384 [00:25<00:00, 15.26it/s]\n",
      "Generating masks:   0%|          | 0/480 [00:00<?, ?it/s]"
     ]
    },
    {
     "name": "stdout",
     "output_type": "stream",
     "text": [
      "generating heatmap #14...\n"
     ]
    },
    {
     "name": "stderr",
     "output_type": "stream",
     "text": [
      "Generating masks: 100%|██████████| 480/480 [00:29<00:00, 16.43it/s]\n",
      "Generating masks: 100%|██████████| 480/480 [00:28<00:00, 17.03it/s]\n",
      "Generating masks: 100%|██████████| 480/480 [00:27<00:00, 17.26it/s]\n",
      "Generating masks: 100%|██████████| 480/480 [00:27<00:00, 17.19it/s]\n",
      "Generating masks: 100%|██████████| 480/480 [00:27<00:00, 17.52it/s]\n",
      "Generating masks: 100%|██████████| 480/480 [00:28<00:00, 17.07it/s]\n",
      "Generating masks: 100%|██████████| 480/480 [00:29<00:00, 16.06it/s]\n",
      "Generating masks: 100%|██████████| 480/480 [00:27<00:00, 17.23it/s]\n",
      "Generating masks: 100%|██████████| 480/480 [00:27<00:00, 17.21it/s]\n",
      "Generating masks: 100%|██████████| 480/480 [00:27<00:00, 17.26it/s]\n",
      "Generating masks: 100%|██████████| 480/480 [00:27<00:00, 17.26it/s]\n",
      "Generating masks: 100%|██████████| 480/480 [00:27<00:00, 17.28it/s]\n",
      "Generating masks: 100%|██████████| 384/384 [00:23<00:00, 16.41it/s]\n",
      "Generating masks:   0%|          | 0/480 [00:00<?, ?it/s]"
     ]
    },
    {
     "name": "stdout",
     "output_type": "stream",
     "text": [
      "generating heatmap #15...\n"
     ]
    },
    {
     "name": "stderr",
     "output_type": "stream",
     "text": [
      "Generating masks: 100%|██████████| 480/480 [00:27<00:00, 17.23it/s]\n",
      "Generating masks: 100%|██████████| 480/480 [00:28<00:00, 17.05it/s]\n",
      "Generating masks: 100%|██████████| 480/480 [00:28<00:00, 17.12it/s]\n",
      "Generating masks: 100%|██████████| 480/480 [00:27<00:00, 17.48it/s]\n",
      "Generating masks: 100%|██████████| 480/480 [00:27<00:00, 17.16it/s]\n",
      "Generating masks: 100%|██████████| 480/480 [00:27<00:00, 17.33it/s]\n",
      "Generating masks: 100%|██████████| 480/480 [00:27<00:00, 17.18it/s]\n",
      "Generating masks: 100%|██████████| 480/480 [00:27<00:00, 17.27it/s]\n",
      "Generating masks: 100%|██████████| 480/480 [00:28<00:00, 17.06it/s]\n",
      "Generating masks: 100%|██████████| 480/480 [00:27<00:00, 17.42it/s]\n",
      "Generating masks: 100%|██████████| 480/480 [00:27<00:00, 17.18it/s]\n",
      "Generating masks: 100%|██████████| 480/480 [00:27<00:00, 17.26it/s]\n",
      "Generating masks: 100%|██████████| 384/384 [00:23<00:00, 16.46it/s]\n",
      "Generating masks:   0%|          | 0/480 [00:00<?, ?it/s]"
     ]
    },
    {
     "name": "stdout",
     "output_type": "stream",
     "text": [
      "generating heatmap #16...\n"
     ]
    },
    {
     "name": "stderr",
     "output_type": "stream",
     "text": [
      "Generating masks: 100%|██████████| 480/480 [00:27<00:00, 17.39it/s]\n",
      "Generating masks: 100%|██████████| 480/480 [00:28<00:00, 17.08it/s]\n",
      "Generating masks: 100%|██████████| 480/480 [00:27<00:00, 17.40it/s]\n",
      "Generating masks: 100%|██████████| 480/480 [00:27<00:00, 17.19it/s]\n",
      "Generating masks: 100%|██████████| 480/480 [00:28<00:00, 17.06it/s]\n",
      "Generating masks: 100%|██████████| 480/480 [00:28<00:00, 17.10it/s]\n",
      "Generating masks: 100%|██████████| 480/480 [00:28<00:00, 17.06it/s]\n",
      "Generating masks: 100%|██████████| 480/480 [00:27<00:00, 17.17it/s]\n",
      "Generating masks: 100%|██████████| 480/480 [00:27<00:00, 17.24it/s]\n",
      "Generating masks: 100%|██████████| 480/480 [00:28<00:00, 17.09it/s]\n",
      "Generating masks: 100%|██████████| 480/480 [00:28<00:00, 17.07it/s]\n",
      "Generating masks: 100%|██████████| 480/480 [00:28<00:00, 17.01it/s]\n",
      "Generating masks: 100%|██████████| 384/384 [00:23<00:00, 16.49it/s]\n",
      "Generating masks:   0%|          | 0/480 [00:00<?, ?it/s]"
     ]
    },
    {
     "name": "stdout",
     "output_type": "stream",
     "text": [
      "generating heatmap #17...\n"
     ]
    },
    {
     "name": "stderr",
     "output_type": "stream",
     "text": [
      "Generating masks: 100%|██████████| 480/480 [00:28<00:00, 17.00it/s]\n",
      "Generating masks: 100%|██████████| 480/480 [00:27<00:00, 17.34it/s]\n",
      "Generating masks: 100%|██████████| 480/480 [00:28<00:00, 17.00it/s]\n",
      "Generating masks: 100%|██████████| 480/480 [00:27<00:00, 17.15it/s]\n",
      "Generating masks: 100%|██████████| 480/480 [00:28<00:00, 17.09it/s]\n",
      "Generating masks: 100%|██████████| 480/480 [00:28<00:00, 17.10it/s]\n",
      "Generating masks: 100%|██████████| 480/480 [00:27<00:00, 17.18it/s]\n",
      "Generating masks: 100%|██████████| 480/480 [00:27<00:00, 17.20it/s]\n",
      "Generating masks: 100%|██████████| 480/480 [00:28<00:00, 17.06it/s]\n",
      "Generating masks: 100%|██████████| 480/480 [00:27<00:00, 17.14it/s]\n",
      "Generating masks: 100%|██████████| 480/480 [00:28<00:00, 17.14it/s]\n",
      "Generating masks: 100%|██████████| 480/480 [00:28<00:00, 17.14it/s]\n",
      "Generating masks: 100%|██████████| 384/384 [00:23<00:00, 16.17it/s]\n"
     ]
    },
    {
     "name": "stdout",
     "output_type": "stream",
     "text": [
      "generating heatmap #18...\n"
     ]
    },
    {
     "name": "stderr",
     "output_type": "stream",
     "text": [
      "Generating masks: 100%|██████████| 480/480 [00:27<00:00, 17.19it/s]\n",
      "Generating masks: 100%|██████████| 480/480 [00:27<00:00, 17.28it/s]\n",
      "Generating masks: 100%|██████████| 480/480 [00:27<00:00, 17.18it/s]\n",
      "Generating masks: 100%|██████████| 480/480 [00:28<00:00, 17.07it/s]\n",
      "Generating masks: 100%|██████████| 480/480 [00:27<00:00, 17.17it/s]\n",
      "Generating masks: 100%|██████████| 480/480 [00:28<00:00, 16.99it/s]\n",
      "Generating masks: 100%|██████████| 480/480 [00:27<00:00, 17.43it/s]\n",
      "Generating masks: 100%|██████████| 480/480 [00:27<00:00, 17.28it/s]\n",
      "Generating masks: 100%|██████████| 480/480 [00:27<00:00, 17.19it/s]\n",
      "Generating masks: 100%|██████████| 480/480 [00:27<00:00, 17.21it/s]\n",
      "Generating masks: 100%|██████████| 480/480 [00:27<00:00, 17.14it/s]\n",
      "Generating masks: 100%|██████████| 480/480 [00:27<00:00, 17.17it/s]\n",
      "Generating masks: 100%|██████████| 384/384 [00:24<00:00, 15.96it/s]\n",
      "Generating masks:   0%|          | 0/480 [00:00<?, ?it/s]"
     ]
    },
    {
     "name": "stdout",
     "output_type": "stream",
     "text": [
      "generating heatmap #19...\n"
     ]
    },
    {
     "name": "stderr",
     "output_type": "stream",
     "text": [
      "Generating masks: 100%|██████████| 480/480 [00:27<00:00, 17.26it/s]\n",
      "Generating masks: 100%|██████████| 480/480 [00:27<00:00, 17.16it/s]\n",
      "Generating masks: 100%|██████████| 480/480 [00:27<00:00, 17.22it/s]\n",
      "Generating masks: 100%|██████████| 480/480 [00:28<00:00, 17.12it/s]\n",
      "Generating masks: 100%|██████████| 480/480 [00:28<00:00, 17.11it/s]\n",
      "Generating masks: 100%|██████████| 480/480 [00:27<00:00, 17.44it/s]\n",
      "Generating masks: 100%|██████████| 480/480 [00:28<00:00, 17.10it/s]\n",
      "Generating masks: 100%|██████████| 480/480 [00:28<00:00, 17.13it/s]\n",
      "Generating masks: 100%|██████████| 480/480 [00:28<00:00, 16.96it/s]\n",
      "Generating masks: 100%|██████████| 480/480 [00:28<00:00, 17.01it/s]\n",
      "Generating masks: 100%|██████████| 480/480 [00:28<00:00, 17.00it/s]\n",
      "Generating masks: 100%|██████████| 480/480 [00:27<00:00, 17.28it/s]\n",
      "Generating masks: 100%|██████████| 384/384 [00:23<00:00, 16.39it/s]\n",
      "Generating masks:   0%|          | 0/480 [00:00<?, ?it/s]"
     ]
    },
    {
     "name": "stdout",
     "output_type": "stream",
     "text": [
      "generating heatmap #20...\n"
     ]
    },
    {
     "name": "stderr",
     "output_type": "stream",
     "text": [
      "Generating masks: 100%|██████████| 480/480 [00:28<00:00, 17.02it/s]\n",
      "Generating masks: 100%|██████████| 480/480 [00:27<00:00, 17.29it/s]\n",
      "Generating masks: 100%|██████████| 480/480 [00:28<00:00, 17.06it/s]\n",
      "Generating masks: 100%|██████████| 480/480 [00:28<00:00, 17.06it/s]\n",
      "Generating masks: 100%|██████████| 480/480 [00:27<00:00, 17.25it/s]\n",
      "Generating masks: 100%|██████████| 480/480 [00:28<00:00, 17.09it/s]\n",
      "Generating masks: 100%|██████████| 480/480 [00:27<00:00, 17.17it/s]\n",
      "Generating masks: 100%|██████████| 480/480 [00:27<00:00, 17.20it/s]\n",
      "Generating masks: 100%|██████████| 480/480 [00:27<00:00, 17.27it/s]\n",
      "Generating masks: 100%|██████████| 480/480 [00:29<00:00, 16.53it/s]\n",
      "Generating masks: 100%|██████████| 480/480 [00:27<00:00, 17.25it/s]\n",
      "Generating masks: 100%|██████████| 480/480 [00:27<00:00, 17.18it/s]\n",
      "Generating masks: 100%|██████████| 384/384 [00:23<00:00, 16.38it/s]\n",
      "Generating masks:   0%|          | 0/480 [00:00<?, ?it/s]"
     ]
    },
    {
     "name": "stdout",
     "output_type": "stream",
     "text": [
      "generating heatmap #21...\n"
     ]
    },
    {
     "name": "stderr",
     "output_type": "stream",
     "text": [
      "Generating masks: 100%|██████████| 480/480 [00:28<00:00, 17.09it/s]\n",
      "Generating masks: 100%|██████████| 480/480 [00:27<00:00, 17.24it/s]\n",
      "Generating masks: 100%|██████████| 480/480 [00:28<00:00, 17.03it/s]\n",
      "Generating masks: 100%|██████████| 480/480 [00:27<00:00, 17.35it/s]\n",
      "Generating masks: 100%|██████████| 480/480 [00:27<00:00, 17.14it/s]\n",
      "Generating masks: 100%|██████████| 480/480 [00:27<00:00, 17.15it/s]\n",
      "Generating masks: 100%|██████████| 480/480 [00:27<00:00, 17.25it/s]\n",
      "Generating masks: 100%|██████████| 480/480 [00:28<00:00, 17.08it/s]\n",
      "Generating masks: 100%|██████████| 480/480 [00:28<00:00, 16.94it/s]\n",
      "Generating masks: 100%|██████████| 480/480 [00:27<00:00, 17.44it/s]\n",
      "Generating masks: 100%|██████████| 480/480 [00:28<00:00, 17.03it/s]\n",
      "Generating masks: 100%|██████████| 480/480 [00:28<00:00, 17.14it/s]\n",
      "Generating masks: 100%|██████████| 384/384 [00:23<00:00, 16.22it/s]\n",
      "Generating masks:   0%|          | 0/480 [00:00<?, ?it/s]"
     ]
    },
    {
     "name": "stdout",
     "output_type": "stream",
     "text": [
      "generating heatmap #22...\n"
     ]
    },
    {
     "name": "stderr",
     "output_type": "stream",
     "text": [
      "Generating masks: 100%|██████████| 480/480 [00:27<00:00, 17.27it/s]\n",
      "Generating masks: 100%|██████████| 480/480 [00:28<00:00, 17.13it/s]\n",
      "Generating masks: 100%|██████████| 480/480 [00:27<00:00, 17.47it/s]\n",
      "Generating masks: 100%|██████████| 480/480 [00:28<00:00, 17.02it/s]\n",
      "Generating masks: 100%|██████████| 480/480 [00:27<00:00, 17.31it/s]\n",
      "Generating masks: 100%|██████████| 480/480 [00:27<00:00, 17.38it/s]\n",
      "Generating masks: 100%|██████████| 480/480 [00:27<00:00, 17.35it/s]\n",
      "Generating masks: 100%|██████████| 480/480 [00:27<00:00, 17.29it/s]\n",
      "Generating masks: 100%|██████████| 480/480 [00:27<00:00, 17.22it/s]\n",
      "Generating masks: 100%|██████████| 480/480 [00:27<00:00, 17.17it/s]\n",
      "Generating masks: 100%|██████████| 480/480 [00:28<00:00, 17.06it/s]\n",
      "Generating masks: 100%|██████████| 480/480 [00:27<00:00, 17.25it/s]\n",
      "Generating masks: 100%|██████████| 384/384 [00:23<00:00, 16.54it/s]\n",
      "Generating masks:   0%|          | 0/480 [00:00<?, ?it/s]"
     ]
    },
    {
     "name": "stdout",
     "output_type": "stream",
     "text": [
      "generating heatmap #23...\n"
     ]
    },
    {
     "name": "stderr",
     "output_type": "stream",
     "text": [
      "Generating masks: 100%|██████████| 480/480 [00:27<00:00, 17.30it/s]\n",
      "Generating masks: 100%|██████████| 480/480 [00:27<00:00, 17.24it/s]\n",
      "Generating masks: 100%|██████████| 480/480 [00:28<00:00, 17.14it/s]\n",
      "Generating masks: 100%|██████████| 480/480 [00:28<00:00, 17.14it/s]\n",
      "Generating masks: 100%|██████████| 480/480 [00:27<00:00, 17.22it/s]\n",
      "Generating masks: 100%|██████████| 480/480 [00:27<00:00, 17.25it/s]\n",
      "Generating masks: 100%|██████████| 480/480 [00:28<00:00, 17.04it/s]\n",
      "Generating masks: 100%|██████████| 480/480 [00:27<00:00, 17.41it/s]\n",
      "Generating masks: 100%|██████████| 480/480 [00:28<00:00, 17.00it/s]\n",
      "Generating masks: 100%|██████████| 480/480 [00:27<00:00, 17.21it/s]\n",
      "Generating masks: 100%|██████████| 480/480 [00:27<00:00, 17.28it/s]\n",
      "Generating masks: 100%|██████████| 480/480 [00:28<00:00, 17.14it/s]\n",
      "Generating masks: 100%|██████████| 384/384 [00:23<00:00, 16.48it/s]\n"
     ]
    },
    {
     "name": "stdout",
     "output_type": "stream",
     "text": [
      "generating heatmap #24...\n"
     ]
    },
    {
     "name": "stderr",
     "output_type": "stream",
     "text": [
      "Generating masks: 100%|██████████| 480/480 [00:28<00:00, 17.03it/s]\n",
      "Generating masks: 100%|██████████| 480/480 [00:28<00:00, 17.11it/s]\n",
      "Generating masks: 100%|██████████| 480/480 [00:28<00:00, 17.13it/s]\n",
      "Generating masks: 100%|██████████| 480/480 [00:27<00:00, 17.36it/s]\n",
      "Generating masks: 100%|██████████| 480/480 [00:28<00:00, 17.07it/s]\n",
      "Generating masks: 100%|██████████| 480/480 [00:27<00:00, 17.28it/s]\n",
      "Generating masks: 100%|██████████| 480/480 [00:27<00:00, 17.43it/s]\n",
      "Generating masks: 100%|██████████| 480/480 [00:27<00:00, 17.15it/s]\n",
      "Generating masks: 100%|██████████| 480/480 [00:27<00:00, 17.20it/s]\n",
      "Generating masks: 100%|██████████| 480/480 [00:28<00:00, 17.06it/s]\n",
      "Generating masks: 100%|██████████| 480/480 [00:28<00:00, 17.13it/s]\n",
      "Generating masks: 100%|██████████| 480/480 [00:28<00:00, 17.02it/s]\n",
      "Generating masks: 100%|██████████| 384/384 [00:24<00:00, 15.78it/s]\n",
      "Generating masks:   0%|          | 0/480 [00:00<?, ?it/s]"
     ]
    },
    {
     "name": "stdout",
     "output_type": "stream",
     "text": [
      "result for 6144 masks (t: 3:41:39)\n",
      "\tmean std: 0.0031425511181114403\n",
      "\tmin std: 0.001555348662011158\n",
      "\tmax std: 0.004990408353835016\n",
      "\tstd std: 0.00044097722771380067\n",
      "saving std_heatmaps to ../../../../tmp\\risei-stability\\1616656291_m6144.npy ...\n",
      "generating 25x 8192 masks...\n",
      "generating heatmap #0...\n"
     ]
    },
    {
     "name": "stderr",
     "output_type": "stream",
     "text": [
      "Generating masks: 100%|██████████| 480/480 [00:28<00:00, 16.93it/s]\n",
      "Generating masks: 100%|██████████| 480/480 [00:27<00:00, 17.17it/s]\n",
      "Generating masks: 100%|██████████| 480/480 [00:28<00:00, 16.91it/s]\n",
      "Generating masks: 100%|██████████| 480/480 [00:27<00:00, 17.21it/s]\n",
      "Generating masks: 100%|██████████| 480/480 [00:27<00:00, 17.21it/s]\n",
      "Generating masks: 100%|██████████| 480/480 [00:27<00:00, 17.22it/s]\n",
      "Generating masks: 100%|██████████| 480/480 [00:28<00:00, 17.11it/s]\n",
      "Generating masks: 100%|██████████| 480/480 [00:27<00:00, 17.18it/s]\n",
      "Generating masks: 100%|██████████| 480/480 [00:27<00:00, 17.29it/s]\n",
      "Generating masks: 100%|██████████| 480/480 [00:27<00:00, 17.19it/s]\n",
      "Generating masks: 100%|██████████| 480/480 [00:27<00:00, 17.18it/s]\n",
      "Generating masks: 100%|██████████| 480/480 [00:27<00:00, 17.39it/s]\n",
      "Generating masks: 100%|██████████| 480/480 [00:28<00:00, 17.11it/s]\n",
      "Generating masks: 100%|██████████| 480/480 [00:27<00:00, 17.24it/s]\n",
      "Generating masks: 100%|██████████| 480/480 [00:27<00:00, 17.28it/s]\n",
      "Generating masks: 100%|██████████| 480/480 [00:28<00:00, 17.14it/s]\n",
      "Generating masks: 100%|██████████| 480/480 [00:27<00:00, 17.16it/s]\n",
      "Generating masks: 100%|██████████| 32/32 [00:07<00:00,  4.47it/s]\n",
      "Generating masks:   0%|          | 0/480 [00:00<?, ?it/s]"
     ]
    },
    {
     "name": "stdout",
     "output_type": "stream",
     "text": [
      "generating heatmap #1...\n"
     ]
    },
    {
     "name": "stderr",
     "output_type": "stream",
     "text": [
      "Generating masks: 100%|██████████| 480/480 [00:27<00:00, 17.25it/s]\n",
      "Generating masks: 100%|██████████| 480/480 [00:28<00:00, 17.07it/s]\n",
      "Generating masks: 100%|██████████| 480/480 [00:28<00:00, 17.12it/s]\n",
      "Generating masks: 100%|██████████| 480/480 [00:27<00:00, 17.30it/s]\n",
      "Generating masks: 100%|██████████| 480/480 [00:27<00:00, 17.19it/s]\n",
      "Generating masks: 100%|██████████| 480/480 [00:27<00:00, 17.23it/s]\n",
      "Generating masks: 100%|██████████| 480/480 [00:28<00:00, 17.01it/s]\n",
      "Generating masks: 100%|██████████| 480/480 [00:27<00:00, 17.17it/s]\n",
      "Generating masks: 100%|██████████| 480/480 [00:27<00:00, 17.26it/s]\n",
      "Generating masks: 100%|██████████| 480/480 [00:27<00:00, 17.28it/s]\n",
      "Generating masks: 100%|██████████| 480/480 [00:27<00:00, 17.27it/s]\n",
      "Generating masks: 100%|██████████| 480/480 [00:28<00:00, 17.04it/s]\n",
      "Generating masks: 100%|██████████| 480/480 [00:28<00:00, 17.03it/s]\n",
      "Generating masks: 100%|██████████| 480/480 [00:27<00:00, 17.19it/s]\n",
      "Generating masks: 100%|██████████| 480/480 [00:28<00:00, 16.86it/s]\n",
      "Generating masks: 100%|██████████| 480/480 [00:28<00:00, 16.93it/s]\n",
      "Generating masks: 100%|██████████| 480/480 [00:28<00:00, 16.94it/s]\n",
      "Generating masks: 100%|██████████| 32/32 [00:07<00:00,  4.45it/s]\n"
     ]
    },
    {
     "name": "stdout",
     "output_type": "stream",
     "text": [
      "generating heatmap #2...\n"
     ]
    },
    {
     "name": "stderr",
     "output_type": "stream",
     "text": [
      "Generating masks: 100%|██████████| 480/480 [00:28<00:00, 17.11it/s]\n",
      "Generating masks: 100%|██████████| 480/480 [00:28<00:00, 16.90it/s]\n",
      "Generating masks: 100%|██████████| 480/480 [00:28<00:00, 17.02it/s]\n",
      "Generating masks: 100%|██████████| 480/480 [00:28<00:00, 16.96it/s]\n",
      "Generating masks: 100%|██████████| 480/480 [00:28<00:00, 16.97it/s]\n",
      "Generating masks: 100%|██████████| 480/480 [00:28<00:00, 16.99it/s]\n",
      "Generating masks: 100%|██████████| 480/480 [00:31<00:00, 15.14it/s]\n",
      "Generating masks: 100%|██████████| 480/480 [00:33<00:00, 14.15it/s]\n",
      "Generating masks: 100%|██████████| 480/480 [00:28<00:00, 16.76it/s]\n",
      "Generating masks: 100%|██████████| 480/480 [00:28<00:00, 16.89it/s]\n",
      "Generating masks: 100%|██████████| 480/480 [00:28<00:00, 17.00it/s]\n",
      "Generating masks: 100%|██████████| 480/480 [00:28<00:00, 16.68it/s]\n",
      "Generating masks: 100%|██████████| 480/480 [00:27<00:00, 17.31it/s]\n",
      "Generating masks: 100%|██████████| 480/480 [00:27<00:00, 17.18it/s]\n",
      "Generating masks: 100%|██████████| 480/480 [00:28<00:00, 17.13it/s]\n",
      "Generating masks: 100%|██████████| 480/480 [00:27<00:00, 17.17it/s]\n",
      "Generating masks: 100%|██████████| 480/480 [00:28<00:00, 17.04it/s]\n",
      "Generating masks: 100%|██████████| 32/32 [00:06<00:00,  4.63it/s]\n",
      "Generating masks:   0%|          | 0/480 [00:00<?, ?it/s]"
     ]
    },
    {
     "name": "stdout",
     "output_type": "stream",
     "text": [
      "generating heatmap #3...\n"
     ]
    },
    {
     "name": "stderr",
     "output_type": "stream",
     "text": [
      "Generating masks: 100%|██████████| 480/480 [00:27<00:00, 17.19it/s]\n",
      "Generating masks: 100%|██████████| 480/480 [00:27<00:00, 17.32it/s]\n",
      "Generating masks: 100%|██████████| 480/480 [00:27<00:00, 17.34it/s]\n",
      "Generating masks: 100%|██████████| 480/480 [00:27<00:00, 17.20it/s]\n",
      "Generating masks: 100%|██████████| 480/480 [00:27<00:00, 17.21it/s]\n",
      "Generating masks: 100%|██████████| 480/480 [00:28<00:00, 17.12it/s]\n",
      "Generating masks: 100%|██████████| 480/480 [00:28<00:00, 17.13it/s]\n",
      "Generating masks: 100%|██████████| 480/480 [00:27<00:00, 17.21it/s]\n",
      "Generating masks: 100%|██████████| 480/480 [00:27<00:00, 17.19it/s]\n",
      "Generating masks: 100%|██████████| 480/480 [00:27<00:00, 17.15it/s]\n",
      "Generating masks: 100%|██████████| 480/480 [00:28<00:00, 16.91it/s]\n",
      "Generating masks: 100%|██████████| 480/480 [00:27<00:00, 17.16it/s]\n",
      "Generating masks: 100%|██████████| 480/480 [00:27<00:00, 17.19it/s]\n",
      "Generating masks: 100%|██████████| 480/480 [00:28<00:00, 16.92it/s]\n",
      "Generating masks: 100%|██████████| 480/480 [00:28<00:00, 17.07it/s]\n",
      "Generating masks: 100%|██████████| 480/480 [00:28<00:00, 16.90it/s]\n",
      "Generating masks: 100%|██████████| 480/480 [00:28<00:00, 17.10it/s]\n",
      "Generating masks: 100%|██████████| 32/32 [00:06<00:00,  4.74it/s]\n",
      "Generating masks:   0%|          | 0/480 [00:00<?, ?it/s]"
     ]
    },
    {
     "name": "stdout",
     "output_type": "stream",
     "text": [
      "generating heatmap #4...\n"
     ]
    },
    {
     "name": "stderr",
     "output_type": "stream",
     "text": [
      "Generating masks: 100%|██████████| 480/480 [00:28<00:00, 17.13it/s]\n",
      "Generating masks: 100%|██████████| 480/480 [00:27<00:00, 17.37it/s]\n",
      "Generating masks: 100%|██████████| 480/480 [00:28<00:00, 17.07it/s]\n",
      "Generating masks: 100%|██████████| 480/480 [00:27<00:00, 17.15it/s]\n",
      "Generating masks: 100%|██████████| 480/480 [00:27<00:00, 17.22it/s]\n",
      "Generating masks: 100%|██████████| 480/480 [00:28<00:00, 17.10it/s]\n",
      "Generating masks: 100%|██████████| 480/480 [00:28<00:00, 17.08it/s]\n",
      "Generating masks: 100%|██████████| 480/480 [00:27<00:00, 17.23it/s]\n",
      "Generating masks: 100%|██████████| 480/480 [00:27<00:00, 17.19it/s]\n",
      "Generating masks: 100%|██████████| 480/480 [00:27<00:00, 17.17it/s]\n",
      "Generating masks: 100%|██████████| 480/480 [00:28<00:00, 17.10it/s]\n",
      "Generating masks: 100%|██████████| 480/480 [00:27<00:00, 17.17it/s]\n",
      "Generating masks: 100%|██████████| 480/480 [00:28<00:00, 17.08it/s]\n",
      "Generating masks: 100%|██████████| 480/480 [00:27<00:00, 17.33it/s]\n",
      "Generating masks: 100%|██████████| 480/480 [00:28<00:00, 17.01it/s]\n",
      "Generating masks: 100%|██████████| 480/480 [00:28<00:00, 17.08it/s]\n",
      "Generating masks: 100%|██████████| 480/480 [00:27<00:00, 17.19it/s]\n",
      "Generating masks: 100%|██████████| 32/32 [00:07<00:00,  4.49it/s]\n",
      "Generating masks:   0%|          | 0/480 [00:00<?, ?it/s]"
     ]
    },
    {
     "name": "stdout",
     "output_type": "stream",
     "text": [
      "generating heatmap #5...\n"
     ]
    },
    {
     "name": "stderr",
     "output_type": "stream",
     "text": [
      "Generating masks: 100%|██████████| 480/480 [00:28<00:00, 17.09it/s]\n",
      "Generating masks: 100%|██████████| 480/480 [00:28<00:00, 17.05it/s]\n",
      "Generating masks: 100%|██████████| 480/480 [00:27<00:00, 17.22it/s]\n",
      "Generating masks: 100%|██████████| 480/480 [00:28<00:00, 17.13it/s]\n",
      "Generating masks: 100%|██████████| 480/480 [00:28<00:00, 17.01it/s]\n",
      "Generating masks: 100%|██████████| 480/480 [00:28<00:00, 17.09it/s]\n",
      "Generating masks: 100%|██████████| 480/480 [00:28<00:00, 17.01it/s]\n",
      "Generating masks: 100%|██████████| 480/480 [00:28<00:00, 17.06it/s]\n",
      "Generating masks: 100%|██████████| 480/480 [00:27<00:00, 17.29it/s]\n",
      "Generating masks: 100%|██████████| 480/480 [00:28<00:00, 17.00it/s]\n",
      "Generating masks: 100%|██████████| 480/480 [00:27<00:00, 17.22it/s]\n",
      "Generating masks: 100%|██████████| 480/480 [00:28<00:00, 16.98it/s]\n",
      "Generating masks: 100%|██████████| 480/480 [00:27<00:00, 17.29it/s]\n",
      "Generating masks: 100%|██████████| 480/480 [00:27<00:00, 17.15it/s]\n",
      "Generating masks: 100%|██████████| 480/480 [00:32<00:00, 14.82it/s]\n",
      "Generating masks: 100%|██████████| 480/480 [00:28<00:00, 17.03it/s]\n",
      "Generating masks: 100%|██████████| 480/480 [00:28<00:00, 17.02it/s]\n",
      "Generating masks: 100%|██████████| 32/32 [00:07<00:00,  4.50it/s]\n",
      "Generating masks:   0%|          | 0/480 [00:00<?, ?it/s]"
     ]
    },
    {
     "name": "stdout",
     "output_type": "stream",
     "text": [
      "generating heatmap #6...\n"
     ]
    },
    {
     "name": "stderr",
     "output_type": "stream",
     "text": [
      "Generating masks: 100%|██████████| 480/480 [00:28<00:00, 17.13it/s]\n",
      "Generating masks: 100%|██████████| 480/480 [00:27<00:00, 17.21it/s]\n",
      "Generating masks: 100%|██████████| 480/480 [00:28<00:00, 17.10it/s]\n",
      "Generating masks: 100%|██████████| 480/480 [00:28<00:00, 17.05it/s]\n",
      "Generating masks: 100%|██████████| 480/480 [00:28<00:00, 17.00it/s]\n",
      "Generating masks: 100%|██████████| 480/480 [00:28<00:00, 17.12it/s]\n",
      "Generating masks: 100%|██████████| 480/480 [00:28<00:00, 17.09it/s]\n",
      "Generating masks: 100%|██████████| 480/480 [00:28<00:00, 17.04it/s]\n",
      "Generating masks: 100%|██████████| 480/480 [00:27<00:00, 17.22it/s]\n",
      "Generating masks: 100%|██████████| 480/480 [00:28<00:00, 16.93it/s]\n",
      "Generating masks: 100%|██████████| 480/480 [00:28<00:00, 17.09it/s]\n",
      "Generating masks: 100%|██████████| 480/480 [00:27<00:00, 17.24it/s]\n",
      "Generating masks: 100%|██████████| 480/480 [00:27<00:00, 17.19it/s]\n",
      "Generating masks: 100%|██████████| 480/480 [00:27<00:00, 17.35it/s]\n",
      "Generating masks: 100%|██████████| 480/480 [00:28<00:00, 16.69it/s]\n",
      "Generating masks: 100%|██████████| 480/480 [00:28<00:00, 17.09it/s]\n",
      "Generating masks: 100%|██████████| 480/480 [00:28<00:00, 17.11it/s]\n",
      "Generating masks: 100%|██████████| 32/32 [00:06<00:00,  4.63it/s]\n",
      "Generating masks:   0%|          | 0/480 [00:00<?, ?it/s]"
     ]
    },
    {
     "name": "stdout",
     "output_type": "stream",
     "text": [
      "generating heatmap #7...\n"
     ]
    },
    {
     "name": "stderr",
     "output_type": "stream",
     "text": [
      "Generating masks: 100%|██████████| 480/480 [00:28<00:00, 17.12it/s]\n",
      "Generating masks: 100%|██████████| 480/480 [00:28<00:00, 17.03it/s]\n",
      "Generating masks: 100%|██████████| 480/480 [00:27<00:00, 17.26it/s]\n",
      "Generating masks: 100%|██████████| 480/480 [00:28<00:00, 16.78it/s]\n",
      "Generating masks: 100%|██████████| 480/480 [00:28<00:00, 17.00it/s]\n",
      "Generating masks: 100%|██████████| 480/480 [00:28<00:00, 17.01it/s]\n",
      "Generating masks: 100%|██████████| 480/480 [00:28<00:00, 16.96it/s]\n",
      "Generating masks: 100%|██████████| 480/480 [00:28<00:00, 16.99it/s]\n",
      "Generating masks: 100%|██████████| 480/480 [00:28<00:00, 17.13it/s]\n",
      "Generating masks: 100%|██████████| 480/480 [00:28<00:00, 17.03it/s]\n",
      "Generating masks: 100%|██████████| 480/480 [00:27<00:00, 17.21it/s]\n",
      "Generating masks: 100%|██████████| 480/480 [00:28<00:00, 17.02it/s]\n",
      "Generating masks: 100%|██████████| 480/480 [00:27<00:00, 17.21it/s]\n",
      "Generating masks: 100%|██████████| 480/480 [00:28<00:00, 17.00it/s]\n",
      "Generating masks: 100%|██████████| 480/480 [00:28<00:00, 17.14it/s]\n",
      "Generating masks: 100%|██████████| 480/480 [00:28<00:00, 17.00it/s]\n",
      "Generating masks: 100%|██████████| 480/480 [00:28<00:00, 16.94it/s]\n",
      "Generating masks: 100%|██████████| 32/32 [00:06<00:00,  4.67it/s]\n",
      "Generating masks:   0%|          | 0/480 [00:00<?, ?it/s]"
     ]
    },
    {
     "name": "stdout",
     "output_type": "stream",
     "text": [
      "generating heatmap #8...\n"
     ]
    },
    {
     "name": "stderr",
     "output_type": "stream",
     "text": [
      "Generating masks: 100%|██████████| 480/480 [00:28<00:00, 16.97it/s]\n",
      "Generating masks: 100%|██████████| 480/480 [00:28<00:00, 17.04it/s]\n",
      "Generating masks: 100%|██████████| 480/480 [00:28<00:00, 17.12it/s]\n",
      "Generating masks: 100%|██████████| 480/480 [00:28<00:00, 16.95it/s]\n",
      "Generating masks: 100%|██████████| 480/480 [00:28<00:00, 16.99it/s]\n",
      "Generating masks: 100%|██████████| 480/480 [00:28<00:00, 16.87it/s]\n",
      "Generating masks: 100%|██████████| 480/480 [00:28<00:00, 17.09it/s]\n",
      "Generating masks: 100%|██████████| 480/480 [00:28<00:00, 17.14it/s]\n",
      "Generating masks: 100%|██████████| 480/480 [00:28<00:00, 17.03it/s]\n",
      "Generating masks: 100%|██████████| 480/480 [00:28<00:00, 17.01it/s]\n",
      "Generating masks: 100%|██████████| 480/480 [00:28<00:00, 16.94it/s]\n",
      "Generating masks: 100%|██████████| 480/480 [00:28<00:00, 17.12it/s]\n",
      "Generating masks: 100%|██████████| 480/480 [00:28<00:00, 16.97it/s]\n",
      "Generating masks: 100%|██████████| 480/480 [00:28<00:00, 16.88it/s]\n",
      "Generating masks: 100%|██████████| 480/480 [00:28<00:00, 16.99it/s]\n",
      "Generating masks: 100%|██████████| 480/480 [00:28<00:00, 16.98it/s]\n",
      "Generating masks: 100%|██████████| 480/480 [00:28<00:00, 17.01it/s]\n",
      "Generating masks: 100%|██████████| 32/32 [00:06<00:00,  4.71it/s]\n",
      "Generating masks:   0%|          | 0/480 [00:00<?, ?it/s]"
     ]
    },
    {
     "name": "stdout",
     "output_type": "stream",
     "text": [
      "generating heatmap #9...\n"
     ]
    },
    {
     "name": "stderr",
     "output_type": "stream",
     "text": [
      "Generating masks: 100%|██████████| 480/480 [00:28<00:00, 16.91it/s]\n",
      "Generating masks: 100%|██████████| 480/480 [00:28<00:00, 16.99it/s]\n",
      "Generating masks: 100%|██████████| 480/480 [00:28<00:00, 16.87it/s]\n",
      "Generating masks: 100%|██████████| 480/480 [00:27<00:00, 17.31it/s]\n",
      "Generating masks: 100%|██████████| 480/480 [00:27<00:00, 17.16it/s]\n",
      "Generating masks: 100%|██████████| 480/480 [00:28<00:00, 17.05it/s]\n",
      "Generating masks: 100%|██████████| 480/480 [00:28<00:00, 17.01it/s]\n",
      "Generating masks: 100%|██████████| 480/480 [00:28<00:00, 17.04it/s]\n",
      "Generating masks: 100%|██████████| 480/480 [00:28<00:00, 17.06it/s]\n",
      "Generating masks: 100%|██████████| 480/480 [00:27<00:00, 17.33it/s]\n",
      "Generating masks: 100%|██████████| 480/480 [00:28<00:00, 16.82it/s]\n",
      "Generating masks: 100%|██████████| 480/480 [00:28<00:00, 16.96it/s]\n",
      "Generating masks: 100%|██████████| 480/480 [00:28<00:00, 16.88it/s]\n",
      "Generating masks: 100%|██████████| 480/480 [00:28<00:00, 17.00it/s]\n",
      "Generating masks: 100%|██████████| 480/480 [00:27<00:00, 17.16it/s]\n",
      "Generating masks: 100%|██████████| 480/480 [00:28<00:00, 17.13it/s]\n",
      "Generating masks: 100%|██████████| 480/480 [00:28<00:00, 17.05it/s]\n",
      "Generating masks: 100%|██████████| 32/32 [00:06<00:00,  4.58it/s]\n",
      "Generating masks:   0%|          | 0/480 [00:00<?, ?it/s]"
     ]
    },
    {
     "name": "stdout",
     "output_type": "stream",
     "text": [
      "generating heatmap #10...\n"
     ]
    },
    {
     "name": "stderr",
     "output_type": "stream",
     "text": [
      "Generating masks: 100%|██████████| 480/480 [00:28<00:00, 16.99it/s]\n",
      "Generating masks: 100%|██████████| 480/480 [00:28<00:00, 17.07it/s]\n",
      "Generating masks: 100%|██████████| 480/480 [00:28<00:00, 17.01it/s]\n",
      "Generating masks: 100%|██████████| 480/480 [00:28<00:00, 17.11it/s]\n",
      "Generating masks: 100%|██████████| 480/480 [00:28<00:00, 17.04it/s]\n",
      "Generating masks: 100%|██████████| 480/480 [00:28<00:00, 17.10it/s]\n",
      "Generating masks: 100%|██████████| 480/480 [00:28<00:00, 16.98it/s]\n",
      "Generating masks: 100%|██████████| 480/480 [00:28<00:00, 16.95it/s]\n",
      "Generating masks: 100%|██████████| 480/480 [00:28<00:00, 16.98it/s]\n",
      "Generating masks: 100%|██████████| 480/480 [00:28<00:00, 16.81it/s]\n",
      "Generating masks: 100%|██████████| 480/480 [00:27<00:00, 17.19it/s]\n",
      "Generating masks: 100%|██████████| 480/480 [00:27<00:00, 17.27it/s]\n",
      "Generating masks: 100%|██████████| 480/480 [00:27<00:00, 17.16it/s]\n",
      "Generating masks: 100%|██████████| 480/480 [00:28<00:00, 17.12it/s]\n",
      "Generating masks: 100%|██████████| 480/480 [00:28<00:00, 17.03it/s]\n",
      "Generating masks: 100%|██████████| 480/480 [00:27<00:00, 17.29it/s]\n",
      "Generating masks: 100%|██████████| 480/480 [00:27<00:00, 17.20it/s]\n",
      "Generating masks: 100%|██████████| 32/32 [00:06<00:00,  4.59it/s]\n",
      "Generating masks:   0%|          | 0/480 [00:00<?, ?it/s]"
     ]
    },
    {
     "name": "stdout",
     "output_type": "stream",
     "text": [
      "generating heatmap #11...\n"
     ]
    },
    {
     "name": "stderr",
     "output_type": "stream",
     "text": [
      "Generating masks: 100%|██████████| 480/480 [00:28<00:00, 17.04it/s]\n",
      "Generating masks: 100%|██████████| 480/480 [00:28<00:00, 16.92it/s]\n",
      "Generating masks: 100%|██████████| 480/480 [00:27<00:00, 17.24it/s]\n",
      "Generating masks: 100%|██████████| 480/480 [00:27<00:00, 17.16it/s]\n",
      "Generating masks: 100%|██████████| 480/480 [00:27<00:00, 17.35it/s]\n",
      "Generating masks: 100%|██████████| 480/480 [00:27<00:00, 17.30it/s]\n",
      "Generating masks: 100%|██████████| 480/480 [00:28<00:00, 17.13it/s]\n",
      "Generating masks: 100%|██████████| 480/480 [00:27<00:00, 17.23it/s]\n",
      "Generating masks: 100%|██████████| 480/480 [00:27<00:00, 17.24it/s]\n",
      "Generating masks: 100%|██████████| 480/480 [00:27<00:00, 17.22it/s]\n",
      "Generating masks: 100%|██████████| 480/480 [00:27<00:00, 17.49it/s]\n",
      "Generating masks: 100%|██████████| 480/480 [00:27<00:00, 17.24it/s]\n",
      "Generating masks: 100%|██████████| 480/480 [00:27<00:00, 17.22it/s]\n",
      "Generating masks: 100%|██████████| 480/480 [00:28<00:00, 16.98it/s]\n",
      "Generating masks: 100%|██████████| 480/480 [00:27<00:00, 17.16it/s]\n",
      "Generating masks: 100%|██████████| 480/480 [00:27<00:00, 17.17it/s]\n",
      "Generating masks: 100%|██████████| 480/480 [00:27<00:00, 17.33it/s]\n",
      "Generating masks: 100%|██████████| 32/32 [00:06<00:00,  4.67it/s]\n",
      "Generating masks:   0%|          | 0/480 [00:00<?, ?it/s]"
     ]
    },
    {
     "name": "stdout",
     "output_type": "stream",
     "text": [
      "generating heatmap #12...\n"
     ]
    },
    {
     "name": "stderr",
     "output_type": "stream",
     "text": [
      "Generating masks: 100%|██████████| 480/480 [00:27<00:00, 17.21it/s]\n",
      "Generating masks: 100%|██████████| 480/480 [00:28<00:00, 17.09it/s]\n",
      "Generating masks: 100%|██████████| 480/480 [00:28<00:00, 16.98it/s]\n",
      "Generating masks: 100%|██████████| 480/480 [00:27<00:00, 17.24it/s]\n",
      "Generating masks: 100%|██████████| 480/480 [00:27<00:00, 17.36it/s]\n",
      "Generating masks: 100%|██████████| 480/480 [00:27<00:00, 17.25it/s]\n",
      "Generating masks: 100%|██████████| 480/480 [00:27<00:00, 17.28it/s]\n",
      "Generating masks: 100%|██████████| 480/480 [00:27<00:00, 17.24it/s]\n",
      "Generating masks: 100%|██████████| 480/480 [00:27<00:00, 17.26it/s]\n",
      "Generating masks: 100%|██████████| 480/480 [00:28<00:00, 17.13it/s]\n",
      "Generating masks: 100%|██████████| 480/480 [00:28<00:00, 17.10it/s]\n",
      "Generating masks: 100%|██████████| 480/480 [00:28<00:00, 16.89it/s]\n",
      "Generating masks: 100%|██████████| 480/480 [00:28<00:00, 16.77it/s]\n",
      "Generating masks: 100%|██████████| 480/480 [00:28<00:00, 17.13it/s]\n",
      "Generating masks: 100%|██████████| 480/480 [00:27<00:00, 17.18it/s]\n",
      "Generating masks: 100%|██████████| 480/480 [00:28<00:00, 17.02it/s]\n",
      "Generating masks: 100%|██████████| 480/480 [00:35<00:00, 13.44it/s]\n",
      "Generating masks: 100%|██████████| 32/32 [00:10<00:00,  3.19it/s]\n",
      "Generating masks:   0%|          | 0/480 [00:00<?, ?it/s]"
     ]
    },
    {
     "name": "stdout",
     "output_type": "stream",
     "text": [
      "generating heatmap #13...\n"
     ]
    },
    {
     "name": "stderr",
     "output_type": "stream",
     "text": [
      "Generating masks: 100%|██████████| 480/480 [00:30<00:00, 15.63it/s]\n",
      "Generating masks: 100%|██████████| 480/480 [00:29<00:00, 16.51it/s]\n",
      "Generating masks: 100%|██████████| 480/480 [00:28<00:00, 16.88it/s]\n",
      "Generating masks: 100%|██████████| 480/480 [00:28<00:00, 16.77it/s]\n",
      "Generating masks: 100%|██████████| 480/480 [00:28<00:00, 16.79it/s]\n",
      "Generating masks: 100%|██████████| 480/480 [00:28<00:00, 17.11it/s]\n",
      "Generating masks: 100%|██████████| 480/480 [00:28<00:00, 16.92it/s]\n",
      "Generating masks: 100%|██████████| 480/480 [00:28<00:00, 16.87it/s]\n",
      "Generating masks: 100%|██████████| 480/480 [00:28<00:00, 16.98it/s]\n",
      "Generating masks: 100%|██████████| 480/480 [00:28<00:00, 17.03it/s]\n",
      "Generating masks: 100%|██████████| 480/480 [00:28<00:00, 16.87it/s]\n",
      "Generating masks: 100%|██████████| 480/480 [00:27<00:00, 17.17it/s]\n",
      "Generating masks: 100%|██████████| 480/480 [00:28<00:00, 16.99it/s]\n",
      "Generating masks: 100%|██████████| 480/480 [00:30<00:00, 15.57it/s]\n",
      "Generating masks: 100%|██████████| 480/480 [00:34<00:00, 14.10it/s]\n",
      "Generating masks: 100%|██████████| 480/480 [00:31<00:00, 15.41it/s]\n",
      "Generating masks: 100%|██████████| 480/480 [00:28<00:00, 17.05it/s]\n",
      "Generating masks: 100%|██████████| 32/32 [00:07<00:00,  4.51it/s]\n",
      "Generating masks:   0%|          | 0/480 [00:00<?, ?it/s]"
     ]
    },
    {
     "name": "stdout",
     "output_type": "stream",
     "text": [
      "generating heatmap #14...\n"
     ]
    },
    {
     "name": "stderr",
     "output_type": "stream",
     "text": [
      "Generating masks: 100%|██████████| 480/480 [00:28<00:00, 17.07it/s]\n",
      "Generating masks: 100%|██████████| 480/480 [00:28<00:00, 16.94it/s]\n",
      "Generating masks: 100%|██████████| 480/480 [00:27<00:00, 17.19it/s]\n",
      "Generating masks: 100%|██████████| 480/480 [00:27<00:00, 17.31it/s]\n",
      "Generating masks: 100%|██████████| 480/480 [00:28<00:00, 16.99it/s]\n",
      "Generating masks: 100%|██████████| 480/480 [00:28<00:00, 17.14it/s]\n",
      "Generating masks: 100%|██████████| 480/480 [00:28<00:00, 17.07it/s]\n",
      "Generating masks: 100%|██████████| 480/480 [00:28<00:00, 17.05it/s]\n",
      "Generating masks: 100%|██████████| 480/480 [00:28<00:00, 17.12it/s]\n",
      "Generating masks: 100%|██████████| 480/480 [00:28<00:00, 16.87it/s]\n",
      "Generating masks: 100%|██████████| 480/480 [00:28<00:00, 17.04it/s]\n",
      "Generating masks: 100%|██████████| 480/480 [00:28<00:00, 16.90it/s]\n",
      "Generating masks: 100%|██████████| 480/480 [00:28<00:00, 16.96it/s]\n",
      "Generating masks: 100%|██████████| 480/480 [00:28<00:00, 17.06it/s]\n",
      "Generating masks: 100%|██████████| 480/480 [00:28<00:00, 16.84it/s]\n",
      "Generating masks: 100%|██████████| 480/480 [00:28<00:00, 17.01it/s]\n",
      "Generating masks: 100%|██████████| 480/480 [00:28<00:00, 17.07it/s]\n",
      "Generating masks: 100%|██████████| 32/32 [00:06<00:00,  4.61it/s]\n"
     ]
    },
    {
     "name": "stdout",
     "output_type": "stream",
     "text": [
      "generating heatmap #15...\n"
     ]
    },
    {
     "name": "stderr",
     "output_type": "stream",
     "text": [
      "Generating masks: 100%|██████████| 480/480 [00:27<00:00, 17.17it/s]\n",
      "Generating masks: 100%|██████████| 480/480 [00:28<00:00, 17.06it/s]\n",
      "Generating masks: 100%|██████████| 480/480 [00:28<00:00, 17.11it/s]\n",
      "Generating masks: 100%|██████████| 480/480 [00:28<00:00, 17.03it/s]\n",
      "Generating masks: 100%|██████████| 480/480 [00:28<00:00, 17.14it/s]\n",
      "Generating masks: 100%|██████████| 480/480 [00:28<00:00, 17.05it/s]\n",
      "Generating masks: 100%|██████████| 480/480 [00:27<00:00, 17.33it/s]\n",
      "Generating masks: 100%|██████████| 480/480 [00:28<00:00, 17.11it/s]\n",
      "Generating masks: 100%|██████████| 480/480 [00:28<00:00, 16.95it/s]\n",
      "Generating masks: 100%|██████████| 480/480 [00:28<00:00, 17.12it/s]\n",
      "Generating masks: 100%|██████████| 480/480 [00:28<00:00, 17.12it/s]\n",
      "Generating masks: 100%|██████████| 480/480 [00:28<00:00, 17.01it/s]\n",
      "Generating masks: 100%|██████████| 480/480 [00:27<00:00, 17.34it/s]\n",
      "Generating masks: 100%|██████████| 480/480 [00:28<00:00, 17.13it/s]\n",
      "Generating masks: 100%|██████████| 480/480 [00:27<00:00, 17.15it/s]\n",
      "Generating masks: 100%|██████████| 480/480 [00:27<00:00, 17.23it/s]\n",
      "Generating masks: 100%|██████████| 480/480 [00:28<00:00, 17.00it/s]\n",
      "Generating masks: 100%|██████████| 32/32 [00:06<00:00,  4.63it/s]\n",
      "Generating masks:   0%|          | 0/480 [00:00<?, ?it/s]"
     ]
    },
    {
     "name": "stdout",
     "output_type": "stream",
     "text": [
      "generating heatmap #16...\n"
     ]
    },
    {
     "name": "stderr",
     "output_type": "stream",
     "text": [
      "Generating masks: 100%|██████████| 480/480 [00:28<00:00, 17.10it/s]\n",
      "Generating masks: 100%|██████████| 480/480 [00:28<00:00, 17.10it/s]\n",
      "Generating masks: 100%|██████████| 480/480 [00:28<00:00, 17.13it/s]\n",
      "Generating masks: 100%|██████████| 480/480 [00:28<00:00, 17.08it/s]\n",
      "Generating masks: 100%|██████████| 480/480 [00:27<00:00, 17.19it/s]\n",
      "Generating masks: 100%|██████████| 480/480 [00:28<00:00, 16.88it/s]\n",
      "Generating masks: 100%|██████████| 480/480 [00:28<00:00, 17.03it/s]\n",
      "Generating masks: 100%|██████████| 480/480 [00:28<00:00, 17.06it/s]\n",
      "Generating masks: 100%|██████████| 480/480 [00:28<00:00, 16.89it/s]\n",
      "Generating masks: 100%|██████████| 480/480 [00:28<00:00, 16.88it/s]\n",
      "Generating masks: 100%|██████████| 480/480 [00:28<00:00, 16.77it/s]\n",
      "Generating masks: 100%|██████████| 480/480 [00:28<00:00, 16.98it/s]\n",
      "Generating masks: 100%|██████████| 480/480 [00:28<00:00, 17.09it/s]\n",
      "Generating masks: 100%|██████████| 480/480 [00:28<00:00, 16.55it/s]\n",
      "Generating masks: 100%|██████████| 480/480 [00:28<00:00, 17.04it/s]\n",
      "Generating masks: 100%|██████████| 480/480 [00:28<00:00, 17.06it/s]\n",
      "Generating masks: 100%|██████████| 480/480 [00:28<00:00, 17.01it/s]\n",
      "Generating masks: 100%|██████████| 32/32 [00:06<00:00,  4.65it/s]\n",
      "Generating masks:   0%|          | 0/480 [00:00<?, ?it/s]"
     ]
    },
    {
     "name": "stdout",
     "output_type": "stream",
     "text": [
      "generating heatmap #17...\n"
     ]
    },
    {
     "name": "stderr",
     "output_type": "stream",
     "text": [
      "Generating masks: 100%|██████████| 480/480 [00:28<00:00, 17.06it/s]\n",
      "Generating masks: 100%|██████████| 480/480 [00:27<00:00, 17.22it/s]\n",
      "Generating masks: 100%|██████████| 480/480 [00:28<00:00, 16.96it/s]\n",
      "Generating masks: 100%|██████████| 480/480 [00:28<00:00, 16.99it/s]\n",
      "Generating masks: 100%|██████████| 480/480 [00:28<00:00, 17.01it/s]\n",
      "Generating masks: 100%|██████████| 480/480 [00:28<00:00, 16.95it/s]\n",
      "Generating masks: 100%|██████████| 480/480 [00:28<00:00, 16.89it/s]\n",
      "Generating masks: 100%|██████████| 480/480 [00:28<00:00, 17.07it/s]\n",
      "Generating masks: 100%|██████████| 480/480 [00:28<00:00, 16.82it/s]\n",
      "Generating masks: 100%|██████████| 480/480 [00:28<00:00, 17.02it/s]\n",
      "Generating masks: 100%|██████████| 480/480 [00:28<00:00, 16.81it/s]\n",
      "Generating masks: 100%|██████████| 480/480 [00:28<00:00, 17.02it/s]\n",
      "Generating masks: 100%|██████████| 480/480 [00:28<00:00, 17.00it/s]\n",
      "Generating masks: 100%|██████████| 480/480 [00:28<00:00, 17.14it/s]\n",
      "Generating masks: 100%|██████████| 480/480 [00:28<00:00, 17.04it/s]\n",
      "Generating masks: 100%|██████████| 480/480 [00:28<00:00, 17.09it/s]\n",
      "Generating masks: 100%|██████████| 480/480 [00:28<00:00, 17.13it/s]\n",
      "Generating masks: 100%|██████████| 32/32 [00:06<00:00,  4.65it/s]\n",
      "Generating masks:   0%|          | 0/480 [00:00<?, ?it/s]"
     ]
    },
    {
     "name": "stdout",
     "output_type": "stream",
     "text": [
      "generating heatmap #18...\n"
     ]
    },
    {
     "name": "stderr",
     "output_type": "stream",
     "text": [
      "Generating masks: 100%|██████████| 480/480 [00:27<00:00, 17.15it/s]\n",
      "Generating masks: 100%|██████████| 480/480 [00:27<00:00, 17.20it/s]\n",
      "Generating masks: 100%|██████████| 480/480 [00:28<00:00, 16.96it/s]\n",
      "Generating masks: 100%|██████████| 480/480 [00:28<00:00, 17.12it/s]\n",
      "Generating masks: 100%|██████████| 480/480 [00:27<00:00, 17.26it/s]\n",
      "Generating masks: 100%|██████████| 480/480 [00:28<00:00, 17.09it/s]\n",
      "Generating masks: 100%|██████████| 480/480 [00:28<00:00, 17.04it/s]\n",
      "Generating masks: 100%|██████████| 480/480 [00:28<00:00, 16.91it/s]\n",
      "Generating masks: 100%|██████████| 480/480 [00:28<00:00, 17.09it/s]\n",
      "Generating masks: 100%|██████████| 480/480 [00:28<00:00, 17.14it/s]\n",
      "Generating masks: 100%|██████████| 480/480 [00:28<00:00, 16.97it/s]\n",
      "Generating masks: 100%|██████████| 480/480 [00:28<00:00, 16.92it/s]\n",
      "Generating masks: 100%|██████████| 480/480 [00:28<00:00, 17.01it/s]\n",
      "Generating masks: 100%|██████████| 480/480 [00:28<00:00, 16.90it/s]\n",
      "Generating masks: 100%|██████████| 480/480 [00:27<00:00, 17.19it/s]\n",
      "Generating masks: 100%|██████████| 480/480 [00:28<00:00, 16.93it/s]\n",
      "Generating masks: 100%|██████████| 480/480 [00:28<00:00, 16.98it/s]\n",
      "Generating masks: 100%|██████████| 32/32 [00:06<00:00,  4.69it/s]\n",
      "Generating masks:   0%|          | 0/480 [00:00<?, ?it/s]"
     ]
    },
    {
     "name": "stdout",
     "output_type": "stream",
     "text": [
      "generating heatmap #19...\n"
     ]
    },
    {
     "name": "stderr",
     "output_type": "stream",
     "text": [
      "Generating masks: 100%|██████████| 480/480 [00:28<00:00, 17.04it/s]\n",
      "Generating masks: 100%|██████████| 480/480 [00:28<00:00, 16.98it/s]\n",
      "Generating masks: 100%|██████████| 480/480 [00:27<00:00, 17.17it/s]\n",
      "Generating masks: 100%|██████████| 480/480 [00:28<00:00, 17.13it/s]\n",
      "Generating masks: 100%|██████████| 480/480 [00:28<00:00, 16.79it/s]\n",
      "Generating masks: 100%|██████████| 480/480 [00:28<00:00, 16.88it/s]\n",
      "Generating masks: 100%|██████████| 480/480 [00:28<00:00, 16.85it/s]\n",
      "Generating masks: 100%|██████████| 480/480 [00:28<00:00, 16.98it/s]\n",
      "Generating masks: 100%|██████████| 480/480 [00:27<00:00, 17.26it/s]\n",
      "Generating masks: 100%|██████████| 480/480 [00:28<00:00, 17.11it/s]\n",
      "Generating masks: 100%|██████████| 480/480 [00:28<00:00, 16.86it/s]\n",
      "Generating masks: 100%|██████████| 480/480 [00:28<00:00, 17.00it/s]\n",
      "Generating masks: 100%|██████████| 480/480 [00:28<00:00, 16.83it/s]\n",
      "Generating masks: 100%|██████████| 480/480 [00:28<00:00, 17.05it/s]\n",
      "Generating masks: 100%|██████████| 480/480 [00:27<00:00, 17.24it/s]\n",
      "Generating masks: 100%|██████████| 480/480 [00:28<00:00, 16.88it/s]\n",
      "Generating masks: 100%|██████████| 480/480 [00:28<00:00, 16.90it/s]\n",
      "Generating masks: 100%|██████████| 32/32 [00:07<00:00,  4.54it/s]\n",
      "Generating masks:   0%|          | 0/480 [00:00<?, ?it/s]"
     ]
    },
    {
     "name": "stdout",
     "output_type": "stream",
     "text": [
      "generating heatmap #20...\n"
     ]
    },
    {
     "name": "stderr",
     "output_type": "stream",
     "text": [
      "Generating masks: 100%|██████████| 480/480 [00:28<00:00, 17.09it/s]\n",
      "Generating masks: 100%|██████████| 480/480 [00:28<00:00, 16.94it/s]\n",
      "Generating masks: 100%|██████████| 480/480 [00:28<00:00, 17.04it/s]\n",
      "Generating masks: 100%|██████████| 480/480 [00:27<00:00, 17.21it/s]\n",
      "Generating masks: 100%|██████████| 480/480 [00:28<00:00, 16.97it/s]\n",
      "Generating masks: 100%|██████████| 480/480 [00:27<00:00, 17.24it/s]\n",
      "Generating masks: 100%|██████████| 480/480 [00:28<00:00, 17.06it/s]\n",
      "Generating masks: 100%|██████████| 480/480 [00:28<00:00, 17.13it/s]\n",
      "Generating masks: 100%|██████████| 480/480 [00:28<00:00, 17.04it/s]\n",
      "Generating masks: 100%|██████████| 480/480 [00:29<00:00, 16.50it/s]\n",
      "Generating masks: 100%|██████████| 480/480 [00:28<00:00, 16.90it/s]\n",
      "Generating masks: 100%|██████████| 480/480 [00:28<00:00, 16.98it/s]\n",
      "Generating masks: 100%|██████████| 480/480 [00:28<00:00, 17.05it/s]\n",
      "Generating masks: 100%|██████████| 480/480 [00:28<00:00, 17.11it/s]\n",
      "Generating masks: 100%|██████████| 480/480 [00:29<00:00, 16.27it/s]\n",
      "Generating masks: 100%|██████████| 480/480 [00:28<00:00, 16.63it/s]\n",
      "Generating masks: 100%|██████████| 480/480 [00:28<00:00, 16.97it/s]\n",
      "Generating masks: 100%|██████████| 32/32 [00:06<00:00,  4.59it/s]\n",
      "Generating masks:   0%|          | 0/480 [00:00<?, ?it/s]"
     ]
    },
    {
     "name": "stdout",
     "output_type": "stream",
     "text": [
      "generating heatmap #21...\n"
     ]
    },
    {
     "name": "stderr",
     "output_type": "stream",
     "text": [
      "Generating masks: 100%|██████████| 480/480 [00:28<00:00, 16.93it/s]\n",
      "Generating masks: 100%|██████████| 480/480 [00:28<00:00, 16.94it/s]\n",
      "Generating masks: 100%|██████████| 480/480 [00:28<00:00, 16.83it/s]\n",
      "Generating masks: 100%|██████████| 480/480 [00:27<00:00, 17.23it/s]\n",
      "Generating masks: 100%|██████████| 480/480 [00:28<00:00, 17.01it/s]\n",
      "Generating masks: 100%|██████████| 480/480 [00:28<00:00, 16.90it/s]\n",
      "Generating masks: 100%|██████████| 480/480 [00:28<00:00, 16.98it/s]\n",
      "Generating masks: 100%|██████████| 480/480 [00:28<00:00, 16.91it/s]\n",
      "Generating masks: 100%|██████████| 480/480 [00:28<00:00, 17.10it/s]\n",
      "Generating masks: 100%|██████████| 480/480 [00:29<00:00, 16.16it/s]\n",
      "Generating masks: 100%|██████████| 480/480 [00:28<00:00, 16.77it/s]\n",
      "Generating masks: 100%|██████████| 480/480 [00:28<00:00, 17.01it/s]\n",
      "Generating masks: 100%|██████████| 480/480 [00:28<00:00, 16.89it/s]\n",
      "Generating masks: 100%|██████████| 480/480 [00:29<00:00, 16.37it/s]\n",
      "Generating masks: 100%|██████████| 480/480 [00:29<00:00, 16.44it/s]\n",
      "Generating masks: 100%|██████████| 480/480 [00:27<00:00, 17.22it/s]\n",
      "Generating masks: 100%|██████████| 480/480 [00:27<00:00, 17.18it/s]\n",
      "Generating masks: 100%|██████████| 32/32 [00:06<00:00,  4.65it/s]\n",
      "Generating masks:   0%|          | 0/480 [00:00<?, ?it/s]"
     ]
    },
    {
     "name": "stdout",
     "output_type": "stream",
     "text": [
      "generating heatmap #22...\n"
     ]
    },
    {
     "name": "stderr",
     "output_type": "stream",
     "text": [
      "Generating masks: 100%|██████████| 480/480 [00:28<00:00, 16.98it/s]\n",
      "Generating masks: 100%|██████████| 480/480 [00:28<00:00, 17.06it/s]\n",
      "Generating masks: 100%|██████████| 480/480 [00:28<00:00, 16.75it/s]\n",
      "Generating masks: 100%|██████████| 480/480 [00:28<00:00, 16.71it/s]\n",
      "Generating masks: 100%|██████████| 480/480 [00:28<00:00, 17.10it/s]\n",
      "Generating masks: 100%|██████████| 480/480 [00:28<00:00, 16.90it/s]\n",
      "Generating masks: 100%|██████████| 480/480 [00:28<00:00, 17.03it/s]\n",
      "Generating masks: 100%|██████████| 480/480 [00:28<00:00, 16.95it/s]\n",
      "Generating masks: 100%|██████████| 480/480 [00:28<00:00, 17.02it/s]\n",
      "Generating masks: 100%|██████████| 480/480 [00:28<00:00, 16.82it/s]\n",
      "Generating masks: 100%|██████████| 480/480 [00:28<00:00, 16.85it/s]\n",
      "Generating masks: 100%|██████████| 480/480 [00:28<00:00, 16.83it/s]\n",
      "Generating masks: 100%|██████████| 480/480 [00:28<00:00, 17.11it/s]\n",
      "Generating masks: 100%|██████████| 480/480 [00:28<00:00, 17.06it/s]\n",
      "Generating masks: 100%|██████████| 480/480 [00:28<00:00, 16.89it/s]\n",
      "Generating masks: 100%|██████████| 480/480 [00:28<00:00, 16.94it/s]\n",
      "Generating masks: 100%|██████████| 480/480 [00:28<00:00, 16.91it/s]\n",
      "Generating masks: 100%|██████████| 32/32 [00:06<00:00,  4.59it/s]\n",
      "Generating masks:   0%|          | 0/480 [00:00<?, ?it/s]"
     ]
    },
    {
     "name": "stdout",
     "output_type": "stream",
     "text": [
      "generating heatmap #23...\n"
     ]
    },
    {
     "name": "stderr",
     "output_type": "stream",
     "text": [
      "Generating masks: 100%|██████████| 480/480 [00:28<00:00, 16.87it/s]\n",
      "Generating masks: 100%|██████████| 480/480 [00:27<00:00, 17.16it/s]\n",
      "Generating masks: 100%|██████████| 480/480 [00:27<00:00, 17.19it/s]\n",
      "Generating masks: 100%|██████████| 480/480 [00:28<00:00, 17.07it/s]\n",
      "Generating masks: 100%|██████████| 480/480 [00:28<00:00, 16.81it/s]\n",
      "Generating masks: 100%|██████████| 480/480 [00:28<00:00, 16.94it/s]\n",
      "Generating masks: 100%|██████████| 480/480 [00:33<00:00, 14.39it/s]\n",
      "Generating masks: 100%|██████████| 480/480 [00:28<00:00, 16.96it/s]\n",
      "Generating masks: 100%|██████████| 480/480 [00:28<00:00, 16.91it/s]\n",
      "Generating masks: 100%|██████████| 480/480 [00:28<00:00, 16.92it/s]\n",
      "Generating masks: 100%|██████████| 480/480 [00:34<00:00, 14.06it/s]\n",
      "Generating masks: 100%|██████████| 480/480 [00:28<00:00, 17.02it/s]\n",
      "Generating masks: 100%|██████████| 480/480 [00:28<00:00, 16.89it/s]\n",
      "Generating masks: 100%|██████████| 480/480 [00:28<00:00, 16.90it/s]\n",
      "Generating masks: 100%|██████████| 480/480 [00:28<00:00, 16.98it/s]\n",
      "Generating masks: 100%|██████████| 480/480 [00:28<00:00, 16.90it/s]\n",
      "Generating masks: 100%|██████████| 480/480 [00:33<00:00, 14.34it/s]\n",
      "Generating masks: 100%|██████████| 32/32 [00:06<00:00,  4.67it/s]\n",
      "Generating masks:   0%|          | 0/480 [00:00<?, ?it/s]"
     ]
    },
    {
     "name": "stdout",
     "output_type": "stream",
     "text": [
      "generating heatmap #24...\n"
     ]
    },
    {
     "name": "stderr",
     "output_type": "stream",
     "text": [
      "Generating masks: 100%|██████████| 480/480 [00:28<00:00, 16.92it/s]\n",
      "Generating masks: 100%|██████████| 480/480 [00:28<00:00, 16.99it/s]\n",
      "Generating masks: 100%|██████████| 480/480 [00:29<00:00, 16.29it/s]\n",
      "Generating masks: 100%|██████████| 480/480 [00:28<00:00, 17.00it/s]\n",
      "Generating masks: 100%|██████████| 480/480 [00:28<00:00, 16.79it/s]\n",
      "Generating masks: 100%|██████████| 480/480 [00:27<00:00, 17.17it/s]\n",
      "Generating masks: 100%|██████████| 480/480 [00:28<00:00, 17.11it/s]\n",
      "Generating masks: 100%|██████████| 480/480 [00:28<00:00, 16.88it/s]\n",
      "Generating masks: 100%|██████████| 480/480 [00:28<00:00, 16.90it/s]\n",
      "Generating masks: 100%|██████████| 480/480 [00:28<00:00, 17.04it/s]\n",
      "Generating masks: 100%|██████████| 480/480 [00:28<00:00, 17.00it/s]\n",
      "Generating masks: 100%|██████████| 480/480 [00:28<00:00, 17.10it/s]\n",
      "Generating masks: 100%|██████████| 480/480 [00:28<00:00, 17.14it/s]\n",
      "Generating masks: 100%|██████████| 480/480 [00:28<00:00, 17.04it/s]\n",
      "Generating masks: 100%|██████████| 480/480 [00:28<00:00, 17.08it/s]\n",
      "Generating masks: 100%|██████████| 480/480 [00:28<00:00, 17.14it/s]\n",
      "Generating masks: 100%|██████████| 480/480 [00:28<00:00, 16.75it/s]\n",
      "Generating masks: 100%|██████████| 32/32 [00:06<00:00,  4.61it/s]\n"
     ]
    },
    {
     "name": "stdout",
     "output_type": "stream",
     "text": [
      "result for 8192 masks (t: 5:00:59)\n",
      "\tmean std: 0.002728395932053344\n",
      "\tmin std: 0.0011858847650701506\n",
      "\tmax std: 0.004137537421975953\n",
      "\tstd std: 0.00039031023599813244\n",
      "saving std_heatmaps to ../../../../tmp\\risei-stability\\1616674352_m8192.npy ...\n"
     ]
    }
   ],
   "source": [
    "experiments = 25\n",
    "masks_counts = [6144, 8192]\n",
    "\n",
    "run(experiments, masks_counts)"
   ]
  },
  {
   "cell_type": "code",
   "execution_count": 15,
   "metadata": {},
   "outputs": [
    {
     "name": "stderr",
     "output_type": "stream",
     "text": [
      "\r",
      "Generating masks:   0%|          | 0/480 [00:00<?, ?it/s]"
     ]
    },
    {
     "name": "stdout",
     "output_type": "stream",
     "text": [
      "generating 15x 16384 masks...\n",
      "generating heatmap #0...\n"
     ]
    },
    {
     "name": "stderr",
     "output_type": "stream",
     "text": [
      "Generating masks: 100%|██████████| 480/480 [00:28<00:00, 17.02it/s]\n",
      "Generating masks: 100%|██████████| 480/480 [00:27<00:00, 17.34it/s]\n",
      "Generating masks: 100%|██████████| 480/480 [00:25<00:00, 18.75it/s]\n",
      "Generating masks: 100%|██████████| 480/480 [00:25<00:00, 18.94it/s]\n",
      "Generating masks: 100%|██████████| 480/480 [00:25<00:00, 18.95it/s]\n",
      "Generating masks: 100%|██████████| 480/480 [00:25<00:00, 18.98it/s]\n",
      "Generating masks: 100%|██████████| 480/480 [00:25<00:00, 19.03it/s]\n",
      "Generating masks: 100%|██████████| 480/480 [00:25<00:00, 18.97it/s]\n",
      "Generating masks: 100%|██████████| 480/480 [00:25<00:00, 18.95it/s]\n",
      "Generating masks: 100%|██████████| 480/480 [00:25<00:00, 18.87it/s]\n",
      "Generating masks: 100%|██████████| 480/480 [00:25<00:00, 19.07it/s]\n",
      "Generating masks: 100%|██████████| 480/480 [00:25<00:00, 19.19it/s]\n",
      "Generating masks: 100%|██████████| 480/480 [00:25<00:00, 19.10it/s]\n",
      "Generating masks: 100%|██████████| 480/480 [00:25<00:00, 19.09it/s]\n",
      "Generating masks: 100%|██████████| 480/480 [00:25<00:00, 18.82it/s]\n",
      "Generating masks: 100%|██████████| 480/480 [00:25<00:00, 19.01it/s]\n",
      "Generating masks: 100%|██████████| 480/480 [00:25<00:00, 19.08it/s]\n",
      "Generating masks: 100%|██████████| 480/480 [00:25<00:00, 19.13it/s]\n",
      "Generating masks: 100%|██████████| 480/480 [00:25<00:00, 19.07it/s]\n",
      "Generating masks: 100%|██████████| 480/480 [00:25<00:00, 19.01it/s]\n",
      "Generating masks: 100%|██████████| 480/480 [00:25<00:00, 18.88it/s]\n",
      "Generating masks: 100%|██████████| 480/480 [00:25<00:00, 19.13it/s]\n",
      "Generating masks: 100%|██████████| 480/480 [00:25<00:00, 19.13it/s]\n",
      "Generating masks: 100%|██████████| 480/480 [00:24<00:00, 19.26it/s]\n",
      "Generating masks: 100%|██████████| 480/480 [00:25<00:00, 19.01it/s]\n",
      "Generating masks: 100%|██████████| 480/480 [00:25<00:00, 19.14it/s]\n",
      "Generating masks: 100%|██████████| 480/480 [00:25<00:00, 18.92it/s]\n",
      "Generating masks: 100%|██████████| 480/480 [00:25<00:00, 19.11it/s]\n",
      "Generating masks: 100%|██████████| 480/480 [00:25<00:00, 19.12it/s]\n",
      "Generating masks: 100%|██████████| 480/480 [00:25<00:00, 19.19it/s]\n",
      "Generating masks: 100%|██████████| 480/480 [00:25<00:00, 19.17it/s]\n",
      "Generating masks: 100%|██████████| 480/480 [00:25<00:00, 18.99it/s]\n",
      "Generating masks: 100%|██████████| 480/480 [00:25<00:00, 18.88it/s]\n",
      "Generating masks: 100%|██████████| 480/480 [00:25<00:00, 19.02it/s]\n",
      "Generating masks: 100%|██████████| 64/64 [00:05<00:00, 12.28it/s]\n",
      "Generating masks:   0%|          | 0/480 [00:00<?, ?it/s]"
     ]
    },
    {
     "name": "stdout",
     "output_type": "stream",
     "text": [
      "generating heatmap #1...\n"
     ]
    },
    {
     "name": "stderr",
     "output_type": "stream",
     "text": [
      "Generating masks: 100%|██████████| 480/480 [00:25<00:00, 19.11it/s]\n",
      "Generating masks: 100%|██████████| 480/480 [00:25<00:00, 19.03it/s]\n",
      "Generating masks: 100%|██████████| 480/480 [00:25<00:00, 19.15it/s]\n",
      "Generating masks: 100%|██████████| 480/480 [00:25<00:00, 19.04it/s]\n",
      "Generating masks: 100%|██████████| 480/480 [00:25<00:00, 19.13it/s]\n",
      "Generating masks: 100%|██████████| 480/480 [00:24<00:00, 19.21it/s]\n",
      "Generating masks: 100%|██████████| 480/480 [00:25<00:00, 19.07it/s]\n",
      "Generating masks: 100%|██████████| 480/480 [00:24<00:00, 19.20it/s]\n",
      "Generating masks: 100%|██████████| 480/480 [00:25<00:00, 19.02it/s]\n",
      "Generating masks: 100%|██████████| 480/480 [00:25<00:00, 19.12it/s]\n",
      "Generating masks: 100%|██████████| 480/480 [00:25<00:00, 19.02it/s]\n",
      "Generating masks: 100%|██████████| 480/480 [00:25<00:00, 18.93it/s]\n",
      "Generating masks: 100%|██████████| 480/480 [00:25<00:00, 19.04it/s]\n",
      "Generating masks: 100%|██████████| 480/480 [00:25<00:00, 19.11it/s]\n",
      "Generating masks: 100%|██████████| 480/480 [00:25<00:00, 19.04it/s]\n",
      "Generating masks: 100%|██████████| 480/480 [00:25<00:00, 19.04it/s]\n",
      "Generating masks: 100%|██████████| 480/480 [00:25<00:00, 19.17it/s]\n",
      "Generating masks: 100%|██████████| 480/480 [00:25<00:00, 19.13it/s]\n",
      "Generating masks: 100%|██████████| 480/480 [00:25<00:00, 19.12it/s]\n",
      "Generating masks: 100%|██████████| 480/480 [00:25<00:00, 19.18it/s]\n",
      "Generating masks: 100%|██████████| 480/480 [00:25<00:00, 18.82it/s]\n",
      "Generating masks: 100%|██████████| 480/480 [00:25<00:00, 19.02it/s]\n",
      "Generating masks: 100%|██████████| 480/480 [00:25<00:00, 19.09it/s]\n",
      "Generating masks: 100%|██████████| 480/480 [00:25<00:00, 19.10it/s]\n",
      "Generating masks: 100%|██████████| 480/480 [00:25<00:00, 19.13it/s]\n",
      "Generating masks: 100%|██████████| 480/480 [00:25<00:00, 19.05it/s]\n",
      "Generating masks: 100%|██████████| 480/480 [00:25<00:00, 19.00it/s]\n",
      "Generating masks: 100%|██████████| 480/480 [00:25<00:00, 19.00it/s]\n",
      "Generating masks: 100%|██████████| 480/480 [00:25<00:00, 19.08it/s]\n",
      "Generating masks: 100%|██████████| 480/480 [00:25<00:00, 19.15it/s]\n",
      "Generating masks: 100%|██████████| 480/480 [00:25<00:00, 19.10it/s]\n",
      "Generating masks: 100%|██████████| 480/480 [00:25<00:00, 19.03it/s]\n",
      "Generating masks: 100%|██████████| 480/480 [00:25<00:00, 18.93it/s]\n",
      "Generating masks: 100%|██████████| 480/480 [00:25<00:00, 18.94it/s]\n",
      "Generating masks: 100%|██████████| 64/64 [00:05<00:00, 12.29it/s]\n",
      "Generating masks:   0%|          | 0/480 [00:00<?, ?it/s]"
     ]
    },
    {
     "name": "stdout",
     "output_type": "stream",
     "text": [
      "generating heatmap #2...\n"
     ]
    },
    {
     "name": "stderr",
     "output_type": "stream",
     "text": [
      "Generating masks: 100%|██████████| 480/480 [00:25<00:00, 18.99it/s]\n",
      "Generating masks: 100%|██████████| 480/480 [00:25<00:00, 18.97it/s]\n",
      "Generating masks: 100%|██████████| 480/480 [00:25<00:00, 18.98it/s]\n",
      "Generating masks: 100%|██████████| 480/480 [00:25<00:00, 18.95it/s]\n",
      "Generating masks: 100%|██████████| 480/480 [00:25<00:00, 18.84it/s]\n",
      "Generating masks: 100%|██████████| 480/480 [00:25<00:00, 19.00it/s]\n",
      "Generating masks: 100%|██████████| 480/480 [00:25<00:00, 18.51it/s]\n",
      "Generating masks: 100%|██████████| 480/480 [00:25<00:00, 18.50it/s]\n",
      "Generating masks: 100%|██████████| 480/480 [00:25<00:00, 18.52it/s]\n",
      "Generating masks: 100%|██████████| 480/480 [00:25<00:00, 19.05it/s]\n",
      "Generating masks: 100%|██████████| 480/480 [00:25<00:00, 19.01it/s]\n",
      "Generating masks: 100%|██████████| 480/480 [00:25<00:00, 19.06it/s]\n",
      "Generating masks: 100%|██████████| 480/480 [00:25<00:00, 19.11it/s]\n",
      "Generating masks: 100%|██████████| 480/480 [00:25<00:00, 18.90it/s]\n",
      "Generating masks: 100%|██████████| 480/480 [00:25<00:00, 18.66it/s]\n",
      "Generating masks: 100%|██████████| 480/480 [00:25<00:00, 18.99it/s]\n",
      "Generating masks: 100%|██████████| 480/480 [00:25<00:00, 18.96it/s]\n",
      "Generating masks: 100%|██████████| 480/480 [00:25<00:00, 18.84it/s]\n",
      "Generating masks: 100%|██████████| 480/480 [00:25<00:00, 18.91it/s]\n",
      "Generating masks: 100%|██████████| 480/480 [00:25<00:00, 18.82it/s]\n",
      "Generating masks: 100%|██████████| 480/480 [00:25<00:00, 18.88it/s]\n",
      "Generating masks: 100%|██████████| 480/480 [00:25<00:00, 18.94it/s]\n",
      "Generating masks: 100%|██████████| 480/480 [00:25<00:00, 18.82it/s]\n",
      "Generating masks: 100%|██████████| 480/480 [00:26<00:00, 18.07it/s]\n",
      "Generating masks: 100%|██████████| 480/480 [00:25<00:00, 18.80it/s]\n",
      "Generating masks: 100%|██████████| 480/480 [00:25<00:00, 18.88it/s]\n",
      "Generating masks: 100%|██████████| 480/480 [00:25<00:00, 19.06it/s]\n",
      "Generating masks: 100%|██████████| 480/480 [00:25<00:00, 18.85it/s]\n",
      "Generating masks: 100%|██████████| 480/480 [00:25<00:00, 19.07it/s]\n",
      "Generating masks: 100%|██████████| 480/480 [00:25<00:00, 18.69it/s]\n",
      "Generating masks: 100%|██████████| 480/480 [00:25<00:00, 18.58it/s]\n",
      "Generating masks: 100%|██████████| 480/480 [00:25<00:00, 18.86it/s]\n",
      "Generating masks: 100%|██████████| 480/480 [00:25<00:00, 19.09it/s]\n",
      "Generating masks: 100%|██████████| 480/480 [00:25<00:00, 18.86it/s]\n",
      "Generating masks: 100%|██████████| 64/64 [00:05<00:00, 12.03it/s]\n",
      "Generating masks:   0%|          | 0/480 [00:00<?, ?it/s]"
     ]
    },
    {
     "name": "stdout",
     "output_type": "stream",
     "text": [
      "generating heatmap #3...\n"
     ]
    },
    {
     "name": "stderr",
     "output_type": "stream",
     "text": [
      "Generating masks: 100%|██████████| 480/480 [00:25<00:00, 18.86it/s]\n",
      "Generating masks: 100%|██████████| 480/480 [00:25<00:00, 18.90it/s]\n",
      "Generating masks: 100%|██████████| 480/480 [00:25<00:00, 18.94it/s]\n",
      "Generating masks: 100%|██████████| 480/480 [00:25<00:00, 18.95it/s]\n",
      "Generating masks: 100%|██████████| 480/480 [00:25<00:00, 18.99it/s]\n",
      "Generating masks: 100%|██████████| 480/480 [00:25<00:00, 18.85it/s]\n",
      "Generating masks: 100%|██████████| 480/480 [00:25<00:00, 18.77it/s]\n",
      "Generating masks: 100%|██████████| 480/480 [00:25<00:00, 18.96it/s]\n",
      "Generating masks: 100%|██████████| 480/480 [00:25<00:00, 18.93it/s]\n",
      "Generating masks: 100%|██████████| 480/480 [00:25<00:00, 18.96it/s]\n",
      "Generating masks: 100%|██████████| 480/480 [00:25<00:00, 18.97it/s]\n",
      "Generating masks: 100%|██████████| 480/480 [00:25<00:00, 18.98it/s]\n",
      "Generating masks: 100%|██████████| 480/480 [00:25<00:00, 18.95it/s]\n",
      "Generating masks: 100%|██████████| 480/480 [00:25<00:00, 19.11it/s]\n",
      "Generating masks: 100%|██████████| 480/480 [00:25<00:00, 18.86it/s]\n",
      "Generating masks: 100%|██████████| 480/480 [00:25<00:00, 18.85it/s]\n",
      "Generating masks: 100%|██████████| 480/480 [00:25<00:00, 18.92it/s]\n",
      "Generating masks: 100%|██████████| 480/480 [00:25<00:00, 18.99it/s]\n",
      "Generating masks: 100%|██████████| 480/480 [00:25<00:00, 18.98it/s]\n",
      "Generating masks: 100%|██████████| 480/480 [00:25<00:00, 19.03it/s]\n",
      "Generating masks: 100%|██████████| 480/480 [00:25<00:00, 18.96it/s]\n",
      "Generating masks: 100%|██████████| 480/480 [00:25<00:00, 18.93it/s]\n",
      "Generating masks: 100%|██████████| 480/480 [00:25<00:00, 18.83it/s]\n",
      "Generating masks: 100%|██████████| 480/480 [00:25<00:00, 18.94it/s]\n",
      "Generating masks: 100%|██████████| 480/480 [00:25<00:00, 18.95it/s]\n",
      "Generating masks: 100%|██████████| 480/480 [00:25<00:00, 19.07it/s]\n",
      "Generating masks: 100%|██████████| 480/480 [00:25<00:00, 18.97it/s]\n",
      "Generating masks: 100%|██████████| 480/480 [00:25<00:00, 18.93it/s]\n",
      "Generating masks: 100%|██████████| 480/480 [00:25<00:00, 18.85it/s]\n",
      "Generating masks: 100%|██████████| 480/480 [00:25<00:00, 18.92it/s]\n",
      "Generating masks: 100%|██████████| 480/480 [00:25<00:00, 18.90it/s]\n",
      "Generating masks: 100%|██████████| 480/480 [00:25<00:00, 18.97it/s]\n",
      "Generating masks: 100%|██████████| 480/480 [00:25<00:00, 19.00it/s]\n",
      "Generating masks: 100%|██████████| 480/480 [00:25<00:00, 18.89it/s]\n",
      "Generating masks: 100%|██████████| 64/64 [00:05<00:00, 11.64it/s]\n",
      "Generating masks:   0%|          | 0/480 [00:00<?, ?it/s]"
     ]
    },
    {
     "name": "stdout",
     "output_type": "stream",
     "text": [
      "generating heatmap #4...\n"
     ]
    },
    {
     "name": "stderr",
     "output_type": "stream",
     "text": [
      "Generating masks: 100%|██████████| 480/480 [00:25<00:00, 19.00it/s]\n",
      "Generating masks: 100%|██████████| 480/480 [00:25<00:00, 18.81it/s]\n",
      "Generating masks: 100%|██████████| 480/480 [00:25<00:00, 18.94it/s]\n",
      "Generating masks: 100%|██████████| 480/480 [00:25<00:00, 18.72it/s]\n",
      "Generating masks: 100%|██████████| 480/480 [00:25<00:00, 18.97it/s]\n",
      "Generating masks: 100%|██████████| 480/480 [00:25<00:00, 18.73it/s]\n",
      "Generating masks: 100%|██████████| 480/480 [00:25<00:00, 18.80it/s]\n",
      "Generating masks: 100%|██████████| 480/480 [00:25<00:00, 18.83it/s]\n",
      "Generating masks: 100%|██████████| 480/480 [00:25<00:00, 18.71it/s]\n",
      "Generating masks: 100%|██████████| 480/480 [00:25<00:00, 18.74it/s]\n",
      "Generating masks: 100%|██████████| 480/480 [00:25<00:00, 18.64it/s]\n",
      "Generating masks: 100%|██████████| 480/480 [00:25<00:00, 18.73it/s]\n",
      "Generating masks: 100%|██████████| 480/480 [00:25<00:00, 18.68it/s]\n",
      "Generating masks: 100%|██████████| 480/480 [00:25<00:00, 18.67it/s]\n",
      "Generating masks: 100%|██████████| 480/480 [00:29<00:00, 16.06it/s]\n",
      "Generating masks: 100%|██████████| 480/480 [00:26<00:00, 18.09it/s]\n",
      "Generating masks: 100%|██████████| 480/480 [00:25<00:00, 18.65it/s]\n",
      "Generating masks: 100%|██████████| 480/480 [00:25<00:00, 18.64it/s]\n",
      "Generating masks: 100%|██████████| 480/480 [00:25<00:00, 18.82it/s]\n",
      "Generating masks: 100%|██████████| 480/480 [00:25<00:00, 18.66it/s]\n",
      "Generating masks: 100%|██████████| 480/480 [00:26<00:00, 18.31it/s]\n",
      "Generating masks: 100%|██████████| 480/480 [00:25<00:00, 18.81it/s]\n",
      "Generating masks: 100%|██████████| 480/480 [00:25<00:00, 18.84it/s]\n",
      "Generating masks: 100%|██████████| 480/480 [00:25<00:00, 18.68it/s]\n",
      "Generating masks: 100%|██████████| 480/480 [00:25<00:00, 18.58it/s]\n",
      "Generating masks: 100%|██████████| 480/480 [00:25<00:00, 18.59it/s]\n",
      "Generating masks: 100%|██████████| 480/480 [00:26<00:00, 18.46it/s]\n",
      "Generating masks: 100%|██████████| 480/480 [00:25<00:00, 18.65it/s]\n",
      "Generating masks: 100%|██████████| 480/480 [00:25<00:00, 18.63it/s]\n",
      "Generating masks: 100%|██████████| 480/480 [00:25<00:00, 18.75it/s]\n",
      "Generating masks: 100%|██████████| 480/480 [00:26<00:00, 18.12it/s]\n",
      "Generating masks: 100%|██████████| 480/480 [00:26<00:00, 18.33it/s]\n",
      "Generating masks: 100%|██████████| 480/480 [00:26<00:00, 18.18it/s]\n",
      "Generating masks: 100%|██████████| 480/480 [00:29<00:00, 16.01it/s]\n",
      "Generating masks: 100%|██████████| 64/64 [00:05<00:00, 11.30it/s]\n",
      "Generating masks:   0%|          | 0/480 [00:00<?, ?it/s]"
     ]
    },
    {
     "name": "stdout",
     "output_type": "stream",
     "text": [
      "generating heatmap #5...\n"
     ]
    },
    {
     "name": "stderr",
     "output_type": "stream",
     "text": [
      "Generating masks: 100%|██████████| 480/480 [00:25<00:00, 18.71it/s]\n",
      "Generating masks: 100%|██████████| 480/480 [00:25<00:00, 18.80it/s]\n",
      "Generating masks: 100%|██████████| 480/480 [00:25<00:00, 18.83it/s]\n",
      "Generating masks: 100%|██████████| 480/480 [00:25<00:00, 18.78it/s]\n",
      "Generating masks: 100%|██████████| 480/480 [00:25<00:00, 18.67it/s]\n",
      "Generating masks: 100%|██████████| 480/480 [00:25<00:00, 18.58it/s]\n",
      "Generating masks: 100%|██████████| 480/480 [00:25<00:00, 18.66it/s]\n",
      "Generating masks: 100%|██████████| 480/480 [00:25<00:00, 18.61it/s]\n",
      "Generating masks: 100%|██████████| 480/480 [00:25<00:00, 18.65it/s]\n",
      "Generating masks: 100%|██████████| 480/480 [00:25<00:00, 18.68it/s]\n",
      "Generating masks: 100%|██████████| 480/480 [00:25<00:00, 18.61it/s]\n",
      "Generating masks: 100%|██████████| 480/480 [00:25<00:00, 18.69it/s]\n",
      "Generating masks: 100%|██████████| 480/480 [00:25<00:00, 18.74it/s]\n",
      "Generating masks: 100%|██████████| 480/480 [00:25<00:00, 18.70it/s]\n",
      "Generating masks: 100%|██████████| 480/480 [00:25<00:00, 18.59it/s]\n",
      "Generating masks: 100%|██████████| 480/480 [00:25<00:00, 18.66it/s]\n",
      "Generating masks: 100%|██████████| 480/480 [00:25<00:00, 18.68it/s]\n",
      "Generating masks: 100%|██████████| 480/480 [00:25<00:00, 18.62it/s]\n",
      "Generating masks: 100%|██████████| 480/480 [00:25<00:00, 18.72it/s]\n",
      "Generating masks: 100%|██████████| 480/480 [00:25<00:00, 18.58it/s]\n",
      "Generating masks: 100%|██████████| 480/480 [00:25<00:00, 18.52it/s]\n",
      "Generating masks: 100%|██████████| 480/480 [00:25<00:00, 18.47it/s]\n",
      "Generating masks: 100%|██████████| 480/480 [00:25<00:00, 18.65it/s]\n",
      "Generating masks: 100%|██████████| 480/480 [00:25<00:00, 18.56it/s]\n",
      "Generating masks: 100%|██████████| 480/480 [00:25<00:00, 18.79it/s]\n",
      "Generating masks: 100%|██████████| 480/480 [00:25<00:00, 18.63it/s]\n",
      "Generating masks: 100%|██████████| 480/480 [00:25<00:00, 18.59it/s]\n",
      "Generating masks: 100%|██████████| 480/480 [00:25<00:00, 18.53it/s]\n",
      "Generating masks: 100%|██████████| 480/480 [00:25<00:00, 18.54it/s]\n",
      "Generating masks: 100%|██████████| 480/480 [00:25<00:00, 18.54it/s]\n",
      "Generating masks: 100%|██████████| 480/480 [00:25<00:00, 18.49it/s]\n",
      "Generating masks: 100%|██████████| 480/480 [00:25<00:00, 18.68it/s]\n",
      "Generating masks: 100%|██████████| 480/480 [00:26<00:00, 18.46it/s]\n",
      "Generating masks: 100%|██████████| 480/480 [00:25<00:00, 18.63it/s]\n",
      "Generating masks: 100%|██████████| 64/64 [00:05<00:00, 10.84it/s]\n",
      "Generating masks:   0%|          | 0/480 [00:00<?, ?it/s]"
     ]
    },
    {
     "name": "stdout",
     "output_type": "stream",
     "text": [
      "generating heatmap #6...\n"
     ]
    },
    {
     "name": "stderr",
     "output_type": "stream",
     "text": [
      "Generating masks: 100%|██████████| 480/480 [00:25<00:00, 18.65it/s]\n",
      "Generating masks: 100%|██████████| 480/480 [00:25<00:00, 18.59it/s]\n",
      "Generating masks: 100%|██████████| 480/480 [00:25<00:00, 18.66it/s]\n",
      "Generating masks: 100%|██████████| 480/480 [00:25<00:00, 18.47it/s]\n",
      "Generating masks: 100%|██████████| 480/480 [00:25<00:00, 18.63it/s]\n",
      "Generating masks: 100%|██████████| 480/480 [00:26<00:00, 18.28it/s]\n",
      "Generating masks: 100%|██████████| 480/480 [00:25<00:00, 18.50it/s]\n",
      "Generating masks: 100%|██████████| 480/480 [00:25<00:00, 18.52it/s]\n",
      "Generating masks: 100%|██████████| 480/480 [00:26<00:00, 18.43it/s]\n",
      "Generating masks: 100%|██████████| 480/480 [00:26<00:00, 18.39it/s]\n",
      "Generating masks: 100%|██████████| 480/480 [00:26<00:00, 18.28it/s]\n",
      "Generating masks: 100%|██████████| 480/480 [00:26<00:00, 18.28it/s]\n",
      "Generating masks: 100%|██████████| 480/480 [00:26<00:00, 18.41it/s]\n",
      "Generating masks: 100%|██████████| 480/480 [00:25<00:00, 18.49it/s]\n",
      "Generating masks: 100%|██████████| 480/480 [00:26<00:00, 18.31it/s]\n",
      "Generating masks: 100%|██████████| 480/480 [00:25<00:00, 18.61it/s]\n",
      "Generating masks: 100%|██████████| 480/480 [00:25<00:00, 18.51it/s]\n",
      "Generating masks: 100%|██████████| 480/480 [00:26<00:00, 18.30it/s]\n",
      "Generating masks: 100%|██████████| 480/480 [00:25<00:00, 18.56it/s]\n",
      "Generating masks: 100%|██████████| 480/480 [00:26<00:00, 18.42it/s]\n",
      "Generating masks: 100%|██████████| 480/480 [00:25<00:00, 18.46it/s]\n",
      "Generating masks: 100%|██████████| 480/480 [00:26<00:00, 18.37it/s]\n",
      "Generating masks: 100%|██████████| 480/480 [00:26<00:00, 18.40it/s]\n",
      "Generating masks: 100%|██████████| 480/480 [00:26<00:00, 18.19it/s]\n",
      "Generating masks: 100%|██████████| 480/480 [00:25<00:00, 18.50it/s]\n",
      "Generating masks: 100%|██████████| 480/480 [00:26<00:00, 18.36it/s]\n",
      "Generating masks: 100%|██████████| 480/480 [00:26<00:00, 18.41it/s]\n",
      "Generating masks: 100%|██████████| 480/480 [00:26<00:00, 18.42it/s]\n",
      "Generating masks: 100%|██████████| 480/480 [00:25<00:00, 18.56it/s]\n",
      "Generating masks: 100%|██████████| 480/480 [00:26<00:00, 18.40it/s]\n",
      "Generating masks: 100%|██████████| 480/480 [00:25<00:00, 18.49it/s]\n",
      "Generating masks: 100%|██████████| 480/480 [00:26<00:00, 18.34it/s]\n",
      "Generating masks: 100%|██████████| 480/480 [00:26<00:00, 18.28it/s]\n",
      "Generating masks: 100%|██████████| 480/480 [00:25<00:00, 18.48it/s]\n",
      "Generating masks: 100%|██████████| 64/64 [00:06<00:00, 10.43it/s]\n",
      "Generating masks:   0%|          | 0/480 [00:00<?, ?it/s]"
     ]
    },
    {
     "name": "stdout",
     "output_type": "stream",
     "text": [
      "generating heatmap #7...\n"
     ]
    },
    {
     "name": "stderr",
     "output_type": "stream",
     "text": [
      "Generating masks: 100%|██████████| 480/480 [00:26<00:00, 18.36it/s]\n",
      "Generating masks: 100%|██████████| 480/480 [00:25<00:00, 18.53it/s]\n",
      "Generating masks: 100%|██████████| 480/480 [00:26<00:00, 18.40it/s]\n",
      "Generating masks: 100%|██████████| 480/480 [00:26<00:00, 18.27it/s]\n",
      "Generating masks: 100%|██████████| 480/480 [00:26<00:00, 18.17it/s]\n",
      "Generating masks: 100%|██████████| 480/480 [00:25<00:00, 18.49it/s]\n",
      "Generating masks: 100%|██████████| 480/480 [00:25<00:00, 18.52it/s]\n",
      "Generating masks: 100%|██████████| 480/480 [00:25<00:00, 18.52it/s]\n",
      "Generating masks: 100%|██████████| 480/480 [00:26<00:00, 18.40it/s]\n",
      "Generating masks: 100%|██████████| 480/480 [00:26<00:00, 18.39it/s]\n",
      "Generating masks: 100%|██████████| 480/480 [00:25<00:00, 18.47it/s]\n",
      "Generating masks: 100%|██████████| 480/480 [00:26<00:00, 18.34it/s]\n",
      "Generating masks: 100%|██████████| 480/480 [00:26<00:00, 18.45it/s]\n",
      "Generating masks: 100%|██████████| 480/480 [00:26<00:00, 18.42it/s]\n",
      "Generating masks: 100%|██████████| 480/480 [00:26<00:00, 18.42it/s]\n",
      "Generating masks: 100%|██████████| 480/480 [00:26<00:00, 18.33it/s]\n",
      "Generating masks: 100%|██████████| 480/480 [00:26<00:00, 18.34it/s]\n",
      "Generating masks: 100%|██████████| 480/480 [00:26<00:00, 18.21it/s]\n",
      "Generating masks: 100%|██████████| 480/480 [00:26<00:00, 17.84it/s]\n",
      "Generating masks: 100%|██████████| 480/480 [00:26<00:00, 18.37it/s]\n",
      "Generating masks: 100%|██████████| 480/480 [00:26<00:00, 18.32it/s]\n",
      "Generating masks: 100%|██████████| 480/480 [00:26<00:00, 18.31it/s]\n",
      "Generating masks: 100%|██████████| 480/480 [00:26<00:00, 18.21it/s]\n",
      "Generating masks: 100%|██████████| 480/480 [00:26<00:00, 18.26it/s]\n",
      "Generating masks: 100%|██████████| 480/480 [00:26<00:00, 18.19it/s]\n",
      "Generating masks: 100%|██████████| 480/480 [00:25<00:00, 18.50it/s]\n",
      "Generating masks: 100%|██████████| 480/480 [00:26<00:00, 18.25it/s]\n",
      "Generating masks: 100%|██████████| 480/480 [00:26<00:00, 18.30it/s]\n",
      "Generating masks: 100%|██████████| 480/480 [00:26<00:00, 18.40it/s]\n",
      "Generating masks: 100%|██████████| 480/480 [00:26<00:00, 18.21it/s]\n",
      "Generating masks: 100%|██████████| 480/480 [00:26<00:00, 18.35it/s]\n",
      "Generating masks: 100%|██████████| 480/480 [00:26<00:00, 18.35it/s]\n",
      "Generating masks: 100%|██████████| 480/480 [00:26<00:00, 18.22it/s]\n",
      "Generating masks: 100%|██████████| 480/480 [00:26<00:00, 18.27it/s]\n",
      "Generating masks: 100%|██████████| 64/64 [00:06<00:00, 10.14it/s]\n",
      "Generating masks:   0%|          | 0/480 [00:00<?, ?it/s]"
     ]
    },
    {
     "name": "stdout",
     "output_type": "stream",
     "text": [
      "generating heatmap #8...\n"
     ]
    },
    {
     "name": "stderr",
     "output_type": "stream",
     "text": [
      "Generating masks: 100%|██████████| 480/480 [00:26<00:00, 18.29it/s]\n",
      "Generating masks: 100%|██████████| 480/480 [00:26<00:00, 18.22it/s]\n",
      "Generating masks: 100%|██████████| 480/480 [00:26<00:00, 18.27it/s]\n",
      "Generating masks: 100%|██████████| 480/480 [00:26<00:00, 18.21it/s]\n",
      "Generating masks: 100%|██████████| 480/480 [00:26<00:00, 18.27it/s]\n",
      "Generating masks: 100%|██████████| 480/480 [00:26<00:00, 18.14it/s]\n",
      "Generating masks: 100%|██████████| 480/480 [00:26<00:00, 18.10it/s]\n",
      "Generating masks: 100%|██████████| 480/480 [00:26<00:00, 18.02it/s]\n",
      "Generating masks: 100%|██████████| 480/480 [00:26<00:00, 18.21it/s]\n",
      "Generating masks: 100%|██████████| 480/480 [00:26<00:00, 18.11it/s]\n",
      "Generating masks: 100%|██████████| 480/480 [00:26<00:00, 18.20it/s]\n",
      "Generating masks: 100%|██████████| 480/480 [00:26<00:00, 18.03it/s]\n",
      "Generating masks: 100%|██████████| 480/480 [00:26<00:00, 18.21it/s]\n",
      "Generating masks: 100%|██████████| 480/480 [00:26<00:00, 18.12it/s]\n",
      "Generating masks: 100%|██████████| 480/480 [00:26<00:00, 18.21it/s]\n",
      "Generating masks: 100%|██████████| 480/480 [00:26<00:00, 18.09it/s]\n",
      "Generating masks: 100%|██████████| 480/480 [00:26<00:00, 17.95it/s]\n",
      "Generating masks: 100%|██████████| 480/480 [00:26<00:00, 18.00it/s]\n",
      "Generating masks: 100%|██████████| 480/480 [00:26<00:00, 18.03it/s]\n",
      "Generating masks: 100%|██████████| 480/480 [00:26<00:00, 18.09it/s]\n",
      "Generating masks: 100%|██████████| 480/480 [00:26<00:00, 18.06it/s]\n",
      "Generating masks: 100%|██████████| 480/480 [00:26<00:00, 18.04it/s]\n",
      "Generating masks: 100%|██████████| 480/480 [00:26<00:00, 18.17it/s]\n",
      "Generating masks: 100%|██████████| 480/480 [00:26<00:00, 18.09it/s]\n",
      "Generating masks: 100%|██████████| 480/480 [00:26<00:00, 18.04it/s]\n",
      "Generating masks: 100%|██████████| 480/480 [00:26<00:00, 17.94it/s]\n",
      "Generating masks: 100%|██████████| 480/480 [00:26<00:00, 18.01it/s]\n",
      "Generating masks: 100%|██████████| 480/480 [00:26<00:00, 18.01it/s]\n",
      "Generating masks: 100%|██████████| 480/480 [00:26<00:00, 17.90it/s]\n",
      "Generating masks: 100%|██████████| 480/480 [00:26<00:00, 18.00it/s]\n",
      "Generating masks: 100%|██████████| 480/480 [00:26<00:00, 17.96it/s]\n",
      "Generating masks: 100%|██████████| 480/480 [00:26<00:00, 17.97it/s]\n",
      "Generating masks: 100%|██████████| 480/480 [00:28<00:00, 16.94it/s]\n",
      "Generating masks: 100%|██████████| 480/480 [00:30<00:00, 15.89it/s]\n",
      "Generating masks: 100%|██████████| 64/64 [00:07<00:00,  8.71it/s]\n",
      "Generating masks:   0%|          | 0/480 [00:00<?, ?it/s]"
     ]
    },
    {
     "name": "stdout",
     "output_type": "stream",
     "text": [
      "generating heatmap #9...\n"
     ]
    },
    {
     "name": "stderr",
     "output_type": "stream",
     "text": [
      "Generating masks: 100%|██████████| 480/480 [00:30<00:00, 15.91it/s]\n",
      "Generating masks: 100%|██████████| 480/480 [00:30<00:00, 15.67it/s]\n",
      "Generating masks: 100%|██████████| 480/480 [00:27<00:00, 17.71it/s]\n",
      "Generating masks: 100%|██████████| 480/480 [00:26<00:00, 17.85it/s]\n",
      "Generating masks: 100%|██████████| 480/480 [00:26<00:00, 17.99it/s]\n",
      "Generating masks: 100%|██████████| 480/480 [00:26<00:00, 17.92it/s]\n",
      "Generating masks: 100%|██████████| 480/480 [00:26<00:00, 17.85it/s]\n",
      "Generating masks: 100%|██████████| 480/480 [00:26<00:00, 17.80it/s]\n",
      "Generating masks: 100%|██████████| 480/480 [00:26<00:00, 17.90it/s]\n",
      "Generating masks: 100%|██████████| 480/480 [00:26<00:00, 18.04it/s]\n",
      "Generating masks: 100%|██████████| 480/480 [00:26<00:00, 18.12it/s]\n",
      "Generating masks: 100%|██████████| 480/480 [00:26<00:00, 18.01it/s]\n",
      "Generating masks: 100%|██████████| 480/480 [00:26<00:00, 18.10it/s]\n",
      "Generating masks: 100%|██████████| 480/480 [00:26<00:00, 17.98it/s]\n",
      "Generating masks: 100%|██████████| 480/480 [00:26<00:00, 17.90it/s]\n",
      "Generating masks: 100%|██████████| 480/480 [00:26<00:00, 17.85it/s]\n",
      "Generating masks: 100%|██████████| 480/480 [00:26<00:00, 18.03it/s]\n",
      "Generating masks: 100%|██████████| 480/480 [00:26<00:00, 17.85it/s]\n",
      "Generating masks: 100%|██████████| 480/480 [00:26<00:00, 18.06it/s]\n",
      "Generating masks: 100%|██████████| 480/480 [00:26<00:00, 17.97it/s]\n",
      "Generating masks: 100%|██████████| 480/480 [00:26<00:00, 17.93it/s]\n",
      "Generating masks: 100%|██████████| 480/480 [00:26<00:00, 17.86it/s]\n",
      "Generating masks: 100%|██████████| 480/480 [00:26<00:00, 18.11it/s]\n",
      "Generating masks: 100%|██████████| 480/480 [00:26<00:00, 17.86it/s]\n",
      "Generating masks: 100%|██████████| 480/480 [00:26<00:00, 17.83it/s]\n",
      "Generating masks: 100%|██████████| 480/480 [00:26<00:00, 17.91it/s]\n",
      "Generating masks: 100%|██████████| 480/480 [00:26<00:00, 18.01it/s]\n",
      "Generating masks: 100%|██████████| 480/480 [00:26<00:00, 17.87it/s]\n",
      "Generating masks: 100%|██████████| 480/480 [00:26<00:00, 18.03it/s]\n",
      "Generating masks: 100%|██████████| 480/480 [00:27<00:00, 17.73it/s]\n",
      "Generating masks: 100%|██████████| 480/480 [00:27<00:00, 17.74it/s]\n",
      "Generating masks: 100%|██████████| 480/480 [00:27<00:00, 17.72it/s]\n",
      "Generating masks: 100%|██████████| 480/480 [00:27<00:00, 17.77it/s]\n",
      "Generating masks: 100%|██████████| 480/480 [00:27<00:00, 17.61it/s]\n",
      "Generating masks: 100%|██████████| 64/64 [00:07<00:00,  9.05it/s]\n",
      "Generating masks:   0%|          | 0/480 [00:00<?, ?it/s]"
     ]
    },
    {
     "name": "stdout",
     "output_type": "stream",
     "text": [
      "generating heatmap #10...\n"
     ]
    },
    {
     "name": "stderr",
     "output_type": "stream",
     "text": [
      "Generating masks: 100%|██████████| 480/480 [00:26<00:00, 17.90it/s]\n",
      "Generating masks: 100%|██████████| 480/480 [00:26<00:00, 17.88it/s]\n",
      "Generating masks: 100%|██████████| 480/480 [00:26<00:00, 17.80it/s]\n",
      "Generating masks: 100%|██████████| 480/480 [00:27<00:00, 17.53it/s]\n",
      "Generating masks: 100%|██████████| 480/480 [00:27<00:00, 17.47it/s]\n",
      "Generating masks: 100%|██████████| 480/480 [00:27<00:00, 17.25it/s]\n",
      "Generating masks: 100%|██████████| 480/480 [00:28<00:00, 17.13it/s]\n",
      "Generating masks: 100%|██████████| 480/480 [00:27<00:00, 17.67it/s]\n",
      "Generating masks: 100%|██████████| 480/480 [00:27<00:00, 17.76it/s]\n",
      "Generating masks: 100%|██████████| 480/480 [00:27<00:00, 17.60it/s]\n",
      "Generating masks: 100%|██████████| 480/480 [00:27<00:00, 17.71it/s]\n",
      "Generating masks: 100%|██████████| 480/480 [00:27<00:00, 17.43it/s]\n",
      "Generating masks: 100%|██████████| 480/480 [00:27<00:00, 17.71it/s]\n",
      "Generating masks: 100%|██████████| 480/480 [00:28<00:00, 16.67it/s]\n",
      "Generating masks: 100%|██████████| 480/480 [00:27<00:00, 17.66it/s]\n",
      "Generating masks: 100%|██████████| 480/480 [00:27<00:00, 17.66it/s]\n",
      "Generating masks: 100%|██████████| 480/480 [00:27<00:00, 17.66it/s]\n",
      "Generating masks: 100%|██████████| 480/480 [00:27<00:00, 17.37it/s]\n",
      "Generating masks: 100%|██████████| 480/480 [00:26<00:00, 17.81it/s]\n",
      "Generating masks: 100%|██████████| 480/480 [00:27<00:00, 17.67it/s]\n",
      "Generating masks: 100%|██████████| 480/480 [00:27<00:00, 17.75it/s]\n",
      "Generating masks: 100%|██████████| 480/480 [00:27<00:00, 17.57it/s]\n",
      "Generating masks: 100%|██████████| 480/480 [00:27<00:00, 17.50it/s]\n",
      "Generating masks: 100%|██████████| 480/480 [00:28<00:00, 17.11it/s]\n",
      "Generating masks: 100%|██████████| 480/480 [00:27<00:00, 17.61it/s]\n",
      "Generating masks: 100%|██████████| 480/480 [00:27<00:00, 17.64it/s]\n",
      "Generating masks: 100%|██████████| 480/480 [00:27<00:00, 17.61it/s]\n",
      "Generating masks: 100%|██████████| 480/480 [00:27<00:00, 17.58it/s]\n",
      "Generating masks: 100%|██████████| 480/480 [00:27<00:00, 17.37it/s]\n",
      "Generating masks: 100%|██████████| 480/480 [00:27<00:00, 17.22it/s]\n",
      "Generating masks: 100%|██████████| 480/480 [00:27<00:00, 17.51it/s]\n",
      "Generating masks: 100%|██████████| 480/480 [00:27<00:00, 17.46it/s]\n",
      "Generating masks: 100%|██████████| 480/480 [00:27<00:00, 17.51it/s]\n",
      "Generating masks: 100%|██████████| 480/480 [00:27<00:00, 17.45it/s]\n",
      "Generating masks: 100%|██████████| 64/64 [00:07<00:00,  8.64it/s]\n",
      "Generating masks:   0%|          | 0/480 [00:00<?, ?it/s]"
     ]
    },
    {
     "name": "stdout",
     "output_type": "stream",
     "text": [
      "generating heatmap #11...\n"
     ]
    },
    {
     "name": "stderr",
     "output_type": "stream",
     "text": [
      "Generating masks: 100%|██████████| 480/480 [00:27<00:00, 17.48it/s]\n",
      "Generating masks: 100%|██████████| 480/480 [00:27<00:00, 17.77it/s]\n",
      "Generating masks: 100%|██████████| 480/480 [00:27<00:00, 17.39it/s]\n",
      "Generating masks: 100%|██████████| 480/480 [00:27<00:00, 17.41it/s]\n",
      "Generating masks: 100%|██████████| 480/480 [00:27<00:00, 17.37it/s]\n",
      "Generating masks: 100%|██████████| 480/480 [00:27<00:00, 17.35it/s]\n",
      "Generating masks: 100%|██████████| 480/480 [00:28<00:00, 17.08it/s]\n",
      "Generating masks: 100%|██████████| 480/480 [00:27<00:00, 17.64it/s]\n",
      "Generating masks: 100%|██████████| 480/480 [00:27<00:00, 17.58it/s]\n",
      "Generating masks: 100%|██████████| 480/480 [00:27<00:00, 17.41it/s]\n",
      "Generating masks: 100%|██████████| 480/480 [00:27<00:00, 17.43it/s]\n",
      "Generating masks: 100%|██████████| 480/480 [00:27<00:00, 17.37it/s]\n",
      "Generating masks: 100%|██████████| 480/480 [00:27<00:00, 17.26it/s]\n",
      "Generating masks: 100%|██████████| 480/480 [00:27<00:00, 17.58it/s]\n",
      "Generating masks: 100%|██████████| 480/480 [00:27<00:00, 17.39it/s]\n",
      "Generating masks: 100%|██████████| 480/480 [00:27<00:00, 17.31it/s]\n",
      "Generating masks: 100%|██████████| 480/480 [00:27<00:00, 17.18it/s]\n",
      "Generating masks: 100%|██████████| 480/480 [00:27<00:00, 17.30it/s]\n",
      "Generating masks: 100%|██████████| 480/480 [00:28<00:00, 17.12it/s]\n",
      "Generating masks: 100%|██████████| 480/480 [00:27<00:00, 17.53it/s]\n",
      "Generating masks: 100%|██████████| 480/480 [00:27<00:00, 17.42it/s]\n",
      "Generating masks: 100%|██████████| 480/480 [00:27<00:00, 17.19it/s]\n",
      "Generating masks: 100%|██████████| 480/480 [00:27<00:00, 17.24it/s]\n",
      "Generating masks: 100%|██████████| 480/480 [00:27<00:00, 17.28it/s]\n",
      "Generating masks: 100%|██████████| 480/480 [00:27<00:00, 17.16it/s]\n",
      "Generating masks: 100%|██████████| 480/480 [00:27<00:00, 17.63it/s]\n",
      "Generating masks: 100%|██████████| 480/480 [00:27<00:00, 17.40it/s]\n",
      "Generating masks: 100%|██████████| 480/480 [00:27<00:00, 17.36it/s]\n",
      "Generating masks: 100%|██████████| 480/480 [00:27<00:00, 17.17it/s]\n",
      "Generating masks: 100%|██████████| 480/480 [00:27<00:00, 17.34it/s]\n",
      "Generating masks: 100%|██████████| 480/480 [00:28<00:00, 17.10it/s]\n",
      "Generating masks: 100%|██████████| 480/480 [00:27<00:00, 17.56it/s]\n",
      "Generating masks: 100%|██████████| 480/480 [00:27<00:00, 17.36it/s]\n",
      "Generating masks: 100%|██████████| 480/480 [00:27<00:00, 17.30it/s]\n",
      "Generating masks: 100%|██████████| 64/64 [00:07<00:00,  8.36it/s]\n",
      "Generating masks:   0%|          | 0/480 [00:00<?, ?it/s]"
     ]
    },
    {
     "name": "stdout",
     "output_type": "stream",
     "text": [
      "generating heatmap #12...\n"
     ]
    },
    {
     "name": "stderr",
     "output_type": "stream",
     "text": [
      "Generating masks: 100%|██████████| 480/480 [00:27<00:00, 17.27it/s]\n",
      "Generating masks: 100%|██████████| 480/480 [00:27<00:00, 17.18it/s]\n",
      "Generating masks: 100%|██████████| 480/480 [00:28<00:00, 17.05it/s]\n",
      "Generating masks: 100%|██████████| 480/480 [00:27<00:00, 17.35it/s]\n",
      "Generating masks: 100%|██████████| 480/480 [00:27<00:00, 17.44it/s]\n",
      "Generating masks: 100%|██████████| 480/480 [00:27<00:00, 17.15it/s]\n",
      "Generating masks: 100%|██████████| 480/480 [00:28<00:00, 17.03it/s]\n",
      "Generating masks: 100%|██████████| 480/480 [00:28<00:00, 17.04it/s]\n",
      "Generating masks: 100%|██████████| 480/480 [00:27<00:00, 17.20it/s]\n",
      "Generating masks: 100%|██████████| 480/480 [00:27<00:00, 17.19it/s]\n",
      "Generating masks: 100%|██████████| 480/480 [00:28<00:00, 17.03it/s]\n",
      "Generating masks: 100%|██████████| 480/480 [00:28<00:00, 16.99it/s]\n",
      "Generating masks: 100%|██████████| 480/480 [00:28<00:00, 16.97it/s]\n",
      "Generating masks: 100%|██████████| 480/480 [00:28<00:00, 17.04it/s]\n",
      "Generating masks: 100%|██████████| 480/480 [00:29<00:00, 16.36it/s]\n",
      "Generating masks: 100%|██████████| 480/480 [00:28<00:00, 16.91it/s]\n",
      "Generating masks: 100%|██████████| 480/480 [00:28<00:00, 17.02it/s]\n",
      "Generating masks: 100%|██████████| 480/480 [00:28<00:00, 16.92it/s]\n",
      "Generating masks: 100%|██████████| 480/480 [00:28<00:00, 16.83it/s]\n",
      "Generating masks: 100%|██████████| 480/480 [00:28<00:00, 16.96it/s]\n",
      "Generating masks: 100%|██████████| 480/480 [00:30<00:00, 15.98it/s]\n",
      "Generating masks: 100%|██████████| 480/480 [00:28<00:00, 16.88it/s]\n",
      "Generating masks: 100%|██████████| 480/480 [00:28<00:00, 16.95it/s]\n",
      "Generating masks: 100%|██████████| 480/480 [00:29<00:00, 16.47it/s]\n",
      "Generating masks: 100%|██████████| 480/480 [00:28<00:00, 16.81it/s]\n",
      "Generating masks: 100%|██████████| 480/480 [00:28<00:00, 16.65it/s]\n",
      "Generating masks: 100%|██████████| 480/480 [00:28<00:00, 16.58it/s]\n",
      "Generating masks: 100%|██████████| 480/480 [00:30<00:00, 15.84it/s]\n",
      "Generating masks: 100%|██████████| 480/480 [00:28<00:00, 16.63it/s]\n",
      "Generating masks: 100%|██████████| 480/480 [00:28<00:00, 16.78it/s]\n",
      "Generating masks: 100%|██████████| 480/480 [00:28<00:00, 16.78it/s]\n",
      "Generating masks: 100%|██████████| 480/480 [00:29<00:00, 16.51it/s]\n",
      "Generating masks: 100%|██████████| 480/480 [00:28<00:00, 16.66it/s]\n",
      "Generating masks: 100%|██████████| 480/480 [00:28<00:00, 16.96it/s]\n",
      "Generating masks: 100%|██████████| 64/64 [00:08<00:00,  7.63it/s]\n",
      "Generating masks:   0%|          | 0/480 [00:00<?, ?it/s]"
     ]
    },
    {
     "name": "stdout",
     "output_type": "stream",
     "text": [
      "generating heatmap #13...\n"
     ]
    },
    {
     "name": "stderr",
     "output_type": "stream",
     "text": [
      "Generating masks: 100%|██████████| 480/480 [00:28<00:00, 16.97it/s]\n",
      "Generating masks: 100%|██████████| 480/480 [00:28<00:00, 16.68it/s]\n",
      "Generating masks: 100%|██████████| 480/480 [00:28<00:00, 16.85it/s]\n",
      "Generating masks: 100%|██████████| 480/480 [00:29<00:00, 16.54it/s]\n",
      "Generating masks: 100%|██████████| 480/480 [00:27<00:00, 17.29it/s]\n",
      "Generating masks: 100%|██████████| 480/480 [00:28<00:00, 16.90it/s]\n",
      "Generating masks: 100%|██████████| 480/480 [00:28<00:00, 16.88it/s]\n",
      "Generating masks: 100%|██████████| 480/480 [00:28<00:00, 16.64it/s]\n",
      "Generating masks: 100%|██████████| 480/480 [00:29<00:00, 16.48it/s]\n",
      "Generating masks: 100%|██████████| 480/480 [00:29<00:00, 16.34it/s]\n",
      "Generating masks: 100%|██████████| 480/480 [00:28<00:00, 16.99it/s]\n",
      "Generating masks: 100%|██████████| 480/480 [00:28<00:00, 16.82it/s]\n",
      "Generating masks: 100%|██████████| 480/480 [00:28<00:00, 16.72it/s]\n",
      "Generating masks: 100%|██████████| 480/480 [00:28<00:00, 16.63it/s]\n",
      "Generating masks: 100%|██████████| 480/480 [00:28<00:00, 16.74it/s]\n",
      "Generating masks: 100%|██████████| 480/480 [00:28<00:00, 16.69it/s]\n",
      "Generating masks: 100%|██████████| 480/480 [00:28<00:00, 17.12it/s]\n",
      "Generating masks: 100%|██████████| 480/480 [00:28<00:00, 16.72it/s]\n",
      "Generating masks: 100%|██████████| 480/480 [00:28<00:00, 16.79it/s]\n",
      "Generating masks: 100%|██████████| 480/480 [00:28<00:00, 16.78it/s]\n",
      "Generating masks: 100%|██████████| 480/480 [00:29<00:00, 16.43it/s]\n",
      "Generating masks: 100%|██████████| 480/480 [00:28<00:00, 16.70it/s]\n",
      "Generating masks: 100%|██████████| 480/480 [00:27<00:00, 17.19it/s]\n",
      "Generating masks: 100%|██████████| 480/480 [00:28<00:00, 16.73it/s]\n",
      "Generating masks: 100%|██████████| 480/480 [00:28<00:00, 16.57it/s]\n",
      "Generating masks: 100%|██████████| 480/480 [00:28<00:00, 16.56it/s]\n",
      "Generating masks: 100%|██████████| 480/480 [00:28<00:00, 16.62it/s]\n",
      "Generating masks: 100%|██████████| 480/480 [00:28<00:00, 16.61it/s]\n",
      "Generating masks: 100%|██████████| 480/480 [00:28<00:00, 16.97it/s]\n",
      "Generating masks: 100%|██████████| 480/480 [00:29<00:00, 16.50it/s]\n",
      "Generating masks: 100%|██████████| 480/480 [00:29<00:00, 16.51it/s]\n",
      "Generating masks: 100%|██████████| 480/480 [00:29<00:00, 16.50it/s]\n",
      "Generating masks: 100%|██████████| 480/480 [00:28<00:00, 16.55it/s]\n",
      "Generating masks: 100%|██████████| 480/480 [00:28<00:00, 16.73it/s]\n",
      "Generating masks: 100%|██████████| 64/64 [00:08<00:00,  7.31it/s]\n",
      "Generating masks:   0%|          | 0/480 [00:00<?, ?it/s]"
     ]
    },
    {
     "name": "stdout",
     "output_type": "stream",
     "text": [
      "generating heatmap #14...\n"
     ]
    },
    {
     "name": "stderr",
     "output_type": "stream",
     "text": [
      "Generating masks: 100%|██████████| 480/480 [00:28<00:00, 16.72it/s]\n",
      "Generating masks: 100%|██████████| 480/480 [00:28<00:00, 16.65it/s]\n",
      "Generating masks: 100%|██████████| 480/480 [00:29<00:00, 16.44it/s]\n",
      "Generating masks: 100%|██████████| 480/480 [00:29<00:00, 16.50it/s]\n",
      "Generating masks: 100%|██████████| 480/480 [00:28<00:00, 16.62it/s]\n",
      "Generating masks: 100%|██████████| 480/480 [00:29<00:00, 16.31it/s]\n",
      "Generating masks: 100%|██████████| 480/480 [00:28<00:00, 16.64it/s]\n",
      "Generating masks: 100%|██████████| 480/480 [00:28<00:00, 16.66it/s]\n",
      "Generating masks: 100%|██████████| 480/480 [00:29<00:00, 16.50it/s]\n",
      "Generating masks: 100%|██████████| 480/480 [00:29<00:00, 16.46it/s]\n",
      "Generating masks: 100%|██████████| 480/480 [00:28<00:00, 16.64it/s]\n",
      "Generating masks: 100%|██████████| 480/480 [00:29<00:00, 16.28it/s]\n",
      "Generating masks: 100%|██████████| 480/480 [00:29<00:00, 16.52it/s]\n",
      "Generating masks: 100%|██████████| 480/480 [00:28<00:00, 16.68it/s]\n",
      "Generating masks: 100%|██████████| 480/480 [00:29<00:00, 16.34it/s]\n",
      "Generating masks: 100%|██████████| 480/480 [00:31<00:00, 15.03it/s]\n",
      "Generating masks: 100%|██████████| 480/480 [00:30<00:00, 15.97it/s]\n",
      "Generating masks: 100%|██████████| 480/480 [00:29<00:00, 16.06it/s]\n",
      "Generating masks: 100%|██████████| 480/480 [00:29<00:00, 16.00it/s]\n",
      "Generating masks: 100%|██████████| 480/480 [00:30<00:00, 15.88it/s]\n",
      "Generating masks: 100%|██████████| 480/480 [00:29<00:00, 16.29it/s]\n",
      "Generating masks: 100%|██████████| 480/480 [00:29<00:00, 16.00it/s]\n",
      "Generating masks: 100%|██████████| 480/480 [00:30<00:00, 15.88it/s]\n",
      "Generating masks: 100%|██████████| 480/480 [00:31<00:00, 15.42it/s]\n",
      "Generating masks: 100%|██████████| 480/480 [00:34<00:00, 14.00it/s]\n",
      "Generating masks: 100%|██████████| 480/480 [00:40<00:00, 11.98it/s]\n",
      "Generating masks: 100%|██████████| 480/480 [00:40<00:00, 11.86it/s]\n",
      "Generating masks: 100%|██████████| 480/480 [00:41<00:00, 11.62it/s]\n",
      "Generating masks: 100%|██████████| 480/480 [00:40<00:00, 11.84it/s]\n",
      "Generating masks: 100%|██████████| 480/480 [00:40<00:00, 11.86it/s]\n",
      "Generating masks: 100%|██████████| 480/480 [00:41<00:00, 11.49it/s]\n",
      "Generating masks: 100%|██████████| 480/480 [00:40<00:00, 11.82it/s]\n",
      "Generating masks: 100%|██████████| 480/480 [00:41<00:00, 11.65it/s]\n",
      "Generating masks: 100%|██████████| 480/480 [00:42<00:00, 11.28it/s]\n",
      "Generating masks: 100%|██████████| 64/64 [00:11<00:00,  5.68it/s]\n"
     ]
    },
    {
     "name": "stdout",
     "output_type": "stream",
     "text": [
      "result for 16384 masks (t: 5:50:09)\n",
      "\tmean std: 0.0018715354985120365\n",
      "\tmin std: 0.0005514721951825148\n",
      "\tmax std: 0.0034178110619230615\n",
      "\tstd std: 0.0003572153903529152\n",
      "saving std_heatmaps to ../../../../tmp\\risei-stability\\1616873762_m16384.npy ...\n"
     ]
    }
   ],
   "source": [
    "experiments = 15\n",
    "masks_counts = [16384]\n",
    "\n",
    "run(experiments, masks_counts)"
   ]
  },
  {
   "cell_type": "code",
   "execution_count": 15,
   "metadata": {},
   "outputs": [
    {
     "name": "stderr",
     "output_type": "stream",
     "text": [
      "\r",
      "Generating masks:   0%|          | 0/480 [00:00<?, ?it/s]"
     ]
    },
    {
     "name": "stdout",
     "output_type": "stream",
     "text": [
      "generating 5x 32768 masks...\n",
      "generating heatmap #0...\n"
     ]
    },
    {
     "name": "stderr",
     "output_type": "stream",
     "text": [
      "Generating masks: 100%|██████████| 480/480 [00:27<00:00, 17.38it/s]\n",
      "Generating masks: 100%|██████████| 480/480 [00:30<00:00, 15.56it/s]\n",
      "Generating masks: 100%|██████████| 480/480 [00:27<00:00, 17.76it/s]\n",
      "Generating masks: 100%|██████████| 480/480 [00:28<00:00, 16.95it/s]\n",
      "Generating masks: 100%|██████████| 480/480 [00:30<00:00, 15.73it/s]\n",
      "Generating masks: 100%|██████████| 480/480 [00:26<00:00, 17.83it/s]\n",
      "Generating masks: 100%|██████████| 480/480 [00:27<00:00, 17.65it/s]\n",
      "Generating masks: 100%|██████████| 480/480 [00:27<00:00, 17.30it/s]\n",
      "Generating masks: 100%|██████████| 480/480 [00:27<00:00, 17.42it/s]\n",
      "Generating masks: 100%|██████████| 480/480 [00:26<00:00, 17.95it/s]\n",
      "Generating masks: 100%|██████████| 480/480 [00:27<00:00, 17.52it/s]\n",
      "Generating masks: 100%|██████████| 480/480 [00:28<00:00, 16.91it/s]\n",
      "Generating masks: 100%|██████████| 480/480 [00:27<00:00, 17.71it/s]\n",
      "Generating masks: 100%|██████████| 480/480 [00:26<00:00, 17.79it/s]\n",
      "Generating masks: 100%|██████████| 480/480 [00:27<00:00, 17.18it/s]\n",
      "Generating masks: 100%|██████████| 480/480 [00:30<00:00, 15.55it/s]\n",
      "Generating masks: 100%|██████████| 480/480 [00:33<00:00, 14.26it/s]\n",
      "Generating masks: 100%|██████████| 480/480 [00:36<00:00, 13.02it/s]\n",
      "Generating masks: 100%|██████████| 480/480 [00:33<00:00, 14.33it/s]\n",
      "Generating masks: 100%|██████████| 480/480 [00:30<00:00, 15.89it/s]\n",
      "Generating masks: 100%|██████████| 480/480 [00:36<00:00, 13.16it/s]\n",
      "Generating masks: 100%|██████████| 480/480 [00:27<00:00, 17.24it/s]\n",
      "Generating masks: 100%|██████████| 480/480 [00:25<00:00, 18.58it/s]\n",
      "Generating masks: 100%|██████████| 480/480 [00:25<00:00, 19.04it/s]\n",
      "Generating masks: 100%|██████████| 480/480 [00:25<00:00, 19.06it/s]\n",
      "Generating masks: 100%|██████████| 480/480 [00:25<00:00, 19.06it/s]\n",
      "Generating masks: 100%|██████████| 480/480 [00:25<00:00, 19.01it/s]\n",
      "Generating masks: 100%|██████████| 480/480 [00:25<00:00, 18.98it/s]\n",
      "Generating masks: 100%|██████████| 480/480 [00:25<00:00, 19.15it/s]\n",
      "Generating masks: 100%|██████████| 480/480 [00:25<00:00, 19.18it/s]\n",
      "Generating masks: 100%|██████████| 480/480 [00:24<00:00, 19.23it/s]\n",
      "Generating masks: 100%|██████████| 480/480 [00:25<00:00, 19.12it/s]\n",
      "Generating masks: 100%|██████████| 480/480 [00:24<00:00, 19.26it/s]\n",
      "Generating masks: 100%|██████████| 480/480 [00:25<00:00, 18.97it/s]\n",
      "Generating masks: 100%|██████████| 480/480 [00:25<00:00, 19.05it/s]\n",
      "Generating masks: 100%|██████████| 480/480 [00:25<00:00, 19.16it/s]\n",
      "Generating masks: 100%|██████████| 480/480 [00:25<00:00, 19.11it/s]\n",
      "Generating masks: 100%|██████████| 480/480 [00:24<00:00, 19.24it/s]\n",
      "Generating masks: 100%|██████████| 480/480 [00:24<00:00, 19.22it/s]\n",
      "Generating masks: 100%|██████████| 480/480 [00:25<00:00, 19.15it/s]\n",
      "Generating masks: 100%|██████████| 480/480 [00:25<00:00, 19.17it/s]\n",
      "Generating masks: 100%|██████████| 480/480 [00:25<00:00, 19.19it/s]\n",
      "Generating masks: 100%|██████████| 480/480 [00:25<00:00, 19.18it/s]\n",
      "Generating masks: 100%|██████████| 480/480 [00:25<00:00, 19.16it/s]\n",
      "Generating masks: 100%|██████████| 480/480 [00:25<00:00, 19.04it/s]\n",
      "Generating masks: 100%|██████████| 480/480 [00:25<00:00, 19.06it/s]\n",
      "Generating masks: 100%|██████████| 480/480 [00:25<00:00, 19.05it/s]\n",
      "Generating masks: 100%|██████████| 480/480 [00:25<00:00, 18.91it/s]\n",
      "Generating masks: 100%|██████████| 480/480 [00:25<00:00, 19.07it/s]\n",
      "Generating masks: 100%|██████████| 480/480 [00:25<00:00, 18.87it/s]\n",
      "Generating masks: 100%|██████████| 480/480 [00:25<00:00, 19.08it/s]\n",
      "Generating masks: 100%|██████████| 480/480 [00:25<00:00, 19.06it/s]\n",
      "Generating masks: 100%|██████████| 480/480 [00:25<00:00, 19.07it/s]\n",
      "Generating masks: 100%|██████████| 480/480 [00:25<00:00, 18.91it/s]\n",
      "Generating masks: 100%|██████████| 480/480 [00:25<00:00, 18.94it/s]\n",
      "Generating masks: 100%|██████████| 480/480 [00:25<00:00, 19.06it/s]\n",
      "Generating masks: 100%|██████████| 480/480 [00:25<00:00, 19.06it/s]\n",
      "Generating masks: 100%|██████████| 480/480 [00:25<00:00, 19.03it/s]\n",
      "Generating masks: 100%|██████████| 480/480 [00:25<00:00, 19.03it/s]\n",
      "Generating masks: 100%|██████████| 480/480 [00:25<00:00, 19.10it/s]\n",
      "Generating masks: 100%|██████████| 480/480 [00:25<00:00, 18.94it/s]\n",
      "Generating masks: 100%|██████████| 480/480 [00:25<00:00, 18.89it/s]\n",
      "Generating masks: 100%|██████████| 480/480 [00:25<00:00, 18.52it/s]\n",
      "Generating masks: 100%|██████████| 480/480 [00:25<00:00, 18.73it/s]\n",
      "Generating masks: 100%|██████████| 480/480 [00:25<00:00, 18.80it/s]\n",
      "Generating masks: 100%|██████████| 480/480 [00:25<00:00, 19.08it/s]\n",
      "Generating masks: 100%|██████████| 480/480 [00:25<00:00, 19.03it/s]\n",
      "Generating masks: 100%|██████████| 480/480 [00:25<00:00, 18.67it/s]\n",
      "Generating masks: 100%|██████████| 128/128 [00:08<00:00, 14.63it/s]\n"
     ]
    },
    {
     "name": "stdout",
     "output_type": "stream",
     "text": [
      "generating heatmap #1...\n"
     ]
    },
    {
     "name": "stderr",
     "output_type": "stream",
     "text": [
      "Generating masks: 100%|██████████| 480/480 [00:25<00:00, 18.72it/s]\n",
      "Generating masks: 100%|██████████| 480/480 [00:25<00:00, 18.93it/s]\n",
      "Generating masks: 100%|██████████| 480/480 [00:25<00:00, 18.84it/s]\n",
      "Generating masks: 100%|██████████| 480/480 [00:25<00:00, 18.95it/s]\n",
      "Generating masks: 100%|██████████| 480/480 [00:25<00:00, 18.83it/s]\n",
      "Generating masks: 100%|██████████| 480/480 [00:25<00:00, 18.86it/s]\n",
      "Generating masks: 100%|██████████| 480/480 [00:25<00:00, 19.07it/s]\n",
      "Generating masks: 100%|██████████| 480/480 [00:25<00:00, 19.04it/s]\n",
      "Generating masks: 100%|██████████| 480/480 [00:25<00:00, 18.96it/s]\n",
      "Generating masks: 100%|██████████| 480/480 [00:25<00:00, 19.04it/s]\n",
      "Generating masks: 100%|██████████| 480/480 [00:25<00:00, 18.99it/s]\n",
      "Generating masks: 100%|██████████| 480/480 [00:25<00:00, 18.93it/s]\n",
      "Generating masks: 100%|██████████| 480/480 [00:25<00:00, 18.63it/s]\n",
      "Generating masks: 100%|██████████| 480/480 [00:25<00:00, 18.99it/s]\n",
      "Generating masks: 100%|██████████| 480/480 [00:25<00:00, 18.83it/s]\n",
      "Generating masks: 100%|██████████| 480/480 [00:25<00:00, 18.95it/s]\n",
      "Generating masks: 100%|██████████| 480/480 [00:25<00:00, 18.95it/s]\n",
      "Generating masks: 100%|██████████| 480/480 [00:25<00:00, 18.96it/s]\n",
      "Generating masks: 100%|██████████| 480/480 [00:25<00:00, 19.03it/s]\n",
      "Generating masks: 100%|██████████| 480/480 [00:25<00:00, 18.86it/s]\n",
      "Generating masks: 100%|██████████| 480/480 [00:25<00:00, 18.95it/s]\n",
      "Generating masks: 100%|██████████| 480/480 [00:25<00:00, 18.83it/s]\n",
      "Generating masks: 100%|██████████| 480/480 [00:25<00:00, 18.95it/s]\n",
      "Generating masks: 100%|██████████| 480/480 [00:25<00:00, 18.90it/s]\n",
      "Generating masks: 100%|██████████| 480/480 [00:25<00:00, 19.13it/s]\n",
      "Generating masks: 100%|██████████| 480/480 [00:25<00:00, 18.80it/s]\n",
      "Generating masks: 100%|██████████| 480/480 [00:25<00:00, 18.89it/s]\n",
      "Generating masks: 100%|██████████| 480/480 [00:25<00:00, 18.92it/s]\n",
      "Generating masks: 100%|██████████| 480/480 [00:25<00:00, 18.84it/s]\n",
      "Generating masks: 100%|██████████| 480/480 [00:25<00:00, 18.75it/s]\n",
      "Generating masks: 100%|██████████| 480/480 [00:25<00:00, 18.88it/s]\n",
      "Generating masks: 100%|██████████| 480/480 [00:25<00:00, 18.91it/s]\n",
      "Generating masks: 100%|██████████| 480/480 [00:25<00:00, 18.86it/s]\n",
      "Generating masks: 100%|██████████| 480/480 [00:25<00:00, 18.76it/s]\n",
      "Generating masks: 100%|██████████| 480/480 [00:25<00:00, 18.89it/s]\n",
      "Generating masks: 100%|██████████| 480/480 [00:25<00:00, 18.76it/s]\n",
      "Generating masks: 100%|██████████| 480/480 [00:25<00:00, 18.94it/s]\n",
      "Generating masks: 100%|██████████| 480/480 [00:25<00:00, 18.85it/s]\n",
      "Generating masks: 100%|██████████| 480/480 [00:25<00:00, 18.96it/s]\n",
      "Generating masks: 100%|██████████| 480/480 [00:25<00:00, 18.71it/s]\n",
      "Generating masks: 100%|██████████| 480/480 [00:25<00:00, 18.76it/s]\n",
      "Generating masks: 100%|██████████| 480/480 [00:25<00:00, 18.93it/s]\n",
      "Generating masks: 100%|██████████| 480/480 [00:25<00:00, 18.89it/s]\n",
      "Generating masks: 100%|██████████| 480/480 [00:25<00:00, 18.82it/s]\n",
      "Generating masks: 100%|██████████| 480/480 [00:25<00:00, 18.81it/s]\n",
      "Generating masks: 100%|██████████| 480/480 [00:25<00:00, 18.79it/s]\n",
      "Generating masks: 100%|██████████| 480/480 [00:25<00:00, 18.83it/s]\n",
      "Generating masks: 100%|██████████| 480/480 [00:25<00:00, 18.78it/s]\n",
      "Generating masks: 100%|██████████| 480/480 [00:25<00:00, 18.90it/s]\n",
      "Generating masks: 100%|██████████| 480/480 [00:25<00:00, 18.86it/s]\n",
      "Generating masks: 100%|██████████| 480/480 [00:25<00:00, 18.95it/s]\n",
      "Generating masks: 100%|██████████| 480/480 [00:25<00:00, 18.73it/s]\n",
      "Generating masks: 100%|██████████| 480/480 [00:25<00:00, 18.79it/s]\n",
      "Generating masks: 100%|██████████| 480/480 [00:25<00:00, 18.77it/s]\n",
      "Generating masks: 100%|██████████| 480/480 [00:25<00:00, 18.82it/s]\n",
      "Generating masks: 100%|██████████| 480/480 [00:25<00:00, 18.65it/s]\n",
      "Generating masks: 100%|██████████| 480/480 [00:25<00:00, 18.69it/s]\n",
      "Generating masks: 100%|██████████| 480/480 [00:25<00:00, 18.81it/s]\n",
      "Generating masks: 100%|██████████| 480/480 [00:25<00:00, 18.68it/s]\n",
      "Generating masks: 100%|██████████| 480/480 [00:25<00:00, 18.66it/s]\n",
      "Generating masks: 100%|██████████| 480/480 [00:25<00:00, 18.77it/s]\n",
      "Generating masks: 100%|██████████| 480/480 [00:25<00:00, 18.86it/s]\n",
      "Generating masks: 100%|██████████| 480/480 [00:25<00:00, 18.86it/s]\n",
      "Generating masks: 100%|██████████| 480/480 [00:25<00:00, 18.81it/s]\n",
      "Generating masks: 100%|██████████| 480/480 [00:25<00:00, 18.83it/s]\n",
      "Generating masks: 100%|██████████| 480/480 [00:25<00:00, 18.77it/s]\n",
      "Generating masks: 100%|██████████| 480/480 [00:25<00:00, 18.79it/s]\n",
      "Generating masks: 100%|██████████| 480/480 [00:25<00:00, 18.66it/s]\n",
      "Generating masks: 100%|██████████| 128/128 [00:09<00:00, 14.22it/s]\n",
      "Generating masks:   0%|          | 0/480 [00:00<?, ?it/s]"
     ]
    },
    {
     "name": "stdout",
     "output_type": "stream",
     "text": [
      "generating heatmap #2...\n"
     ]
    },
    {
     "name": "stderr",
     "output_type": "stream",
     "text": [
      "Generating masks: 100%|██████████| 480/480 [00:25<00:00, 18.61it/s]\n",
      "Generating masks: 100%|██████████| 480/480 [00:25<00:00, 18.72it/s]\n",
      "Generating masks: 100%|██████████| 480/480 [00:25<00:00, 18.67it/s]\n",
      "Generating masks: 100%|██████████| 480/480 [00:25<00:00, 18.64it/s]\n",
      "Generating masks: 100%|██████████| 480/480 [00:25<00:00, 18.53it/s]\n",
      "Generating masks: 100%|██████████| 480/480 [00:25<00:00, 18.57it/s]\n",
      "Generating masks: 100%|██████████| 480/480 [00:25<00:00, 18.57it/s]\n",
      "Generating masks: 100%|██████████| 480/480 [00:25<00:00, 18.67it/s]\n",
      "Generating masks: 100%|██████████| 480/480 [00:25<00:00, 18.67it/s]\n",
      "Generating masks: 100%|██████████| 480/480 [00:25<00:00, 18.51it/s]\n",
      "Generating masks: 100%|██████████| 480/480 [00:25<00:00, 18.48it/s]\n",
      "Generating masks: 100%|██████████| 480/480 [00:25<00:00, 18.53it/s]\n",
      "Generating masks: 100%|██████████| 480/480 [00:25<00:00, 18.52it/s]\n",
      "Generating masks: 100%|██████████| 480/480 [00:25<00:00, 18.51it/s]\n",
      "Generating masks: 100%|██████████| 480/480 [00:25<00:00, 18.48it/s]\n",
      "Generating masks: 100%|██████████| 480/480 [00:26<00:00, 18.33it/s]\n",
      "Generating masks: 100%|██████████| 480/480 [00:26<00:00, 17.80it/s]\n",
      "Generating masks: 100%|██████████| 480/480 [00:26<00:00, 18.37it/s]\n",
      "Generating masks: 100%|██████████| 480/480 [00:27<00:00, 17.51it/s]\n",
      "Generating masks: 100%|██████████| 480/480 [00:26<00:00, 18.01it/s]\n",
      "Generating masks: 100%|██████████| 480/480 [00:26<00:00, 18.34it/s]\n",
      "Generating masks: 100%|██████████| 480/480 [00:26<00:00, 18.04it/s]\n",
      "Generating masks: 100%|██████████| 480/480 [00:31<00:00, 15.46it/s]\n",
      "Generating masks: 100%|██████████| 480/480 [00:29<00:00, 16.09it/s]\n",
      "Generating masks: 100%|██████████| 480/480 [00:26<00:00, 18.20it/s]\n",
      "Generating masks: 100%|██████████| 480/480 [00:26<00:00, 18.19it/s]\n",
      "Generating masks: 100%|██████████| 480/480 [00:26<00:00, 18.07it/s]\n",
      "Generating masks: 100%|██████████| 480/480 [00:26<00:00, 18.10it/s]\n",
      "Generating masks: 100%|██████████| 480/480 [00:26<00:00, 17.83it/s]\n",
      "Generating masks: 100%|██████████| 480/480 [00:27<00:00, 17.44it/s]\n",
      "Generating masks: 100%|██████████| 480/480 [00:26<00:00, 18.21it/s]\n",
      "Generating masks: 100%|██████████| 480/480 [00:26<00:00, 18.18it/s]\n",
      "Generating masks: 100%|██████████| 480/480 [00:26<00:00, 18.14it/s]\n",
      "Generating masks: 100%|██████████| 480/480 [00:26<00:00, 17.86it/s]\n",
      "Generating masks: 100%|██████████| 480/480 [00:29<00:00, 16.14it/s]\n",
      "Generating masks: 100%|██████████| 480/480 [00:26<00:00, 17.98it/s]\n",
      "Generating masks: 100%|██████████| 480/480 [00:26<00:00, 18.26it/s]\n",
      "Generating masks: 100%|██████████| 480/480 [00:26<00:00, 18.03it/s]\n",
      "Generating masks: 100%|██████████| 480/480 [00:26<00:00, 18.25it/s]\n",
      "Generating masks: 100%|██████████| 480/480 [00:26<00:00, 18.33it/s]\n",
      "Generating masks: 100%|██████████| 480/480 [00:26<00:00, 18.33it/s]\n",
      "Generating masks: 100%|██████████| 480/480 [00:26<00:00, 18.19it/s]\n",
      "Generating masks: 100%|██████████| 480/480 [00:26<00:00, 18.32it/s]\n",
      "Generating masks: 100%|██████████| 480/480 [00:26<00:00, 18.19it/s]\n",
      "Generating masks: 100%|██████████| 480/480 [00:26<00:00, 18.22it/s]\n",
      "Generating masks: 100%|██████████| 480/480 [00:26<00:00, 18.19it/s]\n",
      "Generating masks: 100%|██████████| 480/480 [00:26<00:00, 18.23it/s]\n",
      "Generating masks: 100%|██████████| 480/480 [00:26<00:00, 18.25it/s]\n",
      "Generating masks: 100%|██████████| 480/480 [00:26<00:00, 18.31it/s]\n",
      "Generating masks: 100%|██████████| 480/480 [00:26<00:00, 18.23it/s]\n",
      "Generating masks: 100%|██████████| 480/480 [00:26<00:00, 18.32it/s]\n",
      "Generating masks: 100%|██████████| 480/480 [00:26<00:00, 18.22it/s]\n",
      "Generating masks: 100%|██████████| 480/480 [00:25<00:00, 18.60it/s]\n",
      "Generating masks: 100%|██████████| 480/480 [00:25<00:00, 18.47it/s]\n",
      "Generating masks: 100%|██████████| 480/480 [00:26<00:00, 18.42it/s]\n",
      "Generating masks: 100%|██████████| 480/480 [00:26<00:00, 18.44it/s]\n",
      "Generating masks: 100%|██████████| 480/480 [00:26<00:00, 18.38it/s]\n",
      "Generating masks: 100%|██████████| 480/480 [00:26<00:00, 18.33it/s]\n",
      "Generating masks: 100%|██████████| 480/480 [00:25<00:00, 18.47it/s]\n",
      "Generating masks: 100%|██████████| 480/480 [00:26<00:00, 18.33it/s]\n",
      "Generating masks: 100%|██████████| 480/480 [00:26<00:00, 18.29it/s]\n",
      "Generating masks: 100%|██████████| 480/480 [00:26<00:00, 18.40it/s]\n",
      "Generating masks: 100%|██████████| 480/480 [00:26<00:00, 18.45it/s]\n",
      "Generating masks: 100%|██████████| 480/480 [00:25<00:00, 18.47it/s]\n",
      "Generating masks: 100%|██████████| 480/480 [00:26<00:00, 18.41it/s]\n",
      "Generating masks: 100%|██████████| 480/480 [00:26<00:00, 18.33it/s]\n",
      "Generating masks: 100%|██████████| 480/480 [00:26<00:00, 18.21it/s]\n",
      "Generating masks: 100%|██████████| 480/480 [00:26<00:00, 18.26it/s]\n",
      "Generating masks: 100%|██████████| 128/128 [00:09<00:00, 13.29it/s]\n",
      "Generating masks:   0%|          | 0/480 [00:00<?, ?it/s]"
     ]
    },
    {
     "name": "stdout",
     "output_type": "stream",
     "text": [
      "generating heatmap #3...\n"
     ]
    },
    {
     "name": "stderr",
     "output_type": "stream",
     "text": [
      "Generating masks: 100%|██████████| 480/480 [00:26<00:00, 18.39it/s]\n",
      "Generating masks: 100%|██████████| 480/480 [00:26<00:00, 18.29it/s]\n",
      "Generating masks: 100%|██████████| 480/480 [00:26<00:00, 18.28it/s]\n",
      "Generating masks: 100%|██████████| 480/480 [00:26<00:00, 18.35it/s]\n",
      "Generating masks: 100%|██████████| 480/480 [00:26<00:00, 18.11it/s]\n",
      "Generating masks: 100%|██████████| 480/480 [00:26<00:00, 18.32it/s]\n",
      "Generating masks: 100%|██████████| 480/480 [00:26<00:00, 18.37it/s]\n",
      "Generating masks: 100%|██████████| 480/480 [00:26<00:00, 18.28it/s]\n",
      "Generating masks: 100%|██████████| 480/480 [00:26<00:00, 18.24it/s]\n",
      "Generating masks: 100%|██████████| 480/480 [00:26<00:00, 18.33it/s]\n",
      "Generating masks: 100%|██████████| 480/480 [00:26<00:00, 18.29it/s]\n",
      "Generating masks: 100%|██████████| 480/480 [00:26<00:00, 18.34it/s]\n",
      "Generating masks: 100%|██████████| 480/480 [00:26<00:00, 18.31it/s]\n",
      "Generating masks: 100%|██████████| 480/480 [00:26<00:00, 18.10it/s]\n",
      "Generating masks: 100%|██████████| 480/480 [00:26<00:00, 18.14it/s]\n",
      "Generating masks: 100%|██████████| 480/480 [00:26<00:00, 18.30it/s]\n",
      "Generating masks: 100%|██████████| 480/480 [00:26<00:00, 18.21it/s]\n",
      "Generating masks: 100%|██████████| 480/480 [00:26<00:00, 18.23it/s]\n",
      "Generating masks: 100%|██████████| 480/480 [00:26<00:00, 18.18it/s]\n",
      "Generating masks: 100%|██████████| 480/480 [00:26<00:00, 18.22it/s]\n",
      "Generating masks: 100%|██████████| 480/480 [00:26<00:00, 18.21it/s]\n",
      "Generating masks: 100%|██████████| 480/480 [00:26<00:00, 18.11it/s]\n",
      "Generating masks: 100%|██████████| 480/480 [00:26<00:00, 18.13it/s]\n",
      "Generating masks: 100%|██████████| 480/480 [00:26<00:00, 18.11it/s]\n",
      "Generating masks: 100%|██████████| 480/480 [00:26<00:00, 18.12it/s]\n",
      "Generating masks: 100%|██████████| 480/480 [00:26<00:00, 18.02it/s]\n",
      "Generating masks: 100%|██████████| 480/480 [00:26<00:00, 18.08it/s]\n",
      "Generating masks: 100%|██████████| 480/480 [00:26<00:00, 17.99it/s]\n",
      "Generating masks: 100%|██████████| 480/480 [00:26<00:00, 18.06it/s]\n",
      "Generating masks: 100%|██████████| 480/480 [00:26<00:00, 18.02it/s]\n",
      "Generating masks: 100%|██████████| 480/480 [00:26<00:00, 18.00it/s]\n",
      "Generating masks: 100%|██████████| 480/480 [00:26<00:00, 18.05it/s]\n",
      "Generating masks: 100%|██████████| 480/480 [00:26<00:00, 18.14it/s]\n",
      "Generating masks: 100%|██████████| 480/480 [00:26<00:00, 18.14it/s]\n",
      "Generating masks: 100%|██████████| 480/480 [00:26<00:00, 18.11it/s]\n",
      "Generating masks: 100%|██████████| 480/480 [00:26<00:00, 18.14it/s]\n",
      "Generating masks: 100%|██████████| 480/480 [00:26<00:00, 18.05it/s]\n",
      "Generating masks: 100%|██████████| 480/480 [00:26<00:00, 18.11it/s]\n",
      "Generating masks: 100%|██████████| 480/480 [00:26<00:00, 17.94it/s]\n",
      "Generating masks: 100%|██████████| 480/480 [00:26<00:00, 18.03it/s]\n",
      "Generating masks: 100%|██████████| 480/480 [00:26<00:00, 17.83it/s]\n",
      "Generating masks: 100%|██████████| 480/480 [00:26<00:00, 17.87it/s]\n",
      "Generating masks: 100%|██████████| 480/480 [00:26<00:00, 17.95it/s]\n",
      "Generating masks: 100%|██████████| 480/480 [00:26<00:00, 17.81it/s]\n",
      "Generating masks: 100%|██████████| 480/480 [00:26<00:00, 18.01it/s]\n",
      "Generating masks: 100%|██████████| 480/480 [00:26<00:00, 17.96it/s]\n",
      "Generating masks: 100%|██████████| 480/480 [00:26<00:00, 17.95it/s]\n",
      "Generating masks: 100%|██████████| 480/480 [00:26<00:00, 18.03it/s]\n",
      "Generating masks: 100%|██████████| 480/480 [00:26<00:00, 17.94it/s]\n",
      "Generating masks: 100%|██████████| 480/480 [00:26<00:00, 17.94it/s]\n",
      "Generating masks: 100%|██████████| 480/480 [00:26<00:00, 17.92it/s]\n",
      "Generating masks: 100%|██████████| 480/480 [00:26<00:00, 18.04it/s]\n",
      "Generating masks: 100%|██████████| 480/480 [00:26<00:00, 17.91it/s]\n",
      "Generating masks: 100%|██████████| 480/480 [00:26<00:00, 17.99it/s]\n",
      "Generating masks: 100%|██████████| 480/480 [00:26<00:00, 17.91it/s]\n",
      "Generating masks: 100%|██████████| 480/480 [00:26<00:00, 17.92it/s]\n",
      "Generating masks: 100%|██████████| 480/480 [00:27<00:00, 17.52it/s]\n",
      "Generating masks: 100%|██████████| 480/480 [00:26<00:00, 17.85it/s]\n",
      "Generating masks: 100%|██████████| 480/480 [00:27<00:00, 17.63it/s]\n",
      "Generating masks: 100%|██████████| 480/480 [00:27<00:00, 17.74it/s]\n",
      "Generating masks: 100%|██████████| 480/480 [00:26<00:00, 17.78it/s]\n",
      "Generating masks: 100%|██████████| 480/480 [00:34<00:00, 14.01it/s]\n",
      "Generating masks: 100%|██████████| 480/480 [00:30<00:00, 15.62it/s]\n",
      "Generating masks: 100%|██████████| 480/480 [00:29<00:00, 16.07it/s]\n",
      "Generating masks: 100%|██████████| 480/480 [00:27<00:00, 17.28it/s]\n",
      "Generating masks: 100%|██████████| 480/480 [00:27<00:00, 17.50it/s]\n",
      "Generating masks: 100%|██████████| 480/480 [00:27<00:00, 17.53it/s]\n",
      "Generating masks: 100%|██████████| 480/480 [00:27<00:00, 17.43it/s]\n",
      "Generating masks: 100%|██████████| 128/128 [00:10<00:00, 12.21it/s]\n",
      "Generating masks:   0%|          | 0/480 [00:00<?, ?it/s]"
     ]
    },
    {
     "name": "stdout",
     "output_type": "stream",
     "text": [
      "generating heatmap #4...\n"
     ]
    },
    {
     "name": "stderr",
     "output_type": "stream",
     "text": [
      "Generating masks: 100%|██████████| 480/480 [00:27<00:00, 17.70it/s]\n",
      "Generating masks: 100%|██████████| 480/480 [00:27<00:00, 17.64it/s]\n",
      "Generating masks: 100%|██████████| 480/480 [00:27<00:00, 17.72it/s]\n",
      "Generating masks: 100%|██████████| 480/480 [00:27<00:00, 17.77it/s]\n",
      "Generating masks: 100%|██████████| 480/480 [00:27<00:00, 17.73it/s]\n",
      "Generating masks: 100%|██████████| 480/480 [00:26<00:00, 17.86it/s]\n",
      "Generating masks: 100%|██████████| 480/480 [00:27<00:00, 17.75it/s]\n",
      "Generating masks: 100%|██████████| 480/480 [00:27<00:00, 17.55it/s]\n",
      "Generating masks: 100%|██████████| 480/480 [00:27<00:00, 17.63it/s]\n",
      "Generating masks: 100%|██████████| 480/480 [00:27<00:00, 17.66it/s]\n",
      "Generating masks: 100%|██████████| 480/480 [00:27<00:00, 17.55it/s]\n",
      "Generating masks: 100%|██████████| 480/480 [00:26<00:00, 17.92it/s]\n",
      "Generating masks: 100%|██████████| 480/480 [00:27<00:00, 17.58it/s]\n",
      "Generating masks: 100%|██████████| 480/480 [00:27<00:00, 17.58it/s]\n",
      "Generating masks: 100%|██████████| 480/480 [00:27<00:00, 17.53it/s]\n",
      "Generating masks: 100%|██████████| 480/480 [00:27<00:00, 17.63it/s]\n",
      "Generating masks: 100%|██████████| 480/480 [00:27<00:00, 17.54it/s]\n",
      "Generating masks: 100%|██████████| 480/480 [00:27<00:00, 17.78it/s]\n",
      "Generating masks: 100%|██████████| 480/480 [00:27<00:00, 17.68it/s]\n",
      "Generating masks: 100%|██████████| 480/480 [00:27<00:00, 17.59it/s]\n",
      "Generating masks: 100%|██████████| 480/480 [00:27<00:00, 17.57it/s]\n",
      "Generating masks: 100%|██████████| 480/480 [00:27<00:00, 17.56it/s]\n",
      "Generating masks: 100%|██████████| 480/480 [00:27<00:00, 17.59it/s]\n",
      "Generating masks: 100%|██████████| 480/480 [00:27<00:00, 17.51it/s]\n",
      "Generating masks: 100%|██████████| 480/480 [00:27<00:00, 17.57it/s]\n",
      "Generating masks: 100%|██████████| 480/480 [00:27<00:00, 17.42it/s]\n",
      "Generating masks: 100%|██████████| 480/480 [00:27<00:00, 17.52it/s]\n",
      "Generating masks: 100%|██████████| 480/480 [00:27<00:00, 17.57it/s]\n",
      "Generating masks: 100%|██████████| 480/480 [00:27<00:00, 17.44it/s]\n",
      "Generating masks: 100%|██████████| 480/480 [00:27<00:00, 17.74it/s]\n",
      "Generating masks: 100%|██████████| 480/480 [00:27<00:00, 17.54it/s]\n",
      "Generating masks: 100%|██████████| 480/480 [00:27<00:00, 17.45it/s]\n",
      "Generating masks: 100%|██████████| 480/480 [00:27<00:00, 17.53it/s]\n",
      "Generating masks: 100%|██████████| 480/480 [00:27<00:00, 17.56it/s]\n",
      "Generating masks: 100%|██████████| 480/480 [00:27<00:00, 17.44it/s]\n",
      "Generating masks: 100%|██████████| 480/480 [00:27<00:00, 17.68it/s]\n",
      "Generating masks: 100%|██████████| 480/480 [00:27<00:00, 17.57it/s]\n",
      "Generating masks: 100%|██████████| 480/480 [00:27<00:00, 17.53it/s]\n",
      "Generating masks: 100%|██████████| 480/480 [00:27<00:00, 17.53it/s]\n",
      "Generating masks: 100%|██████████| 480/480 [00:27<00:00, 17.44it/s]\n",
      "Generating masks: 100%|██████████| 480/480 [00:27<00:00, 17.45it/s]\n",
      "Generating masks: 100%|██████████| 480/480 [00:27<00:00, 17.62it/s]\n",
      "Generating masks: 100%|██████████| 480/480 [00:27<00:00, 17.53it/s]\n",
      "Generating masks: 100%|██████████| 480/480 [00:27<00:00, 17.42it/s]\n",
      "Generating masks: 100%|██████████| 480/480 [00:27<00:00, 17.48it/s]\n",
      "Generating masks: 100%|██████████| 480/480 [00:27<00:00, 17.40it/s]\n",
      "Generating masks: 100%|██████████| 480/480 [00:27<00:00, 17.38it/s]\n",
      "Generating masks: 100%|██████████| 480/480 [00:27<00:00, 17.56it/s]\n",
      "Generating masks: 100%|██████████| 480/480 [00:27<00:00, 17.28it/s]\n",
      "Generating masks: 100%|██████████| 480/480 [00:27<00:00, 17.55it/s]\n",
      "Generating masks: 100%|██████████| 480/480 [00:27<00:00, 17.26it/s]\n",
      "Generating masks: 100%|██████████| 480/480 [00:27<00:00, 17.38it/s]\n",
      "Generating masks: 100%|██████████| 480/480 [00:27<00:00, 17.28it/s]\n",
      "Generating masks: 100%|██████████| 480/480 [00:27<00:00, 17.62it/s]\n",
      "Generating masks: 100%|██████████| 480/480 [00:27<00:00, 17.46it/s]\n",
      "Generating masks: 100%|██████████| 480/480 [00:27<00:00, 17.49it/s]\n",
      "Generating masks: 100%|██████████| 480/480 [00:27<00:00, 17.40it/s]\n",
      "Generating masks: 100%|██████████| 480/480 [00:27<00:00, 17.30it/s]\n",
      "Generating masks: 100%|██████████| 480/480 [00:27<00:00, 17.24it/s]\n",
      "Generating masks: 100%|██████████| 480/480 [00:27<00:00, 17.46it/s]\n",
      "Generating masks: 100%|██████████| 480/480 [00:27<00:00, 17.37it/s]\n",
      "Generating masks: 100%|██████████| 480/480 [00:27<00:00, 17.31it/s]\n",
      "Generating masks: 100%|██████████| 480/480 [00:27<00:00, 17.29it/s]\n",
      "Generating masks: 100%|██████████| 480/480 [00:27<00:00, 17.39it/s]\n",
      "Generating masks: 100%|██████████| 480/480 [00:28<00:00, 17.14it/s]\n",
      "Generating masks: 100%|██████████| 480/480 [00:27<00:00, 17.35it/s]\n",
      "Generating masks: 100%|██████████| 480/480 [00:27<00:00, 17.32it/s]\n",
      "Generating masks: 100%|██████████| 480/480 [00:27<00:00, 17.31it/s]\n",
      "Generating masks: 100%|██████████| 128/128 [00:11<00:00, 11.62it/s]\n"
     ]
    },
    {
     "name": "stdout",
     "output_type": "stream",
     "text": [
      "result for 32768 masks (t: 3:49:55)\n",
      "\tmean std: 0.0012085773665048824\n",
      "\tmin std: 3.1672873658649065e-05\n",
      "\tmax std: 0.003137882366710504\n",
      "\tstd std: 0.00043409690648415545\n",
      "saving std_heatmaps to ../../../../tmp\\risei-stability\\1617028970_m32768.npy ...\n"
     ]
    }
   ],
   "source": [
    "experiments = 5\n",
    "masks_counts = [32768]\n",
    "\n",
    "run(experiments, masks_counts)"
   ]
  }
 ],
 "metadata": {
  "kernelspec": {
   "display_name": "Python 3",
   "language": "python",
   "name": "python3"
  },
  "language_info": {
   "codemirror_mode": {
    "name": "ipython",
    "version": 3
   },
   "file_extension": ".py",
   "mimetype": "text/x-python",
   "name": "python",
   "nbconvert_exporter": "python",
   "pygments_lexer": "ipython3",
   "version": "3.7.9"
  }
 },
 "nbformat": 4,
 "nbformat_minor": 1
}
